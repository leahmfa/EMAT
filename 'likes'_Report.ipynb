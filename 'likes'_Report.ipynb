{
 "cells": [
  {
   "cell_type": "markdown",
   "id": "d4df8256",
   "metadata": {},
   "source": [
    "# 'likes' Report by Leah Fitzgerald "
   ]
  },
  {
   "cell_type": "code",
   "execution_count": 95,
   "id": "aa643339",
   "metadata": {},
   "outputs": [],
   "source": [
    "import pandas as pd\n",
    "import json\n",
    "import matplotlib as plt"
   ]
  },
  {
   "cell_type": "code",
   "execution_count": 126,
   "id": "19e493cb",
   "metadata": {},
   "outputs": [],
   "source": [
    "with open(r\"C:\\Users\\leahf\\OneDrive\\Desktop\\le.ah_20210902 (1)\\likes\\liked_posts.json\") as p:\n",
    "    dat = json.load(p)"
   ]
  },
  {
   "cell_type": "code",
   "execution_count": 127,
   "id": "95b48a4c",
   "metadata": {},
   "outputs": [
    {
     "data": {
      "text/plain": [
       "dict_keys(['likes_media_likes'])"
      ]
     },
     "execution_count": 127,
     "metadata": {},
     "output_type": "execute_result"
    }
   ],
   "source": [
    "dat.keys()"
   ]
  },
  {
   "cell_type": "code",
   "execution_count": 128,
   "id": "82e90a87",
   "metadata": {},
   "outputs": [
    {
     "data": {
      "text/plain": [
       "[{'title': 'chezzwezz',\n",
       "  'media_list_data': [],\n",
       "  'string_list_data': [{'href': 'https://www.instagram.com/p/QmpWWGDWLZKuoy2M8D1mj5d7xiKPtZHMP_a_c0/',\n",
       "    'value': 'ð\\x9f\\x91\\x8d',\n",
       "    'timestamp': 1349910284}]},\n",
       " {'title': 'queen_of_everaythang',\n",
       "  'media_list_data': [],\n",
       "  'string_list_data': [{'href': 'https://www.instagram.com/p/QS_WPmCswE/',\n",
       "    'value': 'ð\\x9f\\x91\\x8d',\n",
       "    'timestamp': 1349222403}]},\n",
       " {'title': 'queen_of_everaythang',\n",
       "  'media_list_data': [],\n",
       "  'string_list_data': [{'href': 'https://www.instagram.com/p/QTFXfNis0V/',\n",
       "    'value': 'ð\\x9f\\x91\\x8d',\n",
       "    'timestamp': 1349221988}]},\n",
       " {'title': 'queen_of_everaythang',\n",
       "  'media_list_data': [],\n",
       "  'string_list_data': [{'href': 'https://www.instagram.com/p/QJD5b6iszv/',\n",
       "    'value': 'ð\\x9f\\x91\\x8d',\n",
       "    'timestamp': 1348884067}]},\n",
       " {'title': 'xxquotes14xx',\n",
       "  'media_list_data': [],\n",
       "  'string_list_data': [{'href': 'https://www.instagram.com/p/PnqhuTtBOs/',\n",
       "    'value': 'ð\\x9f\\x91\\x8d',\n",
       "    'timestamp': 1347767079}]}]"
      ]
     },
     "execution_count": 128,
     "metadata": {},
     "output_type": "execute_result"
    }
   ],
   "source": [
    "dat['likes_media_likes'] [0:5]"
   ]
  },
  {
   "cell_type": "code",
   "execution_count": 130,
   "id": "6091e888",
   "metadata": {},
   "outputs": [],
   "source": [
    "df_likes = pd.DataFrame(dat['likes_media_likes'][0:5])"
   ]
  },
  {
   "cell_type": "code",
   "execution_count": 131,
   "id": "f7b6e467",
   "metadata": {},
   "outputs": [
    {
     "data": {
      "text/html": [
       "<div>\n",
       "<style scoped>\n",
       "    .dataframe tbody tr th:only-of-type {\n",
       "        vertical-align: middle;\n",
       "    }\n",
       "\n",
       "    .dataframe tbody tr th {\n",
       "        vertical-align: top;\n",
       "    }\n",
       "\n",
       "    .dataframe thead th {\n",
       "        text-align: right;\n",
       "    }\n",
       "</style>\n",
       "<table border=\"1\" class=\"dataframe\">\n",
       "  <thead>\n",
       "    <tr style=\"text-align: right;\">\n",
       "      <th></th>\n",
       "      <th>title</th>\n",
       "      <th>media_list_data</th>\n",
       "      <th>string_list_data</th>\n",
       "    </tr>\n",
       "  </thead>\n",
       "  <tbody>\n",
       "    <tr>\n",
       "      <th>0</th>\n",
       "      <td>chezzwezz</td>\n",
       "      <td>[]</td>\n",
       "      <td>[{'href': 'https://www.instagram.com/p/QmpWWGD...</td>\n",
       "    </tr>\n",
       "    <tr>\n",
       "      <th>1</th>\n",
       "      <td>queen_of_everaythang</td>\n",
       "      <td>[]</td>\n",
       "      <td>[{'href': 'https://www.instagram.com/p/QS_WPmC...</td>\n",
       "    </tr>\n",
       "    <tr>\n",
       "      <th>2</th>\n",
       "      <td>queen_of_everaythang</td>\n",
       "      <td>[]</td>\n",
       "      <td>[{'href': 'https://www.instagram.com/p/QTFXfNi...</td>\n",
       "    </tr>\n",
       "    <tr>\n",
       "      <th>3</th>\n",
       "      <td>queen_of_everaythang</td>\n",
       "      <td>[]</td>\n",
       "      <td>[{'href': 'https://www.instagram.com/p/QJD5b6i...</td>\n",
       "    </tr>\n",
       "    <tr>\n",
       "      <th>4</th>\n",
       "      <td>xxquotes14xx</td>\n",
       "      <td>[]</td>\n",
       "      <td>[{'href': 'https://www.instagram.com/p/PnqhuTt...</td>\n",
       "    </tr>\n",
       "  </tbody>\n",
       "</table>\n",
       "</div>"
      ],
      "text/plain": [
       "                  title media_list_data  \\\n",
       "0             chezzwezz              []   \n",
       "1  queen_of_everaythang              []   \n",
       "2  queen_of_everaythang              []   \n",
       "3  queen_of_everaythang              []   \n",
       "4          xxquotes14xx              []   \n",
       "\n",
       "                                    string_list_data  \n",
       "0  [{'href': 'https://www.instagram.com/p/QmpWWGD...  \n",
       "1  [{'href': 'https://www.instagram.com/p/QS_WPmC...  \n",
       "2  [{'href': 'https://www.instagram.com/p/QTFXfNi...  \n",
       "3  [{'href': 'https://www.instagram.com/p/QJD5b6i...  \n",
       "4  [{'href': 'https://www.instagram.com/p/PnqhuTt...  "
      ]
     },
     "execution_count": 131,
     "metadata": {},
     "output_type": "execute_result"
    }
   ],
   "source": [
    "df_likes"
   ]
  },
  {
   "cell_type": "code",
   "execution_count": 132,
   "id": "f3198854",
   "metadata": {},
   "outputs": [],
   "source": [
    "days = [x['string_list_data'] for x in dat['likes_media_likes'][0:5]]"
   ]
  },
  {
   "cell_type": "code",
   "execution_count": 133,
   "id": "516d6534",
   "metadata": {},
   "outputs": [
    {
     "data": {
      "text/plain": [
       "[[{'href': 'https://www.instagram.com/p/QmpWWGDWLZKuoy2M8D1mj5d7xiKPtZHMP_a_c0/',\n",
       "   'value': 'ð\\x9f\\x91\\x8d',\n",
       "   'timestamp': 1349910284}],\n",
       " [{'href': 'https://www.instagram.com/p/QS_WPmCswE/',\n",
       "   'value': 'ð\\x9f\\x91\\x8d',\n",
       "   'timestamp': 1349222403}],\n",
       " [{'href': 'https://www.instagram.com/p/QTFXfNis0V/',\n",
       "   'value': 'ð\\x9f\\x91\\x8d',\n",
       "   'timestamp': 1349221988}],\n",
       " [{'href': 'https://www.instagram.com/p/QJD5b6iszv/',\n",
       "   'value': 'ð\\x9f\\x91\\x8d',\n",
       "   'timestamp': 1348884067}],\n",
       " [{'href': 'https://www.instagram.com/p/PnqhuTtBOs/',\n",
       "   'value': 'ð\\x9f\\x91\\x8d',\n",
       "   'timestamp': 1347767079}]]"
      ]
     },
     "execution_count": 133,
     "metadata": {},
     "output_type": "execute_result"
    }
   ],
   "source": [
    "days"
   ]
  },
  {
   "cell_type": "code",
   "execution_count": 106,
   "id": "aa00bb9e",
   "metadata": {},
   "outputs": [
    {
     "data": {
      "text/plain": [
       "list"
      ]
     },
     "execution_count": 106,
     "metadata": {},
     "output_type": "execute_result"
    }
   ],
   "source": [
    "type(dat['likes_media_likes'])"
   ]
  },
  {
   "cell_type": "code",
   "execution_count": 110,
   "id": "f39c50ee",
   "metadata": {},
   "outputs": [
    {
     "data": {
      "text/plain": [
       "{'title': 'teenager_posts_tumblr',\n",
       " 'media_list_data': [],\n",
       " 'string_list_data': [{'href': 'https://www.instagram.com/p/PBJ69WLCHd/',\n",
       "   'value': 'ð\\x9f\\x91\\x8d',\n",
       "   'timestamp': 1346471218}]}"
      ]
     },
     "execution_count": 110,
     "metadata": {},
     "output_type": "execute_result"
    }
   ],
   "source": [
    "dat['likes_media_likes'][7]"
   ]
  },
  {
   "cell_type": "code",
   "execution_count": 134,
   "id": "0752c432",
   "metadata": {},
   "outputs": [],
   "source": [
    "time = [p[0] for p in days] [0:5]"
   ]
  },
  {
   "cell_type": "code",
   "execution_count": 135,
   "id": "6d5971c1",
   "metadata": {},
   "outputs": [
    {
     "data": {
      "text/plain": [
       "[{'href': 'https://www.instagram.com/p/QmpWWGDWLZKuoy2M8D1mj5d7xiKPtZHMP_a_c0/',\n",
       "  'value': 'ð\\x9f\\x91\\x8d',\n",
       "  'timestamp': 1349910284},\n",
       " {'href': 'https://www.instagram.com/p/QS_WPmCswE/',\n",
       "  'value': 'ð\\x9f\\x91\\x8d',\n",
       "  'timestamp': 1349222403},\n",
       " {'href': 'https://www.instagram.com/p/QTFXfNis0V/',\n",
       "  'value': 'ð\\x9f\\x91\\x8d',\n",
       "  'timestamp': 1349221988},\n",
       " {'href': 'https://www.instagram.com/p/QJD5b6iszv/',\n",
       "  'value': 'ð\\x9f\\x91\\x8d',\n",
       "  'timestamp': 1348884067},\n",
       " {'href': 'https://www.instagram.com/p/PnqhuTtBOs/',\n",
       "  'value': 'ð\\x9f\\x91\\x8d',\n",
       "  'timestamp': 1347767079}]"
      ]
     },
     "execution_count": 135,
     "metadata": {},
     "output_type": "execute_result"
    }
   ],
   "source": [
    "time"
   ]
  },
  {
   "cell_type": "code",
   "execution_count": 113,
   "id": "94963e06",
   "metadata": {},
   "outputs": [
    {
     "data": {
      "text/plain": [
       "dict"
      ]
     },
     "execution_count": 113,
     "metadata": {},
     "output_type": "execute_result"
    }
   ],
   "source": [
    "type(time[0])"
   ]
  },
  {
   "cell_type": "code",
   "execution_count": 136,
   "id": "a6cdae11",
   "metadata": {},
   "outputs": [],
   "source": [
    "time = pd.DataFrame(time) [0:5]"
   ]
  },
  {
   "cell_type": "code",
   "execution_count": 137,
   "id": "12ae093b",
   "metadata": {},
   "outputs": [
    {
     "data": {
      "text/html": [
       "<div>\n",
       "<style scoped>\n",
       "    .dataframe tbody tr th:only-of-type {\n",
       "        vertical-align: middle;\n",
       "    }\n",
       "\n",
       "    .dataframe tbody tr th {\n",
       "        vertical-align: top;\n",
       "    }\n",
       "\n",
       "    .dataframe thead th {\n",
       "        text-align: right;\n",
       "    }\n",
       "</style>\n",
       "<table border=\"1\" class=\"dataframe\">\n",
       "  <thead>\n",
       "    <tr style=\"text-align: right;\">\n",
       "      <th></th>\n",
       "      <th>href</th>\n",
       "      <th>value</th>\n",
       "      <th>timestamp</th>\n",
       "    </tr>\n",
       "  </thead>\n",
       "  <tbody>\n",
       "    <tr>\n",
       "      <th>0</th>\n",
       "      <td>https://www.instagram.com/p/QmpWWGDWLZKuoy2M8D...</td>\n",
       "      <td>ð</td>\n",
       "      <td>1349910284</td>\n",
       "    </tr>\n",
       "    <tr>\n",
       "      <th>1</th>\n",
       "      <td>https://www.instagram.com/p/QS_WPmCswE/</td>\n",
       "      <td>ð</td>\n",
       "      <td>1349222403</td>\n",
       "    </tr>\n",
       "    <tr>\n",
       "      <th>2</th>\n",
       "      <td>https://www.instagram.com/p/QTFXfNis0V/</td>\n",
       "      <td>ð</td>\n",
       "      <td>1349221988</td>\n",
       "    </tr>\n",
       "    <tr>\n",
       "      <th>3</th>\n",
       "      <td>https://www.instagram.com/p/QJD5b6iszv/</td>\n",
       "      <td>ð</td>\n",
       "      <td>1348884067</td>\n",
       "    </tr>\n",
       "    <tr>\n",
       "      <th>4</th>\n",
       "      <td>https://www.instagram.com/p/PnqhuTtBOs/</td>\n",
       "      <td>ð</td>\n",
       "      <td>1347767079</td>\n",
       "    </tr>\n",
       "  </tbody>\n",
       "</table>\n",
       "</div>"
      ],
      "text/plain": [
       "                                                href value   timestamp\n",
       "0  https://www.instagram.com/p/QmpWWGDWLZKuoy2M8D...  ð  1349910284\n",
       "1            https://www.instagram.com/p/QS_WPmCswE/  ð  1349222403\n",
       "2            https://www.instagram.com/p/QTFXfNis0V/  ð  1349221988\n",
       "3            https://www.instagram.com/p/QJD5b6iszv/  ð  1348884067\n",
       "4            https://www.instagram.com/p/PnqhuTtBOs/  ð  1347767079"
      ]
     },
     "execution_count": 137,
     "metadata": {},
     "output_type": "execute_result"
    }
   ],
   "source": [
    "time"
   ]
  },
  {
   "cell_type": "code",
   "execution_count": 140,
   "id": "28652987",
   "metadata": {},
   "outputs": [
    {
     "data": {
      "text/html": [
       "<div>\n",
       "<style scoped>\n",
       "    .dataframe tbody tr th:only-of-type {\n",
       "        vertical-align: middle;\n",
       "    }\n",
       "\n",
       "    .dataframe tbody tr th {\n",
       "        vertical-align: top;\n",
       "    }\n",
       "\n",
       "    .dataframe thead th {\n",
       "        text-align: right;\n",
       "    }\n",
       "</style>\n",
       "<table border=\"1\" class=\"dataframe\">\n",
       "  <thead>\n",
       "    <tr style=\"text-align: right;\">\n",
       "      <th></th>\n",
       "      <th>media_list_data</th>\n",
       "      <th>string_list_data</th>\n",
       "    </tr>\n",
       "    <tr>\n",
       "      <th>title</th>\n",
       "      <th></th>\n",
       "      <th></th>\n",
       "    </tr>\n",
       "  </thead>\n",
       "  <tbody>\n",
       "    <tr>\n",
       "      <th>chezzwezz</th>\n",
       "      <td>1</td>\n",
       "      <td>1</td>\n",
       "    </tr>\n",
       "    <tr>\n",
       "      <th>queen_of_everaythang</th>\n",
       "      <td>3</td>\n",
       "      <td>3</td>\n",
       "    </tr>\n",
       "    <tr>\n",
       "      <th>xxquotes14xx</th>\n",
       "      <td>1</td>\n",
       "      <td>1</td>\n",
       "    </tr>\n",
       "  </tbody>\n",
       "</table>\n",
       "</div>"
      ],
      "text/plain": [
       "                      media_list_data  string_list_data\n",
       "title                                                  \n",
       "chezzwezz                           1                 1\n",
       "queen_of_everaythang                3                 3\n",
       "xxquotes14xx                        1                 1"
      ]
     },
     "execution_count": 140,
     "metadata": {},
     "output_type": "execute_result"
    }
   ],
   "source": [
    "df_likes.groupby('title').count()"
   ]
  },
  {
   "cell_type": "code",
   "execution_count": 145,
   "id": "0280751c",
   "metadata": {},
   "outputs": [],
   "source": [
    "df_likes = pd.DataFrame(y['title'] for y in dat['likes_media_likes'])"
   ]
  },
  {
   "cell_type": "code",
   "execution_count": 147,
   "id": "7d00c5a0",
   "metadata": {},
   "outputs": [
    {
     "data": {
      "text/html": [
       "<div>\n",
       "<style scoped>\n",
       "    .dataframe tbody tr th:only-of-type {\n",
       "        vertical-align: middle;\n",
       "    }\n",
       "\n",
       "    .dataframe tbody tr th {\n",
       "        vertical-align: top;\n",
       "    }\n",
       "\n",
       "    .dataframe thead th {\n",
       "        text-align: right;\n",
       "    }\n",
       "</style>\n",
       "<table border=\"1\" class=\"dataframe\">\n",
       "  <thead>\n",
       "    <tr style=\"text-align: right;\">\n",
       "      <th></th>\n",
       "      <th>0</th>\n",
       "    </tr>\n",
       "  </thead>\n",
       "  <tbody>\n",
       "    <tr>\n",
       "      <th>0</th>\n",
       "      <td>chezzwezz</td>\n",
       "    </tr>\n",
       "    <tr>\n",
       "      <th>1</th>\n",
       "      <td>queen_of_everaythang</td>\n",
       "    </tr>\n",
       "    <tr>\n",
       "      <th>2</th>\n",
       "      <td>queen_of_everaythang</td>\n",
       "    </tr>\n",
       "    <tr>\n",
       "      <th>3</th>\n",
       "      <td>queen_of_everaythang</td>\n",
       "    </tr>\n",
       "    <tr>\n",
       "      <th>4</th>\n",
       "      <td>xxquotes14xx</td>\n",
       "    </tr>\n",
       "  </tbody>\n",
       "</table>\n",
       "</div>"
      ],
      "text/plain": [
       "                      0\n",
       "0             chezzwezz\n",
       "1  queen_of_everaythang\n",
       "2  queen_of_everaythang\n",
       "3  queen_of_everaythang\n",
       "4          xxquotes14xx"
      ]
     },
     "execution_count": 147,
     "metadata": {},
     "output_type": "execute_result"
    }
   ],
   "source": [
    "df_likes[0:5]"
   ]
  },
  {
   "cell_type": "markdown",
   "id": "a1d4714d",
   "metadata": {},
   "source": [
    "## Hypothesis & Questions"
   ]
  },
  {
   "cell_type": "markdown",
   "id": "4379ec54",
   "metadata": {},
   "source": [
    "Who collected this data? \n",
    "   - Instagram (Facebook) collected it. \n",
    "       \n",
    "Why was this data collected?\n",
    "- To record the posts that I have interacted with in my time on instagram\n",
    "       \n",
    "In what ways may this data be reliable?\n",
    "- It’s reliable because they record all of my interactions in chronological order.\n",
    "- They need my interactions for advertising. \n",
    "- Also because it is the fact of every post that I have liked. \n",
    "\n",
    "\n",
    "In what ways may this data be unreliable?\n",
    "- Development of my personal interests\n",
    "- When I first started Instagram, I was 14 I think? I have changed very much and I am not interested in the same things I was   when I first made my account and first started interacting with posts. \n",
    "\n",
    "State a hypothesis and a data file that may help answer the hypothesis.\n",
    "- Hypothesis: Instagram uses the information about the posts I have liked, to determine the content I see.  i.e. sponsored posts, the explore page, people to follow, and shopping interests.\n",
    "- The statistical hypothesis would be that Instagram uses all 5061 of my likes to determine everything they need to know about me. \n",
    "\n",
    "A few data files that would help me confirm my hypothesis would be: \n",
    "- ads_interests, your_topics, your_reels_topics, or account_based_in"
   ]
  }
 ],
 "metadata": {
  "kernelspec": {
   "display_name": "Python 3 (ipykernel)",
   "language": "python",
   "name": "python3"
  },
  "language_info": {
   "codemirror_mode": {
    "name": "ipython",
    "version": 3
   },
   "file_extension": ".py",
   "mimetype": "text/x-python",
   "name": "python",
   "nbconvert_exporter": "python",
   "pygments_lexer": "ipython3",
   "version": "3.9.6"
  }
 },
 "nbformat": 4,
 "nbformat_minor": 5
}
