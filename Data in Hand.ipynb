{
 "cells": [
  {
   "cell_type": "markdown",
   "id": "80bf830b",
   "metadata": {},
   "source": [
    "# Data in Hand: Leah Fitzgerald"
   ]
  },
  {
   "cell_type": "code",
   "execution_count": 1,
   "id": "bb2d2236",
   "metadata": {},
   "outputs": [],
   "source": [
    "import requests\n",
    "import pandas as pd\n",
    "import urllib\n",
    "import json"
   ]
  },
  {
   "cell_type": "code",
   "execution_count": null,
   "id": "39d13cc0",
   "metadata": {},
   "outputs": [],
   "source": [
    "ls"
   ]
  },
  {
   "cell_type": "code",
   "execution_count": 3,
   "id": "9e6021bf",
   "metadata": {},
   "outputs": [],
   "source": [
    "bearer_token = pd.read_csv('bearer_token.txt', header = 0)"
   ]
  },
  {
   "cell_type": "markdown",
   "id": "316453d3",
   "metadata": {},
   "source": [
    "I start by asking it to read my bearer_token text file."
   ]
  },
  {
   "cell_type": "code",
   "execution_count": 4,
   "id": "c6135c25",
   "metadata": {},
   "outputs": [
    {
     "data": {
      "text/plain": [
       "'AAAAAAAAAAAAAAAAAAAAAGlrUwEAAAAAf1vLiQqAF2Tn1uUK2wN9B1lsbcU%3DhcxmTzzXr4tzgO4cQ3isgKEMuC7YVuXnZyMTudGuHtLcPyiDrr'"
      ]
     },
     "execution_count": 4,
     "metadata": {},
     "output_type": "execute_result"
    }
   ],
   "source": [
    "bearer_token['Bearer_token'].iloc[0]"
   ]
  },
  {
   "cell_type": "code",
   "execution_count": 5,
   "id": "308eba77",
   "metadata": {},
   "outputs": [],
   "source": [
    "header = {'Authorization' : 'Bearer {}'.format(bearer_token['Bearer_token'].iloc[0])}"
   ]
  },
  {
   "cell_type": "code",
   "execution_count": 6,
   "id": "0f824e5a",
   "metadata": {},
   "outputs": [],
   "source": [
    "endpoint_url = 'https://api.twitter.com/2/tweets/search/recent'"
   ]
  },
  {
   "cell_type": "code",
   "execution_count": 7,
   "id": "95ce32d7",
   "metadata": {},
   "outputs": [],
   "source": [
    "query = urllib.parse.quote('#Jeopardy OR #KenJennings OR @KenJennings OR @MissMayim OR #MayimBialik OR @Jeopardy lang:en')"
   ]
  },
  {
   "cell_type": "markdown",
   "id": "e6792905",
   "metadata": {},
   "source": [
    "Here I am creating a query to parse the topics and language for my url. "
   ]
  },
  {
   "cell_type": "code",
   "execution_count": 8,
   "id": "2a85541a",
   "metadata": {},
   "outputs": [
    {
     "data": {
      "text/plain": [
       "'%23Jeopardy%20OR%20%23KenJennings%20OR%20%40KenJennings%20OR%20%40MissMayim%20OR%20%23MayimBialik%20OR%20%40Jeopardy%20lang%3Aen'"
      ]
     },
     "execution_count": 8,
     "metadata": {},
     "output_type": "execute_result"
    }
   ],
   "source": [
    "query"
   ]
  },
  {
   "cell_type": "code",
   "execution_count": 12,
   "id": "aab08f18",
   "metadata": {},
   "outputs": [],
   "source": [
    "tweet_fields = 'public_metrics,created_at,lang,possibly_sensitive,attachments,source'"
   ]
  },
  {
   "cell_type": "markdown",
   "id": "1d06c872",
   "metadata": {},
   "source": [
    "I am declaring the tweet fields I would like to see from Twitter."
   ]
  },
  {
   "cell_type": "code",
   "execution_count": 13,
   "id": "71de45c1",
   "metadata": {},
   "outputs": [],
   "source": [
    "my_api_url = endpoint_url + '?query={}&tweet.fields={}'.format(query, tweet_fields)"
   ]
  },
  {
   "cell_type": "markdown",
   "id": "3ba08719",
   "metadata": {},
   "source": [
    "Here I am consolidating my url with the query."
   ]
  },
  {
   "cell_type": "code",
   "execution_count": 14,
   "id": "1921e6c9",
   "metadata": {},
   "outputs": [
    {
     "data": {
      "text/plain": [
       "'https://api.twitter.com/2/tweets/search/recent?query=%23Jeopardy%20OR%20%23KenJennings%20OR%20%40KenJennings%20OR%20%40MissMayim%20OR%20%23MayimBialik%20OR%20%40Jeopardy%20lang%3Aen&tweet.fields=public_metrics,created_at,lang,possibly_sensitive,attachments,source'"
      ]
     },
     "execution_count": 14,
     "metadata": {},
     "output_type": "execute_result"
    }
   ],
   "source": [
    "my_api_url"
   ]
  },
  {
   "cell_type": "code",
   "execution_count": 15,
   "id": "ce3c3b30",
   "metadata": {},
   "outputs": [],
   "source": [
    "expansions = 'author_id'"
   ]
  },
  {
   "cell_type": "markdown",
   "id": "4c6a9ec6",
   "metadata": {},
   "source": [
    "I added author_id as an expansion to get more information."
   ]
  },
  {
   "cell_type": "code",
   "execution_count": 16,
   "id": "ff158998",
   "metadata": {},
   "outputs": [],
   "source": [
    "url = endpoint_url + '?query={}&tweet.fields={}'.format(query, tweet_fields)"
   ]
  },
  {
   "cell_type": "code",
   "execution_count": 17,
   "id": "506487d7",
   "metadata": {},
   "outputs": [],
   "source": [
    "url_expansions = endpoint_url + '?query={}&max_results=100&tweet.fields={}&expansions={}&user.fields={}'.format(query, tweet_fields, expansions, 'username')"
   ]
  },
  {
   "cell_type": "markdown",
   "id": "c1dacc86",
   "metadata": {},
   "source": [
    "Here I am specifying what I would like from the twitter data. Specifically max results of 100 tweets, tweet fields, expansions, and user fields. "
   ]
  },
  {
   "cell_type": "code",
   "execution_count": 18,
   "id": "b924b2f0",
   "metadata": {},
   "outputs": [
    {
     "data": {
      "text/plain": [
       "'https://api.twitter.com/2/tweets/search/recent?query=%23Jeopardy%20OR%20%23KenJennings%20OR%20%40KenJennings%20OR%20%40MissMayim%20OR%20%23MayimBialik%20OR%20%40Jeopardy%20lang%3Aen&max_results=100&tweet.fields=public_metrics,created_at,lang,possibly_sensitive,attachments,source&expansions=author_id&user.fields=username'"
      ]
     },
     "execution_count": 18,
     "metadata": {},
     "output_type": "execute_result"
    }
   ],
   "source": [
    "url_expansions"
   ]
  },
  {
   "cell_type": "code",
   "execution_count": 19,
   "id": "7ba72289",
   "metadata": {},
   "outputs": [],
   "source": [
    "response_1 = requests.request(\"GET\", url_expansions, headers = header)"
   ]
  },
  {
   "cell_type": "markdown",
   "id": "968f6fbb",
   "metadata": {},
   "source": [
    "Here I am asking Twitter to answer my request using \"GET\" with my url. "
   ]
  },
  {
   "cell_type": "code",
   "execution_count": null,
   "id": "7b3fa5f0",
   "metadata": {},
   "outputs": [],
   "source": [
    "response_1.text"
   ]
  },
  {
   "cell_type": "code",
   "execution_count": 22,
   "id": "e743e67b",
   "metadata": {},
   "outputs": [],
   "source": [
    "response_1_dict = json.loads(response_1.text)"
   ]
  },
  {
   "cell_type": "markdown",
   "id": "486448ed",
   "metadata": {},
   "source": [
    "Loading Twitter data into json"
   ]
  },
  {
   "cell_type": "code",
   "execution_count": 23,
   "id": "e9cd88a2",
   "metadata": {},
   "outputs": [
    {
     "data": {
      "text/plain": [
       "dict_keys(['data', 'includes', 'meta'])"
      ]
     },
     "execution_count": 23,
     "metadata": {},
     "output_type": "execute_result"
    }
   ],
   "source": [
    "response_1_dict.keys()"
   ]
  },
  {
   "cell_type": "code",
   "execution_count": 25,
   "id": "f7313493",
   "metadata": {},
   "outputs": [],
   "source": [
    "my_df = pd.DataFrame(response_1_dict['data'])"
   ]
  },
  {
   "cell_type": "markdown",
   "id": "36241312",
   "metadata": {},
   "source": [
    "I am creating a data frame with the 'data' key."
   ]
  },
  {
   "cell_type": "code",
   "execution_count": 26,
   "id": "fd3e4d8f",
   "metadata": {},
   "outputs": [
    {
     "data": {
      "text/html": [
       "<div>\n",
       "<style scoped>\n",
       "    .dataframe tbody tr th:only-of-type {\n",
       "        vertical-align: middle;\n",
       "    }\n",
       "\n",
       "    .dataframe tbody tr th {\n",
       "        vertical-align: top;\n",
       "    }\n",
       "\n",
       "    .dataframe thead th {\n",
       "        text-align: right;\n",
       "    }\n",
       "</style>\n",
       "<table border=\"1\" class=\"dataframe\">\n",
       "  <thead>\n",
       "    <tr style=\"text-align: right;\">\n",
       "      <th></th>\n",
       "      <th>text</th>\n",
       "      <th>lang</th>\n",
       "      <th>id</th>\n",
       "      <th>author_id</th>\n",
       "      <th>source</th>\n",
       "      <th>possibly_sensitive</th>\n",
       "      <th>created_at</th>\n",
       "      <th>public_metrics</th>\n",
       "      <th>attachments</th>\n",
       "    </tr>\n",
       "  </thead>\n",
       "  <tbody>\n",
       "    <tr>\n",
       "      <th>0</th>\n",
       "      <td>RT @missmayim: .@danicamckellar joins us to ta...</td>\n",
       "      <td>en</td>\n",
       "      <td>1465794922146054144</td>\n",
       "      <td>1233242900533784578</td>\n",
       "      <td>Twitter for iPhone</td>\n",
       "      <td>False</td>\n",
       "      <td>2021-11-30T21:28:37.000Z</td>\n",
       "      <td>{'retweet_count': 7, 'reply_count': 0, 'like_c...</td>\n",
       "      <td>NaN</td>\n",
       "    </tr>\n",
       "    <tr>\n",
       "      <th>1</th>\n",
       "      <td>@JohnCinnamon @Jeopardy Fan first.</td>\n",
       "      <td>en</td>\n",
       "      <td>1465794889409433605</td>\n",
       "      <td>26944849</td>\n",
       "      <td>Twitter Web App</td>\n",
       "      <td>False</td>\n",
       "      <td>2021-11-30T21:28:29.000Z</td>\n",
       "      <td>{'retweet_count': 0, 'reply_count': 0, 'like_c...</td>\n",
       "      <td>NaN</td>\n",
       "    </tr>\n",
       "    <tr>\n",
       "      <th>2</th>\n",
       "      <td>RT @buzzerblog: Hey I've got a good feeling ab...</td>\n",
       "      <td>en</td>\n",
       "      <td>1465794355797671941</td>\n",
       "      <td>1286767521249492992</td>\n",
       "      <td>Twitter for iPhone</td>\n",
       "      <td>False</td>\n",
       "      <td>2021-11-30T21:26:22.000Z</td>\n",
       "      <td>{'retweet_count': 4, 'reply_count': 0, 'like_c...</td>\n",
       "      <td>NaN</td>\n",
       "    </tr>\n",
       "    <tr>\n",
       "      <th>3</th>\n",
       "      <td>@buzztronics This was BEFORE you were on @Jeop...</td>\n",
       "      <td>en</td>\n",
       "      <td>1465794193075408903</td>\n",
       "      <td>25437324</td>\n",
       "      <td>TweetDeck</td>\n",
       "      <td>False</td>\n",
       "      <td>2021-11-30T21:25:43.000Z</td>\n",
       "      <td>{'retweet_count': 0, 'reply_count': 1, 'like_c...</td>\n",
       "      <td>NaN</td>\n",
       "    </tr>\n",
       "    <tr>\n",
       "      <th>4</th>\n",
       "      <td>RT @missmayim: On #GivingTuesday I’m supportin...</td>\n",
       "      <td>en</td>\n",
       "      <td>1465793523295264771</td>\n",
       "      <td>232023805</td>\n",
       "      <td>Twitter Web App</td>\n",
       "      <td>False</td>\n",
       "      <td>2021-11-30T21:23:03.000Z</td>\n",
       "      <td>{'retweet_count': 28, 'reply_count': 0, 'like_...</td>\n",
       "      <td>NaN</td>\n",
       "    </tr>\n",
       "    <tr>\n",
       "      <th>...</th>\n",
       "      <td>...</td>\n",
       "      <td>...</td>\n",
       "      <td>...</td>\n",
       "      <td>...</td>\n",
       "      <td>...</td>\n",
       "      <td>...</td>\n",
       "      <td>...</td>\n",
       "      <td>...</td>\n",
       "      <td>...</td>\n",
       "    </tr>\n",
       "    <tr>\n",
       "      <th>95</th>\n",
       "      <td>@AmodioMatt @neotheatersys @Jeopardy @gg_andre...</td>\n",
       "      <td>en</td>\n",
       "      <td>1465766727929589765</td>\n",
       "      <td>1430700675248295938</td>\n",
       "      <td>Twitter for Android</td>\n",
       "      <td>False</td>\n",
       "      <td>2021-11-30T19:36:35.000Z</td>\n",
       "      <td>{'retweet_count': 0, 'reply_count': 1, 'like_c...</td>\n",
       "      <td>NaN</td>\n",
       "    </tr>\n",
       "    <tr>\n",
       "      <th>96</th>\n",
       "      <td>RT @AmodioMatt: I'm sure you're already watchi...</td>\n",
       "      <td>en</td>\n",
       "      <td>1465766312404078592</td>\n",
       "      <td>1293012851716583424</td>\n",
       "      <td>Twitter Web App</td>\n",
       "      <td>False</td>\n",
       "      <td>2021-11-30T19:34:56.000Z</td>\n",
       "      <td>{'retweet_count': 59, 'reply_count': 0, 'like_...</td>\n",
       "      <td>NaN</td>\n",
       "    </tr>\n",
       "    <tr>\n",
       "      <th>97</th>\n",
       "      <td>RT @bestfriends: @missmayim Thank you for your...</td>\n",
       "      <td>en</td>\n",
       "      <td>1465766243579879426</td>\n",
       "      <td>917408286235865089</td>\n",
       "      <td>Twitter for Android</td>\n",
       "      <td>False</td>\n",
       "      <td>2021-11-30T19:34:39.000Z</td>\n",
       "      <td>{'retweet_count': 1, 'reply_count': 0, 'like_c...</td>\n",
       "      <td>NaN</td>\n",
       "    </tr>\n",
       "    <tr>\n",
       "      <th>98</th>\n",
       "      <td>RT @AmodioMatt: I'm sure you're already watchi...</td>\n",
       "      <td>en</td>\n",
       "      <td>1465766201498517506</td>\n",
       "      <td>874642929285029888</td>\n",
       "      <td>Twitter for Android</td>\n",
       "      <td>False</td>\n",
       "      <td>2021-11-30T19:34:29.000Z</td>\n",
       "      <td>{'retweet_count': 59, 'reply_count': 0, 'like_...</td>\n",
       "      <td>NaN</td>\n",
       "    </tr>\n",
       "    <tr>\n",
       "      <th>99</th>\n",
       "      <td>@missmayim @bestfriends I believe u. But my lo...</td>\n",
       "      <td>en</td>\n",
       "      <td>1465766132254658560</td>\n",
       "      <td>917408286235865089</td>\n",
       "      <td>Twitter for Android</td>\n",
       "      <td>False</td>\n",
       "      <td>2021-11-30T19:34:13.000Z</td>\n",
       "      <td>{'retweet_count': 0, 'reply_count': 0, 'like_c...</td>\n",
       "      <td>NaN</td>\n",
       "    </tr>\n",
       "  </tbody>\n",
       "</table>\n",
       "<p>100 rows × 9 columns</p>\n",
       "</div>"
      ],
      "text/plain": [
       "                                                 text lang  \\\n",
       "0   RT @missmayim: .@danicamckellar joins us to ta...   en   \n",
       "1                  @JohnCinnamon @Jeopardy Fan first.   en   \n",
       "2   RT @buzzerblog: Hey I've got a good feeling ab...   en   \n",
       "3   @buzztronics This was BEFORE you were on @Jeop...   en   \n",
       "4   RT @missmayim: On #GivingTuesday I’m supportin...   en   \n",
       "..                                                ...  ...   \n",
       "95  @AmodioMatt @neotheatersys @Jeopardy @gg_andre...   en   \n",
       "96  RT @AmodioMatt: I'm sure you're already watchi...   en   \n",
       "97  RT @bestfriends: @missmayim Thank you for your...   en   \n",
       "98  RT @AmodioMatt: I'm sure you're already watchi...   en   \n",
       "99  @missmayim @bestfriends I believe u. But my lo...   en   \n",
       "\n",
       "                     id            author_id               source  \\\n",
       "0   1465794922146054144  1233242900533784578   Twitter for iPhone   \n",
       "1   1465794889409433605             26944849      Twitter Web App   \n",
       "2   1465794355797671941  1286767521249492992   Twitter for iPhone   \n",
       "3   1465794193075408903             25437324            TweetDeck   \n",
       "4   1465793523295264771            232023805      Twitter Web App   \n",
       "..                  ...                  ...                  ...   \n",
       "95  1465766727929589765  1430700675248295938  Twitter for Android   \n",
       "96  1465766312404078592  1293012851716583424      Twitter Web App   \n",
       "97  1465766243579879426   917408286235865089  Twitter for Android   \n",
       "98  1465766201498517506   874642929285029888  Twitter for Android   \n",
       "99  1465766132254658560   917408286235865089  Twitter for Android   \n",
       "\n",
       "    possibly_sensitive                created_at  \\\n",
       "0                False  2021-11-30T21:28:37.000Z   \n",
       "1                False  2021-11-30T21:28:29.000Z   \n",
       "2                False  2021-11-30T21:26:22.000Z   \n",
       "3                False  2021-11-30T21:25:43.000Z   \n",
       "4                False  2021-11-30T21:23:03.000Z   \n",
       "..                 ...                       ...   \n",
       "95               False  2021-11-30T19:36:35.000Z   \n",
       "96               False  2021-11-30T19:34:56.000Z   \n",
       "97               False  2021-11-30T19:34:39.000Z   \n",
       "98               False  2021-11-30T19:34:29.000Z   \n",
       "99               False  2021-11-30T19:34:13.000Z   \n",
       "\n",
       "                                       public_metrics attachments  \n",
       "0   {'retweet_count': 7, 'reply_count': 0, 'like_c...         NaN  \n",
       "1   {'retweet_count': 0, 'reply_count': 0, 'like_c...         NaN  \n",
       "2   {'retweet_count': 4, 'reply_count': 0, 'like_c...         NaN  \n",
       "3   {'retweet_count': 0, 'reply_count': 1, 'like_c...         NaN  \n",
       "4   {'retweet_count': 28, 'reply_count': 0, 'like_...         NaN  \n",
       "..                                                ...         ...  \n",
       "95  {'retweet_count': 0, 'reply_count': 1, 'like_c...         NaN  \n",
       "96  {'retweet_count': 59, 'reply_count': 0, 'like_...         NaN  \n",
       "97  {'retweet_count': 1, 'reply_count': 0, 'like_c...         NaN  \n",
       "98  {'retweet_count': 59, 'reply_count': 0, 'like_...         NaN  \n",
       "99  {'retweet_count': 0, 'reply_count': 0, 'like_c...         NaN  \n",
       "\n",
       "[100 rows x 9 columns]"
      ]
     },
     "execution_count": 26,
     "metadata": {},
     "output_type": "execute_result"
    }
   ],
   "source": [
    "my_df"
   ]
  },
  {
   "cell_type": "code",
   "execution_count": 27,
   "id": "0a4864cd",
   "metadata": {},
   "outputs": [
    {
     "data": {
      "text/plain": [
       "{'newest_id': '1465794922146054144',\n",
       " 'oldest_id': '1465766132254658560',\n",
       " 'result_count': 100,\n",
       " 'next_token': 'b26v89c19zqg8o3fpdy7ocy5arp5iug47rih00p48pbwd'}"
      ]
     },
     "execution_count": 27,
     "metadata": {},
     "output_type": "execute_result"
    }
   ],
   "source": [
    "response_1_dict['meta']"
   ]
  },
  {
   "cell_type": "markdown",
   "id": "ed74b94b",
   "metadata": {},
   "source": [
    "This gives me the next_token I can use to make another request."
   ]
  },
  {
   "cell_type": "code",
   "execution_count": 28,
   "id": "434a753f",
   "metadata": {},
   "outputs": [],
   "source": [
    "endpoint_url_2 = 'https://api.twitter.com/2/tweets/search/recent'"
   ]
  },
  {
   "cell_type": "code",
   "execution_count": 29,
   "id": "b7c0b910",
   "metadata": {},
   "outputs": [],
   "source": [
    "query = urllib.parse.quote('#WOF OR #WheelOfFourtune OR #PatSajak OR @PatSajak lang:en')"
   ]
  },
  {
   "cell_type": "markdown",
   "id": "90c03fe3",
   "metadata": {},
   "source": [
    "Here I am creating a second query to search for Wheel of Fortune or Pat Sajak"
   ]
  },
  {
   "cell_type": "code",
   "execution_count": 30,
   "id": "9a33c981",
   "metadata": {},
   "outputs": [
    {
     "data": {
      "text/plain": [
       "'%23WOF%20OR%20%23WheelOfFourtune%20OR%20%23PatSajak%20OR%20%40PatSajak%20lang%3Aen'"
      ]
     },
     "execution_count": 30,
     "metadata": {},
     "output_type": "execute_result"
    }
   ],
   "source": [
    "query"
   ]
  },
  {
   "cell_type": "code",
   "execution_count": 31,
   "id": "fec8400d",
   "metadata": {},
   "outputs": [],
   "source": [
    "tweet_fields = 'public_metrics,created_at,lang,possibly_sensitive,attachments,source'"
   ]
  },
  {
   "cell_type": "markdown",
   "id": "bdc2b5c9",
   "metadata": {},
   "source": [
    "Here I am defining the tweet fields I would like the API to include when I ask for data."
   ]
  },
  {
   "cell_type": "code",
   "execution_count": 32,
   "id": "c2b79736",
   "metadata": {},
   "outputs": [],
   "source": [
    "expansions = 'author_id'"
   ]
  },
  {
   "cell_type": "code",
   "execution_count": 35,
   "id": "d6158afd",
   "metadata": {},
   "outputs": [],
   "source": [
    "url = endpoint_url_2 + '?query={}&tweet.fields={}'.format(query, tweet_fields)"
   ]
  },
  {
   "cell_type": "code",
   "execution_count": 36,
   "id": "09d9bb59",
   "metadata": {},
   "outputs": [],
   "source": [
    "url_expansions = endpoint_url_2 + '?query={}&max_results=100&tweet.fields={}&expansions={}&user.fields={}'.format(query, tweet_fields, expansions, 'username')"
   ]
  },
  {
   "cell_type": "code",
   "execution_count": 37,
   "id": "ada3f337",
   "metadata": {},
   "outputs": [
    {
     "data": {
      "text/plain": [
       "'https://api.twitter.com/2/tweets/search/recent?query=%23WOF%20OR%20%23WheelOfFourtune%20OR%20%23PatSajak%20OR%20%40PatSajak%20lang%3Aen&max_results=100&tweet.fields=public_metrics,created_at,lang,possibly_sensitive,attachments,source&expansions=author_id&user.fields=username'"
      ]
     },
     "execution_count": 37,
     "metadata": {},
     "output_type": "execute_result"
    }
   ],
   "source": [
    "url_expansions"
   ]
  },
  {
   "cell_type": "markdown",
   "id": "e27b36fb",
   "metadata": {},
   "source": [
    "This is the url of my request from Twitter of tweets regarding WOF and Pat Sajak"
   ]
  },
  {
   "cell_type": "code",
   "execution_count": 38,
   "id": "f23dffbf",
   "metadata": {},
   "outputs": [],
   "source": [
    "response_2 = requests.request(\"GET\", url_expansions, headers = header)"
   ]
  },
  {
   "cell_type": "markdown",
   "id": "23b50e08",
   "metadata": {},
   "source": [
    "Here I am making my 2nd request for 100 tweets of Twitter data. This time about WOF"
   ]
  },
  {
   "cell_type": "code",
   "execution_count": null,
   "id": "3f9d6a8b",
   "metadata": {},
   "outputs": [],
   "source": [
    "response_2.text"
   ]
  },
  {
   "cell_type": "code",
   "execution_count": 40,
   "id": "b0f6e777",
   "metadata": {},
   "outputs": [],
   "source": [
    "response_2_dict = json.loads(response_2.text)"
   ]
  },
  {
   "cell_type": "code",
   "execution_count": 41,
   "id": "827c2bb2",
   "metadata": {},
   "outputs": [
    {
     "data": {
      "text/plain": [
       "dict_keys(['data', 'includes', 'meta'])"
      ]
     },
     "execution_count": 41,
     "metadata": {},
     "output_type": "execute_result"
    }
   ],
   "source": [
    "response_2_dict.keys()"
   ]
  },
  {
   "cell_type": "code",
   "execution_count": 42,
   "id": "f6cf4b58",
   "metadata": {},
   "outputs": [],
   "source": [
    "my_df2 = pd.DataFrame(response_2_dict['data'])"
   ]
  },
  {
   "cell_type": "markdown",
   "id": "ce463da6",
   "metadata": {},
   "source": [
    "I am creating a data frame with the 'data' key."
   ]
  },
  {
   "cell_type": "code",
   "execution_count": 43,
   "id": "eaf728a3",
   "metadata": {},
   "outputs": [
    {
     "data": {
      "text/html": [
       "<div>\n",
       "<style scoped>\n",
       "    .dataframe tbody tr th:only-of-type {\n",
       "        vertical-align: middle;\n",
       "    }\n",
       "\n",
       "    .dataframe tbody tr th {\n",
       "        vertical-align: top;\n",
       "    }\n",
       "\n",
       "    .dataframe thead th {\n",
       "        text-align: right;\n",
       "    }\n",
       "</style>\n",
       "<table border=\"1\" class=\"dataframe\">\n",
       "  <thead>\n",
       "    <tr style=\"text-align: right;\">\n",
       "      <th></th>\n",
       "      <th>public_metrics</th>\n",
       "      <th>possibly_sensitive</th>\n",
       "      <th>source</th>\n",
       "      <th>text</th>\n",
       "      <th>created_at</th>\n",
       "      <th>author_id</th>\n",
       "      <th>lang</th>\n",
       "      <th>id</th>\n",
       "      <th>attachments</th>\n",
       "    </tr>\n",
       "  </thead>\n",
       "  <tbody>\n",
       "    <tr>\n",
       "      <th>0</th>\n",
       "      <td>{'retweet_count': 3, 'reply_count': 0, 'like_c...</td>\n",
       "      <td>False</td>\n",
       "      <td>Twitter Web App</td>\n",
       "      <td>RT @bluegrass24: Sketch icon with princess Ane...</td>\n",
       "      <td>2021-11-30T21:26:59.000Z</td>\n",
       "      <td>217788381</td>\n",
       "      <td>en</td>\n",
       "      <td>1465794512622702595</td>\n",
       "      <td>NaN</td>\n",
       "    </tr>\n",
       "    <tr>\n",
       "      <th>1</th>\n",
       "      <td>{'retweet_count': 1, 'reply_count': 0, 'like_c...</td>\n",
       "      <td>False</td>\n",
       "      <td>Twitter Web App</td>\n",
       "      <td>RT @RavioliRaviolet: another oc! i finally mad...</td>\n",
       "      <td>2021-11-30T21:25:09.000Z</td>\n",
       "      <td>1176252342146088961</td>\n",
       "      <td>en</td>\n",
       "      <td>1465794050561392640</td>\n",
       "      <td>{'media_keys': ['3_1465792742718586881']}</td>\n",
       "    </tr>\n",
       "    <tr>\n",
       "      <th>2</th>\n",
       "      <td>{'retweet_count': 1, 'reply_count': 0, 'like_c...</td>\n",
       "      <td>False</td>\n",
       "      <td>Twitter Web App</td>\n",
       "      <td>another oc! i finally made a ref for them :D\\n...</td>\n",
       "      <td>2021-11-30T21:20:50.000Z</td>\n",
       "      <td>1325608980325019650</td>\n",
       "      <td>en</td>\n",
       "      <td>1465792965901705226</td>\n",
       "      <td>{'media_keys': ['3_1465792742718586881']}</td>\n",
       "    </tr>\n",
       "    <tr>\n",
       "      <th>3</th>\n",
       "      <td>{'retweet_count': 2, 'reply_count': 0, 'like_c...</td>\n",
       "      <td>False</td>\n",
       "      <td>TweetDeck</td>\n",
       "      <td>RT @Endrich_artz: A request while ago for a ar...</td>\n",
       "      <td>2021-11-30T20:08:00.000Z</td>\n",
       "      <td>1392021312667885568</td>\n",
       "      <td>en</td>\n",
       "      <td>1465774634347991047</td>\n",
       "      <td>{'media_keys': ['3_1465747872574423040']}</td>\n",
       "    </tr>\n",
       "    <tr>\n",
       "      <th>4</th>\n",
       "      <td>{'retweet_count': 3, 'reply_count': 0, 'like_c...</td>\n",
       "      <td>False</td>\n",
       "      <td>Twitter for iPhone</td>\n",
       "      <td>RT @bluegrass24: Sketch icon with princess Ane...</td>\n",
       "      <td>2021-11-30T19:47:44.000Z</td>\n",
       "      <td>928362646486863872</td>\n",
       "      <td>en</td>\n",
       "      <td>1465769536586752011</td>\n",
       "      <td>NaN</td>\n",
       "    </tr>\n",
       "    <tr>\n",
       "      <th>...</th>\n",
       "      <td>...</td>\n",
       "      <td>...</td>\n",
       "      <td>...</td>\n",
       "      <td>...</td>\n",
       "      <td>...</td>\n",
       "      <td>...</td>\n",
       "      <td>...</td>\n",
       "      <td>...</td>\n",
       "      <td>...</td>\n",
       "    </tr>\n",
       "    <tr>\n",
       "      <th>95</th>\n",
       "      <td>{'retweet_count': 0, 'reply_count': 0, 'like_c...</td>\n",
       "      <td>False</td>\n",
       "      <td>Twitter for Android</td>\n",
       "      <td>@oilysardine @MaggieSajak @patsajak Since you ...</td>\n",
       "      <td>2021-11-29T15:42:56.000Z</td>\n",
       "      <td>974766488</td>\n",
       "      <td>en</td>\n",
       "      <td>1465345539659251728</td>\n",
       "      <td>NaN</td>\n",
       "    </tr>\n",
       "    <tr>\n",
       "      <th>96</th>\n",
       "      <td>{'retweet_count': 2, 'reply_count': 0, 'like_c...</td>\n",
       "      <td>False</td>\n",
       "      <td>Twitter for Android</td>\n",
       "      <td>RT @saesae0518: 【定期ボン活】\\n\\n本日11月30日(火)も21時半から塔...</td>\n",
       "      <td>2021-11-29T15:32:23.000Z</td>\n",
       "      <td>1151395696156659714</td>\n",
       "      <td>ja</td>\n",
       "      <td>1465342887453806596</td>\n",
       "      <td>NaN</td>\n",
       "    </tr>\n",
       "    <tr>\n",
       "      <th>97</th>\n",
       "      <td>{'retweet_count': 3, 'reply_count': 0, 'like_c...</td>\n",
       "      <td>False</td>\n",
       "      <td>Twitter for Android</td>\n",
       "      <td>RT @spikedmanager86: Fluorescence the black Se...</td>\n",
       "      <td>2021-11-29T15:11:56.000Z</td>\n",
       "      <td>1373038326287106050</td>\n",
       "      <td>en</td>\n",
       "      <td>1465337740585754625</td>\n",
       "      <td>NaN</td>\n",
       "    </tr>\n",
       "    <tr>\n",
       "      <th>98</th>\n",
       "      <td>{'retweet_count': 1, 'reply_count': 0, 'like_c...</td>\n",
       "      <td>False</td>\n",
       "      <td>Twitter for Android</td>\n",
       "      <td>RT @Andhhko: Hello\\nI have made my own fantrib...</td>\n",
       "      <td>2021-11-29T15:11:43.000Z</td>\n",
       "      <td>1373038326287106050</td>\n",
       "      <td>en</td>\n",
       "      <td>1465337684206010375</td>\n",
       "      <td>{'media_keys': ['3_1463277789642067971']}</td>\n",
       "    </tr>\n",
       "    <tr>\n",
       "      <th>99</th>\n",
       "      <td>{'retweet_count': 9, 'reply_count': 0, 'like_c...</td>\n",
       "      <td>False</td>\n",
       "      <td>Twitter for Android</td>\n",
       "      <td>RT @illidari_: gift for @HOLODRAG0N 🌙\\n#wingso...</td>\n",
       "      <td>2021-11-29T15:11:40.000Z</td>\n",
       "      <td>1373038326287106050</td>\n",
       "      <td>en</td>\n",
       "      <td>1465337674462633993</td>\n",
       "      <td>{'media_keys': ['3_1463293683113988099']}</td>\n",
       "    </tr>\n",
       "  </tbody>\n",
       "</table>\n",
       "<p>100 rows × 9 columns</p>\n",
       "</div>"
      ],
      "text/plain": [
       "                                       public_metrics  possibly_sensitive  \\\n",
       "0   {'retweet_count': 3, 'reply_count': 0, 'like_c...               False   \n",
       "1   {'retweet_count': 1, 'reply_count': 0, 'like_c...               False   \n",
       "2   {'retweet_count': 1, 'reply_count': 0, 'like_c...               False   \n",
       "3   {'retweet_count': 2, 'reply_count': 0, 'like_c...               False   \n",
       "4   {'retweet_count': 3, 'reply_count': 0, 'like_c...               False   \n",
       "..                                                ...                 ...   \n",
       "95  {'retweet_count': 0, 'reply_count': 0, 'like_c...               False   \n",
       "96  {'retweet_count': 2, 'reply_count': 0, 'like_c...               False   \n",
       "97  {'retweet_count': 3, 'reply_count': 0, 'like_c...               False   \n",
       "98  {'retweet_count': 1, 'reply_count': 0, 'like_c...               False   \n",
       "99  {'retweet_count': 9, 'reply_count': 0, 'like_c...               False   \n",
       "\n",
       "                 source                                               text  \\\n",
       "0       Twitter Web App  RT @bluegrass24: Sketch icon with princess Ane...   \n",
       "1       Twitter Web App  RT @RavioliRaviolet: another oc! i finally mad...   \n",
       "2       Twitter Web App  another oc! i finally made a ref for them :D\\n...   \n",
       "3             TweetDeck  RT @Endrich_artz: A request while ago for a ar...   \n",
       "4    Twitter for iPhone  RT @bluegrass24: Sketch icon with princess Ane...   \n",
       "..                  ...                                                ...   \n",
       "95  Twitter for Android  @oilysardine @MaggieSajak @patsajak Since you ...   \n",
       "96  Twitter for Android  RT @saesae0518: 【定期ボン活】\\n\\n本日11月30日(火)も21時半から塔...   \n",
       "97  Twitter for Android  RT @spikedmanager86: Fluorescence the black Se...   \n",
       "98  Twitter for Android  RT @Andhhko: Hello\\nI have made my own fantrib...   \n",
       "99  Twitter for Android  RT @illidari_: gift for @HOLODRAG0N 🌙\\n#wingso...   \n",
       "\n",
       "                  created_at            author_id lang                   id  \\\n",
       "0   2021-11-30T21:26:59.000Z            217788381   en  1465794512622702595   \n",
       "1   2021-11-30T21:25:09.000Z  1176252342146088961   en  1465794050561392640   \n",
       "2   2021-11-30T21:20:50.000Z  1325608980325019650   en  1465792965901705226   \n",
       "3   2021-11-30T20:08:00.000Z  1392021312667885568   en  1465774634347991047   \n",
       "4   2021-11-30T19:47:44.000Z   928362646486863872   en  1465769536586752011   \n",
       "..                       ...                  ...  ...                  ...   \n",
       "95  2021-11-29T15:42:56.000Z            974766488   en  1465345539659251728   \n",
       "96  2021-11-29T15:32:23.000Z  1151395696156659714   ja  1465342887453806596   \n",
       "97  2021-11-29T15:11:56.000Z  1373038326287106050   en  1465337740585754625   \n",
       "98  2021-11-29T15:11:43.000Z  1373038326287106050   en  1465337684206010375   \n",
       "99  2021-11-29T15:11:40.000Z  1373038326287106050   en  1465337674462633993   \n",
       "\n",
       "                                  attachments  \n",
       "0                                         NaN  \n",
       "1   {'media_keys': ['3_1465792742718586881']}  \n",
       "2   {'media_keys': ['3_1465792742718586881']}  \n",
       "3   {'media_keys': ['3_1465747872574423040']}  \n",
       "4                                         NaN  \n",
       "..                                        ...  \n",
       "95                                        NaN  \n",
       "96                                        NaN  \n",
       "97                                        NaN  \n",
       "98  {'media_keys': ['3_1463277789642067971']}  \n",
       "99  {'media_keys': ['3_1463293683113988099']}  \n",
       "\n",
       "[100 rows x 9 columns]"
      ]
     },
     "execution_count": 43,
     "metadata": {},
     "output_type": "execute_result"
    }
   ],
   "source": [
    "my_df2"
   ]
  },
  {
   "cell_type": "markdown",
   "id": "49238d7d",
   "metadata": {},
   "source": [
    "I plan on collecting 500 samples of tweets regarding Jeopardy and 500 tweets regarding Wheel of Fortune. \n",
    "\n",
    "I plan on first sorting the data by host, and game name. Then, analyzing these and making conclusions based on the data presented. \n",
    "\n",
    "I plan on using the tweets from the past 7 days, because I do not believe that I would be able to get academic permissions in a very timely manner. \n",
    "\n",
    "I am not completely sure about my audience I believe the audience of this analysis would be. \n",
    "\n",
    "I believe my conclusions will give me insight as to whether Twitter users are more positively talking about either WOF or Jeopardy, and also specifics about what people have to say about the hosts. "
   ]
  }
 ],
 "metadata": {
  "kernelspec": {
   "display_name": "Python 3 (ipykernel)",
   "language": "python",
   "name": "python3"
  },
  "language_info": {
   "codemirror_mode": {
    "name": "ipython",
    "version": 3
   },
   "file_extension": ".py",
   "mimetype": "text/x-python",
   "name": "python",
   "nbconvert_exporter": "python",
   "pygments_lexer": "ipython3",
   "version": "3.9.6"
  }
 },
 "nbformat": 4,
 "nbformat_minor": 5
}
