{
 "cells": [
  {
   "cell_type": "code",
   "execution_count": 1,
   "id": "55982cdb",
   "metadata": {},
   "outputs": [],
   "source": [
    "import requests\n",
    "import pandas as pd\n",
    "import urllib\n",
    "import json"
   ]
  },
  {
   "cell_type": "code",
   "execution_count": 2,
   "id": "f65d2734",
   "metadata": {},
   "outputs": [
    {
     "name": "stdout",
     "output_type": "stream",
     "text": [
      " Volume in drive C has no label.\n",
      " Volume Serial Number is A460-0A54\n",
      "\n",
      " Directory of C:\\Users\\leahf\\EMAT2210 FA21\n",
      "\n",
      "10/20/2021  03:33 PM    <DIR>          .\n",
      "10/20/2021  03:33 PM    <DIR>          ..\n",
      "10/19/2021  04:49 PM    <DIR>          .ipynb_checkpoints\n",
      "10/19/2021  04:32 PM           293,647 10-19.ipynb\n",
      "10/07/2021  04:54 PM            26,828 10-7.ipynb\n",
      "09/17/2021  03:12 PM           373,778 9-9class.ipynb\n",
      "08/31/2021  04:50 PM             1,080 Aug31_inclass-practice.ipynb\n",
      "10/19/2021  05:02 PM               125 b_token.txt\n",
      "10/19/2021  05:02 PM               126 bearer_token.txt\n",
      "09/30/2021  04:52 PM             1,623 big_data.csv\n",
      "10/07/2021  03:39 PM    <DIR>          chinook\n",
      "10/07/2021  03:39 PM           884,736 chinook.db\n",
      "09/21/2021  04:52 PM           368,989 Class 9-21.ipynb\n",
      "09/02/2021  04:26 PM             3,709 Fitzgerald_SystemsCheck.ipynb\n",
      "09/17/2021  03:12 PM           203,422 InClass9-7.ipynb\n",
      "10/03/2021  08:04 PM           590,540 'likes'_Report 2.ipynb\n",
      "09/30/2021  04:53 PM            28,760 Sep. 30th.ipynb\n",
      "09/30/2021  04:27 PM            55,447 Sept 23 Spotify.ipynb\n",
      "09/23/2021  04:33 PM                90 spotify_api.txt\n",
      "10/20/2021  03:33 PM            26,609 Twitter.ipynb\n",
      "09/28/2021  04:09 PM                72 Untitled.ipynb\n",
      "09/28/2021  04:12 PM               588 Untitled1.ipynb\n",
      "10/19/2021  04:51 PM             4,686 Untitled2.ipynb\n",
      "              19 File(s)      2,864,855 bytes\n",
      "               4 Dir(s)  898,413,314,048 bytes free\n"
     ]
    }
   ],
   "source": [
    "ls"
   ]
  },
  {
   "cell_type": "code",
   "execution_count": 3,
   "id": "1af3fa2b",
   "metadata": {},
   "outputs": [],
   "source": [
    "bearer_token = pd.read_csv('bearer_token.txt', header = 0)"
   ]
  },
  {
   "cell_type": "markdown",
   "id": "7e54c8ed",
   "metadata": {},
   "source": [
    "I start by asking it to read my bearer_token text file. "
   ]
  },
  {
   "cell_type": "code",
   "execution_count": null,
   "id": "2b4da4b7",
   "metadata": {},
   "outputs": [],
   "source": [
    "bearer_token"
   ]
  },
  {
   "cell_type": "code",
   "execution_count": null,
   "id": "1660f772",
   "metadata": {},
   "outputs": [],
   "source": [
    "bearer_token['Bearer_token'].iloc[0]"
   ]
  },
  {
   "cell_type": "code",
   "execution_count": 6,
   "id": "0ce2444a",
   "metadata": {},
   "outputs": [],
   "source": [
    "header = {'Authorization' : 'Bearer {}'.format(bearer_token['Bearer_token'].iloc[0])}"
   ]
  },
  {
   "cell_type": "code",
   "execution_count": null,
   "id": "2f1ce4d4",
   "metadata": {},
   "outputs": [],
   "source": [
    "header"
   ]
  },
  {
   "cell_type": "code",
   "execution_count": 8,
   "id": "a8451d4f",
   "metadata": {},
   "outputs": [
    {
     "data": {
      "text/plain": [
       "Index(['Bearer_token'], dtype='object')"
      ]
     },
     "execution_count": 8,
     "metadata": {},
     "output_type": "execute_result"
    }
   ],
   "source": [
    "bearer_token.keys()"
   ]
  },
  {
   "cell_type": "code",
   "execution_count": 9,
   "id": "4e8fb4ae",
   "metadata": {},
   "outputs": [],
   "source": [
    "endpoint_url = 'https://api.twitter.com/2/tweets/search/recent'"
   ]
  },
  {
   "cell_type": "code",
   "execution_count": 119,
   "id": "6de048f9",
   "metadata": {},
   "outputs": [],
   "source": [
    "query = urllib.parse.quote('#Jeopardy OR #MattAmodio OR @Jeopardy lang:en')"
   ]
  },
  {
   "cell_type": "markdown",
   "id": "38f973dd",
   "metadata": {},
   "source": [
    "Here I am creating a query to parse the topics and language for my url. "
   ]
  },
  {
   "cell_type": "code",
   "execution_count": 120,
   "id": "9e0eae1d",
   "metadata": {},
   "outputs": [
    {
     "data": {
      "text/plain": [
       "'%23Jeopardy%20OR%20%23MattAmodio%20OR%20%40Jeopardy%20lang%3Aen'"
      ]
     },
     "execution_count": 120,
     "metadata": {},
     "output_type": "execute_result"
    }
   ],
   "source": [
    "query"
   ]
  },
  {
   "cell_type": "code",
   "execution_count": 121,
   "id": "8064e76d",
   "metadata": {},
   "outputs": [],
   "source": [
    "tweet_fields = 'public_metrics,created_at,author_id,lang,possibly_sensitive'"
   ]
  },
  {
   "cell_type": "markdown",
   "id": "aa2cd1a4",
   "metadata": {},
   "source": [
    "I am declaring the tweet fields I would like to see from Twitter."
   ]
  },
  {
   "cell_type": "code",
   "execution_count": 124,
   "id": "dbeae061",
   "metadata": {},
   "outputs": [],
   "source": [
    "my_api_url = endpoint_url + '?query={}&tweet.fields={}'.format(query, tweet_fields)"
   ]
  },
  {
   "cell_type": "markdown",
   "id": "5b01d68d",
   "metadata": {},
   "source": [
    "Here I am consolidating my url with the query."
   ]
  },
  {
   "cell_type": "code",
   "execution_count": 125,
   "id": "543765a6",
   "metadata": {},
   "outputs": [
    {
     "data": {
      "text/plain": [
       "'https://api.twitter.com/2/tweets/search/recent?query=%23Jeopardy%20OR%20%23MattAmodio%20OR%20%40Jeopardy%20lang%3Aen&tweet.fields=public_metrics,created_at,author_id,lang,possibly_sensitive'"
      ]
     },
     "execution_count": 125,
     "metadata": {},
     "output_type": "execute_result"
    }
   ],
   "source": [
    "my_api_url"
   ]
  },
  {
   "cell_type": "code",
   "execution_count": 126,
   "id": "0506dfa9",
   "metadata": {},
   "outputs": [],
   "source": [
    "expansions = 'author_id'"
   ]
  },
  {
   "cell_type": "markdown",
   "id": "50353d7d",
   "metadata": {},
   "source": [
    "I added author_id as an expansion to get more information."
   ]
  },
  {
   "cell_type": "code",
   "execution_count": 127,
   "id": "c084c2df",
   "metadata": {},
   "outputs": [],
   "source": [
    "url = endpoint_url + '?query={}&tweet.fields={}'.format(query, tweet_fields)"
   ]
  },
  {
   "cell_type": "code",
   "execution_count": 145,
   "id": "c2d722e1",
   "metadata": {},
   "outputs": [],
   "source": [
    "url_expansions = endpoint_url + '?query={}&max_results=100&tweet.fields={}&expansions={}&user.fields={}'.format(query, tweet_fields, expansions, 'username')"
   ]
  },
  {
   "cell_type": "markdown",
   "id": "23b810cf",
   "metadata": {},
   "source": [
    "Here I am specifying what I would like from the twitter data. Specifically max results of 100 tweets, tweet fields, expansions, and user fields. "
   ]
  },
  {
   "cell_type": "code",
   "execution_count": 146,
   "id": "6fd0d84b",
   "metadata": {},
   "outputs": [
    {
     "data": {
      "text/plain": [
       "'https://api.twitter.com/2/tweets/search/recent?query=%23Jeopardy%20OR%20%23MattAmodio%20OR%20%40Jeopardy%20lang%3Aen&max_results=100&tweet.fields=public_metrics,created_at,author_id,lang,possibly_sensitive&expansions=author_id&user.fields=username'"
      ]
     },
     "execution_count": 146,
     "metadata": {},
     "output_type": "execute_result"
    }
   ],
   "source": [
    "url_expansions"
   ]
  },
  {
   "cell_type": "code",
   "execution_count": 148,
   "id": "be352457",
   "metadata": {},
   "outputs": [],
   "source": [
    "response_1 = requests.request(\"GET\", url_expansions, headers = header)"
   ]
  },
  {
   "cell_type": "markdown",
   "id": "2df32b05",
   "metadata": {},
   "source": [
    "Here I am asking Twitter to answer my request using \"GET\" with my url. "
   ]
  },
  {
   "cell_type": "code",
   "execution_count": null,
   "id": "1c344405",
   "metadata": {},
   "outputs": [],
   "source": [
    "response_1.text"
   ]
  },
  {
   "cell_type": "code",
   "execution_count": 150,
   "id": "550b2608",
   "metadata": {},
   "outputs": [],
   "source": [
    "response_1_dict = json.loads(response_1.text)"
   ]
  },
  {
   "cell_type": "markdown",
   "id": "9548c702",
   "metadata": {},
   "source": [
    "Loading Twitter data into json"
   ]
  },
  {
   "cell_type": "code",
   "execution_count": 160,
   "id": "f40e575b",
   "metadata": {},
   "outputs": [
    {
     "data": {
      "text/plain": [
       "dict_keys(['data', 'includes', 'meta'])"
      ]
     },
     "execution_count": 160,
     "metadata": {},
     "output_type": "execute_result"
    }
   ],
   "source": [
    "response_1_dict.keys()"
   ]
  },
  {
   "cell_type": "code",
   "execution_count": 161,
   "id": "99bf4c62",
   "metadata": {},
   "outputs": [],
   "source": [
    "my_df = pd.DataFrame(response_1_dict['data'])"
   ]
  },
  {
   "cell_type": "markdown",
   "id": "88f32cbe",
   "metadata": {},
   "source": [
    "I am creating a data frame with the 'data' key."
   ]
  },
  {
   "cell_type": "code",
   "execution_count": 154,
   "id": "75160f27",
   "metadata": {},
   "outputs": [
    {
     "data": {
      "text/html": [
       "<div>\n",
       "<style scoped>\n",
       "    .dataframe tbody tr th:only-of-type {\n",
       "        vertical-align: middle;\n",
       "    }\n",
       "\n",
       "    .dataframe tbody tr th {\n",
       "        vertical-align: top;\n",
       "    }\n",
       "\n",
       "    .dataframe thead th {\n",
       "        text-align: right;\n",
       "    }\n",
       "</style>\n",
       "<table border=\"1\" class=\"dataframe\">\n",
       "  <thead>\n",
       "    <tr style=\"text-align: right;\">\n",
       "      <th></th>\n",
       "      <th>id</th>\n",
       "      <th>created_at</th>\n",
       "      <th>possibly_sensitive</th>\n",
       "      <th>public_metrics</th>\n",
       "      <th>author_id</th>\n",
       "      <th>lang</th>\n",
       "      <th>text</th>\n",
       "    </tr>\n",
       "  </thead>\n",
       "  <tbody>\n",
       "    <tr>\n",
       "      <th>0</th>\n",
       "      <td>1450933931910569987</td>\n",
       "      <td>2021-10-20T21:16:21.000Z</td>\n",
       "      <td>False</td>\n",
       "      <td>{'retweet_count': 24, 'reply_count': 0, 'like_...</td>\n",
       "      <td>1268672614458892291</td>\n",
       "      <td>en</td>\n",
       "      <td>RT @Jeopardy: You can only choose one Monopoly...</td>\n",
       "    </tr>\n",
       "    <tr>\n",
       "      <th>1</th>\n",
       "      <td>1450933728478388236</td>\n",
       "      <td>2021-10-20T21:15:32.000Z</td>\n",
       "      <td>False</td>\n",
       "      <td>{'retweet_count': 145, 'reply_count': 0, 'like...</td>\n",
       "      <td>1268672614458892291</td>\n",
       "      <td>en</td>\n",
       "      <td>RT @GifZelda: Last night on @Jeopardy https://...</td>\n",
       "    </tr>\n",
       "    <tr>\n",
       "      <th>2</th>\n",
       "      <td>1450933032991395840</td>\n",
       "      <td>2021-10-20T21:12:46.000Z</td>\n",
       "      <td>False</td>\n",
       "      <td>{'retweet_count': 0, 'reply_count': 0, 'like_c...</td>\n",
       "      <td>2608877450</td>\n",
       "      <td>en</td>\n",
       "      <td>@GifZelda @Jeopardy kinda looks like yoda’s he...</td>\n",
       "    </tr>\n",
       "    <tr>\n",
       "      <th>3</th>\n",
       "      <td>1450932545399529473</td>\n",
       "      <td>2021-10-20T21:10:50.000Z</td>\n",
       "      <td>False</td>\n",
       "      <td>{'retweet_count': 5, 'reply_count': 0, 'like_c...</td>\n",
       "      <td>24632657</td>\n",
       "      <td>en</td>\n",
       "      <td>RT @AmodioMatt: @Jeopardy I thought about tell...</td>\n",
       "    </tr>\n",
       "    <tr>\n",
       "      <th>4</th>\n",
       "      <td>1450932370509598721</td>\n",
       "      <td>2021-10-20T21:10:08.000Z</td>\n",
       "      <td>False</td>\n",
       "      <td>{'retweet_count': 145, 'reply_count': 0, 'like...</td>\n",
       "      <td>20022704</td>\n",
       "      <td>en</td>\n",
       "      <td>RT @GifZelda: Last night on @Jeopardy https://...</td>\n",
       "    </tr>\n",
       "    <tr>\n",
       "      <th>5</th>\n",
       "      <td>1450931738146865159</td>\n",
       "      <td>2021-10-20T21:07:38.000Z</td>\n",
       "      <td>False</td>\n",
       "      <td>{'retweet_count': 0, 'reply_count': 0, 'like_c...</td>\n",
       "      <td>1175520715556016128</td>\n",
       "      <td>en</td>\n",
       "      <td>@AmodioMatt @thegridkid @Jeopardy Queen Bee?</td>\n",
       "    </tr>\n",
       "    <tr>\n",
       "      <th>6</th>\n",
       "      <td>1450930886870851586</td>\n",
       "      <td>2021-10-20T21:04:15.000Z</td>\n",
       "      <td>False</td>\n",
       "      <td>{'retweet_count': 0, 'reply_count': 0, 'like_c...</td>\n",
       "      <td>1441563396214718470</td>\n",
       "      <td>en</td>\n",
       "      <td>@abc7newsbayarea @Jeopardy smart Asian kids.</td>\n",
       "    </tr>\n",
       "    <tr>\n",
       "      <th>7</th>\n",
       "      <td>1450929441971052544</td>\n",
       "      <td>2021-10-20T20:58:30.000Z</td>\n",
       "      <td>False</td>\n",
       "      <td>{'retweet_count': 1, 'reply_count': 0, 'like_c...</td>\n",
       "      <td>2862072799</td>\n",
       "      <td>en</td>\n",
       "      <td>RT @SJettRayburn: If you loved watching Matt A...</td>\n",
       "    </tr>\n",
       "    <tr>\n",
       "      <th>8</th>\n",
       "      <td>1450929011455004672</td>\n",
       "      <td>2021-10-20T20:56:47.000Z</td>\n",
       "      <td>False</td>\n",
       "      <td>{'retweet_count': 0, 'reply_count': 0, 'like_c...</td>\n",
       "      <td>870763031927472128</td>\n",
       "      <td>en</td>\n",
       "      <td>@DawnLMTTeach @AmodioMatt @JFishtheDish @Jeopa...</td>\n",
       "    </tr>\n",
       "    <tr>\n",
       "      <th>9</th>\n",
       "      <td>1450928716184358914</td>\n",
       "      <td>2021-10-20T20:55:37.000Z</td>\n",
       "      <td>False</td>\n",
       "      <td>{'retweet_count': 0, 'reply_count': 0, 'like_c...</td>\n",
       "      <td>347023262</td>\n",
       "      <td>en</td>\n",
       "      <td>@PigIronMedalist @AmodioMatt @thegridkid @Jeop...</td>\n",
       "    </tr>\n",
       "    <tr>\n",
       "      <th>10</th>\n",
       "      <td>1450928429528928261</td>\n",
       "      <td>2021-10-20T20:54:29.000Z</td>\n",
       "      <td>False</td>\n",
       "      <td>{'retweet_count': 1, 'reply_count': 0, 'like_c...</td>\n",
       "      <td>1252713856419483655</td>\n",
       "      <td>en</td>\n",
       "      <td>If you loved watching Matt Amodio on #Jeopardy...</td>\n",
       "    </tr>\n",
       "    <tr>\n",
       "      <th>11</th>\n",
       "      <td>1450927517339197443</td>\n",
       "      <td>2021-10-20T20:50:51.000Z</td>\n",
       "      <td>False</td>\n",
       "      <td>{'retweet_count': 145, 'reply_count': 0, 'like...</td>\n",
       "      <td>1039324134285762561</td>\n",
       "      <td>en</td>\n",
       "      <td>RT @GifZelda: Last night on @Jeopardy https://...</td>\n",
       "    </tr>\n",
       "    <tr>\n",
       "      <th>12</th>\n",
       "      <td>1450926407761252360</td>\n",
       "      <td>2021-10-20T20:46:27.000Z</td>\n",
       "      <td>False</td>\n",
       "      <td>{'retweet_count': 0, 'reply_count': 0, 'like_c...</td>\n",
       "      <td>1338958041861898242</td>\n",
       "      <td>en</td>\n",
       "      <td>@SageofFire113 @jedzelex @Nichola24984623 @Gif...</td>\n",
       "    </tr>\n",
       "    <tr>\n",
       "      <th>13</th>\n",
       "      <td>1450925235792982021</td>\n",
       "      <td>2021-10-20T20:41:47.000Z</td>\n",
       "      <td>False</td>\n",
       "      <td>{'retweet_count': 145, 'reply_count': 0, 'like...</td>\n",
       "      <td>1298044947463933952</td>\n",
       "      <td>en</td>\n",
       "      <td>RT @GifZelda: Last night on @Jeopardy https://...</td>\n",
       "    </tr>\n",
       "    <tr>\n",
       "      <th>14</th>\n",
       "      <td>1450925084651233282</td>\n",
       "      <td>2021-10-20T20:41:11.000Z</td>\n",
       "      <td>False</td>\n",
       "      <td>{'retweet_count': 0, 'reply_count': 1, 'like_c...</td>\n",
       "      <td>1397957840829136896</td>\n",
       "      <td>en</td>\n",
       "      <td>@richieminri @jedzelex @Nichola24984623 @GifZe...</td>\n",
       "    </tr>\n",
       "    <tr>\n",
       "      <th>15</th>\n",
       "      <td>1450924984059285506</td>\n",
       "      <td>2021-10-20T20:40:47.000Z</td>\n",
       "      <td>False</td>\n",
       "      <td>{'retweet_count': 0, 'reply_count': 0, 'like_c...</td>\n",
       "      <td>1397957840829136896</td>\n",
       "      <td>en</td>\n",
       "      <td>@jedzelex @richieminri @Nichola24984623 @GifZe...</td>\n",
       "    </tr>\n",
       "    <tr>\n",
       "      <th>16</th>\n",
       "      <td>1450924828894982146</td>\n",
       "      <td>2021-10-20T20:40:10.000Z</td>\n",
       "      <td>False</td>\n",
       "      <td>{'retweet_count': 0, 'reply_count': 0, 'like_c...</td>\n",
       "      <td>79364373</td>\n",
       "      <td>en</td>\n",
       "      <td>@AmodioMatt @JFishtheDish @Jeopardy Matt! Matt...</td>\n",
       "    </tr>\n",
       "    <tr>\n",
       "      <th>17</th>\n",
       "      <td>1450924732648394757</td>\n",
       "      <td>2021-10-20T20:39:47.000Z</td>\n",
       "      <td>False</td>\n",
       "      <td>{'retweet_count': 7, 'reply_count': 0, 'like_c...</td>\n",
       "      <td>18924223</td>\n",
       "      <td>en</td>\n",
       "      <td>RT @MostlyAdmiring: .@KenJennings will always ...</td>\n",
       "    </tr>\n",
       "    <tr>\n",
       "      <th>18</th>\n",
       "      <td>1450923793266905092</td>\n",
       "      <td>2021-10-20T20:36:03.000Z</td>\n",
       "      <td>False</td>\n",
       "      <td>{'retweet_count': 0, 'reply_count': 0, 'like_c...</td>\n",
       "      <td>1208645249234427904</td>\n",
       "      <td>en</td>\n",
       "      <td>@MatPatGT @Jeopardy @SPTV @AmodioMatt Mat can ...</td>\n",
       "    </tr>\n",
       "    <tr>\n",
       "      <th>19</th>\n",
       "      <td>1450923653529436161</td>\n",
       "      <td>2021-10-20T20:35:30.000Z</td>\n",
       "      <td>False</td>\n",
       "      <td>{'retweet_count': 0, 'reply_count': 1, 'like_c...</td>\n",
       "      <td>1338958041861898242</td>\n",
       "      <td>en</td>\n",
       "      <td>@jedzelex @SageofFire113 @Nichola24984623 @Gif...</td>\n",
       "    </tr>\n",
       "  </tbody>\n",
       "</table>\n",
       "</div>"
      ],
      "text/plain": [
       "                     id                created_at  possibly_sensitive  \\\n",
       "0   1450933931910569987  2021-10-20T21:16:21.000Z               False   \n",
       "1   1450933728478388236  2021-10-20T21:15:32.000Z               False   \n",
       "2   1450933032991395840  2021-10-20T21:12:46.000Z               False   \n",
       "3   1450932545399529473  2021-10-20T21:10:50.000Z               False   \n",
       "4   1450932370509598721  2021-10-20T21:10:08.000Z               False   \n",
       "5   1450931738146865159  2021-10-20T21:07:38.000Z               False   \n",
       "6   1450930886870851586  2021-10-20T21:04:15.000Z               False   \n",
       "7   1450929441971052544  2021-10-20T20:58:30.000Z               False   \n",
       "8   1450929011455004672  2021-10-20T20:56:47.000Z               False   \n",
       "9   1450928716184358914  2021-10-20T20:55:37.000Z               False   \n",
       "10  1450928429528928261  2021-10-20T20:54:29.000Z               False   \n",
       "11  1450927517339197443  2021-10-20T20:50:51.000Z               False   \n",
       "12  1450926407761252360  2021-10-20T20:46:27.000Z               False   \n",
       "13  1450925235792982021  2021-10-20T20:41:47.000Z               False   \n",
       "14  1450925084651233282  2021-10-20T20:41:11.000Z               False   \n",
       "15  1450924984059285506  2021-10-20T20:40:47.000Z               False   \n",
       "16  1450924828894982146  2021-10-20T20:40:10.000Z               False   \n",
       "17  1450924732648394757  2021-10-20T20:39:47.000Z               False   \n",
       "18  1450923793266905092  2021-10-20T20:36:03.000Z               False   \n",
       "19  1450923653529436161  2021-10-20T20:35:30.000Z               False   \n",
       "\n",
       "                                       public_metrics            author_id  \\\n",
       "0   {'retweet_count': 24, 'reply_count': 0, 'like_...  1268672614458892291   \n",
       "1   {'retweet_count': 145, 'reply_count': 0, 'like...  1268672614458892291   \n",
       "2   {'retweet_count': 0, 'reply_count': 0, 'like_c...           2608877450   \n",
       "3   {'retweet_count': 5, 'reply_count': 0, 'like_c...             24632657   \n",
       "4   {'retweet_count': 145, 'reply_count': 0, 'like...             20022704   \n",
       "5   {'retweet_count': 0, 'reply_count': 0, 'like_c...  1175520715556016128   \n",
       "6   {'retweet_count': 0, 'reply_count': 0, 'like_c...  1441563396214718470   \n",
       "7   {'retweet_count': 1, 'reply_count': 0, 'like_c...           2862072799   \n",
       "8   {'retweet_count': 0, 'reply_count': 0, 'like_c...   870763031927472128   \n",
       "9   {'retweet_count': 0, 'reply_count': 0, 'like_c...            347023262   \n",
       "10  {'retweet_count': 1, 'reply_count': 0, 'like_c...  1252713856419483655   \n",
       "11  {'retweet_count': 145, 'reply_count': 0, 'like...  1039324134285762561   \n",
       "12  {'retweet_count': 0, 'reply_count': 0, 'like_c...  1338958041861898242   \n",
       "13  {'retweet_count': 145, 'reply_count': 0, 'like...  1298044947463933952   \n",
       "14  {'retweet_count': 0, 'reply_count': 1, 'like_c...  1397957840829136896   \n",
       "15  {'retweet_count': 0, 'reply_count': 0, 'like_c...  1397957840829136896   \n",
       "16  {'retweet_count': 0, 'reply_count': 0, 'like_c...             79364373   \n",
       "17  {'retweet_count': 7, 'reply_count': 0, 'like_c...             18924223   \n",
       "18  {'retweet_count': 0, 'reply_count': 0, 'like_c...  1208645249234427904   \n",
       "19  {'retweet_count': 0, 'reply_count': 1, 'like_c...  1338958041861898242   \n",
       "\n",
       "   lang                                               text  \n",
       "0    en  RT @Jeopardy: You can only choose one Monopoly...  \n",
       "1    en  RT @GifZelda: Last night on @Jeopardy https://...  \n",
       "2    en  @GifZelda @Jeopardy kinda looks like yoda’s he...  \n",
       "3    en  RT @AmodioMatt: @Jeopardy I thought about tell...  \n",
       "4    en  RT @GifZelda: Last night on @Jeopardy https://...  \n",
       "5    en       @AmodioMatt @thegridkid @Jeopardy Queen Bee?  \n",
       "6    en       @abc7newsbayarea @Jeopardy smart Asian kids.  \n",
       "7    en  RT @SJettRayburn: If you loved watching Matt A...  \n",
       "8    en  @DawnLMTTeach @AmodioMatt @JFishtheDish @Jeopa...  \n",
       "9    en  @PigIronMedalist @AmodioMatt @thegridkid @Jeop...  \n",
       "10   en  If you loved watching Matt Amodio on #Jeopardy...  \n",
       "11   en  RT @GifZelda: Last night on @Jeopardy https://...  \n",
       "12   en  @SageofFire113 @jedzelex @Nichola24984623 @Gif...  \n",
       "13   en  RT @GifZelda: Last night on @Jeopardy https://...  \n",
       "14   en  @richieminri @jedzelex @Nichola24984623 @GifZe...  \n",
       "15   en  @jedzelex @richieminri @Nichola24984623 @GifZe...  \n",
       "16   en  @AmodioMatt @JFishtheDish @Jeopardy Matt! Matt...  \n",
       "17   en  RT @MostlyAdmiring: .@KenJennings will always ...  \n",
       "18   en  @MatPatGT @Jeopardy @SPTV @AmodioMatt Mat can ...  \n",
       "19   en  @jedzelex @SageofFire113 @Nichola24984623 @Gif...  "
      ]
     },
     "execution_count": 154,
     "metadata": {},
     "output_type": "execute_result"
    }
   ],
   "source": [
    "my_df.head(20)"
   ]
  },
  {
   "cell_type": "code",
   "execution_count": 155,
   "id": "6488b5eb",
   "metadata": {},
   "outputs": [
    {
     "data": {
      "text/plain": [
       "{'newest_id': '1450933931910569987',\n",
       " 'oldest_id': '1450899115748085765',\n",
       " 'result_count': 100,\n",
       " 'next_token': 'b26v89c19zqg8o3fpdv5sr0vafti8qbym3d1zc5ifz0ql'}"
      ]
     },
     "execution_count": 155,
     "metadata": {},
     "output_type": "execute_result"
    }
   ],
   "source": [
    "response_1_dict['meta']"
   ]
  },
  {
   "cell_type": "markdown",
   "id": "734764c8",
   "metadata": {},
   "source": [
    "This gives me the next_token I can use to make another request."
   ]
  },
  {
   "cell_type": "code",
   "execution_count": 164,
   "id": "476ae76b",
   "metadata": {},
   "outputs": [],
   "source": [
    "my_api_url_2 = my_api_url + '&next_token={}&max_results=100'.format(response_1_dict['meta']['next_token'])"
   ]
  },
  {
   "cell_type": "markdown",
   "id": "a569d244",
   "metadata": {},
   "source": [
    "Here I am creating a new url containing the next_token."
   ]
  },
  {
   "cell_type": "code",
   "execution_count": 165,
   "id": "2cc74fa0",
   "metadata": {},
   "outputs": [
    {
     "data": {
      "text/plain": [
       "'https://api.twitter.com/2/tweets/search/recent?query=%23Jeopardy%20OR%20%23MattAmodio%20OR%20%40Jeopardy%20lang%3Aen&tweet.fields=public_metrics,created_at,author_id,lang,possibly_sensitive&next_token=b26v89c19zqg8o3fpdv5sr0vafti8qbym3d1zc5ifz0ql&max_results=100'"
      ]
     },
     "execution_count": 165,
     "metadata": {},
     "output_type": "execute_result"
    }
   ],
   "source": [
    "my_api_url_2"
   ]
  },
  {
   "cell_type": "code",
   "execution_count": 166,
   "id": "25be813c",
   "metadata": {},
   "outputs": [],
   "source": [
    "response_2 = requests.request(\"GET\", my_api_url_2, headers = header)"
   ]
  },
  {
   "cell_type": "markdown",
   "id": "beb12430",
   "metadata": {},
   "source": [
    "Here I am making my 2nd request for 100 tweets of Twitter data regarding Jeopardy."
   ]
  },
  {
   "cell_type": "code",
   "execution_count": null,
   "id": "2f838d08",
   "metadata": {},
   "outputs": [],
   "source": [
    "response_2.text"
   ]
  },
  {
   "cell_type": "code",
   "execution_count": 168,
   "id": "6d3dd7dc",
   "metadata": {},
   "outputs": [],
   "source": [
    "my_df = my_df.append(pd.DataFrame(json.loads(response_2.text)['data']), ignore_index= True)"
   ]
  },
  {
   "cell_type": "markdown",
   "id": "a25af317",
   "metadata": {},
   "source": [
    "Adding my data together"
   ]
  },
  {
   "cell_type": "code",
   "execution_count": 169,
   "id": "20c59aba",
   "metadata": {},
   "outputs": [
    {
     "data": {
      "text/html": [
       "<div>\n",
       "<style scoped>\n",
       "    .dataframe tbody tr th:only-of-type {\n",
       "        vertical-align: middle;\n",
       "    }\n",
       "\n",
       "    .dataframe tbody tr th {\n",
       "        vertical-align: top;\n",
       "    }\n",
       "\n",
       "    .dataframe thead th {\n",
       "        text-align: right;\n",
       "    }\n",
       "</style>\n",
       "<table border=\"1\" class=\"dataframe\">\n",
       "  <thead>\n",
       "    <tr style=\"text-align: right;\">\n",
       "      <th></th>\n",
       "      <th>id</th>\n",
       "      <th>created_at</th>\n",
       "      <th>possibly_sensitive</th>\n",
       "      <th>public_metrics</th>\n",
       "      <th>author_id</th>\n",
       "      <th>lang</th>\n",
       "      <th>text</th>\n",
       "    </tr>\n",
       "  </thead>\n",
       "  <tbody>\n",
       "    <tr>\n",
       "      <th>0</th>\n",
       "      <td>1450933931910569987</td>\n",
       "      <td>2021-10-20T21:16:21.000Z</td>\n",
       "      <td>False</td>\n",
       "      <td>{'retweet_count': 24, 'reply_count': 0, 'like_...</td>\n",
       "      <td>1268672614458892291</td>\n",
       "      <td>en</td>\n",
       "      <td>RT @Jeopardy: You can only choose one Monopoly...</td>\n",
       "    </tr>\n",
       "    <tr>\n",
       "      <th>1</th>\n",
       "      <td>1450933728478388236</td>\n",
       "      <td>2021-10-20T21:15:32.000Z</td>\n",
       "      <td>False</td>\n",
       "      <td>{'retweet_count': 145, 'reply_count': 0, 'like...</td>\n",
       "      <td>1268672614458892291</td>\n",
       "      <td>en</td>\n",
       "      <td>RT @GifZelda: Last night on @Jeopardy https://...</td>\n",
       "    </tr>\n",
       "    <tr>\n",
       "      <th>2</th>\n",
       "      <td>1450933032991395840</td>\n",
       "      <td>2021-10-20T21:12:46.000Z</td>\n",
       "      <td>False</td>\n",
       "      <td>{'retweet_count': 0, 'reply_count': 0, 'like_c...</td>\n",
       "      <td>2608877450</td>\n",
       "      <td>en</td>\n",
       "      <td>@GifZelda @Jeopardy kinda looks like yoda’s he...</td>\n",
       "    </tr>\n",
       "    <tr>\n",
       "      <th>3</th>\n",
       "      <td>1450932545399529473</td>\n",
       "      <td>2021-10-20T21:10:50.000Z</td>\n",
       "      <td>False</td>\n",
       "      <td>{'retweet_count': 5, 'reply_count': 0, 'like_c...</td>\n",
       "      <td>24632657</td>\n",
       "      <td>en</td>\n",
       "      <td>RT @AmodioMatt: @Jeopardy I thought about tell...</td>\n",
       "    </tr>\n",
       "    <tr>\n",
       "      <th>4</th>\n",
       "      <td>1450932370509598721</td>\n",
       "      <td>2021-10-20T21:10:08.000Z</td>\n",
       "      <td>False</td>\n",
       "      <td>{'retweet_count': 145, 'reply_count': 0, 'like...</td>\n",
       "      <td>20022704</td>\n",
       "      <td>en</td>\n",
       "      <td>RT @GifZelda: Last night on @Jeopardy https://...</td>\n",
       "    </tr>\n",
       "    <tr>\n",
       "      <th>...</th>\n",
       "      <td>...</td>\n",
       "      <td>...</td>\n",
       "      <td>...</td>\n",
       "      <td>...</td>\n",
       "      <td>...</td>\n",
       "      <td>...</td>\n",
       "      <td>...</td>\n",
       "    </tr>\n",
       "    <tr>\n",
       "      <th>195</th>\n",
       "      <td>1450861758579675136</td>\n",
       "      <td>2021-10-20T16:29:33.000Z</td>\n",
       "      <td>False</td>\n",
       "      <td>{'retweet_count': 0, 'reply_count': 0, 'like_c...</td>\n",
       "      <td>40016769</td>\n",
       "      <td>en</td>\n",
       "      <td>@AmodioMatt @Jeopardy @thegridkid This oversig...</td>\n",
       "    </tr>\n",
       "    <tr>\n",
       "      <th>196</th>\n",
       "      <td>1450861728820985862</td>\n",
       "      <td>2021-10-20T16:29:26.000Z</td>\n",
       "      <td>False</td>\n",
       "      <td>{'retweet_count': 145, 'reply_count': 0, 'like...</td>\n",
       "      <td>1167946699815280640</td>\n",
       "      <td>en</td>\n",
       "      <td>RT @GifZelda: Last night on @Jeopardy https://...</td>\n",
       "    </tr>\n",
       "    <tr>\n",
       "      <th>197</th>\n",
       "      <td>1450861727227125765</td>\n",
       "      <td>2021-10-20T16:29:26.000Z</td>\n",
       "      <td>False</td>\n",
       "      <td>{'retweet_count': 0, 'reply_count': 0, 'like_c...</td>\n",
       "      <td>929718505087234048</td>\n",
       "      <td>en</td>\n",
       "      <td>@GifZelda @Jeopardy That’s obviously The Metro...</td>\n",
       "    </tr>\n",
       "    <tr>\n",
       "      <th>198</th>\n",
       "      <td>1450861456803700744</td>\n",
       "      <td>2021-10-20T16:28:21.000Z</td>\n",
       "      <td>False</td>\n",
       "      <td>{'retweet_count': 0, 'reply_count': 0, 'like_c...</td>\n",
       "      <td>937478541142319104</td>\n",
       "      <td>en</td>\n",
       "      <td>@teedeeann @Jeopardy Hi Teresa, I noticed you ...</td>\n",
       "    </tr>\n",
       "    <tr>\n",
       "      <th>199</th>\n",
       "      <td>1450860691888369666</td>\n",
       "      <td>2021-10-20T16:25:19.000Z</td>\n",
       "      <td>False</td>\n",
       "      <td>{'retweet_count': 0, 'reply_count': 0, 'like_c...</td>\n",
       "      <td>66290369</td>\n",
       "      <td>en</td>\n",
       "      <td>@AmodioMatt @Jeopardy @thegridkid We stan a qu...</td>\n",
       "    </tr>\n",
       "  </tbody>\n",
       "</table>\n",
       "<p>200 rows × 7 columns</p>\n",
       "</div>"
      ],
      "text/plain": [
       "                      id                created_at  possibly_sensitive  \\\n",
       "0    1450933931910569987  2021-10-20T21:16:21.000Z               False   \n",
       "1    1450933728478388236  2021-10-20T21:15:32.000Z               False   \n",
       "2    1450933032991395840  2021-10-20T21:12:46.000Z               False   \n",
       "3    1450932545399529473  2021-10-20T21:10:50.000Z               False   \n",
       "4    1450932370509598721  2021-10-20T21:10:08.000Z               False   \n",
       "..                   ...                       ...                 ...   \n",
       "195  1450861758579675136  2021-10-20T16:29:33.000Z               False   \n",
       "196  1450861728820985862  2021-10-20T16:29:26.000Z               False   \n",
       "197  1450861727227125765  2021-10-20T16:29:26.000Z               False   \n",
       "198  1450861456803700744  2021-10-20T16:28:21.000Z               False   \n",
       "199  1450860691888369666  2021-10-20T16:25:19.000Z               False   \n",
       "\n",
       "                                        public_metrics            author_id  \\\n",
       "0    {'retweet_count': 24, 'reply_count': 0, 'like_...  1268672614458892291   \n",
       "1    {'retweet_count': 145, 'reply_count': 0, 'like...  1268672614458892291   \n",
       "2    {'retweet_count': 0, 'reply_count': 0, 'like_c...           2608877450   \n",
       "3    {'retweet_count': 5, 'reply_count': 0, 'like_c...             24632657   \n",
       "4    {'retweet_count': 145, 'reply_count': 0, 'like...             20022704   \n",
       "..                                                 ...                  ...   \n",
       "195  {'retweet_count': 0, 'reply_count': 0, 'like_c...             40016769   \n",
       "196  {'retweet_count': 145, 'reply_count': 0, 'like...  1167946699815280640   \n",
       "197  {'retweet_count': 0, 'reply_count': 0, 'like_c...   929718505087234048   \n",
       "198  {'retweet_count': 0, 'reply_count': 0, 'like_c...   937478541142319104   \n",
       "199  {'retweet_count': 0, 'reply_count': 0, 'like_c...             66290369   \n",
       "\n",
       "    lang                                               text  \n",
       "0     en  RT @Jeopardy: You can only choose one Monopoly...  \n",
       "1     en  RT @GifZelda: Last night on @Jeopardy https://...  \n",
       "2     en  @GifZelda @Jeopardy kinda looks like yoda’s he...  \n",
       "3     en  RT @AmodioMatt: @Jeopardy I thought about tell...  \n",
       "4     en  RT @GifZelda: Last night on @Jeopardy https://...  \n",
       "..   ...                                                ...  \n",
       "195   en  @AmodioMatt @Jeopardy @thegridkid This oversig...  \n",
       "196   en  RT @GifZelda: Last night on @Jeopardy https://...  \n",
       "197   en  @GifZelda @Jeopardy That’s obviously The Metro...  \n",
       "198   en  @teedeeann @Jeopardy Hi Teresa, I noticed you ...  \n",
       "199   en  @AmodioMatt @Jeopardy @thegridkid We stan a qu...  \n",
       "\n",
       "[200 rows x 7 columns]"
      ]
     },
     "execution_count": 169,
     "metadata": {},
     "output_type": "execute_result"
    }
   ],
   "source": [
    "my_df"
   ]
  },
  {
   "cell_type": "code",
   "execution_count": 177,
   "id": "10d71d96",
   "metadata": {},
   "outputs": [],
   "source": [
    "my_api_url_3 = my_api_url_2 + '&next_token={}&max_results=100'.format(response_1_dict['meta']['next_token'])"
   ]
  },
  {
   "cell_type": "markdown",
   "id": "d2bdf096",
   "metadata": {},
   "source": [
    "Here I am creating a new url containing the old one and the next_token."
   ]
  },
  {
   "cell_type": "code",
   "execution_count": 178,
   "id": "578f80e1",
   "metadata": {},
   "outputs": [
    {
     "data": {
      "text/plain": [
       "'https://api.twitter.com/2/tweets/search/recent?query=%23Jeopardy%20OR%20%23MattAmodio%20OR%20%40Jeopardy%20lang%3Aen&tweet.fields=public_metrics,created_at,author_id,lang,possibly_sensitive&next_token=b26v89c19zqg8o3fpdv5sr0vafti8qbym3d1zc5ifz0ql&max_results=100&next_token=b26v89c19zqg8o3fpdv5sr0vafti8qbym3d1zc5ifz0ql&max_results=100'"
      ]
     },
     "execution_count": 178,
     "metadata": {},
     "output_type": "execute_result"
    }
   ],
   "source": [
    "my_api_url_3"
   ]
  },
  {
   "cell_type": "code",
   "execution_count": 179,
   "id": "93edd449",
   "metadata": {},
   "outputs": [],
   "source": [
    "response_3 = requests.request(\"GET\", my_api_url_2, headers = header)"
   ]
  },
  {
   "cell_type": "markdown",
   "id": "d8bc129a",
   "metadata": {},
   "source": [
    "I am making the request for Twitter data specific to my query."
   ]
  },
  {
   "cell_type": "code",
   "execution_count": null,
   "id": "8aaf7d18",
   "metadata": {},
   "outputs": [],
   "source": [
    "response_3.text"
   ]
  },
  {
   "cell_type": "code",
   "execution_count": 181,
   "id": "9c3f5d5d",
   "metadata": {},
   "outputs": [],
   "source": [
    "my_df = my_df.append(pd.DataFrame(json.loads(response_3.text)['data']), ignore_index= True)"
   ]
  },
  {
   "cell_type": "markdown",
   "id": "32a78702",
   "metadata": {},
   "source": [
    "Here I am adding my 3rd set of data to my data frame. "
   ]
  },
  {
   "cell_type": "code",
   "execution_count": 182,
   "id": "a9f2d5ba",
   "metadata": {},
   "outputs": [
    {
     "data": {
      "text/html": [
       "<div>\n",
       "<style scoped>\n",
       "    .dataframe tbody tr th:only-of-type {\n",
       "        vertical-align: middle;\n",
       "    }\n",
       "\n",
       "    .dataframe tbody tr th {\n",
       "        vertical-align: top;\n",
       "    }\n",
       "\n",
       "    .dataframe thead th {\n",
       "        text-align: right;\n",
       "    }\n",
       "</style>\n",
       "<table border=\"1\" class=\"dataframe\">\n",
       "  <thead>\n",
       "    <tr style=\"text-align: right;\">\n",
       "      <th></th>\n",
       "      <th>id</th>\n",
       "      <th>created_at</th>\n",
       "      <th>possibly_sensitive</th>\n",
       "      <th>public_metrics</th>\n",
       "      <th>author_id</th>\n",
       "      <th>lang</th>\n",
       "      <th>text</th>\n",
       "    </tr>\n",
       "  </thead>\n",
       "  <tbody>\n",
       "    <tr>\n",
       "      <th>0</th>\n",
       "      <td>1450933931910569987</td>\n",
       "      <td>2021-10-20T21:16:21.000Z</td>\n",
       "      <td>False</td>\n",
       "      <td>{'retweet_count': 24, 'reply_count': 0, 'like_...</td>\n",
       "      <td>1268672614458892291</td>\n",
       "      <td>en</td>\n",
       "      <td>RT @Jeopardy: You can only choose one Monopoly...</td>\n",
       "    </tr>\n",
       "    <tr>\n",
       "      <th>1</th>\n",
       "      <td>1450933728478388236</td>\n",
       "      <td>2021-10-20T21:15:32.000Z</td>\n",
       "      <td>False</td>\n",
       "      <td>{'retweet_count': 145, 'reply_count': 0, 'like...</td>\n",
       "      <td>1268672614458892291</td>\n",
       "      <td>en</td>\n",
       "      <td>RT @GifZelda: Last night on @Jeopardy https://...</td>\n",
       "    </tr>\n",
       "    <tr>\n",
       "      <th>2</th>\n",
       "      <td>1450933032991395840</td>\n",
       "      <td>2021-10-20T21:12:46.000Z</td>\n",
       "      <td>False</td>\n",
       "      <td>{'retweet_count': 0, 'reply_count': 0, 'like_c...</td>\n",
       "      <td>2608877450</td>\n",
       "      <td>en</td>\n",
       "      <td>@GifZelda @Jeopardy kinda looks like yoda’s he...</td>\n",
       "    </tr>\n",
       "    <tr>\n",
       "      <th>3</th>\n",
       "      <td>1450932545399529473</td>\n",
       "      <td>2021-10-20T21:10:50.000Z</td>\n",
       "      <td>False</td>\n",
       "      <td>{'retweet_count': 5, 'reply_count': 0, 'like_c...</td>\n",
       "      <td>24632657</td>\n",
       "      <td>en</td>\n",
       "      <td>RT @AmodioMatt: @Jeopardy I thought about tell...</td>\n",
       "    </tr>\n",
       "    <tr>\n",
       "      <th>4</th>\n",
       "      <td>1450932370509598721</td>\n",
       "      <td>2021-10-20T21:10:08.000Z</td>\n",
       "      <td>False</td>\n",
       "      <td>{'retweet_count': 145, 'reply_count': 0, 'like...</td>\n",
       "      <td>20022704</td>\n",
       "      <td>en</td>\n",
       "      <td>RT @GifZelda: Last night on @Jeopardy https://...</td>\n",
       "    </tr>\n",
       "    <tr>\n",
       "      <th>...</th>\n",
       "      <td>...</td>\n",
       "      <td>...</td>\n",
       "      <td>...</td>\n",
       "      <td>...</td>\n",
       "      <td>...</td>\n",
       "      <td>...</td>\n",
       "      <td>...</td>\n",
       "    </tr>\n",
       "    <tr>\n",
       "      <th>295</th>\n",
       "      <td>1450861758579675136</td>\n",
       "      <td>2021-10-20T16:29:33.000Z</td>\n",
       "      <td>False</td>\n",
       "      <td>{'retweet_count': 0, 'reply_count': 0, 'like_c...</td>\n",
       "      <td>40016769</td>\n",
       "      <td>en</td>\n",
       "      <td>@AmodioMatt @Jeopardy @thegridkid This oversig...</td>\n",
       "    </tr>\n",
       "    <tr>\n",
       "      <th>296</th>\n",
       "      <td>1450861728820985862</td>\n",
       "      <td>2021-10-20T16:29:26.000Z</td>\n",
       "      <td>False</td>\n",
       "      <td>{'retweet_count': 147, 'reply_count': 0, 'like...</td>\n",
       "      <td>1167946699815280640</td>\n",
       "      <td>en</td>\n",
       "      <td>RT @GifZelda: Last night on @Jeopardy https://...</td>\n",
       "    </tr>\n",
       "    <tr>\n",
       "      <th>297</th>\n",
       "      <td>1450861727227125765</td>\n",
       "      <td>2021-10-20T16:29:26.000Z</td>\n",
       "      <td>False</td>\n",
       "      <td>{'retweet_count': 0, 'reply_count': 0, 'like_c...</td>\n",
       "      <td>929718505087234048</td>\n",
       "      <td>en</td>\n",
       "      <td>@GifZelda @Jeopardy That’s obviously The Metro...</td>\n",
       "    </tr>\n",
       "    <tr>\n",
       "      <th>298</th>\n",
       "      <td>1450861456803700744</td>\n",
       "      <td>2021-10-20T16:28:21.000Z</td>\n",
       "      <td>False</td>\n",
       "      <td>{'retweet_count': 0, 'reply_count': 0, 'like_c...</td>\n",
       "      <td>937478541142319104</td>\n",
       "      <td>en</td>\n",
       "      <td>@teedeeann @Jeopardy Hi Teresa, I noticed you ...</td>\n",
       "    </tr>\n",
       "    <tr>\n",
       "      <th>299</th>\n",
       "      <td>1450860691888369666</td>\n",
       "      <td>2021-10-20T16:25:19.000Z</td>\n",
       "      <td>False</td>\n",
       "      <td>{'retweet_count': 0, 'reply_count': 0, 'like_c...</td>\n",
       "      <td>66290369</td>\n",
       "      <td>en</td>\n",
       "      <td>@AmodioMatt @Jeopardy @thegridkid We stan a qu...</td>\n",
       "    </tr>\n",
       "  </tbody>\n",
       "</table>\n",
       "<p>300 rows × 7 columns</p>\n",
       "</div>"
      ],
      "text/plain": [
       "                      id                created_at  possibly_sensitive  \\\n",
       "0    1450933931910569987  2021-10-20T21:16:21.000Z               False   \n",
       "1    1450933728478388236  2021-10-20T21:15:32.000Z               False   \n",
       "2    1450933032991395840  2021-10-20T21:12:46.000Z               False   \n",
       "3    1450932545399529473  2021-10-20T21:10:50.000Z               False   \n",
       "4    1450932370509598721  2021-10-20T21:10:08.000Z               False   \n",
       "..                   ...                       ...                 ...   \n",
       "295  1450861758579675136  2021-10-20T16:29:33.000Z               False   \n",
       "296  1450861728820985862  2021-10-20T16:29:26.000Z               False   \n",
       "297  1450861727227125765  2021-10-20T16:29:26.000Z               False   \n",
       "298  1450861456803700744  2021-10-20T16:28:21.000Z               False   \n",
       "299  1450860691888369666  2021-10-20T16:25:19.000Z               False   \n",
       "\n",
       "                                        public_metrics            author_id  \\\n",
       "0    {'retweet_count': 24, 'reply_count': 0, 'like_...  1268672614458892291   \n",
       "1    {'retweet_count': 145, 'reply_count': 0, 'like...  1268672614458892291   \n",
       "2    {'retweet_count': 0, 'reply_count': 0, 'like_c...           2608877450   \n",
       "3    {'retweet_count': 5, 'reply_count': 0, 'like_c...             24632657   \n",
       "4    {'retweet_count': 145, 'reply_count': 0, 'like...             20022704   \n",
       "..                                                 ...                  ...   \n",
       "295  {'retweet_count': 0, 'reply_count': 0, 'like_c...             40016769   \n",
       "296  {'retweet_count': 147, 'reply_count': 0, 'like...  1167946699815280640   \n",
       "297  {'retweet_count': 0, 'reply_count': 0, 'like_c...   929718505087234048   \n",
       "298  {'retweet_count': 0, 'reply_count': 0, 'like_c...   937478541142319104   \n",
       "299  {'retweet_count': 0, 'reply_count': 0, 'like_c...             66290369   \n",
       "\n",
       "    lang                                               text  \n",
       "0     en  RT @Jeopardy: You can only choose one Monopoly...  \n",
       "1     en  RT @GifZelda: Last night on @Jeopardy https://...  \n",
       "2     en  @GifZelda @Jeopardy kinda looks like yoda’s he...  \n",
       "3     en  RT @AmodioMatt: @Jeopardy I thought about tell...  \n",
       "4     en  RT @GifZelda: Last night on @Jeopardy https://...  \n",
       "..   ...                                                ...  \n",
       "295   en  @AmodioMatt @Jeopardy @thegridkid This oversig...  \n",
       "296   en  RT @GifZelda: Last night on @Jeopardy https://...  \n",
       "297   en  @GifZelda @Jeopardy That’s obviously The Metro...  \n",
       "298   en  @teedeeann @Jeopardy Hi Teresa, I noticed you ...  \n",
       "299   en  @AmodioMatt @Jeopardy @thegridkid We stan a qu...  \n",
       "\n",
       "[300 rows x 7 columns]"
      ]
     },
     "execution_count": 182,
     "metadata": {},
     "output_type": "execute_result"
    }
   ],
   "source": [
    "my_df"
   ]
  },
  {
   "cell_type": "code",
   "execution_count": 183,
   "id": "f5dadfc3",
   "metadata": {},
   "outputs": [],
   "source": [
    "my_df.to_csv(\"twitter_data.csv\")"
   ]
  },
  {
   "cell_type": "markdown",
   "id": "5a655deb",
   "metadata": {},
   "source": [
    "Here I am sending my readable data frame to a csv file so I can better visualize the data I have received from Twitter. "
   ]
  },
  {
   "cell_type": "markdown",
   "id": "cb256c40",
   "metadata": {},
   "source": [
    "## Analysis ##"
   ]
  },
  {
   "cell_type": "markdown",
   "id": "6367bc32",
   "metadata": {},
   "source": [
    "My question going into this assignment is generally about Jeopardy Twitter and what’s discussed most about Jeopardy. I follow the Jeopardy topic on Twitter and sometimes it gets really intense. This is why I chose to add the tweet field ‘possibly_sensitive’. Last Monday, the champ of 30+ days, Matt, lost. For this assignment, I wanted to gather all tweets that had ‘Jeopardy’ or @Jeopardy to see how many of the tweets were still talking about him and what they had to say. I did this by parsing ‘Jeopardy’ and @Jeopardy into the URL. "
   ]
  },
  {
   "cell_type": "markdown",
   "id": "788dc714",
   "metadata": {},
   "source": [
    "I thought that the 'possibliy_sensitive' field would be helpful, but after I examined the data in the csv, the only tweet that said \"True\" was from a porn account. \n",
    "I also read a few meanish statements to Matt, one said \"@AmodioMatt @JFishtheDish @Jeopardy I know you have to be PC and all but that “new” guy, the “hedgehog” is so goddamn annoying &amp; playing game like a wuss!! Hoping every day he’s taken down by his own weakness!! Looking forward to your return in TOC!! #huzzah!!\""
   ]
  },
  {
   "cell_type": "markdown",
   "id": "d50ba61a",
   "metadata": {},
   "source": [
    "Some limitations I had with this Twitter data were the amount of bot accounts and meaningless tweets. I also think it would be more beneficial to take a larger sample of these tweets. "
   ]
  }
 ],
 "metadata": {
  "kernelspec": {
   "display_name": "Python 3 (ipykernel)",
   "language": "python",
   "name": "python3"
  },
  "language_info": {
   "codemirror_mode": {
    "name": "ipython",
    "version": 3
   },
   "file_extension": ".py",
   "mimetype": "text/x-python",
   "name": "python",
   "nbconvert_exporter": "python",
   "pygments_lexer": "ipython3",
   "version": "3.9.6"
  }
 },
 "nbformat": 4,
 "nbformat_minor": 5
}
