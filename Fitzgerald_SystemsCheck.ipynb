{
 "cells": [
  {
   "cell_type": "markdown",
   "id": "3b1e94ed",
   "metadata": {},
   "source": [
    "#### Variable Assignment "
   ]
  },
  {
   "cell_type": "markdown",
   "id": "7ad5442a",
   "metadata": {},
   "source": [
    "# Heading"
   ]
  },
  {
   "cell_type": "code",
   "execution_count": 7,
   "id": "55b3d5db",
   "metadata": {},
   "outputs": [
    {
     "name": "stdout",
     "output_type": "stream",
     "text": [
      "2\n"
     ]
    }
   ],
   "source": [
    "lunch = 2\n",
    "print(lunch)"
   ]
  },
  {
   "cell_type": "markdown",
   "id": "69ebc416",
   "metadata": {},
   "source": [
    "* This is my variable assignment example. "
   ]
  },
  {
   "cell_type": "markdown",
   "id": "b5198b81",
   "metadata": {},
   "source": [
    "#### Basic Loop "
   ]
  },
  {
   "cell_type": "code",
   "execution_count": 6,
   "id": "6c002987",
   "metadata": {},
   "outputs": [
    {
     "name": "stdout",
     "output_type": "stream",
     "text": [
      "m\n",
      "i\n",
      "d\n",
      "d\n",
      "l\n",
      "e\n"
     ]
    }
   ],
   "source": [
    "lunch = 'middle'\n",
    "alpha = \"lunch\"\n",
    "for alpha in lunch:\n",
    "    print(alpha)"
   ]
  },
  {
   "cell_type": "markdown",
   "id": "ddcd9208",
   "metadata": {},
   "source": [
    "* This is my basic loop assignment example. "
   ]
  },
  {
   "cell_type": "markdown",
   "id": "40464dfc",
   "metadata": {},
   "source": [
    "#### Print Statement"
   ]
  },
  {
   "cell_type": "code",
   "execution_count": 5,
   "id": "aa2c1611",
   "metadata": {},
   "outputs": [
    {
     "name": "stdout",
     "output_type": "stream",
     "text": [
      "Hello World\n"
     ]
    }
   ],
   "source": [
    "print(\"Hello World\")"
   ]
  },
  {
   "cell_type": "markdown",
   "id": "ce3277b6",
   "metadata": {},
   "source": [
    "* This is my print statement example. "
   ]
  },
  {
   "cell_type": "markdown",
   "id": "eecab1bb",
   "metadata": {},
   "source": [
    "####  Return Statement "
   ]
  },
  {
   "cell_type": "code",
   "execution_count": 3,
   "id": "f6c481c5",
   "metadata": {},
   "outputs": [],
   "source": [
    "def shoe(x):\n",
    "    return \"smelly \" +str(x)"
   ]
  },
  {
   "cell_type": "code",
   "execution_count": 4,
   "id": "fd75d0e5",
   "metadata": {
    "scrolled": true
   },
   "outputs": [
    {
     "data": {
      "text/plain": [
       "'smelly gross'"
      ]
     },
     "execution_count": 4,
     "metadata": {},
     "output_type": "execute_result"
    }
   ],
   "source": [
    "shoe(\"gross\")"
   ]
  },
  {
   "cell_type": "markdown",
   "id": "472b19bd",
   "metadata": {},
   "source": [
    "* This is my variable assignment example. "
   ]
  },
  {
   "cell_type": "markdown",
   "id": "d2a703ba",
   "metadata": {},
   "source": [
    "- hello\n",
    "- goodbye\n",
    "-After"
   ]
  },
  {
   "cell_type": "markdown",
   "id": "f8cf0c7e",
   "metadata": {},
   "source": [
    "***End***"
   ]
  },
  {
   "cell_type": "markdown",
   "id": "1fc847e6",
   "metadata": {},
   "source": [
    "![text](https://www.healthyeating.org/images/default-source/home-0.0/nutrition-topics-2.0/general-nutrition-wellness/2-2-2-3foodgroups_fruits_detailfeature.jpg?sfvrsn=64942d53_4)"
   ]
  }
 ],
 "metadata": {
  "kernelspec": {
   "display_name": "Python 3 (ipykernel)",
   "language": "python",
   "name": "python3"
  },
  "language_info": {
   "codemirror_mode": {
    "name": "ipython",
    "version": 3
   },
   "file_extension": ".py",
   "mimetype": "text/x-python",
   "name": "python",
   "nbconvert_exporter": "python",
   "pygments_lexer": "ipython3",
   "version": "3.9.6"
  }
 },
 "nbformat": 4,
 "nbformat_minor": 5
}
