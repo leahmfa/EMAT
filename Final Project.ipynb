{
 "cells": [
  {
   "cell_type": "markdown",
   "id": "80bf830b",
   "metadata": {},
   "source": [
    " # Final Project: Leah Fitzgerald"
   ]
  },
  {
   "cell_type": "markdown",
   "id": "c0a6d14a",
   "metadata": {},
   "source": [
    "The purpose of my final project analysis is to see what show viewers on Twitter like more, Jeopardy! or Wheel of Fortune. One motivation that has driven me in the creation of this analysis is a debate between a few of my roommates and Erica and I. Ms. Erica and I believe that Jeopardy! is a better show for numerous reasons. Our roommates disagree. With this analysis, I can show them step-by-step what users are saying on Twitter. \n",
    "\n",
    "I will start my analysis of tweets regarding Jeopardy! and Wheel of Fortune by importing the libraries necessary. The hypothesis I am testing in this analysis is: Users of Twitter will generally favor and say more positive things about Jeopardy! vs. Wheel of Fortune. The audience of my analysis would be Jeopardy! and Wheel of Fortune fans, and viewers of both shows.  \n",
    "\n",
    "My conclusions will give me insight as to whether Twitter users are more positively talking about either WOF or Jeopardy, and also specifics about what people have to say about the hosts. So first, understanding which show is better received based on the tweets collected. I have done this by pulling data about each game and the hosts into 2 files.\n",
    "\n",
    " The data used is all coming from the Twitter API that has pulled tweets from the past 7 days. It provides personal experiences and perspectives from a wide variety of users on Twitter."
   ]
  },
  {
   "cell_type": "markdown",
   "id": "fd7fda34",
   "metadata": {},
   "source": [
    "### Data Collection"
   ]
  },
  {
   "cell_type": "markdown",
   "id": "de9c3188",
   "metadata": {},
   "source": [
    "I have collected 600 samples of tweets regarding Jeopardy and 600 tweets regarding Wheel of Fortune. "
   ]
  },
  {
   "cell_type": "code",
   "execution_count": 2,
   "id": "bb2d2236",
   "metadata": {},
   "outputs": [],
   "source": [
    "import requests\n",
    "import pandas as pd\n",
    "import urllib\n",
    "import json"
   ]
  },
  {
   "cell_type": "code",
   "execution_count": 3,
   "id": "24a69bd9",
   "metadata": {},
   "outputs": [],
   "source": [
    "from vaderSentiment.vaderSentiment import SentimentIntensityAnalyzer"
   ]
  },
  {
   "cell_type": "code",
   "execution_count": null,
   "id": "39d13cc0",
   "metadata": {},
   "outputs": [],
   "source": [
    "ls"
   ]
  },
  {
   "cell_type": "code",
   "execution_count": 14,
   "id": "9e6021bf",
   "metadata": {},
   "outputs": [],
   "source": [
    "bearer_token = pd.read_csv('bearer_token.txt', header = 0)"
   ]
  },
  {
   "cell_type": "markdown",
   "id": "316453d3",
   "metadata": {},
   "source": [
    "I start by asking it to read my bearer_token text file. This contains the token I need to get data back from the Twitter API"
   ]
  },
  {
   "cell_type": "code",
   "execution_count": null,
   "id": "c6135c25",
   "metadata": {},
   "outputs": [],
   "source": [
    "bearer_token['Bearer_token'].iloc[0]"
   ]
  },
  {
   "cell_type": "code",
   "execution_count": 15,
   "id": "308eba77",
   "metadata": {},
   "outputs": [],
   "source": [
    "header = {'Authorization' : 'Bearer {}'.format(bearer_token['Bearer_token'].iloc[0])}"
   ]
  },
  {
   "cell_type": "code",
   "execution_count": 16,
   "id": "0f824e5a",
   "metadata": {},
   "outputs": [],
   "source": [
    "endpoint_url = 'https://api.twitter.com/2/tweets/search/recent'"
   ]
  },
  {
   "cell_type": "code",
   "execution_count": 17,
   "id": "95ce32d7",
   "metadata": {},
   "outputs": [],
   "source": [
    "query = urllib.parse.quote('#Jeopardy OR #KenJennings OR @KenJennings OR @MissMayim OR #MayimBialik OR @Jeopardy lang:en')"
   ]
  },
  {
   "cell_type": "markdown",
   "id": "e6792905",
   "metadata": {},
   "source": [
    "Here I am creating a query to parse the topics and language for my url. "
   ]
  },
  {
   "cell_type": "code",
   "execution_count": 18,
   "id": "2a85541a",
   "metadata": {},
   "outputs": [
    {
     "data": {
      "text/plain": [
       "'%23Jeopardy%20OR%20%23KenJennings%20OR%20%40KenJennings%20OR%20%40MissMayim%20OR%20%23MayimBialik%20OR%20%40Jeopardy%20lang%3Aen'"
      ]
     },
     "execution_count": 18,
     "metadata": {},
     "output_type": "execute_result"
    }
   ],
   "source": [
    "query"
   ]
  },
  {
   "cell_type": "code",
   "execution_count": 19,
   "id": "aab08f18",
   "metadata": {},
   "outputs": [],
   "source": [
    "tweet_fields = 'public_metrics,created_at,lang,possibly_sensitive,attachments,source'"
   ]
  },
  {
   "cell_type": "markdown",
   "id": "1d06c872",
   "metadata": {},
   "source": [
    "I am declaring the tweet fields I would like to see from Twitter."
   ]
  },
  {
   "cell_type": "code",
   "execution_count": 20,
   "id": "71de45c1",
   "metadata": {},
   "outputs": [],
   "source": [
    "my_api_url = endpoint_url + '?query={}&tweet.fields={}'.format(query, tweet_fields)"
   ]
  },
  {
   "cell_type": "markdown",
   "id": "3ba08719",
   "metadata": {},
   "source": [
    "Here I am consolidating my url with the query."
   ]
  },
  {
   "cell_type": "code",
   "execution_count": null,
   "id": "1921e6c9",
   "metadata": {},
   "outputs": [],
   "source": [
    "my_api_url"
   ]
  },
  {
   "cell_type": "code",
   "execution_count": 24,
   "id": "ce3c3b30",
   "metadata": {},
   "outputs": [],
   "source": [
    "expansions = 'author_id'"
   ]
  },
  {
   "cell_type": "markdown",
   "id": "4c6a9ec6",
   "metadata": {},
   "source": [
    "I added author_id as an expansion to get more information."
   ]
  },
  {
   "cell_type": "code",
   "execution_count": 22,
   "id": "ff158998",
   "metadata": {},
   "outputs": [],
   "source": [
    "url = endpoint_url + '?query={}&tweet.fields={}'.format(query, tweet_fields)"
   ]
  },
  {
   "cell_type": "code",
   "execution_count": 25,
   "id": "506487d7",
   "metadata": {},
   "outputs": [],
   "source": [
    "url_expansions = endpoint_url + '?query={}&max_results=100&tweet.fields={}&expansions={}&user.fields={}'.format(query, tweet_fields, expansions, 'username')"
   ]
  },
  {
   "cell_type": "markdown",
   "id": "c1dacc86",
   "metadata": {},
   "source": [
    "Here I am specifying what I would like from the twitter data. Specifically max results of 100 tweets, tweet fields, expansions, and user fields. "
   ]
  },
  {
   "cell_type": "code",
   "execution_count": 26,
   "id": "b924b2f0",
   "metadata": {},
   "outputs": [
    {
     "data": {
      "text/plain": [
       "'https://api.twitter.com/2/tweets/search/recent?query=%23Jeopardy%20OR%20%23KenJennings%20OR%20%40KenJennings%20OR%20%40MissMayim%20OR%20%23MayimBialik%20OR%20%40Jeopardy%20lang%3Aen&max_results=100&tweet.fields=public_metrics,created_at,lang,possibly_sensitive,attachments,source&expansions=author_id&user.fields=username'"
      ]
     },
     "execution_count": 26,
     "metadata": {},
     "output_type": "execute_result"
    }
   ],
   "source": [
    "url_expansions"
   ]
  },
  {
   "cell_type": "code",
   "execution_count": 27,
   "id": "7ba72289",
   "metadata": {},
   "outputs": [],
   "source": [
    "response_1 = requests.request(\"GET\", url_expansions, headers = header)"
   ]
  },
  {
   "cell_type": "markdown",
   "id": "968f6fbb",
   "metadata": {},
   "source": [
    "Here I am asking Twitter to answer my request using \"GET\" with my url. "
   ]
  },
  {
   "cell_type": "code",
   "execution_count": null,
   "id": "7b3fa5f0",
   "metadata": {},
   "outputs": [],
   "source": [
    "response_1.text"
   ]
  },
  {
   "cell_type": "code",
   "execution_count": 28,
   "id": "e743e67b",
   "metadata": {},
   "outputs": [],
   "source": [
    "response_1_dict = json.loads(response_1.text)"
   ]
  },
  {
   "cell_type": "markdown",
   "id": "486448ed",
   "metadata": {},
   "source": [
    "Loading Twitter data into json"
   ]
  },
  {
   "cell_type": "code",
   "execution_count": 29,
   "id": "e9cd88a2",
   "metadata": {},
   "outputs": [
    {
     "data": {
      "text/plain": [
       "dict_keys(['data', 'includes', 'meta'])"
      ]
     },
     "execution_count": 29,
     "metadata": {},
     "output_type": "execute_result"
    }
   ],
   "source": [
    "response_1_dict.keys()"
   ]
  },
  {
   "cell_type": "markdown",
   "id": "e36db869",
   "metadata": {},
   "source": [
    "This tells me what I can ask the API to show me. "
   ]
  },
  {
   "cell_type": "code",
   "execution_count": 30,
   "id": "f7313493",
   "metadata": {},
   "outputs": [],
   "source": [
    "my_df = pd.DataFrame(response_1_dict['data'])"
   ]
  },
  {
   "cell_type": "markdown",
   "id": "36241312",
   "metadata": {},
   "source": [
    "I am creating a data frame with the 'data' key."
   ]
  },
  {
   "cell_type": "code",
   "execution_count": 31,
   "id": "fd3e4d8f",
   "metadata": {},
   "outputs": [
    {
     "data": {
      "text/html": [
       "<div>\n",
       "<style scoped>\n",
       "    .dataframe tbody tr th:only-of-type {\n",
       "        vertical-align: middle;\n",
       "    }\n",
       "\n",
       "    .dataframe tbody tr th {\n",
       "        vertical-align: top;\n",
       "    }\n",
       "\n",
       "    .dataframe thead th {\n",
       "        text-align: right;\n",
       "    }\n",
       "</style>\n",
       "<table border=\"1\" class=\"dataframe\">\n",
       "  <thead>\n",
       "    <tr style=\"text-align: right;\">\n",
       "      <th></th>\n",
       "      <th>public_metrics</th>\n",
       "      <th>id</th>\n",
       "      <th>author_id</th>\n",
       "      <th>text</th>\n",
       "      <th>created_at</th>\n",
       "      <th>possibly_sensitive</th>\n",
       "      <th>lang</th>\n",
       "      <th>source</th>\n",
       "      <th>attachments</th>\n",
       "    </tr>\n",
       "  </thead>\n",
       "  <tbody>\n",
       "    <tr>\n",
       "      <th>0</th>\n",
       "      <td>{'retweet_count': 0, 'reply_count': 0, 'like_c...</td>\n",
       "      <td>1469055869908312066</td>\n",
       "      <td>31590111</td>\n",
       "      <td>@JenniferBurt @TheDudeInSF @missmayim You are ...</td>\n",
       "      <td>2021-12-09T21:26:27.000Z</td>\n",
       "      <td>False</td>\n",
       "      <td>en</td>\n",
       "      <td>Twitter Web App</td>\n",
       "      <td>NaN</td>\n",
       "    </tr>\n",
       "    <tr>\n",
       "      <th>1</th>\n",
       "      <td>{'retweet_count': 0, 'reply_count': 0, 'like_c...</td>\n",
       "      <td>1469055781618298882</td>\n",
       "      <td>2479845637</td>\n",
       "      <td>#Jeopardy! fans are obsessed with this contest...</td>\n",
       "      <td>2021-12-09T21:26:06.000Z</td>\n",
       "      <td>False</td>\n",
       "      <td>en</td>\n",
       "      <td>SocialFlow</td>\n",
       "      <td>{'media_keys': ['3_1469055779160403974']}</td>\n",
       "    </tr>\n",
       "    <tr>\n",
       "      <th>2</th>\n",
       "      <td>{'retweet_count': 0, 'reply_count': 0, 'like_c...</td>\n",
       "      <td>1469055523379154955</td>\n",
       "      <td>1318277923</td>\n",
       "      <td>@Jeopardy Does anyone else think he looks a lo...</td>\n",
       "      <td>2021-12-09T21:25:05.000Z</td>\n",
       "      <td>False</td>\n",
       "      <td>en</td>\n",
       "      <td>Twitter Web App</td>\n",
       "      <td>NaN</td>\n",
       "    </tr>\n",
       "    <tr>\n",
       "      <th>3</th>\n",
       "      <td>{'retweet_count': 80, 'reply_count': 0, 'like_...</td>\n",
       "      <td>1469055109342638092</td>\n",
       "      <td>28445420</td>\n",
       "      <td>RT @KenJennings: Delighted that @missmayim and...</td>\n",
       "      <td>2021-12-09T21:23:26.000Z</td>\n",
       "      <td>False</td>\n",
       "      <td>en</td>\n",
       "      <td>Twitter for iPhone</td>\n",
       "      <td>NaN</td>\n",
       "    </tr>\n",
       "    <tr>\n",
       "      <th>4</th>\n",
       "      <td>{'retweet_count': 270, 'reply_count': 0, 'like...</td>\n",
       "      <td>1469055053864525836</td>\n",
       "      <td>1328060923244933120</td>\n",
       "      <td>RT @peterbelayneh: የ #TDF ጀግንነት ታሪክ ላይ ተፅፏል \\n...</td>\n",
       "      <td>2021-12-09T21:23:13.000Z</td>\n",
       "      <td>False</td>\n",
       "      <td>und</td>\n",
       "      <td>Twitter for Android</td>\n",
       "      <td>{'media_keys': ['7_1468804403410857986']}</td>\n",
       "    </tr>\n",
       "  </tbody>\n",
       "</table>\n",
       "</div>"
      ],
      "text/plain": [
       "                                      public_metrics                   id  \\\n",
       "0  {'retweet_count': 0, 'reply_count': 0, 'like_c...  1469055869908312066   \n",
       "1  {'retweet_count': 0, 'reply_count': 0, 'like_c...  1469055781618298882   \n",
       "2  {'retweet_count': 0, 'reply_count': 0, 'like_c...  1469055523379154955   \n",
       "3  {'retweet_count': 80, 'reply_count': 0, 'like_...  1469055109342638092   \n",
       "4  {'retweet_count': 270, 'reply_count': 0, 'like...  1469055053864525836   \n",
       "\n",
       "             author_id                                               text  \\\n",
       "0             31590111  @JenniferBurt @TheDudeInSF @missmayim You are ...   \n",
       "1           2479845637  #Jeopardy! fans are obsessed with this contest...   \n",
       "2           1318277923  @Jeopardy Does anyone else think he looks a lo...   \n",
       "3             28445420  RT @KenJennings: Delighted that @missmayim and...   \n",
       "4  1328060923244933120  RT @peterbelayneh: የ #TDF ጀግንነት ታሪክ ላይ ተፅፏል \\n...   \n",
       "\n",
       "                 created_at  possibly_sensitive lang               source  \\\n",
       "0  2021-12-09T21:26:27.000Z               False   en      Twitter Web App   \n",
       "1  2021-12-09T21:26:06.000Z               False   en           SocialFlow   \n",
       "2  2021-12-09T21:25:05.000Z               False   en      Twitter Web App   \n",
       "3  2021-12-09T21:23:26.000Z               False   en   Twitter for iPhone   \n",
       "4  2021-12-09T21:23:13.000Z               False  und  Twitter for Android   \n",
       "\n",
       "                                 attachments  \n",
       "0                                        NaN  \n",
       "1  {'media_keys': ['3_1469055779160403974']}  \n",
       "2                                        NaN  \n",
       "3                                        NaN  \n",
       "4  {'media_keys': ['7_1468804403410857986']}  "
      ]
     },
     "execution_count": 31,
     "metadata": {},
     "output_type": "execute_result"
    }
   ],
   "source": [
    "my_df.head()"
   ]
  },
  {
   "cell_type": "code",
   "execution_count": null,
   "id": "8b5641af",
   "metadata": {},
   "outputs": [],
   "source": [
    "response_1_dict['meta']"
   ]
  },
  {
   "cell_type": "markdown",
   "id": "e6f069c9",
   "metadata": {},
   "source": [
    "Getting next token"
   ]
  },
  {
   "cell_type": "code",
   "execution_count": 33,
   "id": "70d8dad5",
   "metadata": {},
   "outputs": [],
   "source": [
    "my_api_url_2 = my_api_url + '&next_token={}&max_results=100'.format(response_1_dict['meta']['next_token'])"
   ]
  },
  {
   "cell_type": "code",
   "execution_count": 34,
   "id": "7c0c53da",
   "metadata": {},
   "outputs": [
    {
     "data": {
      "text/plain": [
       "'https://api.twitter.com/2/tweets/search/recent?query=%23Jeopardy%20OR%20%23KenJennings%20OR%20%40KenJennings%20OR%20%40MissMayim%20OR%20%23MayimBialik%20OR%20%40Jeopardy%20lang%3Aen&tweet.fields=public_metrics,created_at,lang,possibly_sensitive,attachments,source&next_token=b26v89c19zqg8o3fpdy9ckfxcsqie3djesjb40kjan6v1&max_results=100'"
      ]
     },
     "execution_count": 34,
     "metadata": {},
     "output_type": "execute_result"
    }
   ],
   "source": [
    "my_api_url_2"
   ]
  },
  {
   "cell_type": "code",
   "execution_count": 35,
   "id": "eab3e23d",
   "metadata": {},
   "outputs": [],
   "source": [
    "response_2 = requests.request(\"GET\", my_api_url_2, headers = header)"
   ]
  },
  {
   "cell_type": "code",
   "execution_count": null,
   "id": "013b721b",
   "metadata": {},
   "outputs": [],
   "source": [
    "response_2.text"
   ]
  },
  {
   "cell_type": "code",
   "execution_count": 36,
   "id": "115c46a3",
   "metadata": {},
   "outputs": [],
   "source": [
    "my_df = my_df.append(pd.DataFrame(json.loads(response_2.text)['data']), ignore_index= True)"
   ]
  },
  {
   "cell_type": "markdown",
   "id": "431f70f7",
   "metadata": {},
   "source": [
    "Adding the new data collected to existing data frame"
   ]
  },
  {
   "cell_type": "code",
   "execution_count": null,
   "id": "c1fd60ff",
   "metadata": {},
   "outputs": [],
   "source": [
    "my_df"
   ]
  },
  {
   "cell_type": "markdown",
   "id": "8deddb5f",
   "metadata": {},
   "source": [
    "My data frame now has 200 records. "
   ]
  },
  {
   "cell_type": "code",
   "execution_count": null,
   "id": "4a329575",
   "metadata": {},
   "outputs": [],
   "source": [
    "response_1_dict['meta']"
   ]
  },
  {
   "cell_type": "markdown",
   "id": "2ed09eb1",
   "metadata": {},
   "source": [
    "Collecting next token for next request of tweets. "
   ]
  },
  {
   "cell_type": "code",
   "execution_count": 29,
   "id": "f2ba32e5",
   "metadata": {},
   "outputs": [],
   "source": [
    "response_3 = requests.request(\"GET\", my_api_url_2, headers = header)"
   ]
  },
  {
   "cell_type": "code",
   "execution_count": null,
   "id": "050fce61",
   "metadata": {},
   "outputs": [],
   "source": [
    "response_3.text"
   ]
  },
  {
   "cell_type": "code",
   "execution_count": 31,
   "id": "0db7ff29",
   "metadata": {},
   "outputs": [],
   "source": [
    "my_df = my_df.append(pd.DataFrame(json.loads(response_3.text)['data']), ignore_index= True)"
   ]
  },
  {
   "cell_type": "markdown",
   "id": "60d146e2",
   "metadata": {},
   "source": [
    "Adding the new tweets I've collected to the other 200 tweets. "
   ]
  },
  {
   "cell_type": "code",
   "execution_count": 32,
   "id": "970d32b5",
   "metadata": {},
   "outputs": [
    {
     "data": {
      "text/html": [
       "<div>\n",
       "<style scoped>\n",
       "    .dataframe tbody tr th:only-of-type {\n",
       "        vertical-align: middle;\n",
       "    }\n",
       "\n",
       "    .dataframe tbody tr th {\n",
       "        vertical-align: top;\n",
       "    }\n",
       "\n",
       "    .dataframe thead th {\n",
       "        text-align: right;\n",
       "    }\n",
       "</style>\n",
       "<table border=\"1\" class=\"dataframe\">\n",
       "  <thead>\n",
       "    <tr style=\"text-align: right;\">\n",
       "      <th></th>\n",
       "      <th>source</th>\n",
       "      <th>text</th>\n",
       "      <th>author_id</th>\n",
       "      <th>possibly_sensitive</th>\n",
       "      <th>lang</th>\n",
       "      <th>id</th>\n",
       "      <th>public_metrics</th>\n",
       "      <th>created_at</th>\n",
       "      <th>attachments</th>\n",
       "    </tr>\n",
       "  </thead>\n",
       "  <tbody>\n",
       "    <tr>\n",
       "      <th>293</th>\n",
       "      <td>Twitter for iPhone</td>\n",
       "      <td>@equimanthorn_ @Jeopardy Got my vote.</td>\n",
       "      <td>NaN</td>\n",
       "      <td>False</td>\n",
       "      <td>en</td>\n",
       "      <td>1469018445693943812</td>\n",
       "      <td>{'retweet_count': 0, 'reply_count': 0, 'like_c...</td>\n",
       "      <td>2021-12-09T18:57:45.000Z</td>\n",
       "      <td>NaN</td>\n",
       "    </tr>\n",
       "    <tr>\n",
       "      <th>294</th>\n",
       "      <td>Twitter for iPhone</td>\n",
       "      <td>RT @missmayim: Class is in session! Welcome to...</td>\n",
       "      <td>NaN</td>\n",
       "      <td>False</td>\n",
       "      <td>en</td>\n",
       "      <td>1469018191850573833</td>\n",
       "      <td>{'retweet_count': 16, 'reply_count': 0, 'like_...</td>\n",
       "      <td>2021-12-09T18:56:44.000Z</td>\n",
       "      <td>{'media_keys': ['3_1469018140524748801', '3_14...</td>\n",
       "    </tr>\n",
       "    <tr>\n",
       "      <th>295</th>\n",
       "      <td>Twitter for iPhone</td>\n",
       "      <td>Class is in session! Welcome to the first-ever...</td>\n",
       "      <td>NaN</td>\n",
       "      <td>False</td>\n",
       "      <td>en</td>\n",
       "      <td>1469018145268453378</td>\n",
       "      <td>{'retweet_count': 16, 'reply_count': 12, 'like...</td>\n",
       "      <td>2021-12-09T18:56:33.000Z</td>\n",
       "      <td>{'media_keys': ['3_1469018140524748801', '3_14...</td>\n",
       "    </tr>\n",
       "    <tr>\n",
       "      <th>296</th>\n",
       "      <td>Twitter for Android</td>\n",
       "      <td>RT @peterbelayneh: የ #TDF ጀግንነት ታሪክ ላይ ተፅፏል \\n...</td>\n",
       "      <td>NaN</td>\n",
       "      <td>False</td>\n",
       "      <td>und</td>\n",
       "      <td>1469017354508161024</td>\n",
       "      <td>{'retweet_count': 268, 'reply_count': 0, 'like...</td>\n",
       "      <td>2021-12-09T18:53:24.000Z</td>\n",
       "      <td>{'media_keys': ['7_1468804403410857986']}</td>\n",
       "    </tr>\n",
       "    <tr>\n",
       "      <th>297</th>\n",
       "      <td>Twitter for iPhone</td>\n",
       "      <td>@buzztronics @Jeopardy @missmayim @KenJennings...</td>\n",
       "      <td>NaN</td>\n",
       "      <td>False</td>\n",
       "      <td>en</td>\n",
       "      <td>1469017228385345536</td>\n",
       "      <td>{'retweet_count': 0, 'reply_count': 0, 'like_c...</td>\n",
       "      <td>2021-12-09T18:52:54.000Z</td>\n",
       "      <td>NaN</td>\n",
       "    </tr>\n",
       "  </tbody>\n",
       "</table>\n",
       "</div>"
      ],
      "text/plain": [
       "                  source                                               text  \\\n",
       "293   Twitter for iPhone              @equimanthorn_ @Jeopardy Got my vote.   \n",
       "294   Twitter for iPhone  RT @missmayim: Class is in session! Welcome to...   \n",
       "295   Twitter for iPhone  Class is in session! Welcome to the first-ever...   \n",
       "296  Twitter for Android  RT @peterbelayneh: የ #TDF ጀግንነት ታሪክ ላይ ተፅፏል \\n...   \n",
       "297   Twitter for iPhone  @buzztronics @Jeopardy @missmayim @KenJennings...   \n",
       "\n",
       "    author_id  possibly_sensitive lang                   id  \\\n",
       "293       NaN               False   en  1469018445693943812   \n",
       "294       NaN               False   en  1469018191850573833   \n",
       "295       NaN               False   en  1469018145268453378   \n",
       "296       NaN               False  und  1469017354508161024   \n",
       "297       NaN               False   en  1469017228385345536   \n",
       "\n",
       "                                        public_metrics  \\\n",
       "293  {'retweet_count': 0, 'reply_count': 0, 'like_c...   \n",
       "294  {'retweet_count': 16, 'reply_count': 0, 'like_...   \n",
       "295  {'retweet_count': 16, 'reply_count': 12, 'like...   \n",
       "296  {'retweet_count': 268, 'reply_count': 0, 'like...   \n",
       "297  {'retweet_count': 0, 'reply_count': 0, 'like_c...   \n",
       "\n",
       "                   created_at  \\\n",
       "293  2021-12-09T18:57:45.000Z   \n",
       "294  2021-12-09T18:56:44.000Z   \n",
       "295  2021-12-09T18:56:33.000Z   \n",
       "296  2021-12-09T18:53:24.000Z   \n",
       "297  2021-12-09T18:52:54.000Z   \n",
       "\n",
       "                                           attachments  \n",
       "293                                                NaN  \n",
       "294  {'media_keys': ['3_1469018140524748801', '3_14...  \n",
       "295  {'media_keys': ['3_1469018140524748801', '3_14...  \n",
       "296          {'media_keys': ['7_1468804403410857986']}  \n",
       "297                                                NaN  "
      ]
     },
     "execution_count": 32,
     "metadata": {},
     "output_type": "execute_result"
    }
   ],
   "source": [
    "my_df.tail()"
   ]
  },
  {
   "cell_type": "code",
   "execution_count": null,
   "id": "43fbd59e",
   "metadata": {},
   "outputs": [],
   "source": [
    "response_1_dict['meta']"
   ]
  },
  {
   "cell_type": "code",
   "execution_count": 39,
   "id": "08c43944",
   "metadata": {},
   "outputs": [],
   "source": [
    "response_4 = requests.request(\"GET\", my_api_url_2, headers = header)"
   ]
  },
  {
   "cell_type": "code",
   "execution_count": null,
   "id": "5245d895",
   "metadata": {},
   "outputs": [],
   "source": [
    "response_4.text"
   ]
  },
  {
   "cell_type": "code",
   "execution_count": 40,
   "id": "96b5daed",
   "metadata": {},
   "outputs": [],
   "source": [
    "my_df = my_df.append(pd.DataFrame(json.loads(response_4.text)['data']), ignore_index= True)"
   ]
  },
  {
   "cell_type": "code",
   "execution_count": null,
   "id": "2e5fb4b8",
   "metadata": {},
   "outputs": [],
   "source": [
    "my_df"
   ]
  },
  {
   "cell_type": "code",
   "execution_count": null,
   "id": "d4c60e0b",
   "metadata": {},
   "outputs": [],
   "source": [
    "response_1_dict['meta']"
   ]
  },
  {
   "cell_type": "code",
   "execution_count": 39,
   "id": "592551cb",
   "metadata": {},
   "outputs": [],
   "source": [
    "response_5 = requests.request(\"GET\", my_api_url_2, headers = header)"
   ]
  },
  {
   "cell_type": "code",
   "execution_count": null,
   "id": "44c9243d",
   "metadata": {},
   "outputs": [],
   "source": [
    "response_5.text"
   ]
  },
  {
   "cell_type": "code",
   "execution_count": 42,
   "id": "afc51057",
   "metadata": {},
   "outputs": [],
   "source": [
    "my_df = my_df.append(pd.DataFrame(json.loads(response_4.text)['data']), ignore_index= True)"
   ]
  },
  {
   "cell_type": "code",
   "execution_count": 43,
   "id": "0471035f",
   "metadata": {},
   "outputs": [
    {
     "data": {
      "text/html": [
       "<div>\n",
       "<style scoped>\n",
       "    .dataframe tbody tr th:only-of-type {\n",
       "        vertical-align: middle;\n",
       "    }\n",
       "\n",
       "    .dataframe tbody tr th {\n",
       "        vertical-align: top;\n",
       "    }\n",
       "\n",
       "    .dataframe thead th {\n",
       "        text-align: right;\n",
       "    }\n",
       "</style>\n",
       "<table border=\"1\" class=\"dataframe\">\n",
       "  <thead>\n",
       "    <tr style=\"text-align: right;\">\n",
       "      <th></th>\n",
       "      <th>public_metrics</th>\n",
       "      <th>id</th>\n",
       "      <th>author_id</th>\n",
       "      <th>text</th>\n",
       "      <th>created_at</th>\n",
       "      <th>possibly_sensitive</th>\n",
       "      <th>lang</th>\n",
       "      <th>source</th>\n",
       "      <th>attachments</th>\n",
       "    </tr>\n",
       "  </thead>\n",
       "  <tbody>\n",
       "    <tr>\n",
       "      <th>395</th>\n",
       "      <td>{'retweet_count': 60, 'reply_count': 0, 'like_...</td>\n",
       "      <td>1469018769599221767</td>\n",
       "      <td>NaN</td>\n",
       "      <td>RT @Jeopardy: Thank you to educators everywher...</td>\n",
       "      <td>2021-12-09T18:59:02.000Z</td>\n",
       "      <td>False</td>\n",
       "      <td>en</td>\n",
       "      <td>Twitter for Android</td>\n",
       "      <td>{'media_keys': ['3_1468330655360507904']}</td>\n",
       "    </tr>\n",
       "    <tr>\n",
       "      <th>396</th>\n",
       "      <td>{'retweet_count': 16, 'reply_count': 0, 'like_...</td>\n",
       "      <td>1469018736174764033</td>\n",
       "      <td>NaN</td>\n",
       "      <td>RT @missmayim: Class is in session! Welcome to...</td>\n",
       "      <td>2021-12-09T18:58:54.000Z</td>\n",
       "      <td>False</td>\n",
       "      <td>en</td>\n",
       "      <td>Twitter for iPhone</td>\n",
       "      <td>{'media_keys': ['3_1469018140524748801', '3_14...</td>\n",
       "    </tr>\n",
       "    <tr>\n",
       "      <th>397</th>\n",
       "      <td>{'retweet_count': 274, 'reply_count': 0, 'like...</td>\n",
       "      <td>1469018735776354316</td>\n",
       "      <td>NaN</td>\n",
       "      <td>RT @Jeopardy: We are delighted to let you know...</td>\n",
       "      <td>2021-12-09T18:58:54.000Z</td>\n",
       "      <td>False</td>\n",
       "      <td>en</td>\n",
       "      <td>Twitter for Android</td>\n",
       "      <td>NaN</td>\n",
       "    </tr>\n",
       "    <tr>\n",
       "      <th>398</th>\n",
       "      <td>{'retweet_count': 20, 'reply_count': 0, 'like_...</td>\n",
       "      <td>1469018669334290434</td>\n",
       "      <td>NaN</td>\n",
       "      <td>RT @missmayim: Guess what! Today is the day?! ...</td>\n",
       "      <td>2021-12-09T18:58:38.000Z</td>\n",
       "      <td>False</td>\n",
       "      <td>en</td>\n",
       "      <td>Twitter for Android</td>\n",
       "      <td>NaN</td>\n",
       "    </tr>\n",
       "    <tr>\n",
       "      <th>399</th>\n",
       "      <td>{'retweet_count': 16, 'reply_count': 0, 'like_...</td>\n",
       "      <td>1469018642138349572</td>\n",
       "      <td>NaN</td>\n",
       "      <td>RT @missmayim: Class is in session! Welcome to...</td>\n",
       "      <td>2021-12-09T18:58:31.000Z</td>\n",
       "      <td>False</td>\n",
       "      <td>en</td>\n",
       "      <td>Twitter for Android</td>\n",
       "      <td>{'media_keys': ['3_1469018140524748801', '3_14...</td>\n",
       "    </tr>\n",
       "  </tbody>\n",
       "</table>\n",
       "</div>"
      ],
      "text/plain": [
       "                                        public_metrics                   id  \\\n",
       "395  {'retweet_count': 60, 'reply_count': 0, 'like_...  1469018769599221767   \n",
       "396  {'retweet_count': 16, 'reply_count': 0, 'like_...  1469018736174764033   \n",
       "397  {'retweet_count': 274, 'reply_count': 0, 'like...  1469018735776354316   \n",
       "398  {'retweet_count': 20, 'reply_count': 0, 'like_...  1469018669334290434   \n",
       "399  {'retweet_count': 16, 'reply_count': 0, 'like_...  1469018642138349572   \n",
       "\n",
       "    author_id                                               text  \\\n",
       "395       NaN  RT @Jeopardy: Thank you to educators everywher...   \n",
       "396       NaN  RT @missmayim: Class is in session! Welcome to...   \n",
       "397       NaN  RT @Jeopardy: We are delighted to let you know...   \n",
       "398       NaN  RT @missmayim: Guess what! Today is the day?! ...   \n",
       "399       NaN  RT @missmayim: Class is in session! Welcome to...   \n",
       "\n",
       "                   created_at  possibly_sensitive lang               source  \\\n",
       "395  2021-12-09T18:59:02.000Z               False   en  Twitter for Android   \n",
       "396  2021-12-09T18:58:54.000Z               False   en   Twitter for iPhone   \n",
       "397  2021-12-09T18:58:54.000Z               False   en  Twitter for Android   \n",
       "398  2021-12-09T18:58:38.000Z               False   en  Twitter for Android   \n",
       "399  2021-12-09T18:58:31.000Z               False   en  Twitter for Android   \n",
       "\n",
       "                                           attachments  \n",
       "395          {'media_keys': ['3_1468330655360507904']}  \n",
       "396  {'media_keys': ['3_1469018140524748801', '3_14...  \n",
       "397                                                NaN  \n",
       "398                                                NaN  \n",
       "399  {'media_keys': ['3_1469018140524748801', '3_14...  "
      ]
     },
     "execution_count": 43,
     "metadata": {},
     "output_type": "execute_result"
    }
   ],
   "source": [
    "my_df.tail()"
   ]
  },
  {
   "cell_type": "code",
   "execution_count": null,
   "id": "1e82bb74",
   "metadata": {},
   "outputs": [],
   "source": [
    "response_1_dict['meta']"
   ]
  },
  {
   "cell_type": "code",
   "execution_count": 45,
   "id": "4291fc70",
   "metadata": {},
   "outputs": [],
   "source": [
    "response_6 = requests.request(\"GET\", my_api_url_2, headers = header)"
   ]
  },
  {
   "cell_type": "code",
   "execution_count": 46,
   "id": "6453591b",
   "metadata": {},
   "outputs": [],
   "source": [
    "my_df = my_df.append(pd.DataFrame(json.loads(response_4.text)['data']), ignore_index= True)"
   ]
  },
  {
   "cell_type": "code",
   "execution_count": null,
   "id": "36648cd4",
   "metadata": {},
   "outputs": [],
   "source": [
    "my_df"
   ]
  },
  {
   "cell_type": "markdown",
   "id": "f930b7d0",
   "metadata": {},
   "source": [
    "My data frame now has 500 tweets. This is the amount of tweets I would like to collect about Jeopardy!, Ken Jennings, or Mayim Bialik (Jeopardy! hosts)"
   ]
  },
  {
   "cell_type": "code",
   "execution_count": 48,
   "id": "33624d49",
   "metadata": {},
   "outputs": [],
   "source": [
    "my_df.to_csv('jeopardy_data.csv')"
   ]
  },
  {
   "cell_type": "markdown",
   "id": "5904a703",
   "metadata": {},
   "source": [
    "Converting data to .csv file for further analysis"
   ]
  },
  {
   "cell_type": "markdown",
   "id": "b427acae",
   "metadata": {},
   "source": [
    "## WOF Tweet Gathering"
   ]
  },
  {
   "cell_type": "code",
   "execution_count": null,
   "id": "0a4864cd",
   "metadata": {},
   "outputs": [],
   "source": [
    "response_1_dict['meta']"
   ]
  },
  {
   "cell_type": "markdown",
   "id": "ed74b94b",
   "metadata": {},
   "source": [
    "This gives me the next_token I can use to make another request."
   ]
  },
  {
   "cell_type": "code",
   "execution_count": 67,
   "id": "156107f0",
   "metadata": {},
   "outputs": [],
   "source": [
    "endpoint_url_3 = 'https://api.twitter.com/2/tweets/search/recent'"
   ]
  },
  {
   "cell_type": "markdown",
   "id": "02a106b8",
   "metadata": {},
   "source": [
    "Here I am creating a new url to pull tweets from the Twitter API"
   ]
  },
  {
   "cell_type": "code",
   "execution_count": 68,
   "id": "b7c0b910",
   "metadata": {},
   "outputs": [],
   "source": [
    "query = urllib.parse.quote('#WOF OR #WheelOfFourtune OR #PatSajak OR @PatSajak lang:en')"
   ]
  },
  {
   "cell_type": "markdown",
   "id": "90c03fe3",
   "metadata": {},
   "source": [
    "Here I am creating a second query to search for Wheel of Fortune or Pat Sajak"
   ]
  },
  {
   "cell_type": "code",
   "execution_count": 69,
   "id": "9a33c981",
   "metadata": {},
   "outputs": [
    {
     "data": {
      "text/plain": [
       "'%23WOF%20OR%20%23WheelOfFourtune%20OR%20%23PatSajak%20OR%20%40PatSajak%20lang%3Aen'"
      ]
     },
     "execution_count": 69,
     "metadata": {},
     "output_type": "execute_result"
    }
   ],
   "source": [
    "query"
   ]
  },
  {
   "cell_type": "code",
   "execution_count": 70,
   "id": "fec8400d",
   "metadata": {},
   "outputs": [],
   "source": [
    "tweet_fields = 'public_metrics,created_at,lang,possibly_sensitive,attachments,source'"
   ]
  },
  {
   "cell_type": "markdown",
   "id": "bdc2b5c9",
   "metadata": {},
   "source": [
    "Here I am defining the tweet fields I would like the API to include when I ask for data."
   ]
  },
  {
   "cell_type": "code",
   "execution_count": 71,
   "id": "c2b79736",
   "metadata": {},
   "outputs": [],
   "source": [
    "expansions = 'author_id'"
   ]
  },
  {
   "cell_type": "code",
   "execution_count": 72,
   "id": "d6158afd",
   "metadata": {},
   "outputs": [],
   "source": [
    "url = endpoint_url_3 + '?query={}&tweet.fields={}'.format(query, tweet_fields)"
   ]
  },
  {
   "cell_type": "code",
   "execution_count": 73,
   "id": "09d9bb59",
   "metadata": {},
   "outputs": [],
   "source": [
    "url_expansions = endpoint_url_3 + '?query={}&max_results=100&tweet.fields={}&expansions={}&user.fields={}'.format(query, tweet_fields, expansions, 'username')"
   ]
  },
  {
   "cell_type": "markdown",
   "id": "3b0bbcd8",
   "metadata": {},
   "source": [
    "Here I am specifying the fields and conditions that I would like to see from the Twitter data collected. "
   ]
  },
  {
   "cell_type": "code",
   "execution_count": 74,
   "id": "ada3f337",
   "metadata": {},
   "outputs": [
    {
     "data": {
      "text/plain": [
       "'https://api.twitter.com/2/tweets/search/recent?query=%23WOF%20OR%20%23WheelOfFourtune%20OR%20%23PatSajak%20OR%20%40PatSajak%20lang%3Aen&max_results=100&tweet.fields=public_metrics,created_at,lang,possibly_sensitive,attachments,source&expansions=author_id&user.fields=username'"
      ]
     },
     "execution_count": 74,
     "metadata": {},
     "output_type": "execute_result"
    }
   ],
   "source": [
    "url_expansions"
   ]
  },
  {
   "cell_type": "markdown",
   "id": "e27b36fb",
   "metadata": {},
   "source": [
    "This is the url of my request from Twitter of tweets regarding WOF and Pat Sajak"
   ]
  },
  {
   "cell_type": "code",
   "execution_count": 75,
   "id": "f23dffbf",
   "metadata": {},
   "outputs": [],
   "source": [
    "Wresponse_1 = requests.request(\"GET\", url_expansions, headers = header)"
   ]
  },
  {
   "cell_type": "markdown",
   "id": "23b50e08",
   "metadata": {},
   "source": [
    "Here I am making my request for 100 tweets of Twitter data. This time about WOF"
   ]
  },
  {
   "cell_type": "code",
   "execution_count": null,
   "id": "3f9d6a8b",
   "metadata": {},
   "outputs": [],
   "source": [
    "Wresponse_1.text"
   ]
  },
  {
   "cell_type": "code",
   "execution_count": 76,
   "id": "b0f6e777",
   "metadata": {},
   "outputs": [],
   "source": [
    "Wresponse_1_dict = json.loads(Wresponse_1.text)"
   ]
  },
  {
   "cell_type": "code",
   "execution_count": 77,
   "id": "827c2bb2",
   "metadata": {},
   "outputs": [
    {
     "data": {
      "text/plain": [
       "dict_keys(['data', 'includes', 'meta'])"
      ]
     },
     "execution_count": 77,
     "metadata": {},
     "output_type": "execute_result"
    }
   ],
   "source": [
    "Wresponse_1_dict.keys()"
   ]
  },
  {
   "cell_type": "code",
   "execution_count": 78,
   "id": "f6cf4b58",
   "metadata": {},
   "outputs": [],
   "source": [
    "my_df2 = pd.DataFrame(Wresponse_1_dict['data'])"
   ]
  },
  {
   "cell_type": "markdown",
   "id": "ce463da6",
   "metadata": {},
   "source": [
    "I am creating a data frame with the 'data' key."
   ]
  },
  {
   "cell_type": "code",
   "execution_count": 79,
   "id": "eaf728a3",
   "metadata": {},
   "outputs": [
    {
     "data": {
      "text/html": [
       "<div>\n",
       "<style scoped>\n",
       "    .dataframe tbody tr th:only-of-type {\n",
       "        vertical-align: middle;\n",
       "    }\n",
       "\n",
       "    .dataframe tbody tr th {\n",
       "        vertical-align: top;\n",
       "    }\n",
       "\n",
       "    .dataframe thead th {\n",
       "        text-align: right;\n",
       "    }\n",
       "</style>\n",
       "<table border=\"1\" class=\"dataframe\">\n",
       "  <thead>\n",
       "    <tr style=\"text-align: right;\">\n",
       "      <th></th>\n",
       "      <th>possibly_sensitive</th>\n",
       "      <th>text</th>\n",
       "      <th>author_id</th>\n",
       "      <th>lang</th>\n",
       "      <th>source</th>\n",
       "      <th>public_metrics</th>\n",
       "      <th>created_at</th>\n",
       "      <th>id</th>\n",
       "      <th>attachments</th>\n",
       "    </tr>\n",
       "  </thead>\n",
       "  <tbody>\n",
       "    <tr>\n",
       "      <th>95</th>\n",
       "      <td>False</td>\n",
       "      <td>@sandergansen @WorldOfFreight @supplain Im so ...</td>\n",
       "      <td>261232333</td>\n",
       "      <td>en</td>\n",
       "      <td>Twitter Web App</td>\n",
       "      <td>{'retweet_count': 5, 'reply_count': 3, 'like_c...</td>\n",
       "      <td>2021-12-09T18:23:03.000Z</td>\n",
       "      <td>1469009714826653702</td>\n",
       "      <td>NaN</td>\n",
       "    </tr>\n",
       "    <tr>\n",
       "      <th>96</th>\n",
       "      <td>False</td>\n",
       "      <td>RT @patsajak: “Please hold. Your call is impor...</td>\n",
       "      <td>505353338</td>\n",
       "      <td>en</td>\n",
       "      <td>Twitter for Android</td>\n",
       "      <td>{'retweet_count': 107, 'reply_count': 0, 'like...</td>\n",
       "      <td>2021-12-09T18:19:58.000Z</td>\n",
       "      <td>1469008938909806593</td>\n",
       "      <td>NaN</td>\n",
       "    </tr>\n",
       "    <tr>\n",
       "      <th>97</th>\n",
       "      <td>False</td>\n",
       "      <td>RT @patsajak: “Please hold. Your call is impor...</td>\n",
       "      <td>297558558</td>\n",
       "      <td>en</td>\n",
       "      <td>Twitter for iPhone</td>\n",
       "      <td>{'retweet_count': 107, 'reply_count': 0, 'like...</td>\n",
       "      <td>2021-12-09T18:18:47.000Z</td>\n",
       "      <td>1469008641047019526</td>\n",
       "      <td>NaN</td>\n",
       "    </tr>\n",
       "    <tr>\n",
       "      <th>98</th>\n",
       "      <td>False</td>\n",
       "      <td>@MaryMacMixes @patsajak Wellcare</td>\n",
       "      <td>1007792130</td>\n",
       "      <td>en</td>\n",
       "      <td>Twitter for iPad</td>\n",
       "      <td>{'retweet_count': 0, 'reply_count': 0, 'like_c...</td>\n",
       "      <td>2021-12-09T18:17:50.000Z</td>\n",
       "      <td>1469008403594887169</td>\n",
       "      <td>NaN</td>\n",
       "    </tr>\n",
       "    <tr>\n",
       "      <th>99</th>\n",
       "      <td>False</td>\n",
       "      <td>RT @patsajak: “Please hold. Your call is impor...</td>\n",
       "      <td>1402776664866701317</td>\n",
       "      <td>en</td>\n",
       "      <td>Twitter for iPhone</td>\n",
       "      <td>{'retweet_count': 107, 'reply_count': 0, 'like...</td>\n",
       "      <td>2021-12-09T18:16:24.000Z</td>\n",
       "      <td>1469008040959655940</td>\n",
       "      <td>NaN</td>\n",
       "    </tr>\n",
       "  </tbody>\n",
       "</table>\n",
       "</div>"
      ],
      "text/plain": [
       "    possibly_sensitive                                               text  \\\n",
       "95               False  @sandergansen @WorldOfFreight @supplain Im so ...   \n",
       "96               False  RT @patsajak: “Please hold. Your call is impor...   \n",
       "97               False  RT @patsajak: “Please hold. Your call is impor...   \n",
       "98               False                   @MaryMacMixes @patsajak Wellcare   \n",
       "99               False  RT @patsajak: “Please hold. Your call is impor...   \n",
       "\n",
       "              author_id lang               source  \\\n",
       "95            261232333   en      Twitter Web App   \n",
       "96            505353338   en  Twitter for Android   \n",
       "97            297558558   en   Twitter for iPhone   \n",
       "98           1007792130   en     Twitter for iPad   \n",
       "99  1402776664866701317   en   Twitter for iPhone   \n",
       "\n",
       "                                       public_metrics  \\\n",
       "95  {'retweet_count': 5, 'reply_count': 3, 'like_c...   \n",
       "96  {'retweet_count': 107, 'reply_count': 0, 'like...   \n",
       "97  {'retweet_count': 107, 'reply_count': 0, 'like...   \n",
       "98  {'retweet_count': 0, 'reply_count': 0, 'like_c...   \n",
       "99  {'retweet_count': 107, 'reply_count': 0, 'like...   \n",
       "\n",
       "                  created_at                   id attachments  \n",
       "95  2021-12-09T18:23:03.000Z  1469009714826653702         NaN  \n",
       "96  2021-12-09T18:19:58.000Z  1469008938909806593         NaN  \n",
       "97  2021-12-09T18:18:47.000Z  1469008641047019526         NaN  \n",
       "98  2021-12-09T18:17:50.000Z  1469008403594887169         NaN  \n",
       "99  2021-12-09T18:16:24.000Z  1469008040959655940         NaN  "
      ]
     },
     "execution_count": 79,
     "metadata": {},
     "output_type": "execute_result"
    }
   ],
   "source": [
    "my_df2.tail()"
   ]
  },
  {
   "cell_type": "code",
   "execution_count": null,
   "id": "7592aa18",
   "metadata": {},
   "outputs": [],
   "source": [
    "Wresponse_1_dict['meta']"
   ]
  },
  {
   "cell_type": "code",
   "execution_count": 82,
   "id": "ebc3064e",
   "metadata": {},
   "outputs": [],
   "source": [
    "my_api_W_url = url + '&next_token={}&max_results=100'.format(Wresponse_1_dict['meta']['next_token'])"
   ]
  },
  {
   "cell_type": "code",
   "execution_count": 83,
   "id": "26732e25",
   "metadata": {},
   "outputs": [
    {
     "data": {
      "text/plain": [
       "'https://api.twitter.com/2/tweets/search/recent?query=%23WOF%20OR%20%23WheelOfFourtune%20OR%20%23PatSajak%20OR%20%40PatSajak%20lang%3Aen&tweet.fields=public_metrics,created_at,lang,possibly_sensitive,attachments,source&next_token=b26v89c19zqg8o3fpdy9ckf1a4r3yi0250sn60qqfu5x9&max_results=100'"
      ]
     },
     "execution_count": 83,
     "metadata": {},
     "output_type": "execute_result"
    }
   ],
   "source": [
    "my_api_W_url"
   ]
  },
  {
   "cell_type": "code",
   "execution_count": 84,
   "id": "5ea024df",
   "metadata": {},
   "outputs": [],
   "source": [
    "response_W2 = requests.request(\"GET\", my_api_W_url, headers = header)"
   ]
  },
  {
   "cell_type": "code",
   "execution_count": null,
   "id": "409533c8",
   "metadata": {},
   "outputs": [],
   "source": [
    "response_W2.text"
   ]
  },
  {
   "cell_type": "code",
   "execution_count": 86,
   "id": "f6f6a8af",
   "metadata": {},
   "outputs": [],
   "source": [
    "my_df2 = my_df2.append(pd.DataFrame(json.loads(response_W2.text)['data']), ignore_index= True)"
   ]
  },
  {
   "cell_type": "code",
   "execution_count": null,
   "id": "90b518b5",
   "metadata": {
    "scrolled": true
   },
   "outputs": [],
   "source": [
    "my_df2"
   ]
  },
  {
   "cell_type": "code",
   "execution_count": null,
   "id": "7cd66f43",
   "metadata": {},
   "outputs": [],
   "source": [
    "Wresponse_1_dict['meta']"
   ]
  },
  {
   "cell_type": "code",
   "execution_count": 89,
   "id": "00fced89",
   "metadata": {},
   "outputs": [],
   "source": [
    "response_W3 = requests.request(\"GET\", my_api_W_url, headers = header)"
   ]
  },
  {
   "cell_type": "code",
   "execution_count": null,
   "id": "0c02a3b6",
   "metadata": {},
   "outputs": [],
   "source": [
    "response_W3.text"
   ]
  },
  {
   "cell_type": "code",
   "execution_count": 91,
   "id": "d7f942bd",
   "metadata": {},
   "outputs": [],
   "source": [
    "my_df2 = my_df2.append(pd.DataFrame(json.loads(response_W3.text)['data']), ignore_index= True)"
   ]
  },
  {
   "cell_type": "code",
   "execution_count": null,
   "id": "539c4d94",
   "metadata": {},
   "outputs": [],
   "source": [
    "my_df2"
   ]
  },
  {
   "cell_type": "code",
   "execution_count": null,
   "id": "330d5bfb",
   "metadata": {},
   "outputs": [],
   "source": [
    "Wresponse_1_dict['meta']"
   ]
  },
  {
   "cell_type": "code",
   "execution_count": 94,
   "id": "cc7cfbc8",
   "metadata": {},
   "outputs": [],
   "source": [
    "response_W4 = requests.request(\"GET\", my_api_W_url, headers = header)"
   ]
  },
  {
   "cell_type": "code",
   "execution_count": null,
   "id": "f8b82763",
   "metadata": {},
   "outputs": [],
   "source": [
    "response_W4.text"
   ]
  },
  {
   "cell_type": "code",
   "execution_count": 96,
   "id": "34bd1e4c",
   "metadata": {},
   "outputs": [],
   "source": [
    "my_df2 = my_df2.append(pd.DataFrame(json.loads(response_W4.text)['data']), ignore_index= True)"
   ]
  },
  {
   "cell_type": "code",
   "execution_count": null,
   "id": "bcdac4fa",
   "metadata": {},
   "outputs": [],
   "source": [
    "my_df2"
   ]
  },
  {
   "cell_type": "code",
   "execution_count": null,
   "id": "074d5d78",
   "metadata": {},
   "outputs": [],
   "source": [
    "Wresponse_1_dict['meta']"
   ]
  },
  {
   "cell_type": "code",
   "execution_count": 99,
   "id": "c46362ff",
   "metadata": {},
   "outputs": [],
   "source": [
    "response_W5 = requests.request(\"GET\", my_api_W_url, headers = header)"
   ]
  },
  {
   "cell_type": "code",
   "execution_count": null,
   "id": "b1a280cc",
   "metadata": {},
   "outputs": [],
   "source": [
    "response_W5.text"
   ]
  },
  {
   "cell_type": "code",
   "execution_count": 101,
   "id": "7782052d",
   "metadata": {},
   "outputs": [],
   "source": [
    "my_df2 = my_df2.append(pd.DataFrame(json.loads(response_W5.text)['data']), ignore_index= True)"
   ]
  },
  {
   "cell_type": "code",
   "execution_count": null,
   "id": "4d216181",
   "metadata": {
    "scrolled": true
   },
   "outputs": [],
   "source": []
  },
  {
   "cell_type": "code",
   "execution_count": 105,
   "id": "87d32743",
   "metadata": {},
   "outputs": [],
   "source": [
    "my_df2.to_csv('WOF_data.csv')"
   ]
  },
  {
   "cell_type": "markdown",
   "id": "74e81525",
   "metadata": {},
   "source": [
    "Moving my Wheel of Fortune into a csv. "
   ]
  },
  {
   "cell_type": "markdown",
   "id": "fac5607a",
   "metadata": {},
   "source": [
    "# Analysis"
   ]
  },
  {
   "cell_type": "markdown",
   "id": "24c5dbd2",
   "metadata": {},
   "source": [
    "Here I will be showing the analysis of Jeopardy! and WOF tweets and comparing them. \n",
    "\n",
    "From here, I used oly to sort the tweets with only english tweets. Then I used polarity analyzer to get the calculations about positive, neutral, and negative tweets. I will interpret the results of the tweets positively and negatively with the polarity analyzer. Lastly, I used matplotlib to visualize my data.\n",
    "\n",
    "Weaknesses of my analysis: \n",
    "- It is a little broad\n",
    "- Jeopardy! and WOF's main audience might not be on Twitter maybe a different social media platform\n",
    "    - meaning I might only receive data from a younger or older audience\n",
    "\n",
    "Strengths of my analysis:\n",
    "- A new tournament has begun which means possibly an influx of tweets\n"
   ]
  },
  {
   "cell_type": "markdown",
   "id": "6433c812",
   "metadata": {},
   "source": [
    "Beginning to analyze data I've collected in each csv. "
   ]
  },
  {
   "cell_type": "code",
   "execution_count": 4,
   "id": "84ca61df",
   "metadata": {},
   "outputs": [],
   "source": [
    "oly = pd.read_csv('jeopardy_data.csv', encoding = 'utf-8')"
   ]
  },
  {
   "cell_type": "code",
   "execution_count": 5,
   "id": "950a7601",
   "metadata": {},
   "outputs": [
    {
     "data": {
      "text/plain": [
       "Index(['Unnamed: 0', 'public_metrics', 'id', 'author_id', 'text', 'created_at',\n",
       "       'possibly_sensitive', 'lang', 'source', 'attachments'],\n",
       "      dtype='object')"
      ]
     },
     "execution_count": 5,
     "metadata": {},
     "output_type": "execute_result"
    }
   ],
   "source": [
    "oly.keys()"
   ]
  },
  {
   "cell_type": "code",
   "execution_count": 6,
   "id": "804c44da",
   "metadata": {},
   "outputs": [
    {
     "data": {
      "text/html": [
       "<div>\n",
       "<style scoped>\n",
       "    .dataframe tbody tr th:only-of-type {\n",
       "        vertical-align: middle;\n",
       "    }\n",
       "\n",
       "    .dataframe tbody tr th {\n",
       "        vertical-align: top;\n",
       "    }\n",
       "\n",
       "    .dataframe thead th {\n",
       "        text-align: right;\n",
       "    }\n",
       "</style>\n",
       "<table border=\"1\" class=\"dataframe\">\n",
       "  <thead>\n",
       "    <tr style=\"text-align: right;\">\n",
       "      <th></th>\n",
       "      <th>Unnamed: 0</th>\n",
       "      <th>public_metrics</th>\n",
       "      <th>id</th>\n",
       "      <th>author_id</th>\n",
       "      <th>text</th>\n",
       "      <th>created_at</th>\n",
       "      <th>possibly_sensitive</th>\n",
       "      <th>lang</th>\n",
       "      <th>source</th>\n",
       "      <th>attachments</th>\n",
       "    </tr>\n",
       "  </thead>\n",
       "  <tbody>\n",
       "    <tr>\n",
       "      <th>0</th>\n",
       "      <td>0</td>\n",
       "      <td>{'retweet_count': 0, 'reply_count': 0, 'like_c...</td>\n",
       "      <td>1469055869908312066</td>\n",
       "      <td>3.159011e+07</td>\n",
       "      <td>@JenniferBurt @TheDudeInSF @missmayim You are ...</td>\n",
       "      <td>2021-12-09T21:26:27.000Z</td>\n",
       "      <td>False</td>\n",
       "      <td>en</td>\n",
       "      <td>Twitter Web App</td>\n",
       "      <td>NaN</td>\n",
       "    </tr>\n",
       "    <tr>\n",
       "      <th>1</th>\n",
       "      <td>1</td>\n",
       "      <td>{'retweet_count': 0, 'reply_count': 0, 'like_c...</td>\n",
       "      <td>1469055781618298882</td>\n",
       "      <td>2.479846e+09</td>\n",
       "      <td>#Jeopardy! fans are obsessed with this contest...</td>\n",
       "      <td>2021-12-09T21:26:06.000Z</td>\n",
       "      <td>False</td>\n",
       "      <td>en</td>\n",
       "      <td>SocialFlow</td>\n",
       "      <td>{'media_keys': ['3_1469055779160403974']}</td>\n",
       "    </tr>\n",
       "    <tr>\n",
       "      <th>2</th>\n",
       "      <td>2</td>\n",
       "      <td>{'retweet_count': 0, 'reply_count': 0, 'like_c...</td>\n",
       "      <td>1469055523379154955</td>\n",
       "      <td>1.318278e+09</td>\n",
       "      <td>@Jeopardy Does anyone else think he looks a lo...</td>\n",
       "      <td>2021-12-09T21:25:05.000Z</td>\n",
       "      <td>False</td>\n",
       "      <td>en</td>\n",
       "      <td>Twitter Web App</td>\n",
       "      <td>NaN</td>\n",
       "    </tr>\n",
       "    <tr>\n",
       "      <th>3</th>\n",
       "      <td>3</td>\n",
       "      <td>{'retweet_count': 80, 'reply_count': 0, 'like_...</td>\n",
       "      <td>1469055109342638092</td>\n",
       "      <td>2.844542e+07</td>\n",
       "      <td>RT @KenJennings: Delighted that @missmayim and...</td>\n",
       "      <td>2021-12-09T21:23:26.000Z</td>\n",
       "      <td>False</td>\n",
       "      <td>en</td>\n",
       "      <td>Twitter for iPhone</td>\n",
       "      <td>NaN</td>\n",
       "    </tr>\n",
       "    <tr>\n",
       "      <th>4</th>\n",
       "      <td>4</td>\n",
       "      <td>{'retweet_count': 270, 'reply_count': 0, 'like...</td>\n",
       "      <td>1469055053864525836</td>\n",
       "      <td>1.328061e+18</td>\n",
       "      <td>RT @peterbelayneh: የ #TDF ጀግንነት ታሪክ ላይ ተፅፏል \\n...</td>\n",
       "      <td>2021-12-09T21:23:13.000Z</td>\n",
       "      <td>False</td>\n",
       "      <td>und</td>\n",
       "      <td>Twitter for Android</td>\n",
       "      <td>{'media_keys': ['7_1468804403410857986']}</td>\n",
       "    </tr>\n",
       "  </tbody>\n",
       "</table>\n",
       "</div>"
      ],
      "text/plain": [
       "   Unnamed: 0                                     public_metrics  \\\n",
       "0           0  {'retweet_count': 0, 'reply_count': 0, 'like_c...   \n",
       "1           1  {'retweet_count': 0, 'reply_count': 0, 'like_c...   \n",
       "2           2  {'retweet_count': 0, 'reply_count': 0, 'like_c...   \n",
       "3           3  {'retweet_count': 80, 'reply_count': 0, 'like_...   \n",
       "4           4  {'retweet_count': 270, 'reply_count': 0, 'like...   \n",
       "\n",
       "                    id     author_id  \\\n",
       "0  1469055869908312066  3.159011e+07   \n",
       "1  1469055781618298882  2.479846e+09   \n",
       "2  1469055523379154955  1.318278e+09   \n",
       "3  1469055109342638092  2.844542e+07   \n",
       "4  1469055053864525836  1.328061e+18   \n",
       "\n",
       "                                                text  \\\n",
       "0  @JenniferBurt @TheDudeInSF @missmayim You are ...   \n",
       "1  #Jeopardy! fans are obsessed with this contest...   \n",
       "2  @Jeopardy Does anyone else think he looks a lo...   \n",
       "3  RT @KenJennings: Delighted that @missmayim and...   \n",
       "4  RT @peterbelayneh: የ #TDF ጀግንነት ታሪክ ላይ ተፅፏል \\n...   \n",
       "\n",
       "                 created_at  possibly_sensitive lang               source  \\\n",
       "0  2021-12-09T21:26:27.000Z               False   en      Twitter Web App   \n",
       "1  2021-12-09T21:26:06.000Z               False   en           SocialFlow   \n",
       "2  2021-12-09T21:25:05.000Z               False   en      Twitter Web App   \n",
       "3  2021-12-09T21:23:26.000Z               False   en   Twitter for iPhone   \n",
       "4  2021-12-09T21:23:13.000Z               False  und  Twitter for Android   \n",
       "\n",
       "                                 attachments  \n",
       "0                                        NaN  \n",
       "1  {'media_keys': ['3_1469055779160403974']}  \n",
       "2                                        NaN  \n",
       "3                                        NaN  \n",
       "4  {'media_keys': ['7_1468804403410857986']}  "
      ]
     },
     "execution_count": 6,
     "metadata": {},
     "output_type": "execute_result"
    }
   ],
   "source": [
    "oly.head()"
   ]
  },
  {
   "cell_type": "markdown",
   "id": "cbfaab21",
   "metadata": {},
   "source": [
    "Determining the keys in my CSV"
   ]
  },
  {
   "cell_type": "code",
   "execution_count": 7,
   "id": "7670fa66",
   "metadata": {},
   "outputs": [
    {
     "data": {
      "text/plain": [
       "0      @JenniferBurt @TheDudeInSF @missmayim You are ...\n",
       "1      #Jeopardy! fans are obsessed with this contest...\n",
       "2      @Jeopardy Does anyone else think he looks a lo...\n",
       "3      RT @KenJennings: Delighted that @missmayim and...\n",
       "4      RT @peterbelayneh: የ #TDF ጀግንነት ታሪክ ላይ ተፅፏል \\n...\n",
       "                             ...                        \n",
       "495    RT @Jeopardy: Thank you to educators everywher...\n",
       "496    RT @missmayim: Class is in session! Welcome to...\n",
       "497    RT @Jeopardy: We are delighted to let you know...\n",
       "498    RT @missmayim: Guess what! Today is the day?! ...\n",
       "499    RT @missmayim: Class is in session! Welcome to...\n",
       "Name: text, Length: 500, dtype: object"
      ]
     },
     "execution_count": 7,
     "metadata": {},
     "output_type": "execute_result"
    }
   ],
   "source": [
    "oly['text']"
   ]
  },
  {
   "cell_type": "markdown",
   "id": "5287cf02",
   "metadata": {},
   "source": [
    "Generating the raw text of the tweets so I can evaluate the positive, neutral, and negative words. "
   ]
  },
  {
   "cell_type": "code",
   "execution_count": 8,
   "id": "033a57d0",
   "metadata": {},
   "outputs": [
    {
     "data": {
      "text/plain": [
       "'RT @peterbelayneh: የ #TDF ጀግንነት ታሪክ ላይ ተፅፏል \\nThe most-watched show #Jeopardy https://t.co/dNlxV1kLhu'"
      ]
     },
     "execution_count": 8,
     "metadata": {},
     "output_type": "execute_result"
    }
   ],
   "source": [
    "oly['text'].iloc[6]"
   ]
  },
  {
   "cell_type": "code",
   "execution_count": 10,
   "id": "141c071b",
   "metadata": {},
   "outputs": [
    {
     "data": {
      "text/plain": [
       "0       en\n",
       "1       en\n",
       "2       en\n",
       "3       en\n",
       "4      und\n",
       "      ... \n",
       "495     en\n",
       "496     en\n",
       "497     en\n",
       "498     en\n",
       "499     en\n",
       "Name: lang, Length: 500, dtype: category\n",
       "Categories (4, object): ['ca', 'en', 'ro', 'und']"
      ]
     },
     "execution_count": 10,
     "metadata": {},
     "output_type": "execute_result"
    }
   ],
   "source": [
    "oly['lang'].astype('category')"
   ]
  },
  {
   "cell_type": "markdown",
   "id": "66aad707",
   "metadata": {},
   "source": [
    "Pulling only english tweets"
   ]
  },
  {
   "cell_type": "code",
   "execution_count": 11,
   "id": "2c5bf14e",
   "metadata": {},
   "outputs": [],
   "source": [
    "oly_enposts = oly[(oly['lang'] == 'en')]"
   ]
  },
  {
   "cell_type": "code",
   "execution_count": 12,
   "id": "82ef41ab",
   "metadata": {},
   "outputs": [
    {
     "data": {
      "text/html": [
       "<div>\n",
       "<style scoped>\n",
       "    .dataframe tbody tr th:only-of-type {\n",
       "        vertical-align: middle;\n",
       "    }\n",
       "\n",
       "    .dataframe tbody tr th {\n",
       "        vertical-align: top;\n",
       "    }\n",
       "\n",
       "    .dataframe thead th {\n",
       "        text-align: right;\n",
       "    }\n",
       "</style>\n",
       "<table border=\"1\" class=\"dataframe\">\n",
       "  <thead>\n",
       "    <tr style=\"text-align: right;\">\n",
       "      <th></th>\n",
       "      <th>Unnamed: 0</th>\n",
       "      <th>public_metrics</th>\n",
       "      <th>id</th>\n",
       "      <th>author_id</th>\n",
       "      <th>text</th>\n",
       "      <th>created_at</th>\n",
       "      <th>possibly_sensitive</th>\n",
       "      <th>lang</th>\n",
       "      <th>source</th>\n",
       "      <th>attachments</th>\n",
       "    </tr>\n",
       "  </thead>\n",
       "  <tbody>\n",
       "    <tr>\n",
       "      <th>0</th>\n",
       "      <td>0</td>\n",
       "      <td>{'retweet_count': 0, 'reply_count': 0, 'like_c...</td>\n",
       "      <td>1469055869908312066</td>\n",
       "      <td>3.159011e+07</td>\n",
       "      <td>@JenniferBurt @TheDudeInSF @missmayim You are ...</td>\n",
       "      <td>2021-12-09T21:26:27.000Z</td>\n",
       "      <td>False</td>\n",
       "      <td>en</td>\n",
       "      <td>Twitter Web App</td>\n",
       "      <td>NaN</td>\n",
       "    </tr>\n",
       "    <tr>\n",
       "      <th>1</th>\n",
       "      <td>1</td>\n",
       "      <td>{'retweet_count': 0, 'reply_count': 0, 'like_c...</td>\n",
       "      <td>1469055781618298882</td>\n",
       "      <td>2.479846e+09</td>\n",
       "      <td>#Jeopardy! fans are obsessed with this contest...</td>\n",
       "      <td>2021-12-09T21:26:06.000Z</td>\n",
       "      <td>False</td>\n",
       "      <td>en</td>\n",
       "      <td>SocialFlow</td>\n",
       "      <td>{'media_keys': ['3_1469055779160403974']}</td>\n",
       "    </tr>\n",
       "    <tr>\n",
       "      <th>2</th>\n",
       "      <td>2</td>\n",
       "      <td>{'retweet_count': 0, 'reply_count': 0, 'like_c...</td>\n",
       "      <td>1469055523379154955</td>\n",
       "      <td>1.318278e+09</td>\n",
       "      <td>@Jeopardy Does anyone else think he looks a lo...</td>\n",
       "      <td>2021-12-09T21:25:05.000Z</td>\n",
       "      <td>False</td>\n",
       "      <td>en</td>\n",
       "      <td>Twitter Web App</td>\n",
       "      <td>NaN</td>\n",
       "    </tr>\n",
       "    <tr>\n",
       "      <th>3</th>\n",
       "      <td>3</td>\n",
       "      <td>{'retweet_count': 80, 'reply_count': 0, 'like_...</td>\n",
       "      <td>1469055109342638092</td>\n",
       "      <td>2.844542e+07</td>\n",
       "      <td>RT @KenJennings: Delighted that @missmayim and...</td>\n",
       "      <td>2021-12-09T21:23:26.000Z</td>\n",
       "      <td>False</td>\n",
       "      <td>en</td>\n",
       "      <td>Twitter for iPhone</td>\n",
       "      <td>NaN</td>\n",
       "    </tr>\n",
       "    <tr>\n",
       "      <th>5</th>\n",
       "      <td>5</td>\n",
       "      <td>{'retweet_count': 0, 'reply_count': 0, 'like_c...</td>\n",
       "      <td>1469055028749123586</td>\n",
       "      <td>3.989444e+08</td>\n",
       "      <td>@Jeopardy @ehashima @DoctorJDub Also a great l...</td>\n",
       "      <td>2021-12-09T21:23:07.000Z</td>\n",
       "      <td>False</td>\n",
       "      <td>en</td>\n",
       "      <td>Twitter Web App</td>\n",
       "      <td>NaN</td>\n",
       "    </tr>\n",
       "    <tr>\n",
       "      <th>...</th>\n",
       "      <td>...</td>\n",
       "      <td>...</td>\n",
       "      <td>...</td>\n",
       "      <td>...</td>\n",
       "      <td>...</td>\n",
       "      <td>...</td>\n",
       "      <td>...</td>\n",
       "      <td>...</td>\n",
       "      <td>...</td>\n",
       "      <td>...</td>\n",
       "    </tr>\n",
       "    <tr>\n",
       "      <th>495</th>\n",
       "      <td>495</td>\n",
       "      <td>{'retweet_count': 60, 'reply_count': 0, 'like_...</td>\n",
       "      <td>1469018769599221767</td>\n",
       "      <td>NaN</td>\n",
       "      <td>RT @Jeopardy: Thank you to educators everywher...</td>\n",
       "      <td>2021-12-09T18:59:02.000Z</td>\n",
       "      <td>False</td>\n",
       "      <td>en</td>\n",
       "      <td>Twitter for Android</td>\n",
       "      <td>{'media_keys': ['3_1468330655360507904']}</td>\n",
       "    </tr>\n",
       "    <tr>\n",
       "      <th>496</th>\n",
       "      <td>496</td>\n",
       "      <td>{'retweet_count': 16, 'reply_count': 0, 'like_...</td>\n",
       "      <td>1469018736174764033</td>\n",
       "      <td>NaN</td>\n",
       "      <td>RT @missmayim: Class is in session! Welcome to...</td>\n",
       "      <td>2021-12-09T18:58:54.000Z</td>\n",
       "      <td>False</td>\n",
       "      <td>en</td>\n",
       "      <td>Twitter for iPhone</td>\n",
       "      <td>{'media_keys': ['3_1469018140524748801', '3_14...</td>\n",
       "    </tr>\n",
       "    <tr>\n",
       "      <th>497</th>\n",
       "      <td>497</td>\n",
       "      <td>{'retweet_count': 274, 'reply_count': 0, 'like...</td>\n",
       "      <td>1469018735776354316</td>\n",
       "      <td>NaN</td>\n",
       "      <td>RT @Jeopardy: We are delighted to let you know...</td>\n",
       "      <td>2021-12-09T18:58:54.000Z</td>\n",
       "      <td>False</td>\n",
       "      <td>en</td>\n",
       "      <td>Twitter for Android</td>\n",
       "      <td>NaN</td>\n",
       "    </tr>\n",
       "    <tr>\n",
       "      <th>498</th>\n",
       "      <td>498</td>\n",
       "      <td>{'retweet_count': 20, 'reply_count': 0, 'like_...</td>\n",
       "      <td>1469018669334290434</td>\n",
       "      <td>NaN</td>\n",
       "      <td>RT @missmayim: Guess what! Today is the day?! ...</td>\n",
       "      <td>2021-12-09T18:58:38.000Z</td>\n",
       "      <td>False</td>\n",
       "      <td>en</td>\n",
       "      <td>Twitter for Android</td>\n",
       "      <td>NaN</td>\n",
       "    </tr>\n",
       "    <tr>\n",
       "      <th>499</th>\n",
       "      <td>499</td>\n",
       "      <td>{'retweet_count': 16, 'reply_count': 0, 'like_...</td>\n",
       "      <td>1469018642138349572</td>\n",
       "      <td>NaN</td>\n",
       "      <td>RT @missmayim: Class is in session! Welcome to...</td>\n",
       "      <td>2021-12-09T18:58:31.000Z</td>\n",
       "      <td>False</td>\n",
       "      <td>en</td>\n",
       "      <td>Twitter for Android</td>\n",
       "      <td>{'media_keys': ['3_1469018140524748801', '3_14...</td>\n",
       "    </tr>\n",
       "  </tbody>\n",
       "</table>\n",
       "<p>419 rows × 10 columns</p>\n",
       "</div>"
      ],
      "text/plain": [
       "     Unnamed: 0                                     public_metrics  \\\n",
       "0             0  {'retweet_count': 0, 'reply_count': 0, 'like_c...   \n",
       "1             1  {'retweet_count': 0, 'reply_count': 0, 'like_c...   \n",
       "2             2  {'retweet_count': 0, 'reply_count': 0, 'like_c...   \n",
       "3             3  {'retweet_count': 80, 'reply_count': 0, 'like_...   \n",
       "5             5  {'retweet_count': 0, 'reply_count': 0, 'like_c...   \n",
       "..          ...                                                ...   \n",
       "495         495  {'retweet_count': 60, 'reply_count': 0, 'like_...   \n",
       "496         496  {'retweet_count': 16, 'reply_count': 0, 'like_...   \n",
       "497         497  {'retweet_count': 274, 'reply_count': 0, 'like...   \n",
       "498         498  {'retweet_count': 20, 'reply_count': 0, 'like_...   \n",
       "499         499  {'retweet_count': 16, 'reply_count': 0, 'like_...   \n",
       "\n",
       "                      id     author_id  \\\n",
       "0    1469055869908312066  3.159011e+07   \n",
       "1    1469055781618298882  2.479846e+09   \n",
       "2    1469055523379154955  1.318278e+09   \n",
       "3    1469055109342638092  2.844542e+07   \n",
       "5    1469055028749123586  3.989444e+08   \n",
       "..                   ...           ...   \n",
       "495  1469018769599221767           NaN   \n",
       "496  1469018736174764033           NaN   \n",
       "497  1469018735776354316           NaN   \n",
       "498  1469018669334290434           NaN   \n",
       "499  1469018642138349572           NaN   \n",
       "\n",
       "                                                  text  \\\n",
       "0    @JenniferBurt @TheDudeInSF @missmayim You are ...   \n",
       "1    #Jeopardy! fans are obsessed with this contest...   \n",
       "2    @Jeopardy Does anyone else think he looks a lo...   \n",
       "3    RT @KenJennings: Delighted that @missmayim and...   \n",
       "5    @Jeopardy @ehashima @DoctorJDub Also a great l...   \n",
       "..                                                 ...   \n",
       "495  RT @Jeopardy: Thank you to educators everywher...   \n",
       "496  RT @missmayim: Class is in session! Welcome to...   \n",
       "497  RT @Jeopardy: We are delighted to let you know...   \n",
       "498  RT @missmayim: Guess what! Today is the day?! ...   \n",
       "499  RT @missmayim: Class is in session! Welcome to...   \n",
       "\n",
       "                   created_at  possibly_sensitive lang               source  \\\n",
       "0    2021-12-09T21:26:27.000Z               False   en      Twitter Web App   \n",
       "1    2021-12-09T21:26:06.000Z               False   en           SocialFlow   \n",
       "2    2021-12-09T21:25:05.000Z               False   en      Twitter Web App   \n",
       "3    2021-12-09T21:23:26.000Z               False   en   Twitter for iPhone   \n",
       "5    2021-12-09T21:23:07.000Z               False   en      Twitter Web App   \n",
       "..                        ...                 ...  ...                  ...   \n",
       "495  2021-12-09T18:59:02.000Z               False   en  Twitter for Android   \n",
       "496  2021-12-09T18:58:54.000Z               False   en   Twitter for iPhone   \n",
       "497  2021-12-09T18:58:54.000Z               False   en  Twitter for Android   \n",
       "498  2021-12-09T18:58:38.000Z               False   en  Twitter for Android   \n",
       "499  2021-12-09T18:58:31.000Z               False   en  Twitter for Android   \n",
       "\n",
       "                                           attachments  \n",
       "0                                                  NaN  \n",
       "1            {'media_keys': ['3_1469055779160403974']}  \n",
       "2                                                  NaN  \n",
       "3                                                  NaN  \n",
       "5                                                  NaN  \n",
       "..                                                 ...  \n",
       "495          {'media_keys': ['3_1468330655360507904']}  \n",
       "496  {'media_keys': ['3_1469018140524748801', '3_14...  \n",
       "497                                                NaN  \n",
       "498                                                NaN  \n",
       "499  {'media_keys': ['3_1469018140524748801', '3_14...  \n",
       "\n",
       "[419 rows x 10 columns]"
      ]
     },
     "execution_count": 12,
     "metadata": {},
     "output_type": "execute_result"
    }
   ],
   "source": [
    "oly_enposts"
   ]
  },
  {
   "cell_type": "code",
   "execution_count": 13,
   "id": "d5581952",
   "metadata": {},
   "outputs": [],
   "source": [
    "analyser = SentimentIntensityAnalyzer()"
   ]
  },
  {
   "cell_type": "markdown",
   "id": "07fb9cb8",
   "metadata": {},
   "source": [
    "Introducing the sentiment intensity analyzer which will help us to evaluate the words in the posts. "
   ]
  },
  {
   "cell_type": "code",
   "execution_count": 14,
   "id": "7f8485a9",
   "metadata": {},
   "outputs": [
    {
     "name": "stdout",
     "output_type": "stream",
     "text": [
      "{'neg': 0.157, 'neu': 0.66, 'pos': 0.182, 'compound': 0.126}\n"
     ]
    }
   ],
   "source": [
    "print(analyser.polarity_scores(oly_enposts['text'].iloc[3]))"
   ]
  },
  {
   "cell_type": "code",
   "execution_count": 15,
   "id": "6d94b8b7",
   "metadata": {},
   "outputs": [],
   "source": [
    "a_sent = analyser.polarity_scores(oly_enposts['text'].iloc[3])"
   ]
  },
  {
   "cell_type": "code",
   "execution_count": 16,
   "id": "11384293",
   "metadata": {},
   "outputs": [
    {
     "data": {
      "text/plain": [
       "0.182"
      ]
     },
     "execution_count": 16,
     "metadata": {},
     "output_type": "execute_result"
    }
   ],
   "source": [
    "a_sent['pos']"
   ]
  },
  {
   "cell_type": "code",
   "execution_count": 17,
   "id": "ab4ee43d",
   "metadata": {},
   "outputs": [],
   "source": [
    "sentiments = [analyser.polarity_scores(x) for x in oly_enposts['text']]"
   ]
  },
  {
   "cell_type": "code",
   "execution_count": 18,
   "id": "d24d49ff",
   "metadata": {},
   "outputs": [
    {
     "data": {
      "text/plain": [
       "[{'neg': 0.0, 'neu': 1.0, 'pos': 0.0, 'compound': 0.0},\n",
       " {'neg': 0.281, 'neu': 0.719, 'pos': 0.0, 'compound': -0.6239},\n",
       " {'neg': 0.204, 'neu': 0.649, 'pos': 0.147, 'compound': -0.2406},\n",
       " {'neg': 0.157, 'neu': 0.66, 'pos': 0.182, 'compound': 0.126},\n",
       " {'neg': 0.146, 'neu': 0.66, 'pos': 0.193, 'compound': 0.25},\n",
       " {'neg': 0.058, 'neu': 0.765, 'pos': 0.177, 'compound': 0.7494},\n",
       " {'neg': 0.227, 'neu': 0.773, 'pos': 0.0, 'compound': -0.5267},\n",
       " {'neg': 0.255, 'neu': 0.745, 'pos': 0.0, 'compound': -0.7574},\n",
       " {'neg': 0.0, 'neu': 0.867, 'pos': 0.133, 'compound': 0.3182},\n",
       " {'neg': 0.0, 'neu': 1.0, 'pos': 0.0, 'compound': 0.0}]"
      ]
     },
     "execution_count": 18,
     "metadata": {},
     "output_type": "execute_result"
    }
   ],
   "source": [
    "sentiments[0:10]"
   ]
  },
  {
   "cell_type": "markdown",
   "id": "791cfa58",
   "metadata": {},
   "source": [
    "Showing the sentiment scores of the first 10 tweets. "
   ]
  },
  {
   "cell_type": "code",
   "execution_count": 19,
   "id": "220df492",
   "metadata": {},
   "outputs": [],
   "source": [
    "sentiments_df = pd.DataFrame(sentiments)"
   ]
  },
  {
   "cell_type": "markdown",
   "id": "a7272e9f",
   "metadata": {},
   "source": [
    "Putting sentiments collected into a data frame for better visualization. "
   ]
  },
  {
   "cell_type": "code",
   "execution_count": 20,
   "id": "eb1ee5ff",
   "metadata": {},
   "outputs": [
    {
     "data": {
      "text/html": [
       "<div>\n",
       "<style scoped>\n",
       "    .dataframe tbody tr th:only-of-type {\n",
       "        vertical-align: middle;\n",
       "    }\n",
       "\n",
       "    .dataframe tbody tr th {\n",
       "        vertical-align: top;\n",
       "    }\n",
       "\n",
       "    .dataframe thead th {\n",
       "        text-align: right;\n",
       "    }\n",
       "</style>\n",
       "<table border=\"1\" class=\"dataframe\">\n",
       "  <thead>\n",
       "    <tr style=\"text-align: right;\">\n",
       "      <th></th>\n",
       "      <th>neg</th>\n",
       "      <th>neu</th>\n",
       "      <th>pos</th>\n",
       "      <th>compound</th>\n",
       "    </tr>\n",
       "  </thead>\n",
       "  <tbody>\n",
       "    <tr>\n",
       "      <th>0</th>\n",
       "      <td>0.000</td>\n",
       "      <td>1.000</td>\n",
       "      <td>0.000</td>\n",
       "      <td>0.0000</td>\n",
       "    </tr>\n",
       "    <tr>\n",
       "      <th>1</th>\n",
       "      <td>0.281</td>\n",
       "      <td>0.719</td>\n",
       "      <td>0.000</td>\n",
       "      <td>-0.6239</td>\n",
       "    </tr>\n",
       "    <tr>\n",
       "      <th>2</th>\n",
       "      <td>0.204</td>\n",
       "      <td>0.649</td>\n",
       "      <td>0.147</td>\n",
       "      <td>-0.2406</td>\n",
       "    </tr>\n",
       "    <tr>\n",
       "      <th>3</th>\n",
       "      <td>0.157</td>\n",
       "      <td>0.660</td>\n",
       "      <td>0.182</td>\n",
       "      <td>0.1260</td>\n",
       "    </tr>\n",
       "    <tr>\n",
       "      <th>4</th>\n",
       "      <td>0.146</td>\n",
       "      <td>0.660</td>\n",
       "      <td>0.193</td>\n",
       "      <td>0.2500</td>\n",
       "    </tr>\n",
       "  </tbody>\n",
       "</table>\n",
       "</div>"
      ],
      "text/plain": [
       "     neg    neu    pos  compound\n",
       "0  0.000  1.000  0.000    0.0000\n",
       "1  0.281  0.719  0.000   -0.6239\n",
       "2  0.204  0.649  0.147   -0.2406\n",
       "3  0.157  0.660  0.182    0.1260\n",
       "4  0.146  0.660  0.193    0.2500"
      ]
     },
     "execution_count": 20,
     "metadata": {},
     "output_type": "execute_result"
    }
   ],
   "source": [
    "sentiments_df.head()"
   ]
  },
  {
   "cell_type": "code",
   "execution_count": 21,
   "id": "65ab10f3",
   "metadata": {},
   "outputs": [
    {
     "data": {
      "text/plain": [
       "count    419.000000\n",
       "mean       0.127823\n",
       "std        0.128450\n",
       "min        0.000000\n",
       "25%        0.000000\n",
       "50%        0.133000\n",
       "75%        0.165500\n",
       "max        0.571000\n",
       "Name: pos, dtype: float64"
      ]
     },
     "execution_count": 21,
     "metadata": {},
     "output_type": "execute_result"
    }
   ],
   "source": [
    "sentiments_df['pos'].describe()"
   ]
  },
  {
   "cell_type": "markdown",
   "id": "f935cb7d",
   "metadata": {},
   "source": [
    "SHowing stats of the tweets collected"
   ]
  },
  {
   "cell_type": "code",
   "execution_count": 22,
   "id": "73916005",
   "metadata": {},
   "outputs": [
    {
     "data": {
      "text/plain": [
       "count    419.000000\n",
       "mean       0.154847\n",
       "std        0.141418\n",
       "min        0.000000\n",
       "25%        0.000000\n",
       "50%        0.161000\n",
       "75%        0.212000\n",
       "max        0.756000\n",
       "Name: neg, dtype: float64"
      ]
     },
     "execution_count": 22,
     "metadata": {},
     "output_type": "execute_result"
    }
   ],
   "source": [
    "sentiments_df['neg'].describe()"
   ]
  },
  {
   "cell_type": "code",
   "execution_count": 23,
   "id": "85febffa",
   "metadata": {},
   "outputs": [],
   "source": [
    "from matplotlib import pyplot as plt"
   ]
  },
  {
   "cell_type": "code",
   "execution_count": 29,
   "id": "2f5db6bf",
   "metadata": {},
   "outputs": [
    {
     "data": {
      "image/png": "[encoded data removed]",
      "text/plain": [
       "<Figure size 432x288 with 1 Axes>"
      ]
     },
     "metadata": {
      "needs_background": "light"
     },
     "output_type": "display_data"
    }
   ],
   "source": [
    "fig0, ax0 = plt.subplots()\n",
    "ax0.hist(sentiments_df['pos'])\n",
    "ax0.set_title(\"Jeopardy Tweet Scores\")\n",
    "ax0.set_xlabel(\"Positivity Amount\") \n",
    "ax0.set_ylabel(\"Frequencies\")\n",
    "plt.show()"
   ]
  },
  {
   "cell_type": "code",
   "execution_count": 32,
   "id": "d84697dc",
   "metadata": {},
   "outputs": [
    {
     "data": {
      "image/png": "[encoded data removed]",
      "text/plain": [
       "<Figure size 432x288 with 1 Axes>"
      ]
     },
     "metadata": {
      "needs_background": "light"
     },
     "output_type": "display_data"
    }
   ],
   "source": [
    "fig1, ax1 = plt.subplots()\n",
    "ax1.hist(sentiments_df['neg'])\n",
    "ax1.set_title(\"Jeopardy Tweet Scores\") \n",
    "ax1.set_xlabel(\"Negativity Amount\") \n",
    "ax1.set_ylabel(\"Frequencies\") \n",
    "plt.show()"
   ]
  },
  {
   "cell_type": "code",
   "execution_count": 40,
   "id": "4ccfe5ed",
   "metadata": {},
   "outputs": [
    {
     "data": {
      "image/png": "[encoded data removed]",
      "text/plain": [
       "<Figure size 432x288 with 1 Axes>"
      ]
     },
     "metadata": {
      "needs_background": "light"
     },
     "output_type": "display_data"
    }
   ],
   "source": [
    "fig3, ax3 = plt.subplots()\n",
    "ax3.hist(sentiments_df['neu'])\n",
    "ax3.set_title(\"Jeopardy Tweet Scores\") \n",
    "ax3.set_xlabel(\"Neutral Amount\") \n",
    "ax3.set_ylabel(\"Frequencies\") \n",
    "plt.show()\n",
    "plt.show()"
   ]
  },
  {
   "cell_type": "code",
   "execution_count": 41,
   "id": "f8152d9a",
   "metadata": {},
   "outputs": [],
   "source": [
    "oly = pd.read_csv('WOF_data.csv', encoding = 'utf-8')"
   ]
  },
  {
   "cell_type": "code",
   "execution_count": 42,
   "id": "74c49b39",
   "metadata": {},
   "outputs": [
    {
     "data": {
      "text/plain": [
       "Index(['Unnamed: 0', 'possibly_sensitive', 'text', 'author_id', 'lang',\n",
       "       'source', 'public_metrics', 'created_at', 'id', 'attachments'],\n",
       "      dtype='object')"
      ]
     },
     "execution_count": 42,
     "metadata": {},
     "output_type": "execute_result"
    }
   ],
   "source": [
    "oly.keys()"
   ]
  },
  {
   "cell_type": "code",
   "execution_count": 43,
   "id": "2a122985",
   "metadata": {},
   "outputs": [
    {
     "data": {
      "text/html": [
       "<div>\n",
       "<style scoped>\n",
       "    .dataframe tbody tr th:only-of-type {\n",
       "        vertical-align: middle;\n",
       "    }\n",
       "\n",
       "    .dataframe tbody tr th {\n",
       "        vertical-align: top;\n",
       "    }\n",
       "\n",
       "    .dataframe thead th {\n",
       "        text-align: right;\n",
       "    }\n",
       "</style>\n",
       "<table border=\"1\" class=\"dataframe\">\n",
       "  <thead>\n",
       "    <tr style=\"text-align: right;\">\n",
       "      <th></th>\n",
       "      <th>Unnamed: 0</th>\n",
       "      <th>possibly_sensitive</th>\n",
       "      <th>text</th>\n",
       "      <th>author_id</th>\n",
       "      <th>lang</th>\n",
       "      <th>source</th>\n",
       "      <th>public_metrics</th>\n",
       "      <th>created_at</th>\n",
       "      <th>id</th>\n",
       "      <th>attachments</th>\n",
       "    </tr>\n",
       "  </thead>\n",
       "  <tbody>\n",
       "    <tr>\n",
       "      <th>0</th>\n",
       "      <td>0</td>\n",
       "      <td>False</td>\n",
       "      <td>RT @patsajak: A Christmas message to my fellow...</td>\n",
       "      <td>7.406850e+17</td>\n",
       "      <td>en</td>\n",
       "      <td>Twitter for iPhone</td>\n",
       "      <td>{'retweet_count': 1014, 'reply_count': 0, 'lik...</td>\n",
       "      <td>2021-12-09T21:19:18.000Z</td>\n",
       "      <td>1469054067867533317</td>\n",
       "      <td>NaN</td>\n",
       "    </tr>\n",
       "    <tr>\n",
       "      <th>1</th>\n",
       "      <td>1</td>\n",
       "      <td>False</td>\n",
       "      <td>RT @patsajak: A Christmas message to my fellow...</td>\n",
       "      <td>2.752687e+08</td>\n",
       "      <td>en</td>\n",
       "      <td>Twitter for iPhone</td>\n",
       "      <td>{'retweet_count': 1014, 'reply_count': 0, 'lik...</td>\n",
       "      <td>2021-12-09T21:17:37.000Z</td>\n",
       "      <td>1469053646876905475</td>\n",
       "      <td>NaN</td>\n",
       "    </tr>\n",
       "    <tr>\n",
       "      <th>2</th>\n",
       "      <td>2</td>\n",
       "      <td>False</td>\n",
       "      <td>RT @patsajak: A Christmas message to my fellow...</td>\n",
       "      <td>1.409894e+18</td>\n",
       "      <td>en</td>\n",
       "      <td>Twitter for Android</td>\n",
       "      <td>{'retweet_count': 1014, 'reply_count': 0, 'lik...</td>\n",
       "      <td>2021-12-09T21:17:29.000Z</td>\n",
       "      <td>1469053612580028422</td>\n",
       "      <td>NaN</td>\n",
       "    </tr>\n",
       "    <tr>\n",
       "      <th>3</th>\n",
       "      <td>3</td>\n",
       "      <td>False</td>\n",
       "      <td>RT @patsajak: I don’t know which is stranger: ...</td>\n",
       "      <td>1.820274e+08</td>\n",
       "      <td>en</td>\n",
       "      <td>Twitter for Android</td>\n",
       "      <td>{'retweet_count': 281, 'reply_count': 0, 'like...</td>\n",
       "      <td>2021-12-09T21:13:40.000Z</td>\n",
       "      <td>1469052653019832322</td>\n",
       "      <td>NaN</td>\n",
       "    </tr>\n",
       "    <tr>\n",
       "      <th>4</th>\n",
       "      <td>4</td>\n",
       "      <td>False</td>\n",
       "      <td>@patsajak @proudtigerlsu Start by encouraging ...</td>\n",
       "      <td>1.330241e+18</td>\n",
       "      <td>en</td>\n",
       "      <td>Twitter Web App</td>\n",
       "      <td>{'retweet_count': 0, 'reply_count': 0, 'like_c...</td>\n",
       "      <td>2021-12-09T21:11:57.000Z</td>\n",
       "      <td>1469052218737414150</td>\n",
       "      <td>NaN</td>\n",
       "    </tr>\n",
       "  </tbody>\n",
       "</table>\n",
       "</div>"
      ],
      "text/plain": [
       "   Unnamed: 0  possibly_sensitive  \\\n",
       "0           0               False   \n",
       "1           1               False   \n",
       "2           2               False   \n",
       "3           3               False   \n",
       "4           4               False   \n",
       "\n",
       "                                                text     author_id lang  \\\n",
       "0  RT @patsajak: A Christmas message to my fellow...  7.406850e+17   en   \n",
       "1  RT @patsajak: A Christmas message to my fellow...  2.752687e+08   en   \n",
       "2  RT @patsajak: A Christmas message to my fellow...  1.409894e+18   en   \n",
       "3  RT @patsajak: I don’t know which is stranger: ...  1.820274e+08   en   \n",
       "4  @patsajak @proudtigerlsu Start by encouraging ...  1.330241e+18   en   \n",
       "\n",
       "                source                                     public_metrics  \\\n",
       "0   Twitter for iPhone  {'retweet_count': 1014, 'reply_count': 0, 'lik...   \n",
       "1   Twitter for iPhone  {'retweet_count': 1014, 'reply_count': 0, 'lik...   \n",
       "2  Twitter for Android  {'retweet_count': 1014, 'reply_count': 0, 'lik...   \n",
       "3  Twitter for Android  {'retweet_count': 281, 'reply_count': 0, 'like...   \n",
       "4      Twitter Web App  {'retweet_count': 0, 'reply_count': 0, 'like_c...   \n",
       "\n",
       "                 created_at                   id attachments  \n",
       "0  2021-12-09T21:19:18.000Z  1469054067867533317         NaN  \n",
       "1  2021-12-09T21:17:37.000Z  1469053646876905475         NaN  \n",
       "2  2021-12-09T21:17:29.000Z  1469053612580028422         NaN  \n",
       "3  2021-12-09T21:13:40.000Z  1469052653019832322         NaN  \n",
       "4  2021-12-09T21:11:57.000Z  1469052218737414150         NaN  "
      ]
     },
     "execution_count": 43,
     "metadata": {},
     "output_type": "execute_result"
    }
   ],
   "source": [
    "oly.head()"
   ]
  },
  {
   "cell_type": "code",
   "execution_count": 44,
   "id": "89147f77",
   "metadata": {},
   "outputs": [
    {
     "data": {
      "text/plain": [
       "0      en\n",
       "1      en\n",
       "2      en\n",
       "3      en\n",
       "4      en\n",
       "       ..\n",
       "495    en\n",
       "496    en\n",
       "497    en\n",
       "498    en\n",
       "499    en\n",
       "Name: lang, Length: 500, dtype: category\n",
       "Categories (3, object): ['en', 'tr', 'und']"
      ]
     },
     "execution_count": 44,
     "metadata": {},
     "output_type": "execute_result"
    }
   ],
   "source": [
    "oly['lang'].astype('category')"
   ]
  },
  {
   "cell_type": "code",
   "execution_count": 45,
   "id": "119bdcee",
   "metadata": {},
   "outputs": [],
   "source": [
    "oly_enposts = oly[(oly['lang'] == 'en')]"
   ]
  },
  {
   "cell_type": "code",
   "execution_count": 46,
   "id": "869646d4",
   "metadata": {},
   "outputs": [
    {
     "data": {
      "text/plain": [
       "0    RT @patsajak: A Christmas message to my fellow...\n",
       "1    RT @patsajak: A Christmas message to my fellow...\n",
       "2    RT @patsajak: A Christmas message to my fellow...\n",
       "3    RT @patsajak: I don’t know which is stranger: ...\n",
       "4    @patsajak @proudtigerlsu Start by encouraging ...\n",
       "Name: text, dtype: object"
      ]
     },
     "execution_count": 46,
     "metadata": {},
     "output_type": "execute_result"
    }
   ],
   "source": [
    "oly_enposts['text'].head()"
   ]
  },
  {
   "cell_type": "code",
   "execution_count": 47,
   "id": "6f2eec92",
   "metadata": {},
   "outputs": [
    {
     "data": {
      "text/plain": [
       "'RT @patsajak: “Please hold. Your call is important to us. Just not important enough to hire enough operators to answer your call.”'"
      ]
     },
     "execution_count": 47,
     "metadata": {},
     "output_type": "execute_result"
    }
   ],
   "source": [
    "oly_enposts['text'].iloc[6]"
   ]
  },
  {
   "cell_type": "code",
   "execution_count": 48,
   "id": "6c212d83",
   "metadata": {},
   "outputs": [],
   "source": [
    "analyser = SentimentIntensityAnalyzer()"
   ]
  },
  {
   "cell_type": "code",
   "execution_count": 49,
   "id": "3561e7a8",
   "metadata": {},
   "outputs": [
    {
     "name": "stdout",
     "output_type": "stream",
     "text": [
      "{'neg': 0.0, 'neu': 0.913, 'pos': 0.087, 'compound': 0.2716}\n"
     ]
    }
   ],
   "source": [
    "print(analyser.polarity_scores(oly_enposts['text'].iloc[3]))"
   ]
  },
  {
   "cell_type": "code",
   "execution_count": 50,
   "id": "0862e34a",
   "metadata": {},
   "outputs": [
    {
     "data": {
      "text/plain": [
       "'RT @patsajak: A Christmas message to my fellow Californians: If you plan to steal merchandise, please keep it under $950. This way, it’s a…'"
      ]
     },
     "execution_count": 50,
     "metadata": {},
     "output_type": "execute_result"
    }
   ],
   "source": [
    "oly_enposts['text'].iloc[400]"
   ]
  },
  {
   "cell_type": "code",
   "execution_count": 51,
   "id": "0615f4ab",
   "metadata": {},
   "outputs": [],
   "source": [
    "a_sent = analyser.polarity_scores(oly_enposts['text'].iloc[400])"
   ]
  },
  {
   "cell_type": "code",
   "execution_count": 52,
   "id": "eabf1834",
   "metadata": {},
   "outputs": [
    {
     "data": {
      "text/plain": [
       "0.084"
      ]
     },
     "execution_count": 52,
     "metadata": {},
     "output_type": "execute_result"
    }
   ],
   "source": [
    "a_sent['pos']"
   ]
  },
  {
   "cell_type": "code",
   "execution_count": 53,
   "id": "fb2fd1ac",
   "metadata": {},
   "outputs": [],
   "source": [
    "sentiments = [analyser.polarity_scores(x) for x in oly_enposts['text']]"
   ]
  },
  {
   "cell_type": "code",
   "execution_count": 54,
   "id": "f899c4eb",
   "metadata": {},
   "outputs": [],
   "source": [
    "sentiments_df = pd.DataFrame(sentiments)"
   ]
  },
  {
   "cell_type": "code",
   "execution_count": 55,
   "id": "edbd39f6",
   "metadata": {},
   "outputs": [
    {
     "data": {
      "text/html": [
       "<div>\n",
       "<style scoped>\n",
       "    .dataframe tbody tr th:only-of-type {\n",
       "        vertical-align: middle;\n",
       "    }\n",
       "\n",
       "    .dataframe tbody tr th {\n",
       "        vertical-align: top;\n",
       "    }\n",
       "\n",
       "    .dataframe thead th {\n",
       "        text-align: right;\n",
       "    }\n",
       "</style>\n",
       "<table border=\"1\" class=\"dataframe\">\n",
       "  <thead>\n",
       "    <tr style=\"text-align: right;\">\n",
       "      <th></th>\n",
       "      <th>neg</th>\n",
       "      <th>neu</th>\n",
       "      <th>pos</th>\n",
       "      <th>compound</th>\n",
       "    </tr>\n",
       "  </thead>\n",
       "  <tbody>\n",
       "    <tr>\n",
       "      <th>0</th>\n",
       "      <td>0.116</td>\n",
       "      <td>0.800</td>\n",
       "      <td>0.084</td>\n",
       "      <td>-0.2263</td>\n",
       "    </tr>\n",
       "    <tr>\n",
       "      <th>1</th>\n",
       "      <td>0.116</td>\n",
       "      <td>0.800</td>\n",
       "      <td>0.084</td>\n",
       "      <td>-0.2263</td>\n",
       "    </tr>\n",
       "    <tr>\n",
       "      <th>2</th>\n",
       "      <td>0.116</td>\n",
       "      <td>0.800</td>\n",
       "      <td>0.084</td>\n",
       "      <td>-0.2263</td>\n",
       "    </tr>\n",
       "    <tr>\n",
       "      <th>3</th>\n",
       "      <td>0.000</td>\n",
       "      <td>0.913</td>\n",
       "      <td>0.087</td>\n",
       "      <td>0.2716</td>\n",
       "    </tr>\n",
       "    <tr>\n",
       "      <th>4</th>\n",
       "      <td>0.109</td>\n",
       "      <td>0.741</td>\n",
       "      <td>0.150</td>\n",
       "      <td>0.2960</td>\n",
       "    </tr>\n",
       "  </tbody>\n",
       "</table>\n",
       "</div>"
      ],
      "text/plain": [
       "     neg    neu    pos  compound\n",
       "0  0.116  0.800  0.084   -0.2263\n",
       "1  0.116  0.800  0.084   -0.2263\n",
       "2  0.116  0.800  0.084   -0.2263\n",
       "3  0.000  0.913  0.087    0.2716\n",
       "4  0.109  0.741  0.150    0.2960"
      ]
     },
     "execution_count": 55,
     "metadata": {},
     "output_type": "execute_result"
    }
   ],
   "source": [
    "sentiments_df.head()"
   ]
  },
  {
   "cell_type": "code",
   "execution_count": 56,
   "id": "898cedb4",
   "metadata": {},
   "outputs": [
    {
     "data": {
      "text/plain": [
       "count    498.000000\n",
       "mean       0.096492\n",
       "std        0.091340\n",
       "min        0.000000\n",
       "25%        0.077000\n",
       "50%        0.077000\n",
       "75%        0.084000\n",
       "max        0.610000\n",
       "Name: pos, dtype: float64"
      ]
     },
     "execution_count": 56,
     "metadata": {},
     "output_type": "execute_result"
    }
   ],
   "source": [
    "sentiments_df['pos'].describe()"
   ]
  },
  {
   "cell_type": "code",
   "execution_count": 58,
   "id": "bc80888f",
   "metadata": {},
   "outputs": [
    {
     "data": {
      "text/plain": [
       "count    498.000000\n",
       "mean       0.066952\n",
       "std        0.052092\n",
       "min        0.000000\n",
       "25%        0.000000\n",
       "50%        0.068000\n",
       "75%        0.116000\n",
       "max        0.545000\n",
       "Name: neg, dtype: float64"
      ]
     },
     "execution_count": 58,
     "metadata": {},
     "output_type": "execute_result"
    }
   ],
   "source": [
    "sentiments_df['neg'].describe()"
   ]
  },
  {
   "cell_type": "code",
   "execution_count": 59,
   "id": "f5f816f8",
   "metadata": {},
   "outputs": [],
   "source": [
    "from matplotlib import pyplot as plt"
   ]
  },
  {
   "cell_type": "code",
   "execution_count": 61,
   "id": "492f06e6",
   "metadata": {},
   "outputs": [
    {
     "data": {
      "image/png": "[encoded data removed]",
      "text/plain": [
       "<Figure size 432x288 with 1 Axes>"
      ]
     },
     "metadata": {
      "needs_background": "light"
     },
     "output_type": "display_data"
    }
   ],
   "source": [
    "fig0, ax0 = plt.subplots()\n",
    "ax0.hist(sentiments_df['pos'])\n",
    "ax0.set_title(\"Wheel of Fourtune Tweet Scores\") \n",
    "ax0.set_xlabel(\"Positivity Amount\") \n",
    "ax0.set_ylabel(\"Frequencies\") \n",
    "plt.show()"
   ]
  },
  {
   "cell_type": "markdown",
   "id": "0a8700ae",
   "metadata": {},
   "source": [
    "Graph based on the positive sentiment % of the tweets regarding WOF. "
   ]
  },
  {
   "cell_type": "code",
   "execution_count": 62,
   "id": "b4b6ad2d",
   "metadata": {},
   "outputs": [
    {
     "data": {
      "image/png": "[encoded data removed]",
      "text/plain": [
       "<Figure size 432x288 with 1 Axes>"
      ]
     },
     "metadata": {
      "needs_background": "light"
     },
     "output_type": "display_data"
    }
   ],
   "source": [
    "fig1, ax1 = plt.subplots()\n",
    "ax1.hist(sentiments_df['neg'])\n",
    "ax1.set_title(\"Wheel of Fourtune Tweet Scores\") \n",
    "ax1.set_xlabel(\"Negativity Amount\") \n",
    "ax1.set_ylabel(\"Frequencies\")\n",
    "plt.show()"
   ]
  },
  {
   "cell_type": "code",
   "execution_count": 63,
   "id": "2ea37f4e",
   "metadata": {},
   "outputs": [
    {
     "data": {
      "image/png": "[encoded data removed]",
      "text/plain": [
       "<Figure size 432x288 with 1 Axes>"
      ]
     },
     "metadata": {
      "needs_background": "light"
     },
     "output_type": "display_data"
    }
   ],
   "source": [
    "fig3, ax3 = plt.subplots()\n",
    "ax3.hist(sentiments_df['neu'])\n",
    "ax3.set_title(\"Wheel of Fourtune Tweet Scores\") \n",
    "ax3.set_xlabel(\"Neutral Amount\") \n",
    "ax3.set_ylabel(\"Frequencies\")\n",
    "plt.show()"
   ]
  },
  {
   "cell_type": "markdown",
   "id": "6b81c631",
   "metadata": {},
   "source": [
    "### Analysis:"
   ]
  },
  {
   "cell_type": "markdown",
   "id": "87fa6304",
   "metadata": {},
   "source": [
    "The data is organized within data frames. Once I had all 500 tweets about each subject, they are sent to a csv/excel file for easier analysis.  \n",
    "\n",
    "Limitations\n",
    "- Some limitations I've had were attempting to steer clear of a null hypothesis, and ensuring a univariant distribution. \n",
    "\n",
    "Conclusion:\n",
    "- Comparing the positive and negative scores, Jeopardy! had a higher positive mean value of 0.127. WOF had a 0.096 positive mean score. But, Jeopardy! had a much higher negative mean value than WOF at 0.154 while WOF had 0.066. \n",
    "- My conclusion is, there are simply more people on Twitter talking about Jeopardy!. Some people might not tweet until they have felt a certain emotion after watching. I think that Jeopardy! could be the more watched show because there are more tweets regarding it, Or the fanbase of Jeopardy! could use Twitter more than fans of WOF. \n",
    "- Another possibility is, Jeopardy! could me less liked. This is because while there are more unique tweets regarding Jeopardy!, they are more negative 0.27.  \n",
    "- There are multiple ways that I could expand this analysis. For example, I could expand on this analysis by using other social media platforms to get a better sample of data. "
   ]
  }
 ],
 "metadata": {
  "kernelspec": {
   "display_name": "Python 3 (ipykernel)",
   "language": "python",
   "name": "python3"
  },
  "language_info": {
   "codemirror_mode": {
    "name": "ipython",
    "version": 3
   },
   "file_extension": ".py",
   "mimetype": "text/x-python",
   "name": "python",
   "nbconvert_exporter": "python",
   "pygments_lexer": "ipython3",
   "version": "3.9.6"
  }
 },
 "nbformat": 4,
 "nbformat_minor": 5
}
