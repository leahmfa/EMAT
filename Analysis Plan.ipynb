{
 "cells": [
  {
   "cell_type": "markdown",
   "id": "80bf830b",
   "metadata": {},
   "source": [
    "# Analysis Plan: Leah Fitzgerald"
   ]
  },
  {
   "cell_type": "code",
   "execution_count": 1,
   "id": "bb2d2236",
   "metadata": {},
   "outputs": [],
   "source": [
    "import requests\n",
    "import pandas as pd\n",
    "import urllib\n",
    "import json"
   ]
  },
  {
   "cell_type": "code",
   "execution_count": null,
   "id": "39d13cc0",
   "metadata": {},
   "outputs": [],
   "source": [
    "ls"
   ]
  },
  {
   "cell_type": "code",
   "execution_count": 3,
   "id": "9e6021bf",
   "metadata": {},
   "outputs": [],
   "source": [
    "bearer_token = pd.read_csv('bearer_token.txt', header = 0)"
   ]
  },
  {
   "cell_type": "markdown",
   "id": "316453d3",
   "metadata": {},
   "source": [
    "I start by asking it to read my bearer_token text file."
   ]
  },
  {
   "cell_type": "code",
   "execution_count": null,
   "id": "c6135c25",
   "metadata": {},
   "outputs": [],
   "source": [
    "bearer_token['Bearer_token'].iloc[0]"
   ]
  },
  {
   "cell_type": "code",
   "execution_count": 5,
   "id": "308eba77",
   "metadata": {},
   "outputs": [],
   "source": [
    "header = {'Authorization' : 'Bearer {}'.format(bearer_token['Bearer_token'].iloc[0])}"
   ]
  },
  {
   "cell_type": "code",
   "execution_count": 6,
   "id": "0f824e5a",
   "metadata": {},
   "outputs": [],
   "source": [
    "endpoint_url = 'https://api.twitter.com/2/tweets/search/recent'"
   ]
  },
  {
   "cell_type": "code",
   "execution_count": 7,
   "id": "95ce32d7",
   "metadata": {},
   "outputs": [],
   "source": [
    "query = urllib.parse.quote('#Jeopardy OR #KenJennings OR @KenJennings OR @MissMayim OR #MayimBialik OR @Jeopardy lang:en')"
   ]
  },
  {
   "cell_type": "markdown",
   "id": "e6792905",
   "metadata": {},
   "source": [
    "Here I am creating a query to parse the topics and language for my url. "
   ]
  },
  {
   "cell_type": "code",
   "execution_count": 8,
   "id": "2a85541a",
   "metadata": {},
   "outputs": [
    {
     "data": {
      "text/plain": [
       "'%23Jeopardy%20OR%20%23KenJennings%20OR%20%40KenJennings%20OR%20%40MissMayim%20OR%20%23MayimBialik%20OR%20%40Jeopardy%20lang%3Aen'"
      ]
     },
     "execution_count": 8,
     "metadata": {},
     "output_type": "execute_result"
    }
   ],
   "source": [
    "query"
   ]
  },
  {
   "cell_type": "code",
   "execution_count": 9,
   "id": "aab08f18",
   "metadata": {},
   "outputs": [],
   "source": [
    "tweet_fields = 'public_metrics,created_at,lang,possibly_sensitive,attachments,source'"
   ]
  },
  {
   "cell_type": "markdown",
   "id": "1d06c872",
   "metadata": {},
   "source": [
    "I am declaring the tweet fields I would like to see from Twitter."
   ]
  },
  {
   "cell_type": "code",
   "execution_count": 10,
   "id": "71de45c1",
   "metadata": {},
   "outputs": [],
   "source": [
    "my_api_url = endpoint_url + '?query={}&tweet.fields={}'.format(query, tweet_fields)"
   ]
  },
  {
   "cell_type": "markdown",
   "id": "3ba08719",
   "metadata": {},
   "source": [
    "Here I am consolidating my url with the query."
   ]
  },
  {
   "cell_type": "code",
   "execution_count": 11,
   "id": "1921e6c9",
   "metadata": {},
   "outputs": [
    {
     "data": {
      "text/plain": [
       "'https://api.twitter.com/2/tweets/search/recent?query=%23Jeopardy%20OR%20%23KenJennings%20OR%20%40KenJennings%20OR%20%40MissMayim%20OR%20%23MayimBialik%20OR%20%40Jeopardy%20lang%3Aen&tweet.fields=public_metrics,created_at,lang,possibly_sensitive,attachments,source'"
      ]
     },
     "execution_count": 11,
     "metadata": {},
     "output_type": "execute_result"
    }
   ],
   "source": [
    "my_api_url"
   ]
  },
  {
   "cell_type": "code",
   "execution_count": 12,
   "id": "ce3c3b30",
   "metadata": {},
   "outputs": [],
   "source": [
    "expansions = 'author_id'"
   ]
  },
  {
   "cell_type": "markdown",
   "id": "4c6a9ec6",
   "metadata": {},
   "source": [
    "I added author_id as an expansion to get more information."
   ]
  },
  {
   "cell_type": "code",
   "execution_count": 13,
   "id": "ff158998",
   "metadata": {},
   "outputs": [],
   "source": [
    "url = endpoint_url + '?query={}&tweet.fields={}'.format(query, tweet_fields)"
   ]
  },
  {
   "cell_type": "code",
   "execution_count": 14,
   "id": "506487d7",
   "metadata": {},
   "outputs": [],
   "source": [
    "url_expansions = endpoint_url + '?query={}&max_results=100&tweet.fields={}&expansions={}&user.fields={}'.format(query, tweet_fields, expansions, 'username')"
   ]
  },
  {
   "cell_type": "markdown",
   "id": "c1dacc86",
   "metadata": {},
   "source": [
    "Here I am specifying what I would like from the twitter data. Specifically max results of 100 tweets, tweet fields, expansions, and user fields. "
   ]
  },
  {
   "cell_type": "code",
   "execution_count": 15,
   "id": "b924b2f0",
   "metadata": {},
   "outputs": [
    {
     "data": {
      "text/plain": [
       "'https://api.twitter.com/2/tweets/search/recent?query=%23Jeopardy%20OR%20%23KenJennings%20OR%20%40KenJennings%20OR%20%40MissMayim%20OR%20%23MayimBialik%20OR%20%40Jeopardy%20lang%3Aen&max_results=100&tweet.fields=public_metrics,created_at,lang,possibly_sensitive,attachments,source&expansions=author_id&user.fields=username'"
      ]
     },
     "execution_count": 15,
     "metadata": {},
     "output_type": "execute_result"
    }
   ],
   "source": [
    "url_expansions"
   ]
  },
  {
   "cell_type": "code",
   "execution_count": 16,
   "id": "7ba72289",
   "metadata": {},
   "outputs": [],
   "source": [
    "response_1 = requests.request(\"GET\", url_expansions, headers = header)"
   ]
  },
  {
   "cell_type": "markdown",
   "id": "968f6fbb",
   "metadata": {},
   "source": [
    "Here I am asking Twitter to answer my request using \"GET\" with my url. "
   ]
  },
  {
   "cell_type": "code",
   "execution_count": 17,
   "id": "7b3fa5f0",
   "metadata": {},
   "outputs": [
    {
     "data": {
      "text/plain": [
       "'{\"data\":[{\"lang\":\"en\",\"public_metrics\":{\"retweet_count\":0,\"reply_count\":0,\"like_count\":0,\"quote_count\":0},\"id\":\"1467979913923895298\",\"possibly_sensitive\":false,\"text\":\"@glaad @Jeopardamy @emilyvdw @Jeopardy Thanx for the article! My bestie &amp; I watch every day &amp; loudly root for Amy.\",\"author_id\":\"995446130967302144\",\"created_at\":\"2021-12-06T22:10:59.000Z\",\"source\":\"Twitter for iPhone\"},{\"lang\":\"en\",\"public_metrics\":{\"retweet_count\":0,\"reply_count\":0,\"like_count\":0,\"quote_count\":0},\"id\":\"1467979782197592075\",\"possibly_sensitive\":false,\"text\":\"Format: 8-day first round, four profs per day, 8 winners plus highest vote-getter among non-winners advance to semi-finals. Three finalists advance to the finals. #Jeopardy #OUHistJeopardy\",\"author_id\":\"770293085771210752\",\"created_at\":\"2021-12-06T22:10:28.000Z\",\"source\":\"Twitter for iPhone\"},{\"lang\":\"en\",\"public_metrics\":{\"retweet_count\":0,\"reply_count\":0,\"like_count\":0,\"quote_count\":0},\"id\":\"1467979250372431878\",\"possibly_sensitive\":false,\"text\":\"Y\\'all my professor is going to be a contestant on #Jeopardy tonight! So excited to get together and route for her with my cohort-gals!\",\"author_id\":\"2932977243\",\"created_at\":\"2021-12-06T22:08:21.000Z\",\"source\":\"Twitter for iPhone\"},{\"lang\":\"en\",\"public_metrics\":{\"retweet_count\":0,\"reply_count\":1,\"like_count\":0,\"quote_count\":0},\"id\":\"1467978490758811657\",\"possibly_sensitive\":false,\"text\":\"The @Jeopardy Professors Tournament begins today, which got us thinking: which OU History Professor would do best on #Jeopardy? To answer this question we turn to our favorite Twitter tool, the poll! 12 days of voting begins shortly, so get your buzzer fingers ready!\",\"author_id\":\"770293085771210752\",\"created_at\":\"2021-12-06T22:05:20.000Z\",\"source\":\"Twitter for iPhone\"},{\"lang\":\"en\",\"public_metrics\":{\"retweet_count\":0,\"reply_count\":0,\"like_count\":0,\"quote_count\":0},\"id\":\"1467978245861691397\",\"possibly_sensitive\":false,\"text\":\"The lovely @missmayim is back hosting @jeopardy so I\\'m watching.\",\"author_id\":\"355147215\",\"created_at\":\"2021-12-06T22:04:22.000Z\",\"source\":\"Twitter for Android\"},{\"lang\":\"en\",\"public_metrics\":{\"retweet_count\":0,\"reply_count\":0,\"like_count\":0,\"quote_count\":0},\"id\":\"1467977635011731471\",\"possibly_sensitive\":false,\"text\":\"@Jeopardy Mayim, could you jerk your head when speaking just a little more??? #notatallannoying\",\"author_id\":\"395465188\",\"created_at\":\"2021-12-06T22:01:56.000Z\",\"source\":\"Twitter for iPhone\"},{\"lang\":\"en\",\"public_metrics\":{\"retweet_count\":1,\"reply_count\":0,\"like_count\":0,\"quote_count\":0},\"id\":\"1467977528379858949\",\"possibly_sensitive\":false,\"text\":\"RT @xlostasfoundx: I Can\\'t Help But Conclude That People Got To The End, Otherwise We Wouldn\\'t Be Celebrating on @RadioWHATTwit.\\\\n\\\\n@communie…\",\"author_id\":\"283882468\",\"created_at\":\"2021-12-06T22:01:31.000Z\",\"source\":\"Twitter Web App\"},{\"lang\":\"en\",\"public_metrics\":{\"retweet_count\":0,\"reply_count\":0,\"like_count\":0,\"quote_count\":0},\"id\":\"1467977023150862343\",\"possibly_sensitive\":false,\"text\":\"@chris_ellis @e_haah @Jeopardy No problem here, and not admitting anything. Tired of listening to your delusions. He is a man and will always be a man. Sorry to burst your woke bubble.\",\"author_id\":\"22105651\",\"created_at\":\"2021-12-06T21:59:30.000Z\",\"source\":\"Twitter for iPhone\"},{\"lang\":\"en\",\"public_metrics\":{\"retweet_count\":0,\"reply_count\":0,\"like_count\":1,\"quote_count\":0},\"id\":\"1467976831500439554\",\"possibly_sensitive\":false,\"text\":\"Congratulations, @HesterBlum! \\\\uD83D\\\\uDC4F \\\\nThank you for representing @PSULiberalArts on @Jeopardy; you make us proud! https://t.co/wCWT2l1to5\",\"author_id\":\"1147207724461101059\",\"created_at\":\"2021-12-06T21:58:44.000Z\",\"source\":\"Twitter Web App\"},{\"lang\":\"en\",\"public_metrics\":{\"retweet_count\":0,\"reply_count\":1,\"like_count\":0,\"quote_count\":0},\"id\":\"1467976662218379276\",\"possibly_sensitive\":false,\"text\":\"@BrianRFSU @e_haah @Jeopardy Admitting you have the problem is the first step\",\"author_id\":\"17781129\",\"created_at\":\"2021-12-06T21:58:04.000Z\",\"source\":\"Twitter for iPhone\"},{\"lang\":\"en\",\"public_metrics\":{\"retweet_count\":0,\"reply_count\":0,\"like_count\":0,\"quote_count\":0},\"id\":\"1467976462657417216\",\"possibly_sensitive\":false,\"text\":\"Check out JP  Fri Dec 10th. Still tall before during &amp; after #Newsweek  #sf #BayArea #ProfJP #Jeopardy #ProfessorsTournament https://t.co/v892VxreFo\",\"author_id\":\"23288532\",\"created_at\":\"2021-12-06T21:57:17.000Z\",\"source\":\"Twitter Web App\"},{\"lang\":\"en\",\"public_metrics\":{\"retweet_count\":3,\"reply_count\":0,\"like_count\":0,\"quote_count\":0},\"id\":\"1467976030514302979\",\"possibly_sensitive\":false,\"text\":\"RT @glaad: .@Jeopardamy talked to @emilyvdw about her run on @Jeopardy, her trivia history, and more.\\\\n\\\\n#RepresentationMatters \\\\nhttps://t.co…\",\"author_id\":\"16240250\",\"created_at\":\"2021-12-06T21:55:34.000Z\",\"source\":\"Twitter for iPhone\"},{\"lang\":\"en\",\"public_metrics\":{\"retweet_count\":0,\"reply_count\":0,\"like_count\":0,\"quote_count\":0},\"id\":\"1467975996683034624\",\"possibly_sensitive\":false,\"text\":\"@Jeopardy @KenJennings is the best host of all the guest hosts.\",\"author_id\":\"818889072508895232\",\"created_at\":\"2021-12-06T21:55:25.000Z\",\"source\":\"Twitter for iPhone\"},{\"lang\":\"en\",\"public_metrics\":{\"retweet_count\":3,\"reply_count\":0,\"like_count\":0,\"quote_count\":0},\"id\":\"1467975718969696258\",\"possibly_sensitive\":false,\"text\":\"RT @glaad: .@Jeopardamy talked to @emilyvdw about her run on @Jeopardy, her trivia history, and more.\\\\n\\\\n#RepresentationMatters \\\\nhttps://t.co…\",\"author_id\":\"2248408943\",\"created_at\":\"2021-12-06T21:54:19.000Z\",\"source\":\"Twitter for iPhone\"},{\"lang\":\"en\",\"public_metrics\":{\"retweet_count\":3,\"reply_count\":1,\"like_count\":10,\"quote_count\":0},\"id\":\"1467975614208618497\",\"possibly_sensitive\":false,\"text\":\".@Jeopardamy talked to @emilyvdw about her run on @Jeopardy, her trivia history, and more.\\\\n\\\\n#RepresentationMatters \\\\nhttps://t.co/k4FG4wY1Ih\",\"author_id\":\"31583882\",\"created_at\":\"2021-12-06T21:53:54.000Z\",\"source\":\"Twitter Web App\"},{\"lang\":\"en\",\"public_metrics\":{\"retweet_count\":0,\"reply_count\":0,\"like_count\":0,\"quote_count\":0},\"id\":\"1467975329880936463\",\"possibly_sensitive\":false,\"text\":\"@missmayim @BialikBreakdown PLEASE! Take your hands off the sides of the podium. It\\'s not a throne.\",\"author_id\":\"1107705477536907267\",\"created_at\":\"2021-12-06T21:52:46.000Z\",\"source\":\"Twitter for Android\"},{\"lang\":\"en\",\"public_metrics\":{\"retweet_count\":0,\"reply_count\":0,\"like_count\":7,\"quote_count\":0},\"id\":\"1467974915244666883\",\"possibly_sensitive\":false,\"text\":\"We know who we\\'ll be rooting for tonight! \\\\n\\\\nMake sure to watch @Jeopardy to root for #UMichLaw alum @dispositive in the inaugural Professors Tournament! https://t.co/vS8yg5VySt\",\"author_id\":\"40258554\",\"created_at\":\"2021-12-06T21:51:08.000Z\",\"source\":\"Twitter Web App\"},{\"lang\":\"en\",\"public_metrics\":{\"retweet_count\":0,\"reply_count\":0,\"like_count\":0,\"quote_count\":0},\"id\":\"1467974507688194051\",\"possibly_sensitive\":false,\"text\":\"See his comments mentioned in #Newsweek Definitely the tallest Professor in the group.\\\\nThis is Jeopardy! Starts today @jpall is on Fri Dec 10   #ProfJP  #Jeopardy #ProfessorsTournament https://t.co/piytzKxCe0\",\"author_id\":\"23288532\",\"created_at\":\"2021-12-06T21:49:30.000Z\",\"source\":\"Twitter Web App\"},{\"lang\":\"tl\",\"public_metrics\":{\"retweet_count\":0,\"reply_count\":0,\"like_count\":0,\"quote_count\":0},\"id\":\"1467974079017803776\",\"possibly_sensitive\":false,\"text\":\"@chadwhite45 @KenJennings wrongo, boyo.\",\"author_id\":\"956928185278615553\",\"created_at\":\"2021-12-06T21:47:48.000Z\",\"source\":\"Twitter Web App\"},{\"lang\":\"en\",\"public_metrics\":{\"retweet_count\":0,\"reply_count\":1,\"like_count\":0,\"quote_count\":0},\"id\":\"1467973608081350657\",\"possibly_sensitive\":false,\"text\":\"@BrianRFSU @e_haah @Jeopardy Words are real. Sadly so is bigotry.\",\"author_id\":\"17781129\",\"created_at\":\"2021-12-06T21:45:56.000Z\",\"source\":\"Twitter for iPhone\"},{\"lang\":\"en\",\"public_metrics\":{\"retweet_count\":0,\"reply_count\":0,\"like_count\":0,\"quote_count\":0},\"id\":\"1467973517480456193\",\"possibly_sensitive\":false,\"text\":\"Anyone is exploring about \\'Jeopardy\\' at this moment on our website. https://t.co/mATM7l8zVG #Jeopardy\",\"author_id\":\"1432705782223720453\",\"created_at\":\"2021-12-06T21:45:34.000Z\",\"source\":\"Twitter\"},{\"lang\":\"en\",\"public_metrics\":{\"retweet_count\":1,\"reply_count\":0,\"like_count\":0,\"quote_count\":0},\"id\":\"1467973461561724930\",\"possibly_sensitive\":false,\"text\":\"RT @lloydkaufman: @PatriciaKellogg @Jeff__Stoll @moviesharkd @mariaolsen66 @bfrave @BaileeMadison @ChloeGMoretz @DebbieRochon @GwendolynKis…\",\"author_id\":\"1412409567917621249\",\"created_at\":\"2021-12-06T21:45:21.000Z\",\"source\":\"Twitter Web App\"},{\"lang\":\"en\",\"public_metrics\":{\"retweet_count\":0,\"reply_count\":0,\"like_count\":0,\"quote_count\":0},\"id\":\"1467973305491546113\",\"possibly_sensitive\":false,\"text\":\"@yrdsl @KenJennings Look fungi have only been a separate Kingdom since around 1975, the news is still getting around.\",\"author_id\":\"2278435453\",\"created_at\":\"2021-12-06T21:44:44.000Z\",\"source\":\"Twitter for Android\"},{\"lang\":\"en\",\"public_metrics\":{\"retweet_count\":0,\"reply_count\":0,\"like_count\":1,\"quote_count\":0},\"id\":\"1467973133810425859\",\"possibly_sensitive\":false,\"text\":\"I like Mayim Bialik but seeing how much better Miranda Hart did on the show which Mayim copied with \\\\\"Call Me Cat\\\\\" the obvious question is whether Miranda Hart should be hosting #Jeopardy. (It would be hilarious, but not the same show).\",\"author_id\":\"113667788\",\"created_at\":\"2021-12-06T21:44:03.000Z\",\"source\":\"Twitter Web App\"},{\"lang\":\"en\",\"public_metrics\":{\"retweet_count\":0,\"reply_count\":0,\"like_count\":0,\"quote_count\":0},\"id\":\"1467972398515253251\",\"possibly_sensitive\":false,\"text\":\"@KenJennings I\\'ve struggled with so many easier connections but this one just came to me.\",\"author_id\":\"617356158\",\"created_at\":\"2021-12-06T21:41:08.000Z\",\"source\":\"Twitter for Android\"},{\"lang\":\"en\",\"public_metrics\":{\"retweet_count\":3,\"reply_count\":0,\"like_count\":0,\"quote_count\":0},\"id\":\"1467972259029692419\",\"possibly_sensitive\":false,\"text\":\"RT @KenJennings: So crazy to see these sessions in living color after hearing the Nagra bootlegs for so long. Fans will be unpacking this f…\",\"author_id\":\"17058406\",\"created_at\":\"2021-12-06T21:40:34.000Z\",\"source\":\"Twitter for iPhone\"},{\"lang\":\"en\",\"public_metrics\":{\"retweet_count\":3,\"reply_count\":0,\"like_count\":0,\"quote_count\":0},\"id\":\"1467972138095329283\",\"possibly_sensitive\":false,\"text\":\"RT @KenJennings: So crazy to see these sessions in living color after hearing the Nagra bootlegs for so long. Fans will be unpacking this f…\",\"author_id\":\"1428031134856851466\",\"created_at\":\"2021-12-06T21:40:05.000Z\",\"source\":\"Twitter for iPhone\"},{\"lang\":\"en\",\"public_metrics\":{\"retweet_count\":0,\"reply_count\":0,\"like_count\":0,\"quote_count\":0},\"id\":\"1467971757827047428\",\"possibly_sensitive\":false,\"text\":\"@Jeopardy Will be interesting. I\\'d expect profs to do very well in their field, but I suspect many won\\'t come close to a Jeopardy champ like Matt or Amy who show a remarkable amount of knowledge in so many areas.\",\"author_id\":\"113667788\",\"created_at\":\"2021-12-06T21:38:35.000Z\",\"source\":\"Twitter Web App\"},{\"lang\":\"en\",\"public_metrics\":{\"retweet_count\":1,\"reply_count\":0,\"like_count\":0,\"quote_count\":0},\"id\":\"1467971122897510406\",\"possibly_sensitive\":false,\"text\":\"RT @CrueltyFreeUSA: Will you join @missmayim and show your support for the CARE Act? You can help #SendSurvivorsHome by using our quick and…\",\"author_id\":\"1029558745842561024\",\"created_at\":\"2021-12-06T21:36:03.000Z\",\"source\":\"Twitter Web App\"},{\"lang\":\"en\",\"public_metrics\":{\"retweet_count\":0,\"reply_count\":0,\"like_count\":0,\"quote_count\":0},\"id\":\"1467970412504096772\",\"possibly_sensitive\":false,\"text\":\"@Greyson2020 @DMachetto @KenJennings Yeah, the questions were easy but couldn’t get the connection. But I liked the answer.\",\"author_id\":\"17352897\",\"created_at\":\"2021-12-06T21:33:14.000Z\",\"source\":\"Twitter for iPhone\"},{\"lang\":\"en\",\"public_metrics\":{\"retweet_count\":0,\"reply_count\":0,\"like_count\":0,\"quote_count\":0},\"id\":\"1467969862219751429\",\"possibly_sensitive\":false,\"text\":\"@KenJennings Ugh. Space hippies.\",\"author_id\":\"20751846\",\"created_at\":\"2021-12-06T21:31:03.000Z\",\"source\":\"Twitter for Android\"},{\"lang\":\"en\",\"public_metrics\":{\"retweet_count\":9,\"reply_count\":0,\"like_count\":0,\"quote_count\":0},\"id\":\"1467969836005445633\",\"possibly_sensitive\":false,\"text\":\"RT @HesterBlum: I now own Herman Melville’s commode (!!!!, an event this fall even more unexpected than appearing on #Jeopardy! \\\\n\\\\nHere’s ho…\",\"author_id\":\"1250861052\",\"created_at\":\"2021-12-06T21:30:57.000Z\",\"source\":\"Twitter for iPhone\"},{\"lang\":\"en\",\"public_metrics\":{\"retweet_count\":0,\"reply_count\":1,\"like_count\":0,\"quote_count\":0},\"id\":\"1467969158868619267\",\"possibly_sensitive\":false,\"text\":\"Okay, well, here\\'s my @Jeopardy strategy if I ever make, please no one take it. \\\\n\\\\nAll I have to do is get ONE question right. Any question and get positive number on the board. Then don\\'t touch the buzzer. This qualifies me for final jeopardy. Where I wager -1,000,000,000 and\",\"author_id\":\"389198901\",\"created_at\":\"2021-12-06T21:28:15.000Z\",\"source\":\"Twitter Web App\"},{\"lang\":\"en\",\"public_metrics\":{\"retweet_count\":0,\"reply_count\":0,\"like_count\":0,\"quote_count\":0},\"id\":\"1467968499989557248\",\"possibly_sensitive\":false,\"text\":\"@KenJennings Is that MacGruber\\'s dad?\",\"author_id\":\"1075956767207636993\",\"created_at\":\"2021-12-06T21:25:38.000Z\",\"source\":\"Twitter Web App\"},{\"lang\":\"en\",\"public_metrics\":{\"retweet_count\":0,\"reply_count\":0,\"like_count\":0,\"quote_count\":0},\"id\":\"1467968259634962433\",\"possibly_sensitive\":false,\"text\":\"@KenJennings Just heard Peter Jackson got his hands on 80 hours of lost footage from this.\",\"author_id\":\"48334487\",\"created_at\":\"2021-12-06T21:24:41.000Z\",\"source\":\"Twitter for iPhone\"},{\"lang\":\"en\",\"public_metrics\":{\"retweet_count\":0,\"reply_count\":0,\"like_count\":3,\"quote_count\":0},\"id\":\"1467967723728781323\",\"possibly_sensitive\":false,\"text\":\"@KenJennings Bradley Whitford was on Star Trek?!?\",\"author_id\":\"762999875923431424\",\"created_at\":\"2021-12-06T21:22:33.000Z\",\"source\":\"Twitter Web App\"},{\"lang\":\"en\",\"public_metrics\":{\"retweet_count\":0,\"reply_count\":0,\"like_count\":1,\"quote_count\":0},\"id\":\"1467967609517838336\",\"possibly_sensitive\":false,\"text\":\"@Jeopardy Hard pass. Not a fan of Mayim\",\"author_id\":\"1438711868554682371\",\"created_at\":\"2021-12-06T21:22:06.000Z\",\"source\":\"Twitter for iPad\"},{\"lang\":\"en\",\"public_metrics\":{\"retweet_count\":0,\"reply_count\":0,\"like_count\":1,\"quote_count\":0},\"id\":\"1467967420182765571\",\"possibly_sensitive\":false,\"text\":\"@KenJennings Bradley Whitford was in everything!\",\"author_id\":\"194705415\",\"created_at\":\"2021-12-06T21:21:21.000Z\",\"source\":\"Twitter for Android\"},{\"lang\":\"en\",\"public_metrics\":{\"retweet_count\":0,\"reply_count\":0,\"like_count\":0,\"quote_count\":0},\"id\":\"1467967380747870214\",\"possibly_sensitive\":false,\"text\":\"@KenJennings Thought that was Will Forte\",\"author_id\":\"422260980\",\"created_at\":\"2021-12-06T21:21:11.000Z\",\"source\":\"Twitter Web App\"},{\"lang\":\"en\",\"public_metrics\":{\"retweet_count\":0,\"reply_count\":0,\"like_count\":0,\"quote_count\":0},\"id\":\"1467967012399845376\",\"possibly_sensitive\":false,\"text\":\"@KenJennings I reach you brother\",\"author_id\":\"4764661290\",\"created_at\":\"2021-12-06T21:19:43.000Z\",\"source\":\"Twitter for Android\"},{\"lang\":\"en\",\"public_metrics\":{\"retweet_count\":0,\"reply_count\":0,\"like_count\":0,\"quote_count\":0},\"id\":\"1467966661215113217\",\"possibly_sensitive\":false,\"text\":\"@KenJennings Is that where Grimes is from? https://t.co/JNO7YSTSJW\",\"author_id\":\"59712905\",\"attachments\":{\"media_keys\":[\"3_1467966657163403269\"]},\"created_at\":\"2021-12-06T21:18:20.000Z\",\"source\":\"Twitter for iPhone\"},{\"lang\":\"en\",\"public_metrics\":{\"retweet_count\":3,\"reply_count\":0,\"like_count\":0,\"quote_count\":0},\"id\":\"1467966168115863555\",\"possibly_sensitive\":false,\"text\":\"RT @KenJennings: So crazy to see these sessions in living color after hearing the Nagra bootlegs for so long. Fans will be unpacking this f…\",\"author_id\":\"28537484\",\"created_at\":\"2021-12-06T21:16:22.000Z\",\"source\":\"Tweetbot for iΟS\"},{\"lang\":\"en\",\"public_metrics\":{\"retweet_count\":0,\"reply_count\":0,\"like_count\":0,\"quote_count\":0},\"id\":\"1467965960976052224\",\"possibly_sensitive\":false,\"text\":\"@KenJennings Have to say, I was pretty taken aback when I heard the original lyrics to \\\\\"Headin\\' Out to Eden.\\\\\"\",\"author_id\":\"842026116831449089\",\"created_at\":\"2021-12-06T21:15:33.000Z\",\"source\":\"Twitter Web App\"},{\"lang\":\"und\",\"public_metrics\":{\"retweet_count\":0,\"reply_count\":0,\"like_count\":0,\"quote_count\":0},\"id\":\"1467965916251971585\",\"possibly_sensitive\":false,\"text\":\"@KenJennings @ifyoucantwell\",\"author_id\":\"39356082\",\"created_at\":\"2021-12-06T21:15:22.000Z\",\"source\":\"Twitter for iPhone\"},{\"lang\":\"en\",\"public_metrics\":{\"retweet_count\":0,\"reply_count\":0,\"like_count\":0,\"quote_count\":0},\"id\":\"1467965766465118216\",\"possibly_sensitive\":false,\"text\":\"@KenJennings Beautiful Feyd...\\\\n@Sietchposting\",\"author_id\":\"15137408\",\"created_at\":\"2021-12-06T21:14:46.000Z\",\"source\":\"Twitter for Android\"},{\"lang\":\"en\",\"public_metrics\":{\"retweet_count\":0,\"reply_count\":0,\"like_count\":0,\"quote_count\":0},\"id\":\"1467965547556048899\",\"possibly_sensitive\":false,\"text\":\"@KenJennings We reach!\",\"author_id\":\"173674434\",\"created_at\":\"2021-12-06T21:13:54.000Z\",\"source\":\"Twitter Web App\"},{\"lang\":\"und\",\"public_metrics\":{\"retweet_count\":0,\"reply_count\":0,\"like_count\":1,\"quote_count\":0},\"id\":\"1467965425967321097\",\"possibly_sensitive\":false,\"text\":\"@KenJennings https://t.co/LzJeuBJQKu\",\"author_id\":\"1475437591\",\"attachments\":{\"media_keys\":[\"3_1467965423127875585\"]},\"created_at\":\"2021-12-06T21:13:25.000Z\",\"source\":\"Twitter for Android\"},{\"lang\":\"en\",\"public_metrics\":{\"retweet_count\":0,\"reply_count\":0,\"like_count\":0,\"quote_count\":0},\"id\":\"1467965359512821764\",\"possibly_sensitive\":false,\"text\":\"@HesterBlum @dispositive @AlisaHove @KatieReedWrites @DoctorJDub @AshleighWrites @marticanipe @JHarklessPhD @jpall @Jeopardy Gif is \\\\uD83E\\\\uDD0C\\\\uD83C\\\\uDFFD\\\\uD83E\\\\uDD0C\\\\uD83C\\\\uDFFD\\\\uD83E\\\\uDD0C\\\\uD83C\\\\uDFFD\\\\uD83E\\\\uDD0C\\\\uD83C\\\\uDFFD\\\\uD83E\\\\uDD0C\\\\uD83C\\\\uDFFD\",\"author_id\":\"284092553\",\"created_at\":\"2021-12-06T21:13:09.000Z\",\"source\":\"Twitter for iPhone\"},{\"lang\":\"en\",\"public_metrics\":{\"retweet_count\":0,\"reply_count\":0,\"like_count\":0,\"quote_count\":0},\"id\":\"1467964795152486404\",\"possibly_sensitive\":false,\"text\":\"Less than a minute to go in the round! #jeopardy\",\"author_id\":\"806153595297140738\",\"created_at\":\"2021-12-06T21:10:55.000Z\",\"source\":\"AlexTrebot\"},{\"lang\":\"en\",\"public_metrics\":{\"retweet_count\":0,\"reply_count\":0,\"like_count\":0,\"quote_count\":0},\"id\":\"1467964116845441025\",\"possibly_sensitive\":false,\"text\":\"@Jeopardy I agree totally about a ten game cap.\",\"author_id\":\"1002200641874419714\",\"created_at\":\"2021-12-06T21:08:13.000Z\",\"source\":\"Twitter for iPhone\"},{\"lang\":\"en\",\"public_metrics\":{\"retweet_count\":0,\"reply_count\":0,\"like_count\":0,\"quote_count\":0},\"id\":\"1467963391776018432\",\"possibly_sensitive\":false,\"text\":\"@jeopardybrian @UMichLaw @dispositive @Jeopardy Go Blue!\",\"author_id\":\"250345592\",\"created_at\":\"2021-12-06T21:05:20.000Z\",\"source\":\"Twitter for iPhone\"},{\"lang\":\"en\",\"public_metrics\":{\"retweet_count\":0,\"reply_count\":0,\"like_count\":0,\"quote_count\":0},\"id\":\"1467962108335824896\",\"possibly_sensitive\":false,\"text\":\"@Jeopardy I find it unusual that since #jeopardy found so called permanent hosts that not one champion lost after just one day. Is it rigged to get ratings up? Are the past few contestants just that smart? Hmm makes me wonder\",\"author_id\":\"455830031\",\"created_at\":\"2021-12-06T21:00:14.000Z\",\"source\":\"Twitter for Android\"},{\"lang\":\"en\",\"public_metrics\":{\"retweet_count\":0,\"reply_count\":1,\"like_count\":2,\"quote_count\":0},\"id\":\"1467961873299644417\",\"possibly_sensitive\":false,\"text\":\"@Jeopardy Why did you bring Bialyik back? Ken Jennings is so\\\\nmuch better, more personable and a people person. She’s snooty and thinks she’s God’s gift.\",\"author_id\":\"1462485042\",\"created_at\":\"2021-12-06T20:59:18.000Z\",\"source\":\"Twitter for iPad\"},{\"lang\":\"en\",\"public_metrics\":{\"retweet_count\":0,\"reply_count\":0,\"like_count\":0,\"quote_count\":0},\"id\":\"1467960489703579657\",\"possibly_sensitive\":false,\"text\":\"@JoeFelice @KenJennings ^ this\",\"author_id\":\"16025913\",\"created_at\":\"2021-12-06T20:53:48.000Z\",\"source\":\"Twitter Web App\"},{\"lang\":\"en\",\"public_metrics\":{\"retweet_count\":0,\"reply_count\":0,\"like_count\":0,\"quote_count\":0},\"id\":\"1467959816958066691\",\"possibly_sensitive\":false,\"text\":\"#Jeopardy hint \\\\n@AmodioMatt \\\\uD83E\\\\uDD14\\\\n\\\\nWhat does #ElizabethHolmes #Theranos \\\\uD83D\\\\uDD32\\\\uD83D\\\\uDC10\\\\n\\\\nhave in common with @YALE ☠️\\\\n@Stanford \\\\uD83E\\\\uDD89@HooverInst \\\\n@DFJvc \\\\uD83D\\\\uDCB0 @TimDraper  \\\\n\\\\n\\\\uD83D\\\\uDC4E@SCSCourt \\\\uD83D\\\\uDE48\\\\uD83E\\\\uDDD1\\u200d⚖️\\\\uD83D\\\\uDE4A @SantaClaraDA ⚖️ https://t.co/LfP3rD4Hh2\",\"author_id\":\"1531103712\",\"created_at\":\"2021-12-06T20:51:08.000Z\",\"source\":\"Twitter Web App\"},{\"lang\":\"en\",\"public_metrics\":{\"retweet_count\":0,\"reply_count\":0,\"like_count\":2,\"quote_count\":0},\"id\":\"1467956259932426241\",\"possibly_sensitive\":false,\"text\":\"@JArchive @Jeopardy My first three games were taped 9/27, and the following three on 9/28\",\"author_id\":\"17213871\",\"created_at\":\"2021-12-06T20:37:00.000Z\",\"source\":\"Twitter for Android\"},{\"lang\":\"en\",\"public_metrics\":{\"retweet_count\":1,\"reply_count\":0,\"like_count\":0,\"quote_count\":0},\"id\":\"1467955585085624320\",\"possibly_sensitive\":false,\"text\":\"RT @MadeinMenlo: @AmodioMatt Here is a #Jeopardy \\\\nBonus Round @AmodioMatt \\\\n\\\\nWhat do #Theranos #ElizabethHolmes \\\\uD83D\\\\uDD32\\\\uD83D\\\\uDC10\\\\n\\\\nHave in common with @Yal…\",\"author_id\":\"1531103712\",\"created_at\":\"2021-12-06T20:34:19.000Z\",\"source\":\"Twitter Web App\"},{\"lang\":\"en\",\"public_metrics\":{\"retweet_count\":1,\"reply_count\":0,\"like_count\":1,\"quote_count\":0},\"id\":\"1467955476612595715\",\"possibly_sensitive\":false,\"text\":\"@AmodioMatt Here is a #Jeopardy \\\\nBonus Round @AmodioMatt \\\\n\\\\nWhat do #Theranos #ElizabethHolmes \\\\uD83D\\\\uDD32\\\\uD83D\\\\uDC10\\\\n\\\\nHave in common with @Yale ☠️\\\\n\\\\n@Stanford @HooverInst ☠️\\\\uD83E\\\\uDD89\\\\n@StanfordAlumni \\\\uD83D\\\\uDCB0 @TimDraper \\\\n\\\\n+ Get Out of Jail Free Pass \\\\uD83E\\\\uDDD1\\u200d⚖️\\\\uD83D\\\\uDE48\\\\uD83D\\\\uDE49\\\\uD83D\\\\uDE4A\\\\n\\\\n@SECGov \\\\uD83E\\\\uDDD0 @mercnews https://t.co/R0Li9JC8yX\",\"author_id\":\"1531103712\",\"attachments\":{\"media_keys\":[\"16_1467955470472081409\"]},\"created_at\":\"2021-12-06T20:33:53.000Z\",\"source\":\"Twitter Web App\"},{\"lang\":\"en\",\"public_metrics\":{\"retweet_count\":0,\"reply_count\":0,\"like_count\":0,\"quote_count\":0},\"id\":\"1467952217424543750\",\"possibly_sensitive\":false,\"text\":\"@OnwardState @Jeopardy This should be interesting(not)...Can\\'e wait to see the categories.\",\"author_id\":\"308670610\",\"created_at\":\"2021-12-06T20:20:56.000Z\",\"source\":\"Twitter Web App\"},{\"lang\":\"en\",\"public_metrics\":{\"retweet_count\":0,\"reply_count\":0,\"like_count\":0,\"quote_count\":0},\"id\":\"1467952120313700353\",\"possibly_sensitive\":false,\"text\":\"@AmodioMatt WAS ? \\\\n\\\\\"It WAS\\\\\" Fun ?\\\\nWhat you saying @AmodioMatt \\\\nYou lost #JEOPARDY \\\\uD83D\\\\uDCFA\\\\n\\\\nYou like a walking computer man.\\\\nps Dont forget to join ☠️ @YALE\\\\n\\\\nit does wonders for not\\\\ngetting indicted (e.g. #Theranos )\\\\n@Stanford @HooverInst \\\\uD83E\\\\uDD89\\\\uD83D\\\\uDDFC\\\\uD83E\\\\uDDD1\\u200d\\\\uD83C\\\\uDF93☠️\\\\n@StanfordAlumni @TimDraper\",\"author_id\":\"1531103712\",\"created_at\":\"2021-12-06T20:20:33.000Z\",\"source\":\"Twitter Web App\"},{\"lang\":\"en\",\"public_metrics\":{\"retweet_count\":0,\"reply_count\":0,\"like_count\":6,\"quote_count\":1},\"id\":\"1467951008458412042\",\"possibly_sensitive\":false,\"text\":\"\\\\uD83D\\\\uDC40Tune in to watch @HesterBlum, professor of @EnglishatPSU, compete on the first night of @Jeopardy’s Professors Tournament tonight at 7:00 p.m. EST on @ABC23TV! https://t.co/YV88eUPBGd @penn_state #pennstate #liberalarts #faculty #english #jeopardy #professors #tournament https://t.co/tlq4TCjW3Z\",\"author_id\":\"3068696398\",\"attachments\":{\"media_keys\":[\"3_1467951005706895362\",\"3_1467951005966950405\",\"3_1467951005811757057\"]},\"created_at\":\"2021-12-06T20:16:08.000Z\",\"source\":\"Hootsuite Inc.\"},{\"lang\":\"en\",\"public_metrics\":{\"retweet_count\":22,\"reply_count\":0,\"like_count\":0,\"quote_count\":0},\"id\":\"1467950947875786753\",\"possibly_sensitive\":false,\"text\":\"RT @KenJennings: Half of the opinions I’ve ever had in my life are now Beatles opinions from the past week.\",\"author_id\":\"3037084724\",\"created_at\":\"2021-12-06T20:15:53.000Z\",\"source\":\"Twitter Web App\"},{\"lang\":\"en\",\"public_metrics\":{\"retweet_count\":0,\"reply_count\":0,\"like_count\":0,\"quote_count\":0},\"id\":\"1467948679004934145\",\"possibly_sensitive\":false,\"text\":\"@KenJennings Plants?!\",\"author_id\":\"1375802720\",\"created_at\":\"2021-12-06T20:06:52.000Z\",\"source\":\"Twitter for iPhone\"},{\"lang\":\"en\",\"public_metrics\":{\"retweet_count\":3,\"reply_count\":0,\"like_count\":0,\"quote_count\":0},\"id\":\"1467948024139862023\",\"possibly_sensitive\":false,\"text\":\"RT @HesterBlum: Proud to be representing @penn_state in the @Jeopardy! #ProfessorsTournament on Monday. Revealed for the first time in this…\",\"author_id\":\"119376050\",\"created_at\":\"2021-12-06T20:04:16.000Z\",\"source\":\"Twitter Web App\"},{\"lang\":\"en\",\"public_metrics\":{\"retweet_count\":0,\"reply_count\":0,\"like_count\":1,\"quote_count\":0},\"id\":\"1467947826109894662\",\"possibly_sensitive\":false,\"text\":\"@Jeopardy Hard pass on watching the anti-vaxxer who peddles snake oil as host.\\\\nWe\\'ll be back when Ken is back\",\"author_id\":\"4639337714\",\"created_at\":\"2021-12-06T20:03:29.000Z\",\"source\":\"Twitter Web App\"},{\"lang\":\"en\",\"public_metrics\":{\"retweet_count\":0,\"reply_count\":0,\"like_count\":0,\"quote_count\":0},\"id\":\"1467947793331462145\",\"possibly_sensitive\":false,\"text\":\"@KenJennings Rare is it that I get all five questions without Googling and I\\'m also able to get the kennection. So proud of myself right now.\",\"author_id\":\"52311930\",\"created_at\":\"2021-12-06T20:03:21.000Z\",\"source\":\"Twitter for Android\"},{\"lang\":\"en\",\"public_metrics\":{\"retweet_count\":0,\"reply_count\":0,\"like_count\":0,\"quote_count\":0},\"id\":\"1467947441076854794\",\"possibly_sensitive\":false,\"text\":\"@KenJennings Love this game, do you plan on doing an expansion deck at any point?\",\"author_id\":\"1865671568\",\"created_at\":\"2021-12-06T20:01:57.000Z\",\"source\":\"Twitter Web App\"},{\"lang\":\"en\",\"public_metrics\":{\"retweet_count\":1,\"reply_count\":0,\"like_count\":0,\"quote_count\":0},\"id\":\"1467947381958266884\",\"possibly_sensitive\":false,\"text\":\"RT @hschhaya: This “Words in elements” category in last week’s #Jeopardy was a perfect mix of word-play and science \\\\uD83E\\\\uDDEA \\\\n\\\\nBr: this possessive…\",\"author_id\":\"787380362825633792\",\"created_at\":\"2021-12-06T20:01:43.000Z\",\"source\":\"30daysofcodeBot\"},{\"lang\":\"en\",\"public_metrics\":{\"retweet_count\":12,\"reply_count\":0,\"like_count\":0,\"quote_count\":0},\"id\":\"1467945188056203264\",\"possibly_sensitive\":false,\"text\":\"RT @Jeopardy: Our first-ever #ProfessorsTournament starts TODAY! Who’s ready?! https://t.co/B9ge3wec6p\",\"author_id\":\"903735475155869696\",\"attachments\":{\"media_keys\":[\"13_1467772924123779076\"]},\"created_at\":\"2021-12-06T19:53:00.000Z\",\"source\":\"Twitter for iPhone\"},{\"lang\":\"en\",\"public_metrics\":{\"retweet_count\":283,\"reply_count\":0,\"like_count\":0,\"quote_count\":0},\"id\":\"1467944353758789635\",\"possibly_sensitive\":false,\"text\":\"RT @bieberfever: . @justinbieber was in the @amas category on @jeopardy ✨ don’t miss the AMAs this Sunday at 8/7c on abc\\\\uD83D\\\\uDC9C https://t.co/zmSj…\",\"author_id\":\"1228468710723051523\",\"created_at\":\"2021-12-06T19:49:41.000Z\",\"source\":\"Twitter for iPhone\"},{\"lang\":\"en\",\"public_metrics\":{\"retweet_count\":5,\"reply_count\":0,\"like_count\":0,\"quote_count\":0},\"id\":\"1467944177556234242\",\"possibly_sensitive\":false,\"text\":\"RT @VanderbiltU: Reminder! Tune in on Dec. 6 as @VanderbiltLaw professor and long-time @Jeopardy fan Gautam Hans competes in the show’s ina…\",\"author_id\":\"487776157\",\"created_at\":\"2021-12-06T19:48:59.000Z\",\"source\":\"Twitter for Android\"},{\"lang\":\"en\",\"public_metrics\":{\"retweet_count\":0,\"reply_count\":1,\"like_count\":1,\"quote_count\":0},\"id\":\"1467943304436150275\",\"possibly_sensitive\":false,\"text\":\"@KenJennings I came here to say the same thing that everyone else came here to say, so I\\'m not going to say it. I\\'m just going to think it, and you\\'ll know I\\'m thinking it.\",\"author_id\":\"28060124\",\"created_at\":\"2021-12-06T19:45:31.000Z\",\"source\":\"Twitter Web App\"},{\"lang\":\"en\",\"public_metrics\":{\"retweet_count\":0,\"reply_count\":0,\"like_count\":0,\"quote_count\":0},\"id\":\"1467943173297115137\",\"possibly_sensitive\":false,\"text\":\".@Jeopardy is coming up NEXT #LiveonKTVO #ABC at 2pm!\",\"author_id\":\"20605323\",\"created_at\":\"2021-12-06T19:45:00.000Z\",\"source\":\"TweetDeck\"},{\"lang\":\"und\",\"public_metrics\":{\"retweet_count\":0,\"reply_count\":0,\"like_count\":0,\"quote_count\":0},\"id\":\"1467942850721554434\",\"possibly_sensitive\":false,\"text\":\"@KenJennings https://t.co/0OzvQ8oIOc\",\"author_id\":\"29251511\",\"attachments\":{\"media_keys\":[\"3_1467942843528343554\"]},\"created_at\":\"2021-12-06T19:43:43.000Z\",\"source\":\"Twitter Web App\"},{\"lang\":\"en\",\"public_metrics\":{\"retweet_count\":0,\"reply_count\":0,\"like_count\":0,\"quote_count\":0},\"id\":\"1467940701455405061\",\"possibly_sensitive\":false,\"text\":\"@Jeopardy Our whole family is so looking forward to this. Not to take anything away from Amy, but the show has become seriously boring. It definitely seems to be all about the money. It will take more risks than the others are willing to take.\",\"author_id\":\"274195693\",\"created_at\":\"2021-12-06T19:35:10.000Z\",\"source\":\"Twitter for iPhone\"},{\"lang\":\"en\",\"public_metrics\":{\"retweet_count\":0,\"reply_count\":1,\"like_count\":1,\"quote_count\":0},\"id\":\"1467940067326918660\",\"possibly_sensitive\":false,\"text\":\"@DMachetto @KenJennings Ha - I won\\'t spend too much more time then... got the questions quick but definitely struggling on the connection.\",\"author_id\":\"497333593\",\"created_at\":\"2021-12-06T19:32:39.000Z\",\"source\":\"Twitter Web App\"},{\"lang\":\"en\",\"public_metrics\":{\"retweet_count\":0,\"reply_count\":0,\"like_count\":2,\"quote_count\":0},\"id\":\"1467940049631080451\",\"possibly_sensitive\":false,\"text\":\"@KenJennings Ah yes, the famous plant \\\\\"fungi.\\\\\" https://t.co/7xlBvHiyGd\",\"author_id\":\"1245558128541745152\",\"attachments\":{\"media_keys\":[\"3_1467939887244464129\"]},\"created_at\":\"2021-12-06T19:32:35.000Z\",\"source\":\"Twitter Web App\"},{\"lang\":\"en\",\"public_metrics\":{\"retweet_count\":0,\"reply_count\":0,\"like_count\":1,\"quote_count\":0},\"id\":\"1467939977870946318\",\"possibly_sensitive\":false,\"text\":\"@KenJennings \\\\\"Spill The Wine\\\\\" is in my head now.\\\\n\\\\n -&gt; the use of long in \\\\\"The North American longneck\\\\\" + garden gnomes need to avoid \\\\\"skunking\\\\\"\\\\n\\\\n= \\\\\"an overfed long haired leaping gnome\\\\\"\",\"author_id\":\"20496890\",\"created_at\":\"2021-12-06T19:32:18.000Z\",\"source\":\"Twitter for Android\"},{\"lang\":\"en\",\"public_metrics\":{\"retweet_count\":0,\"reply_count\":0,\"like_count\":0,\"quote_count\":0},\"id\":\"1467939152746496007\",\"possibly_sensitive\":false,\"text\":\"@KenJennings me screaming “you can’t make me leave!” at security while shirtless. easy one.\",\"author_id\":\"846459814507167744\",\"created_at\":\"2021-12-06T19:29:01.000Z\",\"source\":\"Twitter Web App\"},{\"lang\":\"en\",\"public_metrics\":{\"retweet_count\":0,\"reply_count\":0,\"like_count\":0,\"quote_count\":0},\"id\":\"1467938743260700672\",\"possibly_sensitive\":false,\"text\":\"Is Reality a Controlled Hallucination? with @AnilKSeth https://t.co/rkg32OEVUS #TheMatrix #TheMatrixResurrections #Matrix #WhatIsTheMatrix @BernardoKastrup @sbkaufman @michaelshermer @missmayim @ArmchairExpPod @samhaselby @brainpicker @openculture @kristatippett @Neuro_Skeptic\",\"author_id\":\"2649357284\",\"created_at\":\"2021-12-06T19:27:24.000Z\",\"source\":\"Twitter Web App\"},{\"lang\":\"en\",\"public_metrics\":{\"retweet_count\":0,\"reply_count\":0,\"like_count\":4,\"quote_count\":0},\"id\":\"1467938517754032136\",\"possibly_sensitive\":false,\"text\":\"@KenJennings Hey Ken can you do one about tacos?\",\"author_id\":\"31319925\",\"created_at\":\"2021-12-06T19:26:30.000Z\",\"source\":\"Twitter for Android\"},{\"lang\":\"en\",\"public_metrics\":{\"retweet_count\":0,\"reply_count\":0,\"like_count\":6,\"quote_count\":0},\"id\":\"1467937973337530371\",\"possibly_sensitive\":false,\"text\":\"@KenJennings Plants?\",\"author_id\":\"2658603474\",\"created_at\":\"2021-12-06T19:24:20.000Z\",\"source\":\"Twitter for Android\"},{\"lang\":\"en\",\"public_metrics\":{\"retweet_count\":0,\"reply_count\":1,\"like_count\":2,\"quote_count\":0},\"id\":\"1467937861710139393\",\"possibly_sensitive\":false,\"text\":\"@KenJennings number 4 is going to bury you under a pile of \\\\\"um...actually\\\\\"\",\"author_id\":\"29251511\",\"created_at\":\"2021-12-06T19:23:53.000Z\",\"source\":\"Twitter Web App\"},{\"lang\":\"en\",\"public_metrics\":{\"retweet_count\":0,\"reply_count\":0,\"like_count\":2,\"quote_count\":0},\"id\":\"1467937836850503683\",\"possibly_sensitive\":false,\"text\":\"@KenJennings A challenging final connection this week.\",\"author_id\":\"587894356\",\"created_at\":\"2021-12-06T19:23:47.000Z\",\"source\":\"Twitter Web App\"},{\"lang\":\"en\",\"public_metrics\":{\"retweet_count\":0,\"reply_count\":0,\"like_count\":6,\"quote_count\":0},\"id\":\"1467937802885246992\",\"possibly_sensitive\":false,\"text\":\"@KenJennings Mushrooms aren\\'t plants\",\"author_id\":\"354552882\",\"created_at\":\"2021-12-06T19:23:39.000Z\",\"source\":\"Twitter for iPhone\"},{\"lang\":\"en\",\"public_metrics\":{\"retweet_count\":0,\"reply_count\":1,\"like_count\":7,\"quote_count\":0},\"id\":\"1467937698770046978\",\"possibly_sensitive\":false,\"text\":\"@KenJennings I could have stared at those five hints for a year and never made that connection\",\"author_id\":\"791319242763300864\",\"created_at\":\"2021-12-06T19:23:15.000Z\",\"source\":\"Twitter for iPhone\"},{\"lang\":\"en\",\"public_metrics\":{\"retweet_count\":0,\"reply_count\":1,\"like_count\":10,\"quote_count\":0},\"id\":\"1467937543559663617\",\"possibly_sensitive\":false,\"text\":\"@KenJennings Since when are Psilocybe species \\\\\"plants\\\\\"?\",\"author_id\":\"1001139383565733888\",\"created_at\":\"2021-12-06T19:22:38.000Z\",\"source\":\"Twitter Web App\"},{\"lang\":\"en\",\"public_metrics\":{\"retweet_count\":0,\"reply_count\":0,\"like_count\":7,\"quote_count\":0},\"id\":\"1467937274780344321\",\"possibly_sensitive\":false,\"text\":\"@KenJennings You\\'re SURE those are plants?\",\"author_id\":\"259445593\",\"created_at\":\"2021-12-06T19:21:33.000Z\",\"source\":\"Twitter Web App\"},{\"lang\":\"en\",\"public_metrics\":{\"retweet_count\":0,\"reply_count\":1,\"like_count\":6,\"quote_count\":0},\"id\":\"1467937209382756367\",\"possibly_sensitive\":false,\"text\":\"@KenJennings #4, really?\",\"author_id\":\"259445593\",\"created_at\":\"2021-12-06T19:21:18.000Z\",\"source\":\"Twitter Web App\"},{\"lang\":\"en\",\"public_metrics\":{\"retweet_count\":0,\"reply_count\":0,\"like_count\":0,\"quote_count\":0},\"id\":\"1467936938774650888\",\"possibly_sensitive\":false,\"text\":\"@KenJennings Woo! Can\\'t remember the last time I got six of six!\",\"author_id\":\"14769934\",\"created_at\":\"2021-12-06T19:20:13.000Z\",\"source\":\"Twitter for Android\"},{\"lang\":\"en\",\"public_metrics\":{\"retweet_count\":1,\"reply_count\":0,\"like_count\":0,\"quote_count\":0},\"id\":\"1467936474746269697\",\"possibly_sensitive\":false,\"text\":\"RT @KenJennings: What do BTS, pool parties, and psychedelic plants have in common?  But enough about my private life, here\\'s the new \\\\\"Kenne…\",\"author_id\":\"3013783605\",\"created_at\":\"2021-12-06T19:18:23.000Z\",\"source\":\"Twitter for iPhone\"},{\"lang\":\"en\",\"public_metrics\":{\"retweet_count\":12,\"reply_count\":0,\"like_count\":0,\"quote_count\":0},\"id\":\"1467936119534850062\",\"possibly_sensitive\":false,\"text\":\"RT @Jeopardy: Our first-ever #ProfessorsTournament starts TODAY! Who’s ready?! https://t.co/B9ge3wec6p\",\"author_id\":\"791754195103776768\",\"attachments\":{\"media_keys\":[\"13_1467772924123779076\"]},\"created_at\":\"2021-12-06T19:16:58.000Z\",\"source\":\"Twitter for Android\"},{\"lang\":\"en\",\"public_metrics\":{\"retweet_count\":0,\"reply_count\":0,\"like_count\":1,\"quote_count\":0},\"id\":\"1467935941985718282\",\"possibly_sensitive\":false,\"text\":\"@Jeopardy So looking forward to Mayim tonight I have missed her hosting style on the show.\",\"author_id\":\"1458217582251626499\",\"created_at\":\"2021-12-06T19:16:16.000Z\",\"source\":\"Twitter for Android\"},{\"lang\":\"en\",\"public_metrics\":{\"retweet_count\":0,\"reply_count\":0,\"like_count\":2,\"quote_count\":0},\"id\":\"1467935061123211265\",\"possibly_sensitive\":false,\"text\":\"@Jeopardy My personal opinion: they should have made it only open to non-tenure track faculty. The teachers tournament is fun, in let, because teachers are underpaid. Tenured profs are pulling in 6 figures.\",\"author_id\":\"1360022531793641472\",\"created_at\":\"2021-12-06T19:12:46.000Z\",\"source\":\"Twitter for iPhone\"},{\"lang\":\"en\",\"public_metrics\":{\"retweet_count\":3,\"reply_count\":0,\"like_count\":0,\"quote_count\":0},\"id\":\"1467934623934164992\",\"possibly_sensitive\":false,\"text\":\"RT @decider: Mayim Bialik will host February\\'s #Jeopardy! National College Championship https://t.co/6pDtBXXd6X https://t.co/NS35ALOhvB\",\"author_id\":\"1233242900533784578\",\"attachments\":{\"media_keys\":[\"3_1466476381412503563\"]},\"created_at\":\"2021-12-06T19:11:01.000Z\",\"source\":\"Twitter for iPhone\"},{\"lang\":\"en\",\"public_metrics\":{\"retweet_count\":0,\"reply_count\":0,\"like_count\":0,\"quote_count\":0},\"id\":\"1467934538798182402\",\"possibly_sensitive\":false,\"text\":\"@Jeopardy Inner Space???\",\"author_id\":\"49968472\",\"created_at\":\"2021-12-06T19:10:41.000Z\",\"source\":\"Twitter for Android\"},{\"lang\":\"en\",\"public_metrics\":{\"retweet_count\":12,\"reply_count\":0,\"like_count\":0,\"quote_count\":0},\"id\":\"1467931165239627782\",\"possibly_sensitive\":false,\"text\":\"RT @Jeopardy: Our first-ever #ProfessorsTournament starts TODAY! Who’s ready?! https://t.co/B9ge3wec6p\",\"author_id\":\"298128332\",\"attachments\":{\"media_keys\":[\"13_1467772924123779076\"]},\"created_at\":\"2021-12-06T18:57:17.000Z\",\"source\":\"Twitter for iPad\"},{\"lang\":\"en\",\"public_metrics\":{\"retweet_count\":5,\"reply_count\":0,\"like_count\":0,\"quote_count\":0},\"id\":\"1467930253788024834\",\"possibly_sensitive\":false,\"text\":\"RT @VanderbiltU: Reminder! Tune in on Dec. 6 as @VanderbiltLaw professor and long-time @Jeopardy fan Gautam Hans competes in the show’s ina…\",\"author_id\":\"545560901\",\"created_at\":\"2021-12-06T18:53:39.000Z\",\"source\":\"Twitter Web App\"},{\"lang\":\"en\",\"public_metrics\":{\"retweet_count\":16,\"reply_count\":0,\"like_count\":0,\"quote_count\":0},\"id\":\"1467930193889222656\",\"possibly_sensitive\":false,\"text\":\"RT @TrevorProject: \\\\\"Although she\\'s been a fan of the quiz show for years, Schneider, who works as an engineering manager in California, sti…\",\"author_id\":\"773931769359962112\",\"created_at\":\"2021-12-06T18:53:25.000Z\",\"source\":\"Twitter Web App\"},{\"lang\":\"en\",\"public_metrics\":{\"retweet_count\":0,\"reply_count\":0,\"like_count\":0,\"quote_count\":0},\"id\":\"1467929873943609345\",\"possibly_sensitive\":false,\"text\":\"@Jeopardy So looking forward to this!\",\"author_id\":\"1016007497340112897\",\"created_at\":\"2021-12-06T18:52:09.000Z\",\"source\":\"Twitter for iPhone\"}],\"includes\":{\"users\":[{\"id\":\"995446130967302144\",\"name\":\"Kathy Strickland\",\"username\":\"_katstrickland\"},{\"id\":\"770293085771210752\",\"name\":\"OU History\",\"username\":\"OUHistDept\"},{\"id\":\"2932977243\",\"name\":\"C. Wong \\\\uD83C\\\\uDDEC\\\\uD83C\\\\uDDFE\",\"username\":\"DearBroMalcolm\"},{\"id\":\"355147215\",\"name\":\"Mike Sorn\",\"username\":\"nrosekim\"},{\"id\":\"395465188\",\"name\":\"AKA USAF, Retired/George Lennon \\\\uD83C\\\\uDFB6\\\\uD83C\\\\uDFB5\",\"username\":\"Bamafootball52\"},{\"id\":\"283882468\",\"name\":\"Radio WHAT\",\"username\":\"RadioWHATTwit\"},{\"id\":\"22105651\",\"name\":\"Gotta Protect myself from Libs\",\"username\":\"BrianRFSU\"},{\"id\":\"1147207724461101059\",\"name\":\"Clarence Lang\",\"username\":\"DeanLangPSU\"},{\"id\":\"17781129\",\"name\":\"Dreaming of a Tropical Island \\\\uD83C\\\\uDFDD\",\"username\":\"chris_ellis\"},{\"id\":\"23288532\",\"name\":\"i.Sharon.A\",\"username\":\"boomer813\"},{\"id\":\"16240250\",\"name\":\"Big Mo\",\"username\":\"morgansherm_\"},{\"id\":\"818889072508895232\",\"name\":\"Hurxthal Vanduzen\",\"username\":\"MendacityMPHS\"},{\"id\":\"2248408943\",\"name\":\"Danielle-Nicola Tremblay \\\\uD83C\\\\uDFF3️\\u200d⚧️\",\"username\":\"dani_nicola22\"},{\"id\":\"31583882\",\"name\":\"GLAAD\",\"username\":\"glaad\"},{\"id\":\"1107705477536907267\",\"name\":\"Maryliz\",\"username\":\"Maryliz40414165\"},{\"id\":\"40258554\",\"name\":\"Michigan Law School\",\"username\":\"UMichLaw\"},{\"id\":\"956928185278615553\",\"name\":\"james ferrigno\",\"username\":\"ChaziBadfinger\"},{\"id\":\"1432705782223720453\",\"name\":\"WordCloud\",\"username\":\"WordCloud5\"},{\"id\":\"1412409567917621249\",\"name\":\"\\\\uD835\\\\uDC13\\\\uD835\\\\uDC2B\\\\uD835\\\\uDC28\\\\uD835\\\\uDC26\\\\uD835\\\\uDC1A \\\\uD835\\\\uDC0D\\\\uD835\\\\uDC0E\\\\uD835\\\\uDC16!\",\"username\":\"TromaNOWApp\"},{\"id\":\"2278435453\",\"name\":\"Ivy Mike Eats\",\"username\":\"IvyMikeEats\"},{\"id\":\"113667788\",\"name\":\"Ron Chusid\",\"username\":\"RonChusid\"},{\"id\":\"617356158\",\"name\":\"The Reptile Brain\",\"username\":\"TheReptileBrain\"},{\"id\":\"17058406\",\"name\":\"sturdy cheese bearing cracker\",\"username\":\"anHedonismBot\"},{\"id\":\"1428031134856851466\",\"name\":\"fav53.eth\",\"username\":\"fav53_eth\"},{\"id\":\"1029558745842561024\",\"name\":\"annah\",\"username\":\"annah27619626\"},{\"id\":\"17352897\",\"name\":\"Maureen Lyons\",\"username\":\"brittiowa\"},{\"id\":\"20751846\",\"name\":\"Gm⓪ney\",\"username\":\"gm0ney\"},{\"id\":\"1250861052\",\"name\":\"Dr Hannah Murray is on ASOS #OneOfUsAllOfUs\",\"username\":\"hl_murray\"},{\"id\":\"389198901\",\"name\":\"Ready Set Greg\",\"username\":\"gregkash\"},{\"id\":\"1075956767207636993\",\"name\":\"Hobopower \\uea00\",\"username\":\"Hobopower3\"},{\"id\":\"48334487\",\"name\":\"Maxx\",\"username\":\"_TheMaxx_\"},{\"id\":\"762999875923431424\",\"name\":\"Charles Van Thune\",\"username\":\"CharlesVanThune\"},{\"id\":\"1438711868554682371\",\"name\":\"Joanne Shacz\",\"username\":\"JoanneShacz\"},{\"id\":\"194705415\",\"name\":\"Jim Olski\",\"username\":\"OlskiJim\"},{\"id\":\"422260980\",\"name\":\"Rollo Dimes\",\"username\":\"RolloDimes\"},{\"id\":\"4764661290\",\"name\":\"T\\'Pau\",\"username\":\"CipherEtAlia\"},{\"id\":\"59712905\",\"name\":\"Mark Ryan\",\"username\":\"Mark_J_Ryan\"},{\"id\":\"28537484\",\"name\":\"oh.\",\"username\":\"the_obald\"},{\"id\":\"842026116831449089\",\"name\":\"R. L. Peterson\",\"username\":\"CaptainSterno\"},{\"id\":\"39356082\",\"name\":\"Erik Gordon\",\"username\":\"FlashGordon12\"},{\"id\":\"15137408\",\"name\":\"Ruth Arnell\",\"username\":\"behnnie\"},{\"id\":\"173674434\",\"name\":\"Bob Bethard\",\"username\":\"BobBethard\"},{\"id\":\"1475437591\",\"name\":\"Michael Early\",\"username\":\"avs5221\"},{\"id\":\"284092553\",\"name\":\"Ryan 鄺\",\"username\":\"deephomework\"},{\"id\":\"806153595297140738\",\"name\":\"Alex Trebot\",\"username\":\"AlexTrebot\"},{\"id\":\"1002200641874419714\",\"name\":\"Pop\",\"username\":\"Pop65163714\"},{\"id\":\"250345592\",\"name\":\"\\\\uD83D\\\\uDC69\\\\uD83C\\\\uDFFB\\u200d\\\\uD83E\\\\uDDB0\",\"username\":\"RedHeadedScot\"},{\"id\":\"455830031\",\"name\":\"Gramof11\",\"username\":\"Hoveljo\"},{\"id\":\"1462485042\",\"name\":\"Carolee Arlund\",\"username\":\"cja1952\"},{\"id\":\"16025913\",\"name\":\"Handsome Young Brother\",\"username\":\"mathochist\"},{\"id\":\"1531103712\",\"name\":\"Made in Menlo\",\"username\":\"MadeinMenlo\"},{\"id\":\"17213871\",\"name\":\"Andrew He\",\"username\":\"gg_andrewhe\"},{\"id\":\"308670610\",\"name\":\"JDP\",\"username\":\"d_pizza\"},{\"id\":\"3068696398\",\"name\":\"Penn State Liberal Arts\",\"username\":\"PSULiberalArts\"},{\"id\":\"3037084724\",\"name\":\"Kaylene Chieko Hironaka\",\"username\":\"wybme\"},{\"id\":\"1375802720\",\"name\":\"David Ficus \\\\uD83D\\\\uDC08\",\"username\":\"theautoficus\"},{\"id\":\"119376050\",\"name\":\"Penn State\",\"username\":\"penn_state\"},{\"id\":\"4639337714\",\"name\":\"WSPage\",\"username\":\"WsPagewerks\"},{\"id\":\"52311930\",\"name\":\"Marc Carvalho\",\"username\":\"iggyfan2001\"},{\"id\":\"1865671568\",\"name\":\"Nougat\",\"username\":\"nougat_cat\"},{\"id\":\"787380362825633792\",\"name\":\"30 Days of Code\",\"username\":\"30daysofcode\"},{\"id\":\"903735475155869696\",\"name\":\"ewolf411sped\",\"username\":\"ewolf411sped\"},{\"id\":\"1228468710723051523\",\"name\":\"kidrauhlgirl \\\\uD83D\\\\uDC9C\\\\uD83D\\\\uDC9A 15/1/2007\",\"username\":\"kidrauhlgirl\"},{\"id\":\"487776157\",\"name\":\"Vandy62⚓⬇\",\"username\":\"vandy_62\"},{\"id\":\"28060124\",\"name\":\"Joe Felice\",\"username\":\"JoeFelice\"},{\"id\":\"20605323\",\"name\":\"KTVO Television\",\"username\":\"KTVOTV\"},{\"id\":\"29251511\",\"name\":\"鶴\",\"username\":\"aberrantgeek\"},{\"id\":\"274195693\",\"name\":\"Diana Glasier\",\"username\":\"casaybelle\"},{\"id\":\"497333593\",\"name\":\"Greyson Ruback\",\"username\":\"Greyson2020\"},{\"id\":\"1245558128541745152\",\"name\":\"Chris\",\"username\":\"JazzHandMeDowns\"},{\"id\":\"20496890\",\"name\":\"DJ AHa\",\"username\":\"DJAHa\"},{\"id\":\"846459814507167744\",\"name\":\"Mr. Fungi \\\\uD83D\\\\uDE82\",\"username\":\"Mister_Fun_Guy\"},{\"id\":\"2649357284\",\"name\":\"Daniel Buk\",\"username\":\"DanBuk4\"},{\"id\":\"31319925\",\"name\":\"Matt Bosty & Co\",\"username\":\"MattBosty\"},{\"id\":\"2658603474\",\"name\":\"Simplicio\",\"username\":\"simplicio823\"},{\"id\":\"587894356\",\"name\":\"Burt Likko\",\"username\":\"burtlikko\"},{\"id\":\"354552882\",\"name\":\"Jon “Meta” Webb\",\"username\":\"jonawebb\"},{\"id\":\"791319242763300864\",\"name\":\"DMachetto\",\"username\":\"DMachetto\"},{\"id\":\"1001139383565733888\",\"name\":\"dylan smith\",\"username\":\"yrdsl\"},{\"id\":\"259445593\",\"name\":\"David\",\"username\":\"CrookedKnight\"},{\"id\":\"14769934\",\"name\":\"Kathy Schrenk \\\\uD83D\\\\uDCD9 Order KATY TRAIL from Reedy Press\",\"username\":\"TheKathySchrenk\"},{\"id\":\"3013783605\",\"name\":\"Jamie Shum (she/her)\",\"username\":\"jamieishum\"},{\"id\":\"791754195103776768\",\"name\":\"Michael C \\\\uD83C\\\\uDFB6\\\\uD83E\\\\uDDE2\",\"username\":\"macLONER64\"},{\"id\":\"1458217582251626499\",\"name\":\"Kevin McGarrigle\",\"username\":\"KevinMcGarrigl2\"},{\"id\":\"1360022531793641472\",\"name\":\"Tℏe Arkaiser\",\"username\":\"TArkaiser\"},{\"id\":\"1233242900533784578\",\"name\":\"Mari Fowler-Cooper ⚛️\\\\uD83D\\\\uDC08|| Supremacia Shamy\",\"username\":\"amysmoonpie\"},{\"id\":\"49968472\",\"name\":\"Myra Amler\",\"username\":\"mamler\"},{\"id\":\"298128332\",\"name\":\"susie\",\"username\":\"melody256\"},{\"id\":\"545560901\",\"name\":\"Sam Blum\",\"username\":\"samblum17\"},{\"id\":\"773931769359962112\",\"name\":\"Project ALY\",\"username\":\"ProjectALYCAMBA\"},{\"id\":\"1016007497340112897\",\"name\":\"MommaDozer\",\"username\":\"Mama_Dozer\"}]},\"meta\":{\"newest_id\":\"1467979913923895298\",\"oldest_id\":\"1467929873943609345\",\"result_count\":100,\"next_token\":\"b26v89c19zqg8o3fpdy8iseaefhfw53e8zwxxg4b94kfx\"}}'"
      ]
     },
     "execution_count": 17,
     "metadata": {},
     "output_type": "execute_result"
    }
   ],
   "source": [
    "response_1.text"
   ]
  },
  {
   "cell_type": "code",
   "execution_count": 18,
   "id": "e743e67b",
   "metadata": {},
   "outputs": [],
   "source": [
    "response_1_dict = json.loads(response_1.text)"
   ]
  },
  {
   "cell_type": "markdown",
   "id": "486448ed",
   "metadata": {},
   "source": [
    "Loading Twitter data into json"
   ]
  },
  {
   "cell_type": "code",
   "execution_count": 22,
   "id": "e9cd88a2",
   "metadata": {},
   "outputs": [
    {
     "data": {
      "text/plain": [
       "dict_keys(['data', 'includes', 'meta'])"
      ]
     },
     "execution_count": 22,
     "metadata": {},
     "output_type": "execute_result"
    }
   ],
   "source": [
    "response_1_dict.keys()"
   ]
  },
  {
   "cell_type": "code",
   "execution_count": 30,
   "id": "f7313493",
   "metadata": {},
   "outputs": [],
   "source": [
    "my_df = pd.DataFrame(response_1_dict['data'])"
   ]
  },
  {
   "cell_type": "markdown",
   "id": "36241312",
   "metadata": {},
   "source": [
    "I am creating a data frame with the 'data' key."
   ]
  },
  {
   "cell_type": "code",
   "execution_count": 31,
   "id": "fd3e4d8f",
   "metadata": {},
   "outputs": [
    {
     "data": {
      "text/html": [
       "<div>\n",
       "<style scoped>\n",
       "    .dataframe tbody tr th:only-of-type {\n",
       "        vertical-align: middle;\n",
       "    }\n",
       "\n",
       "    .dataframe tbody tr th {\n",
       "        vertical-align: top;\n",
       "    }\n",
       "\n",
       "    .dataframe thead th {\n",
       "        text-align: right;\n",
       "    }\n",
       "</style>\n",
       "<table border=\"1\" class=\"dataframe\">\n",
       "  <thead>\n",
       "    <tr style=\"text-align: right;\">\n",
       "      <th></th>\n",
       "      <th>lang</th>\n",
       "      <th>public_metrics</th>\n",
       "      <th>id</th>\n",
       "      <th>possibly_sensitive</th>\n",
       "      <th>text</th>\n",
       "      <th>author_id</th>\n",
       "      <th>created_at</th>\n",
       "      <th>source</th>\n",
       "      <th>attachments</th>\n",
       "    </tr>\n",
       "  </thead>\n",
       "  <tbody>\n",
       "    <tr>\n",
       "      <th>0</th>\n",
       "      <td>en</td>\n",
       "      <td>{'retweet_count': 0, 'reply_count': 0, 'like_c...</td>\n",
       "      <td>1467979913923895298</td>\n",
       "      <td>False</td>\n",
       "      <td>@glaad @Jeopardamy @emilyvdw @Jeopardy Thanx f...</td>\n",
       "      <td>995446130967302144</td>\n",
       "      <td>2021-12-06T22:10:59.000Z</td>\n",
       "      <td>Twitter for iPhone</td>\n",
       "      <td>NaN</td>\n",
       "    </tr>\n",
       "    <tr>\n",
       "      <th>1</th>\n",
       "      <td>en</td>\n",
       "      <td>{'retweet_count': 0, 'reply_count': 0, 'like_c...</td>\n",
       "      <td>1467979782197592075</td>\n",
       "      <td>False</td>\n",
       "      <td>Format: 8-day first round, four profs per day,...</td>\n",
       "      <td>770293085771210752</td>\n",
       "      <td>2021-12-06T22:10:28.000Z</td>\n",
       "      <td>Twitter for iPhone</td>\n",
       "      <td>NaN</td>\n",
       "    </tr>\n",
       "    <tr>\n",
       "      <th>2</th>\n",
       "      <td>en</td>\n",
       "      <td>{'retweet_count': 0, 'reply_count': 0, 'like_c...</td>\n",
       "      <td>1467979250372431878</td>\n",
       "      <td>False</td>\n",
       "      <td>Y'all my professor is going to be a contestant...</td>\n",
       "      <td>2932977243</td>\n",
       "      <td>2021-12-06T22:08:21.000Z</td>\n",
       "      <td>Twitter for iPhone</td>\n",
       "      <td>NaN</td>\n",
       "    </tr>\n",
       "    <tr>\n",
       "      <th>3</th>\n",
       "      <td>en</td>\n",
       "      <td>{'retweet_count': 0, 'reply_count': 1, 'like_c...</td>\n",
       "      <td>1467978490758811657</td>\n",
       "      <td>False</td>\n",
       "      <td>The @Jeopardy Professors Tournament begins tod...</td>\n",
       "      <td>770293085771210752</td>\n",
       "      <td>2021-12-06T22:05:20.000Z</td>\n",
       "      <td>Twitter for iPhone</td>\n",
       "      <td>NaN</td>\n",
       "    </tr>\n",
       "    <tr>\n",
       "      <th>4</th>\n",
       "      <td>en</td>\n",
       "      <td>{'retweet_count': 0, 'reply_count': 0, 'like_c...</td>\n",
       "      <td>1467978245861691397</td>\n",
       "      <td>False</td>\n",
       "      <td>The lovely @missmayim is back hosting @jeopard...</td>\n",
       "      <td>355147215</td>\n",
       "      <td>2021-12-06T22:04:22.000Z</td>\n",
       "      <td>Twitter for Android</td>\n",
       "      <td>NaN</td>\n",
       "    </tr>\n",
       "    <tr>\n",
       "      <th>...</th>\n",
       "      <td>...</td>\n",
       "      <td>...</td>\n",
       "      <td>...</td>\n",
       "      <td>...</td>\n",
       "      <td>...</td>\n",
       "      <td>...</td>\n",
       "      <td>...</td>\n",
       "      <td>...</td>\n",
       "      <td>...</td>\n",
       "    </tr>\n",
       "    <tr>\n",
       "      <th>95</th>\n",
       "      <td>en</td>\n",
       "      <td>{'retweet_count': 0, 'reply_count': 0, 'like_c...</td>\n",
       "      <td>1467934538798182402</td>\n",
       "      <td>False</td>\n",
       "      <td>@Jeopardy Inner Space???</td>\n",
       "      <td>49968472</td>\n",
       "      <td>2021-12-06T19:10:41.000Z</td>\n",
       "      <td>Twitter for Android</td>\n",
       "      <td>NaN</td>\n",
       "    </tr>\n",
       "    <tr>\n",
       "      <th>96</th>\n",
       "      <td>en</td>\n",
       "      <td>{'retweet_count': 12, 'reply_count': 0, 'like_...</td>\n",
       "      <td>1467931165239627782</td>\n",
       "      <td>False</td>\n",
       "      <td>RT @Jeopardy: Our first-ever #ProfessorsTourna...</td>\n",
       "      <td>298128332</td>\n",
       "      <td>2021-12-06T18:57:17.000Z</td>\n",
       "      <td>Twitter for iPad</td>\n",
       "      <td>{'media_keys': ['13_1467772924123779076']}</td>\n",
       "    </tr>\n",
       "    <tr>\n",
       "      <th>97</th>\n",
       "      <td>en</td>\n",
       "      <td>{'retweet_count': 5, 'reply_count': 0, 'like_c...</td>\n",
       "      <td>1467930253788024834</td>\n",
       "      <td>False</td>\n",
       "      <td>RT @VanderbiltU: Reminder! Tune in on Dec. 6 a...</td>\n",
       "      <td>545560901</td>\n",
       "      <td>2021-12-06T18:53:39.000Z</td>\n",
       "      <td>Twitter Web App</td>\n",
       "      <td>NaN</td>\n",
       "    </tr>\n",
       "    <tr>\n",
       "      <th>98</th>\n",
       "      <td>en</td>\n",
       "      <td>{'retweet_count': 16, 'reply_count': 0, 'like_...</td>\n",
       "      <td>1467930193889222656</td>\n",
       "      <td>False</td>\n",
       "      <td>RT @TrevorProject: \"Although she's been a fan ...</td>\n",
       "      <td>773931769359962112</td>\n",
       "      <td>2021-12-06T18:53:25.000Z</td>\n",
       "      <td>Twitter Web App</td>\n",
       "      <td>NaN</td>\n",
       "    </tr>\n",
       "    <tr>\n",
       "      <th>99</th>\n",
       "      <td>en</td>\n",
       "      <td>{'retweet_count': 0, 'reply_count': 0, 'like_c...</td>\n",
       "      <td>1467929873943609345</td>\n",
       "      <td>False</td>\n",
       "      <td>@Jeopardy So looking forward to this!</td>\n",
       "      <td>1016007497340112897</td>\n",
       "      <td>2021-12-06T18:52:09.000Z</td>\n",
       "      <td>Twitter for iPhone</td>\n",
       "      <td>NaN</td>\n",
       "    </tr>\n",
       "  </tbody>\n",
       "</table>\n",
       "<p>100 rows × 9 columns</p>\n",
       "</div>"
      ],
      "text/plain": [
       "   lang                                     public_metrics  \\\n",
       "0    en  {'retweet_count': 0, 'reply_count': 0, 'like_c...   \n",
       "1    en  {'retweet_count': 0, 'reply_count': 0, 'like_c...   \n",
       "2    en  {'retweet_count': 0, 'reply_count': 0, 'like_c...   \n",
       "3    en  {'retweet_count': 0, 'reply_count': 1, 'like_c...   \n",
       "4    en  {'retweet_count': 0, 'reply_count': 0, 'like_c...   \n",
       "..  ...                                                ...   \n",
       "95   en  {'retweet_count': 0, 'reply_count': 0, 'like_c...   \n",
       "96   en  {'retweet_count': 12, 'reply_count': 0, 'like_...   \n",
       "97   en  {'retweet_count': 5, 'reply_count': 0, 'like_c...   \n",
       "98   en  {'retweet_count': 16, 'reply_count': 0, 'like_...   \n",
       "99   en  {'retweet_count': 0, 'reply_count': 0, 'like_c...   \n",
       "\n",
       "                     id  possibly_sensitive  \\\n",
       "0   1467979913923895298               False   \n",
       "1   1467979782197592075               False   \n",
       "2   1467979250372431878               False   \n",
       "3   1467978490758811657               False   \n",
       "4   1467978245861691397               False   \n",
       "..                  ...                 ...   \n",
       "95  1467934538798182402               False   \n",
       "96  1467931165239627782               False   \n",
       "97  1467930253788024834               False   \n",
       "98  1467930193889222656               False   \n",
       "99  1467929873943609345               False   \n",
       "\n",
       "                                                 text            author_id  \\\n",
       "0   @glaad @Jeopardamy @emilyvdw @Jeopardy Thanx f...   995446130967302144   \n",
       "1   Format: 8-day first round, four profs per day,...   770293085771210752   \n",
       "2   Y'all my professor is going to be a contestant...           2932977243   \n",
       "3   The @Jeopardy Professors Tournament begins tod...   770293085771210752   \n",
       "4   The lovely @missmayim is back hosting @jeopard...            355147215   \n",
       "..                                                ...                  ...   \n",
       "95                           @Jeopardy Inner Space???             49968472   \n",
       "96  RT @Jeopardy: Our first-ever #ProfessorsTourna...            298128332   \n",
       "97  RT @VanderbiltU: Reminder! Tune in on Dec. 6 a...            545560901   \n",
       "98  RT @TrevorProject: \"Although she's been a fan ...   773931769359962112   \n",
       "99              @Jeopardy So looking forward to this!  1016007497340112897   \n",
       "\n",
       "                  created_at               source  \\\n",
       "0   2021-12-06T22:10:59.000Z   Twitter for iPhone   \n",
       "1   2021-12-06T22:10:28.000Z   Twitter for iPhone   \n",
       "2   2021-12-06T22:08:21.000Z   Twitter for iPhone   \n",
       "3   2021-12-06T22:05:20.000Z   Twitter for iPhone   \n",
       "4   2021-12-06T22:04:22.000Z  Twitter for Android   \n",
       "..                       ...                  ...   \n",
       "95  2021-12-06T19:10:41.000Z  Twitter for Android   \n",
       "96  2021-12-06T18:57:17.000Z     Twitter for iPad   \n",
       "97  2021-12-06T18:53:39.000Z      Twitter Web App   \n",
       "98  2021-12-06T18:53:25.000Z      Twitter Web App   \n",
       "99  2021-12-06T18:52:09.000Z   Twitter for iPhone   \n",
       "\n",
       "                                   attachments  \n",
       "0                                          NaN  \n",
       "1                                          NaN  \n",
       "2                                          NaN  \n",
       "3                                          NaN  \n",
       "4                                          NaN  \n",
       "..                                         ...  \n",
       "95                                         NaN  \n",
       "96  {'media_keys': ['13_1467772924123779076']}  \n",
       "97                                         NaN  \n",
       "98                                         NaN  \n",
       "99                                         NaN  \n",
       "\n",
       "[100 rows x 9 columns]"
      ]
     },
     "execution_count": 31,
     "metadata": {},
     "output_type": "execute_result"
    }
   ],
   "source": [
    "my_df"
   ]
  },
  {
   "cell_type": "code",
   "execution_count": 32,
   "id": "8b5641af",
   "metadata": {},
   "outputs": [
    {
     "data": {
      "text/plain": [
       "{'newest_id': '1467979913923895298',\n",
       " 'oldest_id': '1467929873943609345',\n",
       " 'result_count': 100,\n",
       " 'next_token': 'b26v89c19zqg8o3fpdy8iseaefhfw53e8zwxxg4b94kfx'}"
      ]
     },
     "execution_count": 32,
     "metadata": {},
     "output_type": "execute_result"
    }
   ],
   "source": [
    "response_1_dict['meta']"
   ]
  },
  {
   "cell_type": "markdown",
   "id": "e6f069c9",
   "metadata": {},
   "source": [
    "Getting next token"
   ]
  },
  {
   "cell_type": "code",
   "execution_count": 33,
   "id": "70d8dad5",
   "metadata": {},
   "outputs": [],
   "source": [
    "my_api_url_2 = my_api_url + '&next_token={}&max_results=100'.format(response_1_dict['meta']['next_token'])"
   ]
  },
  {
   "cell_type": "code",
   "execution_count": 34,
   "id": "7c0c53da",
   "metadata": {},
   "outputs": [
    {
     "data": {
      "text/plain": [
       "'https://api.twitter.com/2/tweets/search/recent?query=%23Jeopardy%20OR%20%23KenJennings%20OR%20%40KenJennings%20OR%20%40MissMayim%20OR%20%23MayimBialik%20OR%20%40Jeopardy%20lang%3Aen&tweet.fields=public_metrics,created_at,lang,possibly_sensitive,attachments,source&next_token=b26v89c19zqg8o3fpdy8iseaefhfw53e8zwxxg4b94kfx&max_results=100'"
      ]
     },
     "execution_count": 34,
     "metadata": {},
     "output_type": "execute_result"
    }
   ],
   "source": [
    "my_api_url_2"
   ]
  },
  {
   "cell_type": "code",
   "execution_count": 35,
   "id": "eab3e23d",
   "metadata": {},
   "outputs": [],
   "source": [
    "response_2 = requests.request(\"GET\", my_api_url_2, headers = header)"
   ]
  },
  {
   "cell_type": "code",
   "execution_count": 36,
   "id": "013b721b",
   "metadata": {},
   "outputs": [
    {
     "data": {
      "text/plain": [
       "'{\"data\":[{\"possibly_sensitive\":false,\"public_metrics\":{\"retweet_count\":12,\"reply_count\":0,\"like_count\":0,\"quote_count\":0},\"source\":\"Twitter Web App\",\"created_at\":\"2021-12-06T18:50:53.000Z\",\"id\":\"1467929555121983490\",\"attachments\":{\"media_keys\":[\"13_1467772924123779076\"]},\"text\":\"RT @Jeopardy: Our first-ever #ProfessorsTournament starts TODAY! Who’s ready?! https://t.co/B9ge3wec6p\",\"lang\":\"en\"},{\"possibly_sensitive\":false,\"public_metrics\":{\"retweet_count\":0,\"reply_count\":0,\"like_count\":0,\"quote_count\":0},\"source\":\"Twitter for iPhone\",\"created_at\":\"2021-12-06T18:49:04.000Z\",\"id\":\"1467929098819457029\",\"text\":\"@1962Wren @CJTFOIR @SecBlinken @DeptofDefense @OIRSpox @oirdcom @SenGillibrand\\\\n@SenKamalaHarris\\\\n@ewarren\\\\n@JoeBiden\\\\n@JulianCastro\\\\n@HillaryClinton\\\\n@SenSanders\\\\n@CoryBooker\\\\n@SenSchumer\\\\n@AOC\\\\n@Ilhan\\\\n@RepRashida\\\\n@missmayim\",\"lang\":\"und\"},{\"possibly_sensitive\":false,\"public_metrics\":{\"retweet_count\":0,\"reply_count\":0,\"like_count\":0,\"quote_count\":0},\"source\":\"Twitter Web App\",\"created_at\":\"2021-12-06T18:41:34.000Z\",\"id\":\"1467927212200534022\",\"text\":\"@Jeopardy Sounds great!  Looks great!  Can\\'t wait to watch!\",\"lang\":\"en\"},{\"possibly_sensitive\":false,\"public_metrics\":{\"retweet_count\":0,\"reply_count\":0,\"like_count\":0,\"quote_count\":0},\"source\":\"Twitter for Android\",\"created_at\":\"2021-12-06T18:40:31.000Z\",\"id\":\"1467926945035743233\",\"text\":\"@Jeopardy Welcome back Mayim, you have been missed.\",\"lang\":\"en\"},{\"possibly_sensitive\":false,\"public_metrics\":{\"retweet_count\":0,\"reply_count\":0,\"like_count\":0,\"quote_count\":0},\"source\":\"TweetDeck\",\"created_at\":\"2021-12-06T18:38:45.000Z\",\"id\":\"1467926500032892934\",\"text\":\".@VanderbiltLaw professor Gautam Hans competes on tonight\\'s episode of\\\\n@Jeopardy. The Professors Tournament will feature 15 educators competing for a $100,000 grand prize + a spot in the Tournament of Champions. Tune in at 5 p.m. on WZTV. \\\\uD83D\\\\uDCFAhttps://t.co/83CxYc8dCS\",\"lang\":\"en\"},{\"possibly_sensitive\":false,\"public_metrics\":{\"retweet_count\":43,\"reply_count\":0,\"like_count\":0,\"quote_count\":0},\"source\":\"Twitter for Android\",\"created_at\":\"2021-12-06T18:38:41.000Z\",\"id\":\"1467926484199292928\",\"attachments\":{\"media_keys\":[\"7_1294724089865674752\"]},\"text\":\"RT @EliasToufexis: I’m impressed that Trebek pronounced my name correctly. Thanks @Jeopardy https://t.co/jaJBB3cclD\",\"lang\":\"en\"},{\"possibly_sensitive\":false,\"public_metrics\":{\"retweet_count\":0,\"reply_count\":0,\"like_count\":2,\"quote_count\":0},\"source\":\"Twitter for iPhone\",\"created_at\":\"2021-12-06T18:37:18.000Z\",\"id\":\"1467926136147619840\",\"text\":\"@Jeopardy The only problem with this most awesome show is Mayim. Irritating voice and her attempt at being cute and funny is unattractive. She spoils the enjoyment of this legendary show\",\"lang\":\"en\"},{\"possibly_sensitive\":false,\"public_metrics\":{\"retweet_count\":1,\"reply_count\":0,\"like_count\":1,\"quote_count\":0},\"source\":\"Twitter for iPhone\",\"created_at\":\"2021-12-06T18:29:03.000Z\",\"id\":\"1467924060080328704\",\"text\":\"This “Words in elements” category in last week’s #Jeopardy was a perfect mix of word-play and science \\\\uD83E\\\\uDDEA \\\\n\\\\nBr: this possessive pronoun\\\\nSi: this, a symbol for a program on your computer \\\\nHg: this term for a mean or scroungy dog\\\\nMn: this Asian art form\\\\nI: this Allfather\\\\n\\\\n\\\\uD83D\\\\uDC95\\\\n#STEAM\",\"lang\":\"en\"},{\"possibly_sensitive\":false,\"public_metrics\":{\"retweet_count\":0,\"reply_count\":0,\"like_count\":0,\"quote_count\":0},\"source\":\"Twitter Web App\",\"created_at\":\"2021-12-06T18:23:23.000Z\",\"id\":\"1467922635212214285\",\"text\":\"@Spiritcaat @nytimes @KenJennings He\\'s a LOT better then her,,,\",\"lang\":\"en\"},{\"possibly_sensitive\":false,\"public_metrics\":{\"retweet_count\":9,\"reply_count\":0,\"like_count\":0,\"quote_count\":0},\"source\":\"Twitter for iPhone\",\"created_at\":\"2021-12-06T18:22:44.000Z\",\"id\":\"1467922473173856263\",\"text\":\"RT @missmayim: We played #RAPIDFIRE questions with the lovely @danicamckellar on the  #bialikbreakdown podcast! \\\\uD83E\\\\uDDE0✨  #DanicaMckellar #TheWon…\",\"lang\":\"en\"},{\"possibly_sensitive\":false,\"public_metrics\":{\"retweet_count\":48,\"reply_count\":0,\"like_count\":0,\"quote_count\":0},\"source\":\"Twitter for iPhone\",\"created_at\":\"2021-12-06T18:21:33.000Z\",\"id\":\"1467922174308671491\",\"text\":\"RT @Jeopardy: The #ProfessorsTournament starts Monday! Don\\'t worry – Amy Schneider will return to Jeopardy! December 20! https://t.co/hQGge…\",\"lang\":\"en\"},{\"possibly_sensitive\":false,\"public_metrics\":{\"retweet_count\":0,\"reply_count\":1,\"like_count\":4,\"quote_count\":0},\"source\":\"Twitter for iPhone\",\"created_at\":\"2021-12-06T18:18:55.000Z\",\"id\":\"1467921512078487555\",\"text\":\"Excited to watch the first ever Prof tournament this evening on #Jeopardy.\",\"lang\":\"en\"},{\"possibly_sensitive\":false,\"public_metrics\":{\"retweet_count\":12,\"reply_count\":0,\"like_count\":0,\"quote_count\":0},\"source\":\"Twitter for iPhone\",\"created_at\":\"2021-12-06T18:17:33.000Z\",\"id\":\"1467921165171761153\",\"attachments\":{\"media_keys\":[\"13_1467772924123779076\"]},\"text\":\"RT @Jeopardy: Our first-ever #ProfessorsTournament starts TODAY! Who’s ready?! https://t.co/B9ge3wec6p\",\"lang\":\"en\"},{\"possibly_sensitive\":false,\"public_metrics\":{\"retweet_count\":0,\"reply_count\":0,\"like_count\":1,\"quote_count\":0},\"source\":\"Twitter Web App\",\"created_at\":\"2021-12-06T18:16:40.000Z\",\"id\":\"1467920942752010253\",\"text\":\"@OsherL @Jeopardy @NYTimesWordplay I believe the tiebreaker is amount of money going into Final Jeopardy, followed by the amount going into Double Jeopardy.\",\"lang\":\"en\"},{\"possibly_sensitive\":false,\"public_metrics\":{\"retweet_count\":0,\"reply_count\":0,\"like_count\":2,\"quote_count\":0},\"source\":\"Twitter for Android\",\"created_at\":\"2021-12-06T18:15:59.000Z\",\"id\":\"1467920772127543299\",\"text\":\"@Jeopardy @missmayim so happy to see you\\'re back hosting this ultimate egghead challenge!\",\"lang\":\"en\"},{\"possibly_sensitive\":false,\"public_metrics\":{\"retweet_count\":0,\"reply_count\":0,\"like_count\":0,\"quote_count\":0},\"source\":\"Twitter Web App\",\"created_at\":\"2021-12-06T18:10:15.000Z\",\"id\":\"1467919329396101122\",\"text\":\"@Jeopardy Go Prof. Buttrey!\",\"lang\":\"en\"},{\"possibly_sensitive\":false,\"public_metrics\":{\"retweet_count\":12,\"reply_count\":0,\"like_count\":0,\"quote_count\":0},\"source\":\"Twitter Web App\",\"created_at\":\"2021-12-06T18:06:51.000Z\",\"id\":\"1467918472114053130\",\"attachments\":{\"media_keys\":[\"13_1467772924123779076\"]},\"text\":\"RT @Jeopardy: Our first-ever #ProfessorsTournament starts TODAY! Who’s ready?! https://t.co/B9ge3wec6p\",\"lang\":\"en\"},{\"possibly_sensitive\":false,\"public_metrics\":{\"retweet_count\":0,\"reply_count\":0,\"like_count\":0,\"quote_count\":0},\"source\":\"Twitter for Android\",\"created_at\":\"2021-12-06T18:06:19.000Z\",\"id\":\"1467918340802945024\",\"text\":\"@Jeopardy Thank you because Amy must return!\",\"lang\":\"en\"},{\"possibly_sensitive\":true,\"public_metrics\":{\"retweet_count\":12,\"reply_count\":0,\"like_count\":0,\"quote_count\":0},\"source\":\"Twitter for iPhone\",\"created_at\":\"2021-12-06T18:03:24.000Z\",\"id\":\"1467917605113638913\",\"attachments\":{\"media_keys\":[\"13_1467772924123779076\"]},\"text\":\"RT @Jeopardy: Our first-ever #ProfessorsTournament starts TODAY! Who’s ready?! https://t.co/B9ge3wec6p\",\"lang\":\"en\"},{\"possibly_sensitive\":false,\"public_metrics\":{\"retweet_count\":0,\"reply_count\":0,\"like_count\":1,\"quote_count\":0},\"source\":\"Twitter for iPad\",\"created_at\":\"2021-12-06T18:03:02.000Z\",\"id\":\"1467917513631563780\",\"text\":\"@Jeopardy Excited to watch this!\",\"lang\":\"en\"},{\"possibly_sensitive\":false,\"public_metrics\":{\"retweet_count\":0,\"reply_count\":0,\"like_count\":4,\"quote_count\":0},\"source\":\"Twitter for Android\",\"created_at\":\"2021-12-06T18:01:15.000Z\",\"id\":\"1467917064279109632\",\"text\":\"@Jeopardy I am. I love her as an host.\",\"lang\":\"en\"},{\"possibly_sensitive\":false,\"public_metrics\":{\"retweet_count\":0,\"reply_count\":0,\"like_count\":0,\"quote_count\":0},\"source\":\"Twitter Web App\",\"created_at\":\"2021-12-06T18:01:09.000Z\",\"id\":\"1467917039725694982\",\"text\":\"@Jeopardy Ring me up for the next one.\",\"lang\":\"en\"},{\"possibly_sensitive\":false,\"public_metrics\":{\"retweet_count\":12,\"reply_count\":0,\"like_count\":0,\"quote_count\":0},\"source\":\"Twitter for iPhone\",\"created_at\":\"2021-12-06T18:01:01.000Z\",\"id\":\"1467917007131713543\",\"attachments\":{\"media_keys\":[\"13_1467772924123779076\"]},\"text\":\"RT @Jeopardy: Our first-ever #ProfessorsTournament starts TODAY! Who’s ready?! https://t.co/B9ge3wec6p\",\"lang\":\"en\"},{\"possibly_sensitive\":false,\"public_metrics\":{\"retweet_count\":12,\"reply_count\":0,\"like_count\":0,\"quote_count\":0},\"source\":\"Twitter for iPhone\",\"created_at\":\"2021-12-06T18:00:35.000Z\",\"id\":\"1467916898268585986\",\"attachments\":{\"media_keys\":[\"13_1467772924123779076\"]},\"text\":\"RT @Jeopardy: Our first-ever #ProfessorsTournament starts TODAY! Who’s ready?! https://t.co/B9ge3wec6p\",\"lang\":\"en\"},{\"possibly_sensitive\":false,\"public_metrics\":{\"retweet_count\":4,\"reply_count\":0,\"like_count\":0,\"quote_count\":0},\"source\":\"Twitter for iPhone\",\"created_at\":\"2021-12-06T17:57:41.000Z\",\"id\":\"1467916169126547460\",\"text\":\"RT @TheBlastNews: Fans Of Mayim Bialik Just Got Some Great News! #Jeopardy\\\\nhttps://t.co/1elvuu9ebp\",\"lang\":\"en\"},{\"possibly_sensitive\":false,\"public_metrics\":{\"retweet_count\":5,\"reply_count\":0,\"like_count\":0,\"quote_count\":0},\"source\":\"Twitter Web App\",\"created_at\":\"2021-12-06T17:57:03.000Z\",\"id\":\"1467916009096941568\",\"text\":\"RT @VanderbiltU: Reminder! Tune in on Dec. 6 as @VanderbiltLaw professor and long-time @Jeopardy fan Gautam Hans competes in the show’s ina…\",\"lang\":\"en\"},{\"possibly_sensitive\":false,\"public_metrics\":{\"retweet_count\":23,\"reply_count\":0,\"like_count\":0,\"quote_count\":0},\"source\":\"Twitter for iPhone\",\"created_at\":\"2021-12-06T17:57:02.000Z\",\"id\":\"1467916002159640578\",\"text\":\"RT @missmayim: Hi everyone! It’s finally happening! Our merch store will be open on https://t.co/nHwKbFZ51S on Monday December 6th! Be sure…\",\"lang\":\"en\"},{\"possibly_sensitive\":false,\"public_metrics\":{\"retweet_count\":5,\"reply_count\":0,\"like_count\":0,\"quote_count\":0},\"source\":\"Twitter for iPhone\",\"created_at\":\"2021-12-06T17:56:42.000Z\",\"id\":\"1467915920312086529\",\"text\":\"RT @VanderbiltU: Reminder! Tune in on Dec. 6 as @VanderbiltLaw professor and long-time @Jeopardy fan Gautam Hans competes in the show’s ina…\",\"lang\":\"en\"},{\"possibly_sensitive\":false,\"public_metrics\":{\"retweet_count\":1,\"reply_count\":0,\"like_count\":0,\"quote_count\":0},\"source\":\"Twitter for iPhone\",\"created_at\":\"2021-12-06T17:56:13.000Z\",\"id\":\"1467915796714180613\",\"text\":\"RT @amodiorry: @EdrioBenthic @KenJennings four outsold the white album don’t even\",\"lang\":\"en\"},{\"possibly_sensitive\":false,\"public_metrics\":{\"retweet_count\":0,\"reply_count\":0,\"like_count\":0,\"quote_count\":0},\"source\":\"Twitter for Android\",\"created_at\":\"2021-12-06T17:54:18.000Z\",\"id\":\"1467915314088144896\",\"text\":\"@missmayim @BialikBreakdown I will try to make the time to get to see your store.\",\"lang\":\"en\"},{\"possibly_sensitive\":false,\"public_metrics\":{\"retweet_count\":0,\"reply_count\":0,\"like_count\":0,\"quote_count\":0},\"source\":\"Twitter Web App\",\"created_at\":\"2021-12-06T17:52:33.000Z\",\"id\":\"1467914875305435148\",\"text\":\"Vanderbilt represent on Jeopardy! tonight with host @missmayim https://t.co/ZrsiZ9aNLb\",\"lang\":\"en\"},{\"possibly_sensitive\":false,\"public_metrics\":{\"retweet_count\":0,\"reply_count\":0,\"like_count\":0,\"quote_count\":0},\"source\":\"Twitter Web App\",\"created_at\":\"2021-12-06T17:50:41.000Z\",\"id\":\"1467914403769204737\",\"text\":\"@missmayim @BialikBreakdown U cute like a button or magnet lol\",\"lang\":\"en\"},{\"possibly_sensitive\":false,\"public_metrics\":{\"retweet_count\":15,\"reply_count\":0,\"like_count\":0,\"quote_count\":0},\"source\":\"Twitter for iPhone\",\"created_at\":\"2021-12-06T17:49:29.000Z\",\"id\":\"1467914102995660803\",\"text\":\"RT @missmayim: Hey, everyone, I’m Jonathan &amp; I’m the co-host of Mayim Bialik’s Breakdown. (I’m the funnier one, trust me.) We have a merch…\",\"lang\":\"en\"},{\"possibly_sensitive\":false,\"public_metrics\":{\"retweet_count\":5,\"reply_count\":0,\"like_count\":0,\"quote_count\":0},\"source\":\"Twitter for Android\",\"created_at\":\"2021-12-06T17:47:28.000Z\",\"id\":\"1467913595547697152\",\"text\":\"RT @VanderbiltU: Reminder! Tune in on Dec. 6 as @VanderbiltLaw professor and long-time @Jeopardy fan Gautam Hans competes in the show’s ina…\",\"lang\":\"en\"},{\"possibly_sensitive\":false,\"public_metrics\":{\"retweet_count\":5,\"reply_count\":0,\"like_count\":27,\"quote_count\":1},\"source\":\"Twitter Web App\",\"created_at\":\"2021-12-06T17:46:44.000Z\",\"id\":\"1467913413288411139\",\"text\":\"Reminder! Tune in on Dec. 6 as @VanderbiltLaw professor and long-time @Jeopardy fan Gautam Hans competes in the show’s inaugural “Professors Tournament.\\\\\"\\\\n\\\\nLearn more about @dispositive, who once dressed up as Alex Trebek for Halloween in third grade ⬇️\\\\nhttps://t.co/jhRBlkXqGa\",\"lang\":\"en\"},{\"possibly_sensitive\":false,\"public_metrics\":{\"retweet_count\":0,\"reply_count\":0,\"like_count\":0,\"quote_count\":0},\"source\":\"Twitter Web App\",\"created_at\":\"2021-12-06T17:43:40.000Z\",\"id\":\"1467912640475242496\",\"text\":\"@SoCalTaxProf @vanderbiltlaw @Jeopardy Do you know how they were selected?\",\"lang\":\"en\"},{\"possibly_sensitive\":false,\"public_metrics\":{\"retweet_count\":3,\"reply_count\":0,\"like_count\":0,\"quote_count\":0},\"source\":\"Twitter Web App\",\"created_at\":\"2021-12-06T17:43:37.000Z\",\"id\":\"1467912625463963653\",\"text\":\"RT @OnwardState: Penn State professor Hester Blum is set to compete in @Jeopardy\\'s first-ever Professors Tournament beginning Monday, Decem…\",\"lang\":\"en\"},{\"possibly_sensitive\":false,\"public_metrics\":{\"retweet_count\":3,\"reply_count\":0,\"like_count\":0,\"quote_count\":0},\"source\":\"Twitter for iPhone\",\"created_at\":\"2021-12-06T17:40:54.000Z\",\"id\":\"1467911943155503104\",\"text\":\"RT @OnwardState: Penn State professor Hester Blum is set to compete in @Jeopardy\\'s first-ever Professors Tournament beginning Monday, Decem…\",\"lang\":\"en\"},{\"possibly_sensitive\":false,\"public_metrics\":{\"retweet_count\":0,\"reply_count\":0,\"like_count\":2,\"quote_count\":0},\"source\":\"Twitter for iPhone\",\"created_at\":\"2021-12-06T17:40:32.000Z\",\"id\":\"1467911851098968066\",\"text\":\"@LindenmuthWendi @missmayim \\\\uD83D\\\\uDE0E\",\"lang\":\"und\"},{\"possibly_sensitive\":false,\"public_metrics\":{\"retweet_count\":769,\"reply_count\":0,\"like_count\":0,\"quote_count\":0},\"source\":\"Twitter for iPhone\",\"created_at\":\"2021-12-06T17:40:11.000Z\",\"id\":\"1467911763794575369\",\"attachments\":{\"media_keys\":[\"3_963528381848436737\"]},\"text\":\"RT @missmayim: Could his face be cuter? NO IT COULD NOT. #JimParsons ❤️ https://t.co/mKActQwlZH\",\"lang\":\"en\"},{\"possibly_sensitive\":false,\"public_metrics\":{\"retweet_count\":0,\"reply_count\":1,\"like_count\":0,\"quote_count\":0},\"source\":\"Hootsuite Inc.\",\"created_at\":\"2021-12-06T17:40:02.000Z\",\"id\":\"1467911725794177036\",\"attachments\":{\"media_keys\":[\"3_1467911723520774148\"]},\"text\":\".@vanderbiltlaw Professor To Appear On @Jeopardy Tonight https://t.co/dPA2FPEEqF https://t.co/Eu3NtRH2Fr\",\"lang\":\"en\"},{\"possibly_sensitive\":false,\"public_metrics\":{\"retweet_count\":0,\"reply_count\":0,\"like_count\":0,\"quote_count\":0},\"source\":\"Twitter Web App\",\"created_at\":\"2021-12-06T17:37:08.000Z\",\"id\":\"1467910993661493248\",\"text\":\"@Jeopardy We quit watching Jeopardy! when Ken Jennings came back as host and we won\\'t watch it again till he\\'s gone.  Looks like we haven\\'t missed much!!!\",\"lang\":\"en\"},{\"possibly_sensitive\":false,\"public_metrics\":{\"retweet_count\":0,\"reply_count\":0,\"like_count\":0,\"quote_count\":0},\"source\":\"Twitter Web App\",\"created_at\":\"2021-12-06T17:31:20.000Z\",\"id\":\"1467909536065404932\",\"text\":\"@KenJennings So, I guess back in the \\'90s this was a thing ... with a Very Special Guest Star!\\\\nhttps://t.co/13pqyM1dtq\",\"lang\":\"en\"},{\"possibly_sensitive\":false,\"public_metrics\":{\"retweet_count\":8,\"reply_count\":0,\"like_count\":0,\"quote_count\":0},\"source\":\"Twitter for iPhone\",\"created_at\":\"2021-12-06T17:19:53.000Z\",\"id\":\"1467906653039341575\",\"text\":\"RT @missmayim: Hi everyone!\\\\n\\\\nTODAY IS THE DAY, our merch store is officially open! Make sure to head over to https://t.co/nHwKbFZ51S &amp; clic…\",\"lang\":\"en\"},{\"possibly_sensitive\":false,\"public_metrics\":{\"retweet_count\":11,\"reply_count\":0,\"like_count\":0,\"quote_count\":0},\"source\":\"Twitter for iPhone\",\"created_at\":\"2021-12-06T17:19:47.000Z\",\"id\":\"1467906631228956685\",\"text\":\"RT @missmayim: Guess what! Today is the day?! Our merch store is officially unveiled &amp; our first collection is now available on https://t.c…\",\"lang\":\"en\"},{\"possibly_sensitive\":false,\"public_metrics\":{\"retweet_count\":8,\"reply_count\":0,\"like_count\":0,\"quote_count\":0},\"source\":\"Twitter for Android\",\"created_at\":\"2021-12-06T17:13:52.000Z\",\"id\":\"1467905139411681280\",\"text\":\"RT @missmayim: Hi everyone!\\\\n\\\\nTODAY IS THE DAY, our merch store is officially open! Make sure to head over to https://t.co/nHwKbFZ51S &amp; clic…\",\"lang\":\"en\"},{\"possibly_sensitive\":false,\"public_metrics\":{\"retweet_count\":11,\"reply_count\":0,\"like_count\":0,\"quote_count\":0},\"source\":\"Twitter for Android\",\"created_at\":\"2021-12-06T17:13:49.000Z\",\"id\":\"1467905126589669376\",\"text\":\"RT @missmayim: Guess what! Today is the day?! Our merch store is officially unveiled &amp; our first collection is now available on https://t.c…\",\"lang\":\"en\"},{\"possibly_sensitive\":false,\"public_metrics\":{\"retweet_count\":0,\"reply_count\":0,\"like_count\":0,\"quote_count\":0},\"source\":\"AlexTrebot\",\"created_at\":\"2021-12-06T17:10:55.000Z\",\"id\":\"1467904397019697159\",\"text\":\"Answer... the other daily double! #jeopardy\",\"lang\":\"en\"},{\"possibly_sensitive\":false,\"public_metrics\":{\"retweet_count\":28,\"reply_count\":0,\"like_count\":0,\"quote_count\":0},\"source\":\"Twitter for Android\",\"created_at\":\"2021-12-06T17:08:37.000Z\",\"id\":\"1467903818293604354\",\"text\":\"RT @AmodioMatt: I was so proud to take part in the #MillionDollarChallenge charity for @StJude. Not only did we meet the original goal, but…\",\"lang\":\"en\"},{\"possibly_sensitive\":false,\"public_metrics\":{\"retweet_count\":1,\"reply_count\":0,\"like_count\":0,\"quote_count\":0},\"source\":\"Twitter Web App\",\"created_at\":\"2021-12-06T17:05:58.000Z\",\"id\":\"1467903153521631236\",\"text\":\"RT @NPSfoundation: Be sure to watch and cheer on @NPS_Monterey  professor of operations research, Sam Buttrey on @Jeopardy \\'s inaugural Pro…\",\"lang\":\"en\"},{\"possibly_sensitive\":false,\"public_metrics\":{\"retweet_count\":1,\"reply_count\":0,\"like_count\":7,\"quote_count\":0},\"source\":\"Hootsuite Inc.\",\"created_at\":\"2021-12-06T17:05:07.000Z\",\"id\":\"1467902938161061900\",\"attachments\":{\"media_keys\":[\"3_1467902936919457794\"]},\"text\":\"Be sure to watch and cheer on @NPS_Monterey  professor of operations research, Sam Buttrey on @Jeopardy \\'s inaugural Professors Tournament starting tonight on @CBS. Buttrey will compete with 14 educators for a $100k grand prize and a spot in the Tournament of Champions. #NPS https://t.co/aRyUUf9UIJ\",\"lang\":\"en\"},{\"possibly_sensitive\":false,\"public_metrics\":{\"retweet_count\":0,\"reply_count\":0,\"like_count\":0,\"quote_count\":0},\"source\":\"Twitter for iPhone\",\"created_at\":\"2021-12-06T17:01:56.000Z\",\"id\":\"1467902136705064971\",\"text\":\"@chris_ellis @e_haah @Jeopardy Words work based on what you decide they mean? What do you do with such power?\",\"lang\":\"en\"},{\"possibly_sensitive\":false,\"public_metrics\":{\"retweet_count\":0,\"reply_count\":0,\"like_count\":1,\"quote_count\":0},\"source\":\"Twitter Web App\",\"created_at\":\"2021-12-06T17:01:10.000Z\",\"id\":\"1467901946157744140\",\"text\":\"Don\\'t forget to watch @Jeopardy! tonight to catch @vanderbiltlaw Professor Gautam Hans on the show\\'s inaugural Professors Tournament! Professor Hans is pro on First Amendment Law + tech policy \\\\uD83D\\\\uDE4C\\\\uD83D\\\\uDE4C\\\\n\\\\nhttps://t.co/kudByuxoeI\",\"lang\":\"en\"},{\"possibly_sensitive\":false,\"public_metrics\":{\"retweet_count\":3,\"reply_count\":0,\"like_count\":0,\"quote_count\":0},\"source\":\"Twitter Web App\",\"created_at\":\"2021-12-06T16:57:12.000Z\",\"id\":\"1467900947502448647\",\"text\":\"RT @OnwardState: Penn State professor Hester Blum is set to compete in @Jeopardy\\'s first-ever Professors Tournament beginning Monday, Decem…\",\"lang\":\"en\"},{\"possibly_sensitive\":false,\"public_metrics\":{\"retweet_count\":22,\"reply_count\":0,\"like_count\":0,\"quote_count\":0},\"source\":\"Twitter for Android\",\"created_at\":\"2021-12-06T16:56:54.000Z\",\"id\":\"1467900869110870018\",\"text\":\"RT @KenJennings: Half of the opinions I’ve ever had in my life are now Beatles opinions from the past week.\",\"lang\":\"en\"},{\"possibly_sensitive\":false,\"public_metrics\":{\"retweet_count\":9,\"reply_count\":0,\"like_count\":0,\"quote_count\":0},\"source\":\"Twitter for iPhone\",\"created_at\":\"2021-12-06T16:54:54.000Z\",\"id\":\"1467900367425916938\",\"text\":\"RT @HesterBlum: I now own Herman Melville’s commode (!!!!, an event this fall even more unexpected than appearing on #Jeopardy! \\\\n\\\\nHere’s ho…\",\"lang\":\"en\"},{\"possibly_sensitive\":false,\"public_metrics\":{\"retweet_count\":9,\"reply_count\":0,\"like_count\":0,\"quote_count\":0},\"source\":\"Twitter for iPhone\",\"created_at\":\"2021-12-06T16:53:28.000Z\",\"id\":\"1467900006921293826\",\"text\":\"RT @HesterBlum: I now own Herman Melville’s commode (!!!!, an event this fall even more unexpected than appearing on #Jeopardy! \\\\n\\\\nHere’s ho…\",\"lang\":\"en\"},{\"possibly_sensitive\":false,\"public_metrics\":{\"retweet_count\":48,\"reply_count\":0,\"like_count\":0,\"quote_count\":0},\"source\":\"Twitter Web App\",\"created_at\":\"2021-12-06T16:52:12.000Z\",\"id\":\"1467899687789375499\",\"text\":\"RT @Jeopardy: The #ProfessorsTournament starts Monday! Don\\'t worry – Amy Schneider will return to Jeopardy! December 20! https://t.co/hQGge…\",\"lang\":\"en\"},{\"possibly_sensitive\":false,\"public_metrics\":{\"retweet_count\":3,\"reply_count\":0,\"like_count\":31,\"quote_count\":0},\"source\":\"TweetDeck\",\"created_at\":\"2021-12-06T16:45:00.000Z\",\"id\":\"1467897875363368971\",\"text\":\"Penn State professor Hester Blum is set to compete in @Jeopardy\\'s first-ever Professors Tournament beginning Monday, December 6. https://t.co/w1IJSuwrLu\",\"lang\":\"en\"},{\"possibly_sensitive\":false,\"public_metrics\":{\"retweet_count\":0,\"reply_count\":0,\"like_count\":4,\"quote_count\":0},\"source\":\"Twitter Web App\",\"created_at\":\"2021-12-06T16:33:08.000Z\",\"id\":\"1467894889300041742\",\"text\":\"very cool interview with current #jeopardy rockstar @jeopardamy!\\\\n\\\\nhttps://t.co/4grvneoZXy\",\"lang\":\"en\"},{\"possibly_sensitive\":false,\"public_metrics\":{\"retweet_count\":0,\"reply_count\":0,\"like_count\":0,\"quote_count\":0},\"source\":\"Twitter Web App\",\"created_at\":\"2021-12-06T16:32:24.000Z\",\"id\":\"1467894706323476489\",\"text\":\"@penn_state #English #professor to appear on \\'@Jeopardy!\\' Dec. 6 | Penn State University\\\\n#HesterBlum \\\\nhttps://t.co/kS24UdietE\",\"lang\":\"en\"},{\"possibly_sensitive\":false,\"public_metrics\":{\"retweet_count\":0,\"reply_count\":0,\"like_count\":0,\"quote_count\":0},\"source\":\"Twitter for iPhone\",\"created_at\":\"2021-12-06T16:27:10.000Z\",\"id\":\"1467893387185451008\",\"text\":\"@RickORick @KenJennings Beatles as a band milked a brand new genre for everything it was worth. A better measure of success would be to look at how they did at their solos careers. Compare McCartney‘s catalog to that of Justin Timberlake. JT has way more bangers.\",\"lang\":\"en\"},{\"possibly_sensitive\":false,\"public_metrics\":{\"retweet_count\":0,\"reply_count\":1,\"like_count\":0,\"quote_count\":0},\"source\":\"Twitter for iPhone\",\"created_at\":\"2021-12-06T16:25:27.000Z\",\"id\":\"1467892955256139776\",\"text\":\"@BrianRFSU @e_haah @Jeopardy It’s a word. That’s how words work. Still too complex for you?\",\"lang\":\"en\"},{\"possibly_sensitive\":false,\"public_metrics\":{\"retweet_count\":11,\"reply_count\":0,\"like_count\":0,\"quote_count\":0},\"source\":\"Twitter for iPad\",\"created_at\":\"2021-12-06T16:22:56.000Z\",\"id\":\"1467892320796352527\",\"text\":\"RT @missmayim: Guess what! Today is the day?! Our merch store is officially unveiled &amp; our first collection is now available on https://t.c…\",\"lang\":\"en\"},{\"possibly_sensitive\":false,\"public_metrics\":{\"retweet_count\":11,\"reply_count\":0,\"like_count\":0,\"quote_count\":0},\"source\":\"Twitter for iPhone\",\"created_at\":\"2021-12-06T16:22:30.000Z\",\"id\":\"1467892212524593155\",\"attachments\":{\"media_keys\":[\"13_1462864190830305284\"]},\"text\":\"RT @Jeopardy: All you need is love … and this category about @thebeatles. https://t.co/z6RmdVbljW\",\"lang\":\"en\"},{\"possibly_sensitive\":false,\"public_metrics\":{\"retweet_count\":10,\"reply_count\":0,\"like_count\":0,\"quote_count\":0},\"source\":\"Twitter Web App\",\"created_at\":\"2021-12-06T16:16:19.000Z\",\"id\":\"1467890658044047363\",\"text\":\"RT @JArchive: We\\'re trying to add tape dates to the J! Archive!  If you were a contestant on #Jeopardy! and you remember your tape date (an…\",\"lang\":\"en\"},{\"possibly_sensitive\":false,\"public_metrics\":{\"retweet_count\":0,\"reply_count\":1,\"like_count\":0,\"quote_count\":0},\"source\":\"Twitter for iPhone\",\"created_at\":\"2021-12-06T16:12:19.000Z\",\"id\":\"1467889652338249734\",\"text\":\"@chris_ellis @e_haah @Jeopardy The desire to make up new words? I don’t know you tell me.\",\"lang\":\"en\"},{\"possibly_sensitive\":false,\"public_metrics\":{\"retweet_count\":0,\"reply_count\":0,\"like_count\":0,\"quote_count\":0},\"source\":\"Twitter Web App\",\"created_at\":\"2021-12-06T16:10:12.000Z\",\"id\":\"1467889120282169344\",\"text\":\"@joyblaker @KenJennings Loved the LOVE show!!!!!!\",\"lang\":\"en\"},{\"possibly_sensitive\":false,\"public_metrics\":{\"retweet_count\":0,\"reply_count\":0,\"like_count\":0,\"quote_count\":0},\"source\":\"Twitter Web App\",\"created_at\":\"2021-12-06T16:10:00.000Z\",\"id\":\"1467889066758721544\",\"text\":\"When in doubt, follow your heart.  @davepperlmutter @Dab10ten @BootsieBoutique @PhebeOhYes @TheCarlWeathers @missmayim @KristiOConnor_\",\"lang\":\"en\"},{\"possibly_sensitive\":false,\"public_metrics\":{\"retweet_count\":16,\"reply_count\":0,\"like_count\":0,\"quote_count\":0},\"source\":\"Twitter for iPad\",\"created_at\":\"2021-12-06T15:57:38.000Z\",\"id\":\"1467885955248005124\",\"text\":\"RT @TrevorProject: \\\\\"Although she\\'s been a fan of the quiz show for years, Schneider, who works as an engineering manager in California, sti…\",\"lang\":\"en\"},{\"possibly_sensitive\":false,\"public_metrics\":{\"retweet_count\":22,\"reply_count\":0,\"like_count\":0,\"quote_count\":0},\"source\":\"Twitter Web App\",\"created_at\":\"2021-12-06T15:56:21.000Z\",\"id\":\"1467885631103635467\",\"text\":\"RT @KenJennings: Half of the opinions I’ve ever had in my life are now Beatles opinions from the past week.\",\"lang\":\"en\"},{\"possibly_sensitive\":false,\"public_metrics\":{\"retweet_count\":0,\"reply_count\":1,\"like_count\":0,\"quote_count\":0},\"source\":\"Twitter for iPhone\",\"created_at\":\"2021-12-06T15:54:52.000Z\",\"id\":\"1467885261166198789\",\"text\":\"@BrianRFSU @e_haah @Jeopardy What prompts transphobia?\",\"lang\":\"en\"},{\"possibly_sensitive\":false,\"public_metrics\":{\"retweet_count\":1,\"reply_count\":0,\"like_count\":2,\"quote_count\":0},\"source\":\"Twitter for iPhone\",\"created_at\":\"2021-12-06T15:53:17.000Z\",\"id\":\"1467884862866604034\",\"text\":\"@EdrioBenthic @KenJennings four outsold the white album don’t even\",\"lang\":\"en\"},{\"possibly_sensitive\":false,\"public_metrics\":{\"retweet_count\":0,\"reply_count\":0,\"like_count\":1,\"quote_count\":0},\"source\":\"Twitter Web App\",\"created_at\":\"2021-12-06T15:50:39.000Z\",\"id\":\"1467884197570220035\",\"text\":\"#Jeopardy New Professors Hester Blum Bio. \\\\nhttps://t.co/svgYHF7Qx3\",\"lang\":\"en\"},{\"possibly_sensitive\":false,\"public_metrics\":{\"retweet_count\":0,\"reply_count\":0,\"like_count\":1,\"quote_count\":0},\"source\":\"Twitter Web App\",\"created_at\":\"2021-12-06T15:48:50.000Z\",\"id\":\"1467883742005841921\",\"text\":\"Jeopardy The #professorsTournament Has Started Today #Jeopardy \\\\nhttps://t.co/ytMQDyK75O\",\"lang\":\"en\"},{\"possibly_sensitive\":false,\"public_metrics\":{\"retweet_count\":1,\"reply_count\":0,\"like_count\":0,\"quote_count\":0},\"source\":\"Twitter for iPhone\",\"created_at\":\"2021-12-06T15:47:46.000Z\",\"id\":\"1467883474111680514\",\"text\":\"RT @jeopardybrian: Good luck to fellow @UMichLaw alum @dispositive in today’s debut episode of the @Jeopardy Professors Tournament!\",\"lang\":\"en\"},{\"possibly_sensitive\":false,\"public_metrics\":{\"retweet_count\":11,\"reply_count\":0,\"like_count\":0,\"quote_count\":0},\"source\":\"TweetCaster for Android\",\"created_at\":\"2021-12-06T15:43:10.000Z\",\"id\":\"1467882315858784258\",\"text\":\"RT @missmayim: Guess what! Today is the day?! Our merch store is officially unveiled &amp; our first collection is now available on https://t.c…\",\"lang\":\"en\"},{\"possibly_sensitive\":false,\"public_metrics\":{\"retweet_count\":0,\"reply_count\":1,\"like_count\":0,\"quote_count\":0},\"source\":\"Twitter for iPhone\",\"created_at\":\"2021-12-06T15:41:35.000Z\",\"id\":\"1467881916267474947\",\"text\":\"@chris_ellis @e_haah @Jeopardy No he is not. But please continue the fun.\",\"lang\":\"en\"},{\"possibly_sensitive\":false,\"public_metrics\":{\"retweet_count\":11,\"reply_count\":0,\"like_count\":0,\"quote_count\":0},\"source\":\"Twitter for Android\",\"created_at\":\"2021-12-06T15:40:25.000Z\",\"id\":\"1467881623332921347\",\"text\":\"RT @missmayim: Guess what! Today is the day?! Our merch store is officially unveiled &amp; our first collection is now available on https://t.c…\",\"lang\":\"en\"},{\"possibly_sensitive\":false,\"public_metrics\":{\"retweet_count\":0,\"reply_count\":1,\"like_count\":0,\"quote_count\":0},\"source\":\"Twitter for iPhone\",\"created_at\":\"2021-12-06T15:40:10.000Z\",\"id\":\"1467881558812024838\",\"text\":\"@BrianRFSU @e_haah @Jeopardy She is a woman. This seems complicated for you perhaps?\",\"lang\":\"en\"},{\"possibly_sensitive\":false,\"public_metrics\":{\"retweet_count\":0,\"reply_count\":0,\"like_count\":0,\"quote_count\":0},\"source\":\"Tweetbot for iΟS\",\"created_at\":\"2021-12-06T15:37:16.000Z\",\"id\":\"1467880828730499078\",\"text\":\"@missmayim @BialikBreakdown This is a killer look!! I love it completely.\",\"lang\":\"en\"},{\"possibly_sensitive\":false,\"public_metrics\":{\"retweet_count\":0,\"reply_count\":0,\"like_count\":0,\"quote_count\":0},\"source\":\"Twitter Web App\",\"created_at\":\"2021-12-06T15:33:45.000Z\",\"id\":\"1467879947159097348\",\"text\":\"@JeanmarieEvelly Have you seen @CallMeKatFOX with @missmayim?  That\\'s what it\\'s about!  #Single #CatCafe\",\"lang\":\"en\"},{\"possibly_sensitive\":false,\"public_metrics\":{\"retweet_count\":0,\"reply_count\":0,\"like_count\":0,\"quote_count\":0},\"source\":\"Twitter Web App\",\"created_at\":\"2021-12-06T15:33:41.000Z\",\"id\":\"1467879928762937349\",\"text\":\"@Jeopardy Too bad. You need to go back to retiring a player at the end of a week.\",\"lang\":\"en\"},{\"possibly_sensitive\":false,\"public_metrics\":{\"retweet_count\":8,\"reply_count\":0,\"like_count\":0,\"quote_count\":0},\"source\":\"Twitter for Android\",\"created_at\":\"2021-12-06T15:33:33.000Z\",\"id\":\"1467879896785379330\",\"text\":\"RT @missmayim: Hi everyone!\\\\n\\\\nTODAY IS THE DAY, our merch store is officially open! Make sure to head over to https://t.co/nHwKbFZ51S &amp; clic…\",\"lang\":\"en\"},{\"possibly_sensitive\":false,\"public_metrics\":{\"retweet_count\":0,\"reply_count\":0,\"like_count\":2,\"quote_count\":0},\"source\":\"Twitter for iPhone\",\"created_at\":\"2021-12-06T15:32:40.000Z\",\"id\":\"1467879671744405506\",\"text\":\"@missmayim @BialikBreakdown Have not missed 1 podcast. Now merch?!? I’ll consider it a late Hanukkah present for myself \\\\uD83D\\\\uDE0F\",\"lang\":\"en\"},{\"possibly_sensitive\":false,\"public_metrics\":{\"retweet_count\":0,\"reply_count\":0,\"like_count\":0,\"quote_count\":0},\"source\":\"Twitter for Android\",\"created_at\":\"2021-12-06T15:30:27.000Z\",\"id\":\"1467879114556198921\",\"text\":\"@missmayim @BialikBreakdown Following \\\\uD83D\\\\uDC4D\\\\uD83C\\\\uDFFE\\\\uD83D\\\\uDC4D\\\\uD83C\\\\uDFFE\\\\uD83D\\\\uDC4D\\\\uD83C\\\\uDFFE\\\\uD83D\\\\uDC4D\\\\uD83C\\\\uDFFE\\\\uD83D\\\\uDC4D\\\\uD83C\\\\uDFFE\",\"lang\":\"en\"},{\"possibly_sensitive\":false,\"public_metrics\":{\"retweet_count\":0,\"reply_count\":0,\"like_count\":3,\"quote_count\":0},\"source\":\"Twitter Web App\",\"created_at\":\"2021-12-06T15:27:44.000Z\",\"id\":\"1467878433204191238\",\"text\":\"@missmayim @BialikBreakdown so buying the brain perfect tee!\",\"lang\":\"en\"},{\"possibly_sensitive\":false,\"public_metrics\":{\"retweet_count\":11,\"reply_count\":0,\"like_count\":0,\"quote_count\":0},\"source\":\"Twitter Web App\",\"created_at\":\"2021-12-06T15:26:09.000Z\",\"id\":\"1467878031553355777\",\"text\":\"RT @missmayim: Guess what! Today is the day?! Our merch store is officially unveiled &amp; our first collection is now available on https://t.c…\",\"lang\":\"en\"},{\"possibly_sensitive\":false,\"public_metrics\":{\"retweet_count\":0,\"reply_count\":0,\"like_count\":0,\"quote_count\":0},\"source\":\"Twitter for iPhone\",\"created_at\":\"2021-12-06T15:22:00.000Z\",\"id\":\"1467876989176537103\",\"text\":\"@missmayim @BialikBreakdown Amazing achievement Mayim so proud of you \\\\uD83D\\\\uDE18xx\",\"lang\":\"en\"},{\"possibly_sensitive\":false,\"public_metrics\":{\"retweet_count\":11,\"reply_count\":0,\"like_count\":0,\"quote_count\":0},\"source\":\"Twitter for Android\",\"created_at\":\"2021-12-06T15:21:04.000Z\",\"id\":\"1467876752043266048\",\"text\":\"RT @missmayim: Guess what! Today is the day?! Our merch store is officially unveiled &amp; our first collection is now available on https://t.c…\",\"lang\":\"en\"},{\"possibly_sensitive\":false,\"public_metrics\":{\"retweet_count\":1,\"reply_count\":0,\"like_count\":0,\"quote_count\":0},\"source\":\"Twitter for Mac\",\"created_at\":\"2021-12-06T15:20:18.000Z\",\"id\":\"1467876561491836928\",\"text\":\"RT @damnarbor: Real Damn Arbor-heads won’t want to miss our very own Chief First Amendment Attorney, @dispositive, on @Jeopardy’s Tournamen…\",\"lang\":\"en\"},{\"possibly_sensitive\":false,\"public_metrics\":{\"retweet_count\":0,\"reply_count\":0,\"like_count\":0,\"quote_count\":0},\"source\":\"Twitter for Android\",\"created_at\":\"2021-12-06T15:17:52.000Z\",\"id\":\"1467875947567222786\",\"text\":\"@missmayim @BialikBreakdown Blue eyes\",\"lang\":\"en\"},{\"possibly_sensitive\":false,\"public_metrics\":{\"retweet_count\":11,\"reply_count\":0,\"like_count\":0,\"quote_count\":0},\"source\":\"Twitter for iPhone\",\"created_at\":\"2021-12-06T15:17:17.000Z\",\"id\":\"1467875799290322945\",\"text\":\"RT @missmayim: Guess what! Today is the day?! Our merch store is officially unveiled &amp; our first collection is now available on https://t.c…\",\"lang\":\"en\"},{\"possibly_sensitive\":false,\"public_metrics\":{\"retweet_count\":8,\"reply_count\":0,\"like_count\":0,\"quote_count\":0},\"source\":\"Twitter for iPhone\",\"created_at\":\"2021-12-06T15:16:46.000Z\",\"id\":\"1467875672299384837\",\"text\":\"RT @missmayim: Hi everyone!\\\\n\\\\nTODAY IS THE DAY, our merch store is officially open! Make sure to head over to https://t.co/nHwKbFZ51S &amp; clic…\",\"lang\":\"en\"},{\"possibly_sensitive\":false,\"public_metrics\":{\"retweet_count\":0,\"reply_count\":0,\"like_count\":0,\"quote_count\":0},\"source\":\"Twitter for iPhone\",\"created_at\":\"2021-12-06T15:16:21.000Z\",\"id\":\"1467875567718608898\",\"text\":\"@missmayim Hey Mayim do you deliver to the Uk \\\\uD83C\\\\uDDEC\\\\uD83C\\\\uDDE7 x\",\"lang\":\"en\"},{\"possibly_sensitive\":false,\"public_metrics\":{\"retweet_count\":8,\"reply_count\":0,\"like_count\":0,\"quote_count\":0},\"source\":\"Twitter for iPhone\",\"created_at\":\"2021-12-06T15:16:07.000Z\",\"id\":\"1467875508012597254\",\"text\":\"RT @missmayim: Hi everyone!\\\\n\\\\nTODAY IS THE DAY, our merch store is officially open! Make sure to head over to https://t.co/nHwKbFZ51S &amp; clic…\",\"lang\":\"en\"},{\"possibly_sensitive\":false,\"public_metrics\":{\"retweet_count\":8,\"reply_count\":0,\"like_count\":0,\"quote_count\":0},\"source\":\"Twitter for iPhone\",\"created_at\":\"2021-12-06T15:16:06.000Z\",\"id\":\"1467875505256939528\",\"text\":\"RT @missmayim: Hi everyone!\\\\n\\\\nTODAY IS THE DAY, our merch store is officially open! Make sure to head over to https://t.co/nHwKbFZ51S &amp; clic…\",\"lang\":\"en\"},{\"possibly_sensitive\":false,\"public_metrics\":{\"retweet_count\":8,\"reply_count\":0,\"like_count\":0,\"quote_count\":0},\"source\":\"Twitter for iPhone\",\"created_at\":\"2021-12-06T15:16:05.000Z\",\"id\":\"1467875500278403075\",\"text\":\"RT @missmayim: Hi everyone!\\\\n\\\\nTODAY IS THE DAY, our merch store is officially open! Make sure to head over to https://t.co/nHwKbFZ51S &amp; clic…\",\"lang\":\"en\"},{\"possibly_sensitive\":false,\"public_metrics\":{\"retweet_count\":0,\"reply_count\":0,\"like_count\":0,\"quote_count\":0},\"source\":\"Twitter Web App\",\"created_at\":\"2021-12-06T15:13:10.000Z\",\"id\":\"1467874764425412611\",\"text\":\"@missmayim @BialikBreakdown Congratulations.\",\"lang\":\"en\"},{\"possibly_sensitive\":false,\"public_metrics\":{\"retweet_count\":0,\"reply_count\":0,\"like_count\":1,\"quote_count\":0},\"source\":\"Twitter Web App\",\"created_at\":\"2021-12-06T15:11:04.000Z\",\"id\":\"1467874238862295041\",\"attachments\":{\"media_keys\":[\"3_1467874220772184074\"]},\"text\":\"@missmayim @BialikBreakdown Amy Farrah Fowler for the WIN!!!!!!!!!! https://t.co/QYsbEn9MHK\",\"lang\":\"en\"}],\"meta\":{\"newest_id\":\"1467929555121983490\",\"oldest_id\":\"1467874238862295041\",\"result_count\":100,\"next_token\":\"b26v89c19zqg8o3fpdy8iqb1zm01w9zr0de645p9hte2l\"}}'"
      ]
     },
     "execution_count": 36,
     "metadata": {},
     "output_type": "execute_result"
    }
   ],
   "source": [
    "response_2.text"
   ]
  },
  {
   "cell_type": "code",
   "execution_count": 37,
   "id": "115c46a3",
   "metadata": {},
   "outputs": [],
   "source": [
    "my_df = my_df.append(pd.DataFrame(json.loads(response_2.text)['data']), ignore_index= True)"
   ]
  },
  {
   "cell_type": "markdown",
   "id": "431f70f7",
   "metadata": {},
   "source": [
    "Adding the new data collected to existing data frame"
   ]
  },
  {
   "cell_type": "code",
   "execution_count": 38,
   "id": "c1fd60ff",
   "metadata": {},
   "outputs": [
    {
     "data": {
      "text/html": [
       "<div>\n",
       "<style scoped>\n",
       "    .dataframe tbody tr th:only-of-type {\n",
       "        vertical-align: middle;\n",
       "    }\n",
       "\n",
       "    .dataframe tbody tr th {\n",
       "        vertical-align: top;\n",
       "    }\n",
       "\n",
       "    .dataframe thead th {\n",
       "        text-align: right;\n",
       "    }\n",
       "</style>\n",
       "<table border=\"1\" class=\"dataframe\">\n",
       "  <thead>\n",
       "    <tr style=\"text-align: right;\">\n",
       "      <th></th>\n",
       "      <th>lang</th>\n",
       "      <th>public_metrics</th>\n",
       "      <th>id</th>\n",
       "      <th>possibly_sensitive</th>\n",
       "      <th>text</th>\n",
       "      <th>author_id</th>\n",
       "      <th>created_at</th>\n",
       "      <th>source</th>\n",
       "      <th>attachments</th>\n",
       "    </tr>\n",
       "  </thead>\n",
       "  <tbody>\n",
       "    <tr>\n",
       "      <th>0</th>\n",
       "      <td>en</td>\n",
       "      <td>{'retweet_count': 0, 'reply_count': 0, 'like_c...</td>\n",
       "      <td>1467979913923895298</td>\n",
       "      <td>False</td>\n",
       "      <td>@glaad @Jeopardamy @emilyvdw @Jeopardy Thanx f...</td>\n",
       "      <td>995446130967302144</td>\n",
       "      <td>2021-12-06T22:10:59.000Z</td>\n",
       "      <td>Twitter for iPhone</td>\n",
       "      <td>NaN</td>\n",
       "    </tr>\n",
       "    <tr>\n",
       "      <th>1</th>\n",
       "      <td>en</td>\n",
       "      <td>{'retweet_count': 0, 'reply_count': 0, 'like_c...</td>\n",
       "      <td>1467979782197592075</td>\n",
       "      <td>False</td>\n",
       "      <td>Format: 8-day first round, four profs per day,...</td>\n",
       "      <td>770293085771210752</td>\n",
       "      <td>2021-12-06T22:10:28.000Z</td>\n",
       "      <td>Twitter for iPhone</td>\n",
       "      <td>NaN</td>\n",
       "    </tr>\n",
       "    <tr>\n",
       "      <th>2</th>\n",
       "      <td>en</td>\n",
       "      <td>{'retweet_count': 0, 'reply_count': 0, 'like_c...</td>\n",
       "      <td>1467979250372431878</td>\n",
       "      <td>False</td>\n",
       "      <td>Y'all my professor is going to be a contestant...</td>\n",
       "      <td>2932977243</td>\n",
       "      <td>2021-12-06T22:08:21.000Z</td>\n",
       "      <td>Twitter for iPhone</td>\n",
       "      <td>NaN</td>\n",
       "    </tr>\n",
       "    <tr>\n",
       "      <th>3</th>\n",
       "      <td>en</td>\n",
       "      <td>{'retweet_count': 0, 'reply_count': 1, 'like_c...</td>\n",
       "      <td>1467978490758811657</td>\n",
       "      <td>False</td>\n",
       "      <td>The @Jeopardy Professors Tournament begins tod...</td>\n",
       "      <td>770293085771210752</td>\n",
       "      <td>2021-12-06T22:05:20.000Z</td>\n",
       "      <td>Twitter for iPhone</td>\n",
       "      <td>NaN</td>\n",
       "    </tr>\n",
       "    <tr>\n",
       "      <th>4</th>\n",
       "      <td>en</td>\n",
       "      <td>{'retweet_count': 0, 'reply_count': 0, 'like_c...</td>\n",
       "      <td>1467978245861691397</td>\n",
       "      <td>False</td>\n",
       "      <td>The lovely @missmayim is back hosting @jeopard...</td>\n",
       "      <td>355147215</td>\n",
       "      <td>2021-12-06T22:04:22.000Z</td>\n",
       "      <td>Twitter for Android</td>\n",
       "      <td>NaN</td>\n",
       "    </tr>\n",
       "    <tr>\n",
       "      <th>...</th>\n",
       "      <td>...</td>\n",
       "      <td>...</td>\n",
       "      <td>...</td>\n",
       "      <td>...</td>\n",
       "      <td>...</td>\n",
       "      <td>...</td>\n",
       "      <td>...</td>\n",
       "      <td>...</td>\n",
       "      <td>...</td>\n",
       "    </tr>\n",
       "    <tr>\n",
       "      <th>195</th>\n",
       "      <td>en</td>\n",
       "      <td>{'retweet_count': 8, 'reply_count': 0, 'like_c...</td>\n",
       "      <td>1467875508012597254</td>\n",
       "      <td>False</td>\n",
       "      <td>RT @missmayim: Hi everyone!\\n\\nTODAY IS THE DA...</td>\n",
       "      <td>NaN</td>\n",
       "      <td>2021-12-06T15:16:07.000Z</td>\n",
       "      <td>Twitter for iPhone</td>\n",
       "      <td>NaN</td>\n",
       "    </tr>\n",
       "    <tr>\n",
       "      <th>196</th>\n",
       "      <td>en</td>\n",
       "      <td>{'retweet_count': 8, 'reply_count': 0, 'like_c...</td>\n",
       "      <td>1467875505256939528</td>\n",
       "      <td>False</td>\n",
       "      <td>RT @missmayim: Hi everyone!\\n\\nTODAY IS THE DA...</td>\n",
       "      <td>NaN</td>\n",
       "      <td>2021-12-06T15:16:06.000Z</td>\n",
       "      <td>Twitter for iPhone</td>\n",
       "      <td>NaN</td>\n",
       "    </tr>\n",
       "    <tr>\n",
       "      <th>197</th>\n",
       "      <td>en</td>\n",
       "      <td>{'retweet_count': 8, 'reply_count': 0, 'like_c...</td>\n",
       "      <td>1467875500278403075</td>\n",
       "      <td>False</td>\n",
       "      <td>RT @missmayim: Hi everyone!\\n\\nTODAY IS THE DA...</td>\n",
       "      <td>NaN</td>\n",
       "      <td>2021-12-06T15:16:05.000Z</td>\n",
       "      <td>Twitter for iPhone</td>\n",
       "      <td>NaN</td>\n",
       "    </tr>\n",
       "    <tr>\n",
       "      <th>198</th>\n",
       "      <td>en</td>\n",
       "      <td>{'retweet_count': 0, 'reply_count': 0, 'like_c...</td>\n",
       "      <td>1467874764425412611</td>\n",
       "      <td>False</td>\n",
       "      <td>@missmayim @BialikBreakdown Congratulations.</td>\n",
       "      <td>NaN</td>\n",
       "      <td>2021-12-06T15:13:10.000Z</td>\n",
       "      <td>Twitter Web App</td>\n",
       "      <td>NaN</td>\n",
       "    </tr>\n",
       "    <tr>\n",
       "      <th>199</th>\n",
       "      <td>en</td>\n",
       "      <td>{'retweet_count': 0, 'reply_count': 0, 'like_c...</td>\n",
       "      <td>1467874238862295041</td>\n",
       "      <td>False</td>\n",
       "      <td>@missmayim @BialikBreakdown Amy Farrah Fowler ...</td>\n",
       "      <td>NaN</td>\n",
       "      <td>2021-12-06T15:11:04.000Z</td>\n",
       "      <td>Twitter Web App</td>\n",
       "      <td>{'media_keys': ['3_1467874220772184074']}</td>\n",
       "    </tr>\n",
       "  </tbody>\n",
       "</table>\n",
       "<p>200 rows × 9 columns</p>\n",
       "</div>"
      ],
      "text/plain": [
       "    lang                                     public_metrics  \\\n",
       "0     en  {'retweet_count': 0, 'reply_count': 0, 'like_c...   \n",
       "1     en  {'retweet_count': 0, 'reply_count': 0, 'like_c...   \n",
       "2     en  {'retweet_count': 0, 'reply_count': 0, 'like_c...   \n",
       "3     en  {'retweet_count': 0, 'reply_count': 1, 'like_c...   \n",
       "4     en  {'retweet_count': 0, 'reply_count': 0, 'like_c...   \n",
       "..   ...                                                ...   \n",
       "195   en  {'retweet_count': 8, 'reply_count': 0, 'like_c...   \n",
       "196   en  {'retweet_count': 8, 'reply_count': 0, 'like_c...   \n",
       "197   en  {'retweet_count': 8, 'reply_count': 0, 'like_c...   \n",
       "198   en  {'retweet_count': 0, 'reply_count': 0, 'like_c...   \n",
       "199   en  {'retweet_count': 0, 'reply_count': 0, 'like_c...   \n",
       "\n",
       "                      id  possibly_sensitive  \\\n",
       "0    1467979913923895298               False   \n",
       "1    1467979782197592075               False   \n",
       "2    1467979250372431878               False   \n",
       "3    1467978490758811657               False   \n",
       "4    1467978245861691397               False   \n",
       "..                   ...                 ...   \n",
       "195  1467875508012597254               False   \n",
       "196  1467875505256939528               False   \n",
       "197  1467875500278403075               False   \n",
       "198  1467874764425412611               False   \n",
       "199  1467874238862295041               False   \n",
       "\n",
       "                                                  text           author_id  \\\n",
       "0    @glaad @Jeopardamy @emilyvdw @Jeopardy Thanx f...  995446130967302144   \n",
       "1    Format: 8-day first round, four profs per day,...  770293085771210752   \n",
       "2    Y'all my professor is going to be a contestant...          2932977243   \n",
       "3    The @Jeopardy Professors Tournament begins tod...  770293085771210752   \n",
       "4    The lovely @missmayim is back hosting @jeopard...           355147215   \n",
       "..                                                 ...                 ...   \n",
       "195  RT @missmayim: Hi everyone!\\n\\nTODAY IS THE DA...                 NaN   \n",
       "196  RT @missmayim: Hi everyone!\\n\\nTODAY IS THE DA...                 NaN   \n",
       "197  RT @missmayim: Hi everyone!\\n\\nTODAY IS THE DA...                 NaN   \n",
       "198       @missmayim @BialikBreakdown Congratulations.                 NaN   \n",
       "199  @missmayim @BialikBreakdown Amy Farrah Fowler ...                 NaN   \n",
       "\n",
       "                   created_at               source  \\\n",
       "0    2021-12-06T22:10:59.000Z   Twitter for iPhone   \n",
       "1    2021-12-06T22:10:28.000Z   Twitter for iPhone   \n",
       "2    2021-12-06T22:08:21.000Z   Twitter for iPhone   \n",
       "3    2021-12-06T22:05:20.000Z   Twitter for iPhone   \n",
       "4    2021-12-06T22:04:22.000Z  Twitter for Android   \n",
       "..                        ...                  ...   \n",
       "195  2021-12-06T15:16:07.000Z   Twitter for iPhone   \n",
       "196  2021-12-06T15:16:06.000Z   Twitter for iPhone   \n",
       "197  2021-12-06T15:16:05.000Z   Twitter for iPhone   \n",
       "198  2021-12-06T15:13:10.000Z      Twitter Web App   \n",
       "199  2021-12-06T15:11:04.000Z      Twitter Web App   \n",
       "\n",
       "                                   attachments  \n",
       "0                                          NaN  \n",
       "1                                          NaN  \n",
       "2                                          NaN  \n",
       "3                                          NaN  \n",
       "4                                          NaN  \n",
       "..                                         ...  \n",
       "195                                        NaN  \n",
       "196                                        NaN  \n",
       "197                                        NaN  \n",
       "198                                        NaN  \n",
       "199  {'media_keys': ['3_1467874220772184074']}  \n",
       "\n",
       "[200 rows x 9 columns]"
      ]
     },
     "execution_count": 38,
     "metadata": {},
     "output_type": "execute_result"
    }
   ],
   "source": [
    "my_df"
   ]
  },
  {
   "cell_type": "code",
   "execution_count": 39,
   "id": "4a329575",
   "metadata": {},
   "outputs": [
    {
     "data": {
      "text/plain": [
       "{'newest_id': '1467979913923895298',\n",
       " 'oldest_id': '1467929873943609345',\n",
       " 'result_count': 100,\n",
       " 'next_token': 'b26v89c19zqg8o3fpdy8iseaefhfw53e8zwxxg4b94kfx'}"
      ]
     },
     "execution_count": 39,
     "metadata": {},
     "output_type": "execute_result"
    }
   ],
   "source": [
    "response_1_dict['meta']"
   ]
  },
  {
   "cell_type": "code",
   "execution_count": 40,
   "id": "f2ba32e5",
   "metadata": {},
   "outputs": [],
   "source": [
    "response_3 = requests.request(\"GET\", my_api_url_2, headers = header)"
   ]
  },
  {
   "cell_type": "code",
   "execution_count": 41,
   "id": "050fce61",
   "metadata": {},
   "outputs": [
    {
     "data": {
      "text/plain": [
       "'{\"data\":[{\"public_metrics\":{\"retweet_count\":12,\"reply_count\":0,\"like_count\":0,\"quote_count\":0},\"id\":\"1467929555121983490\",\"text\":\"RT @Jeopardy: Our first-ever #ProfessorsTournament starts TODAY! Who’s ready?! https://t.co/B9ge3wec6p\",\"created_at\":\"2021-12-06T18:50:53.000Z\",\"possibly_sensitive\":false,\"source\":\"Twitter Web App\",\"attachments\":{\"media_keys\":[\"13_1467772924123779076\"]},\"lang\":\"en\"},{\"public_metrics\":{\"retweet_count\":0,\"reply_count\":0,\"like_count\":0,\"quote_count\":0},\"id\":\"1467929098819457029\",\"text\":\"@1962Wren @CJTFOIR @SecBlinken @DeptofDefense @OIRSpox @oirdcom @SenGillibrand\\\\n@SenKamalaHarris\\\\n@ewarren\\\\n@JoeBiden\\\\n@JulianCastro\\\\n@HillaryClinton\\\\n@SenSanders\\\\n@CoryBooker\\\\n@SenSchumer\\\\n@AOC\\\\n@Ilhan\\\\n@RepRashida\\\\n@missmayim\",\"created_at\":\"2021-12-06T18:49:04.000Z\",\"possibly_sensitive\":false,\"source\":\"Twitter for iPhone\",\"lang\":\"und\"},{\"public_metrics\":{\"retweet_count\":0,\"reply_count\":0,\"like_count\":0,\"quote_count\":0},\"id\":\"1467927212200534022\",\"text\":\"@Jeopardy Sounds great!  Looks great!  Can\\'t wait to watch!\",\"created_at\":\"2021-12-06T18:41:34.000Z\",\"possibly_sensitive\":false,\"source\":\"Twitter Web App\",\"lang\":\"en\"},{\"public_metrics\":{\"retweet_count\":0,\"reply_count\":0,\"like_count\":0,\"quote_count\":0},\"id\":\"1467926945035743233\",\"text\":\"@Jeopardy Welcome back Mayim, you have been missed.\",\"created_at\":\"2021-12-06T18:40:31.000Z\",\"possibly_sensitive\":false,\"source\":\"Twitter for Android\",\"lang\":\"en\"},{\"public_metrics\":{\"retweet_count\":0,\"reply_count\":0,\"like_count\":0,\"quote_count\":0},\"id\":\"1467926500032892934\",\"text\":\".@VanderbiltLaw professor Gautam Hans competes on tonight\\'s episode of\\\\n@Jeopardy. The Professors Tournament will feature 15 educators competing for a $100,000 grand prize + a spot in the Tournament of Champions. Tune in at 5 p.m. on WZTV. \\\\uD83D\\\\uDCFAhttps://t.co/83CxYc8dCS\",\"created_at\":\"2021-12-06T18:38:45.000Z\",\"possibly_sensitive\":false,\"source\":\"TweetDeck\",\"lang\":\"en\"},{\"public_metrics\":{\"retweet_count\":43,\"reply_count\":0,\"like_count\":0,\"quote_count\":0},\"id\":\"1467926484199292928\",\"text\":\"RT @EliasToufexis: I’m impressed that Trebek pronounced my name correctly. Thanks @Jeopardy https://t.co/jaJBB3cclD\",\"created_at\":\"2021-12-06T18:38:41.000Z\",\"possibly_sensitive\":false,\"source\":\"Twitter for Android\",\"attachments\":{\"media_keys\":[\"7_1294724089865674752\"]},\"lang\":\"en\"},{\"public_metrics\":{\"retweet_count\":0,\"reply_count\":0,\"like_count\":2,\"quote_count\":0},\"id\":\"1467926136147619840\",\"text\":\"@Jeopardy The only problem with this most awesome show is Mayim. Irritating voice and her attempt at being cute and funny is unattractive. She spoils the enjoyment of this legendary show\",\"created_at\":\"2021-12-06T18:37:18.000Z\",\"possibly_sensitive\":false,\"source\":\"Twitter for iPhone\",\"lang\":\"en\"},{\"public_metrics\":{\"retweet_count\":1,\"reply_count\":0,\"like_count\":1,\"quote_count\":0},\"id\":\"1467924060080328704\",\"text\":\"This “Words in elements” category in last week’s #Jeopardy was a perfect mix of word-play and science \\\\uD83E\\\\uDDEA \\\\n\\\\nBr: this possessive pronoun\\\\nSi: this, a symbol for a program on your computer \\\\nHg: this term for a mean or scroungy dog\\\\nMn: this Asian art form\\\\nI: this Allfather\\\\n\\\\n\\\\uD83D\\\\uDC95\\\\n#STEAM\",\"created_at\":\"2021-12-06T18:29:03.000Z\",\"possibly_sensitive\":false,\"source\":\"Twitter for iPhone\",\"lang\":\"en\"},{\"public_metrics\":{\"retweet_count\":0,\"reply_count\":0,\"like_count\":0,\"quote_count\":0},\"id\":\"1467922635212214285\",\"text\":\"@Spiritcaat @nytimes @KenJennings He\\'s a LOT better then her,,,\",\"created_at\":\"2021-12-06T18:23:23.000Z\",\"possibly_sensitive\":false,\"source\":\"Twitter Web App\",\"lang\":\"en\"},{\"public_metrics\":{\"retweet_count\":9,\"reply_count\":0,\"like_count\":0,\"quote_count\":0},\"id\":\"1467922473173856263\",\"text\":\"RT @missmayim: We played #RAPIDFIRE questions with the lovely @danicamckellar on the  #bialikbreakdown podcast! \\\\uD83E\\\\uDDE0✨  #DanicaMckellar #TheWon…\",\"created_at\":\"2021-12-06T18:22:44.000Z\",\"possibly_sensitive\":false,\"source\":\"Twitter for iPhone\",\"lang\":\"en\"},{\"public_metrics\":{\"retweet_count\":48,\"reply_count\":0,\"like_count\":0,\"quote_count\":0},\"id\":\"1467922174308671491\",\"text\":\"RT @Jeopardy: The #ProfessorsTournament starts Monday! Don\\'t worry – Amy Schneider will return to Jeopardy! December 20! https://t.co/hQGge…\",\"created_at\":\"2021-12-06T18:21:33.000Z\",\"possibly_sensitive\":false,\"source\":\"Twitter for iPhone\",\"lang\":\"en\"},{\"public_metrics\":{\"retweet_count\":0,\"reply_count\":1,\"like_count\":4,\"quote_count\":0},\"id\":\"1467921512078487555\",\"text\":\"Excited to watch the first ever Prof tournament this evening on #Jeopardy.\",\"created_at\":\"2021-12-06T18:18:55.000Z\",\"possibly_sensitive\":false,\"source\":\"Twitter for iPhone\",\"lang\":\"en\"},{\"public_metrics\":{\"retweet_count\":12,\"reply_count\":0,\"like_count\":0,\"quote_count\":0},\"id\":\"1467921165171761153\",\"text\":\"RT @Jeopardy: Our first-ever #ProfessorsTournament starts TODAY! Who’s ready?! https://t.co/B9ge3wec6p\",\"created_at\":\"2021-12-06T18:17:33.000Z\",\"possibly_sensitive\":false,\"source\":\"Twitter for iPhone\",\"attachments\":{\"media_keys\":[\"13_1467772924123779076\"]},\"lang\":\"en\"},{\"public_metrics\":{\"retweet_count\":0,\"reply_count\":0,\"like_count\":1,\"quote_count\":0},\"id\":\"1467920942752010253\",\"text\":\"@OsherL @Jeopardy @NYTimesWordplay I believe the tiebreaker is amount of money going into Final Jeopardy, followed by the amount going into Double Jeopardy.\",\"created_at\":\"2021-12-06T18:16:40.000Z\",\"possibly_sensitive\":false,\"source\":\"Twitter Web App\",\"lang\":\"en\"},{\"public_metrics\":{\"retweet_count\":0,\"reply_count\":0,\"like_count\":2,\"quote_count\":0},\"id\":\"1467920772127543299\",\"text\":\"@Jeopardy @missmayim so happy to see you\\'re back hosting this ultimate egghead challenge!\",\"created_at\":\"2021-12-06T18:15:59.000Z\",\"possibly_sensitive\":false,\"source\":\"Twitter for Android\",\"lang\":\"en\"},{\"public_metrics\":{\"retweet_count\":0,\"reply_count\":0,\"like_count\":0,\"quote_count\":0},\"id\":\"1467919329396101122\",\"text\":\"@Jeopardy Go Prof. Buttrey!\",\"created_at\":\"2021-12-06T18:10:15.000Z\",\"possibly_sensitive\":false,\"source\":\"Twitter Web App\",\"lang\":\"en\"},{\"public_metrics\":{\"retweet_count\":12,\"reply_count\":0,\"like_count\":0,\"quote_count\":0},\"id\":\"1467918472114053130\",\"text\":\"RT @Jeopardy: Our first-ever #ProfessorsTournament starts TODAY! Who’s ready?! https://t.co/B9ge3wec6p\",\"created_at\":\"2021-12-06T18:06:51.000Z\",\"possibly_sensitive\":false,\"source\":\"Twitter Web App\",\"attachments\":{\"media_keys\":[\"13_1467772924123779076\"]},\"lang\":\"en\"},{\"public_metrics\":{\"retweet_count\":0,\"reply_count\":0,\"like_count\":0,\"quote_count\":0},\"id\":\"1467918340802945024\",\"text\":\"@Jeopardy Thank you because Amy must return!\",\"created_at\":\"2021-12-06T18:06:19.000Z\",\"possibly_sensitive\":false,\"source\":\"Twitter for Android\",\"lang\":\"en\"},{\"public_metrics\":{\"retweet_count\":12,\"reply_count\":0,\"like_count\":0,\"quote_count\":0},\"id\":\"1467917605113638913\",\"text\":\"RT @Jeopardy: Our first-ever #ProfessorsTournament starts TODAY! Who’s ready?! https://t.co/B9ge3wec6p\",\"created_at\":\"2021-12-06T18:03:24.000Z\",\"possibly_sensitive\":true,\"source\":\"Twitter for iPhone\",\"attachments\":{\"media_keys\":[\"13_1467772924123779076\"]},\"lang\":\"en\"},{\"public_metrics\":{\"retweet_count\":0,\"reply_count\":0,\"like_count\":1,\"quote_count\":0},\"id\":\"1467917513631563780\",\"text\":\"@Jeopardy Excited to watch this!\",\"created_at\":\"2021-12-06T18:03:02.000Z\",\"possibly_sensitive\":false,\"source\":\"Twitter for iPad\",\"lang\":\"en\"},{\"public_metrics\":{\"retweet_count\":0,\"reply_count\":0,\"like_count\":4,\"quote_count\":0},\"id\":\"1467917064279109632\",\"text\":\"@Jeopardy I am. I love her as an host.\",\"created_at\":\"2021-12-06T18:01:15.000Z\",\"possibly_sensitive\":false,\"source\":\"Twitter for Android\",\"lang\":\"en\"},{\"public_metrics\":{\"retweet_count\":0,\"reply_count\":0,\"like_count\":0,\"quote_count\":0},\"id\":\"1467917039725694982\",\"text\":\"@Jeopardy Ring me up for the next one.\",\"created_at\":\"2021-12-06T18:01:09.000Z\",\"possibly_sensitive\":false,\"source\":\"Twitter Web App\",\"lang\":\"en\"},{\"public_metrics\":{\"retweet_count\":12,\"reply_count\":0,\"like_count\":0,\"quote_count\":0},\"id\":\"1467917007131713543\",\"text\":\"RT @Jeopardy: Our first-ever #ProfessorsTournament starts TODAY! Who’s ready?! https://t.co/B9ge3wec6p\",\"created_at\":\"2021-12-06T18:01:01.000Z\",\"possibly_sensitive\":false,\"source\":\"Twitter for iPhone\",\"attachments\":{\"media_keys\":[\"13_1467772924123779076\"]},\"lang\":\"en\"},{\"public_metrics\":{\"retweet_count\":12,\"reply_count\":0,\"like_count\":0,\"quote_count\":0},\"id\":\"1467916898268585986\",\"text\":\"RT @Jeopardy: Our first-ever #ProfessorsTournament starts TODAY! Who’s ready?! https://t.co/B9ge3wec6p\",\"created_at\":\"2021-12-06T18:00:35.000Z\",\"possibly_sensitive\":false,\"source\":\"Twitter for iPhone\",\"attachments\":{\"media_keys\":[\"13_1467772924123779076\"]},\"lang\":\"en\"},{\"public_metrics\":{\"retweet_count\":4,\"reply_count\":0,\"like_count\":0,\"quote_count\":0},\"id\":\"1467916169126547460\",\"text\":\"RT @TheBlastNews: Fans Of Mayim Bialik Just Got Some Great News! #Jeopardy\\\\nhttps://t.co/1elvuu9ebp\",\"created_at\":\"2021-12-06T17:57:41.000Z\",\"possibly_sensitive\":false,\"source\":\"Twitter for iPhone\",\"lang\":\"en\"},{\"public_metrics\":{\"retweet_count\":5,\"reply_count\":0,\"like_count\":0,\"quote_count\":0},\"id\":\"1467916009096941568\",\"text\":\"RT @VanderbiltU: Reminder! Tune in on Dec. 6 as @VanderbiltLaw professor and long-time @Jeopardy fan Gautam Hans competes in the show’s ina…\",\"created_at\":\"2021-12-06T17:57:03.000Z\",\"possibly_sensitive\":false,\"source\":\"Twitter Web App\",\"lang\":\"en\"},{\"public_metrics\":{\"retweet_count\":23,\"reply_count\":0,\"like_count\":0,\"quote_count\":0},\"id\":\"1467916002159640578\",\"text\":\"RT @missmayim: Hi everyone! It’s finally happening! Our merch store will be open on https://t.co/nHwKbFZ51S on Monday December 6th! Be sure…\",\"created_at\":\"2021-12-06T17:57:02.000Z\",\"possibly_sensitive\":false,\"source\":\"Twitter for iPhone\",\"lang\":\"en\"},{\"public_metrics\":{\"retweet_count\":5,\"reply_count\":0,\"like_count\":0,\"quote_count\":0},\"id\":\"1467915920312086529\",\"text\":\"RT @VanderbiltU: Reminder! Tune in on Dec. 6 as @VanderbiltLaw professor and long-time @Jeopardy fan Gautam Hans competes in the show’s ina…\",\"created_at\":\"2021-12-06T17:56:42.000Z\",\"possibly_sensitive\":false,\"source\":\"Twitter for iPhone\",\"lang\":\"en\"},{\"public_metrics\":{\"retweet_count\":1,\"reply_count\":0,\"like_count\":0,\"quote_count\":0},\"id\":\"1467915796714180613\",\"text\":\"RT @amodiorry: @EdrioBenthic @KenJennings four outsold the white album don’t even\",\"created_at\":\"2021-12-06T17:56:13.000Z\",\"possibly_sensitive\":false,\"source\":\"Twitter for iPhone\",\"lang\":\"en\"},{\"public_metrics\":{\"retweet_count\":0,\"reply_count\":0,\"like_count\":0,\"quote_count\":0},\"id\":\"1467915314088144896\",\"text\":\"@missmayim @BialikBreakdown I will try to make the time to get to see your store.\",\"created_at\":\"2021-12-06T17:54:18.000Z\",\"possibly_sensitive\":false,\"source\":\"Twitter for Android\",\"lang\":\"en\"},{\"public_metrics\":{\"retweet_count\":0,\"reply_count\":0,\"like_count\":0,\"quote_count\":0},\"id\":\"1467914875305435148\",\"text\":\"Vanderbilt represent on Jeopardy! tonight with host @missmayim https://t.co/ZrsiZ9aNLb\",\"created_at\":\"2021-12-06T17:52:33.000Z\",\"possibly_sensitive\":false,\"source\":\"Twitter Web App\",\"lang\":\"en\"},{\"public_metrics\":{\"retweet_count\":0,\"reply_count\":0,\"like_count\":0,\"quote_count\":0},\"id\":\"1467914403769204737\",\"text\":\"@missmayim @BialikBreakdown U cute like a button or magnet lol\",\"created_at\":\"2021-12-06T17:50:41.000Z\",\"possibly_sensitive\":false,\"source\":\"Twitter Web App\",\"lang\":\"en\"},{\"public_metrics\":{\"retweet_count\":15,\"reply_count\":0,\"like_count\":0,\"quote_count\":0},\"id\":\"1467914102995660803\",\"text\":\"RT @missmayim: Hey, everyone, I’m Jonathan &amp; I’m the co-host of Mayim Bialik’s Breakdown. (I’m the funnier one, trust me.) We have a merch…\",\"created_at\":\"2021-12-06T17:49:29.000Z\",\"possibly_sensitive\":false,\"source\":\"Twitter for iPhone\",\"lang\":\"en\"},{\"public_metrics\":{\"retweet_count\":5,\"reply_count\":0,\"like_count\":0,\"quote_count\":0},\"id\":\"1467913595547697152\",\"text\":\"RT @VanderbiltU: Reminder! Tune in on Dec. 6 as @VanderbiltLaw professor and long-time @Jeopardy fan Gautam Hans competes in the show’s ina…\",\"created_at\":\"2021-12-06T17:47:28.000Z\",\"possibly_sensitive\":false,\"source\":\"Twitter for Android\",\"lang\":\"en\"},{\"public_metrics\":{\"retweet_count\":5,\"reply_count\":0,\"like_count\":27,\"quote_count\":1},\"id\":\"1467913413288411139\",\"text\":\"Reminder! Tune in on Dec. 6 as @VanderbiltLaw professor and long-time @Jeopardy fan Gautam Hans competes in the show’s inaugural “Professors Tournament.\\\\\"\\\\n\\\\nLearn more about @dispositive, who once dressed up as Alex Trebek for Halloween in third grade ⬇️\\\\nhttps://t.co/jhRBlkXqGa\",\"created_at\":\"2021-12-06T17:46:44.000Z\",\"possibly_sensitive\":false,\"source\":\"Twitter Web App\",\"lang\":\"en\"},{\"public_metrics\":{\"retweet_count\":0,\"reply_count\":0,\"like_count\":0,\"quote_count\":0},\"id\":\"1467912640475242496\",\"text\":\"@SoCalTaxProf @vanderbiltlaw @Jeopardy Do you know how they were selected?\",\"created_at\":\"2021-12-06T17:43:40.000Z\",\"possibly_sensitive\":false,\"source\":\"Twitter Web App\",\"lang\":\"en\"},{\"public_metrics\":{\"retweet_count\":3,\"reply_count\":0,\"like_count\":0,\"quote_count\":0},\"id\":\"1467912625463963653\",\"text\":\"RT @OnwardState: Penn State professor Hester Blum is set to compete in @Jeopardy\\'s first-ever Professors Tournament beginning Monday, Decem…\",\"created_at\":\"2021-12-06T17:43:37.000Z\",\"possibly_sensitive\":false,\"source\":\"Twitter Web App\",\"lang\":\"en\"},{\"public_metrics\":{\"retweet_count\":3,\"reply_count\":0,\"like_count\":0,\"quote_count\":0},\"id\":\"1467911943155503104\",\"text\":\"RT @OnwardState: Penn State professor Hester Blum is set to compete in @Jeopardy\\'s first-ever Professors Tournament beginning Monday, Decem…\",\"created_at\":\"2021-12-06T17:40:54.000Z\",\"possibly_sensitive\":false,\"source\":\"Twitter for iPhone\",\"lang\":\"en\"},{\"public_metrics\":{\"retweet_count\":0,\"reply_count\":0,\"like_count\":2,\"quote_count\":0},\"id\":\"1467911851098968066\",\"text\":\"@LindenmuthWendi @missmayim \\\\uD83D\\\\uDE0E\",\"created_at\":\"2021-12-06T17:40:32.000Z\",\"possibly_sensitive\":false,\"source\":\"Twitter for iPhone\",\"lang\":\"und\"},{\"public_metrics\":{\"retweet_count\":769,\"reply_count\":0,\"like_count\":0,\"quote_count\":0},\"id\":\"1467911763794575369\",\"text\":\"RT @missmayim: Could his face be cuter? NO IT COULD NOT. #JimParsons ❤️ https://t.co/mKActQwlZH\",\"created_at\":\"2021-12-06T17:40:11.000Z\",\"possibly_sensitive\":false,\"source\":\"Twitter for iPhone\",\"attachments\":{\"media_keys\":[\"3_963528381848436737\"]},\"lang\":\"en\"},{\"public_metrics\":{\"retweet_count\":0,\"reply_count\":1,\"like_count\":0,\"quote_count\":0},\"id\":\"1467911725794177036\",\"text\":\".@vanderbiltlaw Professor To Appear On @Jeopardy Tonight https://t.co/dPA2FPEEqF https://t.co/Eu3NtRH2Fr\",\"created_at\":\"2021-12-06T17:40:02.000Z\",\"possibly_sensitive\":false,\"source\":\"Hootsuite Inc.\",\"attachments\":{\"media_keys\":[\"3_1467911723520774148\"]},\"lang\":\"en\"},{\"public_metrics\":{\"retweet_count\":0,\"reply_count\":0,\"like_count\":0,\"quote_count\":0},\"id\":\"1467910993661493248\",\"text\":\"@Jeopardy We quit watching Jeopardy! when Ken Jennings came back as host and we won\\'t watch it again till he\\'s gone.  Looks like we haven\\'t missed much!!!\",\"created_at\":\"2021-12-06T17:37:08.000Z\",\"possibly_sensitive\":false,\"source\":\"Twitter Web App\",\"lang\":\"en\"},{\"public_metrics\":{\"retweet_count\":0,\"reply_count\":0,\"like_count\":0,\"quote_count\":0},\"id\":\"1467909536065404932\",\"text\":\"@KenJennings So, I guess back in the \\'90s this was a thing ... with a Very Special Guest Star!\\\\nhttps://t.co/13pqyM1dtq\",\"created_at\":\"2021-12-06T17:31:20.000Z\",\"possibly_sensitive\":false,\"source\":\"Twitter Web App\",\"lang\":\"en\"},{\"public_metrics\":{\"retweet_count\":8,\"reply_count\":0,\"like_count\":0,\"quote_count\":0},\"id\":\"1467906653039341575\",\"text\":\"RT @missmayim: Hi everyone!\\\\n\\\\nTODAY IS THE DAY, our merch store is officially open! Make sure to head over to https://t.co/nHwKbFZ51S &amp; clic…\",\"created_at\":\"2021-12-06T17:19:53.000Z\",\"possibly_sensitive\":false,\"source\":\"Twitter for iPhone\",\"lang\":\"en\"},{\"public_metrics\":{\"retweet_count\":11,\"reply_count\":0,\"like_count\":0,\"quote_count\":0},\"id\":\"1467906631228956685\",\"text\":\"RT @missmayim: Guess what! Today is the day?! Our merch store is officially unveiled &amp; our first collection is now available on https://t.c…\",\"created_at\":\"2021-12-06T17:19:47.000Z\",\"possibly_sensitive\":false,\"source\":\"Twitter for iPhone\",\"lang\":\"en\"},{\"public_metrics\":{\"retweet_count\":8,\"reply_count\":0,\"like_count\":0,\"quote_count\":0},\"id\":\"1467905139411681280\",\"text\":\"RT @missmayim: Hi everyone!\\\\n\\\\nTODAY IS THE DAY, our merch store is officially open! Make sure to head over to https://t.co/nHwKbFZ51S &amp; clic…\",\"created_at\":\"2021-12-06T17:13:52.000Z\",\"possibly_sensitive\":false,\"source\":\"Twitter for Android\",\"lang\":\"en\"},{\"public_metrics\":{\"retweet_count\":11,\"reply_count\":0,\"like_count\":0,\"quote_count\":0},\"id\":\"1467905126589669376\",\"text\":\"RT @missmayim: Guess what! Today is the day?! Our merch store is officially unveiled &amp; our first collection is now available on https://t.c…\",\"created_at\":\"2021-12-06T17:13:49.000Z\",\"possibly_sensitive\":false,\"source\":\"Twitter for Android\",\"lang\":\"en\"},{\"public_metrics\":{\"retweet_count\":0,\"reply_count\":0,\"like_count\":0,\"quote_count\":0},\"id\":\"1467904397019697159\",\"text\":\"Answer... the other daily double! #jeopardy\",\"created_at\":\"2021-12-06T17:10:55.000Z\",\"possibly_sensitive\":false,\"source\":\"AlexTrebot\",\"lang\":\"en\"},{\"public_metrics\":{\"retweet_count\":28,\"reply_count\":0,\"like_count\":0,\"quote_count\":0},\"id\":\"1467903818293604354\",\"text\":\"RT @AmodioMatt: I was so proud to take part in the #MillionDollarChallenge charity for @StJude. Not only did we meet the original goal, but…\",\"created_at\":\"2021-12-06T17:08:37.000Z\",\"possibly_sensitive\":false,\"source\":\"Twitter for Android\",\"lang\":\"en\"},{\"public_metrics\":{\"retweet_count\":1,\"reply_count\":0,\"like_count\":0,\"quote_count\":0},\"id\":\"1467903153521631236\",\"text\":\"RT @NPSfoundation: Be sure to watch and cheer on @NPS_Monterey  professor of operations research, Sam Buttrey on @Jeopardy \\'s inaugural Pro…\",\"created_at\":\"2021-12-06T17:05:58.000Z\",\"possibly_sensitive\":false,\"source\":\"Twitter Web App\",\"lang\":\"en\"},{\"public_metrics\":{\"retweet_count\":1,\"reply_count\":0,\"like_count\":7,\"quote_count\":0},\"id\":\"1467902938161061900\",\"text\":\"Be sure to watch and cheer on @NPS_Monterey  professor of operations research, Sam Buttrey on @Jeopardy \\'s inaugural Professors Tournament starting tonight on @CBS. Buttrey will compete with 14 educators for a $100k grand prize and a spot in the Tournament of Champions. #NPS https://t.co/aRyUUf9UIJ\",\"created_at\":\"2021-12-06T17:05:07.000Z\",\"possibly_sensitive\":false,\"source\":\"Hootsuite Inc.\",\"attachments\":{\"media_keys\":[\"3_1467902936919457794\"]},\"lang\":\"en\"},{\"public_metrics\":{\"retweet_count\":0,\"reply_count\":0,\"like_count\":0,\"quote_count\":0},\"id\":\"1467902136705064971\",\"text\":\"@chris_ellis @e_haah @Jeopardy Words work based on what you decide they mean? What do you do with such power?\",\"created_at\":\"2021-12-06T17:01:56.000Z\",\"possibly_sensitive\":false,\"source\":\"Twitter for iPhone\",\"lang\":\"en\"},{\"public_metrics\":{\"retweet_count\":0,\"reply_count\":0,\"like_count\":1,\"quote_count\":0},\"id\":\"1467901946157744140\",\"text\":\"Don\\'t forget to watch @Jeopardy! tonight to catch @vanderbiltlaw Professor Gautam Hans on the show\\'s inaugural Professors Tournament! Professor Hans is pro on First Amendment Law + tech policy \\\\uD83D\\\\uDE4C\\\\uD83D\\\\uDE4C\\\\n\\\\nhttps://t.co/kudByuxoeI\",\"created_at\":\"2021-12-06T17:01:10.000Z\",\"possibly_sensitive\":false,\"source\":\"Twitter Web App\",\"lang\":\"en\"},{\"public_metrics\":{\"retweet_count\":3,\"reply_count\":0,\"like_count\":0,\"quote_count\":0},\"id\":\"1467900947502448647\",\"text\":\"RT @OnwardState: Penn State professor Hester Blum is set to compete in @Jeopardy\\'s first-ever Professors Tournament beginning Monday, Decem…\",\"created_at\":\"2021-12-06T16:57:12.000Z\",\"possibly_sensitive\":false,\"source\":\"Twitter Web App\",\"lang\":\"en\"},{\"public_metrics\":{\"retweet_count\":22,\"reply_count\":0,\"like_count\":0,\"quote_count\":0},\"id\":\"1467900869110870018\",\"text\":\"RT @KenJennings: Half of the opinions I’ve ever had in my life are now Beatles opinions from the past week.\",\"created_at\":\"2021-12-06T16:56:54.000Z\",\"possibly_sensitive\":false,\"source\":\"Twitter for Android\",\"lang\":\"en\"},{\"public_metrics\":{\"retweet_count\":9,\"reply_count\":0,\"like_count\":0,\"quote_count\":0},\"id\":\"1467900367425916938\",\"text\":\"RT @HesterBlum: I now own Herman Melville’s commode (!!!!, an event this fall even more unexpected than appearing on #Jeopardy! \\\\n\\\\nHere’s ho…\",\"created_at\":\"2021-12-06T16:54:54.000Z\",\"possibly_sensitive\":false,\"source\":\"Twitter for iPhone\",\"lang\":\"en\"},{\"public_metrics\":{\"retweet_count\":9,\"reply_count\":0,\"like_count\":0,\"quote_count\":0},\"id\":\"1467900006921293826\",\"text\":\"RT @HesterBlum: I now own Herman Melville’s commode (!!!!, an event this fall even more unexpected than appearing on #Jeopardy! \\\\n\\\\nHere’s ho…\",\"created_at\":\"2021-12-06T16:53:28.000Z\",\"possibly_sensitive\":false,\"source\":\"Twitter for iPhone\",\"lang\":\"en\"},{\"public_metrics\":{\"retweet_count\":48,\"reply_count\":0,\"like_count\":0,\"quote_count\":0},\"id\":\"1467899687789375499\",\"text\":\"RT @Jeopardy: The #ProfessorsTournament starts Monday! Don\\'t worry – Amy Schneider will return to Jeopardy! December 20! https://t.co/hQGge…\",\"created_at\":\"2021-12-06T16:52:12.000Z\",\"possibly_sensitive\":false,\"source\":\"Twitter Web App\",\"lang\":\"en\"},{\"public_metrics\":{\"retweet_count\":3,\"reply_count\":0,\"like_count\":31,\"quote_count\":0},\"id\":\"1467897875363368971\",\"text\":\"Penn State professor Hester Blum is set to compete in @Jeopardy\\'s first-ever Professors Tournament beginning Monday, December 6. https://t.co/w1IJSuwrLu\",\"created_at\":\"2021-12-06T16:45:00.000Z\",\"possibly_sensitive\":false,\"source\":\"TweetDeck\",\"lang\":\"en\"},{\"public_metrics\":{\"retweet_count\":0,\"reply_count\":0,\"like_count\":4,\"quote_count\":0},\"id\":\"1467894889300041742\",\"text\":\"very cool interview with current #jeopardy rockstar @jeopardamy!\\\\n\\\\nhttps://t.co/4grvneoZXy\",\"created_at\":\"2021-12-06T16:33:08.000Z\",\"possibly_sensitive\":false,\"source\":\"Twitter Web App\",\"lang\":\"en\"},{\"public_metrics\":{\"retweet_count\":0,\"reply_count\":0,\"like_count\":0,\"quote_count\":0},\"id\":\"1467894706323476489\",\"text\":\"@penn_state #English #professor to appear on \\'@Jeopardy!\\' Dec. 6 | Penn State University\\\\n#HesterBlum \\\\nhttps://t.co/kS24UdietE\",\"created_at\":\"2021-12-06T16:32:24.000Z\",\"possibly_sensitive\":false,\"source\":\"Twitter Web App\",\"lang\":\"en\"},{\"public_metrics\":{\"retweet_count\":0,\"reply_count\":0,\"like_count\":0,\"quote_count\":0},\"id\":\"1467893387185451008\",\"text\":\"@RickORick @KenJennings Beatles as a band milked a brand new genre for everything it was worth. A better measure of success would be to look at how they did at their solos careers. Compare McCartney‘s catalog to that of Justin Timberlake. JT has way more bangers.\",\"created_at\":\"2021-12-06T16:27:10.000Z\",\"possibly_sensitive\":false,\"source\":\"Twitter for iPhone\",\"lang\":\"en\"},{\"public_metrics\":{\"retweet_count\":0,\"reply_count\":1,\"like_count\":0,\"quote_count\":0},\"id\":\"1467892955256139776\",\"text\":\"@BrianRFSU @e_haah @Jeopardy It’s a word. That’s how words work. Still too complex for you?\",\"created_at\":\"2021-12-06T16:25:27.000Z\",\"possibly_sensitive\":false,\"source\":\"Twitter for iPhone\",\"lang\":\"en\"},{\"public_metrics\":{\"retweet_count\":11,\"reply_count\":0,\"like_count\":0,\"quote_count\":0},\"id\":\"1467892320796352527\",\"text\":\"RT @missmayim: Guess what! Today is the day?! Our merch store is officially unveiled &amp; our first collection is now available on https://t.c…\",\"created_at\":\"2021-12-06T16:22:56.000Z\",\"possibly_sensitive\":false,\"source\":\"Twitter for iPad\",\"lang\":\"en\"},{\"public_metrics\":{\"retweet_count\":11,\"reply_count\":0,\"like_count\":0,\"quote_count\":0},\"id\":\"1467892212524593155\",\"text\":\"RT @Jeopardy: All you need is love … and this category about @thebeatles. https://t.co/z6RmdVbljW\",\"created_at\":\"2021-12-06T16:22:30.000Z\",\"possibly_sensitive\":false,\"source\":\"Twitter for iPhone\",\"attachments\":{\"media_keys\":[\"13_1462864190830305284\"]},\"lang\":\"en\"},{\"public_metrics\":{\"retweet_count\":10,\"reply_count\":0,\"like_count\":0,\"quote_count\":0},\"id\":\"1467890658044047363\",\"text\":\"RT @JArchive: We\\'re trying to add tape dates to the J! Archive!  If you were a contestant on #Jeopardy! and you remember your tape date (an…\",\"created_at\":\"2021-12-06T16:16:19.000Z\",\"possibly_sensitive\":false,\"source\":\"Twitter Web App\",\"lang\":\"en\"},{\"public_metrics\":{\"retweet_count\":0,\"reply_count\":1,\"like_count\":0,\"quote_count\":0},\"id\":\"1467889652338249734\",\"text\":\"@chris_ellis @e_haah @Jeopardy The desire to make up new words? I don’t know you tell me.\",\"created_at\":\"2021-12-06T16:12:19.000Z\",\"possibly_sensitive\":false,\"source\":\"Twitter for iPhone\",\"lang\":\"en\"},{\"public_metrics\":{\"retweet_count\":0,\"reply_count\":0,\"like_count\":0,\"quote_count\":0},\"id\":\"1467889120282169344\",\"text\":\"@joyblaker @KenJennings Loved the LOVE show!!!!!!\",\"created_at\":\"2021-12-06T16:10:12.000Z\",\"possibly_sensitive\":false,\"source\":\"Twitter Web App\",\"lang\":\"en\"},{\"public_metrics\":{\"retweet_count\":0,\"reply_count\":0,\"like_count\":0,\"quote_count\":0},\"id\":\"1467889066758721544\",\"text\":\"When in doubt, follow your heart.  @davepperlmutter @Dab10ten @BootsieBoutique @PhebeOhYes @TheCarlWeathers @missmayim @KristiOConnor_\",\"created_at\":\"2021-12-06T16:10:00.000Z\",\"possibly_sensitive\":false,\"source\":\"Twitter Web App\",\"lang\":\"en\"},{\"public_metrics\":{\"retweet_count\":16,\"reply_count\":0,\"like_count\":0,\"quote_count\":0},\"id\":\"1467885955248005124\",\"text\":\"RT @TrevorProject: \\\\\"Although she\\'s been a fan of the quiz show for years, Schneider, who works as an engineering manager in California, sti…\",\"created_at\":\"2021-12-06T15:57:38.000Z\",\"possibly_sensitive\":false,\"source\":\"Twitter for iPad\",\"lang\":\"en\"},{\"public_metrics\":{\"retweet_count\":22,\"reply_count\":0,\"like_count\":0,\"quote_count\":0},\"id\":\"1467885631103635467\",\"text\":\"RT @KenJennings: Half of the opinions I’ve ever had in my life are now Beatles opinions from the past week.\",\"created_at\":\"2021-12-06T15:56:21.000Z\",\"possibly_sensitive\":false,\"source\":\"Twitter Web App\",\"lang\":\"en\"},{\"public_metrics\":{\"retweet_count\":0,\"reply_count\":1,\"like_count\":0,\"quote_count\":0},\"id\":\"1467885261166198789\",\"text\":\"@BrianRFSU @e_haah @Jeopardy What prompts transphobia?\",\"created_at\":\"2021-12-06T15:54:52.000Z\",\"possibly_sensitive\":false,\"source\":\"Twitter for iPhone\",\"lang\":\"en\"},{\"public_metrics\":{\"retweet_count\":1,\"reply_count\":0,\"like_count\":2,\"quote_count\":0},\"id\":\"1467884862866604034\",\"text\":\"@EdrioBenthic @KenJennings four outsold the white album don’t even\",\"created_at\":\"2021-12-06T15:53:17.000Z\",\"possibly_sensitive\":false,\"source\":\"Twitter for iPhone\",\"lang\":\"en\"},{\"public_metrics\":{\"retweet_count\":0,\"reply_count\":0,\"like_count\":1,\"quote_count\":0},\"id\":\"1467884197570220035\",\"text\":\"#Jeopardy New Professors Hester Blum Bio. \\\\nhttps://t.co/svgYHF7Qx3\",\"created_at\":\"2021-12-06T15:50:39.000Z\",\"possibly_sensitive\":false,\"source\":\"Twitter Web App\",\"lang\":\"en\"},{\"public_metrics\":{\"retweet_count\":0,\"reply_count\":0,\"like_count\":1,\"quote_count\":0},\"id\":\"1467883742005841921\",\"text\":\"Jeopardy The #professorsTournament Has Started Today #Jeopardy \\\\nhttps://t.co/ytMQDyK75O\",\"created_at\":\"2021-12-06T15:48:50.000Z\",\"possibly_sensitive\":false,\"source\":\"Twitter Web App\",\"lang\":\"en\"},{\"public_metrics\":{\"retweet_count\":1,\"reply_count\":0,\"like_count\":0,\"quote_count\":0},\"id\":\"1467883474111680514\",\"text\":\"RT @jeopardybrian: Good luck to fellow @UMichLaw alum @dispositive in today’s debut episode of the @Jeopardy Professors Tournament!\",\"created_at\":\"2021-12-06T15:47:46.000Z\",\"possibly_sensitive\":false,\"source\":\"Twitter for iPhone\",\"lang\":\"en\"},{\"public_metrics\":{\"retweet_count\":11,\"reply_count\":0,\"like_count\":0,\"quote_count\":0},\"id\":\"1467882315858784258\",\"text\":\"RT @missmayim: Guess what! Today is the day?! Our merch store is officially unveiled &amp; our first collection is now available on https://t.c…\",\"created_at\":\"2021-12-06T15:43:10.000Z\",\"possibly_sensitive\":false,\"source\":\"TweetCaster for Android\",\"lang\":\"en\"},{\"public_metrics\":{\"retweet_count\":0,\"reply_count\":1,\"like_count\":0,\"quote_count\":0},\"id\":\"1467881916267474947\",\"text\":\"@chris_ellis @e_haah @Jeopardy No he is not. But please continue the fun.\",\"created_at\":\"2021-12-06T15:41:35.000Z\",\"possibly_sensitive\":false,\"source\":\"Twitter for iPhone\",\"lang\":\"en\"},{\"public_metrics\":{\"retweet_count\":11,\"reply_count\":0,\"like_count\":0,\"quote_count\":0},\"id\":\"1467881623332921347\",\"text\":\"RT @missmayim: Guess what! Today is the day?! Our merch store is officially unveiled &amp; our first collection is now available on https://t.c…\",\"created_at\":\"2021-12-06T15:40:25.000Z\",\"possibly_sensitive\":false,\"source\":\"Twitter for Android\",\"lang\":\"en\"},{\"public_metrics\":{\"retweet_count\":0,\"reply_count\":1,\"like_count\":0,\"quote_count\":0},\"id\":\"1467881558812024838\",\"text\":\"@BrianRFSU @e_haah @Jeopardy She is a woman. This seems complicated for you perhaps?\",\"created_at\":\"2021-12-06T15:40:10.000Z\",\"possibly_sensitive\":false,\"source\":\"Twitter for iPhone\",\"lang\":\"en\"},{\"public_metrics\":{\"retweet_count\":0,\"reply_count\":0,\"like_count\":0,\"quote_count\":0},\"id\":\"1467880828730499078\",\"text\":\"@missmayim @BialikBreakdown This is a killer look!! I love it completely.\",\"created_at\":\"2021-12-06T15:37:16.000Z\",\"possibly_sensitive\":false,\"source\":\"Tweetbot for iΟS\",\"lang\":\"en\"},{\"public_metrics\":{\"retweet_count\":0,\"reply_count\":0,\"like_count\":0,\"quote_count\":0},\"id\":\"1467879947159097348\",\"text\":\"@JeanmarieEvelly Have you seen @CallMeKatFOX with @missmayim?  That\\'s what it\\'s about!  #Single #CatCafe\",\"created_at\":\"2021-12-06T15:33:45.000Z\",\"possibly_sensitive\":false,\"source\":\"Twitter Web App\",\"lang\":\"en\"},{\"public_metrics\":{\"retweet_count\":0,\"reply_count\":0,\"like_count\":0,\"quote_count\":0},\"id\":\"1467879928762937349\",\"text\":\"@Jeopardy Too bad. You need to go back to retiring a player at the end of a week.\",\"created_at\":\"2021-12-06T15:33:41.000Z\",\"possibly_sensitive\":false,\"source\":\"Twitter Web App\",\"lang\":\"en\"},{\"public_metrics\":{\"retweet_count\":8,\"reply_count\":0,\"like_count\":0,\"quote_count\":0},\"id\":\"1467879896785379330\",\"text\":\"RT @missmayim: Hi everyone!\\\\n\\\\nTODAY IS THE DAY, our merch store is officially open! Make sure to head over to https://t.co/nHwKbFZ51S &amp; clic…\",\"created_at\":\"2021-12-06T15:33:33.000Z\",\"possibly_sensitive\":false,\"source\":\"Twitter for Android\",\"lang\":\"en\"},{\"public_metrics\":{\"retweet_count\":0,\"reply_count\":0,\"like_count\":2,\"quote_count\":0},\"id\":\"1467879671744405506\",\"text\":\"@missmayim @BialikBreakdown Have not missed 1 podcast. Now merch?!? I’ll consider it a late Hanukkah present for myself \\\\uD83D\\\\uDE0F\",\"created_at\":\"2021-12-06T15:32:40.000Z\",\"possibly_sensitive\":false,\"source\":\"Twitter for iPhone\",\"lang\":\"en\"},{\"public_metrics\":{\"retweet_count\":0,\"reply_count\":0,\"like_count\":0,\"quote_count\":0},\"id\":\"1467879114556198921\",\"text\":\"@missmayim @BialikBreakdown Following \\\\uD83D\\\\uDC4D\\\\uD83C\\\\uDFFE\\\\uD83D\\\\uDC4D\\\\uD83C\\\\uDFFE\\\\uD83D\\\\uDC4D\\\\uD83C\\\\uDFFE\\\\uD83D\\\\uDC4D\\\\uD83C\\\\uDFFE\\\\uD83D\\\\uDC4D\\\\uD83C\\\\uDFFE\",\"created_at\":\"2021-12-06T15:30:27.000Z\",\"possibly_sensitive\":false,\"source\":\"Twitter for Android\",\"lang\":\"en\"},{\"public_metrics\":{\"retweet_count\":0,\"reply_count\":0,\"like_count\":3,\"quote_count\":0},\"id\":\"1467878433204191238\",\"text\":\"@missmayim @BialikBreakdown so buying the brain perfect tee!\",\"created_at\":\"2021-12-06T15:27:44.000Z\",\"possibly_sensitive\":false,\"source\":\"Twitter Web App\",\"lang\":\"en\"},{\"public_metrics\":{\"retweet_count\":11,\"reply_count\":0,\"like_count\":0,\"quote_count\":0},\"id\":\"1467878031553355777\",\"text\":\"RT @missmayim: Guess what! Today is the day?! Our merch store is officially unveiled &amp; our first collection is now available on https://t.c…\",\"created_at\":\"2021-12-06T15:26:09.000Z\",\"possibly_sensitive\":false,\"source\":\"Twitter Web App\",\"lang\":\"en\"},{\"public_metrics\":{\"retweet_count\":0,\"reply_count\":0,\"like_count\":0,\"quote_count\":0},\"id\":\"1467876989176537103\",\"text\":\"@missmayim @BialikBreakdown Amazing achievement Mayim so proud of you \\\\uD83D\\\\uDE18xx\",\"created_at\":\"2021-12-06T15:22:00.000Z\",\"possibly_sensitive\":false,\"source\":\"Twitter for iPhone\",\"lang\":\"en\"},{\"public_metrics\":{\"retweet_count\":11,\"reply_count\":0,\"like_count\":0,\"quote_count\":0},\"id\":\"1467876752043266048\",\"text\":\"RT @missmayim: Guess what! Today is the day?! Our merch store is officially unveiled &amp; our first collection is now available on https://t.c…\",\"created_at\":\"2021-12-06T15:21:04.000Z\",\"possibly_sensitive\":false,\"source\":\"Twitter for Android\",\"lang\":\"en\"},{\"public_metrics\":{\"retweet_count\":1,\"reply_count\":0,\"like_count\":0,\"quote_count\":0},\"id\":\"1467876561491836928\",\"text\":\"RT @damnarbor: Real Damn Arbor-heads won’t want to miss our very own Chief First Amendment Attorney, @dispositive, on @Jeopardy’s Tournamen…\",\"created_at\":\"2021-12-06T15:20:18.000Z\",\"possibly_sensitive\":false,\"source\":\"Twitter for Mac\",\"lang\":\"en\"},{\"public_metrics\":{\"retweet_count\":0,\"reply_count\":0,\"like_count\":0,\"quote_count\":0},\"id\":\"1467875947567222786\",\"text\":\"@missmayim @BialikBreakdown Blue eyes\",\"created_at\":\"2021-12-06T15:17:52.000Z\",\"possibly_sensitive\":false,\"source\":\"Twitter for Android\",\"lang\":\"en\"},{\"public_metrics\":{\"retweet_count\":11,\"reply_count\":0,\"like_count\":0,\"quote_count\":0},\"id\":\"1467875799290322945\",\"text\":\"RT @missmayim: Guess what! Today is the day?! Our merch store is officially unveiled &amp; our first collection is now available on https://t.c…\",\"created_at\":\"2021-12-06T15:17:17.000Z\",\"possibly_sensitive\":false,\"source\":\"Twitter for iPhone\",\"lang\":\"en\"},{\"public_metrics\":{\"retweet_count\":8,\"reply_count\":0,\"like_count\":0,\"quote_count\":0},\"id\":\"1467875672299384837\",\"text\":\"RT @missmayim: Hi everyone!\\\\n\\\\nTODAY IS THE DAY, our merch store is officially open! Make sure to head over to https://t.co/nHwKbFZ51S &amp; clic…\",\"created_at\":\"2021-12-06T15:16:46.000Z\",\"possibly_sensitive\":false,\"source\":\"Twitter for iPhone\",\"lang\":\"en\"},{\"public_metrics\":{\"retweet_count\":0,\"reply_count\":0,\"like_count\":0,\"quote_count\":0},\"id\":\"1467875567718608898\",\"text\":\"@missmayim Hey Mayim do you deliver to the Uk \\\\uD83C\\\\uDDEC\\\\uD83C\\\\uDDE7 x\",\"created_at\":\"2021-12-06T15:16:21.000Z\",\"possibly_sensitive\":false,\"source\":\"Twitter for iPhone\",\"lang\":\"en\"},{\"public_metrics\":{\"retweet_count\":8,\"reply_count\":0,\"like_count\":0,\"quote_count\":0},\"id\":\"1467875508012597254\",\"text\":\"RT @missmayim: Hi everyone!\\\\n\\\\nTODAY IS THE DAY, our merch store is officially open! Make sure to head over to https://t.co/nHwKbFZ51S &amp; clic…\",\"created_at\":\"2021-12-06T15:16:07.000Z\",\"possibly_sensitive\":false,\"source\":\"Twitter for iPhone\",\"lang\":\"en\"},{\"public_metrics\":{\"retweet_count\":8,\"reply_count\":0,\"like_count\":0,\"quote_count\":0},\"id\":\"1467875505256939528\",\"text\":\"RT @missmayim: Hi everyone!\\\\n\\\\nTODAY IS THE DAY, our merch store is officially open! Make sure to head over to https://t.co/nHwKbFZ51S &amp; clic…\",\"created_at\":\"2021-12-06T15:16:06.000Z\",\"possibly_sensitive\":false,\"source\":\"Twitter for iPhone\",\"lang\":\"en\"},{\"public_metrics\":{\"retweet_count\":8,\"reply_count\":0,\"like_count\":0,\"quote_count\":0},\"id\":\"1467875500278403075\",\"text\":\"RT @missmayim: Hi everyone!\\\\n\\\\nTODAY IS THE DAY, our merch store is officially open! Make sure to head over to https://t.co/nHwKbFZ51S &amp; clic…\",\"created_at\":\"2021-12-06T15:16:05.000Z\",\"possibly_sensitive\":false,\"source\":\"Twitter for iPhone\",\"lang\":\"en\"},{\"public_metrics\":{\"retweet_count\":0,\"reply_count\":0,\"like_count\":0,\"quote_count\":0},\"id\":\"1467874764425412611\",\"text\":\"@missmayim @BialikBreakdown Congratulations.\",\"created_at\":\"2021-12-06T15:13:10.000Z\",\"possibly_sensitive\":false,\"source\":\"Twitter Web App\",\"lang\":\"en\"},{\"public_metrics\":{\"retweet_count\":0,\"reply_count\":0,\"like_count\":1,\"quote_count\":0},\"id\":\"1467874238862295041\",\"text\":\"@missmayim @BialikBreakdown Amy Farrah Fowler for the WIN!!!!!!!!!! https://t.co/QYsbEn9MHK\",\"created_at\":\"2021-12-06T15:11:04.000Z\",\"possibly_sensitive\":false,\"source\":\"Twitter Web App\",\"attachments\":{\"media_keys\":[\"3_1467874220772184074\"]},\"lang\":\"en\"}],\"meta\":{\"newest_id\":\"1467929555121983490\",\"oldest_id\":\"1467874238862295041\",\"result_count\":100,\"next_token\":\"b26v89c19zqg8o3fpdy8iqb1zm01w9zr0de645p9hte2l\"}}'"
      ]
     },
     "execution_count": 41,
     "metadata": {},
     "output_type": "execute_result"
    }
   ],
   "source": [
    "response_3.text"
   ]
  },
  {
   "cell_type": "code",
   "execution_count": 42,
   "id": "0db7ff29",
   "metadata": {},
   "outputs": [],
   "source": [
    "my_df = my_df.append(pd.DataFrame(json.loads(response_3.text)['data']), ignore_index= True)"
   ]
  },
  {
   "cell_type": "code",
   "execution_count": 43,
   "id": "970d32b5",
   "metadata": {},
   "outputs": [
    {
     "data": {
      "text/html": [
       "<div>\n",
       "<style scoped>\n",
       "    .dataframe tbody tr th:only-of-type {\n",
       "        vertical-align: middle;\n",
       "    }\n",
       "\n",
       "    .dataframe tbody tr th {\n",
       "        vertical-align: top;\n",
       "    }\n",
       "\n",
       "    .dataframe thead th {\n",
       "        text-align: right;\n",
       "    }\n",
       "</style>\n",
       "<table border=\"1\" class=\"dataframe\">\n",
       "  <thead>\n",
       "    <tr style=\"text-align: right;\">\n",
       "      <th></th>\n",
       "      <th>lang</th>\n",
       "      <th>public_metrics</th>\n",
       "      <th>id</th>\n",
       "      <th>possibly_sensitive</th>\n",
       "      <th>text</th>\n",
       "      <th>author_id</th>\n",
       "      <th>created_at</th>\n",
       "      <th>source</th>\n",
       "      <th>attachments</th>\n",
       "    </tr>\n",
       "  </thead>\n",
       "  <tbody>\n",
       "    <tr>\n",
       "      <th>0</th>\n",
       "      <td>en</td>\n",
       "      <td>{'retweet_count': 0, 'reply_count': 0, 'like_c...</td>\n",
       "      <td>1467979913923895298</td>\n",
       "      <td>False</td>\n",
       "      <td>@glaad @Jeopardamy @emilyvdw @Jeopardy Thanx f...</td>\n",
       "      <td>995446130967302144</td>\n",
       "      <td>2021-12-06T22:10:59.000Z</td>\n",
       "      <td>Twitter for iPhone</td>\n",
       "      <td>NaN</td>\n",
       "    </tr>\n",
       "    <tr>\n",
       "      <th>1</th>\n",
       "      <td>en</td>\n",
       "      <td>{'retweet_count': 0, 'reply_count': 0, 'like_c...</td>\n",
       "      <td>1467979782197592075</td>\n",
       "      <td>False</td>\n",
       "      <td>Format: 8-day first round, four profs per day,...</td>\n",
       "      <td>770293085771210752</td>\n",
       "      <td>2021-12-06T22:10:28.000Z</td>\n",
       "      <td>Twitter for iPhone</td>\n",
       "      <td>NaN</td>\n",
       "    </tr>\n",
       "    <tr>\n",
       "      <th>2</th>\n",
       "      <td>en</td>\n",
       "      <td>{'retweet_count': 0, 'reply_count': 0, 'like_c...</td>\n",
       "      <td>1467979250372431878</td>\n",
       "      <td>False</td>\n",
       "      <td>Y'all my professor is going to be a contestant...</td>\n",
       "      <td>2932977243</td>\n",
       "      <td>2021-12-06T22:08:21.000Z</td>\n",
       "      <td>Twitter for iPhone</td>\n",
       "      <td>NaN</td>\n",
       "    </tr>\n",
       "    <tr>\n",
       "      <th>3</th>\n",
       "      <td>en</td>\n",
       "      <td>{'retweet_count': 0, 'reply_count': 1, 'like_c...</td>\n",
       "      <td>1467978490758811657</td>\n",
       "      <td>False</td>\n",
       "      <td>The @Jeopardy Professors Tournament begins tod...</td>\n",
       "      <td>770293085771210752</td>\n",
       "      <td>2021-12-06T22:05:20.000Z</td>\n",
       "      <td>Twitter for iPhone</td>\n",
       "      <td>NaN</td>\n",
       "    </tr>\n",
       "    <tr>\n",
       "      <th>4</th>\n",
       "      <td>en</td>\n",
       "      <td>{'retweet_count': 0, 'reply_count': 0, 'like_c...</td>\n",
       "      <td>1467978245861691397</td>\n",
       "      <td>False</td>\n",
       "      <td>The lovely @missmayim is back hosting @jeopard...</td>\n",
       "      <td>355147215</td>\n",
       "      <td>2021-12-06T22:04:22.000Z</td>\n",
       "      <td>Twitter for Android</td>\n",
       "      <td>NaN</td>\n",
       "    </tr>\n",
       "    <tr>\n",
       "      <th>...</th>\n",
       "      <td>...</td>\n",
       "      <td>...</td>\n",
       "      <td>...</td>\n",
       "      <td>...</td>\n",
       "      <td>...</td>\n",
       "      <td>...</td>\n",
       "      <td>...</td>\n",
       "      <td>...</td>\n",
       "      <td>...</td>\n",
       "    </tr>\n",
       "    <tr>\n",
       "      <th>295</th>\n",
       "      <td>en</td>\n",
       "      <td>{'retweet_count': 8, 'reply_count': 0, 'like_c...</td>\n",
       "      <td>1467875508012597254</td>\n",
       "      <td>False</td>\n",
       "      <td>RT @missmayim: Hi everyone!\\n\\nTODAY IS THE DA...</td>\n",
       "      <td>NaN</td>\n",
       "      <td>2021-12-06T15:16:07.000Z</td>\n",
       "      <td>Twitter for iPhone</td>\n",
       "      <td>NaN</td>\n",
       "    </tr>\n",
       "    <tr>\n",
       "      <th>296</th>\n",
       "      <td>en</td>\n",
       "      <td>{'retweet_count': 8, 'reply_count': 0, 'like_c...</td>\n",
       "      <td>1467875505256939528</td>\n",
       "      <td>False</td>\n",
       "      <td>RT @missmayim: Hi everyone!\\n\\nTODAY IS THE DA...</td>\n",
       "      <td>NaN</td>\n",
       "      <td>2021-12-06T15:16:06.000Z</td>\n",
       "      <td>Twitter for iPhone</td>\n",
       "      <td>NaN</td>\n",
       "    </tr>\n",
       "    <tr>\n",
       "      <th>297</th>\n",
       "      <td>en</td>\n",
       "      <td>{'retweet_count': 8, 'reply_count': 0, 'like_c...</td>\n",
       "      <td>1467875500278403075</td>\n",
       "      <td>False</td>\n",
       "      <td>RT @missmayim: Hi everyone!\\n\\nTODAY IS THE DA...</td>\n",
       "      <td>NaN</td>\n",
       "      <td>2021-12-06T15:16:05.000Z</td>\n",
       "      <td>Twitter for iPhone</td>\n",
       "      <td>NaN</td>\n",
       "    </tr>\n",
       "    <tr>\n",
       "      <th>298</th>\n",
       "      <td>en</td>\n",
       "      <td>{'retweet_count': 0, 'reply_count': 0, 'like_c...</td>\n",
       "      <td>1467874764425412611</td>\n",
       "      <td>False</td>\n",
       "      <td>@missmayim @BialikBreakdown Congratulations.</td>\n",
       "      <td>NaN</td>\n",
       "      <td>2021-12-06T15:13:10.000Z</td>\n",
       "      <td>Twitter Web App</td>\n",
       "      <td>NaN</td>\n",
       "    </tr>\n",
       "    <tr>\n",
       "      <th>299</th>\n",
       "      <td>en</td>\n",
       "      <td>{'retweet_count': 0, 'reply_count': 0, 'like_c...</td>\n",
       "      <td>1467874238862295041</td>\n",
       "      <td>False</td>\n",
       "      <td>@missmayim @BialikBreakdown Amy Farrah Fowler ...</td>\n",
       "      <td>NaN</td>\n",
       "      <td>2021-12-06T15:11:04.000Z</td>\n",
       "      <td>Twitter Web App</td>\n",
       "      <td>{'media_keys': ['3_1467874220772184074']}</td>\n",
       "    </tr>\n",
       "  </tbody>\n",
       "</table>\n",
       "<p>300 rows × 9 columns</p>\n",
       "</div>"
      ],
      "text/plain": [
       "    lang                                     public_metrics  \\\n",
       "0     en  {'retweet_count': 0, 'reply_count': 0, 'like_c...   \n",
       "1     en  {'retweet_count': 0, 'reply_count': 0, 'like_c...   \n",
       "2     en  {'retweet_count': 0, 'reply_count': 0, 'like_c...   \n",
       "3     en  {'retweet_count': 0, 'reply_count': 1, 'like_c...   \n",
       "4     en  {'retweet_count': 0, 'reply_count': 0, 'like_c...   \n",
       "..   ...                                                ...   \n",
       "295   en  {'retweet_count': 8, 'reply_count': 0, 'like_c...   \n",
       "296   en  {'retweet_count': 8, 'reply_count': 0, 'like_c...   \n",
       "297   en  {'retweet_count': 8, 'reply_count': 0, 'like_c...   \n",
       "298   en  {'retweet_count': 0, 'reply_count': 0, 'like_c...   \n",
       "299   en  {'retweet_count': 0, 'reply_count': 0, 'like_c...   \n",
       "\n",
       "                      id  possibly_sensitive  \\\n",
       "0    1467979913923895298               False   \n",
       "1    1467979782197592075               False   \n",
       "2    1467979250372431878               False   \n",
       "3    1467978490758811657               False   \n",
       "4    1467978245861691397               False   \n",
       "..                   ...                 ...   \n",
       "295  1467875508012597254               False   \n",
       "296  1467875505256939528               False   \n",
       "297  1467875500278403075               False   \n",
       "298  1467874764425412611               False   \n",
       "299  1467874238862295041               False   \n",
       "\n",
       "                                                  text           author_id  \\\n",
       "0    @glaad @Jeopardamy @emilyvdw @Jeopardy Thanx f...  995446130967302144   \n",
       "1    Format: 8-day first round, four profs per day,...  770293085771210752   \n",
       "2    Y'all my professor is going to be a contestant...          2932977243   \n",
       "3    The @Jeopardy Professors Tournament begins tod...  770293085771210752   \n",
       "4    The lovely @missmayim is back hosting @jeopard...           355147215   \n",
       "..                                                 ...                 ...   \n",
       "295  RT @missmayim: Hi everyone!\\n\\nTODAY IS THE DA...                 NaN   \n",
       "296  RT @missmayim: Hi everyone!\\n\\nTODAY IS THE DA...                 NaN   \n",
       "297  RT @missmayim: Hi everyone!\\n\\nTODAY IS THE DA...                 NaN   \n",
       "298       @missmayim @BialikBreakdown Congratulations.                 NaN   \n",
       "299  @missmayim @BialikBreakdown Amy Farrah Fowler ...                 NaN   \n",
       "\n",
       "                   created_at               source  \\\n",
       "0    2021-12-06T22:10:59.000Z   Twitter for iPhone   \n",
       "1    2021-12-06T22:10:28.000Z   Twitter for iPhone   \n",
       "2    2021-12-06T22:08:21.000Z   Twitter for iPhone   \n",
       "3    2021-12-06T22:05:20.000Z   Twitter for iPhone   \n",
       "4    2021-12-06T22:04:22.000Z  Twitter for Android   \n",
       "..                        ...                  ...   \n",
       "295  2021-12-06T15:16:07.000Z   Twitter for iPhone   \n",
       "296  2021-12-06T15:16:06.000Z   Twitter for iPhone   \n",
       "297  2021-12-06T15:16:05.000Z   Twitter for iPhone   \n",
       "298  2021-12-06T15:13:10.000Z      Twitter Web App   \n",
       "299  2021-12-06T15:11:04.000Z      Twitter Web App   \n",
       "\n",
       "                                   attachments  \n",
       "0                                          NaN  \n",
       "1                                          NaN  \n",
       "2                                          NaN  \n",
       "3                                          NaN  \n",
       "4                                          NaN  \n",
       "..                                         ...  \n",
       "295                                        NaN  \n",
       "296                                        NaN  \n",
       "297                                        NaN  \n",
       "298                                        NaN  \n",
       "299  {'media_keys': ['3_1467874220772184074']}  \n",
       "\n",
       "[300 rows x 9 columns]"
      ]
     },
     "execution_count": 43,
     "metadata": {},
     "output_type": "execute_result"
    }
   ],
   "source": [
    "my_df"
   ]
  },
  {
   "cell_type": "code",
   "execution_count": 44,
   "id": "43fbd59e",
   "metadata": {},
   "outputs": [
    {
     "data": {
      "text/plain": [
       "{'newest_id': '1467979913923895298',\n",
       " 'oldest_id': '1467929873943609345',\n",
       " 'result_count': 100,\n",
       " 'next_token': 'b26v89c19zqg8o3fpdy8iseaefhfw53e8zwxxg4b94kfx'}"
      ]
     },
     "execution_count": 44,
     "metadata": {},
     "output_type": "execute_result"
    }
   ],
   "source": [
    "response_1_dict['meta']"
   ]
  },
  {
   "cell_type": "code",
   "execution_count": 45,
   "id": "08c43944",
   "metadata": {},
   "outputs": [],
   "source": [
    "response_4 = requests.request(\"GET\", my_api_url_2, headers = header)"
   ]
  },
  {
   "cell_type": "code",
   "execution_count": 46,
   "id": "5245d895",
   "metadata": {},
   "outputs": [
    {
     "data": {
      "text/plain": [
       "'{\"data\":[{\"id\":\"1467929555121983490\",\"attachments\":{\"media_keys\":[\"13_1467772924123779076\"]},\"public_metrics\":{\"retweet_count\":12,\"reply_count\":0,\"like_count\":0,\"quote_count\":0},\"possibly_sensitive\":false,\"text\":\"RT @Jeopardy: Our first-ever #ProfessorsTournament starts TODAY! Who’s ready?! https://t.co/B9ge3wec6p\",\"created_at\":\"2021-12-06T18:50:53.000Z\",\"source\":\"Twitter Web App\",\"lang\":\"en\"},{\"id\":\"1467929098819457029\",\"public_metrics\":{\"retweet_count\":0,\"reply_count\":0,\"like_count\":0,\"quote_count\":0},\"possibly_sensitive\":false,\"text\":\"@1962Wren @CJTFOIR @SecBlinken @DeptofDefense @OIRSpox @oirdcom @SenGillibrand\\\\n@SenKamalaHarris\\\\n@ewarren\\\\n@JoeBiden\\\\n@JulianCastro\\\\n@HillaryClinton\\\\n@SenSanders\\\\n@CoryBooker\\\\n@SenSchumer\\\\n@AOC\\\\n@Ilhan\\\\n@RepRashida\\\\n@missmayim\",\"created_at\":\"2021-12-06T18:49:04.000Z\",\"source\":\"Twitter for iPhone\",\"lang\":\"und\"},{\"id\":\"1467927212200534022\",\"public_metrics\":{\"retweet_count\":0,\"reply_count\":0,\"like_count\":0,\"quote_count\":0},\"possibly_sensitive\":false,\"text\":\"@Jeopardy Sounds great!  Looks great!  Can\\'t wait to watch!\",\"created_at\":\"2021-12-06T18:41:34.000Z\",\"source\":\"Twitter Web App\",\"lang\":\"en\"},{\"id\":\"1467926945035743233\",\"public_metrics\":{\"retweet_count\":0,\"reply_count\":0,\"like_count\":0,\"quote_count\":0},\"possibly_sensitive\":false,\"text\":\"@Jeopardy Welcome back Mayim, you have been missed.\",\"created_at\":\"2021-12-06T18:40:31.000Z\",\"source\":\"Twitter for Android\",\"lang\":\"en\"},{\"id\":\"1467926500032892934\",\"public_metrics\":{\"retweet_count\":0,\"reply_count\":0,\"like_count\":0,\"quote_count\":0},\"possibly_sensitive\":false,\"text\":\".@VanderbiltLaw professor Gautam Hans competes on tonight\\'s episode of\\\\n@Jeopardy. The Professors Tournament will feature 15 educators competing for a $100,000 grand prize + a spot in the Tournament of Champions. Tune in at 5 p.m. on WZTV. \\\\uD83D\\\\uDCFAhttps://t.co/83CxYc8dCS\",\"created_at\":\"2021-12-06T18:38:45.000Z\",\"source\":\"TweetDeck\",\"lang\":\"en\"},{\"id\":\"1467926484199292928\",\"attachments\":{\"media_keys\":[\"7_1294724089865674752\"]},\"public_metrics\":{\"retweet_count\":43,\"reply_count\":0,\"like_count\":0,\"quote_count\":0},\"possibly_sensitive\":false,\"text\":\"RT @EliasToufexis: I’m impressed that Trebek pronounced my name correctly. Thanks @Jeopardy https://t.co/jaJBB3cclD\",\"created_at\":\"2021-12-06T18:38:41.000Z\",\"source\":\"Twitter for Android\",\"lang\":\"en\"},{\"id\":\"1467926136147619840\",\"public_metrics\":{\"retweet_count\":0,\"reply_count\":0,\"like_count\":2,\"quote_count\":0},\"possibly_sensitive\":false,\"text\":\"@Jeopardy The only problem with this most awesome show is Mayim. Irritating voice and her attempt at being cute and funny is unattractive. She spoils the enjoyment of this legendary show\",\"created_at\":\"2021-12-06T18:37:18.000Z\",\"source\":\"Twitter for iPhone\",\"lang\":\"en\"},{\"id\":\"1467924060080328704\",\"public_metrics\":{\"retweet_count\":1,\"reply_count\":0,\"like_count\":1,\"quote_count\":0},\"possibly_sensitive\":false,\"text\":\"This “Words in elements” category in last week’s #Jeopardy was a perfect mix of word-play and science \\\\uD83E\\\\uDDEA \\\\n\\\\nBr: this possessive pronoun\\\\nSi: this, a symbol for a program on your computer \\\\nHg: this term for a mean or scroungy dog\\\\nMn: this Asian art form\\\\nI: this Allfather\\\\n\\\\n\\\\uD83D\\\\uDC95\\\\n#STEAM\",\"created_at\":\"2021-12-06T18:29:03.000Z\",\"source\":\"Twitter for iPhone\",\"lang\":\"en\"},{\"id\":\"1467922635212214285\",\"public_metrics\":{\"retweet_count\":0,\"reply_count\":0,\"like_count\":0,\"quote_count\":0},\"possibly_sensitive\":false,\"text\":\"@Spiritcaat @nytimes @KenJennings He\\'s a LOT better then her,,,\",\"created_at\":\"2021-12-06T18:23:23.000Z\",\"source\":\"Twitter Web App\",\"lang\":\"en\"},{\"id\":\"1467922473173856263\",\"public_metrics\":{\"retweet_count\":9,\"reply_count\":0,\"like_count\":0,\"quote_count\":0},\"possibly_sensitive\":false,\"text\":\"RT @missmayim: We played #RAPIDFIRE questions with the lovely @danicamckellar on the  #bialikbreakdown podcast! \\\\uD83E\\\\uDDE0✨  #DanicaMckellar #TheWon…\",\"created_at\":\"2021-12-06T18:22:44.000Z\",\"source\":\"Twitter for iPhone\",\"lang\":\"en\"},{\"id\":\"1467922174308671491\",\"public_metrics\":{\"retweet_count\":48,\"reply_count\":0,\"like_count\":0,\"quote_count\":0},\"possibly_sensitive\":false,\"text\":\"RT @Jeopardy: The #ProfessorsTournament starts Monday! Don\\'t worry – Amy Schneider will return to Jeopardy! December 20! https://t.co/hQGge…\",\"created_at\":\"2021-12-06T18:21:33.000Z\",\"source\":\"Twitter for iPhone\",\"lang\":\"en\"},{\"id\":\"1467921512078487555\",\"public_metrics\":{\"retweet_count\":0,\"reply_count\":1,\"like_count\":4,\"quote_count\":0},\"possibly_sensitive\":false,\"text\":\"Excited to watch the first ever Prof tournament this evening on #Jeopardy.\",\"created_at\":\"2021-12-06T18:18:55.000Z\",\"source\":\"Twitter for iPhone\",\"lang\":\"en\"},{\"id\":\"1467921165171761153\",\"attachments\":{\"media_keys\":[\"13_1467772924123779076\"]},\"public_metrics\":{\"retweet_count\":12,\"reply_count\":0,\"like_count\":0,\"quote_count\":0},\"possibly_sensitive\":false,\"text\":\"RT @Jeopardy: Our first-ever #ProfessorsTournament starts TODAY! Who’s ready?! https://t.co/B9ge3wec6p\",\"created_at\":\"2021-12-06T18:17:33.000Z\",\"source\":\"Twitter for iPhone\",\"lang\":\"en\"},{\"id\":\"1467920942752010253\",\"public_metrics\":{\"retweet_count\":0,\"reply_count\":0,\"like_count\":1,\"quote_count\":0},\"possibly_sensitive\":false,\"text\":\"@OsherL @Jeopardy @NYTimesWordplay I believe the tiebreaker is amount of money going into Final Jeopardy, followed by the amount going into Double Jeopardy.\",\"created_at\":\"2021-12-06T18:16:40.000Z\",\"source\":\"Twitter Web App\",\"lang\":\"en\"},{\"id\":\"1467920772127543299\",\"public_metrics\":{\"retweet_count\":0,\"reply_count\":0,\"like_count\":2,\"quote_count\":0},\"possibly_sensitive\":false,\"text\":\"@Jeopardy @missmayim so happy to see you\\'re back hosting this ultimate egghead challenge!\",\"created_at\":\"2021-12-06T18:15:59.000Z\",\"source\":\"Twitter for Android\",\"lang\":\"en\"},{\"id\":\"1467919329396101122\",\"public_metrics\":{\"retweet_count\":0,\"reply_count\":0,\"like_count\":0,\"quote_count\":0},\"possibly_sensitive\":false,\"text\":\"@Jeopardy Go Prof. Buttrey!\",\"created_at\":\"2021-12-06T18:10:15.000Z\",\"source\":\"Twitter Web App\",\"lang\":\"en\"},{\"id\":\"1467918472114053130\",\"attachments\":{\"media_keys\":[\"13_1467772924123779076\"]},\"public_metrics\":{\"retweet_count\":12,\"reply_count\":0,\"like_count\":0,\"quote_count\":0},\"possibly_sensitive\":false,\"text\":\"RT @Jeopardy: Our first-ever #ProfessorsTournament starts TODAY! Who’s ready?! https://t.co/B9ge3wec6p\",\"created_at\":\"2021-12-06T18:06:51.000Z\",\"source\":\"Twitter Web App\",\"lang\":\"en\"},{\"id\":\"1467918340802945024\",\"public_metrics\":{\"retweet_count\":0,\"reply_count\":0,\"like_count\":0,\"quote_count\":0},\"possibly_sensitive\":false,\"text\":\"@Jeopardy Thank you because Amy must return!\",\"created_at\":\"2021-12-06T18:06:19.000Z\",\"source\":\"Twitter for Android\",\"lang\":\"en\"},{\"id\":\"1467917605113638913\",\"attachments\":{\"media_keys\":[\"13_1467772924123779076\"]},\"public_metrics\":{\"retweet_count\":12,\"reply_count\":0,\"like_count\":0,\"quote_count\":0},\"possibly_sensitive\":true,\"text\":\"RT @Jeopardy: Our first-ever #ProfessorsTournament starts TODAY! Who’s ready?! https://t.co/B9ge3wec6p\",\"created_at\":\"2021-12-06T18:03:24.000Z\",\"source\":\"Twitter for iPhone\",\"lang\":\"en\"},{\"id\":\"1467917513631563780\",\"public_metrics\":{\"retweet_count\":0,\"reply_count\":0,\"like_count\":1,\"quote_count\":0},\"possibly_sensitive\":false,\"text\":\"@Jeopardy Excited to watch this!\",\"created_at\":\"2021-12-06T18:03:02.000Z\",\"source\":\"Twitter for iPad\",\"lang\":\"en\"},{\"id\":\"1467917064279109632\",\"public_metrics\":{\"retweet_count\":0,\"reply_count\":0,\"like_count\":4,\"quote_count\":0},\"possibly_sensitive\":false,\"text\":\"@Jeopardy I am. I love her as an host.\",\"created_at\":\"2021-12-06T18:01:15.000Z\",\"source\":\"Twitter for Android\",\"lang\":\"en\"},{\"id\":\"1467917039725694982\",\"public_metrics\":{\"retweet_count\":0,\"reply_count\":0,\"like_count\":0,\"quote_count\":0},\"possibly_sensitive\":false,\"text\":\"@Jeopardy Ring me up for the next one.\",\"created_at\":\"2021-12-06T18:01:09.000Z\",\"source\":\"Twitter Web App\",\"lang\":\"en\"},{\"id\":\"1467917007131713543\",\"attachments\":{\"media_keys\":[\"13_1467772924123779076\"]},\"public_metrics\":{\"retweet_count\":12,\"reply_count\":0,\"like_count\":0,\"quote_count\":0},\"possibly_sensitive\":false,\"text\":\"RT @Jeopardy: Our first-ever #ProfessorsTournament starts TODAY! Who’s ready?! https://t.co/B9ge3wec6p\",\"created_at\":\"2021-12-06T18:01:01.000Z\",\"source\":\"Twitter for iPhone\",\"lang\":\"en\"},{\"id\":\"1467916898268585986\",\"attachments\":{\"media_keys\":[\"13_1467772924123779076\"]},\"public_metrics\":{\"retweet_count\":12,\"reply_count\":0,\"like_count\":0,\"quote_count\":0},\"possibly_sensitive\":false,\"text\":\"RT @Jeopardy: Our first-ever #ProfessorsTournament starts TODAY! Who’s ready?! https://t.co/B9ge3wec6p\",\"created_at\":\"2021-12-06T18:00:35.000Z\",\"source\":\"Twitter for iPhone\",\"lang\":\"en\"},{\"id\":\"1467916169126547460\",\"public_metrics\":{\"retweet_count\":4,\"reply_count\":0,\"like_count\":0,\"quote_count\":0},\"possibly_sensitive\":false,\"text\":\"RT @TheBlastNews: Fans Of Mayim Bialik Just Got Some Great News! #Jeopardy\\\\nhttps://t.co/1elvuu9ebp\",\"created_at\":\"2021-12-06T17:57:41.000Z\",\"source\":\"Twitter for iPhone\",\"lang\":\"en\"},{\"id\":\"1467916009096941568\",\"public_metrics\":{\"retweet_count\":5,\"reply_count\":0,\"like_count\":0,\"quote_count\":0},\"possibly_sensitive\":false,\"text\":\"RT @VanderbiltU: Reminder! Tune in on Dec. 6 as @VanderbiltLaw professor and long-time @Jeopardy fan Gautam Hans competes in the show’s ina…\",\"created_at\":\"2021-12-06T17:57:03.000Z\",\"source\":\"Twitter Web App\",\"lang\":\"en\"},{\"id\":\"1467916002159640578\",\"public_metrics\":{\"retweet_count\":23,\"reply_count\":0,\"like_count\":0,\"quote_count\":0},\"possibly_sensitive\":false,\"text\":\"RT @missmayim: Hi everyone! It’s finally happening! Our merch store will be open on https://t.co/nHwKbFZ51S on Monday December 6th! Be sure…\",\"created_at\":\"2021-12-06T17:57:02.000Z\",\"source\":\"Twitter for iPhone\",\"lang\":\"en\"},{\"id\":\"1467915920312086529\",\"public_metrics\":{\"retweet_count\":5,\"reply_count\":0,\"like_count\":0,\"quote_count\":0},\"possibly_sensitive\":false,\"text\":\"RT @VanderbiltU: Reminder! Tune in on Dec. 6 as @VanderbiltLaw professor and long-time @Jeopardy fan Gautam Hans competes in the show’s ina…\",\"created_at\":\"2021-12-06T17:56:42.000Z\",\"source\":\"Twitter for iPhone\",\"lang\":\"en\"},{\"id\":\"1467915796714180613\",\"public_metrics\":{\"retweet_count\":1,\"reply_count\":0,\"like_count\":0,\"quote_count\":0},\"possibly_sensitive\":false,\"text\":\"RT @amodiorry: @EdrioBenthic @KenJennings four outsold the white album don’t even\",\"created_at\":\"2021-12-06T17:56:13.000Z\",\"source\":\"Twitter for iPhone\",\"lang\":\"en\"},{\"id\":\"1467915314088144896\",\"public_metrics\":{\"retweet_count\":0,\"reply_count\":0,\"like_count\":0,\"quote_count\":0},\"possibly_sensitive\":false,\"text\":\"@missmayim @BialikBreakdown I will try to make the time to get to see your store.\",\"created_at\":\"2021-12-06T17:54:18.000Z\",\"source\":\"Twitter for Android\",\"lang\":\"en\"},{\"id\":\"1467914875305435148\",\"public_metrics\":{\"retweet_count\":0,\"reply_count\":0,\"like_count\":0,\"quote_count\":0},\"possibly_sensitive\":false,\"text\":\"Vanderbilt represent on Jeopardy! tonight with host @missmayim https://t.co/ZrsiZ9aNLb\",\"created_at\":\"2021-12-06T17:52:33.000Z\",\"source\":\"Twitter Web App\",\"lang\":\"en\"},{\"id\":\"1467914403769204737\",\"public_metrics\":{\"retweet_count\":0,\"reply_count\":0,\"like_count\":0,\"quote_count\":0},\"possibly_sensitive\":false,\"text\":\"@missmayim @BialikBreakdown U cute like a button or magnet lol\",\"created_at\":\"2021-12-06T17:50:41.000Z\",\"source\":\"Twitter Web App\",\"lang\":\"en\"},{\"id\":\"1467914102995660803\",\"public_metrics\":{\"retweet_count\":15,\"reply_count\":0,\"like_count\":0,\"quote_count\":0},\"possibly_sensitive\":false,\"text\":\"RT @missmayim: Hey, everyone, I’m Jonathan &amp; I’m the co-host of Mayim Bialik’s Breakdown. (I’m the funnier one, trust me.) We have a merch…\",\"created_at\":\"2021-12-06T17:49:29.000Z\",\"source\":\"Twitter for iPhone\",\"lang\":\"en\"},{\"id\":\"1467913595547697152\",\"public_metrics\":{\"retweet_count\":5,\"reply_count\":0,\"like_count\":0,\"quote_count\":0},\"possibly_sensitive\":false,\"text\":\"RT @VanderbiltU: Reminder! Tune in on Dec. 6 as @VanderbiltLaw professor and long-time @Jeopardy fan Gautam Hans competes in the show’s ina…\",\"created_at\":\"2021-12-06T17:47:28.000Z\",\"source\":\"Twitter for Android\",\"lang\":\"en\"},{\"id\":\"1467913413288411139\",\"public_metrics\":{\"retweet_count\":5,\"reply_count\":0,\"like_count\":27,\"quote_count\":1},\"possibly_sensitive\":false,\"text\":\"Reminder! Tune in on Dec. 6 as @VanderbiltLaw professor and long-time @Jeopardy fan Gautam Hans competes in the show’s inaugural “Professors Tournament.\\\\\"\\\\n\\\\nLearn more about @dispositive, who once dressed up as Alex Trebek for Halloween in third grade ⬇️\\\\nhttps://t.co/jhRBlkXqGa\",\"created_at\":\"2021-12-06T17:46:44.000Z\",\"source\":\"Twitter Web App\",\"lang\":\"en\"},{\"id\":\"1467912640475242496\",\"public_metrics\":{\"retweet_count\":0,\"reply_count\":0,\"like_count\":0,\"quote_count\":0},\"possibly_sensitive\":false,\"text\":\"@SoCalTaxProf @vanderbiltlaw @Jeopardy Do you know how they were selected?\",\"created_at\":\"2021-12-06T17:43:40.000Z\",\"source\":\"Twitter Web App\",\"lang\":\"en\"},{\"id\":\"1467912625463963653\",\"public_metrics\":{\"retweet_count\":3,\"reply_count\":0,\"like_count\":0,\"quote_count\":0},\"possibly_sensitive\":false,\"text\":\"RT @OnwardState: Penn State professor Hester Blum is set to compete in @Jeopardy\\'s first-ever Professors Tournament beginning Monday, Decem…\",\"created_at\":\"2021-12-06T17:43:37.000Z\",\"source\":\"Twitter Web App\",\"lang\":\"en\"},{\"id\":\"1467911943155503104\",\"public_metrics\":{\"retweet_count\":3,\"reply_count\":0,\"like_count\":0,\"quote_count\":0},\"possibly_sensitive\":false,\"text\":\"RT @OnwardState: Penn State professor Hester Blum is set to compete in @Jeopardy\\'s first-ever Professors Tournament beginning Monday, Decem…\",\"created_at\":\"2021-12-06T17:40:54.000Z\",\"source\":\"Twitter for iPhone\",\"lang\":\"en\"},{\"id\":\"1467911851098968066\",\"public_metrics\":{\"retweet_count\":0,\"reply_count\":0,\"like_count\":2,\"quote_count\":0},\"possibly_sensitive\":false,\"text\":\"@LindenmuthWendi @missmayim \\\\uD83D\\\\uDE0E\",\"created_at\":\"2021-12-06T17:40:32.000Z\",\"source\":\"Twitter for iPhone\",\"lang\":\"und\"},{\"id\":\"1467911763794575369\",\"attachments\":{\"media_keys\":[\"3_963528381848436737\"]},\"public_metrics\":{\"retweet_count\":769,\"reply_count\":0,\"like_count\":0,\"quote_count\":0},\"possibly_sensitive\":false,\"text\":\"RT @missmayim: Could his face be cuter? NO IT COULD NOT. #JimParsons ❤️ https://t.co/mKActQwlZH\",\"created_at\":\"2021-12-06T17:40:11.000Z\",\"source\":\"Twitter for iPhone\",\"lang\":\"en\"},{\"id\":\"1467911725794177036\",\"attachments\":{\"media_keys\":[\"3_1467911723520774148\"]},\"public_metrics\":{\"retweet_count\":0,\"reply_count\":1,\"like_count\":0,\"quote_count\":0},\"possibly_sensitive\":false,\"text\":\".@vanderbiltlaw Professor To Appear On @Jeopardy Tonight https://t.co/dPA2FPEEqF https://t.co/Eu3NtRH2Fr\",\"created_at\":\"2021-12-06T17:40:02.000Z\",\"source\":\"Hootsuite Inc.\",\"lang\":\"en\"},{\"id\":\"1467910993661493248\",\"public_metrics\":{\"retweet_count\":0,\"reply_count\":0,\"like_count\":0,\"quote_count\":0},\"possibly_sensitive\":false,\"text\":\"@Jeopardy We quit watching Jeopardy! when Ken Jennings came back as host and we won\\'t watch it again till he\\'s gone.  Looks like we haven\\'t missed much!!!\",\"created_at\":\"2021-12-06T17:37:08.000Z\",\"source\":\"Twitter Web App\",\"lang\":\"en\"},{\"id\":\"1467909536065404932\",\"public_metrics\":{\"retweet_count\":0,\"reply_count\":0,\"like_count\":0,\"quote_count\":0},\"possibly_sensitive\":false,\"text\":\"@KenJennings So, I guess back in the \\'90s this was a thing ... with a Very Special Guest Star!\\\\nhttps://t.co/13pqyM1dtq\",\"created_at\":\"2021-12-06T17:31:20.000Z\",\"source\":\"Twitter Web App\",\"lang\":\"en\"},{\"id\":\"1467906653039341575\",\"public_metrics\":{\"retweet_count\":8,\"reply_count\":0,\"like_count\":0,\"quote_count\":0},\"possibly_sensitive\":false,\"text\":\"RT @missmayim: Hi everyone!\\\\n\\\\nTODAY IS THE DAY, our merch store is officially open! Make sure to head over to https://t.co/nHwKbFZ51S &amp; clic…\",\"created_at\":\"2021-12-06T17:19:53.000Z\",\"source\":\"Twitter for iPhone\",\"lang\":\"en\"},{\"id\":\"1467906631228956685\",\"public_metrics\":{\"retweet_count\":11,\"reply_count\":0,\"like_count\":0,\"quote_count\":0},\"possibly_sensitive\":false,\"text\":\"RT @missmayim: Guess what! Today is the day?! Our merch store is officially unveiled &amp; our first collection is now available on https://t.c…\",\"created_at\":\"2021-12-06T17:19:47.000Z\",\"source\":\"Twitter for iPhone\",\"lang\":\"en\"},{\"id\":\"1467905139411681280\",\"public_metrics\":{\"retweet_count\":8,\"reply_count\":0,\"like_count\":0,\"quote_count\":0},\"possibly_sensitive\":false,\"text\":\"RT @missmayim: Hi everyone!\\\\n\\\\nTODAY IS THE DAY, our merch store is officially open! Make sure to head over to https://t.co/nHwKbFZ51S &amp; clic…\",\"created_at\":\"2021-12-06T17:13:52.000Z\",\"source\":\"Twitter for Android\",\"lang\":\"en\"},{\"id\":\"1467905126589669376\",\"public_metrics\":{\"retweet_count\":11,\"reply_count\":0,\"like_count\":0,\"quote_count\":0},\"possibly_sensitive\":false,\"text\":\"RT @missmayim: Guess what! Today is the day?! Our merch store is officially unveiled &amp; our first collection is now available on https://t.c…\",\"created_at\":\"2021-12-06T17:13:49.000Z\",\"source\":\"Twitter for Android\",\"lang\":\"en\"},{\"id\":\"1467904397019697159\",\"public_metrics\":{\"retweet_count\":0,\"reply_count\":0,\"like_count\":0,\"quote_count\":0},\"possibly_sensitive\":false,\"text\":\"Answer... the other daily double! #jeopardy\",\"created_at\":\"2021-12-06T17:10:55.000Z\",\"source\":\"AlexTrebot\",\"lang\":\"en\"},{\"id\":\"1467903818293604354\",\"public_metrics\":{\"retweet_count\":28,\"reply_count\":0,\"like_count\":0,\"quote_count\":0},\"possibly_sensitive\":false,\"text\":\"RT @AmodioMatt: I was so proud to take part in the #MillionDollarChallenge charity for @StJude. Not only did we meet the original goal, but…\",\"created_at\":\"2021-12-06T17:08:37.000Z\",\"source\":\"Twitter for Android\",\"lang\":\"en\"},{\"id\":\"1467903153521631236\",\"public_metrics\":{\"retweet_count\":1,\"reply_count\":0,\"like_count\":0,\"quote_count\":0},\"possibly_sensitive\":false,\"text\":\"RT @NPSfoundation: Be sure to watch and cheer on @NPS_Monterey  professor of operations research, Sam Buttrey on @Jeopardy \\'s inaugural Pro…\",\"created_at\":\"2021-12-06T17:05:58.000Z\",\"source\":\"Twitter Web App\",\"lang\":\"en\"},{\"id\":\"1467902938161061900\",\"attachments\":{\"media_keys\":[\"3_1467902936919457794\"]},\"public_metrics\":{\"retweet_count\":1,\"reply_count\":0,\"like_count\":7,\"quote_count\":0},\"possibly_sensitive\":false,\"text\":\"Be sure to watch and cheer on @NPS_Monterey  professor of operations research, Sam Buttrey on @Jeopardy \\'s inaugural Professors Tournament starting tonight on @CBS. Buttrey will compete with 14 educators for a $100k grand prize and a spot in the Tournament of Champions. #NPS https://t.co/aRyUUf9UIJ\",\"created_at\":\"2021-12-06T17:05:07.000Z\",\"source\":\"Hootsuite Inc.\",\"lang\":\"en\"},{\"id\":\"1467902136705064971\",\"public_metrics\":{\"retweet_count\":0,\"reply_count\":0,\"like_count\":0,\"quote_count\":0},\"possibly_sensitive\":false,\"text\":\"@chris_ellis @e_haah @Jeopardy Words work based on what you decide they mean? What do you do with such power?\",\"created_at\":\"2021-12-06T17:01:56.000Z\",\"source\":\"Twitter for iPhone\",\"lang\":\"en\"},{\"id\":\"1467901946157744140\",\"public_metrics\":{\"retweet_count\":0,\"reply_count\":0,\"like_count\":1,\"quote_count\":0},\"possibly_sensitive\":false,\"text\":\"Don\\'t forget to watch @Jeopardy! tonight to catch @vanderbiltlaw Professor Gautam Hans on the show\\'s inaugural Professors Tournament! Professor Hans is pro on First Amendment Law + tech policy \\\\uD83D\\\\uDE4C\\\\uD83D\\\\uDE4C\\\\n\\\\nhttps://t.co/kudByuxoeI\",\"created_at\":\"2021-12-06T17:01:10.000Z\",\"source\":\"Twitter Web App\",\"lang\":\"en\"},{\"id\":\"1467900947502448647\",\"public_metrics\":{\"retweet_count\":3,\"reply_count\":0,\"like_count\":0,\"quote_count\":0},\"possibly_sensitive\":false,\"text\":\"RT @OnwardState: Penn State professor Hester Blum is set to compete in @Jeopardy\\'s first-ever Professors Tournament beginning Monday, Decem…\",\"created_at\":\"2021-12-06T16:57:12.000Z\",\"source\":\"Twitter Web App\",\"lang\":\"en\"},{\"id\":\"1467900869110870018\",\"public_metrics\":{\"retweet_count\":22,\"reply_count\":0,\"like_count\":0,\"quote_count\":0},\"possibly_sensitive\":false,\"text\":\"RT @KenJennings: Half of the opinions I’ve ever had in my life are now Beatles opinions from the past week.\",\"created_at\":\"2021-12-06T16:56:54.000Z\",\"source\":\"Twitter for Android\",\"lang\":\"en\"},{\"id\":\"1467900367425916938\",\"public_metrics\":{\"retweet_count\":9,\"reply_count\":0,\"like_count\":0,\"quote_count\":0},\"possibly_sensitive\":false,\"text\":\"RT @HesterBlum: I now own Herman Melville’s commode (!!!!, an event this fall even more unexpected than appearing on #Jeopardy! \\\\n\\\\nHere’s ho…\",\"created_at\":\"2021-12-06T16:54:54.000Z\",\"source\":\"Twitter for iPhone\",\"lang\":\"en\"},{\"id\":\"1467900006921293826\",\"public_metrics\":{\"retweet_count\":9,\"reply_count\":0,\"like_count\":0,\"quote_count\":0},\"possibly_sensitive\":false,\"text\":\"RT @HesterBlum: I now own Herman Melville’s commode (!!!!, an event this fall even more unexpected than appearing on #Jeopardy! \\\\n\\\\nHere’s ho…\",\"created_at\":\"2021-12-06T16:53:28.000Z\",\"source\":\"Twitter for iPhone\",\"lang\":\"en\"},{\"id\":\"1467899687789375499\",\"public_metrics\":{\"retweet_count\":48,\"reply_count\":0,\"like_count\":0,\"quote_count\":0},\"possibly_sensitive\":false,\"text\":\"RT @Jeopardy: The #ProfessorsTournament starts Monday! Don\\'t worry – Amy Schneider will return to Jeopardy! December 20! https://t.co/hQGge…\",\"created_at\":\"2021-12-06T16:52:12.000Z\",\"source\":\"Twitter Web App\",\"lang\":\"en\"},{\"id\":\"1467897875363368971\",\"public_metrics\":{\"retweet_count\":3,\"reply_count\":0,\"like_count\":31,\"quote_count\":0},\"possibly_sensitive\":false,\"text\":\"Penn State professor Hester Blum is set to compete in @Jeopardy\\'s first-ever Professors Tournament beginning Monday, December 6. https://t.co/w1IJSuwrLu\",\"created_at\":\"2021-12-06T16:45:00.000Z\",\"source\":\"TweetDeck\",\"lang\":\"en\"},{\"id\":\"1467894889300041742\",\"public_metrics\":{\"retweet_count\":0,\"reply_count\":0,\"like_count\":4,\"quote_count\":0},\"possibly_sensitive\":false,\"text\":\"very cool interview with current #jeopardy rockstar @jeopardamy!\\\\n\\\\nhttps://t.co/4grvneoZXy\",\"created_at\":\"2021-12-06T16:33:08.000Z\",\"source\":\"Twitter Web App\",\"lang\":\"en\"},{\"id\":\"1467894706323476489\",\"public_metrics\":{\"retweet_count\":0,\"reply_count\":0,\"like_count\":0,\"quote_count\":0},\"possibly_sensitive\":false,\"text\":\"@penn_state #English #professor to appear on \\'@Jeopardy!\\' Dec. 6 | Penn State University\\\\n#HesterBlum \\\\nhttps://t.co/kS24UdietE\",\"created_at\":\"2021-12-06T16:32:24.000Z\",\"source\":\"Twitter Web App\",\"lang\":\"en\"},{\"id\":\"1467893387185451008\",\"public_metrics\":{\"retweet_count\":0,\"reply_count\":0,\"like_count\":0,\"quote_count\":0},\"possibly_sensitive\":false,\"text\":\"@RickORick @KenJennings Beatles as a band milked a brand new genre for everything it was worth. A better measure of success would be to look at how they did at their solos careers. Compare McCartney‘s catalog to that of Justin Timberlake. JT has way more bangers.\",\"created_at\":\"2021-12-06T16:27:10.000Z\",\"source\":\"Twitter for iPhone\",\"lang\":\"en\"},{\"id\":\"1467892955256139776\",\"public_metrics\":{\"retweet_count\":0,\"reply_count\":1,\"like_count\":0,\"quote_count\":0},\"possibly_sensitive\":false,\"text\":\"@BrianRFSU @e_haah @Jeopardy It’s a word. That’s how words work. Still too complex for you?\",\"created_at\":\"2021-12-06T16:25:27.000Z\",\"source\":\"Twitter for iPhone\",\"lang\":\"en\"},{\"id\":\"1467892320796352527\",\"public_metrics\":{\"retweet_count\":11,\"reply_count\":0,\"like_count\":0,\"quote_count\":0},\"possibly_sensitive\":false,\"text\":\"RT @missmayim: Guess what! Today is the day?! Our merch store is officially unveiled &amp; our first collection is now available on https://t.c…\",\"created_at\":\"2021-12-06T16:22:56.000Z\",\"source\":\"Twitter for iPad\",\"lang\":\"en\"},{\"id\":\"1467892212524593155\",\"attachments\":{\"media_keys\":[\"13_1462864190830305284\"]},\"public_metrics\":{\"retweet_count\":11,\"reply_count\":0,\"like_count\":0,\"quote_count\":0},\"possibly_sensitive\":false,\"text\":\"RT @Jeopardy: All you need is love … and this category about @thebeatles. https://t.co/z6RmdVbljW\",\"created_at\":\"2021-12-06T16:22:30.000Z\",\"source\":\"Twitter for iPhone\",\"lang\":\"en\"},{\"id\":\"1467890658044047363\",\"public_metrics\":{\"retweet_count\":10,\"reply_count\":0,\"like_count\":0,\"quote_count\":0},\"possibly_sensitive\":false,\"text\":\"RT @JArchive: We\\'re trying to add tape dates to the J! Archive!  If you were a contestant on #Jeopardy! and you remember your tape date (an…\",\"created_at\":\"2021-12-06T16:16:19.000Z\",\"source\":\"Twitter Web App\",\"lang\":\"en\"},{\"id\":\"1467889652338249734\",\"public_metrics\":{\"retweet_count\":0,\"reply_count\":1,\"like_count\":0,\"quote_count\":0},\"possibly_sensitive\":false,\"text\":\"@chris_ellis @e_haah @Jeopardy The desire to make up new words? I don’t know you tell me.\",\"created_at\":\"2021-12-06T16:12:19.000Z\",\"source\":\"Twitter for iPhone\",\"lang\":\"en\"},{\"id\":\"1467889120282169344\",\"public_metrics\":{\"retweet_count\":0,\"reply_count\":0,\"like_count\":0,\"quote_count\":0},\"possibly_sensitive\":false,\"text\":\"@joyblaker @KenJennings Loved the LOVE show!!!!!!\",\"created_at\":\"2021-12-06T16:10:12.000Z\",\"source\":\"Twitter Web App\",\"lang\":\"en\"},{\"id\":\"1467889066758721544\",\"public_metrics\":{\"retweet_count\":0,\"reply_count\":0,\"like_count\":0,\"quote_count\":0},\"possibly_sensitive\":false,\"text\":\"When in doubt, follow your heart.  @davepperlmutter @Dab10ten @BootsieBoutique @PhebeOhYes @TheCarlWeathers @missmayim @KristiOConnor_\",\"created_at\":\"2021-12-06T16:10:00.000Z\",\"source\":\"Twitter Web App\",\"lang\":\"en\"},{\"id\":\"1467885955248005124\",\"public_metrics\":{\"retweet_count\":16,\"reply_count\":0,\"like_count\":0,\"quote_count\":0},\"possibly_sensitive\":false,\"text\":\"RT @TrevorProject: \\\\\"Although she\\'s been a fan of the quiz show for years, Schneider, who works as an engineering manager in California, sti…\",\"created_at\":\"2021-12-06T15:57:38.000Z\",\"source\":\"Twitter for iPad\",\"lang\":\"en\"},{\"id\":\"1467885631103635467\",\"public_metrics\":{\"retweet_count\":22,\"reply_count\":0,\"like_count\":0,\"quote_count\":0},\"possibly_sensitive\":false,\"text\":\"RT @KenJennings: Half of the opinions I’ve ever had in my life are now Beatles opinions from the past week.\",\"created_at\":\"2021-12-06T15:56:21.000Z\",\"source\":\"Twitter Web App\",\"lang\":\"en\"},{\"id\":\"1467885261166198789\",\"public_metrics\":{\"retweet_count\":0,\"reply_count\":1,\"like_count\":0,\"quote_count\":0},\"possibly_sensitive\":false,\"text\":\"@BrianRFSU @e_haah @Jeopardy What prompts transphobia?\",\"created_at\":\"2021-12-06T15:54:52.000Z\",\"source\":\"Twitter for iPhone\",\"lang\":\"en\"},{\"id\":\"1467884862866604034\",\"public_metrics\":{\"retweet_count\":1,\"reply_count\":0,\"like_count\":2,\"quote_count\":0},\"possibly_sensitive\":false,\"text\":\"@EdrioBenthic @KenJennings four outsold the white album don’t even\",\"created_at\":\"2021-12-06T15:53:17.000Z\",\"source\":\"Twitter for iPhone\",\"lang\":\"en\"},{\"id\":\"1467884197570220035\",\"public_metrics\":{\"retweet_count\":0,\"reply_count\":0,\"like_count\":1,\"quote_count\":0},\"possibly_sensitive\":false,\"text\":\"#Jeopardy New Professors Hester Blum Bio. \\\\nhttps://t.co/svgYHF7Qx3\",\"created_at\":\"2021-12-06T15:50:39.000Z\",\"source\":\"Twitter Web App\",\"lang\":\"en\"},{\"id\":\"1467883742005841921\",\"public_metrics\":{\"retweet_count\":0,\"reply_count\":0,\"like_count\":1,\"quote_count\":0},\"possibly_sensitive\":false,\"text\":\"Jeopardy The #professorsTournament Has Started Today #Jeopardy \\\\nhttps://t.co/ytMQDyK75O\",\"created_at\":\"2021-12-06T15:48:50.000Z\",\"source\":\"Twitter Web App\",\"lang\":\"en\"},{\"id\":\"1467883474111680514\",\"public_metrics\":{\"retweet_count\":1,\"reply_count\":0,\"like_count\":0,\"quote_count\":0},\"possibly_sensitive\":false,\"text\":\"RT @jeopardybrian: Good luck to fellow @UMichLaw alum @dispositive in today’s debut episode of the @Jeopardy Professors Tournament!\",\"created_at\":\"2021-12-06T15:47:46.000Z\",\"source\":\"Twitter for iPhone\",\"lang\":\"en\"},{\"id\":\"1467882315858784258\",\"public_metrics\":{\"retweet_count\":11,\"reply_count\":0,\"like_count\":0,\"quote_count\":0},\"possibly_sensitive\":false,\"text\":\"RT @missmayim: Guess what! Today is the day?! Our merch store is officially unveiled &amp; our first collection is now available on https://t.c…\",\"created_at\":\"2021-12-06T15:43:10.000Z\",\"source\":\"TweetCaster for Android\",\"lang\":\"en\"},{\"id\":\"1467881916267474947\",\"public_metrics\":{\"retweet_count\":0,\"reply_count\":1,\"like_count\":0,\"quote_count\":0},\"possibly_sensitive\":false,\"text\":\"@chris_ellis @e_haah @Jeopardy No he is not. But please continue the fun.\",\"created_at\":\"2021-12-06T15:41:35.000Z\",\"source\":\"Twitter for iPhone\",\"lang\":\"en\"},{\"id\":\"1467881623332921347\",\"public_metrics\":{\"retweet_count\":11,\"reply_count\":0,\"like_count\":0,\"quote_count\":0},\"possibly_sensitive\":false,\"text\":\"RT @missmayim: Guess what! Today is the day?! Our merch store is officially unveiled &amp; our first collection is now available on https://t.c…\",\"created_at\":\"2021-12-06T15:40:25.000Z\",\"source\":\"Twitter for Android\",\"lang\":\"en\"},{\"id\":\"1467881558812024838\",\"public_metrics\":{\"retweet_count\":0,\"reply_count\":1,\"like_count\":0,\"quote_count\":0},\"possibly_sensitive\":false,\"text\":\"@BrianRFSU @e_haah @Jeopardy She is a woman. This seems complicated for you perhaps?\",\"created_at\":\"2021-12-06T15:40:10.000Z\",\"source\":\"Twitter for iPhone\",\"lang\":\"en\"},{\"id\":\"1467880828730499078\",\"public_metrics\":{\"retweet_count\":0,\"reply_count\":0,\"like_count\":0,\"quote_count\":0},\"possibly_sensitive\":false,\"text\":\"@missmayim @BialikBreakdown This is a killer look!! I love it completely.\",\"created_at\":\"2021-12-06T15:37:16.000Z\",\"source\":\"Tweetbot for iΟS\",\"lang\":\"en\"},{\"id\":\"1467879947159097348\",\"public_metrics\":{\"retweet_count\":0,\"reply_count\":0,\"like_count\":0,\"quote_count\":0},\"possibly_sensitive\":false,\"text\":\"@JeanmarieEvelly Have you seen @CallMeKatFOX with @missmayim?  That\\'s what it\\'s about!  #Single #CatCafe\",\"created_at\":\"2021-12-06T15:33:45.000Z\",\"source\":\"Twitter Web App\",\"lang\":\"en\"},{\"id\":\"1467879928762937349\",\"public_metrics\":{\"retweet_count\":0,\"reply_count\":0,\"like_count\":0,\"quote_count\":0},\"possibly_sensitive\":false,\"text\":\"@Jeopardy Too bad. You need to go back to retiring a player at the end of a week.\",\"created_at\":\"2021-12-06T15:33:41.000Z\",\"source\":\"Twitter Web App\",\"lang\":\"en\"},{\"id\":\"1467879896785379330\",\"public_metrics\":{\"retweet_count\":8,\"reply_count\":0,\"like_count\":0,\"quote_count\":0},\"possibly_sensitive\":false,\"text\":\"RT @missmayim: Hi everyone!\\\\n\\\\nTODAY IS THE DAY, our merch store is officially open! Make sure to head over to https://t.co/nHwKbFZ51S &amp; clic…\",\"created_at\":\"2021-12-06T15:33:33.000Z\",\"source\":\"Twitter for Android\",\"lang\":\"en\"},{\"id\":\"1467879671744405506\",\"public_metrics\":{\"retweet_count\":0,\"reply_count\":0,\"like_count\":2,\"quote_count\":0},\"possibly_sensitive\":false,\"text\":\"@missmayim @BialikBreakdown Have not missed 1 podcast. Now merch?!? I’ll consider it a late Hanukkah present for myself \\\\uD83D\\\\uDE0F\",\"created_at\":\"2021-12-06T15:32:40.000Z\",\"source\":\"Twitter for iPhone\",\"lang\":\"en\"},{\"id\":\"1467879114556198921\",\"public_metrics\":{\"retweet_count\":0,\"reply_count\":0,\"like_count\":0,\"quote_count\":0},\"possibly_sensitive\":false,\"text\":\"@missmayim @BialikBreakdown Following \\\\uD83D\\\\uDC4D\\\\uD83C\\\\uDFFE\\\\uD83D\\\\uDC4D\\\\uD83C\\\\uDFFE\\\\uD83D\\\\uDC4D\\\\uD83C\\\\uDFFE\\\\uD83D\\\\uDC4D\\\\uD83C\\\\uDFFE\\\\uD83D\\\\uDC4D\\\\uD83C\\\\uDFFE\",\"created_at\":\"2021-12-06T15:30:27.000Z\",\"source\":\"Twitter for Android\",\"lang\":\"en\"},{\"id\":\"1467878433204191238\",\"public_metrics\":{\"retweet_count\":0,\"reply_count\":0,\"like_count\":3,\"quote_count\":0},\"possibly_sensitive\":false,\"text\":\"@missmayim @BialikBreakdown so buying the brain perfect tee!\",\"created_at\":\"2021-12-06T15:27:44.000Z\",\"source\":\"Twitter Web App\",\"lang\":\"en\"},{\"id\":\"1467878031553355777\",\"public_metrics\":{\"retweet_count\":11,\"reply_count\":0,\"like_count\":0,\"quote_count\":0},\"possibly_sensitive\":false,\"text\":\"RT @missmayim: Guess what! Today is the day?! Our merch store is officially unveiled &amp; our first collection is now available on https://t.c…\",\"created_at\":\"2021-12-06T15:26:09.000Z\",\"source\":\"Twitter Web App\",\"lang\":\"en\"},{\"id\":\"1467876989176537103\",\"public_metrics\":{\"retweet_count\":0,\"reply_count\":0,\"like_count\":0,\"quote_count\":0},\"possibly_sensitive\":false,\"text\":\"@missmayim @BialikBreakdown Amazing achievement Mayim so proud of you \\\\uD83D\\\\uDE18xx\",\"created_at\":\"2021-12-06T15:22:00.000Z\",\"source\":\"Twitter for iPhone\",\"lang\":\"en\"},{\"id\":\"1467876752043266048\",\"public_metrics\":{\"retweet_count\":11,\"reply_count\":0,\"like_count\":0,\"quote_count\":0},\"possibly_sensitive\":false,\"text\":\"RT @missmayim: Guess what! Today is the day?! Our merch store is officially unveiled &amp; our first collection is now available on https://t.c…\",\"created_at\":\"2021-12-06T15:21:04.000Z\",\"source\":\"Twitter for Android\",\"lang\":\"en\"},{\"id\":\"1467876561491836928\",\"public_metrics\":{\"retweet_count\":1,\"reply_count\":0,\"like_count\":0,\"quote_count\":0},\"possibly_sensitive\":false,\"text\":\"RT @damnarbor: Real Damn Arbor-heads won’t want to miss our very own Chief First Amendment Attorney, @dispositive, on @Jeopardy’s Tournamen…\",\"created_at\":\"2021-12-06T15:20:18.000Z\",\"source\":\"Twitter for Mac\",\"lang\":\"en\"},{\"id\":\"1467875947567222786\",\"public_metrics\":{\"retweet_count\":0,\"reply_count\":0,\"like_count\":0,\"quote_count\":0},\"possibly_sensitive\":false,\"text\":\"@missmayim @BialikBreakdown Blue eyes\",\"created_at\":\"2021-12-06T15:17:52.000Z\",\"source\":\"Twitter for Android\",\"lang\":\"en\"},{\"id\":\"1467875799290322945\",\"public_metrics\":{\"retweet_count\":11,\"reply_count\":0,\"like_count\":0,\"quote_count\":0},\"possibly_sensitive\":false,\"text\":\"RT @missmayim: Guess what! Today is the day?! Our merch store is officially unveiled &amp; our first collection is now available on https://t.c…\",\"created_at\":\"2021-12-06T15:17:17.000Z\",\"source\":\"Twitter for iPhone\",\"lang\":\"en\"},{\"id\":\"1467875672299384837\",\"public_metrics\":{\"retweet_count\":8,\"reply_count\":0,\"like_count\":0,\"quote_count\":0},\"possibly_sensitive\":false,\"text\":\"RT @missmayim: Hi everyone!\\\\n\\\\nTODAY IS THE DAY, our merch store is officially open! Make sure to head over to https://t.co/nHwKbFZ51S &amp; clic…\",\"created_at\":\"2021-12-06T15:16:46.000Z\",\"source\":\"Twitter for iPhone\",\"lang\":\"en\"},{\"id\":\"1467875567718608898\",\"public_metrics\":{\"retweet_count\":0,\"reply_count\":0,\"like_count\":0,\"quote_count\":0},\"possibly_sensitive\":false,\"text\":\"@missmayim Hey Mayim do you deliver to the Uk \\\\uD83C\\\\uDDEC\\\\uD83C\\\\uDDE7 x\",\"created_at\":\"2021-12-06T15:16:21.000Z\",\"source\":\"Twitter for iPhone\",\"lang\":\"en\"},{\"id\":\"1467875508012597254\",\"public_metrics\":{\"retweet_count\":8,\"reply_count\":0,\"like_count\":0,\"quote_count\":0},\"possibly_sensitive\":false,\"text\":\"RT @missmayim: Hi everyone!\\\\n\\\\nTODAY IS THE DAY, our merch store is officially open! Make sure to head over to https://t.co/nHwKbFZ51S &amp; clic…\",\"created_at\":\"2021-12-06T15:16:07.000Z\",\"source\":\"Twitter for iPhone\",\"lang\":\"en\"},{\"id\":\"1467875505256939528\",\"public_metrics\":{\"retweet_count\":8,\"reply_count\":0,\"like_count\":0,\"quote_count\":0},\"possibly_sensitive\":false,\"text\":\"RT @missmayim: Hi everyone!\\\\n\\\\nTODAY IS THE DAY, our merch store is officially open! Make sure to head over to https://t.co/nHwKbFZ51S &amp; clic…\",\"created_at\":\"2021-12-06T15:16:06.000Z\",\"source\":\"Twitter for iPhone\",\"lang\":\"en\"},{\"id\":\"1467875500278403075\",\"public_metrics\":{\"retweet_count\":8,\"reply_count\":0,\"like_count\":0,\"quote_count\":0},\"possibly_sensitive\":false,\"text\":\"RT @missmayim: Hi everyone!\\\\n\\\\nTODAY IS THE DAY, our merch store is officially open! Make sure to head over to https://t.co/nHwKbFZ51S &amp; clic…\",\"created_at\":\"2021-12-06T15:16:05.000Z\",\"source\":\"Twitter for iPhone\",\"lang\":\"en\"},{\"id\":\"1467874764425412611\",\"public_metrics\":{\"retweet_count\":0,\"reply_count\":0,\"like_count\":0,\"quote_count\":0},\"possibly_sensitive\":false,\"text\":\"@missmayim @BialikBreakdown Congratulations.\",\"created_at\":\"2021-12-06T15:13:10.000Z\",\"source\":\"Twitter Web App\",\"lang\":\"en\"},{\"id\":\"1467874238862295041\",\"attachments\":{\"media_keys\":[\"3_1467874220772184074\"]},\"public_metrics\":{\"retweet_count\":0,\"reply_count\":0,\"like_count\":1,\"quote_count\":0},\"possibly_sensitive\":false,\"text\":\"@missmayim @BialikBreakdown Amy Farrah Fowler for the WIN!!!!!!!!!! https://t.co/QYsbEn9MHK\",\"created_at\":\"2021-12-06T15:11:04.000Z\",\"source\":\"Twitter Web App\",\"lang\":\"en\"}],\"meta\":{\"newest_id\":\"1467929555121983490\",\"oldest_id\":\"1467874238862295041\",\"result_count\":100,\"next_token\":\"b26v89c19zqg8o3fpdy8iqb1zm01w9zr0de645p9hte2l\"}}'"
      ]
     },
     "execution_count": 46,
     "metadata": {},
     "output_type": "execute_result"
    }
   ],
   "source": [
    "response_4.text"
   ]
  },
  {
   "cell_type": "code",
   "execution_count": 47,
   "id": "96b5daed",
   "metadata": {},
   "outputs": [],
   "source": [
    "my_df = my_df.append(pd.DataFrame(json.loads(response_4.text)['data']), ignore_index= True)"
   ]
  },
  {
   "cell_type": "code",
   "execution_count": 48,
   "id": "2e5fb4b8",
   "metadata": {},
   "outputs": [
    {
     "data": {
      "text/html": [
       "<div>\n",
       "<style scoped>\n",
       "    .dataframe tbody tr th:only-of-type {\n",
       "        vertical-align: middle;\n",
       "    }\n",
       "\n",
       "    .dataframe tbody tr th {\n",
       "        vertical-align: top;\n",
       "    }\n",
       "\n",
       "    .dataframe thead th {\n",
       "        text-align: right;\n",
       "    }\n",
       "</style>\n",
       "<table border=\"1\" class=\"dataframe\">\n",
       "  <thead>\n",
       "    <tr style=\"text-align: right;\">\n",
       "      <th></th>\n",
       "      <th>lang</th>\n",
       "      <th>public_metrics</th>\n",
       "      <th>id</th>\n",
       "      <th>possibly_sensitive</th>\n",
       "      <th>text</th>\n",
       "      <th>author_id</th>\n",
       "      <th>created_at</th>\n",
       "      <th>source</th>\n",
       "      <th>attachments</th>\n",
       "    </tr>\n",
       "  </thead>\n",
       "  <tbody>\n",
       "    <tr>\n",
       "      <th>0</th>\n",
       "      <td>en</td>\n",
       "      <td>{'retweet_count': 0, 'reply_count': 0, 'like_c...</td>\n",
       "      <td>1467979913923895298</td>\n",
       "      <td>False</td>\n",
       "      <td>@glaad @Jeopardamy @emilyvdw @Jeopardy Thanx f...</td>\n",
       "      <td>995446130967302144</td>\n",
       "      <td>2021-12-06T22:10:59.000Z</td>\n",
       "      <td>Twitter for iPhone</td>\n",
       "      <td>NaN</td>\n",
       "    </tr>\n",
       "    <tr>\n",
       "      <th>1</th>\n",
       "      <td>en</td>\n",
       "      <td>{'retweet_count': 0, 'reply_count': 0, 'like_c...</td>\n",
       "      <td>1467979782197592075</td>\n",
       "      <td>False</td>\n",
       "      <td>Format: 8-day first round, four profs per day,...</td>\n",
       "      <td>770293085771210752</td>\n",
       "      <td>2021-12-06T22:10:28.000Z</td>\n",
       "      <td>Twitter for iPhone</td>\n",
       "      <td>NaN</td>\n",
       "    </tr>\n",
       "    <tr>\n",
       "      <th>2</th>\n",
       "      <td>en</td>\n",
       "      <td>{'retweet_count': 0, 'reply_count': 0, 'like_c...</td>\n",
       "      <td>1467979250372431878</td>\n",
       "      <td>False</td>\n",
       "      <td>Y'all my professor is going to be a contestant...</td>\n",
       "      <td>2932977243</td>\n",
       "      <td>2021-12-06T22:08:21.000Z</td>\n",
       "      <td>Twitter for iPhone</td>\n",
       "      <td>NaN</td>\n",
       "    </tr>\n",
       "    <tr>\n",
       "      <th>3</th>\n",
       "      <td>en</td>\n",
       "      <td>{'retweet_count': 0, 'reply_count': 1, 'like_c...</td>\n",
       "      <td>1467978490758811657</td>\n",
       "      <td>False</td>\n",
       "      <td>The @Jeopardy Professors Tournament begins tod...</td>\n",
       "      <td>770293085771210752</td>\n",
       "      <td>2021-12-06T22:05:20.000Z</td>\n",
       "      <td>Twitter for iPhone</td>\n",
       "      <td>NaN</td>\n",
       "    </tr>\n",
       "    <tr>\n",
       "      <th>4</th>\n",
       "      <td>en</td>\n",
       "      <td>{'retweet_count': 0, 'reply_count': 0, 'like_c...</td>\n",
       "      <td>1467978245861691397</td>\n",
       "      <td>False</td>\n",
       "      <td>The lovely @missmayim is back hosting @jeopard...</td>\n",
       "      <td>355147215</td>\n",
       "      <td>2021-12-06T22:04:22.000Z</td>\n",
       "      <td>Twitter for Android</td>\n",
       "      <td>NaN</td>\n",
       "    </tr>\n",
       "    <tr>\n",
       "      <th>...</th>\n",
       "      <td>...</td>\n",
       "      <td>...</td>\n",
       "      <td>...</td>\n",
       "      <td>...</td>\n",
       "      <td>...</td>\n",
       "      <td>...</td>\n",
       "      <td>...</td>\n",
       "      <td>...</td>\n",
       "      <td>...</td>\n",
       "    </tr>\n",
       "    <tr>\n",
       "      <th>395</th>\n",
       "      <td>en</td>\n",
       "      <td>{'retweet_count': 8, 'reply_count': 0, 'like_c...</td>\n",
       "      <td>1467875508012597254</td>\n",
       "      <td>False</td>\n",
       "      <td>RT @missmayim: Hi everyone!\\n\\nTODAY IS THE DA...</td>\n",
       "      <td>NaN</td>\n",
       "      <td>2021-12-06T15:16:07.000Z</td>\n",
       "      <td>Twitter for iPhone</td>\n",
       "      <td>NaN</td>\n",
       "    </tr>\n",
       "    <tr>\n",
       "      <th>396</th>\n",
       "      <td>en</td>\n",
       "      <td>{'retweet_count': 8, 'reply_count': 0, 'like_c...</td>\n",
       "      <td>1467875505256939528</td>\n",
       "      <td>False</td>\n",
       "      <td>RT @missmayim: Hi everyone!\\n\\nTODAY IS THE DA...</td>\n",
       "      <td>NaN</td>\n",
       "      <td>2021-12-06T15:16:06.000Z</td>\n",
       "      <td>Twitter for iPhone</td>\n",
       "      <td>NaN</td>\n",
       "    </tr>\n",
       "    <tr>\n",
       "      <th>397</th>\n",
       "      <td>en</td>\n",
       "      <td>{'retweet_count': 8, 'reply_count': 0, 'like_c...</td>\n",
       "      <td>1467875500278403075</td>\n",
       "      <td>False</td>\n",
       "      <td>RT @missmayim: Hi everyone!\\n\\nTODAY IS THE DA...</td>\n",
       "      <td>NaN</td>\n",
       "      <td>2021-12-06T15:16:05.000Z</td>\n",
       "      <td>Twitter for iPhone</td>\n",
       "      <td>NaN</td>\n",
       "    </tr>\n",
       "    <tr>\n",
       "      <th>398</th>\n",
       "      <td>en</td>\n",
       "      <td>{'retweet_count': 0, 'reply_count': 0, 'like_c...</td>\n",
       "      <td>1467874764425412611</td>\n",
       "      <td>False</td>\n",
       "      <td>@missmayim @BialikBreakdown Congratulations.</td>\n",
       "      <td>NaN</td>\n",
       "      <td>2021-12-06T15:13:10.000Z</td>\n",
       "      <td>Twitter Web App</td>\n",
       "      <td>NaN</td>\n",
       "    </tr>\n",
       "    <tr>\n",
       "      <th>399</th>\n",
       "      <td>en</td>\n",
       "      <td>{'retweet_count': 0, 'reply_count': 0, 'like_c...</td>\n",
       "      <td>1467874238862295041</td>\n",
       "      <td>False</td>\n",
       "      <td>@missmayim @BialikBreakdown Amy Farrah Fowler ...</td>\n",
       "      <td>NaN</td>\n",
       "      <td>2021-12-06T15:11:04.000Z</td>\n",
       "      <td>Twitter Web App</td>\n",
       "      <td>{'media_keys': ['3_1467874220772184074']}</td>\n",
       "    </tr>\n",
       "  </tbody>\n",
       "</table>\n",
       "<p>400 rows × 9 columns</p>\n",
       "</div>"
      ],
      "text/plain": [
       "    lang                                     public_metrics  \\\n",
       "0     en  {'retweet_count': 0, 'reply_count': 0, 'like_c...   \n",
       "1     en  {'retweet_count': 0, 'reply_count': 0, 'like_c...   \n",
       "2     en  {'retweet_count': 0, 'reply_count': 0, 'like_c...   \n",
       "3     en  {'retweet_count': 0, 'reply_count': 1, 'like_c...   \n",
       "4     en  {'retweet_count': 0, 'reply_count': 0, 'like_c...   \n",
       "..   ...                                                ...   \n",
       "395   en  {'retweet_count': 8, 'reply_count': 0, 'like_c...   \n",
       "396   en  {'retweet_count': 8, 'reply_count': 0, 'like_c...   \n",
       "397   en  {'retweet_count': 8, 'reply_count': 0, 'like_c...   \n",
       "398   en  {'retweet_count': 0, 'reply_count': 0, 'like_c...   \n",
       "399   en  {'retweet_count': 0, 'reply_count': 0, 'like_c...   \n",
       "\n",
       "                      id  possibly_sensitive  \\\n",
       "0    1467979913923895298               False   \n",
       "1    1467979782197592075               False   \n",
       "2    1467979250372431878               False   \n",
       "3    1467978490758811657               False   \n",
       "4    1467978245861691397               False   \n",
       "..                   ...                 ...   \n",
       "395  1467875508012597254               False   \n",
       "396  1467875505256939528               False   \n",
       "397  1467875500278403075               False   \n",
       "398  1467874764425412611               False   \n",
       "399  1467874238862295041               False   \n",
       "\n",
       "                                                  text           author_id  \\\n",
       "0    @glaad @Jeopardamy @emilyvdw @Jeopardy Thanx f...  995446130967302144   \n",
       "1    Format: 8-day first round, four profs per day,...  770293085771210752   \n",
       "2    Y'all my professor is going to be a contestant...          2932977243   \n",
       "3    The @Jeopardy Professors Tournament begins tod...  770293085771210752   \n",
       "4    The lovely @missmayim is back hosting @jeopard...           355147215   \n",
       "..                                                 ...                 ...   \n",
       "395  RT @missmayim: Hi everyone!\\n\\nTODAY IS THE DA...                 NaN   \n",
       "396  RT @missmayim: Hi everyone!\\n\\nTODAY IS THE DA...                 NaN   \n",
       "397  RT @missmayim: Hi everyone!\\n\\nTODAY IS THE DA...                 NaN   \n",
       "398       @missmayim @BialikBreakdown Congratulations.                 NaN   \n",
       "399  @missmayim @BialikBreakdown Amy Farrah Fowler ...                 NaN   \n",
       "\n",
       "                   created_at               source  \\\n",
       "0    2021-12-06T22:10:59.000Z   Twitter for iPhone   \n",
       "1    2021-12-06T22:10:28.000Z   Twitter for iPhone   \n",
       "2    2021-12-06T22:08:21.000Z   Twitter for iPhone   \n",
       "3    2021-12-06T22:05:20.000Z   Twitter for iPhone   \n",
       "4    2021-12-06T22:04:22.000Z  Twitter for Android   \n",
       "..                        ...                  ...   \n",
       "395  2021-12-06T15:16:07.000Z   Twitter for iPhone   \n",
       "396  2021-12-06T15:16:06.000Z   Twitter for iPhone   \n",
       "397  2021-12-06T15:16:05.000Z   Twitter for iPhone   \n",
       "398  2021-12-06T15:13:10.000Z      Twitter Web App   \n",
       "399  2021-12-06T15:11:04.000Z      Twitter Web App   \n",
       "\n",
       "                                   attachments  \n",
       "0                                          NaN  \n",
       "1                                          NaN  \n",
       "2                                          NaN  \n",
       "3                                          NaN  \n",
       "4                                          NaN  \n",
       "..                                         ...  \n",
       "395                                        NaN  \n",
       "396                                        NaN  \n",
       "397                                        NaN  \n",
       "398                                        NaN  \n",
       "399  {'media_keys': ['3_1467874220772184074']}  \n",
       "\n",
       "[400 rows x 9 columns]"
      ]
     },
     "execution_count": 48,
     "metadata": {},
     "output_type": "execute_result"
    }
   ],
   "source": [
    "my_df"
   ]
  },
  {
   "cell_type": "code",
   "execution_count": 49,
   "id": "d4c60e0b",
   "metadata": {},
   "outputs": [
    {
     "data": {
      "text/plain": [
       "{'newest_id': '1467979913923895298',\n",
       " 'oldest_id': '1467929873943609345',\n",
       " 'result_count': 100,\n",
       " 'next_token': 'b26v89c19zqg8o3fpdy8iseaefhfw53e8zwxxg4b94kfx'}"
      ]
     },
     "execution_count": 49,
     "metadata": {},
     "output_type": "execute_result"
    }
   ],
   "source": [
    "response_1_dict['meta']"
   ]
  },
  {
   "cell_type": "code",
   "execution_count": 50,
   "id": "592551cb",
   "metadata": {},
   "outputs": [],
   "source": [
    "response_5 = requests.request(\"GET\", my_api_url_2, headers = header)"
   ]
  },
  {
   "cell_type": "code",
   "execution_count": 51,
   "id": "44c9243d",
   "metadata": {},
   "outputs": [
    {
     "data": {
      "text/plain": [
       "'{\"data\":[{\"possibly_sensitive\":false,\"public_metrics\":{\"retweet_count\":12,\"reply_count\":0,\"like_count\":0,\"quote_count\":0},\"source\":\"Twitter Web App\",\"created_at\":\"2021-12-06T18:50:53.000Z\",\"id\":\"1467929555121983490\",\"attachments\":{\"media_keys\":[\"13_1467772924123779076\"]},\"text\":\"RT @Jeopardy: Our first-ever #ProfessorsTournament starts TODAY! Who’s ready?! https://t.co/B9ge3wec6p\",\"lang\":\"en\"},{\"possibly_sensitive\":false,\"public_metrics\":{\"retweet_count\":0,\"reply_count\":0,\"like_count\":0,\"quote_count\":0},\"source\":\"Twitter for iPhone\",\"created_at\":\"2021-12-06T18:49:04.000Z\",\"id\":\"1467929098819457029\",\"text\":\"@1962Wren @CJTFOIR @SecBlinken @DeptofDefense @OIRSpox @oirdcom @SenGillibrand\\\\n@SenKamalaHarris\\\\n@ewarren\\\\n@JoeBiden\\\\n@JulianCastro\\\\n@HillaryClinton\\\\n@SenSanders\\\\n@CoryBooker\\\\n@SenSchumer\\\\n@AOC\\\\n@Ilhan\\\\n@RepRashida\\\\n@missmayim\",\"lang\":\"und\"},{\"possibly_sensitive\":false,\"public_metrics\":{\"retweet_count\":0,\"reply_count\":0,\"like_count\":0,\"quote_count\":0},\"source\":\"Twitter Web App\",\"created_at\":\"2021-12-06T18:41:34.000Z\",\"id\":\"1467927212200534022\",\"text\":\"@Jeopardy Sounds great!  Looks great!  Can\\'t wait to watch!\",\"lang\":\"en\"},{\"possibly_sensitive\":false,\"public_metrics\":{\"retweet_count\":0,\"reply_count\":0,\"like_count\":0,\"quote_count\":0},\"source\":\"Twitter for Android\",\"created_at\":\"2021-12-06T18:40:31.000Z\",\"id\":\"1467926945035743233\",\"text\":\"@Jeopardy Welcome back Mayim, you have been missed.\",\"lang\":\"en\"},{\"possibly_sensitive\":false,\"public_metrics\":{\"retweet_count\":0,\"reply_count\":0,\"like_count\":0,\"quote_count\":0},\"source\":\"TweetDeck\",\"created_at\":\"2021-12-06T18:38:45.000Z\",\"id\":\"1467926500032892934\",\"text\":\".@VanderbiltLaw professor Gautam Hans competes on tonight\\'s episode of\\\\n@Jeopardy. The Professors Tournament will feature 15 educators competing for a $100,000 grand prize + a spot in the Tournament of Champions. Tune in at 5 p.m. on WZTV. \\\\uD83D\\\\uDCFAhttps://t.co/83CxYc8dCS\",\"lang\":\"en\"},{\"possibly_sensitive\":false,\"public_metrics\":{\"retweet_count\":43,\"reply_count\":0,\"like_count\":0,\"quote_count\":0},\"source\":\"Twitter for Android\",\"created_at\":\"2021-12-06T18:38:41.000Z\",\"id\":\"1467926484199292928\",\"attachments\":{\"media_keys\":[\"7_1294724089865674752\"]},\"text\":\"RT @EliasToufexis: I’m impressed that Trebek pronounced my name correctly. Thanks @Jeopardy https://t.co/jaJBB3cclD\",\"lang\":\"en\"},{\"possibly_sensitive\":false,\"public_metrics\":{\"retweet_count\":0,\"reply_count\":0,\"like_count\":2,\"quote_count\":0},\"source\":\"Twitter for iPhone\",\"created_at\":\"2021-12-06T18:37:18.000Z\",\"id\":\"1467926136147619840\",\"text\":\"@Jeopardy The only problem with this most awesome show is Mayim. Irritating voice and her attempt at being cute and funny is unattractive. She spoils the enjoyment of this legendary show\",\"lang\":\"en\"},{\"possibly_sensitive\":false,\"public_metrics\":{\"retweet_count\":1,\"reply_count\":0,\"like_count\":1,\"quote_count\":0},\"source\":\"Twitter for iPhone\",\"created_at\":\"2021-12-06T18:29:03.000Z\",\"id\":\"1467924060080328704\",\"text\":\"This “Words in elements” category in last week’s #Jeopardy was a perfect mix of word-play and science \\\\uD83E\\\\uDDEA \\\\n\\\\nBr: this possessive pronoun\\\\nSi: this, a symbol for a program on your computer \\\\nHg: this term for a mean or scroungy dog\\\\nMn: this Asian art form\\\\nI: this Allfather\\\\n\\\\n\\\\uD83D\\\\uDC95\\\\n#STEAM\",\"lang\":\"en\"},{\"possibly_sensitive\":false,\"public_metrics\":{\"retweet_count\":0,\"reply_count\":0,\"like_count\":0,\"quote_count\":0},\"source\":\"Twitter Web App\",\"created_at\":\"2021-12-06T18:23:23.000Z\",\"id\":\"1467922635212214285\",\"text\":\"@Spiritcaat @nytimes @KenJennings He\\'s a LOT better then her,,,\",\"lang\":\"en\"},{\"possibly_sensitive\":false,\"public_metrics\":{\"retweet_count\":9,\"reply_count\":0,\"like_count\":0,\"quote_count\":0},\"source\":\"Twitter for iPhone\",\"created_at\":\"2021-12-06T18:22:44.000Z\",\"id\":\"1467922473173856263\",\"text\":\"RT @missmayim: We played #RAPIDFIRE questions with the lovely @danicamckellar on the  #bialikbreakdown podcast! \\\\uD83E\\\\uDDE0✨  #DanicaMckellar #TheWon…\",\"lang\":\"en\"},{\"possibly_sensitive\":false,\"public_metrics\":{\"retweet_count\":48,\"reply_count\":0,\"like_count\":0,\"quote_count\":0},\"source\":\"Twitter for iPhone\",\"created_at\":\"2021-12-06T18:21:33.000Z\",\"id\":\"1467922174308671491\",\"text\":\"RT @Jeopardy: The #ProfessorsTournament starts Monday! Don\\'t worry – Amy Schneider will return to Jeopardy! December 20! https://t.co/hQGge…\",\"lang\":\"en\"},{\"possibly_sensitive\":false,\"public_metrics\":{\"retweet_count\":0,\"reply_count\":1,\"like_count\":4,\"quote_count\":0},\"source\":\"Twitter for iPhone\",\"created_at\":\"2021-12-06T18:18:55.000Z\",\"id\":\"1467921512078487555\",\"text\":\"Excited to watch the first ever Prof tournament this evening on #Jeopardy.\",\"lang\":\"en\"},{\"possibly_sensitive\":false,\"public_metrics\":{\"retweet_count\":12,\"reply_count\":0,\"like_count\":0,\"quote_count\":0},\"source\":\"Twitter for iPhone\",\"created_at\":\"2021-12-06T18:17:33.000Z\",\"id\":\"1467921165171761153\",\"attachments\":{\"media_keys\":[\"13_1467772924123779076\"]},\"text\":\"RT @Jeopardy: Our first-ever #ProfessorsTournament starts TODAY! Who’s ready?! https://t.co/B9ge3wec6p\",\"lang\":\"en\"},{\"possibly_sensitive\":false,\"public_metrics\":{\"retweet_count\":0,\"reply_count\":0,\"like_count\":1,\"quote_count\":0},\"source\":\"Twitter Web App\",\"created_at\":\"2021-12-06T18:16:40.000Z\",\"id\":\"1467920942752010253\",\"text\":\"@OsherL @Jeopardy @NYTimesWordplay I believe the tiebreaker is amount of money going into Final Jeopardy, followed by the amount going into Double Jeopardy.\",\"lang\":\"en\"},{\"possibly_sensitive\":false,\"public_metrics\":{\"retweet_count\":0,\"reply_count\":0,\"like_count\":2,\"quote_count\":0},\"source\":\"Twitter for Android\",\"created_at\":\"2021-12-06T18:15:59.000Z\",\"id\":\"1467920772127543299\",\"text\":\"@Jeopardy @missmayim so happy to see you\\'re back hosting this ultimate egghead challenge!\",\"lang\":\"en\"},{\"possibly_sensitive\":false,\"public_metrics\":{\"retweet_count\":0,\"reply_count\":0,\"like_count\":0,\"quote_count\":0},\"source\":\"Twitter Web App\",\"created_at\":\"2021-12-06T18:10:15.000Z\",\"id\":\"1467919329396101122\",\"text\":\"@Jeopardy Go Prof. Buttrey!\",\"lang\":\"en\"},{\"possibly_sensitive\":false,\"public_metrics\":{\"retweet_count\":12,\"reply_count\":0,\"like_count\":0,\"quote_count\":0},\"source\":\"Twitter Web App\",\"created_at\":\"2021-12-06T18:06:51.000Z\",\"id\":\"1467918472114053130\",\"attachments\":{\"media_keys\":[\"13_1467772924123779076\"]},\"text\":\"RT @Jeopardy: Our first-ever #ProfessorsTournament starts TODAY! Who’s ready?! https://t.co/B9ge3wec6p\",\"lang\":\"en\"},{\"possibly_sensitive\":false,\"public_metrics\":{\"retweet_count\":0,\"reply_count\":0,\"like_count\":0,\"quote_count\":0},\"source\":\"Twitter for Android\",\"created_at\":\"2021-12-06T18:06:19.000Z\",\"id\":\"1467918340802945024\",\"text\":\"@Jeopardy Thank you because Amy must return!\",\"lang\":\"en\"},{\"possibly_sensitive\":true,\"public_metrics\":{\"retweet_count\":12,\"reply_count\":0,\"like_count\":0,\"quote_count\":0},\"source\":\"Twitter for iPhone\",\"created_at\":\"2021-12-06T18:03:24.000Z\",\"id\":\"1467917605113638913\",\"attachments\":{\"media_keys\":[\"13_1467772924123779076\"]},\"text\":\"RT @Jeopardy: Our first-ever #ProfessorsTournament starts TODAY! Who’s ready?! https://t.co/B9ge3wec6p\",\"lang\":\"en\"},{\"possibly_sensitive\":false,\"public_metrics\":{\"retweet_count\":0,\"reply_count\":0,\"like_count\":1,\"quote_count\":0},\"source\":\"Twitter for iPad\",\"created_at\":\"2021-12-06T18:03:02.000Z\",\"id\":\"1467917513631563780\",\"text\":\"@Jeopardy Excited to watch this!\",\"lang\":\"en\"},{\"possibly_sensitive\":false,\"public_metrics\":{\"retweet_count\":0,\"reply_count\":0,\"like_count\":4,\"quote_count\":0},\"source\":\"Twitter for Android\",\"created_at\":\"2021-12-06T18:01:15.000Z\",\"id\":\"1467917064279109632\",\"text\":\"@Jeopardy I am. I love her as an host.\",\"lang\":\"en\"},{\"possibly_sensitive\":false,\"public_metrics\":{\"retweet_count\":0,\"reply_count\":0,\"like_count\":0,\"quote_count\":0},\"source\":\"Twitter Web App\",\"created_at\":\"2021-12-06T18:01:09.000Z\",\"id\":\"1467917039725694982\",\"text\":\"@Jeopardy Ring me up for the next one.\",\"lang\":\"en\"},{\"possibly_sensitive\":false,\"public_metrics\":{\"retweet_count\":12,\"reply_count\":0,\"like_count\":0,\"quote_count\":0},\"source\":\"Twitter for iPhone\",\"created_at\":\"2021-12-06T18:01:01.000Z\",\"id\":\"1467917007131713543\",\"attachments\":{\"media_keys\":[\"13_1467772924123779076\"]},\"text\":\"RT @Jeopardy: Our first-ever #ProfessorsTournament starts TODAY! Who’s ready?! https://t.co/B9ge3wec6p\",\"lang\":\"en\"},{\"possibly_sensitive\":false,\"public_metrics\":{\"retweet_count\":12,\"reply_count\":0,\"like_count\":0,\"quote_count\":0},\"source\":\"Twitter for iPhone\",\"created_at\":\"2021-12-06T18:00:35.000Z\",\"id\":\"1467916898268585986\",\"attachments\":{\"media_keys\":[\"13_1467772924123779076\"]},\"text\":\"RT @Jeopardy: Our first-ever #ProfessorsTournament starts TODAY! Who’s ready?! https://t.co/B9ge3wec6p\",\"lang\":\"en\"},{\"possibly_sensitive\":false,\"public_metrics\":{\"retweet_count\":4,\"reply_count\":0,\"like_count\":0,\"quote_count\":0},\"source\":\"Twitter for iPhone\",\"created_at\":\"2021-12-06T17:57:41.000Z\",\"id\":\"1467916169126547460\",\"text\":\"RT @TheBlastNews: Fans Of Mayim Bialik Just Got Some Great News! #Jeopardy\\\\nhttps://t.co/1elvuu9ebp\",\"lang\":\"en\"},{\"possibly_sensitive\":false,\"public_metrics\":{\"retweet_count\":5,\"reply_count\":0,\"like_count\":0,\"quote_count\":0},\"source\":\"Twitter Web App\",\"created_at\":\"2021-12-06T17:57:03.000Z\",\"id\":\"1467916009096941568\",\"text\":\"RT @VanderbiltU: Reminder! Tune in on Dec. 6 as @VanderbiltLaw professor and long-time @Jeopardy fan Gautam Hans competes in the show’s ina…\",\"lang\":\"en\"},{\"possibly_sensitive\":false,\"public_metrics\":{\"retweet_count\":23,\"reply_count\":0,\"like_count\":0,\"quote_count\":0},\"source\":\"Twitter for iPhone\",\"created_at\":\"2021-12-06T17:57:02.000Z\",\"id\":\"1467916002159640578\",\"text\":\"RT @missmayim: Hi everyone! It’s finally happening! Our merch store will be open on https://t.co/nHwKbFZ51S on Monday December 6th! Be sure…\",\"lang\":\"en\"},{\"possibly_sensitive\":false,\"public_metrics\":{\"retweet_count\":5,\"reply_count\":0,\"like_count\":0,\"quote_count\":0},\"source\":\"Twitter for iPhone\",\"created_at\":\"2021-12-06T17:56:42.000Z\",\"id\":\"1467915920312086529\",\"text\":\"RT @VanderbiltU: Reminder! Tune in on Dec. 6 as @VanderbiltLaw professor and long-time @Jeopardy fan Gautam Hans competes in the show’s ina…\",\"lang\":\"en\"},{\"possibly_sensitive\":false,\"public_metrics\":{\"retweet_count\":1,\"reply_count\":0,\"like_count\":0,\"quote_count\":0},\"source\":\"Twitter for iPhone\",\"created_at\":\"2021-12-06T17:56:13.000Z\",\"id\":\"1467915796714180613\",\"text\":\"RT @amodiorry: @EdrioBenthic @KenJennings four outsold the white album don’t even\",\"lang\":\"en\"},{\"possibly_sensitive\":false,\"public_metrics\":{\"retweet_count\":0,\"reply_count\":0,\"like_count\":0,\"quote_count\":0},\"source\":\"Twitter for Android\",\"created_at\":\"2021-12-06T17:54:18.000Z\",\"id\":\"1467915314088144896\",\"text\":\"@missmayim @BialikBreakdown I will try to make the time to get to see your store.\",\"lang\":\"en\"},{\"possibly_sensitive\":false,\"public_metrics\":{\"retweet_count\":0,\"reply_count\":0,\"like_count\":0,\"quote_count\":0},\"source\":\"Twitter Web App\",\"created_at\":\"2021-12-06T17:52:33.000Z\",\"id\":\"1467914875305435148\",\"text\":\"Vanderbilt represent on Jeopardy! tonight with host @missmayim https://t.co/ZrsiZ9aNLb\",\"lang\":\"en\"},{\"possibly_sensitive\":false,\"public_metrics\":{\"retweet_count\":0,\"reply_count\":0,\"like_count\":0,\"quote_count\":0},\"source\":\"Twitter Web App\",\"created_at\":\"2021-12-06T17:50:41.000Z\",\"id\":\"1467914403769204737\",\"text\":\"@missmayim @BialikBreakdown U cute like a button or magnet lol\",\"lang\":\"en\"},{\"possibly_sensitive\":false,\"public_metrics\":{\"retweet_count\":15,\"reply_count\":0,\"like_count\":0,\"quote_count\":0},\"source\":\"Twitter for iPhone\",\"created_at\":\"2021-12-06T17:49:29.000Z\",\"id\":\"1467914102995660803\",\"text\":\"RT @missmayim: Hey, everyone, I’m Jonathan &amp; I’m the co-host of Mayim Bialik’s Breakdown. (I’m the funnier one, trust me.) We have a merch…\",\"lang\":\"en\"},{\"possibly_sensitive\":false,\"public_metrics\":{\"retweet_count\":5,\"reply_count\":0,\"like_count\":0,\"quote_count\":0},\"source\":\"Twitter for Android\",\"created_at\":\"2021-12-06T17:47:28.000Z\",\"id\":\"1467913595547697152\",\"text\":\"RT @VanderbiltU: Reminder! Tune in on Dec. 6 as @VanderbiltLaw professor and long-time @Jeopardy fan Gautam Hans competes in the show’s ina…\",\"lang\":\"en\"},{\"possibly_sensitive\":false,\"public_metrics\":{\"retweet_count\":5,\"reply_count\":0,\"like_count\":27,\"quote_count\":1},\"source\":\"Twitter Web App\",\"created_at\":\"2021-12-06T17:46:44.000Z\",\"id\":\"1467913413288411139\",\"text\":\"Reminder! Tune in on Dec. 6 as @VanderbiltLaw professor and long-time @Jeopardy fan Gautam Hans competes in the show’s inaugural “Professors Tournament.\\\\\"\\\\n\\\\nLearn more about @dispositive, who once dressed up as Alex Trebek for Halloween in third grade ⬇️\\\\nhttps://t.co/jhRBlkXqGa\",\"lang\":\"en\"},{\"possibly_sensitive\":false,\"public_metrics\":{\"retweet_count\":0,\"reply_count\":0,\"like_count\":0,\"quote_count\":0},\"source\":\"Twitter Web App\",\"created_at\":\"2021-12-06T17:43:40.000Z\",\"id\":\"1467912640475242496\",\"text\":\"@SoCalTaxProf @vanderbiltlaw @Jeopardy Do you know how they were selected?\",\"lang\":\"en\"},{\"possibly_sensitive\":false,\"public_metrics\":{\"retweet_count\":3,\"reply_count\":0,\"like_count\":0,\"quote_count\":0},\"source\":\"Twitter Web App\",\"created_at\":\"2021-12-06T17:43:37.000Z\",\"id\":\"1467912625463963653\",\"text\":\"RT @OnwardState: Penn State professor Hester Blum is set to compete in @Jeopardy\\'s first-ever Professors Tournament beginning Monday, Decem…\",\"lang\":\"en\"},{\"possibly_sensitive\":false,\"public_metrics\":{\"retweet_count\":3,\"reply_count\":0,\"like_count\":0,\"quote_count\":0},\"source\":\"Twitter for iPhone\",\"created_at\":\"2021-12-06T17:40:54.000Z\",\"id\":\"1467911943155503104\",\"text\":\"RT @OnwardState: Penn State professor Hester Blum is set to compete in @Jeopardy\\'s first-ever Professors Tournament beginning Monday, Decem…\",\"lang\":\"en\"},{\"possibly_sensitive\":false,\"public_metrics\":{\"retweet_count\":0,\"reply_count\":0,\"like_count\":2,\"quote_count\":0},\"source\":\"Twitter for iPhone\",\"created_at\":\"2021-12-06T17:40:32.000Z\",\"id\":\"1467911851098968066\",\"text\":\"@LindenmuthWendi @missmayim \\\\uD83D\\\\uDE0E\",\"lang\":\"und\"},{\"possibly_sensitive\":false,\"public_metrics\":{\"retweet_count\":769,\"reply_count\":0,\"like_count\":0,\"quote_count\":0},\"source\":\"Twitter for iPhone\",\"created_at\":\"2021-12-06T17:40:11.000Z\",\"id\":\"1467911763794575369\",\"attachments\":{\"media_keys\":[\"3_963528381848436737\"]},\"text\":\"RT @missmayim: Could his face be cuter? NO IT COULD NOT. #JimParsons ❤️ https://t.co/mKActQwlZH\",\"lang\":\"en\"},{\"possibly_sensitive\":false,\"public_metrics\":{\"retweet_count\":0,\"reply_count\":1,\"like_count\":0,\"quote_count\":0},\"source\":\"Hootsuite Inc.\",\"created_at\":\"2021-12-06T17:40:02.000Z\",\"id\":\"1467911725794177036\",\"attachments\":{\"media_keys\":[\"3_1467911723520774148\"]},\"text\":\".@vanderbiltlaw Professor To Appear On @Jeopardy Tonight https://t.co/dPA2FPEEqF https://t.co/Eu3NtRH2Fr\",\"lang\":\"en\"},{\"possibly_sensitive\":false,\"public_metrics\":{\"retweet_count\":0,\"reply_count\":0,\"like_count\":0,\"quote_count\":0},\"source\":\"Twitter Web App\",\"created_at\":\"2021-12-06T17:37:08.000Z\",\"id\":\"1467910993661493248\",\"text\":\"@Jeopardy We quit watching Jeopardy! when Ken Jennings came back as host and we won\\'t watch it again till he\\'s gone.  Looks like we haven\\'t missed much!!!\",\"lang\":\"en\"},{\"possibly_sensitive\":false,\"public_metrics\":{\"retweet_count\":0,\"reply_count\":0,\"like_count\":0,\"quote_count\":0},\"source\":\"Twitter Web App\",\"created_at\":\"2021-12-06T17:31:20.000Z\",\"id\":\"1467909536065404932\",\"text\":\"@KenJennings So, I guess back in the \\'90s this was a thing ... with a Very Special Guest Star!\\\\nhttps://t.co/13pqyM1dtq\",\"lang\":\"en\"},{\"possibly_sensitive\":false,\"public_metrics\":{\"retweet_count\":8,\"reply_count\":0,\"like_count\":0,\"quote_count\":0},\"source\":\"Twitter for iPhone\",\"created_at\":\"2021-12-06T17:19:53.000Z\",\"id\":\"1467906653039341575\",\"text\":\"RT @missmayim: Hi everyone!\\\\n\\\\nTODAY IS THE DAY, our merch store is officially open! Make sure to head over to https://t.co/nHwKbFZ51S &amp; clic…\",\"lang\":\"en\"},{\"possibly_sensitive\":false,\"public_metrics\":{\"retweet_count\":11,\"reply_count\":0,\"like_count\":0,\"quote_count\":0},\"source\":\"Twitter for iPhone\",\"created_at\":\"2021-12-06T17:19:47.000Z\",\"id\":\"1467906631228956685\",\"text\":\"RT @missmayim: Guess what! Today is the day?! Our merch store is officially unveiled &amp; our first collection is now available on https://t.c…\",\"lang\":\"en\"},{\"possibly_sensitive\":false,\"public_metrics\":{\"retweet_count\":8,\"reply_count\":0,\"like_count\":0,\"quote_count\":0},\"source\":\"Twitter for Android\",\"created_at\":\"2021-12-06T17:13:52.000Z\",\"id\":\"1467905139411681280\",\"text\":\"RT @missmayim: Hi everyone!\\\\n\\\\nTODAY IS THE DAY, our merch store is officially open! Make sure to head over to https://t.co/nHwKbFZ51S &amp; clic…\",\"lang\":\"en\"},{\"possibly_sensitive\":false,\"public_metrics\":{\"retweet_count\":11,\"reply_count\":0,\"like_count\":0,\"quote_count\":0},\"source\":\"Twitter for Android\",\"created_at\":\"2021-12-06T17:13:49.000Z\",\"id\":\"1467905126589669376\",\"text\":\"RT @missmayim: Guess what! Today is the day?! Our merch store is officially unveiled &amp; our first collection is now available on https://t.c…\",\"lang\":\"en\"},{\"possibly_sensitive\":false,\"public_metrics\":{\"retweet_count\":0,\"reply_count\":0,\"like_count\":0,\"quote_count\":0},\"source\":\"AlexTrebot\",\"created_at\":\"2021-12-06T17:10:55.000Z\",\"id\":\"1467904397019697159\",\"text\":\"Answer... the other daily double! #jeopardy\",\"lang\":\"en\"},{\"possibly_sensitive\":false,\"public_metrics\":{\"retweet_count\":28,\"reply_count\":0,\"like_count\":0,\"quote_count\":0},\"source\":\"Twitter for Android\",\"created_at\":\"2021-12-06T17:08:37.000Z\",\"id\":\"1467903818293604354\",\"text\":\"RT @AmodioMatt: I was so proud to take part in the #MillionDollarChallenge charity for @StJude. Not only did we meet the original goal, but…\",\"lang\":\"en\"},{\"possibly_sensitive\":false,\"public_metrics\":{\"retweet_count\":1,\"reply_count\":0,\"like_count\":0,\"quote_count\":0},\"source\":\"Twitter Web App\",\"created_at\":\"2021-12-06T17:05:58.000Z\",\"id\":\"1467903153521631236\",\"text\":\"RT @NPSfoundation: Be sure to watch and cheer on @NPS_Monterey  professor of operations research, Sam Buttrey on @Jeopardy \\'s inaugural Pro…\",\"lang\":\"en\"},{\"possibly_sensitive\":false,\"public_metrics\":{\"retweet_count\":1,\"reply_count\":0,\"like_count\":7,\"quote_count\":0},\"source\":\"Hootsuite Inc.\",\"created_at\":\"2021-12-06T17:05:07.000Z\",\"id\":\"1467902938161061900\",\"attachments\":{\"media_keys\":[\"3_1467902936919457794\"]},\"text\":\"Be sure to watch and cheer on @NPS_Monterey  professor of operations research, Sam Buttrey on @Jeopardy \\'s inaugural Professors Tournament starting tonight on @CBS. Buttrey will compete with 14 educators for a $100k grand prize and a spot in the Tournament of Champions. #NPS https://t.co/aRyUUf9UIJ\",\"lang\":\"en\"},{\"possibly_sensitive\":false,\"public_metrics\":{\"retweet_count\":0,\"reply_count\":0,\"like_count\":0,\"quote_count\":0},\"source\":\"Twitter for iPhone\",\"created_at\":\"2021-12-06T17:01:56.000Z\",\"id\":\"1467902136705064971\",\"text\":\"@chris_ellis @e_haah @Jeopardy Words work based on what you decide they mean? What do you do with such power?\",\"lang\":\"en\"},{\"possibly_sensitive\":false,\"public_metrics\":{\"retweet_count\":0,\"reply_count\":0,\"like_count\":1,\"quote_count\":0},\"source\":\"Twitter Web App\",\"created_at\":\"2021-12-06T17:01:10.000Z\",\"id\":\"1467901946157744140\",\"text\":\"Don\\'t forget to watch @Jeopardy! tonight to catch @vanderbiltlaw Professor Gautam Hans on the show\\'s inaugural Professors Tournament! Professor Hans is pro on First Amendment Law + tech policy \\\\uD83D\\\\uDE4C\\\\uD83D\\\\uDE4C\\\\n\\\\nhttps://t.co/kudByuxoeI\",\"lang\":\"en\"},{\"possibly_sensitive\":false,\"public_metrics\":{\"retweet_count\":3,\"reply_count\":0,\"like_count\":0,\"quote_count\":0},\"source\":\"Twitter Web App\",\"created_at\":\"2021-12-06T16:57:12.000Z\",\"id\":\"1467900947502448647\",\"text\":\"RT @OnwardState: Penn State professor Hester Blum is set to compete in @Jeopardy\\'s first-ever Professors Tournament beginning Monday, Decem…\",\"lang\":\"en\"},{\"possibly_sensitive\":false,\"public_metrics\":{\"retweet_count\":22,\"reply_count\":0,\"like_count\":0,\"quote_count\":0},\"source\":\"Twitter for Android\",\"created_at\":\"2021-12-06T16:56:54.000Z\",\"id\":\"1467900869110870018\",\"text\":\"RT @KenJennings: Half of the opinions I’ve ever had in my life are now Beatles opinions from the past week.\",\"lang\":\"en\"},{\"possibly_sensitive\":false,\"public_metrics\":{\"retweet_count\":9,\"reply_count\":0,\"like_count\":0,\"quote_count\":0},\"source\":\"Twitter for iPhone\",\"created_at\":\"2021-12-06T16:54:54.000Z\",\"id\":\"1467900367425916938\",\"text\":\"RT @HesterBlum: I now own Herman Melville’s commode (!!!!, an event this fall even more unexpected than appearing on #Jeopardy! \\\\n\\\\nHere’s ho…\",\"lang\":\"en\"},{\"possibly_sensitive\":false,\"public_metrics\":{\"retweet_count\":9,\"reply_count\":0,\"like_count\":0,\"quote_count\":0},\"source\":\"Twitter for iPhone\",\"created_at\":\"2021-12-06T16:53:28.000Z\",\"id\":\"1467900006921293826\",\"text\":\"RT @HesterBlum: I now own Herman Melville’s commode (!!!!, an event this fall even more unexpected than appearing on #Jeopardy! \\\\n\\\\nHere’s ho…\",\"lang\":\"en\"},{\"possibly_sensitive\":false,\"public_metrics\":{\"retweet_count\":48,\"reply_count\":0,\"like_count\":0,\"quote_count\":0},\"source\":\"Twitter Web App\",\"created_at\":\"2021-12-06T16:52:12.000Z\",\"id\":\"1467899687789375499\",\"text\":\"RT @Jeopardy: The #ProfessorsTournament starts Monday! Don\\'t worry – Amy Schneider will return to Jeopardy! December 20! https://t.co/hQGge…\",\"lang\":\"en\"},{\"possibly_sensitive\":false,\"public_metrics\":{\"retweet_count\":3,\"reply_count\":0,\"like_count\":31,\"quote_count\":0},\"source\":\"TweetDeck\",\"created_at\":\"2021-12-06T16:45:00.000Z\",\"id\":\"1467897875363368971\",\"text\":\"Penn State professor Hester Blum is set to compete in @Jeopardy\\'s first-ever Professors Tournament beginning Monday, December 6. https://t.co/w1IJSuwrLu\",\"lang\":\"en\"},{\"possibly_sensitive\":false,\"public_metrics\":{\"retweet_count\":0,\"reply_count\":0,\"like_count\":4,\"quote_count\":0},\"source\":\"Twitter Web App\",\"created_at\":\"2021-12-06T16:33:08.000Z\",\"id\":\"1467894889300041742\",\"text\":\"very cool interview with current #jeopardy rockstar @jeopardamy!\\\\n\\\\nhttps://t.co/4grvneoZXy\",\"lang\":\"en\"},{\"possibly_sensitive\":false,\"public_metrics\":{\"retweet_count\":0,\"reply_count\":0,\"like_count\":0,\"quote_count\":0},\"source\":\"Twitter Web App\",\"created_at\":\"2021-12-06T16:32:24.000Z\",\"id\":\"1467894706323476489\",\"text\":\"@penn_state #English #professor to appear on \\'@Jeopardy!\\' Dec. 6 | Penn State University\\\\n#HesterBlum \\\\nhttps://t.co/kS24UdietE\",\"lang\":\"en\"},{\"possibly_sensitive\":false,\"public_metrics\":{\"retweet_count\":0,\"reply_count\":0,\"like_count\":0,\"quote_count\":0},\"source\":\"Twitter for iPhone\",\"created_at\":\"2021-12-06T16:27:10.000Z\",\"id\":\"1467893387185451008\",\"text\":\"@RickORick @KenJennings Beatles as a band milked a brand new genre for everything it was worth. A better measure of success would be to look at how they did at their solos careers. Compare McCartney‘s catalog to that of Justin Timberlake. JT has way more bangers.\",\"lang\":\"en\"},{\"possibly_sensitive\":false,\"public_metrics\":{\"retweet_count\":0,\"reply_count\":1,\"like_count\":0,\"quote_count\":0},\"source\":\"Twitter for iPhone\",\"created_at\":\"2021-12-06T16:25:27.000Z\",\"id\":\"1467892955256139776\",\"text\":\"@BrianRFSU @e_haah @Jeopardy It’s a word. That’s how words work. Still too complex for you?\",\"lang\":\"en\"},{\"possibly_sensitive\":false,\"public_metrics\":{\"retweet_count\":11,\"reply_count\":0,\"like_count\":0,\"quote_count\":0},\"source\":\"Twitter for iPad\",\"created_at\":\"2021-12-06T16:22:56.000Z\",\"id\":\"1467892320796352527\",\"text\":\"RT @missmayim: Guess what! Today is the day?! Our merch store is officially unveiled &amp; our first collection is now available on https://t.c…\",\"lang\":\"en\"},{\"possibly_sensitive\":false,\"public_metrics\":{\"retweet_count\":11,\"reply_count\":0,\"like_count\":0,\"quote_count\":0},\"source\":\"Twitter for iPhone\",\"created_at\":\"2021-12-06T16:22:30.000Z\",\"id\":\"1467892212524593155\",\"attachments\":{\"media_keys\":[\"13_1462864190830305284\"]},\"text\":\"RT @Jeopardy: All you need is love … and this category about @thebeatles. https://t.co/z6RmdVbljW\",\"lang\":\"en\"},{\"possibly_sensitive\":false,\"public_metrics\":{\"retweet_count\":10,\"reply_count\":0,\"like_count\":0,\"quote_count\":0},\"source\":\"Twitter Web App\",\"created_at\":\"2021-12-06T16:16:19.000Z\",\"id\":\"1467890658044047363\",\"text\":\"RT @JArchive: We\\'re trying to add tape dates to the J! Archive!  If you were a contestant on #Jeopardy! and you remember your tape date (an…\",\"lang\":\"en\"},{\"possibly_sensitive\":false,\"public_metrics\":{\"retweet_count\":0,\"reply_count\":1,\"like_count\":0,\"quote_count\":0},\"source\":\"Twitter for iPhone\",\"created_at\":\"2021-12-06T16:12:19.000Z\",\"id\":\"1467889652338249734\",\"text\":\"@chris_ellis @e_haah @Jeopardy The desire to make up new words? I don’t know you tell me.\",\"lang\":\"en\"},{\"possibly_sensitive\":false,\"public_metrics\":{\"retweet_count\":0,\"reply_count\":0,\"like_count\":0,\"quote_count\":0},\"source\":\"Twitter Web App\",\"created_at\":\"2021-12-06T16:10:12.000Z\",\"id\":\"1467889120282169344\",\"text\":\"@joyblaker @KenJennings Loved the LOVE show!!!!!!\",\"lang\":\"en\"},{\"possibly_sensitive\":false,\"public_metrics\":{\"retweet_count\":0,\"reply_count\":0,\"like_count\":0,\"quote_count\":0},\"source\":\"Twitter Web App\",\"created_at\":\"2021-12-06T16:10:00.000Z\",\"id\":\"1467889066758721544\",\"text\":\"When in doubt, follow your heart.  @davepperlmutter @Dab10ten @BootsieBoutique @PhebeOhYes @TheCarlWeathers @missmayim @KristiOConnor_\",\"lang\":\"en\"},{\"possibly_sensitive\":false,\"public_metrics\":{\"retweet_count\":16,\"reply_count\":0,\"like_count\":0,\"quote_count\":0},\"source\":\"Twitter for iPad\",\"created_at\":\"2021-12-06T15:57:38.000Z\",\"id\":\"1467885955248005124\",\"text\":\"RT @TrevorProject: \\\\\"Although she\\'s been a fan of the quiz show for years, Schneider, who works as an engineering manager in California, sti…\",\"lang\":\"en\"},{\"possibly_sensitive\":false,\"public_metrics\":{\"retweet_count\":22,\"reply_count\":0,\"like_count\":0,\"quote_count\":0},\"source\":\"Twitter Web App\",\"created_at\":\"2021-12-06T15:56:21.000Z\",\"id\":\"1467885631103635467\",\"text\":\"RT @KenJennings: Half of the opinions I’ve ever had in my life are now Beatles opinions from the past week.\",\"lang\":\"en\"},{\"possibly_sensitive\":false,\"public_metrics\":{\"retweet_count\":0,\"reply_count\":1,\"like_count\":0,\"quote_count\":0},\"source\":\"Twitter for iPhone\",\"created_at\":\"2021-12-06T15:54:52.000Z\",\"id\":\"1467885261166198789\",\"text\":\"@BrianRFSU @e_haah @Jeopardy What prompts transphobia?\",\"lang\":\"en\"},{\"possibly_sensitive\":false,\"public_metrics\":{\"retweet_count\":1,\"reply_count\":0,\"like_count\":2,\"quote_count\":0},\"source\":\"Twitter for iPhone\",\"created_at\":\"2021-12-06T15:53:17.000Z\",\"id\":\"1467884862866604034\",\"text\":\"@EdrioBenthic @KenJennings four outsold the white album don’t even\",\"lang\":\"en\"},{\"possibly_sensitive\":false,\"public_metrics\":{\"retweet_count\":0,\"reply_count\":0,\"like_count\":1,\"quote_count\":0},\"source\":\"Twitter Web App\",\"created_at\":\"2021-12-06T15:50:39.000Z\",\"id\":\"1467884197570220035\",\"text\":\"#Jeopardy New Professors Hester Blum Bio. \\\\nhttps://t.co/svgYHF7Qx3\",\"lang\":\"en\"},{\"possibly_sensitive\":false,\"public_metrics\":{\"retweet_count\":0,\"reply_count\":0,\"like_count\":1,\"quote_count\":0},\"source\":\"Twitter Web App\",\"created_at\":\"2021-12-06T15:48:50.000Z\",\"id\":\"1467883742005841921\",\"text\":\"Jeopardy The #professorsTournament Has Started Today #Jeopardy \\\\nhttps://t.co/ytMQDyK75O\",\"lang\":\"en\"},{\"possibly_sensitive\":false,\"public_metrics\":{\"retweet_count\":1,\"reply_count\":0,\"like_count\":0,\"quote_count\":0},\"source\":\"Twitter for iPhone\",\"created_at\":\"2021-12-06T15:47:46.000Z\",\"id\":\"1467883474111680514\",\"text\":\"RT @jeopardybrian: Good luck to fellow @UMichLaw alum @dispositive in today’s debut episode of the @Jeopardy Professors Tournament!\",\"lang\":\"en\"},{\"possibly_sensitive\":false,\"public_metrics\":{\"retweet_count\":11,\"reply_count\":0,\"like_count\":0,\"quote_count\":0},\"source\":\"TweetCaster for Android\",\"created_at\":\"2021-12-06T15:43:10.000Z\",\"id\":\"1467882315858784258\",\"text\":\"RT @missmayim: Guess what! Today is the day?! Our merch store is officially unveiled &amp; our first collection is now available on https://t.c…\",\"lang\":\"en\"},{\"possibly_sensitive\":false,\"public_metrics\":{\"retweet_count\":0,\"reply_count\":1,\"like_count\":0,\"quote_count\":0},\"source\":\"Twitter for iPhone\",\"created_at\":\"2021-12-06T15:41:35.000Z\",\"id\":\"1467881916267474947\",\"text\":\"@chris_ellis @e_haah @Jeopardy No he is not. But please continue the fun.\",\"lang\":\"en\"},{\"possibly_sensitive\":false,\"public_metrics\":{\"retweet_count\":11,\"reply_count\":0,\"like_count\":0,\"quote_count\":0},\"source\":\"Twitter for Android\",\"created_at\":\"2021-12-06T15:40:25.000Z\",\"id\":\"1467881623332921347\",\"text\":\"RT @missmayim: Guess what! Today is the day?! Our merch store is officially unveiled &amp; our first collection is now available on https://t.c…\",\"lang\":\"en\"},{\"possibly_sensitive\":false,\"public_metrics\":{\"retweet_count\":0,\"reply_count\":1,\"like_count\":0,\"quote_count\":0},\"source\":\"Twitter for iPhone\",\"created_at\":\"2021-12-06T15:40:10.000Z\",\"id\":\"1467881558812024838\",\"text\":\"@BrianRFSU @e_haah @Jeopardy She is a woman. This seems complicated for you perhaps?\",\"lang\":\"en\"},{\"possibly_sensitive\":false,\"public_metrics\":{\"retweet_count\":0,\"reply_count\":0,\"like_count\":0,\"quote_count\":0},\"source\":\"Tweetbot for iΟS\",\"created_at\":\"2021-12-06T15:37:16.000Z\",\"id\":\"1467880828730499078\",\"text\":\"@missmayim @BialikBreakdown This is a killer look!! I love it completely.\",\"lang\":\"en\"},{\"possibly_sensitive\":false,\"public_metrics\":{\"retweet_count\":0,\"reply_count\":0,\"like_count\":0,\"quote_count\":0},\"source\":\"Twitter Web App\",\"created_at\":\"2021-12-06T15:33:45.000Z\",\"id\":\"1467879947159097348\",\"text\":\"@JeanmarieEvelly Have you seen @CallMeKatFOX with @missmayim?  That\\'s what it\\'s about!  #Single #CatCafe\",\"lang\":\"en\"},{\"possibly_sensitive\":false,\"public_metrics\":{\"retweet_count\":0,\"reply_count\":0,\"like_count\":0,\"quote_count\":0},\"source\":\"Twitter Web App\",\"created_at\":\"2021-12-06T15:33:41.000Z\",\"id\":\"1467879928762937349\",\"text\":\"@Jeopardy Too bad. You need to go back to retiring a player at the end of a week.\",\"lang\":\"en\"},{\"possibly_sensitive\":false,\"public_metrics\":{\"retweet_count\":8,\"reply_count\":0,\"like_count\":0,\"quote_count\":0},\"source\":\"Twitter for Android\",\"created_at\":\"2021-12-06T15:33:33.000Z\",\"id\":\"1467879896785379330\",\"text\":\"RT @missmayim: Hi everyone!\\\\n\\\\nTODAY IS THE DAY, our merch store is officially open! Make sure to head over to https://t.co/nHwKbFZ51S &amp; clic…\",\"lang\":\"en\"},{\"possibly_sensitive\":false,\"public_metrics\":{\"retweet_count\":0,\"reply_count\":0,\"like_count\":2,\"quote_count\":0},\"source\":\"Twitter for iPhone\",\"created_at\":\"2021-12-06T15:32:40.000Z\",\"id\":\"1467879671744405506\",\"text\":\"@missmayim @BialikBreakdown Have not missed 1 podcast. Now merch?!? I’ll consider it a late Hanukkah present for myself \\\\uD83D\\\\uDE0F\",\"lang\":\"en\"},{\"possibly_sensitive\":false,\"public_metrics\":{\"retweet_count\":0,\"reply_count\":0,\"like_count\":0,\"quote_count\":0},\"source\":\"Twitter for Android\",\"created_at\":\"2021-12-06T15:30:27.000Z\",\"id\":\"1467879114556198921\",\"text\":\"@missmayim @BialikBreakdown Following \\\\uD83D\\\\uDC4D\\\\uD83C\\\\uDFFE\\\\uD83D\\\\uDC4D\\\\uD83C\\\\uDFFE\\\\uD83D\\\\uDC4D\\\\uD83C\\\\uDFFE\\\\uD83D\\\\uDC4D\\\\uD83C\\\\uDFFE\\\\uD83D\\\\uDC4D\\\\uD83C\\\\uDFFE\",\"lang\":\"en\"},{\"possibly_sensitive\":false,\"public_metrics\":{\"retweet_count\":0,\"reply_count\":0,\"like_count\":3,\"quote_count\":0},\"source\":\"Twitter Web App\",\"created_at\":\"2021-12-06T15:27:44.000Z\",\"id\":\"1467878433204191238\",\"text\":\"@missmayim @BialikBreakdown so buying the brain perfect tee!\",\"lang\":\"en\"},{\"possibly_sensitive\":false,\"public_metrics\":{\"retweet_count\":11,\"reply_count\":0,\"like_count\":0,\"quote_count\":0},\"source\":\"Twitter Web App\",\"created_at\":\"2021-12-06T15:26:09.000Z\",\"id\":\"1467878031553355777\",\"text\":\"RT @missmayim: Guess what! Today is the day?! Our merch store is officially unveiled &amp; our first collection is now available on https://t.c…\",\"lang\":\"en\"},{\"possibly_sensitive\":false,\"public_metrics\":{\"retweet_count\":0,\"reply_count\":0,\"like_count\":0,\"quote_count\":0},\"source\":\"Twitter for iPhone\",\"created_at\":\"2021-12-06T15:22:00.000Z\",\"id\":\"1467876989176537103\",\"text\":\"@missmayim @BialikBreakdown Amazing achievement Mayim so proud of you \\\\uD83D\\\\uDE18xx\",\"lang\":\"en\"},{\"possibly_sensitive\":false,\"public_metrics\":{\"retweet_count\":11,\"reply_count\":0,\"like_count\":0,\"quote_count\":0},\"source\":\"Twitter for Android\",\"created_at\":\"2021-12-06T15:21:04.000Z\",\"id\":\"1467876752043266048\",\"text\":\"RT @missmayim: Guess what! Today is the day?! Our merch store is officially unveiled &amp; our first collection is now available on https://t.c…\",\"lang\":\"en\"},{\"possibly_sensitive\":false,\"public_metrics\":{\"retweet_count\":1,\"reply_count\":0,\"like_count\":0,\"quote_count\":0},\"source\":\"Twitter for Mac\",\"created_at\":\"2021-12-06T15:20:18.000Z\",\"id\":\"1467876561491836928\",\"text\":\"RT @damnarbor: Real Damn Arbor-heads won’t want to miss our very own Chief First Amendment Attorney, @dispositive, on @Jeopardy’s Tournamen…\",\"lang\":\"en\"},{\"possibly_sensitive\":false,\"public_metrics\":{\"retweet_count\":0,\"reply_count\":0,\"like_count\":0,\"quote_count\":0},\"source\":\"Twitter for Android\",\"created_at\":\"2021-12-06T15:17:52.000Z\",\"id\":\"1467875947567222786\",\"text\":\"@missmayim @BialikBreakdown Blue eyes\",\"lang\":\"en\"},{\"possibly_sensitive\":false,\"public_metrics\":{\"retweet_count\":11,\"reply_count\":0,\"like_count\":0,\"quote_count\":0},\"source\":\"Twitter for iPhone\",\"created_at\":\"2021-12-06T15:17:17.000Z\",\"id\":\"1467875799290322945\",\"text\":\"RT @missmayim: Guess what! Today is the day?! Our merch store is officially unveiled &amp; our first collection is now available on https://t.c…\",\"lang\":\"en\"},{\"possibly_sensitive\":false,\"public_metrics\":{\"retweet_count\":8,\"reply_count\":0,\"like_count\":0,\"quote_count\":0},\"source\":\"Twitter for iPhone\",\"created_at\":\"2021-12-06T15:16:46.000Z\",\"id\":\"1467875672299384837\",\"text\":\"RT @missmayim: Hi everyone!\\\\n\\\\nTODAY IS THE DAY, our merch store is officially open! Make sure to head over to https://t.co/nHwKbFZ51S &amp; clic…\",\"lang\":\"en\"},{\"possibly_sensitive\":false,\"public_metrics\":{\"retweet_count\":0,\"reply_count\":0,\"like_count\":0,\"quote_count\":0},\"source\":\"Twitter for iPhone\",\"created_at\":\"2021-12-06T15:16:21.000Z\",\"id\":\"1467875567718608898\",\"text\":\"@missmayim Hey Mayim do you deliver to the Uk \\\\uD83C\\\\uDDEC\\\\uD83C\\\\uDDE7 x\",\"lang\":\"en\"},{\"possibly_sensitive\":false,\"public_metrics\":{\"retweet_count\":8,\"reply_count\":0,\"like_count\":0,\"quote_count\":0},\"source\":\"Twitter for iPhone\",\"created_at\":\"2021-12-06T15:16:07.000Z\",\"id\":\"1467875508012597254\",\"text\":\"RT @missmayim: Hi everyone!\\\\n\\\\nTODAY IS THE DAY, our merch store is officially open! Make sure to head over to https://t.co/nHwKbFZ51S &amp; clic…\",\"lang\":\"en\"},{\"possibly_sensitive\":false,\"public_metrics\":{\"retweet_count\":8,\"reply_count\":0,\"like_count\":0,\"quote_count\":0},\"source\":\"Twitter for iPhone\",\"created_at\":\"2021-12-06T15:16:06.000Z\",\"id\":\"1467875505256939528\",\"text\":\"RT @missmayim: Hi everyone!\\\\n\\\\nTODAY IS THE DAY, our merch store is officially open! Make sure to head over to https://t.co/nHwKbFZ51S &amp; clic…\",\"lang\":\"en\"},{\"possibly_sensitive\":false,\"public_metrics\":{\"retweet_count\":8,\"reply_count\":0,\"like_count\":0,\"quote_count\":0},\"source\":\"Twitter for iPhone\",\"created_at\":\"2021-12-06T15:16:05.000Z\",\"id\":\"1467875500278403075\",\"text\":\"RT @missmayim: Hi everyone!\\\\n\\\\nTODAY IS THE DAY, our merch store is officially open! Make sure to head over to https://t.co/nHwKbFZ51S &amp; clic…\",\"lang\":\"en\"},{\"possibly_sensitive\":false,\"public_metrics\":{\"retweet_count\":0,\"reply_count\":0,\"like_count\":0,\"quote_count\":0},\"source\":\"Twitter Web App\",\"created_at\":\"2021-12-06T15:13:10.000Z\",\"id\":\"1467874764425412611\",\"text\":\"@missmayim @BialikBreakdown Congratulations.\",\"lang\":\"en\"},{\"possibly_sensitive\":false,\"public_metrics\":{\"retweet_count\":0,\"reply_count\":0,\"like_count\":1,\"quote_count\":0},\"source\":\"Twitter Web App\",\"created_at\":\"2021-12-06T15:11:04.000Z\",\"id\":\"1467874238862295041\",\"attachments\":{\"media_keys\":[\"3_1467874220772184074\"]},\"text\":\"@missmayim @BialikBreakdown Amy Farrah Fowler for the WIN!!!!!!!!!! https://t.co/QYsbEn9MHK\",\"lang\":\"en\"}],\"meta\":{\"newest_id\":\"1467929555121983490\",\"oldest_id\":\"1467874238862295041\",\"result_count\":100,\"next_token\":\"b26v89c19zqg8o3fpdy8iqb1zm01w9zr0de645p9hte2l\"}}'"
      ]
     },
     "execution_count": 51,
     "metadata": {},
     "output_type": "execute_result"
    }
   ],
   "source": [
    "response_5.text"
   ]
  },
  {
   "cell_type": "code",
   "execution_count": 52,
   "id": "afc51057",
   "metadata": {},
   "outputs": [],
   "source": [
    "my_df = my_df.append(pd.DataFrame(json.loads(response_4.text)['data']), ignore_index= True)"
   ]
  },
  {
   "cell_type": "code",
   "execution_count": 53,
   "id": "0471035f",
   "metadata": {},
   "outputs": [
    {
     "data": {
      "text/html": [
       "<div>\n",
       "<style scoped>\n",
       "    .dataframe tbody tr th:only-of-type {\n",
       "        vertical-align: middle;\n",
       "    }\n",
       "\n",
       "    .dataframe tbody tr th {\n",
       "        vertical-align: top;\n",
       "    }\n",
       "\n",
       "    .dataframe thead th {\n",
       "        text-align: right;\n",
       "    }\n",
       "</style>\n",
       "<table border=\"1\" class=\"dataframe\">\n",
       "  <thead>\n",
       "    <tr style=\"text-align: right;\">\n",
       "      <th></th>\n",
       "      <th>lang</th>\n",
       "      <th>public_metrics</th>\n",
       "      <th>id</th>\n",
       "      <th>possibly_sensitive</th>\n",
       "      <th>text</th>\n",
       "      <th>author_id</th>\n",
       "      <th>created_at</th>\n",
       "      <th>source</th>\n",
       "      <th>attachments</th>\n",
       "    </tr>\n",
       "  </thead>\n",
       "  <tbody>\n",
       "    <tr>\n",
       "      <th>0</th>\n",
       "      <td>en</td>\n",
       "      <td>{'retweet_count': 0, 'reply_count': 0, 'like_c...</td>\n",
       "      <td>1467979913923895298</td>\n",
       "      <td>False</td>\n",
       "      <td>@glaad @Jeopardamy @emilyvdw @Jeopardy Thanx f...</td>\n",
       "      <td>995446130967302144</td>\n",
       "      <td>2021-12-06T22:10:59.000Z</td>\n",
       "      <td>Twitter for iPhone</td>\n",
       "      <td>NaN</td>\n",
       "    </tr>\n",
       "    <tr>\n",
       "      <th>1</th>\n",
       "      <td>en</td>\n",
       "      <td>{'retweet_count': 0, 'reply_count': 0, 'like_c...</td>\n",
       "      <td>1467979782197592075</td>\n",
       "      <td>False</td>\n",
       "      <td>Format: 8-day first round, four profs per day,...</td>\n",
       "      <td>770293085771210752</td>\n",
       "      <td>2021-12-06T22:10:28.000Z</td>\n",
       "      <td>Twitter for iPhone</td>\n",
       "      <td>NaN</td>\n",
       "    </tr>\n",
       "    <tr>\n",
       "      <th>2</th>\n",
       "      <td>en</td>\n",
       "      <td>{'retweet_count': 0, 'reply_count': 0, 'like_c...</td>\n",
       "      <td>1467979250372431878</td>\n",
       "      <td>False</td>\n",
       "      <td>Y'all my professor is going to be a contestant...</td>\n",
       "      <td>2932977243</td>\n",
       "      <td>2021-12-06T22:08:21.000Z</td>\n",
       "      <td>Twitter for iPhone</td>\n",
       "      <td>NaN</td>\n",
       "    </tr>\n",
       "    <tr>\n",
       "      <th>3</th>\n",
       "      <td>en</td>\n",
       "      <td>{'retweet_count': 0, 'reply_count': 1, 'like_c...</td>\n",
       "      <td>1467978490758811657</td>\n",
       "      <td>False</td>\n",
       "      <td>The @Jeopardy Professors Tournament begins tod...</td>\n",
       "      <td>770293085771210752</td>\n",
       "      <td>2021-12-06T22:05:20.000Z</td>\n",
       "      <td>Twitter for iPhone</td>\n",
       "      <td>NaN</td>\n",
       "    </tr>\n",
       "    <tr>\n",
       "      <th>4</th>\n",
       "      <td>en</td>\n",
       "      <td>{'retweet_count': 0, 'reply_count': 0, 'like_c...</td>\n",
       "      <td>1467978245861691397</td>\n",
       "      <td>False</td>\n",
       "      <td>The lovely @missmayim is back hosting @jeopard...</td>\n",
       "      <td>355147215</td>\n",
       "      <td>2021-12-06T22:04:22.000Z</td>\n",
       "      <td>Twitter for Android</td>\n",
       "      <td>NaN</td>\n",
       "    </tr>\n",
       "    <tr>\n",
       "      <th>...</th>\n",
       "      <td>...</td>\n",
       "      <td>...</td>\n",
       "      <td>...</td>\n",
       "      <td>...</td>\n",
       "      <td>...</td>\n",
       "      <td>...</td>\n",
       "      <td>...</td>\n",
       "      <td>...</td>\n",
       "      <td>...</td>\n",
       "    </tr>\n",
       "    <tr>\n",
       "      <th>495</th>\n",
       "      <td>en</td>\n",
       "      <td>{'retweet_count': 8, 'reply_count': 0, 'like_c...</td>\n",
       "      <td>1467875508012597254</td>\n",
       "      <td>False</td>\n",
       "      <td>RT @missmayim: Hi everyone!\\n\\nTODAY IS THE DA...</td>\n",
       "      <td>NaN</td>\n",
       "      <td>2021-12-06T15:16:07.000Z</td>\n",
       "      <td>Twitter for iPhone</td>\n",
       "      <td>NaN</td>\n",
       "    </tr>\n",
       "    <tr>\n",
       "      <th>496</th>\n",
       "      <td>en</td>\n",
       "      <td>{'retweet_count': 8, 'reply_count': 0, 'like_c...</td>\n",
       "      <td>1467875505256939528</td>\n",
       "      <td>False</td>\n",
       "      <td>RT @missmayim: Hi everyone!\\n\\nTODAY IS THE DA...</td>\n",
       "      <td>NaN</td>\n",
       "      <td>2021-12-06T15:16:06.000Z</td>\n",
       "      <td>Twitter for iPhone</td>\n",
       "      <td>NaN</td>\n",
       "    </tr>\n",
       "    <tr>\n",
       "      <th>497</th>\n",
       "      <td>en</td>\n",
       "      <td>{'retweet_count': 8, 'reply_count': 0, 'like_c...</td>\n",
       "      <td>1467875500278403075</td>\n",
       "      <td>False</td>\n",
       "      <td>RT @missmayim: Hi everyone!\\n\\nTODAY IS THE DA...</td>\n",
       "      <td>NaN</td>\n",
       "      <td>2021-12-06T15:16:05.000Z</td>\n",
       "      <td>Twitter for iPhone</td>\n",
       "      <td>NaN</td>\n",
       "    </tr>\n",
       "    <tr>\n",
       "      <th>498</th>\n",
       "      <td>en</td>\n",
       "      <td>{'retweet_count': 0, 'reply_count': 0, 'like_c...</td>\n",
       "      <td>1467874764425412611</td>\n",
       "      <td>False</td>\n",
       "      <td>@missmayim @BialikBreakdown Congratulations.</td>\n",
       "      <td>NaN</td>\n",
       "      <td>2021-12-06T15:13:10.000Z</td>\n",
       "      <td>Twitter Web App</td>\n",
       "      <td>NaN</td>\n",
       "    </tr>\n",
       "    <tr>\n",
       "      <th>499</th>\n",
       "      <td>en</td>\n",
       "      <td>{'retweet_count': 0, 'reply_count': 0, 'like_c...</td>\n",
       "      <td>1467874238862295041</td>\n",
       "      <td>False</td>\n",
       "      <td>@missmayim @BialikBreakdown Amy Farrah Fowler ...</td>\n",
       "      <td>NaN</td>\n",
       "      <td>2021-12-06T15:11:04.000Z</td>\n",
       "      <td>Twitter Web App</td>\n",
       "      <td>{'media_keys': ['3_1467874220772184074']}</td>\n",
       "    </tr>\n",
       "  </tbody>\n",
       "</table>\n",
       "<p>500 rows × 9 columns</p>\n",
       "</div>"
      ],
      "text/plain": [
       "    lang                                     public_metrics  \\\n",
       "0     en  {'retweet_count': 0, 'reply_count': 0, 'like_c...   \n",
       "1     en  {'retweet_count': 0, 'reply_count': 0, 'like_c...   \n",
       "2     en  {'retweet_count': 0, 'reply_count': 0, 'like_c...   \n",
       "3     en  {'retweet_count': 0, 'reply_count': 1, 'like_c...   \n",
       "4     en  {'retweet_count': 0, 'reply_count': 0, 'like_c...   \n",
       "..   ...                                                ...   \n",
       "495   en  {'retweet_count': 8, 'reply_count': 0, 'like_c...   \n",
       "496   en  {'retweet_count': 8, 'reply_count': 0, 'like_c...   \n",
       "497   en  {'retweet_count': 8, 'reply_count': 0, 'like_c...   \n",
       "498   en  {'retweet_count': 0, 'reply_count': 0, 'like_c...   \n",
       "499   en  {'retweet_count': 0, 'reply_count': 0, 'like_c...   \n",
       "\n",
       "                      id  possibly_sensitive  \\\n",
       "0    1467979913923895298               False   \n",
       "1    1467979782197592075               False   \n",
       "2    1467979250372431878               False   \n",
       "3    1467978490758811657               False   \n",
       "4    1467978245861691397               False   \n",
       "..                   ...                 ...   \n",
       "495  1467875508012597254               False   \n",
       "496  1467875505256939528               False   \n",
       "497  1467875500278403075               False   \n",
       "498  1467874764425412611               False   \n",
       "499  1467874238862295041               False   \n",
       "\n",
       "                                                  text           author_id  \\\n",
       "0    @glaad @Jeopardamy @emilyvdw @Jeopardy Thanx f...  995446130967302144   \n",
       "1    Format: 8-day first round, four profs per day,...  770293085771210752   \n",
       "2    Y'all my professor is going to be a contestant...          2932977243   \n",
       "3    The @Jeopardy Professors Tournament begins tod...  770293085771210752   \n",
       "4    The lovely @missmayim is back hosting @jeopard...           355147215   \n",
       "..                                                 ...                 ...   \n",
       "495  RT @missmayim: Hi everyone!\\n\\nTODAY IS THE DA...                 NaN   \n",
       "496  RT @missmayim: Hi everyone!\\n\\nTODAY IS THE DA...                 NaN   \n",
       "497  RT @missmayim: Hi everyone!\\n\\nTODAY IS THE DA...                 NaN   \n",
       "498       @missmayim @BialikBreakdown Congratulations.                 NaN   \n",
       "499  @missmayim @BialikBreakdown Amy Farrah Fowler ...                 NaN   \n",
       "\n",
       "                   created_at               source  \\\n",
       "0    2021-12-06T22:10:59.000Z   Twitter for iPhone   \n",
       "1    2021-12-06T22:10:28.000Z   Twitter for iPhone   \n",
       "2    2021-12-06T22:08:21.000Z   Twitter for iPhone   \n",
       "3    2021-12-06T22:05:20.000Z   Twitter for iPhone   \n",
       "4    2021-12-06T22:04:22.000Z  Twitter for Android   \n",
       "..                        ...                  ...   \n",
       "495  2021-12-06T15:16:07.000Z   Twitter for iPhone   \n",
       "496  2021-12-06T15:16:06.000Z   Twitter for iPhone   \n",
       "497  2021-12-06T15:16:05.000Z   Twitter for iPhone   \n",
       "498  2021-12-06T15:13:10.000Z      Twitter Web App   \n",
       "499  2021-12-06T15:11:04.000Z      Twitter Web App   \n",
       "\n",
       "                                   attachments  \n",
       "0                                          NaN  \n",
       "1                                          NaN  \n",
       "2                                          NaN  \n",
       "3                                          NaN  \n",
       "4                                          NaN  \n",
       "..                                         ...  \n",
       "495                                        NaN  \n",
       "496                                        NaN  \n",
       "497                                        NaN  \n",
       "498                                        NaN  \n",
       "499  {'media_keys': ['3_1467874220772184074']}  \n",
       "\n",
       "[500 rows x 9 columns]"
      ]
     },
     "execution_count": 53,
     "metadata": {},
     "output_type": "execute_result"
    }
   ],
   "source": [
    "my_df"
   ]
  },
  {
   "cell_type": "code",
   "execution_count": 67,
   "id": "33624d49",
   "metadata": {},
   "outputs": [],
   "source": [
    "my_df.to_csv('jeopardy_data.csv')"
   ]
  },
  {
   "cell_type": "markdown",
   "id": "5904a703",
   "metadata": {},
   "source": [
    "Converting data to csv for further analysis"
   ]
  },
  {
   "cell_type": "markdown",
   "id": "b427acae",
   "metadata": {},
   "source": [
    "#### WOF Tweet Gathering"
   ]
  },
  {
   "cell_type": "code",
   "execution_count": 68,
   "id": "0a4864cd",
   "metadata": {},
   "outputs": [
    {
     "data": {
      "text/plain": [
       "{'newest_id': '1467979913923895298',\n",
       " 'oldest_id': '1467929873943609345',\n",
       " 'result_count': 100,\n",
       " 'next_token': 'b26v89c19zqg8o3fpdy8iseaefhfw53e8zwxxg4b94kfx'}"
      ]
     },
     "execution_count": 68,
     "metadata": {},
     "output_type": "execute_result"
    }
   ],
   "source": [
    "response_1_dict['meta']"
   ]
  },
  {
   "cell_type": "markdown",
   "id": "ed74b94b",
   "metadata": {},
   "source": [
    "This gives me the next_token I can use to make another request."
   ]
  },
  {
   "cell_type": "code",
   "execution_count": 69,
   "id": "434a753f",
   "metadata": {},
   "outputs": [],
   "source": [
    "endpoint_url_3 = 'https://api.twitter.com/2/tweets/search/recent'"
   ]
  },
  {
   "cell_type": "code",
   "execution_count": 70,
   "id": "b7c0b910",
   "metadata": {},
   "outputs": [],
   "source": [
    "query = urllib.parse.quote('#WOF OR #WheelOfFourtune OR #PatSajak OR @PatSajak lang:en')"
   ]
  },
  {
   "cell_type": "markdown",
   "id": "90c03fe3",
   "metadata": {},
   "source": [
    "Here I am creating a second query to search for Wheel of Fortune or Pat Sajak"
   ]
  },
  {
   "cell_type": "code",
   "execution_count": 71,
   "id": "9a33c981",
   "metadata": {},
   "outputs": [
    {
     "data": {
      "text/plain": [
       "'%23WOF%20OR%20%23WheelOfFourtune%20OR%20%23PatSajak%20OR%20%40PatSajak%20lang%3Aen'"
      ]
     },
     "execution_count": 71,
     "metadata": {},
     "output_type": "execute_result"
    }
   ],
   "source": [
    "query"
   ]
  },
  {
   "cell_type": "code",
   "execution_count": 72,
   "id": "fec8400d",
   "metadata": {},
   "outputs": [],
   "source": [
    "tweet_fields = 'public_metrics,created_at,lang,possibly_sensitive,attachments,source'"
   ]
  },
  {
   "cell_type": "markdown",
   "id": "bdc2b5c9",
   "metadata": {},
   "source": [
    "Here I am defining the tweet fields I would like the API to include when I ask for data."
   ]
  },
  {
   "cell_type": "code",
   "execution_count": 73,
   "id": "c2b79736",
   "metadata": {},
   "outputs": [],
   "source": [
    "expansions = 'author_id'"
   ]
  },
  {
   "cell_type": "code",
   "execution_count": 74,
   "id": "d6158afd",
   "metadata": {},
   "outputs": [],
   "source": [
    "url = endpoint_url_3 + '?query={}&tweet.fields={}'.format(query, tweet_fields)"
   ]
  },
  {
   "cell_type": "code",
   "execution_count": 75,
   "id": "09d9bb59",
   "metadata": {},
   "outputs": [],
   "source": [
    "url_expansions = endpoint_url_3 + '?query={}&max_results=100&tweet.fields={}&expansions={}&user.fields={}'.format(query, tweet_fields, expansions, 'username')"
   ]
  },
  {
   "cell_type": "code",
   "execution_count": 76,
   "id": "ada3f337",
   "metadata": {},
   "outputs": [
    {
     "data": {
      "text/plain": [
       "'https://api.twitter.com/2/tweets/search/recent?query=%23WOF%20OR%20%23WheelOfFourtune%20OR%20%23PatSajak%20OR%20%40PatSajak%20lang%3Aen&max_results=100&tweet.fields=public_metrics,created_at,lang,possibly_sensitive,attachments,source&expansions=author_id&user.fields=username'"
      ]
     },
     "execution_count": 76,
     "metadata": {},
     "output_type": "execute_result"
    }
   ],
   "source": [
    "url_expansions"
   ]
  },
  {
   "cell_type": "markdown",
   "id": "e27b36fb",
   "metadata": {},
   "source": [
    "This is the url of my request from Twitter of tweets regarding WOF and Pat Sajak"
   ]
  },
  {
   "cell_type": "code",
   "execution_count": 77,
   "id": "f23dffbf",
   "metadata": {},
   "outputs": [],
   "source": [
    "Wresponse_1 = requests.request(\"GET\", url_expansions, headers = header)"
   ]
  },
  {
   "cell_type": "markdown",
   "id": "23b50e08",
   "metadata": {},
   "source": [
    "Here I am making my request for 100 tweets of Twitter data. This time about WOF"
   ]
  },
  {
   "cell_type": "code",
   "execution_count": 78,
   "id": "3f9d6a8b",
   "metadata": {},
   "outputs": [
    {
     "data": {
      "text/plain": [
       "'{\"data\":[{\"source\":\"Twitter for iPhone\",\"author_id\":\"3246358172\",\"text\":\"RT @patsajak: Due to supply chain issues, Wheel of Fortune players will be limited to three vowel purchases per show until further notice.\",\"created_at\":\"2021-12-06T22:26:40.000Z\",\"id\":\"1467983860256411654\",\"public_metrics\":{\"retweet_count\":829,\"reply_count\":0,\"like_count\":0,\"quote_count\":0},\"lang\":\"en\",\"possibly_sensitive\":false},{\"source\":\"Twitter for iPhone\",\"author_id\":\"821752764\",\"text\":\"RT @patsajak: Due to supply chain issues, Wheel of Fortune players will be limited to three vowel purchases per show until further notice.\",\"created_at\":\"2021-12-06T22:26:31.000Z\",\"id\":\"1467983822461485068\",\"public_metrics\":{\"retweet_count\":829,\"reply_count\":0,\"like_count\":0,\"quote_count\":0},\"lang\":\"en\",\"possibly_sensitive\":false},{\"source\":\"Twitter for iPhone\",\"author_id\":\"373506829\",\"text\":\"RT @patsajak: Due to supply chain issues, Wheel of Fortune players will be limited to three vowel purchases per show until further notice.\",\"created_at\":\"2021-12-06T22:25:50.000Z\",\"id\":\"1467983649219956738\",\"public_metrics\":{\"retweet_count\":829,\"reply_count\":0,\"like_count\":0,\"quote_count\":0},\"lang\":\"en\",\"possibly_sensitive\":false},{\"source\":\"Twitter Web App\",\"author_id\":\"66037316\",\"text\":\"RT @patsajak: Due to supply chain issues, Wheel of Fortune players will be limited to three vowel purchases per show until further notice.\",\"created_at\":\"2021-12-06T22:24:59.000Z\",\"id\":\"1467983433548931075\",\"public_metrics\":{\"retweet_count\":829,\"reply_count\":0,\"like_count\":0,\"quote_count\":0},\"lang\":\"en\",\"possibly_sensitive\":false},{\"source\":\"Twitter for iPhone\",\"author_id\":\"3033552792\",\"text\":\"@patsajak \\\\uD83D\\\\uDC4F\\\\uD83C\\\\uDFFD\\\\uD83D\\\\uDC4F\\\\uD83C\\\\uDFFD\\\\uD83D\\\\uDC4F\\\\uD83C\\\\uDFFD\\\\uD83D\\\\uDC4F\\\\uD83C\\\\uDFFD\\\\uD83D\\\\uDC4F\\\\uD83C\\\\uDFFD\\\\uD83D\\\\uDC4F\\\\uD83C\\\\uDFFD\\\\uD83D\\\\uDC4F\\\\uD83C\\\\uDFFD\\\\uD83D\\\\uDC4F\\\\uD83C\\\\uDFFD\\\\uD83D\\\\uDC4F\\\\uD83C\\\\uDFFD\\\\uD83D\\\\uDC4F\\\\uD83C\\\\uDFFD\\\\nYour wit is a treasure, Pat. \\\\uD83D\\\\uDC4D\\\\uD83C\\\\uDFFC\",\"created_at\":\"2021-12-06T22:24:28.000Z\",\"id\":\"1467983303596670978\",\"public_metrics\":{\"retweet_count\":0,\"reply_count\":0,\"like_count\":0,\"quote_count\":0},\"lang\":\"en\",\"possibly_sensitive\":false},{\"source\":\"Twitter Web App\",\"author_id\":\"29477224\",\"text\":\"RT @patsajak: Due to supply chain issues, Wheel of Fortune players will be limited to three vowel purchases per show until further notice.\",\"created_at\":\"2021-12-06T22:24:09.000Z\",\"id\":\"1467983225838575631\",\"public_metrics\":{\"retweet_count\":829,\"reply_count\":0,\"like_count\":0,\"quote_count\":0},\"lang\":\"en\",\"possibly_sensitive\":false},{\"source\":\"Twitter for Android\",\"author_id\":\"582350328\",\"text\":\"RT @patsajak: Due to supply chain issues, Wheel of Fortune players will be limited to three vowel purchases per show until further notice.\",\"created_at\":\"2021-12-06T22:24:06.000Z\",\"id\":\"1467983212014014467\",\"public_metrics\":{\"retweet_count\":829,\"reply_count\":0,\"like_count\":0,\"quote_count\":0},\"lang\":\"en\",\"possibly_sensitive\":false},{\"source\":\"Twitter Web App\",\"author_id\":\"2821362351\",\"text\":\"RT @patsajak: Due to supply chain issues, Wheel of Fortune players will be limited to three vowel purchases per show until further notice.\",\"created_at\":\"2021-12-06T22:24:01.000Z\",\"id\":\"1467983192623706113\",\"public_metrics\":{\"retweet_count\":829,\"reply_count\":0,\"like_count\":0,\"quote_count\":0},\"lang\":\"en\",\"possibly_sensitive\":false},{\"source\":\"Twitter Web App\",\"author_id\":\"739347387324506112\",\"text\":\"RT @patsajak: Due to supply chain issues, Wheel of Fortune players will be limited to three vowel purchases per show until further notice.\",\"created_at\":\"2021-12-06T22:23:55.000Z\",\"id\":\"1467983166518530053\",\"public_metrics\":{\"retweet_count\":829,\"reply_count\":0,\"like_count\":0,\"quote_count\":0},\"lang\":\"en\",\"possibly_sensitive\":false},{\"source\":\"Twitter for iPhone\",\"author_id\":\"702721955686821888\",\"text\":\"RT @patsajak: Due to supply chain issues, Wheel of Fortune players will be limited to three vowel purchases per show until further notice.\",\"created_at\":\"2021-12-06T22:23:51.000Z\",\"id\":\"1467983150513115143\",\"public_metrics\":{\"retweet_count\":829,\"reply_count\":0,\"like_count\":0,\"quote_count\":0},\"lang\":\"en\",\"possibly_sensitive\":false},{\"source\":\"Twitter Web App\",\"author_id\":\"615462538\",\"text\":\"RT @patsajak: Due to supply chain issues, Wheel of Fortune players will be limited to three vowel purchases per show until further notice.\",\"created_at\":\"2021-12-06T22:23:19.000Z\",\"id\":\"1467983017088106504\",\"public_metrics\":{\"retweet_count\":829,\"reply_count\":0,\"like_count\":0,\"quote_count\":0},\"lang\":\"en\",\"possibly_sensitive\":false},{\"source\":\"Twitter for iPhone\",\"author_id\":\"63996778\",\"text\":\"RT @patsajak: Due to supply chain issues, Wheel of Fortune players will be limited to three vowel purchases per show until further notice.\",\"created_at\":\"2021-12-06T22:23:16.000Z\",\"id\":\"1467983003632738304\",\"public_metrics\":{\"retweet_count\":829,\"reply_count\":0,\"like_count\":0,\"quote_count\":0},\"lang\":\"en\",\"possibly_sensitive\":false},{\"source\":\"Twitter Web App\",\"author_id\":\"2357028630\",\"text\":\"RT @patsajak: Due to supply chain issues, Wheel of Fortune players will be limited to three vowel purchases per show until further notice.\",\"created_at\":\"2021-12-06T22:23:02.000Z\",\"id\":\"1467982943431835655\",\"public_metrics\":{\"retweet_count\":829,\"reply_count\":0,\"like_count\":0,\"quote_count\":0},\"lang\":\"en\",\"possibly_sensitive\":false},{\"source\":\"Twitter Web App\",\"author_id\":\"1230497082315878400\",\"text\":\"RT @patsajak: Due to supply chain issues, Wheel of Fortune players will be limited to three vowel purchases per show until further notice.\",\"created_at\":\"2021-12-06T22:23:00.000Z\",\"id\":\"1467982935987007488\",\"public_metrics\":{\"retweet_count\":829,\"reply_count\":0,\"like_count\":0,\"quote_count\":0},\"lang\":\"en\",\"possibly_sensitive\":false},{\"source\":\"Twitter for iPhone\",\"author_id\":\"321028622\",\"text\":\"@patsajak You’re still the best account on Twitter.\",\"created_at\":\"2021-12-06T22:22:18.000Z\",\"id\":\"1467982758823612419\",\"public_metrics\":{\"retweet_count\":0,\"reply_count\":0,\"like_count\":0,\"quote_count\":0},\"lang\":\"en\",\"possibly_sensitive\":false},{\"source\":\"Twitter for iPhone\",\"author_id\":\"202774168\",\"text\":\"RT @patsajak: Due to supply chain issues, Wheel of Fortune players will be limited to three vowel purchases per show until further notice.\",\"created_at\":\"2021-12-06T22:22:00.000Z\",\"id\":\"1467982686799032323\",\"public_metrics\":{\"retweet_count\":829,\"reply_count\":0,\"like_count\":0,\"quote_count\":0},\"lang\":\"en\",\"possibly_sensitive\":false},{\"source\":\"Twitter for Android\",\"author_id\":\"1393378652985991169\",\"text\":\"RT @patsajak: Due to supply chain issues, Wheel of Fortune players will be limited to three vowel purchases per show until further notice.\",\"created_at\":\"2021-12-06T22:22:00.000Z\",\"id\":\"1467982685553393664\",\"public_metrics\":{\"retweet_count\":829,\"reply_count\":0,\"like_count\":0,\"quote_count\":0},\"lang\":\"en\",\"possibly_sensitive\":false},{\"source\":\"Twitter for iPhone\",\"author_id\":\"532734503\",\"text\":\"RT @patsajak: Due to supply chain issues, Wheel of Fortune players will be limited to three vowel purchases per show until further notice.\",\"created_at\":\"2021-12-06T22:20:27.000Z\",\"id\":\"1467982293868421123\",\"public_metrics\":{\"retweet_count\":829,\"reply_count\":0,\"like_count\":0,\"quote_count\":0},\"lang\":\"en\",\"possibly_sensitive\":false},{\"source\":\"Twitter for iPhone\",\"author_id\":\"1328857638122098690\",\"text\":\"RT @patsajak: Due to supply chain issues, Wheel of Fortune players will be limited to three vowel purchases per show until further notice.\",\"created_at\":\"2021-12-06T22:20:14.000Z\",\"id\":\"1467982239916957697\",\"public_metrics\":{\"retweet_count\":829,\"reply_count\":0,\"like_count\":0,\"quote_count\":0},\"lang\":\"en\",\"possibly_sensitive\":false},{\"source\":\"Twitter Web App\",\"author_id\":\"457267522\",\"text\":\"RT @patsajak: Due to supply chain issues, Wheel of Fortune players will be limited to three vowel purchases per show until further notice.\",\"created_at\":\"2021-12-06T22:19:55.000Z\",\"id\":\"1467982158887325707\",\"public_metrics\":{\"retweet_count\":829,\"reply_count\":0,\"like_count\":0,\"quote_count\":0},\"lang\":\"en\",\"possibly_sensitive\":false},{\"source\":\"Twitter Web App\",\"author_id\":\"9635102\",\"text\":\"@oldfatandangry @patsajak What about the strategic vowel reserve\",\"created_at\":\"2021-12-06T22:19:13.000Z\",\"id\":\"1467981985431785474\",\"public_metrics\":{\"retweet_count\":0,\"reply_count\":0,\"like_count\":0,\"quote_count\":0},\"lang\":\"en\",\"possibly_sensitive\":false},{\"source\":\"Twitter Web App\",\"author_id\":\"1342512456023814145\",\"text\":\"RT @patsajak: Due to supply chain issues, Wheel of Fortune players will be limited to three vowel purchases per show until further notice.\",\"created_at\":\"2021-12-06T22:19:11.000Z\",\"id\":\"1467981975952707587\",\"public_metrics\":{\"retweet_count\":829,\"reply_count\":0,\"like_count\":0,\"quote_count\":0},\"lang\":\"en\",\"possibly_sensitive\":false},{\"source\":\"Twitter Web App\",\"author_id\":\"9635102\",\"text\":\"@singrdave @patsajak What do you have against sometimes Y?  Language Bigot\",\"created_at\":\"2021-12-06T22:18:31.000Z\",\"id\":\"1467981809413541889\",\"public_metrics\":{\"retweet_count\":0,\"reply_count\":0,\"like_count\":0,\"quote_count\":0},\"lang\":\"en\",\"possibly_sensitive\":false},{\"source\":\"Twitter Web App\",\"author_id\":\"2882957335\",\"text\":\"RT @patsajak: Due to supply chain issues, Wheel of Fortune players will be limited to three vowel purchases per show until further notice.\",\"created_at\":\"2021-12-06T22:17:01.000Z\",\"id\":\"1467981431271997442\",\"public_metrics\":{\"retweet_count\":829,\"reply_count\":0,\"like_count\":0,\"quote_count\":0},\"lang\":\"en\",\"possibly_sensitive\":false},{\"source\":\"Twitter Web App\",\"author_id\":\"729846700249120768\",\"text\":\"RT @patsajak: Other than the turkey, the sausage dressing, the bacon in the green beans and the butter, we’re having a completely vegan Tha…\",\"created_at\":\"2021-12-06T22:16:13.000Z\",\"id\":\"1467981230075428869\",\"public_metrics\":{\"retweet_count\":124,\"reply_count\":0,\"like_count\":0,\"quote_count\":0},\"lang\":\"en\",\"possibly_sensitive\":false},{\"source\":\"Twitter for iPad\",\"author_id\":\"107751307\",\"text\":\"RT @patsajak: Due to supply chain issues, Wheel of Fortune players will be limited to three vowel purchases per show until further notice.\",\"created_at\":\"2021-12-06T22:16:03.000Z\",\"id\":\"1467981187754848262\",\"public_metrics\":{\"retweet_count\":829,\"reply_count\":0,\"like_count\":0,\"quote_count\":0},\"lang\":\"en\",\"possibly_sensitive\":false},{\"source\":\"Twitter for iPad\",\"author_id\":\"65567458\",\"text\":\"RT @patsajak: Due to supply chain issues, Wheel of Fortune players will be limited to three vowel purchases per show until further notice.\",\"created_at\":\"2021-12-06T22:15:55.000Z\",\"id\":\"1467981153030262797\",\"public_metrics\":{\"retweet_count\":829,\"reply_count\":0,\"like_count\":0,\"quote_count\":0},\"lang\":\"en\",\"possibly_sensitive\":false},{\"source\":\"Twitter Web App\",\"author_id\":\"729846700249120768\",\"text\":\"RT @patsajak: Due to supply chain issues, Wheel of Fortune players will be limited to three vowel purchases per show until further notice.\",\"created_at\":\"2021-12-06T22:15:29.000Z\",\"id\":\"1467981046100766728\",\"public_metrics\":{\"retweet_count\":829,\"reply_count\":0,\"like_count\":0,\"quote_count\":0},\"lang\":\"en\",\"possibly_sensitive\":false},{\"source\":\"Twitter for iPhone\",\"author_id\":\"1444810763647033345\",\"text\":\"RT @patsajak: Due to supply chain issues, Wheel of Fortune players will be limited to three vowel purchases per show until further notice.\",\"created_at\":\"2021-12-06T22:13:48.000Z\",\"id\":\"1467980619174985728\",\"public_metrics\":{\"retweet_count\":829,\"reply_count\":0,\"like_count\":0,\"quote_count\":0},\"lang\":\"en\",\"possibly_sensitive\":false},{\"source\":\"Twitter Web App\",\"author_id\":\"1400289104726736898\",\"text\":\"RT @patsajak: Due to supply chain issues, Wheel of Fortune players will be limited to three vowel purchases per show until further notice.\",\"created_at\":\"2021-12-06T22:12:15.000Z\",\"id\":\"1467980229687885826\",\"public_metrics\":{\"retweet_count\":829,\"reply_count\":0,\"like_count\":0,\"quote_count\":0},\"lang\":\"en\",\"possibly_sensitive\":false},{\"source\":\"Twitter for Android\",\"author_id\":\"343633547\",\"text\":\"RT @patsajak: Due to supply chain issues, Wheel of Fortune players will be limited to three vowel purchases per show until further notice.\",\"created_at\":\"2021-12-06T22:11:42.000Z\",\"id\":\"1467980093326823429\",\"public_metrics\":{\"retweet_count\":829,\"reply_count\":0,\"like_count\":0,\"quote_count\":0},\"lang\":\"en\",\"possibly_sensitive\":false},{\"source\":\"Twitter Web App\",\"author_id\":\"15546191\",\"text\":\"RT @patsajak: Due to supply chain issues, Wheel of Fortune players will be limited to three vowel purchases per show until further notice.\",\"created_at\":\"2021-12-06T22:11:29.000Z\",\"id\":\"1467980038972841989\",\"public_metrics\":{\"retweet_count\":829,\"reply_count\":0,\"like_count\":0,\"quote_count\":0},\"lang\":\"en\",\"possibly_sensitive\":false},{\"source\":\"Twitter for Android\",\"author_id\":\"908867730408910849\",\"text\":\"RT @patsajak: Due to supply chain issues, Wheel of Fortune players will be limited to three vowel purchases per show until further notice.\",\"created_at\":\"2021-12-06T22:11:13.000Z\",\"id\":\"1467979972988055554\",\"public_metrics\":{\"retweet_count\":829,\"reply_count\":0,\"like_count\":0,\"quote_count\":0},\"lang\":\"en\",\"possibly_sensitive\":false},{\"source\":\"Twitter for iPhone\",\"author_id\":\"1009789314832781314\",\"text\":\"RT @patsajak: Due to supply chain issues, Wheel of Fortune players will be limited to three vowel purchases per show until further notice.\",\"created_at\":\"2021-12-06T22:10:52.000Z\",\"id\":\"1467979884727308294\",\"public_metrics\":{\"retweet_count\":829,\"reply_count\":0,\"like_count\":0,\"quote_count\":0},\"lang\":\"en\",\"possibly_sensitive\":false},{\"source\":\"Twitter for iPhone\",\"author_id\":\"922897700\",\"text\":\"RT @patsajak: Due to supply chain issues, Wheel of Fortune players will be limited to three vowel purchases per show until further notice.\",\"created_at\":\"2021-12-06T22:10:46.000Z\",\"id\":\"1467979856738545665\",\"public_metrics\":{\"retweet_count\":829,\"reply_count\":0,\"like_count\":0,\"quote_count\":0},\"lang\":\"en\",\"possibly_sensitive\":false},{\"source\":\"Twitter Web App\",\"author_id\":\"1427695367534129158\",\"text\":\"RT @patsajak: Due to supply chain issues, Wheel of Fortune players will be limited to three vowel purchases per show until further notice.\",\"created_at\":\"2021-12-06T22:10:34.000Z\",\"id\":\"1467979805639462922\",\"public_metrics\":{\"retweet_count\":829,\"reply_count\":0,\"like_count\":0,\"quote_count\":0},\"lang\":\"en\",\"possibly_sensitive\":false},{\"source\":\"Twitter for iPhone\",\"author_id\":\"183217873\",\"text\":\"RT @patsajak: Due to supply chain issues, Wheel of Fortune players will be limited to three vowel purchases per show until further notice.\",\"created_at\":\"2021-12-06T22:10:22.000Z\",\"id\":\"1467979758101319683\",\"public_metrics\":{\"retweet_count\":829,\"reply_count\":0,\"like_count\":0,\"quote_count\":0},\"lang\":\"en\",\"possibly_sensitive\":false},{\"source\":\"Twitter Web App\",\"author_id\":\"1455670174506434563\",\"text\":\"RT @patsajak: Due to supply chain issues, Wheel of Fortune players will be limited to three vowel purchases per show until further notice.\",\"created_at\":\"2021-12-06T22:10:22.000Z\",\"id\":\"1467979755391787020\",\"public_metrics\":{\"retweet_count\":829,\"reply_count\":0,\"like_count\":0,\"quote_count\":0},\"lang\":\"en\",\"possibly_sensitive\":false},{\"source\":\"Twitter for iPhone\",\"author_id\":\"977044405591842816\",\"text\":\"RT @patsajak: Due to supply chain issues, Wheel of Fortune players will be limited to three vowel purchases per show until further notice.\",\"created_at\":\"2021-12-06T22:10:19.000Z\",\"id\":\"1467979742955507713\",\"public_metrics\":{\"retweet_count\":829,\"reply_count\":0,\"like_count\":0,\"quote_count\":0},\"lang\":\"en\",\"possibly_sensitive\":false},{\"source\":\"Twitter Web App\",\"author_id\":\"390119070\",\"text\":\"@patsajak @catoletters Bring back the ceramic Dalmatian damn it!!!!!!!\",\"created_at\":\"2021-12-06T22:08:44.000Z\",\"id\":\"1467979345377509377\",\"public_metrics\":{\"retweet_count\":0,\"reply_count\":0,\"like_count\":0,\"quote_count\":0},\"lang\":\"en\",\"possibly_sensitive\":false},{\"source\":\"Twitter Web App\",\"author_id\":\"742183174260723712\",\"text\":\"RT @patsajak: Due to supply chain issues, Wheel of Fortune players will be limited to three vowel purchases per show until further notice.\",\"created_at\":\"2021-12-06T22:08:40.000Z\",\"id\":\"1467979327421698056\",\"public_metrics\":{\"retweet_count\":829,\"reply_count\":0,\"like_count\":0,\"quote_count\":0},\"lang\":\"en\",\"possibly_sensitive\":false},{\"source\":\"Twitter for iPhone\",\"author_id\":\"1452886192274526208\",\"text\":\"RT @patsajak: Due to supply chain issues, Wheel of Fortune players will be limited to three vowel purchases per show until further notice.\",\"created_at\":\"2021-12-06T22:08:37.000Z\",\"id\":\"1467979316612894722\",\"public_metrics\":{\"retweet_count\":829,\"reply_count\":0,\"like_count\":0,\"quote_count\":0},\"lang\":\"en\",\"possibly_sensitive\":false},{\"source\":\"Twitter for iPhone\",\"author_id\":\"1335027632036048898\",\"text\":\"RT @patsajak: Due to supply chain issues, Wheel of Fortune players will be limited to three vowel purchases per show until further notice.\",\"created_at\":\"2021-12-06T22:07:53.000Z\",\"id\":\"1467979131711365129\",\"public_metrics\":{\"retweet_count\":829,\"reply_count\":0,\"like_count\":0,\"quote_count\":0},\"lang\":\"en\",\"possibly_sensitive\":false},{\"source\":\"Twitter for Android\",\"author_id\":\"305380480\",\"text\":\"RT @patsajak: Due to supply chain issues, Wheel of Fortune players will be limited to three vowel purchases per show until further notice.\",\"created_at\":\"2021-12-06T22:07:17.000Z\",\"id\":\"1467978980368306176\",\"public_metrics\":{\"retweet_count\":829,\"reply_count\":0,\"like_count\":0,\"quote_count\":0},\"lang\":\"en\",\"possibly_sensitive\":false},{\"source\":\"Twitter for iPhone\",\"author_id\":\"773330865682341888\",\"text\":\"RT @patsajak: Due to supply chain issues, Wheel of Fortune players will be limited to three vowel purchases per show until further notice.\",\"created_at\":\"2021-12-06T22:05:48.000Z\",\"id\":\"1467978608308330497\",\"public_metrics\":{\"retweet_count\":829,\"reply_count\":0,\"like_count\":0,\"quote_count\":0},\"lang\":\"en\",\"possibly_sensitive\":false},{\"source\":\"Twitter for iPhone\",\"author_id\":\"1299853095313141760\",\"text\":\"RT @patsajak: Due to supply chain issues, Wheel of Fortune players will be limited to three vowel purchases per show until further notice.\",\"created_at\":\"2021-12-06T22:05:42.000Z\",\"id\":\"1467978583121428482\",\"public_metrics\":{\"retweet_count\":829,\"reply_count\":0,\"like_count\":0,\"quote_count\":0},\"lang\":\"en\",\"possibly_sensitive\":false},{\"source\":\"Twitter for iPad\",\"author_id\":\"846773042\",\"text\":\"RT @patsajak: Due to supply chain issues, Wheel of Fortune players will be limited to three vowel purchases per show until further notice.\",\"created_at\":\"2021-12-06T22:05:42.000Z\",\"id\":\"1467978581347160064\",\"public_metrics\":{\"retweet_count\":829,\"reply_count\":0,\"like_count\":0,\"quote_count\":0},\"lang\":\"en\",\"possibly_sensitive\":false},{\"source\":\"Twitter for Android\",\"author_id\":\"3445142593\",\"text\":\"RT @patsajak: Due to supply chain issues, Wheel of Fortune players will be limited to three vowel purchases per show until further notice.\",\"created_at\":\"2021-12-06T22:05:08.000Z\",\"id\":\"1467978440380801029\",\"public_metrics\":{\"retweet_count\":829,\"reply_count\":0,\"like_count\":0,\"quote_count\":0},\"lang\":\"en\",\"possibly_sensitive\":false},{\"source\":\"Twitter Web App\",\"author_id\":\"1904454054\",\"text\":\"RT @patsajak: Due to supply chain issues, Wheel of Fortune players will be limited to three vowel purchases per show until further notice.\",\"created_at\":\"2021-12-06T22:04:13.000Z\",\"id\":\"1467978209757208576\",\"public_metrics\":{\"retweet_count\":829,\"reply_count\":0,\"like_count\":0,\"quote_count\":0},\"lang\":\"en\",\"possibly_sensitive\":false},{\"source\":\"Twitter Web App\",\"author_id\":\"55113653\",\"text\":\"RT @patsajak: Due to supply chain issues, Wheel of Fortune players will be limited to three vowel purchases per show until further notice.\",\"created_at\":\"2021-12-06T22:03:33.000Z\",\"id\":\"1467978041817243654\",\"public_metrics\":{\"retweet_count\":829,\"reply_count\":0,\"like_count\":0,\"quote_count\":0},\"lang\":\"en\",\"possibly_sensitive\":false},{\"source\":\"Twitter Web App\",\"author_id\":\"1403376769848254465\",\"text\":\"RT @patsajak: Due to supply chain issues, Wheel of Fortune players will be limited to three vowel purchases per show until further notice.\",\"created_at\":\"2021-12-06T22:03:05.000Z\",\"id\":\"1467977924578054149\",\"public_metrics\":{\"retweet_count\":829,\"reply_count\":0,\"like_count\":0,\"quote_count\":0},\"lang\":\"en\",\"possibly_sensitive\":false},{\"source\":\"Twitter for iPhone\",\"author_id\":\"737311736\",\"text\":\"RT @patsajak: Due to supply chain issues, Wheel of Fortune players will be limited to three vowel purchases per show until further notice.\",\"created_at\":\"2021-12-06T22:01:48.000Z\",\"id\":\"1467977599376924682\",\"public_metrics\":{\"retweet_count\":829,\"reply_count\":0,\"like_count\":0,\"quote_count\":0},\"lang\":\"en\",\"possibly_sensitive\":false},{\"source\":\"Twitter for iPhone\",\"author_id\":\"1280915254298337281\",\"text\":\"RT @patsajak: Due to supply chain issues, Wheel of Fortune players will be limited to three vowel purchases per show until further notice.\",\"created_at\":\"2021-12-06T22:00:58.000Z\",\"id\":\"1467977393310552065\",\"public_metrics\":{\"retweet_count\":829,\"reply_count\":0,\"like_count\":0,\"quote_count\":0},\"lang\":\"en\",\"possibly_sensitive\":false},{\"source\":\"Twitter for Android\",\"author_id\":\"80439953\",\"text\":\"RT @patsajak: Due to supply chain issues, Wheel of Fortune players will be limited to three vowel purchases per show until further notice.\",\"created_at\":\"2021-12-06T22:00:46.000Z\",\"id\":\"1467977339380269057\",\"public_metrics\":{\"retweet_count\":829,\"reply_count\":0,\"like_count\":0,\"quote_count\":0},\"lang\":\"en\",\"possibly_sensitive\":false},{\"source\":\"Twitter Web App\",\"author_id\":\"4223700543\",\"text\":\"@patsajak What ?? Oh, man... :p\\\\nPs - I was guest on your @cbs talker back in the 90s (with Victor Borge !)\\\\n.. thanks again and have a happy !!  *&lt;;D\",\"created_at\":\"2021-12-06T21:59:19.000Z\",\"id\":\"1467976977093115908\",\"public_metrics\":{\"retweet_count\":0,\"reply_count\":0,\"like_count\":0,\"quote_count\":0},\"lang\":\"en\",\"possibly_sensitive\":false},{\"source\":\"Twitter for iPhone\",\"author_id\":\"33927104\",\"text\":\"@patsajak Can’t I just give you an I.O.U. for now?\",\"created_at\":\"2021-12-06T21:59:17.000Z\",\"id\":\"1467976967517523971\",\"public_metrics\":{\"retweet_count\":0,\"reply_count\":0,\"like_count\":0,\"quote_count\":0},\"lang\":\"en\",\"possibly_sensitive\":false},{\"source\":\"Twitter for iPhone\",\"author_id\":\"2671595964\",\"text\":\"RT @patsajak: Due to supply chain issues, Wheel of Fortune players will be limited to three vowel purchases per show until further notice.\",\"created_at\":\"2021-12-06T21:59:15.000Z\",\"id\":\"1467976959602823168\",\"public_metrics\":{\"retweet_count\":829,\"reply_count\":0,\"like_count\":0,\"quote_count\":0},\"lang\":\"en\",\"possibly_sensitive\":false},{\"source\":\"Twitter for Android\",\"author_id\":\"1346468913278685184\",\"text\":\"RT @patsajak: Due to supply chain issues, Wheel of Fortune players will be limited to three vowel purchases per show until further notice.\",\"created_at\":\"2021-12-06T21:58:44.000Z\",\"id\":\"1467976827402653697\",\"public_metrics\":{\"retweet_count\":829,\"reply_count\":0,\"like_count\":0,\"quote_count\":0},\"lang\":\"en\",\"possibly_sensitive\":false},{\"source\":\"Twitter for Android\",\"author_id\":\"1316565953400848384\",\"text\":\"RT @patsajak: Due to supply chain issues, Wheel of Fortune players will be limited to three vowel purchases per show until further notice.\",\"created_at\":\"2021-12-06T21:57:39.000Z\",\"id\":\"1467976555330555907\",\"public_metrics\":{\"retweet_count\":829,\"reply_count\":0,\"like_count\":0,\"quote_count\":0},\"lang\":\"en\",\"possibly_sensitive\":false},{\"source\":\"Twitter Web App\",\"author_id\":\"818690\",\"text\":\"RT @patsajak: Due to supply chain issues, Wheel of Fortune players will be limited to three vowel purchases per show until further notice.\",\"created_at\":\"2021-12-06T21:57:33.000Z\",\"id\":\"1467976532824100866\",\"public_metrics\":{\"retweet_count\":829,\"reply_count\":0,\"like_count\":0,\"quote_count\":0},\"lang\":\"en\",\"possibly_sensitive\":false},{\"source\":\"Twitter for iPhone\",\"author_id\":\"741412025683877888\",\"text\":\"RT @patsajak: Due to supply chain issues, Wheel of Fortune players will be limited to three vowel purchases per show until further notice.\",\"created_at\":\"2021-12-06T21:57:20.000Z\",\"id\":\"1467976478017011716\",\"public_metrics\":{\"retweet_count\":829,\"reply_count\":0,\"like_count\":0,\"quote_count\":0},\"lang\":\"en\",\"possibly_sensitive\":false},{\"source\":\"Plume\\xa0for\\xa0Android\",\"author_id\":\"935198454804033537\",\"text\":\"RT @patsajak: Due to supply chain issues, Wheel of Fortune players will be limited to three vowel purchases per show until further notice.\",\"created_at\":\"2021-12-06T21:57:19.000Z\",\"id\":\"1467976472669397001\",\"public_metrics\":{\"retweet_count\":829,\"reply_count\":0,\"like_count\":0,\"quote_count\":0},\"lang\":\"en\",\"possibly_sensitive\":false},{\"source\":\"Twitter for Android\",\"author_id\":\"299424043\",\"text\":\"RT @patsajak: Due to supply chain issues, Wheel of Fortune players will be limited to three vowel purchases per show until further notice.\",\"created_at\":\"2021-12-06T21:57:00.000Z\",\"id\":\"1467976395259138051\",\"public_metrics\":{\"retweet_count\":829,\"reply_count\":0,\"like_count\":0,\"quote_count\":0},\"lang\":\"en\",\"possibly_sensitive\":false},{\"source\":\"Twitter for iPhone\",\"author_id\":\"758349746121674752\",\"text\":\"RT @patsajak: Due to supply chain issues, Wheel of Fortune players will be limited to three vowel purchases per show until further notice.\",\"created_at\":\"2021-12-06T21:56:42.000Z\",\"id\":\"1467976316687421442\",\"public_metrics\":{\"retweet_count\":829,\"reply_count\":0,\"like_count\":0,\"quote_count\":0},\"lang\":\"en\",\"possibly_sensitive\":false},{\"source\":\"Twitter for iPhone\",\"author_id\":\"503710281\",\"text\":\"RT @patsajak: Due to supply chain issues, Wheel of Fortune players will be limited to three vowel purchases per show until further notice.\",\"created_at\":\"2021-12-06T21:56:34.000Z\",\"id\":\"1467976285515362306\",\"public_metrics\":{\"retweet_count\":829,\"reply_count\":0,\"like_count\":0,\"quote_count\":0},\"lang\":\"en\",\"possibly_sensitive\":false},{\"source\":\"Twitter for Android\",\"author_id\":\"963137247833919488\",\"text\":\"RT @patsajak: Due to supply chain issues, Wheel of Fortune players will be limited to three vowel purchases per show until further notice.\",\"created_at\":\"2021-12-06T21:56:11.000Z\",\"id\":\"1467976189759442949\",\"public_metrics\":{\"retweet_count\":829,\"reply_count\":0,\"like_count\":0,\"quote_count\":0},\"lang\":\"en\",\"possibly_sensitive\":false},{\"source\":\"Twitter for iPhone\",\"author_id\":\"35901612\",\"text\":\"RT @patsajak: Due to supply chain issues, Wheel of Fortune players will be limited to three vowel purchases per show until further notice.\",\"created_at\":\"2021-12-06T21:55:59.000Z\",\"id\":\"1467976135589830657\",\"public_metrics\":{\"retweet_count\":829,\"reply_count\":0,\"like_count\":0,\"quote_count\":0},\"lang\":\"en\",\"possibly_sensitive\":false},{\"source\":\"Twitter for iPhone\",\"author_id\":\"18329124\",\"text\":\"RT @patsajak: Due to supply chain issues, Wheel of Fortune players will be limited to three vowel purchases per show until further notice.\",\"created_at\":\"2021-12-06T21:55:41.000Z\",\"id\":\"1467976061455589378\",\"public_metrics\":{\"retweet_count\":829,\"reply_count\":0,\"like_count\":0,\"quote_count\":0},\"lang\":\"en\",\"possibly_sensitive\":false},{\"source\":\"Twitter for Android\",\"author_id\":\"331825712\",\"text\":\"RT @patsajak: Due to supply chain issues, Wheel of Fortune players will be limited to three vowel purchases per show until further notice.\",\"created_at\":\"2021-12-06T21:55:36.000Z\",\"id\":\"1467976040999833601\",\"public_metrics\":{\"retweet_count\":829,\"reply_count\":0,\"like_count\":0,\"quote_count\":0},\"lang\":\"en\",\"possibly_sensitive\":false},{\"source\":\"Twitter Web App\",\"author_id\":\"1044095139860295681\",\"text\":\"RT @patsajak: Due to supply chain issues, Wheel of Fortune players will be limited to three vowel purchases per show until further notice.\",\"created_at\":\"2021-12-06T21:55:21.000Z\",\"id\":\"1467975976902553601\",\"public_metrics\":{\"retweet_count\":829,\"reply_count\":0,\"like_count\":0,\"quote_count\":0},\"lang\":\"en\",\"possibly_sensitive\":false},{\"source\":\"Twitter for iPhone\",\"author_id\":\"194431993\",\"text\":\"RT @patsajak: Due to supply chain issues, Wheel of Fortune players will be limited to three vowel purchases per show until further notice.\",\"created_at\":\"2021-12-06T21:54:42.000Z\",\"id\":\"1467975815132590081\",\"public_metrics\":{\"retweet_count\":829,\"reply_count\":0,\"like_count\":0,\"quote_count\":0},\"lang\":\"en\",\"possibly_sensitive\":false},{\"source\":\"Twitter for iPhone\",\"author_id\":\"1373796967097237506\",\"text\":\"@patsajak You are really funny!! \\\\uD83E\\\\uDD23\",\"created_at\":\"2021-12-06T21:53:21.000Z\",\"id\":\"1467975476291457024\",\"public_metrics\":{\"retweet_count\":0,\"reply_count\":0,\"like_count\":0,\"quote_count\":0},\"lang\":\"en\",\"possibly_sensitive\":false},{\"source\":\"Twitter for Android\",\"author_id\":\"1408874586624643073\",\"text\":\"RT @patsajak: Due to supply chain issues, Wheel of Fortune players will be limited to three vowel purchases per show until further notice.\",\"created_at\":\"2021-12-06T21:52:17.000Z\",\"id\":\"1467975207944081414\",\"public_metrics\":{\"retweet_count\":829,\"reply_count\":0,\"like_count\":0,\"quote_count\":0},\"lang\":\"en\",\"possibly_sensitive\":false},{\"source\":\"Twitter for Android\",\"author_id\":\"3921030922\",\"text\":\"RT @patsajak: Due to supply chain issues, Wheel of Fortune players will be limited to three vowel purchases per show until further notice.\",\"created_at\":\"2021-12-06T21:51:54.000Z\",\"id\":\"1467975108136509443\",\"public_metrics\":{\"retweet_count\":829,\"reply_count\":0,\"like_count\":0,\"quote_count\":0},\"lang\":\"en\",\"possibly_sensitive\":false},{\"source\":\"Twitter for iPhone\",\"author_id\":\"890046726\",\"text\":\"RT @patsajak: Due to supply chain issues, Wheel of Fortune players will be limited to three vowel purchases per show until further notice.\",\"created_at\":\"2021-12-06T21:51:46.000Z\",\"id\":\"1467975075408265220\",\"public_metrics\":{\"retweet_count\":829,\"reply_count\":0,\"like_count\":0,\"quote_count\":0},\"lang\":\"en\",\"possibly_sensitive\":false},{\"source\":\"Twitter Web App\",\"author_id\":\"1346857697249902593\",\"text\":\"RT @patsajak: Due to supply chain issues, Wheel of Fortune players will be limited to three vowel purchases per show until further notice.\",\"created_at\":\"2021-12-06T21:51:39.000Z\",\"id\":\"1467975045842563077\",\"public_metrics\":{\"retweet_count\":829,\"reply_count\":0,\"like_count\":0,\"quote_count\":0},\"lang\":\"en\",\"possibly_sensitive\":false},{\"source\":\"Twitter for Android\",\"author_id\":\"329791991\",\"text\":\"RT @Matt67wolf: @patsajak Due to the omicron variant. All contestants must show solidarity to 1931 east germany before solving any puzzle.\\\\uD83D\\\\uDE09\",\"created_at\":\"2021-12-06T21:51:23.000Z\",\"id\":\"1467974980814127116\",\"public_metrics\":{\"retweet_count\":0,\"reply_count\":0,\"like_count\":0,\"quote_count\":0},\"lang\":\"en\",\"possibly_sensitive\":false},{\"source\":\"Twitter Web App\",\"author_id\":\"15063486\",\"text\":\"RT @patsajak: Due to supply chain issues, Wheel of Fortune players will be limited to three vowel purchases per show until further notice.\",\"created_at\":\"2021-12-06T21:50:49.000Z\",\"id\":\"1467974838258130949\",\"public_metrics\":{\"retweet_count\":829,\"reply_count\":0,\"like_count\":0,\"quote_count\":0},\"lang\":\"en\",\"possibly_sensitive\":false},{\"source\":\"Twitter for Android\",\"author_id\":\"329791991\",\"text\":\"RT @MVPenergy: @patsajak IRS agents will now also be on sight to immediately collect taxes on “unrealized gains” for puzzles they lost.\",\"created_at\":\"2021-12-06T21:50:34.000Z\",\"id\":\"1467974775746277378\",\"public_metrics\":{\"retweet_count\":1,\"reply_count\":0,\"like_count\":0,\"quote_count\":0},\"lang\":\"en\",\"possibly_sensitive\":false},{\"source\":\"Twitter for Android\",\"author_id\":\"329791991\",\"text\":\"RT @brianpOU1: @patsajak @aijumper They will also now be charged $475 per vowel due to inflation.\",\"created_at\":\"2021-12-06T21:50:25.000Z\",\"id\":\"1467974737892724745\",\"public_metrics\":{\"retweet_count\":2,\"reply_count\":0,\"like_count\":0,\"quote_count\":0},\"lang\":\"en\",\"possibly_sensitive\":false},{\"source\":\"Twitter for Android\",\"author_id\":\"329791991\",\"text\":\"RT @patsajak: Due to supply chain issues, Wheel of Fortune players will be limited to three vowel purchases per show until further notice.\",\"created_at\":\"2021-12-06T21:49:51.000Z\",\"id\":\"1467974595810664456\",\"public_metrics\":{\"retweet_count\":829,\"reply_count\":0,\"like_count\":0,\"quote_count\":0},\"lang\":\"en\",\"possibly_sensitive\":false},{\"source\":\"Twitter for iPhone\",\"author_id\":\"19151045\",\"text\":\"RT @patsajak: Due to supply chain issues, Wheel of Fortune players will be limited to three vowel purchases per show until further notice.\",\"created_at\":\"2021-12-06T21:49:33.000Z\",\"id\":\"1467974520501907457\",\"public_metrics\":{\"retweet_count\":829,\"reply_count\":0,\"like_count\":0,\"quote_count\":0},\"lang\":\"en\",\"possibly_sensitive\":false},{\"source\":\"Twitter for iPhone\",\"author_id\":\"2384608813\",\"text\":\"RT @patsajak: Due to supply chain issues, Wheel of Fortune players will be limited to three vowel purchases per show until further notice.\",\"created_at\":\"2021-12-06T21:49:23.000Z\",\"id\":\"1467974475035512833\",\"public_metrics\":{\"retweet_count\":829,\"reply_count\":0,\"like_count\":0,\"quote_count\":0},\"lang\":\"en\",\"possibly_sensitive\":false},{\"source\":\"Twitter for iPad\",\"author_id\":\"951633659039223808\",\"text\":\"RT @patsajak: Due to supply chain issues, Wheel of Fortune players will be limited to three vowel purchases per show until further notice.\",\"created_at\":\"2021-12-06T21:49:18.000Z\",\"id\":\"1467974453934137346\",\"public_metrics\":{\"retweet_count\":829,\"reply_count\":0,\"like_count\":0,\"quote_count\":0},\"lang\":\"en\",\"possibly_sensitive\":false},{\"source\":\"Twitter for iPhone\",\"author_id\":\"1225514767697285122\",\"text\":\"RT @patsajak: Due to supply chain issues, Wheel of Fortune players will be limited to three vowel purchases per show until further notice.\",\"created_at\":\"2021-12-06T21:49:18.000Z\",\"id\":\"1467974453602705418\",\"public_metrics\":{\"retweet_count\":829,\"reply_count\":0,\"like_count\":0,\"quote_count\":0},\"lang\":\"en\",\"possibly_sensitive\":false},{\"source\":\"Twitter for iPhone\",\"author_id\":\"1100891415360368643\",\"text\":\"RT @patsajak: Due to supply chain issues, Wheel of Fortune players will be limited to three vowel purchases per show until further notice.\",\"created_at\":\"2021-12-06T21:49:13.000Z\",\"id\":\"1467974434866618370\",\"public_metrics\":{\"retweet_count\":829,\"reply_count\":0,\"like_count\":0,\"quote_count\":0},\"lang\":\"en\",\"possibly_sensitive\":false},{\"source\":\"Twitter Web App\",\"author_id\":\"827923977796415489\",\"text\":\"RT @patsajak: Due to supply chain issues, Wheel of Fortune players will be limited to three vowel purchases per show until further notice.\",\"created_at\":\"2021-12-06T21:48:57.000Z\",\"id\":\"1467974365576712194\",\"public_metrics\":{\"retweet_count\":829,\"reply_count\":0,\"like_count\":0,\"quote_count\":0},\"lang\":\"en\",\"possibly_sensitive\":false},{\"source\":\"Twitter for Android\",\"author_id\":\"823851255466430464\",\"text\":\"@patsajak You should change the rule and only one vowel per spin. I\\'ve been watching classic episodes from the 80s and 90s. Those contestants barely bought any vowels.\",\"created_at\":\"2021-12-06T21:48:31.000Z\",\"id\":\"1467974258915696642\",\"public_metrics\":{\"retweet_count\":0,\"reply_count\":0,\"like_count\":1,\"quote_count\":0},\"lang\":\"en\",\"possibly_sensitive\":false},{\"source\":\"Twitter for Android\",\"author_id\":\"1606194716\",\"text\":\"RT @patsajak: Due to supply chain issues, Wheel of Fortune players will be limited to three vowel purchases per show until further notice.\",\"created_at\":\"2021-12-06T21:48:21.000Z\",\"id\":\"1467974214632226816\",\"public_metrics\":{\"retweet_count\":829,\"reply_count\":0,\"like_count\":0,\"quote_count\":0},\"lang\":\"en\",\"possibly_sensitive\":false},{\"source\":\"Twitter for Android\",\"author_id\":\"1314962938906771461\",\"text\":\"RT @patsajak: Due to supply chain issues, Wheel of Fortune players will be limited to three vowel purchases per show until further notice.\",\"created_at\":\"2021-12-06T21:48:14.000Z\",\"id\":\"1467974188522745863\",\"public_metrics\":{\"retweet_count\":829,\"reply_count\":0,\"like_count\":0,\"quote_count\":0},\"lang\":\"en\",\"possibly_sensitive\":false},{\"source\":\"Twitter for iPhone\",\"author_id\":\"756689149780959232\",\"text\":\"RT @patsajak: Due to supply chain issues, Wheel of Fortune players will be limited to three vowel purchases per show until further notice.\",\"created_at\":\"2021-12-06T21:48:08.000Z\",\"id\":\"1467974162597695488\",\"public_metrics\":{\"retweet_count\":829,\"reply_count\":0,\"like_count\":0,\"quote_count\":0},\"lang\":\"en\",\"possibly_sensitive\":false},{\"source\":\"Twitter Web App\",\"author_id\":\"1269740026662916103\",\"text\":\"RT @patsajak: Due to supply chain issues, Wheel of Fortune players will be limited to three vowel purchases per show until further notice.\",\"created_at\":\"2021-12-06T21:47:58.000Z\",\"id\":\"1467974120277217281\",\"public_metrics\":{\"retweet_count\":829,\"reply_count\":0,\"like_count\":0,\"quote_count\":0},\"lang\":\"en\",\"possibly_sensitive\":false},{\"source\":\"Twitter for Android\",\"author_id\":\"1046165772819722240\",\"text\":\"RT @patsajak: Due to supply chain issues, Wheel of Fortune players will be limited to three vowel purchases per show until further notice.\",\"created_at\":\"2021-12-06T21:47:33.000Z\",\"id\":\"1467974014962384899\",\"public_metrics\":{\"retweet_count\":829,\"reply_count\":0,\"like_count\":0,\"quote_count\":0},\"lang\":\"en\",\"possibly_sensitive\":false},{\"source\":\"Twitter Web App\",\"author_id\":\"1427094754509029376\",\"text\":\"RT @patsajak: Due to supply chain issues, Wheel of Fortune players will be limited to three vowel purchases per show until further notice.\",\"created_at\":\"2021-12-06T21:47:06.000Z\",\"id\":\"1467973903775502336\",\"public_metrics\":{\"retweet_count\":829,\"reply_count\":0,\"like_count\":0,\"quote_count\":0},\"lang\":\"en\",\"possibly_sensitive\":false},{\"source\":\"Twitter for iPhone\",\"author_id\":\"1261348054759886852\",\"text\":\"RT @patsajak: Due to supply chain issues, Wheel of Fortune players will be limited to three vowel purchases per show until further notice.\",\"created_at\":\"2021-12-06T21:46:49.000Z\",\"id\":\"1467973829607804931\",\"public_metrics\":{\"retweet_count\":829,\"reply_count\":0,\"like_count\":0,\"quote_count\":0},\"lang\":\"en\",\"possibly_sensitive\":false},{\"source\":\"Twitter for Android\",\"author_id\":\"1107431625762226176\",\"text\":\"RT @patsajak: Due to supply chain issues, Wheel of Fortune players will be limited to three vowel purchases per show until further notice.\",\"created_at\":\"2021-12-06T21:46:33.000Z\",\"id\":\"1467973763643940866\",\"public_metrics\":{\"retweet_count\":829,\"reply_count\":0,\"like_count\":0,\"quote_count\":0},\"lang\":\"en\",\"possibly_sensitive\":false},{\"source\":\"Twitter for iPad\",\"author_id\":\"1318568630259470337\",\"text\":\"RT @patsajak: Due to supply chain issues, Wheel of Fortune players will be limited to three vowel purchases per show until further notice.\",\"created_at\":\"2021-12-06T21:46:29.000Z\",\"id\":\"1467973747093217282\",\"public_metrics\":{\"retweet_count\":829,\"reply_count\":0,\"like_count\":0,\"quote_count\":0},\"lang\":\"en\",\"possibly_sensitive\":false},{\"source\":\"Twitter Web App\",\"author_id\":\"87612386\",\"text\":\"RT @patsajak: Due to supply chain issues, Wheel of Fortune players will be limited to three vowel purchases per show until further notice.\",\"created_at\":\"2021-12-06T21:45:55.000Z\",\"id\":\"1467973603782185046\",\"public_metrics\":{\"retweet_count\":829,\"reply_count\":0,\"like_count\":0,\"quote_count\":0},\"lang\":\"en\",\"possibly_sensitive\":false},{\"source\":\"Twitter for Android\",\"author_id\":\"27947002\",\"text\":\"@patsajak Well that require them to be letter perfect?\",\"created_at\":\"2021-12-06T21:45:48.000Z\",\"id\":\"1467973575181156355\",\"public_metrics\":{\"retweet_count\":0,\"reply_count\":0,\"like_count\":0,\"quote_count\":0},\"lang\":\"en\",\"possibly_sensitive\":false},{\"source\":\"Twitter for iPhone\",\"author_id\":\"1208810630884532226\",\"text\":\"RT @patsajak: Due to supply chain issues, Wheel of Fortune players will be limited to three vowel purchases per show until further notice.\",\"created_at\":\"2021-12-06T21:45:32.000Z\",\"id\":\"1467973509284515844\",\"public_metrics\":{\"retweet_count\":829,\"reply_count\":0,\"like_count\":0,\"quote_count\":0},\"lang\":\"en\",\"possibly_sensitive\":false}],\"includes\":{\"users\":[{\"id\":\"3246358172\",\"name\":\"Kim\",\"username\":\"KimMoor20918476\"},{\"id\":\"821752764\",\"name\":\"MORNING in America\",\"username\":\"HopeEternall\"},{\"id\":\"373506829\",\"name\":\"H-Dawg\",\"username\":\"HTownHarold\"},{\"id\":\"66037316\",\"name\":\"Freelass\",\"username\":\"Freelassie\"},{\"id\":\"3033552792\",\"name\":\"SMAC\",\"username\":\"gr8tdadinni\"},{\"id\":\"29477224\",\"name\":\"Tyler Wesson\",\"username\":\"ttylerw\"},{\"id\":\"582350328\",\"name\":\"Untermensch DropBear\",\"username\":\"davebrooker322\"},{\"id\":\"2821362351\",\"name\":\"linda schaefer\",\"username\":\"lasincalif\"},{\"id\":\"739347387324506112\",\"name\":\"I\\'ll die on my feet before I live on my knees GW\",\"username\":\"lschulz01\"},{\"id\":\"702721955686821888\",\"name\":\"RGR2628\",\"username\":\"rgr2628\"},{\"id\":\"615462538\",\"name\":\"Debbie Smith\",\"username\":\"debsmi04\"},{\"id\":\"63996778\",\"name\":\"Joe Gooding \\\\uD83D\\\\uDCAF\\\\uD83C\\\\uDDFA\\\\uD83C\\\\uDDF8\",\"username\":\"joegooding\"},{\"id\":\"2357028630\",\"name\":\"willy luplup\",\"username\":\"bgclubbill\"},{\"id\":\"1230497082315878400\",\"name\":\"Dr. Deplorable Neanderthal Prolife4life, PhD, PsyD\",\"username\":\"Prolife4life5\"},{\"id\":\"321028622\",\"name\":\"BDS\",\"username\":\"Bds399Brian\"},{\"id\":\"202774168\",\"name\":\"Tyler Shaw\",\"username\":\"tzshaw29\"},{\"id\":\"1393378652985991169\",\"name\":\"Chris Alexandre\",\"username\":\"ChrisAl56100359\"},{\"id\":\"532734503\",\"name\":\"Jeff Thoms\",\"username\":\"jthoms_\"},{\"id\":\"1328857638122098690\",\"name\":\"traci\",\"username\":\"tracilynnnnnnnn\"},{\"id\":\"457267522\",\"name\":\"Rigelk3\",\"username\":\"RigelK3\"},{\"id\":\"9635102\",\"name\":\"jbolty\",\"username\":\"jbolty\"},{\"id\":\"1342512456023814145\",\"name\":\"ProJRTX\",\"username\":\"JJRyan48045824\"},{\"id\":\"2882957335\",\"name\":\"Bayside John\",\"username\":\"baysideview911\"},{\"id\":\"729846700249120768\",\"name\":\"Flaming arrows.(Trump the best president ever)\",\"username\":\"realist2016jlp\"},{\"id\":\"107751307\",\"name\":\"air hostess\",\"username\":\"LLSKYGIRL\"},{\"id\":\"65567458\",\"name\":\"caravel64\",\"username\":\"dugancats\"},{\"id\":\"1444810763647033345\",\"name\":\"reclaimthenest\",\"username\":\"JillMil33587311\"},{\"id\":\"1400289104726736898\",\"name\":\"Penny Mulligan\",\"username\":\"Mifsud50788845\"},{\"id\":\"343633547\",\"name\":\"Cynthia Garcia\",\"username\":\"cynthiagarcia49\"},{\"id\":\"15546191\",\"name\":\"Blessed Oblivion\",\"username\":\"PcolaBucsfan\"},{\"id\":\"908867730408910849\",\"name\":\"Gotham UES\",\"username\":\"Gotham_UES\"},{\"id\":\"1009789314832781314\",\"name\":\"KitKat20 \\\\uD83C\\\\uDDFA\\\\uD83C\\\\uDDF8\",\"username\":\"KitKat4202\"},{\"id\":\"922897700\",\"name\":\"Moose\",\"username\":\"Kakkarotftw\"},{\"id\":\"1427695367534129158\",\"name\":\"Omicron Honda Accord\",\"username\":\"Accordhonda2016\"},{\"id\":\"183217873\",\"name\":\"Jen\",\"username\":\"jenconpropst\"},{\"id\":\"1455670174506434563\",\"name\":\"trump\",\"username\":\"trumponenov3\"},{\"id\":\"977044405591842816\",\"name\":\"We Love Trump\",\"username\":\"kevinr10219311\"},{\"id\":\"390119070\",\"name\":\"Felix Sulla\",\"username\":\"jbbubba10\"},{\"id\":\"742183174260723712\",\"name\":\"PROUD 2 B DEPLORABLE\",\"username\":\"bj1012682\"},{\"id\":\"1452886192274526208\",\"name\":\"Julie H\",\"username\":\"reformed1689Us\"},{\"id\":\"1335027632036048898\",\"name\":\"Bob Stank\",\"username\":\"bob_stanks\"},{\"id\":\"305380480\",\"name\":\"alex hernandez\",\"username\":\"alexman_hdz\"},{\"id\":\"773330865682341888\",\"name\":\"Annie Capone \\\\uD83D\\\\uDFE8⬜️\\\\uD83D\\\\uDFEA\",\"username\":\"anniebannany69\"},{\"id\":\"1299853095313141760\",\"name\":\"Trump won. Because science.\",\"username\":\"PatWunderly\"},{\"id\":\"846773042\",\"name\":\"Danno\",\"username\":\"dannolane\"},{\"id\":\"3445142593\",\"name\":\"Jose Brito\",\"username\":\"MrJoseBrito\"},{\"id\":\"1904454054\",\"name\":\"wake up\",\"username\":\"summertimealwys\"},{\"id\":\"55113653\",\"name\":\"USA\",\"username\":\"ashbeth34\"},{\"id\":\"1403376769848254465\",\"name\":\"Ms. James Strickland\",\"username\":\"MsJamesStrickl1\"},{\"id\":\"737311736\",\"name\":\"Make America Like Texas \\\\uD83C\\\\uDDFA\\\\uD83C\\\\uDDF8\",\"username\":\"ZskiTexas\"},{\"id\":\"1280915254298337281\",\"name\":\"rin tin tin\",\"username\":\"bambambioo\"},{\"id\":\"80439953\",\"name\":\"Trevor Tre\\' Keveloh\\\\uD83C\\\\uDF2A\",\"username\":\"TrevorKeveloh\"},{\"id\":\"4223700543\",\"name\":\"THANKS FOR LISTENING & HAPPY HOLIDAYS !! ;)\",\"username\":\"talk_nyc\"},{\"id\":\"33927104\",\"name\":\"Bird Weiser\",\"username\":\"jfisher736\"},{\"id\":\"2671595964\",\"name\":\"Mike Oxhard\",\"username\":\"dangle888\"},{\"id\":\"1346468913278685184\",\"name\":\"Charlotte\",\"username\":\"Patriot_Lady51\"},{\"id\":\"1316565953400848384\",\"name\":\"Don\\'tbeshy99\",\"username\":\"tbeshy99\"},{\"id\":\"818690\",\"name\":\"Corey Clayton\",\"username\":\"CoreyClayton\"},{\"id\":\"741412025683877888\",\"name\":\"Good Improv\",\"username\":\"GoodImprov\"},{\"id\":\"935198454804033537\",\"name\":\"ShootingStarSterling\",\"username\":\"925ShootingStar\"},{\"id\":\"299424043\",\"name\":\"Garrett\",\"username\":\"garrettwpratt\"},{\"id\":\"758349746121674752\",\"name\":\"Unsophisticated Frank\",\"username\":\"Frankie_chins\"},{\"id\":\"503710281\",\"name\":\"FuckBoeJiden\",\"username\":\"bigstig37\"},{\"id\":\"963137247833919488\",\"name\":\"Don Spivey™\",\"username\":\"DonSpivey7\"},{\"id\":\"35901612\",\"name\":\"Shannon Kinney\",\"username\":\"RunSkinney85\"},{\"id\":\"18329124\",\"name\":\"diesel64mark\",\"username\":\"diesel_64mark\"},{\"id\":\"331825712\",\"name\":\"MS.\\\\uD83D\\\\uDC8BMAC\\\\uD83C\\\\uDDFA\\\\uD83C\\\\uDDF8\",\"username\":\"MsMacAttack321\"},{\"id\":\"1044095139860295681\",\"name\":\"Density-44\",\"username\":\"CougRNBSN\"},{\"id\":\"194431993\",\"name\":\"Coltyn\",\"username\":\"Nytloc\"},{\"id\":\"1373796967097237506\",\"name\":\"Lisa Williams\",\"username\":\"Memecatfornow\"},{\"id\":\"1408874586624643073\",\"name\":\"DR Westvirginia\",\"username\":\"DWestvirginia\"},{\"id\":\"3921030922\",\"name\":\"Rose\",\"username\":\"chimerarosetv\"},{\"id\":\"890046726\",\"name\":\"Earl \\\\uD83C\\\\uDDFA\\\\uD83C\\\\uDDF8\",\"username\":\"fox_earlj\"},{\"id\":\"1346857697249902593\",\"name\":\"PunishedRippler\",\"username\":\"PunishedRippler\"},{\"id\":\"329791991\",\"name\":\"Angie\",\"username\":\"angieLovesUSA\"},{\"id\":\"15063486\",\"name\":\"CatoTheYounger\",\"username\":\"catoletters\"},{\"id\":\"19151045\",\"name\":\"Join Or Die\",\"username\":\"JoinorTread\"},{\"id\":\"2384608813\",\"name\":\"Eric\",\"username\":\"32_BigE\"},{\"id\":\"951633659039223808\",\"name\":\"Leigh Carter\",\"username\":\"cartercode7\"},{\"id\":\"1225514767697285122\",\"name\":\"Charlye Ann\",\"username\":\"charlye_ann\"},{\"id\":\"1100891415360368643\",\"name\":\"Ian Mynderup\",\"username\":\"IanMynderup\"},{\"id\":\"827923977796415489\",\"name\":\"FIORE FERNANDEZ-CAVA \\\\uD83C\\\\uDF3A\",\"username\":\"FioreFCava\"},{\"id\":\"823851255466430464\",\"name\":\"Justin Blunt\",\"username\":\"JustinBlunt1974\"},{\"id\":\"1606194716\",\"name\":\"Paisley\\'s Post\",\"username\":\"paisleyspost\"},{\"id\":\"1314962938906771461\",\"name\":\"American Rebelution Kyle\\'s AR\",\"username\":\"AngelForTrump1\"},{\"id\":\"756689149780959232\",\"name\":\"Kathy\",\"username\":\"costumerchick\"},{\"id\":\"1269740026662916103\",\"name\":\"Bard Jamesa\",\"username\":\"BardJamesa\"},{\"id\":\"1046165772819722240\",\"name\":\"StMermaid\\\\uD83C\\\\uDDFA\\\\uD83C\\\\uDDF8\\\\uD83E\\\\uDDDC\\u200d♀️\\\\uD83D\\\\uDCAA\",\"username\":\"Ajbtbrj\"},{\"id\":\"1427094754509029376\",\"name\":\"Danny Anderson\",\"username\":\"danander11\"},{\"id\":\"1261348054759886852\",\"name\":\"MehGoosta\",\"username\":\"MehGoosta\"},{\"id\":\"1107431625762226176\",\"name\":\"M Yike\",\"username\":\"yike_m\"},{\"id\":\"1318568630259470337\",\"name\":\"Truth451\",\"username\":\"Truth4511\"},{\"id\":\"87612386\",\"name\":\"CSharpner - Unmasked!\",\"username\":\"csharpner\"},{\"id\":\"27947002\",\"name\":\"Sine Nomine (FF)\",\"username\":\"sinenomine_cc\"},{\"id\":\"1208810630884532226\",\"name\":\"Thokkadan\",\"username\":\"thokkadan1\"}]},\"meta\":{\"newest_id\":\"1467983860256411654\",\"oldest_id\":\"1467973509284515844\",\"result_count\":100,\"next_token\":\"b26v89c19zqg8o3fpdy8isfs3fz6ryrdesnnxfqj2hf25\"}}'"
      ]
     },
     "execution_count": 78,
     "metadata": {},
     "output_type": "execute_result"
    }
   ],
   "source": [
    "Wresponse_1.text"
   ]
  },
  {
   "cell_type": "code",
   "execution_count": 79,
   "id": "b0f6e777",
   "metadata": {},
   "outputs": [],
   "source": [
    "Wresponse_1_dict = json.loads(response_1.text)"
   ]
  },
  {
   "cell_type": "code",
   "execution_count": 80,
   "id": "827c2bb2",
   "metadata": {},
   "outputs": [
    {
     "data": {
      "text/plain": [
       "dict_keys(['data', 'includes', 'meta'])"
      ]
     },
     "execution_count": 80,
     "metadata": {},
     "output_type": "execute_result"
    }
   ],
   "source": [
    "Wresponse_1_dict.keys()"
   ]
  },
  {
   "cell_type": "code",
   "execution_count": 81,
   "id": "f6cf4b58",
   "metadata": {},
   "outputs": [],
   "source": [
    "my_df2 = pd.DataFrame(Wresponse_1_dict['data'])"
   ]
  },
  {
   "cell_type": "markdown",
   "id": "ce463da6",
   "metadata": {},
   "source": [
    "I am creating a data frame with the 'data' key."
   ]
  },
  {
   "cell_type": "code",
   "execution_count": 82,
   "id": "eaf728a3",
   "metadata": {},
   "outputs": [
    {
     "data": {
      "text/html": [
       "<div>\n",
       "<style scoped>\n",
       "    .dataframe tbody tr th:only-of-type {\n",
       "        vertical-align: middle;\n",
       "    }\n",
       "\n",
       "    .dataframe tbody tr th {\n",
       "        vertical-align: top;\n",
       "    }\n",
       "\n",
       "    .dataframe thead th {\n",
       "        text-align: right;\n",
       "    }\n",
       "</style>\n",
       "<table border=\"1\" class=\"dataframe\">\n",
       "  <thead>\n",
       "    <tr style=\"text-align: right;\">\n",
       "      <th></th>\n",
       "      <th>lang</th>\n",
       "      <th>public_metrics</th>\n",
       "      <th>id</th>\n",
       "      <th>possibly_sensitive</th>\n",
       "      <th>text</th>\n",
       "      <th>author_id</th>\n",
       "      <th>created_at</th>\n",
       "      <th>source</th>\n",
       "      <th>attachments</th>\n",
       "    </tr>\n",
       "  </thead>\n",
       "  <tbody>\n",
       "    <tr>\n",
       "      <th>0</th>\n",
       "      <td>en</td>\n",
       "      <td>{'retweet_count': 0, 'reply_count': 0, 'like_c...</td>\n",
       "      <td>1467979913923895298</td>\n",
       "      <td>False</td>\n",
       "      <td>@glaad @Jeopardamy @emilyvdw @Jeopardy Thanx f...</td>\n",
       "      <td>995446130967302144</td>\n",
       "      <td>2021-12-06T22:10:59.000Z</td>\n",
       "      <td>Twitter for iPhone</td>\n",
       "      <td>NaN</td>\n",
       "    </tr>\n",
       "    <tr>\n",
       "      <th>1</th>\n",
       "      <td>en</td>\n",
       "      <td>{'retweet_count': 0, 'reply_count': 0, 'like_c...</td>\n",
       "      <td>1467979782197592075</td>\n",
       "      <td>False</td>\n",
       "      <td>Format: 8-day first round, four profs per day,...</td>\n",
       "      <td>770293085771210752</td>\n",
       "      <td>2021-12-06T22:10:28.000Z</td>\n",
       "      <td>Twitter for iPhone</td>\n",
       "      <td>NaN</td>\n",
       "    </tr>\n",
       "    <tr>\n",
       "      <th>2</th>\n",
       "      <td>en</td>\n",
       "      <td>{'retweet_count': 0, 'reply_count': 0, 'like_c...</td>\n",
       "      <td>1467979250372431878</td>\n",
       "      <td>False</td>\n",
       "      <td>Y'all my professor is going to be a contestant...</td>\n",
       "      <td>2932977243</td>\n",
       "      <td>2021-12-06T22:08:21.000Z</td>\n",
       "      <td>Twitter for iPhone</td>\n",
       "      <td>NaN</td>\n",
       "    </tr>\n",
       "    <tr>\n",
       "      <th>3</th>\n",
       "      <td>en</td>\n",
       "      <td>{'retweet_count': 0, 'reply_count': 1, 'like_c...</td>\n",
       "      <td>1467978490758811657</td>\n",
       "      <td>False</td>\n",
       "      <td>The @Jeopardy Professors Tournament begins tod...</td>\n",
       "      <td>770293085771210752</td>\n",
       "      <td>2021-12-06T22:05:20.000Z</td>\n",
       "      <td>Twitter for iPhone</td>\n",
       "      <td>NaN</td>\n",
       "    </tr>\n",
       "    <tr>\n",
       "      <th>4</th>\n",
       "      <td>en</td>\n",
       "      <td>{'retweet_count': 0, 'reply_count': 0, 'like_c...</td>\n",
       "      <td>1467978245861691397</td>\n",
       "      <td>False</td>\n",
       "      <td>The lovely @missmayim is back hosting @jeopard...</td>\n",
       "      <td>355147215</td>\n",
       "      <td>2021-12-06T22:04:22.000Z</td>\n",
       "      <td>Twitter for Android</td>\n",
       "      <td>NaN</td>\n",
       "    </tr>\n",
       "    <tr>\n",
       "      <th>...</th>\n",
       "      <td>...</td>\n",
       "      <td>...</td>\n",
       "      <td>...</td>\n",
       "      <td>...</td>\n",
       "      <td>...</td>\n",
       "      <td>...</td>\n",
       "      <td>...</td>\n",
       "      <td>...</td>\n",
       "      <td>...</td>\n",
       "    </tr>\n",
       "    <tr>\n",
       "      <th>95</th>\n",
       "      <td>en</td>\n",
       "      <td>{'retweet_count': 0, 'reply_count': 0, 'like_c...</td>\n",
       "      <td>1467934538798182402</td>\n",
       "      <td>False</td>\n",
       "      <td>@Jeopardy Inner Space???</td>\n",
       "      <td>49968472</td>\n",
       "      <td>2021-12-06T19:10:41.000Z</td>\n",
       "      <td>Twitter for Android</td>\n",
       "      <td>NaN</td>\n",
       "    </tr>\n",
       "    <tr>\n",
       "      <th>96</th>\n",
       "      <td>en</td>\n",
       "      <td>{'retweet_count': 12, 'reply_count': 0, 'like_...</td>\n",
       "      <td>1467931165239627782</td>\n",
       "      <td>False</td>\n",
       "      <td>RT @Jeopardy: Our first-ever #ProfessorsTourna...</td>\n",
       "      <td>298128332</td>\n",
       "      <td>2021-12-06T18:57:17.000Z</td>\n",
       "      <td>Twitter for iPad</td>\n",
       "      <td>{'media_keys': ['13_1467772924123779076']}</td>\n",
       "    </tr>\n",
       "    <tr>\n",
       "      <th>97</th>\n",
       "      <td>en</td>\n",
       "      <td>{'retweet_count': 5, 'reply_count': 0, 'like_c...</td>\n",
       "      <td>1467930253788024834</td>\n",
       "      <td>False</td>\n",
       "      <td>RT @VanderbiltU: Reminder! Tune in on Dec. 6 a...</td>\n",
       "      <td>545560901</td>\n",
       "      <td>2021-12-06T18:53:39.000Z</td>\n",
       "      <td>Twitter Web App</td>\n",
       "      <td>NaN</td>\n",
       "    </tr>\n",
       "    <tr>\n",
       "      <th>98</th>\n",
       "      <td>en</td>\n",
       "      <td>{'retweet_count': 16, 'reply_count': 0, 'like_...</td>\n",
       "      <td>1467930193889222656</td>\n",
       "      <td>False</td>\n",
       "      <td>RT @TrevorProject: \"Although she's been a fan ...</td>\n",
       "      <td>773931769359962112</td>\n",
       "      <td>2021-12-06T18:53:25.000Z</td>\n",
       "      <td>Twitter Web App</td>\n",
       "      <td>NaN</td>\n",
       "    </tr>\n",
       "    <tr>\n",
       "      <th>99</th>\n",
       "      <td>en</td>\n",
       "      <td>{'retweet_count': 0, 'reply_count': 0, 'like_c...</td>\n",
       "      <td>1467929873943609345</td>\n",
       "      <td>False</td>\n",
       "      <td>@Jeopardy So looking forward to this!</td>\n",
       "      <td>1016007497340112897</td>\n",
       "      <td>2021-12-06T18:52:09.000Z</td>\n",
       "      <td>Twitter for iPhone</td>\n",
       "      <td>NaN</td>\n",
       "    </tr>\n",
       "  </tbody>\n",
       "</table>\n",
       "<p>100 rows × 9 columns</p>\n",
       "</div>"
      ],
      "text/plain": [
       "   lang                                     public_metrics  \\\n",
       "0    en  {'retweet_count': 0, 'reply_count': 0, 'like_c...   \n",
       "1    en  {'retweet_count': 0, 'reply_count': 0, 'like_c...   \n",
       "2    en  {'retweet_count': 0, 'reply_count': 0, 'like_c...   \n",
       "3    en  {'retweet_count': 0, 'reply_count': 1, 'like_c...   \n",
       "4    en  {'retweet_count': 0, 'reply_count': 0, 'like_c...   \n",
       "..  ...                                                ...   \n",
       "95   en  {'retweet_count': 0, 'reply_count': 0, 'like_c...   \n",
       "96   en  {'retweet_count': 12, 'reply_count': 0, 'like_...   \n",
       "97   en  {'retweet_count': 5, 'reply_count': 0, 'like_c...   \n",
       "98   en  {'retweet_count': 16, 'reply_count': 0, 'like_...   \n",
       "99   en  {'retweet_count': 0, 'reply_count': 0, 'like_c...   \n",
       "\n",
       "                     id  possibly_sensitive  \\\n",
       "0   1467979913923895298               False   \n",
       "1   1467979782197592075               False   \n",
       "2   1467979250372431878               False   \n",
       "3   1467978490758811657               False   \n",
       "4   1467978245861691397               False   \n",
       "..                  ...                 ...   \n",
       "95  1467934538798182402               False   \n",
       "96  1467931165239627782               False   \n",
       "97  1467930253788024834               False   \n",
       "98  1467930193889222656               False   \n",
       "99  1467929873943609345               False   \n",
       "\n",
       "                                                 text            author_id  \\\n",
       "0   @glaad @Jeopardamy @emilyvdw @Jeopardy Thanx f...   995446130967302144   \n",
       "1   Format: 8-day first round, four profs per day,...   770293085771210752   \n",
       "2   Y'all my professor is going to be a contestant...           2932977243   \n",
       "3   The @Jeopardy Professors Tournament begins tod...   770293085771210752   \n",
       "4   The lovely @missmayim is back hosting @jeopard...            355147215   \n",
       "..                                                ...                  ...   \n",
       "95                           @Jeopardy Inner Space???             49968472   \n",
       "96  RT @Jeopardy: Our first-ever #ProfessorsTourna...            298128332   \n",
       "97  RT @VanderbiltU: Reminder! Tune in on Dec. 6 a...            545560901   \n",
       "98  RT @TrevorProject: \"Although she's been a fan ...   773931769359962112   \n",
       "99              @Jeopardy So looking forward to this!  1016007497340112897   \n",
       "\n",
       "                  created_at               source  \\\n",
       "0   2021-12-06T22:10:59.000Z   Twitter for iPhone   \n",
       "1   2021-12-06T22:10:28.000Z   Twitter for iPhone   \n",
       "2   2021-12-06T22:08:21.000Z   Twitter for iPhone   \n",
       "3   2021-12-06T22:05:20.000Z   Twitter for iPhone   \n",
       "4   2021-12-06T22:04:22.000Z  Twitter for Android   \n",
       "..                       ...                  ...   \n",
       "95  2021-12-06T19:10:41.000Z  Twitter for Android   \n",
       "96  2021-12-06T18:57:17.000Z     Twitter for iPad   \n",
       "97  2021-12-06T18:53:39.000Z      Twitter Web App   \n",
       "98  2021-12-06T18:53:25.000Z      Twitter Web App   \n",
       "99  2021-12-06T18:52:09.000Z   Twitter for iPhone   \n",
       "\n",
       "                                   attachments  \n",
       "0                                          NaN  \n",
       "1                                          NaN  \n",
       "2                                          NaN  \n",
       "3                                          NaN  \n",
       "4                                          NaN  \n",
       "..                                         ...  \n",
       "95                                         NaN  \n",
       "96  {'media_keys': ['13_1467772924123779076']}  \n",
       "97                                         NaN  \n",
       "98                                         NaN  \n",
       "99                                         NaN  \n",
       "\n",
       "[100 rows x 9 columns]"
      ]
     },
     "execution_count": 82,
     "metadata": {},
     "output_type": "execute_result"
    }
   ],
   "source": [
    "my_df2"
   ]
  },
  {
   "cell_type": "code",
   "execution_count": 83,
   "id": "7592aa18",
   "metadata": {},
   "outputs": [
    {
     "data": {
      "text/plain": [
       "{'newest_id': '1467979913923895298',\n",
       " 'oldest_id': '1467929873943609345',\n",
       " 'result_count': 100,\n",
       " 'next_token': 'b26v89c19zqg8o3fpdy8iseaefhfw53e8zwxxg4b94kfx'}"
      ]
     },
     "execution_count": 83,
     "metadata": {},
     "output_type": "execute_result"
    }
   ],
   "source": [
    "response_1_dict['meta']"
   ]
  },
  {
   "cell_type": "code",
   "execution_count": 84,
   "id": "ebc3064e",
   "metadata": {},
   "outputs": [],
   "source": [
    "my_api_W_url = url + '&next_token={}&max_results=100'.format(response_1_dict['meta']['next_token'])"
   ]
  },
  {
   "cell_type": "code",
   "execution_count": 85,
   "id": "26732e25",
   "metadata": {},
   "outputs": [
    {
     "data": {
      "text/plain": [
       "'https://api.twitter.com/2/tweets/search/recent?query=%23WOF%20OR%20%23WheelOfFourtune%20OR%20%23PatSajak%20OR%20%40PatSajak%20lang%3Aen&tweet.fields=public_metrics,created_at,lang,possibly_sensitive,attachments,source&next_token=b26v89c19zqg8o3fpdy8iseaefhfw53e8zwxxg4b94kfx&max_results=100'"
      ]
     },
     "execution_count": 85,
     "metadata": {},
     "output_type": "execute_result"
    }
   ],
   "source": [
    "my_api_W_url"
   ]
  },
  {
   "cell_type": "code",
   "execution_count": 86,
   "id": "5ea024df",
   "metadata": {},
   "outputs": [],
   "source": [
    "response_W2 = requests.request(\"GET\", my_api_W_url, headers = header)"
   ]
  },
  {
   "cell_type": "code",
   "execution_count": 87,
   "id": "409533c8",
   "metadata": {},
   "outputs": [
    {
     "data": {
      "text/plain": [
       "'{\"data\":[{\"created_at\":\"2021-12-06T18:51:57.000Z\",\"source\":\"Twitter for iPhone\",\"public_metrics\":{\"retweet_count\":829,\"reply_count\":0,\"like_count\":0,\"quote_count\":0},\"text\":\"RT @patsajak: Due to supply chain issues, Wheel of Fortune players will be limited to three vowel purchases per show until further notice.\",\"possibly_sensitive\":false,\"id\":\"1467929823112835073\",\"lang\":\"en\"},{\"created_at\":\"2021-12-06T18:51:33.000Z\",\"source\":\"Twitter for iPhone\",\"public_metrics\":{\"retweet_count\":829,\"reply_count\":0,\"like_count\":0,\"quote_count\":0},\"text\":\"RT @patsajak: Due to supply chain issues, Wheel of Fortune players will be limited to three vowel purchases per show until further notice.\",\"possibly_sensitive\":false,\"id\":\"1467929721396776965\",\"lang\":\"en\"},{\"created_at\":\"2021-12-06T18:50:58.000Z\",\"source\":\"Twitter Web App\",\"public_metrics\":{\"retweet_count\":829,\"reply_count\":0,\"like_count\":0,\"quote_count\":0},\"text\":\"RT @patsajak: Due to supply chain issues, Wheel of Fortune players will be limited to three vowel purchases per show until further notice.\",\"possibly_sensitive\":false,\"id\":\"1467929575644704772\",\"lang\":\"en\"},{\"created_at\":\"2021-12-06T18:50:55.000Z\",\"source\":\"Twitter for iPhone\",\"public_metrics\":{\"retweet_count\":829,\"reply_count\":0,\"like_count\":0,\"quote_count\":0},\"text\":\"RT @patsajak: Due to supply chain issues, Wheel of Fortune players will be limited to three vowel purchases per show until further notice.\",\"possibly_sensitive\":false,\"id\":\"1467929563086962706\",\"lang\":\"en\"},{\"created_at\":\"2021-12-06T18:50:37.000Z\",\"source\":\"Twitter for iPhone\",\"public_metrics\":{\"retweet_count\":829,\"reply_count\":0,\"like_count\":0,\"quote_count\":0},\"text\":\"RT @patsajak: Due to supply chain issues, Wheel of Fortune players will be limited to three vowel purchases per show until further notice.\",\"possibly_sensitive\":false,\"id\":\"1467929489711771655\",\"lang\":\"en\"},{\"created_at\":\"2021-12-06T18:50:12.000Z\",\"source\":\"Twitter Web App\",\"public_metrics\":{\"retweet_count\":829,\"reply_count\":0,\"like_count\":0,\"quote_count\":0},\"text\":\"RT @patsajak: Due to supply chain issues, Wheel of Fortune players will be limited to three vowel purchases per show until further notice.\",\"possibly_sensitive\":false,\"id\":\"1467929383704965128\",\"lang\":\"en\"},{\"created_at\":\"2021-12-06T18:50:04.000Z\",\"source\":\"Twitter for iPhone\",\"public_metrics\":{\"retweet_count\":829,\"reply_count\":0,\"like_count\":0,\"quote_count\":0},\"text\":\"RT @patsajak: Due to supply chain issues, Wheel of Fortune players will be limited to three vowel purchases per show until further notice.\",\"possibly_sensitive\":false,\"id\":\"1467929350498570251\",\"lang\":\"en\"},{\"created_at\":\"2021-12-06T18:49:42.000Z\",\"source\":\"Twitter for iPhone\",\"public_metrics\":{\"retweet_count\":829,\"reply_count\":0,\"like_count\":0,\"quote_count\":0},\"text\":\"RT @patsajak: Due to supply chain issues, Wheel of Fortune players will be limited to three vowel purchases per show until further notice.\",\"possibly_sensitive\":false,\"id\":\"1467929255736655879\",\"lang\":\"en\"},{\"created_at\":\"2021-12-06T18:49:35.000Z\",\"source\":\"Twitter for Android\",\"public_metrics\":{\"retweet_count\":829,\"reply_count\":0,\"like_count\":0,\"quote_count\":0},\"text\":\"RT @patsajak: Due to supply chain issues, Wheel of Fortune players will be limited to three vowel purchases per show until further notice.\",\"possibly_sensitive\":false,\"id\":\"1467929229941612550\",\"lang\":\"en\"},{\"created_at\":\"2021-12-06T18:49:12.000Z\",\"source\":\"Twitter for iPad\",\"public_metrics\":{\"retweet_count\":0,\"reply_count\":0,\"like_count\":0,\"quote_count\":0},\"text\":\"@patsajak It may be all they need…\",\"possibly_sensitive\":false,\"id\":\"1467929131648270344\",\"lang\":\"en\"},{\"created_at\":\"2021-12-06T18:48:43.000Z\",\"source\":\"Twitter Web App\",\"public_metrics\":{\"retweet_count\":829,\"reply_count\":0,\"like_count\":0,\"quote_count\":0},\"text\":\"RT @patsajak: Due to supply chain issues, Wheel of Fortune players will be limited to three vowel purchases per show until further notice.\",\"possibly_sensitive\":false,\"id\":\"1467929009996587017\",\"lang\":\"en\"},{\"created_at\":\"2021-12-06T18:47:38.000Z\",\"source\":\"Twitter for Android\",\"public_metrics\":{\"retweet_count\":829,\"reply_count\":0,\"like_count\":0,\"quote_count\":0},\"text\":\"RT @patsajak: Due to supply chain issues, Wheel of Fortune players will be limited to three vowel purchases per show until further notice.\",\"possibly_sensitive\":false,\"id\":\"1467928738121793540\",\"lang\":\"en\"},{\"created_at\":\"2021-12-06T18:47:18.000Z\",\"source\":\"Twitter for iPhone\",\"public_metrics\":{\"retweet_count\":16,\"reply_count\":0,\"like_count\":0,\"quote_count\":0},\"text\":\"RT @bluegrass24: Seawing princesses!! I like headcanon that they all inherited from their father the light markings near their eyes\\\\n\\\\n#sketc…\",\"possibly_sensitive\":false,\"id\":\"1467928654932058123\",\"lang\":\"en\"},{\"created_at\":\"2021-12-06T18:47:01.000Z\",\"source\":\"Twitter for Android\",\"public_metrics\":{\"retweet_count\":829,\"reply_count\":0,\"like_count\":0,\"quote_count\":0},\"text\":\"RT @patsajak: Due to supply chain issues, Wheel of Fortune players will be limited to three vowel purchases per show until further notice.\",\"possibly_sensitive\":false,\"id\":\"1467928580789313540\",\"lang\":\"en\"},{\"created_at\":\"2021-12-06T18:46:38.000Z\",\"source\":\"Twitter Web App\",\"public_metrics\":{\"retweet_count\":829,\"reply_count\":0,\"like_count\":0,\"quote_count\":0},\"text\":\"RT @patsajak: Due to supply chain issues, Wheel of Fortune players will be limited to three vowel purchases per show until further notice.\",\"possibly_sensitive\":false,\"id\":\"1467928487784857608\",\"lang\":\"en\"},{\"created_at\":\"2021-12-06T18:46:31.000Z\",\"source\":\"Twitter for iPhone\",\"public_metrics\":{\"retweet_count\":829,\"reply_count\":0,\"like_count\":0,\"quote_count\":0},\"text\":\"RT @patsajak: Due to supply chain issues, Wheel of Fortune players will be limited to three vowel purchases per show until further notice.\",\"possibly_sensitive\":false,\"id\":\"1467928458135228420\",\"lang\":\"en\"},{\"created_at\":\"2021-12-06T18:46:06.000Z\",\"source\":\"Twitter Web App\",\"public_metrics\":{\"retweet_count\":829,\"reply_count\":0,\"like_count\":0,\"quote_count\":0},\"text\":\"RT @patsajak: Due to supply chain issues, Wheel of Fortune players will be limited to three vowel purchases per show until further notice.\",\"possibly_sensitive\":false,\"id\":\"1467928353671987206\",\"lang\":\"en\"},{\"created_at\":\"2021-12-06T18:46:00.000Z\",\"source\":\"Twitter for iPhone\",\"public_metrics\":{\"retweet_count\":829,\"reply_count\":0,\"like_count\":0,\"quote_count\":0},\"text\":\"RT @patsajak: Due to supply chain issues, Wheel of Fortune players will be limited to three vowel purchases per show until further notice.\",\"possibly_sensitive\":false,\"id\":\"1467928328095117312\",\"lang\":\"en\"},{\"created_at\":\"2021-12-06T18:45:52.000Z\",\"source\":\"Twitter for iPhone\",\"public_metrics\":{\"retweet_count\":829,\"reply_count\":0,\"like_count\":0,\"quote_count\":0},\"text\":\"RT @patsajak: Due to supply chain issues, Wheel of Fortune players will be limited to three vowel purchases per show until further notice.\",\"possibly_sensitive\":false,\"id\":\"1467928294481932302\",\"lang\":\"en\"},{\"created_at\":\"2021-12-06T18:45:28.000Z\",\"source\":\"Twitter for Android\",\"public_metrics\":{\"retweet_count\":829,\"reply_count\":0,\"like_count\":0,\"quote_count\":0},\"text\":\"RT @patsajak: Due to supply chain issues, Wheel of Fortune players will be limited to three vowel purchases per show until further notice.\",\"possibly_sensitive\":false,\"id\":\"1467928192942239744\",\"lang\":\"en\"},{\"created_at\":\"2021-12-06T18:44:58.000Z\",\"source\":\"Twitter for iPhone\",\"public_metrics\":{\"retweet_count\":829,\"reply_count\":0,\"like_count\":0,\"quote_count\":0},\"text\":\"RT @patsajak: Due to supply chain issues, Wheel of Fortune players will be limited to three vowel purchases per show until further notice.\",\"possibly_sensitive\":false,\"id\":\"1467928067578507266\",\"lang\":\"en\"},{\"created_at\":\"2021-12-06T18:44:57.000Z\",\"source\":\"Twitter for iPhone\",\"public_metrics\":{\"retweet_count\":829,\"reply_count\":0,\"like_count\":0,\"quote_count\":0},\"text\":\"RT @patsajak: Due to supply chain issues, Wheel of Fortune players will be limited to three vowel purchases per show until further notice.\",\"possibly_sensitive\":false,\"id\":\"1467928063849623555\",\"lang\":\"en\"},{\"created_at\":\"2021-12-06T18:44:45.000Z\",\"source\":\"Twitter Web App\",\"public_metrics\":{\"retweet_count\":829,\"reply_count\":0,\"like_count\":0,\"quote_count\":0},\"text\":\"RT @patsajak: Due to supply chain issues, Wheel of Fortune players will be limited to three vowel purchases per show until further notice.\",\"possibly_sensitive\":false,\"id\":\"1467928010103955460\",\"lang\":\"en\"},{\"created_at\":\"2021-12-06T18:43:48.000Z\",\"source\":\"Twitter for iPhone\",\"public_metrics\":{\"retweet_count\":829,\"reply_count\":0,\"like_count\":0,\"quote_count\":0},\"text\":\"RT @patsajak: Due to supply chain issues, Wheel of Fortune players will be limited to three vowel purchases per show until further notice.\",\"possibly_sensitive\":false,\"id\":\"1467927771632570376\",\"lang\":\"en\"},{\"created_at\":\"2021-12-06T18:43:44.000Z\",\"source\":\"Twitter for iPhone\",\"public_metrics\":{\"retweet_count\":829,\"reply_count\":0,\"like_count\":0,\"quote_count\":0},\"text\":\"RT @patsajak: Due to supply chain issues, Wheel of Fortune players will be limited to three vowel purchases per show until further notice.\",\"possibly_sensitive\":false,\"id\":\"1467927756499529728\",\"lang\":\"en\"},{\"created_at\":\"2021-12-06T18:43:38.000Z\",\"source\":\"Twitter for iPad\",\"public_metrics\":{\"retweet_count\":829,\"reply_count\":0,\"like_count\":0,\"quote_count\":0},\"text\":\"RT @patsajak: Due to supply chain issues, Wheel of Fortune players will be limited to three vowel purchases per show until further notice.\",\"possibly_sensitive\":false,\"id\":\"1467927730058502152\",\"lang\":\"en\"},{\"created_at\":\"2021-12-06T18:43:31.000Z\",\"source\":\"Twitter for iPhone\",\"public_metrics\":{\"retweet_count\":829,\"reply_count\":0,\"like_count\":0,\"quote_count\":0},\"text\":\"RT @patsajak: Due to supply chain issues, Wheel of Fortune players will be limited to three vowel purchases per show until further notice.\",\"possibly_sensitive\":false,\"id\":\"1467927700627243010\",\"lang\":\"en\"},{\"attachments\":{\"media_keys\":[\"7_1241450574001983490\"]},\"created_at\":\"2021-12-06T18:43:19.000Z\",\"source\":\"Twitter for iPhone\",\"public_metrics\":{\"retweet_count\":1,\"reply_count\":0,\"like_count\":17,\"quote_count\":0},\"text\":\"@patsajak That’s fine. Three was sufficient for me.  https://t.co/sfMnWh4jU6\",\"possibly_sensitive\":false,\"id\":\"1467927652774424582\",\"lang\":\"en\"},{\"created_at\":\"2021-12-06T18:43:18.000Z\",\"source\":\"Twitter for iPhone\",\"public_metrics\":{\"retweet_count\":829,\"reply_count\":0,\"like_count\":0,\"quote_count\":0},\"text\":\"RT @patsajak: Due to supply chain issues, Wheel of Fortune players will be limited to three vowel purchases per show until further notice.\",\"possibly_sensitive\":false,\"id\":\"1467927647619592200\",\"lang\":\"en\"},{\"created_at\":\"2021-12-06T18:42:51.000Z\",\"source\":\"Twitter Web App\",\"public_metrics\":{\"retweet_count\":829,\"reply_count\":0,\"like_count\":0,\"quote_count\":0},\"text\":\"RT @patsajak: Due to supply chain issues, Wheel of Fortune players will be limited to three vowel purchases per show until further notice.\",\"possibly_sensitive\":false,\"id\":\"1467927534008512531\",\"lang\":\"en\"},{\"created_at\":\"2021-12-06T18:42:46.000Z\",\"source\":\"Twitter for iPhone\",\"public_metrics\":{\"retweet_count\":829,\"reply_count\":0,\"like_count\":0,\"quote_count\":0},\"text\":\"RT @patsajak: Due to supply chain issues, Wheel of Fortune players will be limited to three vowel purchases per show until further notice.\",\"possibly_sensitive\":false,\"id\":\"1467927511514464259\",\"lang\":\"en\"},{\"created_at\":\"2021-12-06T18:42:44.000Z\",\"source\":\"Twitter for iPhone\",\"public_metrics\":{\"retweet_count\":829,\"reply_count\":0,\"like_count\":0,\"quote_count\":0},\"text\":\"RT @patsajak: Due to supply chain issues, Wheel of Fortune players will be limited to three vowel purchases per show until further notice.\",\"possibly_sensitive\":false,\"id\":\"1467927505105477633\",\"lang\":\"en\"},{\"created_at\":\"2021-12-06T18:42:19.000Z\",\"source\":\"Twitter Web App\",\"public_metrics\":{\"retweet_count\":829,\"reply_count\":0,\"like_count\":0,\"quote_count\":0},\"text\":\"RT @patsajak: Due to supply chain issues, Wheel of Fortune players will be limited to three vowel purchases per show until further notice.\",\"possibly_sensitive\":false,\"id\":\"1467927397622239238\",\"lang\":\"en\"},{\"created_at\":\"2021-12-06T18:41:15.000Z\",\"source\":\"Twitter for iPhone\",\"public_metrics\":{\"retweet_count\":829,\"reply_count\":0,\"like_count\":0,\"quote_count\":0},\"text\":\"RT @patsajak: Due to supply chain issues, Wheel of Fortune players will be limited to three vowel purchases per show until further notice.\",\"possibly_sensitive\":false,\"id\":\"1467927132257103874\",\"lang\":\"en\"},{\"created_at\":\"2021-12-06T18:41:09.000Z\",\"source\":\"Twitter for Android\",\"public_metrics\":{\"retweet_count\":829,\"reply_count\":0,\"like_count\":0,\"quote_count\":0},\"text\":\"RT @patsajak: Due to supply chain issues, Wheel of Fortune players will be limited to three vowel purchases per show until further notice.\",\"possibly_sensitive\":false,\"id\":\"1467927106445320199\",\"lang\":\"en\"},{\"created_at\":\"2021-12-06T18:41:08.000Z\",\"source\":\"Twitter for Android\",\"public_metrics\":{\"retweet_count\":829,\"reply_count\":0,\"like_count\":0,\"quote_count\":0},\"text\":\"RT @patsajak: Due to supply chain issues, Wheel of Fortune players will be limited to three vowel purchases per show until further notice.\",\"possibly_sensitive\":false,\"id\":\"1467927103119273985\",\"lang\":\"en\"},{\"created_at\":\"2021-12-06T18:40:59.000Z\",\"source\":\"Twitter for iPhone\",\"public_metrics\":{\"retweet_count\":829,\"reply_count\":0,\"like_count\":0,\"quote_count\":0},\"text\":\"RT @patsajak: Due to supply chain issues, Wheel of Fortune players will be limited to three vowel purchases per show until further notice.\",\"possibly_sensitive\":false,\"id\":\"1467927062698770434\",\"lang\":\"en\"},{\"created_at\":\"2021-12-06T18:40:47.000Z\",\"source\":\"Twitter for iPhone\",\"public_metrics\":{\"retweet_count\":829,\"reply_count\":0,\"like_count\":0,\"quote_count\":0},\"text\":\"RT @patsajak: Due to supply chain issues, Wheel of Fortune players will be limited to three vowel purchases per show until further notice.\",\"possibly_sensitive\":false,\"id\":\"1467927012128006144\",\"lang\":\"en\"},{\"created_at\":\"2021-12-06T18:40:38.000Z\",\"source\":\"Twitter for iPad\",\"public_metrics\":{\"retweet_count\":829,\"reply_count\":0,\"like_count\":0,\"quote_count\":0},\"text\":\"RT @patsajak: Due to supply chain issues, Wheel of Fortune players will be limited to three vowel purchases per show until further notice.\",\"possibly_sensitive\":false,\"id\":\"1467926977902432262\",\"lang\":\"en\"},{\"created_at\":\"2021-12-06T18:40:19.000Z\",\"source\":\"Twitter for iPhone\",\"public_metrics\":{\"retweet_count\":829,\"reply_count\":0,\"like_count\":0,\"quote_count\":0},\"text\":\"RT @patsajak: Due to supply chain issues, Wheel of Fortune players will be limited to three vowel purchases per show until further notice.\",\"possibly_sensitive\":false,\"id\":\"1467926898068135943\",\"lang\":\"en\"},{\"created_at\":\"2021-12-06T18:40:12.000Z\",\"source\":\"Twitter Web App\",\"public_metrics\":{\"retweet_count\":0,\"reply_count\":0,\"like_count\":0,\"quote_count\":0},\"text\":\"@patsajak thus begins the descent into the Fifth Circle of Hell\",\"possibly_sensitive\":false,\"id\":\"1467926868204658695\",\"lang\":\"en\"},{\"created_at\":\"2021-12-06T18:40:07.000Z\",\"source\":\"Twitter Web App\",\"public_metrics\":{\"retweet_count\":829,\"reply_count\":0,\"like_count\":0,\"quote_count\":0},\"text\":\"RT @patsajak: Due to supply chain issues, Wheel of Fortune players will be limited to three vowel purchases per show until further notice.\",\"possibly_sensitive\":false,\"id\":\"1467926845421236229\",\"lang\":\"en\"},{\"created_at\":\"2021-12-06T18:39:52.000Z\",\"source\":\"Talon Android\",\"public_metrics\":{\"retweet_count\":829,\"reply_count\":0,\"like_count\":0,\"quote_count\":0},\"text\":\"RT @patsajak: Due to supply chain issues, Wheel of Fortune players will be limited to three vowel purchases per show until further notice.\",\"possibly_sensitive\":false,\"id\":\"1467926784956116996\",\"lang\":\"en\"},{\"created_at\":\"2021-12-06T18:39:52.000Z\",\"source\":\"Twitter for iPhone\",\"public_metrics\":{\"retweet_count\":829,\"reply_count\":0,\"like_count\":0,\"quote_count\":0},\"text\":\"RT @patsajak: Due to supply chain issues, Wheel of Fortune players will be limited to three vowel purchases per show until further notice.\",\"possibly_sensitive\":false,\"id\":\"1467926782997196800\",\"lang\":\"en\"},{\"created_at\":\"2021-12-06T18:39:30.000Z\",\"source\":\"Twitter Web App\",\"public_metrics\":{\"retweet_count\":829,\"reply_count\":0,\"like_count\":0,\"quote_count\":0},\"text\":\"RT @patsajak: Due to supply chain issues, Wheel of Fortune players will be limited to three vowel purchases per show until further notice.\",\"possibly_sensitive\":false,\"id\":\"1467926688927399936\",\"lang\":\"en\"},{\"created_at\":\"2021-12-06T18:39:05.000Z\",\"source\":\"Twitter for Android\",\"public_metrics\":{\"retweet_count\":829,\"reply_count\":0,\"like_count\":0,\"quote_count\":0},\"text\":\"RT @patsajak: Due to supply chain issues, Wheel of Fortune players will be limited to three vowel purchases per show until further notice.\",\"possibly_sensitive\":false,\"id\":\"1467926586527604736\",\"lang\":\"en\"},{\"created_at\":\"2021-12-06T18:38:51.000Z\",\"source\":\"Twitter for Android\",\"public_metrics\":{\"retweet_count\":829,\"reply_count\":0,\"like_count\":0,\"quote_count\":0},\"text\":\"RT @patsajak: Due to supply chain issues, Wheel of Fortune players will be limited to three vowel purchases per show until further notice.\",\"possibly_sensitive\":false,\"id\":\"1467926527698685953\",\"lang\":\"en\"},{\"created_at\":\"2021-12-06T18:38:51.000Z\",\"source\":\"Twitter Web App\",\"public_metrics\":{\"retweet_count\":829,\"reply_count\":0,\"like_count\":0,\"quote_count\":0},\"text\":\"RT @patsajak: Due to supply chain issues, Wheel of Fortune players will be limited to three vowel purchases per show until further notice.\",\"possibly_sensitive\":false,\"id\":\"1467926525664235527\",\"lang\":\"en\"},{\"created_at\":\"2021-12-06T18:38:08.000Z\",\"source\":\"Twitter for Android\",\"public_metrics\":{\"retweet_count\":829,\"reply_count\":0,\"like_count\":0,\"quote_count\":0},\"text\":\"RT @patsajak: Due to supply chain issues, Wheel of Fortune players will be limited to three vowel purchases per show until further notice.\",\"possibly_sensitive\":false,\"id\":\"1467926348937236495\",\"lang\":\"en\"},{\"created_at\":\"2021-12-06T18:37:41.000Z\",\"source\":\"Twitter for iPhone\",\"public_metrics\":{\"retweet_count\":829,\"reply_count\":0,\"like_count\":0,\"quote_count\":0},\"text\":\"RT @patsajak: Due to supply chain issues, Wheel of Fortune players will be limited to three vowel purchases per show until further notice.\",\"possibly_sensitive\":false,\"id\":\"1467926234831015939\",\"lang\":\"en\"},{\"created_at\":\"2021-12-06T18:37:39.000Z\",\"source\":\"Twitter for Mac\",\"public_metrics\":{\"retweet_count\":829,\"reply_count\":0,\"like_count\":0,\"quote_count\":0},\"text\":\"RT @patsajak: Due to supply chain issues, Wheel of Fortune players will be limited to three vowel purchases per show until further notice.\",\"possibly_sensitive\":false,\"id\":\"1467926223368036354\",\"lang\":\"en\"},{\"created_at\":\"2021-12-06T18:36:53.000Z\",\"source\":\"Twitter for iPhone\",\"public_metrics\":{\"retweet_count\":829,\"reply_count\":0,\"like_count\":0,\"quote_count\":0},\"text\":\"RT @patsajak: Due to supply chain issues, Wheel of Fortune players will be limited to three vowel purchases per show until further notice.\",\"possibly_sensitive\":false,\"id\":\"1467926031638188038\",\"lang\":\"en\"},{\"created_at\":\"2021-12-06T18:36:43.000Z\",\"source\":\"Twitter Web App\",\"public_metrics\":{\"retweet_count\":829,\"reply_count\":0,\"like_count\":0,\"quote_count\":0},\"text\":\"RT @patsajak: Due to supply chain issues, Wheel of Fortune players will be limited to three vowel purchases per show until further notice.\",\"possibly_sensitive\":false,\"id\":\"1467925989883793410\",\"lang\":\"en\"},{\"created_at\":\"2021-12-06T18:36:31.000Z\",\"source\":\"Twitter for iPhone\",\"public_metrics\":{\"retweet_count\":829,\"reply_count\":0,\"like_count\":0,\"quote_count\":0},\"text\":\"RT @patsajak: Due to supply chain issues, Wheel of Fortune players will be limited to three vowel purchases per show until further notice.\",\"possibly_sensitive\":false,\"id\":\"1467925938465738755\",\"lang\":\"en\"},{\"created_at\":\"2021-12-06T18:35:23.000Z\",\"source\":\"Twitter for iPhone\",\"public_metrics\":{\"retweet_count\":829,\"reply_count\":0,\"like_count\":0,\"quote_count\":0},\"text\":\"RT @patsajak: Due to supply chain issues, Wheel of Fortune players will be limited to three vowel purchases per show until further notice.\",\"possibly_sensitive\":false,\"id\":\"1467925653148389380\",\"lang\":\"en\"},{\"created_at\":\"2021-12-06T18:34:32.000Z\",\"source\":\"Twitter for iPhone\",\"public_metrics\":{\"retweet_count\":0,\"reply_count\":1,\"like_count\":0,\"quote_count\":0},\"text\":\"@patsajak Love that we can blame all shortages on the supply chain!  \\\\uD83D\\\\uDE0A\",\"possibly_sensitive\":false,\"id\":\"1467925438907486209\",\"lang\":\"en\"},{\"created_at\":\"2021-12-06T18:34:23.000Z\",\"source\":\"Twitter for Android\",\"public_metrics\":{\"retweet_count\":829,\"reply_count\":0,\"like_count\":0,\"quote_count\":0},\"text\":\"RT @patsajak: Due to supply chain issues, Wheel of Fortune players will be limited to three vowel purchases per show until further notice.\",\"possibly_sensitive\":false,\"id\":\"1467925405168455680\",\"lang\":\"en\"},{\"created_at\":\"2021-12-06T18:33:06.000Z\",\"source\":\"Twitter Web App\",\"public_metrics\":{\"retweet_count\":0,\"reply_count\":0,\"like_count\":0,\"quote_count\":0},\"text\":\"@patsajak Maybe they\\'ll stop buying a vowel immediately before solving it (and when it\\'s clear that they already knew what the answer was but bought a vowel anyway).\",\"possibly_sensitive\":false,\"id\":\"1467925078335705095\",\"lang\":\"en\"},{\"created_at\":\"2021-12-06T18:33:00.000Z\",\"source\":\"Twitter for Android\",\"public_metrics\":{\"retweet_count\":16,\"reply_count\":0,\"like_count\":0,\"quote_count\":0},\"text\":\"RT @bluegrass24: Seawing princesses!! I like headcanon that they all inherited from their father the light markings near their eyes\\\\n\\\\n#sketc…\",\"possibly_sensitive\":false,\"id\":\"1467925054193381377\",\"lang\":\"en\"},{\"created_at\":\"2021-12-06T18:32:28.000Z\",\"source\":\"Twitter for iPhone\",\"public_metrics\":{\"retweet_count\":16,\"reply_count\":0,\"like_count\":0,\"quote_count\":0},\"text\":\"RT @bluegrass24: Seawing princesses!! I like headcanon that they all inherited from their father the light markings near their eyes\\\\n\\\\n#sketc…\",\"possibly_sensitive\":false,\"id\":\"1467924922366578688\",\"lang\":\"en\"},{\"created_at\":\"2021-12-06T18:32:15.000Z\",\"source\":\"Twitter for iPad\",\"public_metrics\":{\"retweet_count\":829,\"reply_count\":0,\"like_count\":0,\"quote_count\":0},\"text\":\"RT @patsajak: Due to supply chain issues, Wheel of Fortune players will be limited to three vowel purchases per show until further notice.\",\"possibly_sensitive\":false,\"id\":\"1467924864417861643\",\"lang\":\"en\"},{\"created_at\":\"2021-12-06T18:32:11.000Z\",\"source\":\"Twitter for iPhone\",\"public_metrics\":{\"retweet_count\":0,\"reply_count\":0,\"like_count\":0,\"quote_count\":0},\"text\":\"@patsajak @Richard_Harambe And please do not select X then buy an I as this may insult someone.\",\"possibly_sensitive\":false,\"id\":\"1467924850413088777\",\"lang\":\"en\"},{\"created_at\":\"2021-12-06T18:31:17.000Z\",\"source\":\"Twitter for Android\",\"public_metrics\":{\"retweet_count\":829,\"reply_count\":0,\"like_count\":0,\"quote_count\":0},\"text\":\"RT @patsajak: Due to supply chain issues, Wheel of Fortune players will be limited to three vowel purchases per show until further notice.\",\"possibly_sensitive\":false,\"id\":\"1467924623794880521\",\"lang\":\"en\"},{\"created_at\":\"2021-12-06T18:30:38.000Z\",\"source\":\"Twitter for Android\",\"public_metrics\":{\"retweet_count\":829,\"reply_count\":0,\"like_count\":0,\"quote_count\":0},\"text\":\"RT @patsajak: Due to supply chain issues, Wheel of Fortune players will be limited to three vowel purchases per show until further notice.\",\"possibly_sensitive\":false,\"id\":\"1467924459025846276\",\"lang\":\"en\"},{\"created_at\":\"2021-12-06T18:30:16.000Z\",\"source\":\"Twitter for iPad\",\"public_metrics\":{\"retweet_count\":0,\"reply_count\":0,\"like_count\":2,\"quote_count\":0},\"text\":\"@TonyBrunoShow @patsajak I forgot that they used to have to shop on Wheel of Fortune!\\\\uD83D\\\\uDE02\\\\uD83E\\\\uDD23\",\"possibly_sensitive\":false,\"id\":\"1467924368110063628\",\"lang\":\"en\"},{\"created_at\":\"2021-12-06T18:29:19.000Z\",\"source\":\"Twitter for iPad\",\"public_metrics\":{\"retweet_count\":829,\"reply_count\":0,\"like_count\":0,\"quote_count\":0},\"text\":\"RT @patsajak: Due to supply chain issues, Wheel of Fortune players will be limited to three vowel purchases per show until further notice.\",\"possibly_sensitive\":false,\"id\":\"1467924128623517703\",\"lang\":\"en\"},{\"attachments\":{\"media_keys\":[\"3_1467924035145134082\"]},\"created_at\":\"2021-12-06T18:28:58.000Z\",\"source\":\"Twitter for iPhone\",\"public_metrics\":{\"retweet_count\":1,\"reply_count\":0,\"like_count\":2,\"quote_count\":0},\"text\":\"4 bbs open for offers &lt;3 PayPal offers are preferred but willing to look at offers! (used albluu’s rad base :) )\\\\n#adoptable #adopts #adoptables #dragon #dragonoc #art #digitalart #furry #furryartist #furryadopt #wof #WingsofFire #wofadopt #fantasy #dragons #OC #ocadopt #hqdesign https://t.co/MRQrlTVxI6\",\"possibly_sensitive\":false,\"id\":\"1467924039058345987\",\"lang\":\"en\"},{\"created_at\":\"2021-12-06T18:28:35.000Z\",\"source\":\"Twitter for iPhone\",\"public_metrics\":{\"retweet_count\":829,\"reply_count\":0,\"like_count\":0,\"quote_count\":0},\"text\":\"RT @patsajak: Due to supply chain issues, Wheel of Fortune players will be limited to three vowel purchases per show until further notice.\",\"possibly_sensitive\":false,\"id\":\"1467923944359575561\",\"lang\":\"en\"},{\"created_at\":\"2021-12-06T18:28:01.000Z\",\"source\":\"Twitter for iPhone\",\"public_metrics\":{\"retweet_count\":0,\"reply_count\":0,\"like_count\":0,\"quote_count\":0},\"text\":\"@patsajak You\\'re so funny! \\\\uD83D\\\\uDE02\",\"possibly_sensitive\":false,\"id\":\"1467923800704626689\",\"lang\":\"en\"},{\"created_at\":\"2021-12-06T18:28:01.000Z\",\"source\":\"Twitter Web App\",\"public_metrics\":{\"retweet_count\":829,\"reply_count\":0,\"like_count\":0,\"quote_count\":0},\"text\":\"RT @patsajak: Due to supply chain issues, Wheel of Fortune players will be limited to three vowel purchases per show until further notice.\",\"possibly_sensitive\":false,\"id\":\"1467923799161344000\",\"lang\":\"en\"},{\"created_at\":\"2021-12-06T18:28:00.000Z\",\"source\":\"Twitter for iPhone\",\"public_metrics\":{\"retweet_count\":829,\"reply_count\":0,\"like_count\":0,\"quote_count\":0},\"text\":\"RT @patsajak: Due to supply chain issues, Wheel of Fortune players will be limited to three vowel purchases per show until further notice.\",\"possibly_sensitive\":false,\"id\":\"1467923797865123842\",\"lang\":\"en\"},{\"created_at\":\"2021-12-06T18:27:58.000Z\",\"source\":\"Twitter Web App\",\"public_metrics\":{\"retweet_count\":1,\"reply_count\":0,\"like_count\":0,\"quote_count\":0},\"text\":\"RT @mom2zwr: @TonyBrunoShow @patsajak You always had to buy the $50 Faberge Organics shampoo too.\\\\n\\\\nI\\'ll take the rest on a Van Cleef &amp; Arpe…\",\"possibly_sensitive\":false,\"id\":\"1467923786569818118\",\"lang\":\"en\"},{\"created_at\":\"2021-12-06T18:27:48.000Z\",\"source\":\"Twitter for iPhone\",\"public_metrics\":{\"retweet_count\":829,\"reply_count\":0,\"like_count\":0,\"quote_count\":0},\"text\":\"RT @patsajak: Due to supply chain issues, Wheel of Fortune players will be limited to three vowel purchases per show until further notice.\",\"possibly_sensitive\":false,\"id\":\"1467923745406922758\",\"lang\":\"en\"},{\"created_at\":\"2021-12-06T18:27:24.000Z\",\"source\":\"Twitter for Android\",\"public_metrics\":{\"retweet_count\":1,\"reply_count\":0,\"like_count\":2,\"quote_count\":0},\"text\":\"@TonyBrunoShow @patsajak You always had to buy the $50 Faberge Organics shampoo too.\\\\n\\\\nI\\'ll take the rest on a Van Cleef &amp; Arpels gift certificate,  Pat.\",\"possibly_sensitive\":false,\"id\":\"1467923646291263493\",\"lang\":\"en\"},{\"created_at\":\"2021-12-06T18:27:06.000Z\",\"source\":\"Twitter for iPhone\",\"public_metrics\":{\"retweet_count\":829,\"reply_count\":0,\"like_count\":0,\"quote_count\":0},\"text\":\"RT @patsajak: Due to supply chain issues, Wheel of Fortune players will be limited to three vowel purchases per show until further notice.\",\"possibly_sensitive\":false,\"id\":\"1467923568918941698\",\"lang\":\"en\"},{\"created_at\":\"2021-12-06T18:26:57.000Z\",\"source\":\"Twitter Web App\",\"public_metrics\":{\"retweet_count\":829,\"reply_count\":0,\"like_count\":0,\"quote_count\":0},\"text\":\"RT @patsajak: Due to supply chain issues, Wheel of Fortune players will be limited to three vowel purchases per show until further notice.\",\"possibly_sensitive\":false,\"id\":\"1467923530733993986\",\"lang\":\"en\"},{\"created_at\":\"2021-12-06T18:26:55.000Z\",\"source\":\"Twitter for Android\",\"public_metrics\":{\"retweet_count\":829,\"reply_count\":0,\"like_count\":0,\"quote_count\":0},\"text\":\"RT @patsajak: Due to supply chain issues, Wheel of Fortune players will be limited to three vowel purchases per show until further notice.\",\"possibly_sensitive\":false,\"id\":\"1467923522022514699\",\"lang\":\"en\"},{\"created_at\":\"2021-12-06T18:26:49.000Z\",\"source\":\"Twitter for iPhone\",\"public_metrics\":{\"retweet_count\":29,\"reply_count\":0,\"like_count\":0,\"quote_count\":0},\"text\":\"RT @bluegrass24: We definitely need to talk about the fact that Icicle is just a child raised without love and manipulated by Scarlet. She\\'…\",\"possibly_sensitive\":false,\"id\":\"1467923500107239425\",\"lang\":\"en\"},{\"created_at\":\"2021-12-06T18:26:44.000Z\",\"source\":\"Twitter for iPhone\",\"public_metrics\":{\"retweet_count\":829,\"reply_count\":0,\"like_count\":0,\"quote_count\":0},\"text\":\"RT @patsajak: Due to supply chain issues, Wheel of Fortune players will be limited to three vowel purchases per show until further notice.\",\"possibly_sensitive\":false,\"id\":\"1467923476216524807\",\"lang\":\"en\"},{\"created_at\":\"2021-12-06T18:25:49.000Z\",\"source\":\"Twitter for iPhone\",\"public_metrics\":{\"retweet_count\":829,\"reply_count\":0,\"like_count\":0,\"quote_count\":0},\"text\":\"RT @patsajak: Due to supply chain issues, Wheel of Fortune players will be limited to three vowel purchases per show until further notice.\",\"possibly_sensitive\":false,\"id\":\"1467923247106772998\",\"lang\":\"en\"},{\"created_at\":\"2021-12-06T18:25:39.000Z\",\"source\":\"Twitter Web App\",\"public_metrics\":{\"retweet_count\":829,\"reply_count\":0,\"like_count\":0,\"quote_count\":0},\"text\":\"RT @patsajak: Due to supply chain issues, Wheel of Fortune players will be limited to three vowel purchases per show until further notice.\",\"possibly_sensitive\":false,\"id\":\"1467923206040338436\",\"lang\":\"en\"},{\"created_at\":\"2021-12-06T18:25:11.000Z\",\"source\":\"Twitter for iPhone\",\"public_metrics\":{\"retweet_count\":829,\"reply_count\":0,\"like_count\":0,\"quote_count\":0},\"text\":\"RT @patsajak: Due to supply chain issues, Wheel of Fortune players will be limited to three vowel purchases per show until further notice.\",\"possibly_sensitive\":false,\"id\":\"1467923087383433217\",\"lang\":\"en\"},{\"created_at\":\"2021-12-06T18:25:09.000Z\",\"source\":\"Twitter for iPhone\",\"public_metrics\":{\"retweet_count\":829,\"reply_count\":0,\"like_count\":0,\"quote_count\":0},\"text\":\"RT @patsajak: Due to supply chain issues, Wheel of Fortune players will be limited to three vowel purchases per show until further notice.\",\"possibly_sensitive\":false,\"id\":\"1467923080802496516\",\"lang\":\"en\"},{\"created_at\":\"2021-12-06T18:24:50.000Z\",\"source\":\"Twitter Web App\",\"public_metrics\":{\"retweet_count\":829,\"reply_count\":0,\"like_count\":0,\"quote_count\":0},\"text\":\"RT @patsajak: Due to supply chain issues, Wheel of Fortune players will be limited to three vowel purchases per show until further notice.\",\"possibly_sensitive\":false,\"id\":\"1467923000758620164\",\"lang\":\"en\"},{\"created_at\":\"2021-12-06T18:24:33.000Z\",\"source\":\"Twitter for iPhone\",\"public_metrics\":{\"retweet_count\":829,\"reply_count\":0,\"like_count\":0,\"quote_count\":0},\"text\":\"RT @patsajak: Due to supply chain issues, Wheel of Fortune players will be limited to three vowel purchases per show until further notice.\",\"possibly_sensitive\":false,\"id\":\"1467922929371467790\",\"lang\":\"en\"},{\"created_at\":\"2021-12-06T18:24:29.000Z\",\"source\":\"Twitter for iPhone\",\"public_metrics\":{\"retweet_count\":0,\"reply_count\":0,\"like_count\":0,\"quote_count\":0},\"text\":\"@patsajak Now that’s comedy we can all enjoy\\\\uD83D\\\\uDC4D.  I pray one day @iamcolinquinn and @marknorm  can be brave enough to follow your lead.\",\"possibly_sensitive\":false,\"id\":\"1467922911256322056\",\"lang\":\"en\"},{\"created_at\":\"2021-12-06T18:24:05.000Z\",\"source\":\"Twitter for Android\",\"public_metrics\":{\"retweet_count\":829,\"reply_count\":0,\"like_count\":0,\"quote_count\":0},\"text\":\"RT @patsajak: Due to supply chain issues, Wheel of Fortune players will be limited to three vowel purchases per show until further notice.\",\"possibly_sensitive\":false,\"id\":\"1467922812463628297\",\"lang\":\"en\"},{\"created_at\":\"2021-12-06T18:22:40.000Z\",\"source\":\"Twitter for Android\",\"public_metrics\":{\"retweet_count\":829,\"reply_count\":0,\"like_count\":0,\"quote_count\":0},\"text\":\"RT @patsajak: Due to supply chain issues, Wheel of Fortune players will be limited to three vowel purchases per show until further notice.\",\"possibly_sensitive\":false,\"id\":\"1467922454152634369\",\"lang\":\"en\"},{\"created_at\":\"2021-12-06T18:22:16.000Z\",\"source\":\"Twitter for Android\",\"public_metrics\":{\"retweet_count\":829,\"reply_count\":0,\"like_count\":0,\"quote_count\":0},\"text\":\"RT @patsajak: Due to supply chain issues, Wheel of Fortune players will be limited to three vowel purchases per show until further notice.\",\"possibly_sensitive\":false,\"id\":\"1467922352939884545\",\"lang\":\"en\"},{\"created_at\":\"2021-12-06T18:21:28.000Z\",\"source\":\"Twitter Web App\",\"public_metrics\":{\"retweet_count\":0,\"reply_count\":4,\"like_count\":21,\"quote_count\":0},\"text\":\"@patsajak the whole world went to hell when the ceramic Dalmatians couldn\\'t meet California\\'s strict lead and asbestos regulations and were dumped into the LaBrae  Tar Pits.\",\"possibly_sensitive\":false,\"id\":\"1467922151055446016\",\"lang\":\"en\"},{\"created_at\":\"2021-12-06T18:20:24.000Z\",\"source\":\"Twitter for iPhone\",\"public_metrics\":{\"retweet_count\":829,\"reply_count\":0,\"like_count\":0,\"quote_count\":0},\"text\":\"RT @patsajak: Due to supply chain issues, Wheel of Fortune players will be limited to three vowel purchases per show until further notice.\",\"possibly_sensitive\":false,\"id\":\"1467921884570341386\",\"lang\":\"en\"},{\"created_at\":\"2021-12-06T18:20:20.000Z\",\"source\":\"Twitter for Android\",\"public_metrics\":{\"retweet_count\":829,\"reply_count\":0,\"like_count\":0,\"quote_count\":0},\"text\":\"RT @patsajak: Due to supply chain issues, Wheel of Fortune players will be limited to three vowel purchases per show until further notice.\",\"possibly_sensitive\":false,\"id\":\"1467921869340770304\",\"lang\":\"en\"},{\"created_at\":\"2021-12-06T18:20:12.000Z\",\"source\":\"Twitter Web App\",\"public_metrics\":{\"retweet_count\":829,\"reply_count\":0,\"like_count\":0,\"quote_count\":0},\"text\":\"RT @patsajak: Due to supply chain issues, Wheel of Fortune players will be limited to three vowel purchases per show until further notice.\",\"possibly_sensitive\":false,\"id\":\"1467921833064239104\",\"lang\":\"en\"},{\"created_at\":\"2021-12-06T18:19:29.000Z\",\"source\":\"Twitter for iPhone\",\"public_metrics\":{\"retweet_count\":829,\"reply_count\":0,\"like_count\":0,\"quote_count\":0},\"text\":\"RT @patsajak: Due to supply chain issues, Wheel of Fortune players will be limited to three vowel purchases per show until further notice.\",\"possibly_sensitive\":false,\"id\":\"1467921654928252928\",\"lang\":\"en\"},{\"created_at\":\"2021-12-06T18:18:43.000Z\",\"source\":\"Twitter for Android\",\"public_metrics\":{\"retweet_count\":829,\"reply_count\":0,\"like_count\":0,\"quote_count\":0},\"text\":\"RT @patsajak: Due to supply chain issues, Wheel of Fortune players will be limited to three vowel purchases per show until further notice.\",\"possibly_sensitive\":false,\"id\":\"1467921459985195021\",\"lang\":\"en\"},{\"created_at\":\"2021-12-06T18:18:42.000Z\",\"source\":\"Twitter Web App\",\"public_metrics\":{\"retweet_count\":829,\"reply_count\":0,\"like_count\":0,\"quote_count\":0},\"text\":\"RT @patsajak: Due to supply chain issues, Wheel of Fortune players will be limited to three vowel purchases per show until further notice.\",\"possibly_sensitive\":false,\"id\":\"1467921456986263555\",\"lang\":\"en\"},{\"created_at\":\"2021-12-06T18:18:25.000Z\",\"source\":\"Twitter Web App\",\"public_metrics\":{\"retweet_count\":829,\"reply_count\":0,\"like_count\":0,\"quote_count\":0},\"text\":\"RT @patsajak: Due to supply chain issues, Wheel of Fortune players will be limited to three vowel purchases per show until further notice.\",\"possibly_sensitive\":false,\"id\":\"1467921384852525059\",\"lang\":\"en\"},{\"created_at\":\"2021-12-06T18:18:11.000Z\",\"source\":\"Twitter Web App\",\"public_metrics\":{\"retweet_count\":829,\"reply_count\":0,\"like_count\":0,\"quote_count\":0},\"text\":\"RT @patsajak: Due to supply chain issues, Wheel of Fortune players will be limited to three vowel purchases per show until further notice.\",\"possibly_sensitive\":false,\"id\":\"1467921324500819977\",\"lang\":\"en\"},{\"created_at\":\"2021-12-06T18:17:45.000Z\",\"source\":\"Twitter for Android\",\"public_metrics\":{\"retweet_count\":0,\"reply_count\":0,\"like_count\":1,\"quote_count\":0},\"text\":\"@patsajak H grt! Nw thr wll b vwll shrtge!!!!!\",\"possibly_sensitive\":false,\"id\":\"1467921216597938176\",\"lang\":\"en\"},{\"created_at\":\"2021-12-06T18:16:21.000Z\",\"source\":\"Twitter for iPhone\",\"public_metrics\":{\"retweet_count\":829,\"reply_count\":0,\"like_count\":0,\"quote_count\":0},\"text\":\"RT @patsajak: Due to supply chain issues, Wheel of Fortune players will be limited to three vowel purchases per show until further notice.\",\"possibly_sensitive\":false,\"id\":\"1467920865270513667\",\"lang\":\"en\"}],\"meta\":{\"newest_id\":\"1467929823112835073\",\"oldest_id\":\"1467920865270513667\",\"result_count\":100,\"next_token\":\"b26v89c19zqg8o3fpdy8isea0rvpayln6ui8jrxaz8epp\"}}'"
      ]
     },
     "execution_count": 87,
     "metadata": {},
     "output_type": "execute_result"
    }
   ],
   "source": [
    "response_W2.text"
   ]
  },
  {
   "cell_type": "code",
   "execution_count": 88,
   "id": "f6f6a8af",
   "metadata": {},
   "outputs": [],
   "source": [
    "my_df2 = my_df2.append(pd.DataFrame(json.loads(response_W2.text)['data']), ignore_index= True)"
   ]
  },
  {
   "cell_type": "code",
   "execution_count": 89,
   "id": "90b518b5",
   "metadata": {
    "scrolled": true
   },
   "outputs": [
    {
     "data": {
      "text/html": [
       "<div>\n",
       "<style scoped>\n",
       "    .dataframe tbody tr th:only-of-type {\n",
       "        vertical-align: middle;\n",
       "    }\n",
       "\n",
       "    .dataframe tbody tr th {\n",
       "        vertical-align: top;\n",
       "    }\n",
       "\n",
       "    .dataframe thead th {\n",
       "        text-align: right;\n",
       "    }\n",
       "</style>\n",
       "<table border=\"1\" class=\"dataframe\">\n",
       "  <thead>\n",
       "    <tr style=\"text-align: right;\">\n",
       "      <th></th>\n",
       "      <th>lang</th>\n",
       "      <th>public_metrics</th>\n",
       "      <th>id</th>\n",
       "      <th>possibly_sensitive</th>\n",
       "      <th>text</th>\n",
       "      <th>author_id</th>\n",
       "      <th>created_at</th>\n",
       "      <th>source</th>\n",
       "      <th>attachments</th>\n",
       "    </tr>\n",
       "  </thead>\n",
       "  <tbody>\n",
       "    <tr>\n",
       "      <th>0</th>\n",
       "      <td>en</td>\n",
       "      <td>{'retweet_count': 0, 'reply_count': 0, 'like_c...</td>\n",
       "      <td>1467979913923895298</td>\n",
       "      <td>False</td>\n",
       "      <td>@glaad @Jeopardamy @emilyvdw @Jeopardy Thanx f...</td>\n",
       "      <td>995446130967302144</td>\n",
       "      <td>2021-12-06T22:10:59.000Z</td>\n",
       "      <td>Twitter for iPhone</td>\n",
       "      <td>NaN</td>\n",
       "    </tr>\n",
       "    <tr>\n",
       "      <th>1</th>\n",
       "      <td>en</td>\n",
       "      <td>{'retweet_count': 0, 'reply_count': 0, 'like_c...</td>\n",
       "      <td>1467979782197592075</td>\n",
       "      <td>False</td>\n",
       "      <td>Format: 8-day first round, four profs per day,...</td>\n",
       "      <td>770293085771210752</td>\n",
       "      <td>2021-12-06T22:10:28.000Z</td>\n",
       "      <td>Twitter for iPhone</td>\n",
       "      <td>NaN</td>\n",
       "    </tr>\n",
       "    <tr>\n",
       "      <th>2</th>\n",
       "      <td>en</td>\n",
       "      <td>{'retweet_count': 0, 'reply_count': 0, 'like_c...</td>\n",
       "      <td>1467979250372431878</td>\n",
       "      <td>False</td>\n",
       "      <td>Y'all my professor is going to be a contestant...</td>\n",
       "      <td>2932977243</td>\n",
       "      <td>2021-12-06T22:08:21.000Z</td>\n",
       "      <td>Twitter for iPhone</td>\n",
       "      <td>NaN</td>\n",
       "    </tr>\n",
       "    <tr>\n",
       "      <th>3</th>\n",
       "      <td>en</td>\n",
       "      <td>{'retweet_count': 0, 'reply_count': 1, 'like_c...</td>\n",
       "      <td>1467978490758811657</td>\n",
       "      <td>False</td>\n",
       "      <td>The @Jeopardy Professors Tournament begins tod...</td>\n",
       "      <td>770293085771210752</td>\n",
       "      <td>2021-12-06T22:05:20.000Z</td>\n",
       "      <td>Twitter for iPhone</td>\n",
       "      <td>NaN</td>\n",
       "    </tr>\n",
       "    <tr>\n",
       "      <th>4</th>\n",
       "      <td>en</td>\n",
       "      <td>{'retweet_count': 0, 'reply_count': 0, 'like_c...</td>\n",
       "      <td>1467978245861691397</td>\n",
       "      <td>False</td>\n",
       "      <td>The lovely @missmayim is back hosting @jeopard...</td>\n",
       "      <td>355147215</td>\n",
       "      <td>2021-12-06T22:04:22.000Z</td>\n",
       "      <td>Twitter for Android</td>\n",
       "      <td>NaN</td>\n",
       "    </tr>\n",
       "    <tr>\n",
       "      <th>...</th>\n",
       "      <td>...</td>\n",
       "      <td>...</td>\n",
       "      <td>...</td>\n",
       "      <td>...</td>\n",
       "      <td>...</td>\n",
       "      <td>...</td>\n",
       "      <td>...</td>\n",
       "      <td>...</td>\n",
       "      <td>...</td>\n",
       "    </tr>\n",
       "    <tr>\n",
       "      <th>195</th>\n",
       "      <td>en</td>\n",
       "      <td>{'retweet_count': 829, 'reply_count': 0, 'like...</td>\n",
       "      <td>1467921456986263555</td>\n",
       "      <td>False</td>\n",
       "      <td>RT @patsajak: Due to supply chain issues, Whee...</td>\n",
       "      <td>NaN</td>\n",
       "      <td>2021-12-06T18:18:42.000Z</td>\n",
       "      <td>Twitter Web App</td>\n",
       "      <td>NaN</td>\n",
       "    </tr>\n",
       "    <tr>\n",
       "      <th>196</th>\n",
       "      <td>en</td>\n",
       "      <td>{'retweet_count': 829, 'reply_count': 0, 'like...</td>\n",
       "      <td>1467921384852525059</td>\n",
       "      <td>False</td>\n",
       "      <td>RT @patsajak: Due to supply chain issues, Whee...</td>\n",
       "      <td>NaN</td>\n",
       "      <td>2021-12-06T18:18:25.000Z</td>\n",
       "      <td>Twitter Web App</td>\n",
       "      <td>NaN</td>\n",
       "    </tr>\n",
       "    <tr>\n",
       "      <th>197</th>\n",
       "      <td>en</td>\n",
       "      <td>{'retweet_count': 829, 'reply_count': 0, 'like...</td>\n",
       "      <td>1467921324500819977</td>\n",
       "      <td>False</td>\n",
       "      <td>RT @patsajak: Due to supply chain issues, Whee...</td>\n",
       "      <td>NaN</td>\n",
       "      <td>2021-12-06T18:18:11.000Z</td>\n",
       "      <td>Twitter Web App</td>\n",
       "      <td>NaN</td>\n",
       "    </tr>\n",
       "    <tr>\n",
       "      <th>198</th>\n",
       "      <td>en</td>\n",
       "      <td>{'retweet_count': 0, 'reply_count': 0, 'like_c...</td>\n",
       "      <td>1467921216597938176</td>\n",
       "      <td>False</td>\n",
       "      <td>@patsajak H grt! Nw thr wll b vwll shrtge!!!!!</td>\n",
       "      <td>NaN</td>\n",
       "      <td>2021-12-06T18:17:45.000Z</td>\n",
       "      <td>Twitter for Android</td>\n",
       "      <td>NaN</td>\n",
       "    </tr>\n",
       "    <tr>\n",
       "      <th>199</th>\n",
       "      <td>en</td>\n",
       "      <td>{'retweet_count': 829, 'reply_count': 0, 'like...</td>\n",
       "      <td>1467920865270513667</td>\n",
       "      <td>False</td>\n",
       "      <td>RT @patsajak: Due to supply chain issues, Whee...</td>\n",
       "      <td>NaN</td>\n",
       "      <td>2021-12-06T18:16:21.000Z</td>\n",
       "      <td>Twitter for iPhone</td>\n",
       "      <td>NaN</td>\n",
       "    </tr>\n",
       "  </tbody>\n",
       "</table>\n",
       "<p>200 rows × 9 columns</p>\n",
       "</div>"
      ],
      "text/plain": [
       "    lang                                     public_metrics  \\\n",
       "0     en  {'retweet_count': 0, 'reply_count': 0, 'like_c...   \n",
       "1     en  {'retweet_count': 0, 'reply_count': 0, 'like_c...   \n",
       "2     en  {'retweet_count': 0, 'reply_count': 0, 'like_c...   \n",
       "3     en  {'retweet_count': 0, 'reply_count': 1, 'like_c...   \n",
       "4     en  {'retweet_count': 0, 'reply_count': 0, 'like_c...   \n",
       "..   ...                                                ...   \n",
       "195   en  {'retweet_count': 829, 'reply_count': 0, 'like...   \n",
       "196   en  {'retweet_count': 829, 'reply_count': 0, 'like...   \n",
       "197   en  {'retweet_count': 829, 'reply_count': 0, 'like...   \n",
       "198   en  {'retweet_count': 0, 'reply_count': 0, 'like_c...   \n",
       "199   en  {'retweet_count': 829, 'reply_count': 0, 'like...   \n",
       "\n",
       "                      id  possibly_sensitive  \\\n",
       "0    1467979913923895298               False   \n",
       "1    1467979782197592075               False   \n",
       "2    1467979250372431878               False   \n",
       "3    1467978490758811657               False   \n",
       "4    1467978245861691397               False   \n",
       "..                   ...                 ...   \n",
       "195  1467921456986263555               False   \n",
       "196  1467921384852525059               False   \n",
       "197  1467921324500819977               False   \n",
       "198  1467921216597938176               False   \n",
       "199  1467920865270513667               False   \n",
       "\n",
       "                                                  text           author_id  \\\n",
       "0    @glaad @Jeopardamy @emilyvdw @Jeopardy Thanx f...  995446130967302144   \n",
       "1    Format: 8-day first round, four profs per day,...  770293085771210752   \n",
       "2    Y'all my professor is going to be a contestant...          2932977243   \n",
       "3    The @Jeopardy Professors Tournament begins tod...  770293085771210752   \n",
       "4    The lovely @missmayim is back hosting @jeopard...           355147215   \n",
       "..                                                 ...                 ...   \n",
       "195  RT @patsajak: Due to supply chain issues, Whee...                 NaN   \n",
       "196  RT @patsajak: Due to supply chain issues, Whee...                 NaN   \n",
       "197  RT @patsajak: Due to supply chain issues, Whee...                 NaN   \n",
       "198     @patsajak H grt! Nw thr wll b vwll shrtge!!!!!                 NaN   \n",
       "199  RT @patsajak: Due to supply chain issues, Whee...                 NaN   \n",
       "\n",
       "                   created_at               source attachments  \n",
       "0    2021-12-06T22:10:59.000Z   Twitter for iPhone         NaN  \n",
       "1    2021-12-06T22:10:28.000Z   Twitter for iPhone         NaN  \n",
       "2    2021-12-06T22:08:21.000Z   Twitter for iPhone         NaN  \n",
       "3    2021-12-06T22:05:20.000Z   Twitter for iPhone         NaN  \n",
       "4    2021-12-06T22:04:22.000Z  Twitter for Android         NaN  \n",
       "..                        ...                  ...         ...  \n",
       "195  2021-12-06T18:18:42.000Z      Twitter Web App         NaN  \n",
       "196  2021-12-06T18:18:25.000Z      Twitter Web App         NaN  \n",
       "197  2021-12-06T18:18:11.000Z      Twitter Web App         NaN  \n",
       "198  2021-12-06T18:17:45.000Z  Twitter for Android         NaN  \n",
       "199  2021-12-06T18:16:21.000Z   Twitter for iPhone         NaN  \n",
       "\n",
       "[200 rows x 9 columns]"
      ]
     },
     "execution_count": 89,
     "metadata": {},
     "output_type": "execute_result"
    }
   ],
   "source": [
    "my_df2"
   ]
  },
  {
   "cell_type": "code",
   "execution_count": 90,
   "id": "7cd66f43",
   "metadata": {},
   "outputs": [
    {
     "data": {
      "text/plain": [
       "{'newest_id': '1467979913923895298',\n",
       " 'oldest_id': '1467929873943609345',\n",
       " 'result_count': 100,\n",
       " 'next_token': 'b26v89c19zqg8o3fpdy8iseaefhfw53e8zwxxg4b94kfx'}"
      ]
     },
     "execution_count": 90,
     "metadata": {},
     "output_type": "execute_result"
    }
   ],
   "source": [
    "response_1_dict['meta']"
   ]
  },
  {
   "cell_type": "code",
   "execution_count": 92,
   "id": "00fced89",
   "metadata": {},
   "outputs": [],
   "source": [
    "response_W3 = requests.request(\"GET\", my_api_W_url, headers = header)"
   ]
  },
  {
   "cell_type": "code",
   "execution_count": 93,
   "id": "0c02a3b6",
   "metadata": {},
   "outputs": [
    {
     "data": {
      "text/plain": [
       "'{\"data\":[{\"id\":\"1467929823112835073\",\"public_metrics\":{\"retweet_count\":829,\"reply_count\":0,\"like_count\":0,\"quote_count\":0},\"possibly_sensitive\":false,\"text\":\"RT @patsajak: Due to supply chain issues, Wheel of Fortune players will be limited to three vowel purchases per show until further notice.\",\"created_at\":\"2021-12-06T18:51:57.000Z\",\"source\":\"Twitter for iPhone\",\"lang\":\"en\"},{\"id\":\"1467929721396776965\",\"public_metrics\":{\"retweet_count\":829,\"reply_count\":0,\"like_count\":0,\"quote_count\":0},\"possibly_sensitive\":false,\"text\":\"RT @patsajak: Due to supply chain issues, Wheel of Fortune players will be limited to three vowel purchases per show until further notice.\",\"created_at\":\"2021-12-06T18:51:33.000Z\",\"source\":\"Twitter for iPhone\",\"lang\":\"en\"},{\"id\":\"1467929575644704772\",\"public_metrics\":{\"retweet_count\":829,\"reply_count\":0,\"like_count\":0,\"quote_count\":0},\"possibly_sensitive\":false,\"text\":\"RT @patsajak: Due to supply chain issues, Wheel of Fortune players will be limited to three vowel purchases per show until further notice.\",\"created_at\":\"2021-12-06T18:50:58.000Z\",\"source\":\"Twitter Web App\",\"lang\":\"en\"},{\"id\":\"1467929563086962706\",\"public_metrics\":{\"retweet_count\":829,\"reply_count\":0,\"like_count\":0,\"quote_count\":0},\"possibly_sensitive\":false,\"text\":\"RT @patsajak: Due to supply chain issues, Wheel of Fortune players will be limited to three vowel purchases per show until further notice.\",\"created_at\":\"2021-12-06T18:50:55.000Z\",\"source\":\"Twitter for iPhone\",\"lang\":\"en\"},{\"id\":\"1467929489711771655\",\"public_metrics\":{\"retweet_count\":829,\"reply_count\":0,\"like_count\":0,\"quote_count\":0},\"possibly_sensitive\":false,\"text\":\"RT @patsajak: Due to supply chain issues, Wheel of Fortune players will be limited to three vowel purchases per show until further notice.\",\"created_at\":\"2021-12-06T18:50:37.000Z\",\"source\":\"Twitter for iPhone\",\"lang\":\"en\"},{\"id\":\"1467929383704965128\",\"public_metrics\":{\"retweet_count\":829,\"reply_count\":0,\"like_count\":0,\"quote_count\":0},\"possibly_sensitive\":false,\"text\":\"RT @patsajak: Due to supply chain issues, Wheel of Fortune players will be limited to three vowel purchases per show until further notice.\",\"created_at\":\"2021-12-06T18:50:12.000Z\",\"source\":\"Twitter Web App\",\"lang\":\"en\"},{\"id\":\"1467929350498570251\",\"public_metrics\":{\"retweet_count\":829,\"reply_count\":0,\"like_count\":0,\"quote_count\":0},\"possibly_sensitive\":false,\"text\":\"RT @patsajak: Due to supply chain issues, Wheel of Fortune players will be limited to three vowel purchases per show until further notice.\",\"created_at\":\"2021-12-06T18:50:04.000Z\",\"source\":\"Twitter for iPhone\",\"lang\":\"en\"},{\"id\":\"1467929255736655879\",\"public_metrics\":{\"retweet_count\":829,\"reply_count\":0,\"like_count\":0,\"quote_count\":0},\"possibly_sensitive\":false,\"text\":\"RT @patsajak: Due to supply chain issues, Wheel of Fortune players will be limited to three vowel purchases per show until further notice.\",\"created_at\":\"2021-12-06T18:49:42.000Z\",\"source\":\"Twitter for iPhone\",\"lang\":\"en\"},{\"id\":\"1467929229941612550\",\"public_metrics\":{\"retweet_count\":829,\"reply_count\":0,\"like_count\":0,\"quote_count\":0},\"possibly_sensitive\":false,\"text\":\"RT @patsajak: Due to supply chain issues, Wheel of Fortune players will be limited to three vowel purchases per show until further notice.\",\"created_at\":\"2021-12-06T18:49:35.000Z\",\"source\":\"Twitter for Android\",\"lang\":\"en\"},{\"id\":\"1467929131648270344\",\"public_metrics\":{\"retweet_count\":0,\"reply_count\":0,\"like_count\":0,\"quote_count\":0},\"possibly_sensitive\":false,\"text\":\"@patsajak It may be all they need…\",\"created_at\":\"2021-12-06T18:49:12.000Z\",\"source\":\"Twitter for iPad\",\"lang\":\"en\"},{\"id\":\"1467929009996587017\",\"public_metrics\":{\"retweet_count\":829,\"reply_count\":0,\"like_count\":0,\"quote_count\":0},\"possibly_sensitive\":false,\"text\":\"RT @patsajak: Due to supply chain issues, Wheel of Fortune players will be limited to three vowel purchases per show until further notice.\",\"created_at\":\"2021-12-06T18:48:43.000Z\",\"source\":\"Twitter Web App\",\"lang\":\"en\"},{\"id\":\"1467928738121793540\",\"public_metrics\":{\"retweet_count\":829,\"reply_count\":0,\"like_count\":0,\"quote_count\":0},\"possibly_sensitive\":false,\"text\":\"RT @patsajak: Due to supply chain issues, Wheel of Fortune players will be limited to three vowel purchases per show until further notice.\",\"created_at\":\"2021-12-06T18:47:38.000Z\",\"source\":\"Twitter for Android\",\"lang\":\"en\"},{\"id\":\"1467928654932058123\",\"public_metrics\":{\"retweet_count\":16,\"reply_count\":0,\"like_count\":0,\"quote_count\":0},\"possibly_sensitive\":false,\"text\":\"RT @bluegrass24: Seawing princesses!! I like headcanon that they all inherited from their father the light markings near their eyes\\\\n\\\\n#sketc…\",\"created_at\":\"2021-12-06T18:47:18.000Z\",\"source\":\"Twitter for iPhone\",\"lang\":\"en\"},{\"id\":\"1467928580789313540\",\"public_metrics\":{\"retweet_count\":829,\"reply_count\":0,\"like_count\":0,\"quote_count\":0},\"possibly_sensitive\":false,\"text\":\"RT @patsajak: Due to supply chain issues, Wheel of Fortune players will be limited to three vowel purchases per show until further notice.\",\"created_at\":\"2021-12-06T18:47:01.000Z\",\"source\":\"Twitter for Android\",\"lang\":\"en\"},{\"id\":\"1467928487784857608\",\"public_metrics\":{\"retweet_count\":829,\"reply_count\":0,\"like_count\":0,\"quote_count\":0},\"possibly_sensitive\":false,\"text\":\"RT @patsajak: Due to supply chain issues, Wheel of Fortune players will be limited to three vowel purchases per show until further notice.\",\"created_at\":\"2021-12-06T18:46:38.000Z\",\"source\":\"Twitter Web App\",\"lang\":\"en\"},{\"id\":\"1467928458135228420\",\"public_metrics\":{\"retweet_count\":829,\"reply_count\":0,\"like_count\":0,\"quote_count\":0},\"possibly_sensitive\":false,\"text\":\"RT @patsajak: Due to supply chain issues, Wheel of Fortune players will be limited to three vowel purchases per show until further notice.\",\"created_at\":\"2021-12-06T18:46:31.000Z\",\"source\":\"Twitter for iPhone\",\"lang\":\"en\"},{\"id\":\"1467928353671987206\",\"public_metrics\":{\"retweet_count\":829,\"reply_count\":0,\"like_count\":0,\"quote_count\":0},\"possibly_sensitive\":false,\"text\":\"RT @patsajak: Due to supply chain issues, Wheel of Fortune players will be limited to three vowel purchases per show until further notice.\",\"created_at\":\"2021-12-06T18:46:06.000Z\",\"source\":\"Twitter Web App\",\"lang\":\"en\"},{\"id\":\"1467928328095117312\",\"public_metrics\":{\"retweet_count\":829,\"reply_count\":0,\"like_count\":0,\"quote_count\":0},\"possibly_sensitive\":false,\"text\":\"RT @patsajak: Due to supply chain issues, Wheel of Fortune players will be limited to three vowel purchases per show until further notice.\",\"created_at\":\"2021-12-06T18:46:00.000Z\",\"source\":\"Twitter for iPhone\",\"lang\":\"en\"},{\"id\":\"1467928294481932302\",\"public_metrics\":{\"retweet_count\":829,\"reply_count\":0,\"like_count\":0,\"quote_count\":0},\"possibly_sensitive\":false,\"text\":\"RT @patsajak: Due to supply chain issues, Wheel of Fortune players will be limited to three vowel purchases per show until further notice.\",\"created_at\":\"2021-12-06T18:45:52.000Z\",\"source\":\"Twitter for iPhone\",\"lang\":\"en\"},{\"id\":\"1467928192942239744\",\"public_metrics\":{\"retweet_count\":829,\"reply_count\":0,\"like_count\":0,\"quote_count\":0},\"possibly_sensitive\":false,\"text\":\"RT @patsajak: Due to supply chain issues, Wheel of Fortune players will be limited to three vowel purchases per show until further notice.\",\"created_at\":\"2021-12-06T18:45:28.000Z\",\"source\":\"Twitter for Android\",\"lang\":\"en\"},{\"id\":\"1467928067578507266\",\"public_metrics\":{\"retweet_count\":829,\"reply_count\":0,\"like_count\":0,\"quote_count\":0},\"possibly_sensitive\":false,\"text\":\"RT @patsajak: Due to supply chain issues, Wheel of Fortune players will be limited to three vowel purchases per show until further notice.\",\"created_at\":\"2021-12-06T18:44:58.000Z\",\"source\":\"Twitter for iPhone\",\"lang\":\"en\"},{\"id\":\"1467928063849623555\",\"public_metrics\":{\"retweet_count\":829,\"reply_count\":0,\"like_count\":0,\"quote_count\":0},\"possibly_sensitive\":false,\"text\":\"RT @patsajak: Due to supply chain issues, Wheel of Fortune players will be limited to three vowel purchases per show until further notice.\",\"created_at\":\"2021-12-06T18:44:57.000Z\",\"source\":\"Twitter for iPhone\",\"lang\":\"en\"},{\"id\":\"1467928010103955460\",\"public_metrics\":{\"retweet_count\":829,\"reply_count\":0,\"like_count\":0,\"quote_count\":0},\"possibly_sensitive\":false,\"text\":\"RT @patsajak: Due to supply chain issues, Wheel of Fortune players will be limited to three vowel purchases per show until further notice.\",\"created_at\":\"2021-12-06T18:44:45.000Z\",\"source\":\"Twitter Web App\",\"lang\":\"en\"},{\"id\":\"1467927771632570376\",\"public_metrics\":{\"retweet_count\":829,\"reply_count\":0,\"like_count\":0,\"quote_count\":0},\"possibly_sensitive\":false,\"text\":\"RT @patsajak: Due to supply chain issues, Wheel of Fortune players will be limited to three vowel purchases per show until further notice.\",\"created_at\":\"2021-12-06T18:43:48.000Z\",\"source\":\"Twitter for iPhone\",\"lang\":\"en\"},{\"id\":\"1467927756499529728\",\"public_metrics\":{\"retweet_count\":829,\"reply_count\":0,\"like_count\":0,\"quote_count\":0},\"possibly_sensitive\":false,\"text\":\"RT @patsajak: Due to supply chain issues, Wheel of Fortune players will be limited to three vowel purchases per show until further notice.\",\"created_at\":\"2021-12-06T18:43:44.000Z\",\"source\":\"Twitter for iPhone\",\"lang\":\"en\"},{\"id\":\"1467927730058502152\",\"public_metrics\":{\"retweet_count\":829,\"reply_count\":0,\"like_count\":0,\"quote_count\":0},\"possibly_sensitive\":false,\"text\":\"RT @patsajak: Due to supply chain issues, Wheel of Fortune players will be limited to three vowel purchases per show until further notice.\",\"created_at\":\"2021-12-06T18:43:38.000Z\",\"source\":\"Twitter for iPad\",\"lang\":\"en\"},{\"id\":\"1467927700627243010\",\"public_metrics\":{\"retweet_count\":829,\"reply_count\":0,\"like_count\":0,\"quote_count\":0},\"possibly_sensitive\":false,\"text\":\"RT @patsajak: Due to supply chain issues, Wheel of Fortune players will be limited to three vowel purchases per show until further notice.\",\"created_at\":\"2021-12-06T18:43:31.000Z\",\"source\":\"Twitter for iPhone\",\"lang\":\"en\"},{\"id\":\"1467927652774424582\",\"attachments\":{\"media_keys\":[\"7_1241450574001983490\"]},\"public_metrics\":{\"retweet_count\":1,\"reply_count\":0,\"like_count\":17,\"quote_count\":0},\"possibly_sensitive\":false,\"text\":\"@patsajak That’s fine. Three was sufficient for me.  https://t.co/sfMnWh4jU6\",\"created_at\":\"2021-12-06T18:43:19.000Z\",\"source\":\"Twitter for iPhone\",\"lang\":\"en\"},{\"id\":\"1467927647619592200\",\"public_metrics\":{\"retweet_count\":829,\"reply_count\":0,\"like_count\":0,\"quote_count\":0},\"possibly_sensitive\":false,\"text\":\"RT @patsajak: Due to supply chain issues, Wheel of Fortune players will be limited to three vowel purchases per show until further notice.\",\"created_at\":\"2021-12-06T18:43:18.000Z\",\"source\":\"Twitter for iPhone\",\"lang\":\"en\"},{\"id\":\"1467927534008512531\",\"public_metrics\":{\"retweet_count\":829,\"reply_count\":0,\"like_count\":0,\"quote_count\":0},\"possibly_sensitive\":false,\"text\":\"RT @patsajak: Due to supply chain issues, Wheel of Fortune players will be limited to three vowel purchases per show until further notice.\",\"created_at\":\"2021-12-06T18:42:51.000Z\",\"source\":\"Twitter Web App\",\"lang\":\"en\"},{\"id\":\"1467927511514464259\",\"public_metrics\":{\"retweet_count\":829,\"reply_count\":0,\"like_count\":0,\"quote_count\":0},\"possibly_sensitive\":false,\"text\":\"RT @patsajak: Due to supply chain issues, Wheel of Fortune players will be limited to three vowel purchases per show until further notice.\",\"created_at\":\"2021-12-06T18:42:46.000Z\",\"source\":\"Twitter for iPhone\",\"lang\":\"en\"},{\"id\":\"1467927505105477633\",\"public_metrics\":{\"retweet_count\":829,\"reply_count\":0,\"like_count\":0,\"quote_count\":0},\"possibly_sensitive\":false,\"text\":\"RT @patsajak: Due to supply chain issues, Wheel of Fortune players will be limited to three vowel purchases per show until further notice.\",\"created_at\":\"2021-12-06T18:42:44.000Z\",\"source\":\"Twitter for iPhone\",\"lang\":\"en\"},{\"id\":\"1467927397622239238\",\"public_metrics\":{\"retweet_count\":829,\"reply_count\":0,\"like_count\":0,\"quote_count\":0},\"possibly_sensitive\":false,\"text\":\"RT @patsajak: Due to supply chain issues, Wheel of Fortune players will be limited to three vowel purchases per show until further notice.\",\"created_at\":\"2021-12-06T18:42:19.000Z\",\"source\":\"Twitter Web App\",\"lang\":\"en\"},{\"id\":\"1467927132257103874\",\"public_metrics\":{\"retweet_count\":829,\"reply_count\":0,\"like_count\":0,\"quote_count\":0},\"possibly_sensitive\":false,\"text\":\"RT @patsajak: Due to supply chain issues, Wheel of Fortune players will be limited to three vowel purchases per show until further notice.\",\"created_at\":\"2021-12-06T18:41:15.000Z\",\"source\":\"Twitter for iPhone\",\"lang\":\"en\"},{\"id\":\"1467927106445320199\",\"public_metrics\":{\"retweet_count\":829,\"reply_count\":0,\"like_count\":0,\"quote_count\":0},\"possibly_sensitive\":false,\"text\":\"RT @patsajak: Due to supply chain issues, Wheel of Fortune players will be limited to three vowel purchases per show until further notice.\",\"created_at\":\"2021-12-06T18:41:09.000Z\",\"source\":\"Twitter for Android\",\"lang\":\"en\"},{\"id\":\"1467927103119273985\",\"public_metrics\":{\"retweet_count\":829,\"reply_count\":0,\"like_count\":0,\"quote_count\":0},\"possibly_sensitive\":false,\"text\":\"RT @patsajak: Due to supply chain issues, Wheel of Fortune players will be limited to three vowel purchases per show until further notice.\",\"created_at\":\"2021-12-06T18:41:08.000Z\",\"source\":\"Twitter for Android\",\"lang\":\"en\"},{\"id\":\"1467927062698770434\",\"public_metrics\":{\"retweet_count\":829,\"reply_count\":0,\"like_count\":0,\"quote_count\":0},\"possibly_sensitive\":false,\"text\":\"RT @patsajak: Due to supply chain issues, Wheel of Fortune players will be limited to three vowel purchases per show until further notice.\",\"created_at\":\"2021-12-06T18:40:59.000Z\",\"source\":\"Twitter for iPhone\",\"lang\":\"en\"},{\"id\":\"1467927012128006144\",\"public_metrics\":{\"retweet_count\":829,\"reply_count\":0,\"like_count\":0,\"quote_count\":0},\"possibly_sensitive\":false,\"text\":\"RT @patsajak: Due to supply chain issues, Wheel of Fortune players will be limited to three vowel purchases per show until further notice.\",\"created_at\":\"2021-12-06T18:40:47.000Z\",\"source\":\"Twitter for iPhone\",\"lang\":\"en\"},{\"id\":\"1467926977902432262\",\"public_metrics\":{\"retweet_count\":829,\"reply_count\":0,\"like_count\":0,\"quote_count\":0},\"possibly_sensitive\":false,\"text\":\"RT @patsajak: Due to supply chain issues, Wheel of Fortune players will be limited to three vowel purchases per show until further notice.\",\"created_at\":\"2021-12-06T18:40:38.000Z\",\"source\":\"Twitter for iPad\",\"lang\":\"en\"},{\"id\":\"1467926898068135943\",\"public_metrics\":{\"retweet_count\":829,\"reply_count\":0,\"like_count\":0,\"quote_count\":0},\"possibly_sensitive\":false,\"text\":\"RT @patsajak: Due to supply chain issues, Wheel of Fortune players will be limited to three vowel purchases per show until further notice.\",\"created_at\":\"2021-12-06T18:40:19.000Z\",\"source\":\"Twitter for iPhone\",\"lang\":\"en\"},{\"id\":\"1467926868204658695\",\"public_metrics\":{\"retweet_count\":0,\"reply_count\":0,\"like_count\":0,\"quote_count\":0},\"possibly_sensitive\":false,\"text\":\"@patsajak thus begins the descent into the Fifth Circle of Hell\",\"created_at\":\"2021-12-06T18:40:12.000Z\",\"source\":\"Twitter Web App\",\"lang\":\"en\"},{\"id\":\"1467926845421236229\",\"public_metrics\":{\"retweet_count\":829,\"reply_count\":0,\"like_count\":0,\"quote_count\":0},\"possibly_sensitive\":false,\"text\":\"RT @patsajak: Due to supply chain issues, Wheel of Fortune players will be limited to three vowel purchases per show until further notice.\",\"created_at\":\"2021-12-06T18:40:07.000Z\",\"source\":\"Twitter Web App\",\"lang\":\"en\"},{\"id\":\"1467926784956116996\",\"public_metrics\":{\"retweet_count\":829,\"reply_count\":0,\"like_count\":0,\"quote_count\":0},\"possibly_sensitive\":false,\"text\":\"RT @patsajak: Due to supply chain issues, Wheel of Fortune players will be limited to three vowel purchases per show until further notice.\",\"created_at\":\"2021-12-06T18:39:52.000Z\",\"source\":\"Talon Android\",\"lang\":\"en\"},{\"id\":\"1467926782997196800\",\"public_metrics\":{\"retweet_count\":829,\"reply_count\":0,\"like_count\":0,\"quote_count\":0},\"possibly_sensitive\":false,\"text\":\"RT @patsajak: Due to supply chain issues, Wheel of Fortune players will be limited to three vowel purchases per show until further notice.\",\"created_at\":\"2021-12-06T18:39:52.000Z\",\"source\":\"Twitter for iPhone\",\"lang\":\"en\"},{\"id\":\"1467926688927399936\",\"public_metrics\":{\"retweet_count\":829,\"reply_count\":0,\"like_count\":0,\"quote_count\":0},\"possibly_sensitive\":false,\"text\":\"RT @patsajak: Due to supply chain issues, Wheel of Fortune players will be limited to three vowel purchases per show until further notice.\",\"created_at\":\"2021-12-06T18:39:30.000Z\",\"source\":\"Twitter Web App\",\"lang\":\"en\"},{\"id\":\"1467926586527604736\",\"public_metrics\":{\"retweet_count\":829,\"reply_count\":0,\"like_count\":0,\"quote_count\":0},\"possibly_sensitive\":false,\"text\":\"RT @patsajak: Due to supply chain issues, Wheel of Fortune players will be limited to three vowel purchases per show until further notice.\",\"created_at\":\"2021-12-06T18:39:05.000Z\",\"source\":\"Twitter for Android\",\"lang\":\"en\"},{\"id\":\"1467926527698685953\",\"public_metrics\":{\"retweet_count\":829,\"reply_count\":0,\"like_count\":0,\"quote_count\":0},\"possibly_sensitive\":false,\"text\":\"RT @patsajak: Due to supply chain issues, Wheel of Fortune players will be limited to three vowel purchases per show until further notice.\",\"created_at\":\"2021-12-06T18:38:51.000Z\",\"source\":\"Twitter for Android\",\"lang\":\"en\"},{\"id\":\"1467926525664235527\",\"public_metrics\":{\"retweet_count\":829,\"reply_count\":0,\"like_count\":0,\"quote_count\":0},\"possibly_sensitive\":false,\"text\":\"RT @patsajak: Due to supply chain issues, Wheel of Fortune players will be limited to three vowel purchases per show until further notice.\",\"created_at\":\"2021-12-06T18:38:51.000Z\",\"source\":\"Twitter Web App\",\"lang\":\"en\"},{\"id\":\"1467926348937236495\",\"public_metrics\":{\"retweet_count\":829,\"reply_count\":0,\"like_count\":0,\"quote_count\":0},\"possibly_sensitive\":false,\"text\":\"RT @patsajak: Due to supply chain issues, Wheel of Fortune players will be limited to three vowel purchases per show until further notice.\",\"created_at\":\"2021-12-06T18:38:08.000Z\",\"source\":\"Twitter for Android\",\"lang\":\"en\"},{\"id\":\"1467926234831015939\",\"public_metrics\":{\"retweet_count\":829,\"reply_count\":0,\"like_count\":0,\"quote_count\":0},\"possibly_sensitive\":false,\"text\":\"RT @patsajak: Due to supply chain issues, Wheel of Fortune players will be limited to three vowel purchases per show until further notice.\",\"created_at\":\"2021-12-06T18:37:41.000Z\",\"source\":\"Twitter for iPhone\",\"lang\":\"en\"},{\"id\":\"1467926223368036354\",\"public_metrics\":{\"retweet_count\":829,\"reply_count\":0,\"like_count\":0,\"quote_count\":0},\"possibly_sensitive\":false,\"text\":\"RT @patsajak: Due to supply chain issues, Wheel of Fortune players will be limited to three vowel purchases per show until further notice.\",\"created_at\":\"2021-12-06T18:37:39.000Z\",\"source\":\"Twitter for Mac\",\"lang\":\"en\"},{\"id\":\"1467926031638188038\",\"public_metrics\":{\"retweet_count\":829,\"reply_count\":0,\"like_count\":0,\"quote_count\":0},\"possibly_sensitive\":false,\"text\":\"RT @patsajak: Due to supply chain issues, Wheel of Fortune players will be limited to three vowel purchases per show until further notice.\",\"created_at\":\"2021-12-06T18:36:53.000Z\",\"source\":\"Twitter for iPhone\",\"lang\":\"en\"},{\"id\":\"1467925989883793410\",\"public_metrics\":{\"retweet_count\":829,\"reply_count\":0,\"like_count\":0,\"quote_count\":0},\"possibly_sensitive\":false,\"text\":\"RT @patsajak: Due to supply chain issues, Wheel of Fortune players will be limited to three vowel purchases per show until further notice.\",\"created_at\":\"2021-12-06T18:36:43.000Z\",\"source\":\"Twitter Web App\",\"lang\":\"en\"},{\"id\":\"1467925938465738755\",\"public_metrics\":{\"retweet_count\":829,\"reply_count\":0,\"like_count\":0,\"quote_count\":0},\"possibly_sensitive\":false,\"text\":\"RT @patsajak: Due to supply chain issues, Wheel of Fortune players will be limited to three vowel purchases per show until further notice.\",\"created_at\":\"2021-12-06T18:36:31.000Z\",\"source\":\"Twitter for iPhone\",\"lang\":\"en\"},{\"id\":\"1467925653148389380\",\"public_metrics\":{\"retweet_count\":829,\"reply_count\":0,\"like_count\":0,\"quote_count\":0},\"possibly_sensitive\":false,\"text\":\"RT @patsajak: Due to supply chain issues, Wheel of Fortune players will be limited to three vowel purchases per show until further notice.\",\"created_at\":\"2021-12-06T18:35:23.000Z\",\"source\":\"Twitter for iPhone\",\"lang\":\"en\"},{\"id\":\"1467925438907486209\",\"public_metrics\":{\"retweet_count\":0,\"reply_count\":1,\"like_count\":0,\"quote_count\":0},\"possibly_sensitive\":false,\"text\":\"@patsajak Love that we can blame all shortages on the supply chain!  \\\\uD83D\\\\uDE0A\",\"created_at\":\"2021-12-06T18:34:32.000Z\",\"source\":\"Twitter for iPhone\",\"lang\":\"en\"},{\"id\":\"1467925405168455680\",\"public_metrics\":{\"retweet_count\":829,\"reply_count\":0,\"like_count\":0,\"quote_count\":0},\"possibly_sensitive\":false,\"text\":\"RT @patsajak: Due to supply chain issues, Wheel of Fortune players will be limited to three vowel purchases per show until further notice.\",\"created_at\":\"2021-12-06T18:34:23.000Z\",\"source\":\"Twitter for Android\",\"lang\":\"en\"},{\"id\":\"1467925078335705095\",\"public_metrics\":{\"retweet_count\":0,\"reply_count\":0,\"like_count\":0,\"quote_count\":0},\"possibly_sensitive\":false,\"text\":\"@patsajak Maybe they\\'ll stop buying a vowel immediately before solving it (and when it\\'s clear that they already knew what the answer was but bought a vowel anyway).\",\"created_at\":\"2021-12-06T18:33:06.000Z\",\"source\":\"Twitter Web App\",\"lang\":\"en\"},{\"id\":\"1467925054193381377\",\"public_metrics\":{\"retweet_count\":16,\"reply_count\":0,\"like_count\":0,\"quote_count\":0},\"possibly_sensitive\":false,\"text\":\"RT @bluegrass24: Seawing princesses!! I like headcanon that they all inherited from their father the light markings near their eyes\\\\n\\\\n#sketc…\",\"created_at\":\"2021-12-06T18:33:00.000Z\",\"source\":\"Twitter for Android\",\"lang\":\"en\"},{\"id\":\"1467924922366578688\",\"public_metrics\":{\"retweet_count\":16,\"reply_count\":0,\"like_count\":0,\"quote_count\":0},\"possibly_sensitive\":false,\"text\":\"RT @bluegrass24: Seawing princesses!! I like headcanon that they all inherited from their father the light markings near their eyes\\\\n\\\\n#sketc…\",\"created_at\":\"2021-12-06T18:32:28.000Z\",\"source\":\"Twitter for iPhone\",\"lang\":\"en\"},{\"id\":\"1467924864417861643\",\"public_metrics\":{\"retweet_count\":829,\"reply_count\":0,\"like_count\":0,\"quote_count\":0},\"possibly_sensitive\":false,\"text\":\"RT @patsajak: Due to supply chain issues, Wheel of Fortune players will be limited to three vowel purchases per show until further notice.\",\"created_at\":\"2021-12-06T18:32:15.000Z\",\"source\":\"Twitter for iPad\",\"lang\":\"en\"},{\"id\":\"1467924850413088777\",\"public_metrics\":{\"retweet_count\":0,\"reply_count\":0,\"like_count\":0,\"quote_count\":0},\"possibly_sensitive\":false,\"text\":\"@patsajak @Richard_Harambe And please do not select X then buy an I as this may insult someone.\",\"created_at\":\"2021-12-06T18:32:11.000Z\",\"source\":\"Twitter for iPhone\",\"lang\":\"en\"},{\"id\":\"1467924623794880521\",\"public_metrics\":{\"retweet_count\":829,\"reply_count\":0,\"like_count\":0,\"quote_count\":0},\"possibly_sensitive\":false,\"text\":\"RT @patsajak: Due to supply chain issues, Wheel of Fortune players will be limited to three vowel purchases per show until further notice.\",\"created_at\":\"2021-12-06T18:31:17.000Z\",\"source\":\"Twitter for Android\",\"lang\":\"en\"},{\"id\":\"1467924459025846276\",\"public_metrics\":{\"retweet_count\":829,\"reply_count\":0,\"like_count\":0,\"quote_count\":0},\"possibly_sensitive\":false,\"text\":\"RT @patsajak: Due to supply chain issues, Wheel of Fortune players will be limited to three vowel purchases per show until further notice.\",\"created_at\":\"2021-12-06T18:30:38.000Z\",\"source\":\"Twitter for Android\",\"lang\":\"en\"},{\"id\":\"1467924368110063628\",\"public_metrics\":{\"retweet_count\":0,\"reply_count\":0,\"like_count\":2,\"quote_count\":0},\"possibly_sensitive\":false,\"text\":\"@TonyBrunoShow @patsajak I forgot that they used to have to shop on Wheel of Fortune!\\\\uD83D\\\\uDE02\\\\uD83E\\\\uDD23\",\"created_at\":\"2021-12-06T18:30:16.000Z\",\"source\":\"Twitter for iPad\",\"lang\":\"en\"},{\"id\":\"1467924128623517703\",\"public_metrics\":{\"retweet_count\":829,\"reply_count\":0,\"like_count\":0,\"quote_count\":0},\"possibly_sensitive\":false,\"text\":\"RT @patsajak: Due to supply chain issues, Wheel of Fortune players will be limited to three vowel purchases per show until further notice.\",\"created_at\":\"2021-12-06T18:29:19.000Z\",\"source\":\"Twitter for iPad\",\"lang\":\"en\"},{\"id\":\"1467924039058345987\",\"attachments\":{\"media_keys\":[\"3_1467924035145134082\"]},\"public_metrics\":{\"retweet_count\":1,\"reply_count\":0,\"like_count\":2,\"quote_count\":0},\"possibly_sensitive\":false,\"text\":\"4 bbs open for offers &lt;3 PayPal offers are preferred but willing to look at offers! (used albluu’s rad base :) )\\\\n#adoptable #adopts #adoptables #dragon #dragonoc #art #digitalart #furry #furryartist #furryadopt #wof #WingsofFire #wofadopt #fantasy #dragons #OC #ocadopt #hqdesign https://t.co/MRQrlTVxI6\",\"created_at\":\"2021-12-06T18:28:58.000Z\",\"source\":\"Twitter for iPhone\",\"lang\":\"en\"},{\"id\":\"1467923944359575561\",\"public_metrics\":{\"retweet_count\":829,\"reply_count\":0,\"like_count\":0,\"quote_count\":0},\"possibly_sensitive\":false,\"text\":\"RT @patsajak: Due to supply chain issues, Wheel of Fortune players will be limited to three vowel purchases per show until further notice.\",\"created_at\":\"2021-12-06T18:28:35.000Z\",\"source\":\"Twitter for iPhone\",\"lang\":\"en\"},{\"id\":\"1467923800704626689\",\"public_metrics\":{\"retweet_count\":0,\"reply_count\":0,\"like_count\":0,\"quote_count\":0},\"possibly_sensitive\":false,\"text\":\"@patsajak You\\'re so funny! \\\\uD83D\\\\uDE02\",\"created_at\":\"2021-12-06T18:28:01.000Z\",\"source\":\"Twitter for iPhone\",\"lang\":\"en\"},{\"id\":\"1467923799161344000\",\"public_metrics\":{\"retweet_count\":829,\"reply_count\":0,\"like_count\":0,\"quote_count\":0},\"possibly_sensitive\":false,\"text\":\"RT @patsajak: Due to supply chain issues, Wheel of Fortune players will be limited to three vowel purchases per show until further notice.\",\"created_at\":\"2021-12-06T18:28:01.000Z\",\"source\":\"Twitter Web App\",\"lang\":\"en\"},{\"id\":\"1467923797865123842\",\"public_metrics\":{\"retweet_count\":829,\"reply_count\":0,\"like_count\":0,\"quote_count\":0},\"possibly_sensitive\":false,\"text\":\"RT @patsajak: Due to supply chain issues, Wheel of Fortune players will be limited to three vowel purchases per show until further notice.\",\"created_at\":\"2021-12-06T18:28:00.000Z\",\"source\":\"Twitter for iPhone\",\"lang\":\"en\"},{\"id\":\"1467923786569818118\",\"public_metrics\":{\"retweet_count\":1,\"reply_count\":0,\"like_count\":0,\"quote_count\":0},\"possibly_sensitive\":false,\"text\":\"RT @mom2zwr: @TonyBrunoShow @patsajak You always had to buy the $50 Faberge Organics shampoo too.\\\\n\\\\nI\\'ll take the rest on a Van Cleef &amp; Arpe…\",\"created_at\":\"2021-12-06T18:27:58.000Z\",\"source\":\"Twitter Web App\",\"lang\":\"en\"},{\"id\":\"1467923745406922758\",\"public_metrics\":{\"retweet_count\":829,\"reply_count\":0,\"like_count\":0,\"quote_count\":0},\"possibly_sensitive\":false,\"text\":\"RT @patsajak: Due to supply chain issues, Wheel of Fortune players will be limited to three vowel purchases per show until further notice.\",\"created_at\":\"2021-12-06T18:27:48.000Z\",\"source\":\"Twitter for iPhone\",\"lang\":\"en\"},{\"id\":\"1467923646291263493\",\"public_metrics\":{\"retweet_count\":1,\"reply_count\":0,\"like_count\":2,\"quote_count\":0},\"possibly_sensitive\":false,\"text\":\"@TonyBrunoShow @patsajak You always had to buy the $50 Faberge Organics shampoo too.\\\\n\\\\nI\\'ll take the rest on a Van Cleef &amp; Arpels gift certificate,  Pat.\",\"created_at\":\"2021-12-06T18:27:24.000Z\",\"source\":\"Twitter for Android\",\"lang\":\"en\"},{\"id\":\"1467923568918941698\",\"public_metrics\":{\"retweet_count\":829,\"reply_count\":0,\"like_count\":0,\"quote_count\":0},\"possibly_sensitive\":false,\"text\":\"RT @patsajak: Due to supply chain issues, Wheel of Fortune players will be limited to three vowel purchases per show until further notice.\",\"created_at\":\"2021-12-06T18:27:06.000Z\",\"source\":\"Twitter for iPhone\",\"lang\":\"en\"},{\"id\":\"1467923530733993986\",\"public_metrics\":{\"retweet_count\":829,\"reply_count\":0,\"like_count\":0,\"quote_count\":0},\"possibly_sensitive\":false,\"text\":\"RT @patsajak: Due to supply chain issues, Wheel of Fortune players will be limited to three vowel purchases per show until further notice.\",\"created_at\":\"2021-12-06T18:26:57.000Z\",\"source\":\"Twitter Web App\",\"lang\":\"en\"},{\"id\":\"1467923522022514699\",\"public_metrics\":{\"retweet_count\":829,\"reply_count\":0,\"like_count\":0,\"quote_count\":0},\"possibly_sensitive\":false,\"text\":\"RT @patsajak: Due to supply chain issues, Wheel of Fortune players will be limited to three vowel purchases per show until further notice.\",\"created_at\":\"2021-12-06T18:26:55.000Z\",\"source\":\"Twitter for Android\",\"lang\":\"en\"},{\"id\":\"1467923500107239425\",\"public_metrics\":{\"retweet_count\":29,\"reply_count\":0,\"like_count\":0,\"quote_count\":0},\"possibly_sensitive\":false,\"text\":\"RT @bluegrass24: We definitely need to talk about the fact that Icicle is just a child raised without love and manipulated by Scarlet. She\\'…\",\"created_at\":\"2021-12-06T18:26:49.000Z\",\"source\":\"Twitter for iPhone\",\"lang\":\"en\"},{\"id\":\"1467923476216524807\",\"public_metrics\":{\"retweet_count\":829,\"reply_count\":0,\"like_count\":0,\"quote_count\":0},\"possibly_sensitive\":false,\"text\":\"RT @patsajak: Due to supply chain issues, Wheel of Fortune players will be limited to three vowel purchases per show until further notice.\",\"created_at\":\"2021-12-06T18:26:44.000Z\",\"source\":\"Twitter for iPhone\",\"lang\":\"en\"},{\"id\":\"1467923247106772998\",\"public_metrics\":{\"retweet_count\":829,\"reply_count\":0,\"like_count\":0,\"quote_count\":0},\"possibly_sensitive\":false,\"text\":\"RT @patsajak: Due to supply chain issues, Wheel of Fortune players will be limited to three vowel purchases per show until further notice.\",\"created_at\":\"2021-12-06T18:25:49.000Z\",\"source\":\"Twitter for iPhone\",\"lang\":\"en\"},{\"id\":\"1467923206040338436\",\"public_metrics\":{\"retweet_count\":829,\"reply_count\":0,\"like_count\":0,\"quote_count\":0},\"possibly_sensitive\":false,\"text\":\"RT @patsajak: Due to supply chain issues, Wheel of Fortune players will be limited to three vowel purchases per show until further notice.\",\"created_at\":\"2021-12-06T18:25:39.000Z\",\"source\":\"Twitter Web App\",\"lang\":\"en\"},{\"id\":\"1467923087383433217\",\"public_metrics\":{\"retweet_count\":829,\"reply_count\":0,\"like_count\":0,\"quote_count\":0},\"possibly_sensitive\":false,\"text\":\"RT @patsajak: Due to supply chain issues, Wheel of Fortune players will be limited to three vowel purchases per show until further notice.\",\"created_at\":\"2021-12-06T18:25:11.000Z\",\"source\":\"Twitter for iPhone\",\"lang\":\"en\"},{\"id\":\"1467923080802496516\",\"public_metrics\":{\"retweet_count\":829,\"reply_count\":0,\"like_count\":0,\"quote_count\":0},\"possibly_sensitive\":false,\"text\":\"RT @patsajak: Due to supply chain issues, Wheel of Fortune players will be limited to three vowel purchases per show until further notice.\",\"created_at\":\"2021-12-06T18:25:09.000Z\",\"source\":\"Twitter for iPhone\",\"lang\":\"en\"},{\"id\":\"1467923000758620164\",\"public_metrics\":{\"retweet_count\":829,\"reply_count\":0,\"like_count\":0,\"quote_count\":0},\"possibly_sensitive\":false,\"text\":\"RT @patsajak: Due to supply chain issues, Wheel of Fortune players will be limited to three vowel purchases per show until further notice.\",\"created_at\":\"2021-12-06T18:24:50.000Z\",\"source\":\"Twitter Web App\",\"lang\":\"en\"},{\"id\":\"1467922929371467790\",\"public_metrics\":{\"retweet_count\":829,\"reply_count\":0,\"like_count\":0,\"quote_count\":0},\"possibly_sensitive\":false,\"text\":\"RT @patsajak: Due to supply chain issues, Wheel of Fortune players will be limited to three vowel purchases per show until further notice.\",\"created_at\":\"2021-12-06T18:24:33.000Z\",\"source\":\"Twitter for iPhone\",\"lang\":\"en\"},{\"id\":\"1467922911256322056\",\"public_metrics\":{\"retweet_count\":0,\"reply_count\":0,\"like_count\":0,\"quote_count\":0},\"possibly_sensitive\":false,\"text\":\"@patsajak Now that’s comedy we can all enjoy\\\\uD83D\\\\uDC4D.  I pray one day @iamcolinquinn and @marknorm  can be brave enough to follow your lead.\",\"created_at\":\"2021-12-06T18:24:29.000Z\",\"source\":\"Twitter for iPhone\",\"lang\":\"en\"},{\"id\":\"1467922812463628297\",\"public_metrics\":{\"retweet_count\":829,\"reply_count\":0,\"like_count\":0,\"quote_count\":0},\"possibly_sensitive\":false,\"text\":\"RT @patsajak: Due to supply chain issues, Wheel of Fortune players will be limited to three vowel purchases per show until further notice.\",\"created_at\":\"2021-12-06T18:24:05.000Z\",\"source\":\"Twitter for Android\",\"lang\":\"en\"},{\"id\":\"1467922454152634369\",\"public_metrics\":{\"retweet_count\":829,\"reply_count\":0,\"like_count\":0,\"quote_count\":0},\"possibly_sensitive\":false,\"text\":\"RT @patsajak: Due to supply chain issues, Wheel of Fortune players will be limited to three vowel purchases per show until further notice.\",\"created_at\":\"2021-12-06T18:22:40.000Z\",\"source\":\"Twitter for Android\",\"lang\":\"en\"},{\"id\":\"1467922352939884545\",\"public_metrics\":{\"retweet_count\":829,\"reply_count\":0,\"like_count\":0,\"quote_count\":0},\"possibly_sensitive\":false,\"text\":\"RT @patsajak: Due to supply chain issues, Wheel of Fortune players will be limited to three vowel purchases per show until further notice.\",\"created_at\":\"2021-12-06T18:22:16.000Z\",\"source\":\"Twitter for Android\",\"lang\":\"en\"},{\"id\":\"1467922151055446016\",\"public_metrics\":{\"retweet_count\":0,\"reply_count\":4,\"like_count\":21,\"quote_count\":0},\"possibly_sensitive\":false,\"text\":\"@patsajak the whole world went to hell when the ceramic Dalmatians couldn\\'t meet California\\'s strict lead and asbestos regulations and were dumped into the LaBrae  Tar Pits.\",\"created_at\":\"2021-12-06T18:21:28.000Z\",\"source\":\"Twitter Web App\",\"lang\":\"en\"},{\"id\":\"1467921884570341386\",\"public_metrics\":{\"retweet_count\":829,\"reply_count\":0,\"like_count\":0,\"quote_count\":0},\"possibly_sensitive\":false,\"text\":\"RT @patsajak: Due to supply chain issues, Wheel of Fortune players will be limited to three vowel purchases per show until further notice.\",\"created_at\":\"2021-12-06T18:20:24.000Z\",\"source\":\"Twitter for iPhone\",\"lang\":\"en\"},{\"id\":\"1467921869340770304\",\"public_metrics\":{\"retweet_count\":829,\"reply_count\":0,\"like_count\":0,\"quote_count\":0},\"possibly_sensitive\":false,\"text\":\"RT @patsajak: Due to supply chain issues, Wheel of Fortune players will be limited to three vowel purchases per show until further notice.\",\"created_at\":\"2021-12-06T18:20:20.000Z\",\"source\":\"Twitter for Android\",\"lang\":\"en\"},{\"id\":\"1467921833064239104\",\"public_metrics\":{\"retweet_count\":829,\"reply_count\":0,\"like_count\":0,\"quote_count\":0},\"possibly_sensitive\":false,\"text\":\"RT @patsajak: Due to supply chain issues, Wheel of Fortune players will be limited to three vowel purchases per show until further notice.\",\"created_at\":\"2021-12-06T18:20:12.000Z\",\"source\":\"Twitter Web App\",\"lang\":\"en\"},{\"id\":\"1467921654928252928\",\"public_metrics\":{\"retweet_count\":829,\"reply_count\":0,\"like_count\":0,\"quote_count\":0},\"possibly_sensitive\":false,\"text\":\"RT @patsajak: Due to supply chain issues, Wheel of Fortune players will be limited to three vowel purchases per show until further notice.\",\"created_at\":\"2021-12-06T18:19:29.000Z\",\"source\":\"Twitter for iPhone\",\"lang\":\"en\"},{\"id\":\"1467921459985195021\",\"public_metrics\":{\"retweet_count\":829,\"reply_count\":0,\"like_count\":0,\"quote_count\":0},\"possibly_sensitive\":false,\"text\":\"RT @patsajak: Due to supply chain issues, Wheel of Fortune players will be limited to three vowel purchases per show until further notice.\",\"created_at\":\"2021-12-06T18:18:43.000Z\",\"source\":\"Twitter for Android\",\"lang\":\"en\"},{\"id\":\"1467921456986263555\",\"public_metrics\":{\"retweet_count\":829,\"reply_count\":0,\"like_count\":0,\"quote_count\":0},\"possibly_sensitive\":false,\"text\":\"RT @patsajak: Due to supply chain issues, Wheel of Fortune players will be limited to three vowel purchases per show until further notice.\",\"created_at\":\"2021-12-06T18:18:42.000Z\",\"source\":\"Twitter Web App\",\"lang\":\"en\"},{\"id\":\"1467921384852525059\",\"public_metrics\":{\"retweet_count\":829,\"reply_count\":0,\"like_count\":0,\"quote_count\":0},\"possibly_sensitive\":false,\"text\":\"RT @patsajak: Due to supply chain issues, Wheel of Fortune players will be limited to three vowel purchases per show until further notice.\",\"created_at\":\"2021-12-06T18:18:25.000Z\",\"source\":\"Twitter Web App\",\"lang\":\"en\"},{\"id\":\"1467921324500819977\",\"public_metrics\":{\"retweet_count\":829,\"reply_count\":0,\"like_count\":0,\"quote_count\":0},\"possibly_sensitive\":false,\"text\":\"RT @patsajak: Due to supply chain issues, Wheel of Fortune players will be limited to three vowel purchases per show until further notice.\",\"created_at\":\"2021-12-06T18:18:11.000Z\",\"source\":\"Twitter Web App\",\"lang\":\"en\"},{\"id\":\"1467921216597938176\",\"public_metrics\":{\"retweet_count\":0,\"reply_count\":0,\"like_count\":1,\"quote_count\":0},\"possibly_sensitive\":false,\"text\":\"@patsajak H grt! Nw thr wll b vwll shrtge!!!!!\",\"created_at\":\"2021-12-06T18:17:45.000Z\",\"source\":\"Twitter for Android\",\"lang\":\"en\"},{\"id\":\"1467920865270513667\",\"public_metrics\":{\"retweet_count\":829,\"reply_count\":0,\"like_count\":0,\"quote_count\":0},\"possibly_sensitive\":false,\"text\":\"RT @patsajak: Due to supply chain issues, Wheel of Fortune players will be limited to three vowel purchases per show until further notice.\",\"created_at\":\"2021-12-06T18:16:21.000Z\",\"source\":\"Twitter for iPhone\",\"lang\":\"en\"}],\"meta\":{\"newest_id\":\"1467929823112835073\",\"oldest_id\":\"1467920865270513667\",\"result_count\":100,\"next_token\":\"b26v89c19zqg8o3fpdy8isea0rvpayln6ui8jrxaz8epp\"}}'"
      ]
     },
     "execution_count": 93,
     "metadata": {},
     "output_type": "execute_result"
    }
   ],
   "source": [
    "response_W3.text"
   ]
  },
  {
   "cell_type": "code",
   "execution_count": 94,
   "id": "d7f942bd",
   "metadata": {},
   "outputs": [],
   "source": [
    "my_df2 = my_df2.append(pd.DataFrame(json.loads(response_W3.text)['data']), ignore_index= True)"
   ]
  },
  {
   "cell_type": "code",
   "execution_count": 95,
   "id": "539c4d94",
   "metadata": {},
   "outputs": [
    {
     "data": {
      "text/html": [
       "<div>\n",
       "<style scoped>\n",
       "    .dataframe tbody tr th:only-of-type {\n",
       "        vertical-align: middle;\n",
       "    }\n",
       "\n",
       "    .dataframe tbody tr th {\n",
       "        vertical-align: top;\n",
       "    }\n",
       "\n",
       "    .dataframe thead th {\n",
       "        text-align: right;\n",
       "    }\n",
       "</style>\n",
       "<table border=\"1\" class=\"dataframe\">\n",
       "  <thead>\n",
       "    <tr style=\"text-align: right;\">\n",
       "      <th></th>\n",
       "      <th>lang</th>\n",
       "      <th>public_metrics</th>\n",
       "      <th>id</th>\n",
       "      <th>possibly_sensitive</th>\n",
       "      <th>text</th>\n",
       "      <th>author_id</th>\n",
       "      <th>created_at</th>\n",
       "      <th>source</th>\n",
       "      <th>attachments</th>\n",
       "    </tr>\n",
       "  </thead>\n",
       "  <tbody>\n",
       "    <tr>\n",
       "      <th>0</th>\n",
       "      <td>en</td>\n",
       "      <td>{'retweet_count': 0, 'reply_count': 0, 'like_c...</td>\n",
       "      <td>1467979913923895298</td>\n",
       "      <td>False</td>\n",
       "      <td>@glaad @Jeopardamy @emilyvdw @Jeopardy Thanx f...</td>\n",
       "      <td>995446130967302144</td>\n",
       "      <td>2021-12-06T22:10:59.000Z</td>\n",
       "      <td>Twitter for iPhone</td>\n",
       "      <td>NaN</td>\n",
       "    </tr>\n",
       "    <tr>\n",
       "      <th>1</th>\n",
       "      <td>en</td>\n",
       "      <td>{'retweet_count': 0, 'reply_count': 0, 'like_c...</td>\n",
       "      <td>1467979782197592075</td>\n",
       "      <td>False</td>\n",
       "      <td>Format: 8-day first round, four profs per day,...</td>\n",
       "      <td>770293085771210752</td>\n",
       "      <td>2021-12-06T22:10:28.000Z</td>\n",
       "      <td>Twitter for iPhone</td>\n",
       "      <td>NaN</td>\n",
       "    </tr>\n",
       "    <tr>\n",
       "      <th>2</th>\n",
       "      <td>en</td>\n",
       "      <td>{'retweet_count': 0, 'reply_count': 0, 'like_c...</td>\n",
       "      <td>1467979250372431878</td>\n",
       "      <td>False</td>\n",
       "      <td>Y'all my professor is going to be a contestant...</td>\n",
       "      <td>2932977243</td>\n",
       "      <td>2021-12-06T22:08:21.000Z</td>\n",
       "      <td>Twitter for iPhone</td>\n",
       "      <td>NaN</td>\n",
       "    </tr>\n",
       "    <tr>\n",
       "      <th>3</th>\n",
       "      <td>en</td>\n",
       "      <td>{'retweet_count': 0, 'reply_count': 1, 'like_c...</td>\n",
       "      <td>1467978490758811657</td>\n",
       "      <td>False</td>\n",
       "      <td>The @Jeopardy Professors Tournament begins tod...</td>\n",
       "      <td>770293085771210752</td>\n",
       "      <td>2021-12-06T22:05:20.000Z</td>\n",
       "      <td>Twitter for iPhone</td>\n",
       "      <td>NaN</td>\n",
       "    </tr>\n",
       "    <tr>\n",
       "      <th>4</th>\n",
       "      <td>en</td>\n",
       "      <td>{'retweet_count': 0, 'reply_count': 0, 'like_c...</td>\n",
       "      <td>1467978245861691397</td>\n",
       "      <td>False</td>\n",
       "      <td>The lovely @missmayim is back hosting @jeopard...</td>\n",
       "      <td>355147215</td>\n",
       "      <td>2021-12-06T22:04:22.000Z</td>\n",
       "      <td>Twitter for Android</td>\n",
       "      <td>NaN</td>\n",
       "    </tr>\n",
       "    <tr>\n",
       "      <th>...</th>\n",
       "      <td>...</td>\n",
       "      <td>...</td>\n",
       "      <td>...</td>\n",
       "      <td>...</td>\n",
       "      <td>...</td>\n",
       "      <td>...</td>\n",
       "      <td>...</td>\n",
       "      <td>...</td>\n",
       "      <td>...</td>\n",
       "    </tr>\n",
       "    <tr>\n",
       "      <th>295</th>\n",
       "      <td>en</td>\n",
       "      <td>{'retweet_count': 829, 'reply_count': 0, 'like...</td>\n",
       "      <td>1467921456986263555</td>\n",
       "      <td>False</td>\n",
       "      <td>RT @patsajak: Due to supply chain issues, Whee...</td>\n",
       "      <td>NaN</td>\n",
       "      <td>2021-12-06T18:18:42.000Z</td>\n",
       "      <td>Twitter Web App</td>\n",
       "      <td>NaN</td>\n",
       "    </tr>\n",
       "    <tr>\n",
       "      <th>296</th>\n",
       "      <td>en</td>\n",
       "      <td>{'retweet_count': 829, 'reply_count': 0, 'like...</td>\n",
       "      <td>1467921384852525059</td>\n",
       "      <td>False</td>\n",
       "      <td>RT @patsajak: Due to supply chain issues, Whee...</td>\n",
       "      <td>NaN</td>\n",
       "      <td>2021-12-06T18:18:25.000Z</td>\n",
       "      <td>Twitter Web App</td>\n",
       "      <td>NaN</td>\n",
       "    </tr>\n",
       "    <tr>\n",
       "      <th>297</th>\n",
       "      <td>en</td>\n",
       "      <td>{'retweet_count': 829, 'reply_count': 0, 'like...</td>\n",
       "      <td>1467921324500819977</td>\n",
       "      <td>False</td>\n",
       "      <td>RT @patsajak: Due to supply chain issues, Whee...</td>\n",
       "      <td>NaN</td>\n",
       "      <td>2021-12-06T18:18:11.000Z</td>\n",
       "      <td>Twitter Web App</td>\n",
       "      <td>NaN</td>\n",
       "    </tr>\n",
       "    <tr>\n",
       "      <th>298</th>\n",
       "      <td>en</td>\n",
       "      <td>{'retweet_count': 0, 'reply_count': 0, 'like_c...</td>\n",
       "      <td>1467921216597938176</td>\n",
       "      <td>False</td>\n",
       "      <td>@patsajak H grt! Nw thr wll b vwll shrtge!!!!!</td>\n",
       "      <td>NaN</td>\n",
       "      <td>2021-12-06T18:17:45.000Z</td>\n",
       "      <td>Twitter for Android</td>\n",
       "      <td>NaN</td>\n",
       "    </tr>\n",
       "    <tr>\n",
       "      <th>299</th>\n",
       "      <td>en</td>\n",
       "      <td>{'retweet_count': 829, 'reply_count': 0, 'like...</td>\n",
       "      <td>1467920865270513667</td>\n",
       "      <td>False</td>\n",
       "      <td>RT @patsajak: Due to supply chain issues, Whee...</td>\n",
       "      <td>NaN</td>\n",
       "      <td>2021-12-06T18:16:21.000Z</td>\n",
       "      <td>Twitter for iPhone</td>\n",
       "      <td>NaN</td>\n",
       "    </tr>\n",
       "  </tbody>\n",
       "</table>\n",
       "<p>300 rows × 9 columns</p>\n",
       "</div>"
      ],
      "text/plain": [
       "    lang                                     public_metrics  \\\n",
       "0     en  {'retweet_count': 0, 'reply_count': 0, 'like_c...   \n",
       "1     en  {'retweet_count': 0, 'reply_count': 0, 'like_c...   \n",
       "2     en  {'retweet_count': 0, 'reply_count': 0, 'like_c...   \n",
       "3     en  {'retweet_count': 0, 'reply_count': 1, 'like_c...   \n",
       "4     en  {'retweet_count': 0, 'reply_count': 0, 'like_c...   \n",
       "..   ...                                                ...   \n",
       "295   en  {'retweet_count': 829, 'reply_count': 0, 'like...   \n",
       "296   en  {'retweet_count': 829, 'reply_count': 0, 'like...   \n",
       "297   en  {'retweet_count': 829, 'reply_count': 0, 'like...   \n",
       "298   en  {'retweet_count': 0, 'reply_count': 0, 'like_c...   \n",
       "299   en  {'retweet_count': 829, 'reply_count': 0, 'like...   \n",
       "\n",
       "                      id  possibly_sensitive  \\\n",
       "0    1467979913923895298               False   \n",
       "1    1467979782197592075               False   \n",
       "2    1467979250372431878               False   \n",
       "3    1467978490758811657               False   \n",
       "4    1467978245861691397               False   \n",
       "..                   ...                 ...   \n",
       "295  1467921456986263555               False   \n",
       "296  1467921384852525059               False   \n",
       "297  1467921324500819977               False   \n",
       "298  1467921216597938176               False   \n",
       "299  1467920865270513667               False   \n",
       "\n",
       "                                                  text           author_id  \\\n",
       "0    @glaad @Jeopardamy @emilyvdw @Jeopardy Thanx f...  995446130967302144   \n",
       "1    Format: 8-day first round, four profs per day,...  770293085771210752   \n",
       "2    Y'all my professor is going to be a contestant...          2932977243   \n",
       "3    The @Jeopardy Professors Tournament begins tod...  770293085771210752   \n",
       "4    The lovely @missmayim is back hosting @jeopard...           355147215   \n",
       "..                                                 ...                 ...   \n",
       "295  RT @patsajak: Due to supply chain issues, Whee...                 NaN   \n",
       "296  RT @patsajak: Due to supply chain issues, Whee...                 NaN   \n",
       "297  RT @patsajak: Due to supply chain issues, Whee...                 NaN   \n",
       "298     @patsajak H grt! Nw thr wll b vwll shrtge!!!!!                 NaN   \n",
       "299  RT @patsajak: Due to supply chain issues, Whee...                 NaN   \n",
       "\n",
       "                   created_at               source attachments  \n",
       "0    2021-12-06T22:10:59.000Z   Twitter for iPhone         NaN  \n",
       "1    2021-12-06T22:10:28.000Z   Twitter for iPhone         NaN  \n",
       "2    2021-12-06T22:08:21.000Z   Twitter for iPhone         NaN  \n",
       "3    2021-12-06T22:05:20.000Z   Twitter for iPhone         NaN  \n",
       "4    2021-12-06T22:04:22.000Z  Twitter for Android         NaN  \n",
       "..                        ...                  ...         ...  \n",
       "295  2021-12-06T18:18:42.000Z      Twitter Web App         NaN  \n",
       "296  2021-12-06T18:18:25.000Z      Twitter Web App         NaN  \n",
       "297  2021-12-06T18:18:11.000Z      Twitter Web App         NaN  \n",
       "298  2021-12-06T18:17:45.000Z  Twitter for Android         NaN  \n",
       "299  2021-12-06T18:16:21.000Z   Twitter for iPhone         NaN  \n",
       "\n",
       "[300 rows x 9 columns]"
      ]
     },
     "execution_count": 95,
     "metadata": {},
     "output_type": "execute_result"
    }
   ],
   "source": [
    "my_df2"
   ]
  },
  {
   "cell_type": "code",
   "execution_count": 96,
   "id": "330d5bfb",
   "metadata": {},
   "outputs": [
    {
     "data": {
      "text/plain": [
       "{'newest_id': '1467979913923895298',\n",
       " 'oldest_id': '1467929873943609345',\n",
       " 'result_count': 100,\n",
       " 'next_token': 'b26v89c19zqg8o3fpdy8iseaefhfw53e8zwxxg4b94kfx'}"
      ]
     },
     "execution_count": 96,
     "metadata": {},
     "output_type": "execute_result"
    }
   ],
   "source": [
    "response_1_dict['meta']"
   ]
  },
  {
   "cell_type": "code",
   "execution_count": 97,
   "id": "cc7cfbc8",
   "metadata": {},
   "outputs": [],
   "source": [
    "response_W4 = requests.request(\"GET\", my_api_W_url, headers = header)"
   ]
  },
  {
   "cell_type": "code",
   "execution_count": 98,
   "id": "f8b82763",
   "metadata": {},
   "outputs": [
    {
     "data": {
      "text/plain": [
       "'{\"data\":[{\"id\":\"1467929823112835073\",\"source\":\"Twitter for iPhone\",\"public_metrics\":{\"retweet_count\":830,\"reply_count\":0,\"like_count\":0,\"quote_count\":0},\"created_at\":\"2021-12-06T18:51:57.000Z\",\"text\":\"RT @patsajak: Due to supply chain issues, Wheel of Fortune players will be limited to three vowel purchases per show until further notice.\",\"possibly_sensitive\":false,\"lang\":\"en\"},{\"id\":\"1467929721396776965\",\"source\":\"Twitter for iPhone\",\"public_metrics\":{\"retweet_count\":830,\"reply_count\":0,\"like_count\":0,\"quote_count\":0},\"created_at\":\"2021-12-06T18:51:33.000Z\",\"text\":\"RT @patsajak: Due to supply chain issues, Wheel of Fortune players will be limited to three vowel purchases per show until further notice.\",\"possibly_sensitive\":false,\"lang\":\"en\"},{\"id\":\"1467929575644704772\",\"source\":\"Twitter Web App\",\"public_metrics\":{\"retweet_count\":830,\"reply_count\":0,\"like_count\":0,\"quote_count\":0},\"created_at\":\"2021-12-06T18:50:58.000Z\",\"text\":\"RT @patsajak: Due to supply chain issues, Wheel of Fortune players will be limited to three vowel purchases per show until further notice.\",\"possibly_sensitive\":false,\"lang\":\"en\"},{\"id\":\"1467929563086962706\",\"source\":\"Twitter for iPhone\",\"public_metrics\":{\"retweet_count\":830,\"reply_count\":0,\"like_count\":0,\"quote_count\":0},\"created_at\":\"2021-12-06T18:50:55.000Z\",\"text\":\"RT @patsajak: Due to supply chain issues, Wheel of Fortune players will be limited to three vowel purchases per show until further notice.\",\"possibly_sensitive\":false,\"lang\":\"en\"},{\"id\":\"1467929489711771655\",\"source\":\"Twitter for iPhone\",\"public_metrics\":{\"retweet_count\":830,\"reply_count\":0,\"like_count\":0,\"quote_count\":0},\"created_at\":\"2021-12-06T18:50:37.000Z\",\"text\":\"RT @patsajak: Due to supply chain issues, Wheel of Fortune players will be limited to three vowel purchases per show until further notice.\",\"possibly_sensitive\":false,\"lang\":\"en\"},{\"id\":\"1467929383704965128\",\"source\":\"Twitter Web App\",\"public_metrics\":{\"retweet_count\":830,\"reply_count\":0,\"like_count\":0,\"quote_count\":0},\"created_at\":\"2021-12-06T18:50:12.000Z\",\"text\":\"RT @patsajak: Due to supply chain issues, Wheel of Fortune players will be limited to three vowel purchases per show until further notice.\",\"possibly_sensitive\":false,\"lang\":\"en\"},{\"id\":\"1467929350498570251\",\"source\":\"Twitter for iPhone\",\"public_metrics\":{\"retweet_count\":830,\"reply_count\":0,\"like_count\":0,\"quote_count\":0},\"created_at\":\"2021-12-06T18:50:04.000Z\",\"text\":\"RT @patsajak: Due to supply chain issues, Wheel of Fortune players will be limited to three vowel purchases per show until further notice.\",\"possibly_sensitive\":false,\"lang\":\"en\"},{\"id\":\"1467929255736655879\",\"source\":\"Twitter for iPhone\",\"public_metrics\":{\"retweet_count\":830,\"reply_count\":0,\"like_count\":0,\"quote_count\":0},\"created_at\":\"2021-12-06T18:49:42.000Z\",\"text\":\"RT @patsajak: Due to supply chain issues, Wheel of Fortune players will be limited to three vowel purchases per show until further notice.\",\"possibly_sensitive\":false,\"lang\":\"en\"},{\"id\":\"1467929229941612550\",\"source\":\"Twitter for Android\",\"public_metrics\":{\"retweet_count\":830,\"reply_count\":0,\"like_count\":0,\"quote_count\":0},\"created_at\":\"2021-12-06T18:49:35.000Z\",\"text\":\"RT @patsajak: Due to supply chain issues, Wheel of Fortune players will be limited to three vowel purchases per show until further notice.\",\"possibly_sensitive\":false,\"lang\":\"en\"},{\"id\":\"1467929131648270344\",\"source\":\"Twitter for iPad\",\"public_metrics\":{\"retweet_count\":0,\"reply_count\":0,\"like_count\":0,\"quote_count\":0},\"created_at\":\"2021-12-06T18:49:12.000Z\",\"text\":\"@patsajak It may be all they need…\",\"possibly_sensitive\":false,\"lang\":\"en\"},{\"id\":\"1467929009996587017\",\"source\":\"Twitter Web App\",\"public_metrics\":{\"retweet_count\":830,\"reply_count\":0,\"like_count\":0,\"quote_count\":0},\"created_at\":\"2021-12-06T18:48:43.000Z\",\"text\":\"RT @patsajak: Due to supply chain issues, Wheel of Fortune players will be limited to three vowel purchases per show until further notice.\",\"possibly_sensitive\":false,\"lang\":\"en\"},{\"id\":\"1467928738121793540\",\"source\":\"Twitter for Android\",\"public_metrics\":{\"retweet_count\":830,\"reply_count\":0,\"like_count\":0,\"quote_count\":0},\"created_at\":\"2021-12-06T18:47:38.000Z\",\"text\":\"RT @patsajak: Due to supply chain issues, Wheel of Fortune players will be limited to three vowel purchases per show until further notice.\",\"possibly_sensitive\":false,\"lang\":\"en\"},{\"id\":\"1467928654932058123\",\"source\":\"Twitter for iPhone\",\"public_metrics\":{\"retweet_count\":16,\"reply_count\":0,\"like_count\":0,\"quote_count\":0},\"created_at\":\"2021-12-06T18:47:18.000Z\",\"text\":\"RT @bluegrass24: Seawing princesses!! I like headcanon that they all inherited from their father the light markings near their eyes\\\\n\\\\n#sketc…\",\"possibly_sensitive\":false,\"lang\":\"en\"},{\"id\":\"1467928580789313540\",\"source\":\"Twitter for Android\",\"public_metrics\":{\"retweet_count\":830,\"reply_count\":0,\"like_count\":0,\"quote_count\":0},\"created_at\":\"2021-12-06T18:47:01.000Z\",\"text\":\"RT @patsajak: Due to supply chain issues, Wheel of Fortune players will be limited to three vowel purchases per show until further notice.\",\"possibly_sensitive\":false,\"lang\":\"en\"},{\"id\":\"1467928487784857608\",\"source\":\"Twitter Web App\",\"public_metrics\":{\"retweet_count\":830,\"reply_count\":0,\"like_count\":0,\"quote_count\":0},\"created_at\":\"2021-12-06T18:46:38.000Z\",\"text\":\"RT @patsajak: Due to supply chain issues, Wheel of Fortune players will be limited to three vowel purchases per show until further notice.\",\"possibly_sensitive\":false,\"lang\":\"en\"},{\"id\":\"1467928458135228420\",\"source\":\"Twitter for iPhone\",\"public_metrics\":{\"retweet_count\":830,\"reply_count\":0,\"like_count\":0,\"quote_count\":0},\"created_at\":\"2021-12-06T18:46:31.000Z\",\"text\":\"RT @patsajak: Due to supply chain issues, Wheel of Fortune players will be limited to three vowel purchases per show until further notice.\",\"possibly_sensitive\":false,\"lang\":\"en\"},{\"id\":\"1467928353671987206\",\"source\":\"Twitter Web App\",\"public_metrics\":{\"retweet_count\":830,\"reply_count\":0,\"like_count\":0,\"quote_count\":0},\"created_at\":\"2021-12-06T18:46:06.000Z\",\"text\":\"RT @patsajak: Due to supply chain issues, Wheel of Fortune players will be limited to three vowel purchases per show until further notice.\",\"possibly_sensitive\":false,\"lang\":\"en\"},{\"id\":\"1467928328095117312\",\"source\":\"Twitter for iPhone\",\"public_metrics\":{\"retweet_count\":830,\"reply_count\":0,\"like_count\":0,\"quote_count\":0},\"created_at\":\"2021-12-06T18:46:00.000Z\",\"text\":\"RT @patsajak: Due to supply chain issues, Wheel of Fortune players will be limited to three vowel purchases per show until further notice.\",\"possibly_sensitive\":false,\"lang\":\"en\"},{\"id\":\"1467928294481932302\",\"source\":\"Twitter for iPhone\",\"public_metrics\":{\"retweet_count\":830,\"reply_count\":0,\"like_count\":0,\"quote_count\":0},\"created_at\":\"2021-12-06T18:45:52.000Z\",\"text\":\"RT @patsajak: Due to supply chain issues, Wheel of Fortune players will be limited to three vowel purchases per show until further notice.\",\"possibly_sensitive\":false,\"lang\":\"en\"},{\"id\":\"1467928192942239744\",\"source\":\"Twitter for Android\",\"public_metrics\":{\"retweet_count\":830,\"reply_count\":0,\"like_count\":0,\"quote_count\":0},\"created_at\":\"2021-12-06T18:45:28.000Z\",\"text\":\"RT @patsajak: Due to supply chain issues, Wheel of Fortune players will be limited to three vowel purchases per show until further notice.\",\"possibly_sensitive\":false,\"lang\":\"en\"},{\"id\":\"1467928067578507266\",\"source\":\"Twitter for iPhone\",\"public_metrics\":{\"retweet_count\":830,\"reply_count\":0,\"like_count\":0,\"quote_count\":0},\"created_at\":\"2021-12-06T18:44:58.000Z\",\"text\":\"RT @patsajak: Due to supply chain issues, Wheel of Fortune players will be limited to three vowel purchases per show until further notice.\",\"possibly_sensitive\":false,\"lang\":\"en\"},{\"id\":\"1467928063849623555\",\"source\":\"Twitter for iPhone\",\"public_metrics\":{\"retweet_count\":830,\"reply_count\":0,\"like_count\":0,\"quote_count\":0},\"created_at\":\"2021-12-06T18:44:57.000Z\",\"text\":\"RT @patsajak: Due to supply chain issues, Wheel of Fortune players will be limited to three vowel purchases per show until further notice.\",\"possibly_sensitive\":false,\"lang\":\"en\"},{\"id\":\"1467928010103955460\",\"source\":\"Twitter Web App\",\"public_metrics\":{\"retweet_count\":830,\"reply_count\":0,\"like_count\":0,\"quote_count\":0},\"created_at\":\"2021-12-06T18:44:45.000Z\",\"text\":\"RT @patsajak: Due to supply chain issues, Wheel of Fortune players will be limited to three vowel purchases per show until further notice.\",\"possibly_sensitive\":false,\"lang\":\"en\"},{\"id\":\"1467927771632570376\",\"source\":\"Twitter for iPhone\",\"public_metrics\":{\"retweet_count\":830,\"reply_count\":0,\"like_count\":0,\"quote_count\":0},\"created_at\":\"2021-12-06T18:43:48.000Z\",\"text\":\"RT @patsajak: Due to supply chain issues, Wheel of Fortune players will be limited to three vowel purchases per show until further notice.\",\"possibly_sensitive\":false,\"lang\":\"en\"},{\"id\":\"1467927756499529728\",\"source\":\"Twitter for iPhone\",\"public_metrics\":{\"retweet_count\":830,\"reply_count\":0,\"like_count\":0,\"quote_count\":0},\"created_at\":\"2021-12-06T18:43:44.000Z\",\"text\":\"RT @patsajak: Due to supply chain issues, Wheel of Fortune players will be limited to three vowel purchases per show until further notice.\",\"possibly_sensitive\":false,\"lang\":\"en\"},{\"id\":\"1467927730058502152\",\"source\":\"Twitter for iPad\",\"public_metrics\":{\"retweet_count\":830,\"reply_count\":0,\"like_count\":0,\"quote_count\":0},\"created_at\":\"2021-12-06T18:43:38.000Z\",\"text\":\"RT @patsajak: Due to supply chain issues, Wheel of Fortune players will be limited to three vowel purchases per show until further notice.\",\"possibly_sensitive\":false,\"lang\":\"en\"},{\"id\":\"1467927700627243010\",\"source\":\"Twitter for iPhone\",\"public_metrics\":{\"retweet_count\":830,\"reply_count\":0,\"like_count\":0,\"quote_count\":0},\"created_at\":\"2021-12-06T18:43:31.000Z\",\"text\":\"RT @patsajak: Due to supply chain issues, Wheel of Fortune players will be limited to three vowel purchases per show until further notice.\",\"possibly_sensitive\":false,\"lang\":\"en\"},{\"id\":\"1467927652774424582\",\"source\":\"Twitter for iPhone\",\"attachments\":{\"media_keys\":[\"7_1241450574001983490\"]},\"public_metrics\":{\"retweet_count\":1,\"reply_count\":0,\"like_count\":17,\"quote_count\":0},\"created_at\":\"2021-12-06T18:43:19.000Z\",\"text\":\"@patsajak That’s fine. Three was sufficient for me.  https://t.co/sfMnWh4jU6\",\"possibly_sensitive\":false,\"lang\":\"en\"},{\"id\":\"1467927647619592200\",\"source\":\"Twitter for iPhone\",\"public_metrics\":{\"retweet_count\":830,\"reply_count\":0,\"like_count\":0,\"quote_count\":0},\"created_at\":\"2021-12-06T18:43:18.000Z\",\"text\":\"RT @patsajak: Due to supply chain issues, Wheel of Fortune players will be limited to three vowel purchases per show until further notice.\",\"possibly_sensitive\":false,\"lang\":\"en\"},{\"id\":\"1467927534008512531\",\"source\":\"Twitter Web App\",\"public_metrics\":{\"retweet_count\":830,\"reply_count\":0,\"like_count\":0,\"quote_count\":0},\"created_at\":\"2021-12-06T18:42:51.000Z\",\"text\":\"RT @patsajak: Due to supply chain issues, Wheel of Fortune players will be limited to three vowel purchases per show until further notice.\",\"possibly_sensitive\":false,\"lang\":\"en\"},{\"id\":\"1467927511514464259\",\"source\":\"Twitter for iPhone\",\"public_metrics\":{\"retweet_count\":830,\"reply_count\":0,\"like_count\":0,\"quote_count\":0},\"created_at\":\"2021-12-06T18:42:46.000Z\",\"text\":\"RT @patsajak: Due to supply chain issues, Wheel of Fortune players will be limited to three vowel purchases per show until further notice.\",\"possibly_sensitive\":false,\"lang\":\"en\"},{\"id\":\"1467927505105477633\",\"source\":\"Twitter for iPhone\",\"public_metrics\":{\"retweet_count\":830,\"reply_count\":0,\"like_count\":0,\"quote_count\":0},\"created_at\":\"2021-12-06T18:42:44.000Z\",\"text\":\"RT @patsajak: Due to supply chain issues, Wheel of Fortune players will be limited to three vowel purchases per show until further notice.\",\"possibly_sensitive\":false,\"lang\":\"en\"},{\"id\":\"1467927397622239238\",\"source\":\"Twitter Web App\",\"public_metrics\":{\"retweet_count\":830,\"reply_count\":0,\"like_count\":0,\"quote_count\":0},\"created_at\":\"2021-12-06T18:42:19.000Z\",\"text\":\"RT @patsajak: Due to supply chain issues, Wheel of Fortune players will be limited to three vowel purchases per show until further notice.\",\"possibly_sensitive\":false,\"lang\":\"en\"},{\"id\":\"1467927132257103874\",\"source\":\"Twitter for iPhone\",\"public_metrics\":{\"retweet_count\":830,\"reply_count\":0,\"like_count\":0,\"quote_count\":0},\"created_at\":\"2021-12-06T18:41:15.000Z\",\"text\":\"RT @patsajak: Due to supply chain issues, Wheel of Fortune players will be limited to three vowel purchases per show until further notice.\",\"possibly_sensitive\":false,\"lang\":\"en\"},{\"id\":\"1467927106445320199\",\"source\":\"Twitter for Android\",\"public_metrics\":{\"retweet_count\":830,\"reply_count\":0,\"like_count\":0,\"quote_count\":0},\"created_at\":\"2021-12-06T18:41:09.000Z\",\"text\":\"RT @patsajak: Due to supply chain issues, Wheel of Fortune players will be limited to three vowel purchases per show until further notice.\",\"possibly_sensitive\":false,\"lang\":\"en\"},{\"id\":\"1467927103119273985\",\"source\":\"Twitter for Android\",\"public_metrics\":{\"retweet_count\":830,\"reply_count\":0,\"like_count\":0,\"quote_count\":0},\"created_at\":\"2021-12-06T18:41:08.000Z\",\"text\":\"RT @patsajak: Due to supply chain issues, Wheel of Fortune players will be limited to three vowel purchases per show until further notice.\",\"possibly_sensitive\":false,\"lang\":\"en\"},{\"id\":\"1467927062698770434\",\"source\":\"Twitter for iPhone\",\"public_metrics\":{\"retweet_count\":830,\"reply_count\":0,\"like_count\":0,\"quote_count\":0},\"created_at\":\"2021-12-06T18:40:59.000Z\",\"text\":\"RT @patsajak: Due to supply chain issues, Wheel of Fortune players will be limited to three vowel purchases per show until further notice.\",\"possibly_sensitive\":false,\"lang\":\"en\"},{\"id\":\"1467927012128006144\",\"source\":\"Twitter for iPhone\",\"public_metrics\":{\"retweet_count\":830,\"reply_count\":0,\"like_count\":0,\"quote_count\":0},\"created_at\":\"2021-12-06T18:40:47.000Z\",\"text\":\"RT @patsajak: Due to supply chain issues, Wheel of Fortune players will be limited to three vowel purchases per show until further notice.\",\"possibly_sensitive\":false,\"lang\":\"en\"},{\"id\":\"1467926977902432262\",\"source\":\"Twitter for iPad\",\"public_metrics\":{\"retweet_count\":830,\"reply_count\":0,\"like_count\":0,\"quote_count\":0},\"created_at\":\"2021-12-06T18:40:38.000Z\",\"text\":\"RT @patsajak: Due to supply chain issues, Wheel of Fortune players will be limited to three vowel purchases per show until further notice.\",\"possibly_sensitive\":false,\"lang\":\"en\"},{\"id\":\"1467926898068135943\",\"source\":\"Twitter for iPhone\",\"public_metrics\":{\"retweet_count\":830,\"reply_count\":0,\"like_count\":0,\"quote_count\":0},\"created_at\":\"2021-12-06T18:40:19.000Z\",\"text\":\"RT @patsajak: Due to supply chain issues, Wheel of Fortune players will be limited to three vowel purchases per show until further notice.\",\"possibly_sensitive\":false,\"lang\":\"en\"},{\"id\":\"1467926868204658695\",\"source\":\"Twitter Web App\",\"public_metrics\":{\"retweet_count\":0,\"reply_count\":0,\"like_count\":0,\"quote_count\":0},\"created_at\":\"2021-12-06T18:40:12.000Z\",\"text\":\"@patsajak thus begins the descent into the Fifth Circle of Hell\",\"possibly_sensitive\":false,\"lang\":\"en\"},{\"id\":\"1467926845421236229\",\"source\":\"Twitter Web App\",\"public_metrics\":{\"retweet_count\":830,\"reply_count\":0,\"like_count\":0,\"quote_count\":0},\"created_at\":\"2021-12-06T18:40:07.000Z\",\"text\":\"RT @patsajak: Due to supply chain issues, Wheel of Fortune players will be limited to three vowel purchases per show until further notice.\",\"possibly_sensitive\":false,\"lang\":\"en\"},{\"id\":\"1467926784956116996\",\"source\":\"Talon Android\",\"public_metrics\":{\"retweet_count\":830,\"reply_count\":0,\"like_count\":0,\"quote_count\":0},\"created_at\":\"2021-12-06T18:39:52.000Z\",\"text\":\"RT @patsajak: Due to supply chain issues, Wheel of Fortune players will be limited to three vowel purchases per show until further notice.\",\"possibly_sensitive\":false,\"lang\":\"en\"},{\"id\":\"1467926782997196800\",\"source\":\"Twitter for iPhone\",\"public_metrics\":{\"retweet_count\":830,\"reply_count\":0,\"like_count\":0,\"quote_count\":0},\"created_at\":\"2021-12-06T18:39:52.000Z\",\"text\":\"RT @patsajak: Due to supply chain issues, Wheel of Fortune players will be limited to three vowel purchases per show until further notice.\",\"possibly_sensitive\":false,\"lang\":\"en\"},{\"id\":\"1467926688927399936\",\"source\":\"Twitter Web App\",\"public_metrics\":{\"retweet_count\":830,\"reply_count\":0,\"like_count\":0,\"quote_count\":0},\"created_at\":\"2021-12-06T18:39:30.000Z\",\"text\":\"RT @patsajak: Due to supply chain issues, Wheel of Fortune players will be limited to three vowel purchases per show until further notice.\",\"possibly_sensitive\":false,\"lang\":\"en\"},{\"id\":\"1467926586527604736\",\"source\":\"Twitter for Android\",\"public_metrics\":{\"retweet_count\":830,\"reply_count\":0,\"like_count\":0,\"quote_count\":0},\"created_at\":\"2021-12-06T18:39:05.000Z\",\"text\":\"RT @patsajak: Due to supply chain issues, Wheel of Fortune players will be limited to three vowel purchases per show until further notice.\",\"possibly_sensitive\":false,\"lang\":\"en\"},{\"id\":\"1467926527698685953\",\"source\":\"Twitter for Android\",\"public_metrics\":{\"retweet_count\":830,\"reply_count\":0,\"like_count\":0,\"quote_count\":0},\"created_at\":\"2021-12-06T18:38:51.000Z\",\"text\":\"RT @patsajak: Due to supply chain issues, Wheel of Fortune players will be limited to three vowel purchases per show until further notice.\",\"possibly_sensitive\":false,\"lang\":\"en\"},{\"id\":\"1467926525664235527\",\"source\":\"Twitter Web App\",\"public_metrics\":{\"retweet_count\":830,\"reply_count\":0,\"like_count\":0,\"quote_count\":0},\"created_at\":\"2021-12-06T18:38:51.000Z\",\"text\":\"RT @patsajak: Due to supply chain issues, Wheel of Fortune players will be limited to three vowel purchases per show until further notice.\",\"possibly_sensitive\":false,\"lang\":\"en\"},{\"id\":\"1467926348937236495\",\"source\":\"Twitter for Android\",\"public_metrics\":{\"retweet_count\":830,\"reply_count\":0,\"like_count\":0,\"quote_count\":0},\"created_at\":\"2021-12-06T18:38:08.000Z\",\"text\":\"RT @patsajak: Due to supply chain issues, Wheel of Fortune players will be limited to three vowel purchases per show until further notice.\",\"possibly_sensitive\":false,\"lang\":\"en\"},{\"id\":\"1467926234831015939\",\"source\":\"Twitter for iPhone\",\"public_metrics\":{\"retweet_count\":830,\"reply_count\":0,\"like_count\":0,\"quote_count\":0},\"created_at\":\"2021-12-06T18:37:41.000Z\",\"text\":\"RT @patsajak: Due to supply chain issues, Wheel of Fortune players will be limited to three vowel purchases per show until further notice.\",\"possibly_sensitive\":false,\"lang\":\"en\"},{\"id\":\"1467926223368036354\",\"source\":\"Twitter for Mac\",\"public_metrics\":{\"retweet_count\":830,\"reply_count\":0,\"like_count\":0,\"quote_count\":0},\"created_at\":\"2021-12-06T18:37:39.000Z\",\"text\":\"RT @patsajak: Due to supply chain issues, Wheel of Fortune players will be limited to three vowel purchases per show until further notice.\",\"possibly_sensitive\":false,\"lang\":\"en\"},{\"id\":\"1467926031638188038\",\"source\":\"Twitter for iPhone\",\"public_metrics\":{\"retweet_count\":830,\"reply_count\":0,\"like_count\":0,\"quote_count\":0},\"created_at\":\"2021-12-06T18:36:53.000Z\",\"text\":\"RT @patsajak: Due to supply chain issues, Wheel of Fortune players will be limited to three vowel purchases per show until further notice.\",\"possibly_sensitive\":false,\"lang\":\"en\"},{\"id\":\"1467925989883793410\",\"source\":\"Twitter Web App\",\"public_metrics\":{\"retweet_count\":830,\"reply_count\":0,\"like_count\":0,\"quote_count\":0},\"created_at\":\"2021-12-06T18:36:43.000Z\",\"text\":\"RT @patsajak: Due to supply chain issues, Wheel of Fortune players will be limited to three vowel purchases per show until further notice.\",\"possibly_sensitive\":false,\"lang\":\"en\"},{\"id\":\"1467925938465738755\",\"source\":\"Twitter for iPhone\",\"public_metrics\":{\"retweet_count\":830,\"reply_count\":0,\"like_count\":0,\"quote_count\":0},\"created_at\":\"2021-12-06T18:36:31.000Z\",\"text\":\"RT @patsajak: Due to supply chain issues, Wheel of Fortune players will be limited to three vowel purchases per show until further notice.\",\"possibly_sensitive\":false,\"lang\":\"en\"},{\"id\":\"1467925653148389380\",\"source\":\"Twitter for iPhone\",\"public_metrics\":{\"retweet_count\":830,\"reply_count\":0,\"like_count\":0,\"quote_count\":0},\"created_at\":\"2021-12-06T18:35:23.000Z\",\"text\":\"RT @patsajak: Due to supply chain issues, Wheel of Fortune players will be limited to three vowel purchases per show until further notice.\",\"possibly_sensitive\":false,\"lang\":\"en\"},{\"id\":\"1467925438907486209\",\"source\":\"Twitter for iPhone\",\"public_metrics\":{\"retweet_count\":0,\"reply_count\":1,\"like_count\":0,\"quote_count\":0},\"created_at\":\"2021-12-06T18:34:32.000Z\",\"text\":\"@patsajak Love that we can blame all shortages on the supply chain!  \\\\uD83D\\\\uDE0A\",\"possibly_sensitive\":false,\"lang\":\"en\"},{\"id\":\"1467925405168455680\",\"source\":\"Twitter for Android\",\"public_metrics\":{\"retweet_count\":830,\"reply_count\":0,\"like_count\":0,\"quote_count\":0},\"created_at\":\"2021-12-06T18:34:23.000Z\",\"text\":\"RT @patsajak: Due to supply chain issues, Wheel of Fortune players will be limited to three vowel purchases per show until further notice.\",\"possibly_sensitive\":false,\"lang\":\"en\"},{\"id\":\"1467925078335705095\",\"source\":\"Twitter Web App\",\"public_metrics\":{\"retweet_count\":0,\"reply_count\":0,\"like_count\":0,\"quote_count\":0},\"created_at\":\"2021-12-06T18:33:06.000Z\",\"text\":\"@patsajak Maybe they\\'ll stop buying a vowel immediately before solving it (and when it\\'s clear that they already knew what the answer was but bought a vowel anyway).\",\"possibly_sensitive\":false,\"lang\":\"en\"},{\"id\":\"1467925054193381377\",\"source\":\"Twitter for Android\",\"public_metrics\":{\"retweet_count\":16,\"reply_count\":0,\"like_count\":0,\"quote_count\":0},\"created_at\":\"2021-12-06T18:33:00.000Z\",\"text\":\"RT @bluegrass24: Seawing princesses!! I like headcanon that they all inherited from their father the light markings near their eyes\\\\n\\\\n#sketc…\",\"possibly_sensitive\":false,\"lang\":\"en\"},{\"id\":\"1467924922366578688\",\"source\":\"Twitter for iPhone\",\"public_metrics\":{\"retweet_count\":16,\"reply_count\":0,\"like_count\":0,\"quote_count\":0},\"created_at\":\"2021-12-06T18:32:28.000Z\",\"text\":\"RT @bluegrass24: Seawing princesses!! I like headcanon that they all inherited from their father the light markings near their eyes\\\\n\\\\n#sketc…\",\"possibly_sensitive\":false,\"lang\":\"en\"},{\"id\":\"1467924864417861643\",\"source\":\"Twitter for iPad\",\"public_metrics\":{\"retweet_count\":830,\"reply_count\":0,\"like_count\":0,\"quote_count\":0},\"created_at\":\"2021-12-06T18:32:15.000Z\",\"text\":\"RT @patsajak: Due to supply chain issues, Wheel of Fortune players will be limited to three vowel purchases per show until further notice.\",\"possibly_sensitive\":false,\"lang\":\"en\"},{\"id\":\"1467924850413088777\",\"source\":\"Twitter for iPhone\",\"public_metrics\":{\"retweet_count\":0,\"reply_count\":0,\"like_count\":0,\"quote_count\":0},\"created_at\":\"2021-12-06T18:32:11.000Z\",\"text\":\"@patsajak @Richard_Harambe And please do not select X then buy an I as this may insult someone.\",\"possibly_sensitive\":false,\"lang\":\"en\"},{\"id\":\"1467924623794880521\",\"source\":\"Twitter for Android\",\"public_metrics\":{\"retweet_count\":830,\"reply_count\":0,\"like_count\":0,\"quote_count\":0},\"created_at\":\"2021-12-06T18:31:17.000Z\",\"text\":\"RT @patsajak: Due to supply chain issues, Wheel of Fortune players will be limited to three vowel purchases per show until further notice.\",\"possibly_sensitive\":false,\"lang\":\"en\"},{\"id\":\"1467924459025846276\",\"source\":\"Twitter for Android\",\"public_metrics\":{\"retweet_count\":830,\"reply_count\":0,\"like_count\":0,\"quote_count\":0},\"created_at\":\"2021-12-06T18:30:38.000Z\",\"text\":\"RT @patsajak: Due to supply chain issues, Wheel of Fortune players will be limited to three vowel purchases per show until further notice.\",\"possibly_sensitive\":false,\"lang\":\"en\"},{\"id\":\"1467924368110063628\",\"source\":\"Twitter for iPad\",\"public_metrics\":{\"retweet_count\":0,\"reply_count\":0,\"like_count\":2,\"quote_count\":0},\"created_at\":\"2021-12-06T18:30:16.000Z\",\"text\":\"@TonyBrunoShow @patsajak I forgot that they used to have to shop on Wheel of Fortune!\\\\uD83D\\\\uDE02\\\\uD83E\\\\uDD23\",\"possibly_sensitive\":false,\"lang\":\"en\"},{\"id\":\"1467924128623517703\",\"source\":\"Twitter for iPad\",\"public_metrics\":{\"retweet_count\":830,\"reply_count\":0,\"like_count\":0,\"quote_count\":0},\"created_at\":\"2021-12-06T18:29:19.000Z\",\"text\":\"RT @patsajak: Due to supply chain issues, Wheel of Fortune players will be limited to three vowel purchases per show until further notice.\",\"possibly_sensitive\":false,\"lang\":\"en\"},{\"id\":\"1467924039058345987\",\"source\":\"Twitter for iPhone\",\"attachments\":{\"media_keys\":[\"3_1467924035145134082\"]},\"public_metrics\":{\"retweet_count\":1,\"reply_count\":0,\"like_count\":2,\"quote_count\":0},\"created_at\":\"2021-12-06T18:28:58.000Z\",\"text\":\"4 bbs open for offers &lt;3 PayPal offers are preferred but willing to look at offers! (used albluu’s rad base :) )\\\\n#adoptable #adopts #adoptables #dragon #dragonoc #art #digitalart #furry #furryartist #furryadopt #wof #WingsofFire #wofadopt #fantasy #dragons #OC #ocadopt #hqdesign https://t.co/MRQrlTVxI6\",\"possibly_sensitive\":false,\"lang\":\"en\"},{\"id\":\"1467923944359575561\",\"source\":\"Twitter for iPhone\",\"public_metrics\":{\"retweet_count\":830,\"reply_count\":0,\"like_count\":0,\"quote_count\":0},\"created_at\":\"2021-12-06T18:28:35.000Z\",\"text\":\"RT @patsajak: Due to supply chain issues, Wheel of Fortune players will be limited to three vowel purchases per show until further notice.\",\"possibly_sensitive\":false,\"lang\":\"en\"},{\"id\":\"1467923800704626689\",\"source\":\"Twitter for iPhone\",\"public_metrics\":{\"retweet_count\":0,\"reply_count\":0,\"like_count\":0,\"quote_count\":0},\"created_at\":\"2021-12-06T18:28:01.000Z\",\"text\":\"@patsajak You\\'re so funny! \\\\uD83D\\\\uDE02\",\"possibly_sensitive\":false,\"lang\":\"en\"},{\"id\":\"1467923799161344000\",\"source\":\"Twitter Web App\",\"public_metrics\":{\"retweet_count\":830,\"reply_count\":0,\"like_count\":0,\"quote_count\":0},\"created_at\":\"2021-12-06T18:28:01.000Z\",\"text\":\"RT @patsajak: Due to supply chain issues, Wheel of Fortune players will be limited to three vowel purchases per show until further notice.\",\"possibly_sensitive\":false,\"lang\":\"en\"},{\"id\":\"1467923797865123842\",\"source\":\"Twitter for iPhone\",\"public_metrics\":{\"retweet_count\":830,\"reply_count\":0,\"like_count\":0,\"quote_count\":0},\"created_at\":\"2021-12-06T18:28:00.000Z\",\"text\":\"RT @patsajak: Due to supply chain issues, Wheel of Fortune players will be limited to three vowel purchases per show until further notice.\",\"possibly_sensitive\":false,\"lang\":\"en\"},{\"id\":\"1467923786569818118\",\"source\":\"Twitter Web App\",\"public_metrics\":{\"retweet_count\":1,\"reply_count\":0,\"like_count\":0,\"quote_count\":0},\"created_at\":\"2021-12-06T18:27:58.000Z\",\"text\":\"RT @mom2zwr: @TonyBrunoShow @patsajak You always had to buy the $50 Faberge Organics shampoo too.\\\\n\\\\nI\\'ll take the rest on a Van Cleef &amp; Arpe…\",\"possibly_sensitive\":false,\"lang\":\"en\"},{\"id\":\"1467923745406922758\",\"source\":\"Twitter for iPhone\",\"public_metrics\":{\"retweet_count\":830,\"reply_count\":0,\"like_count\":0,\"quote_count\":0},\"created_at\":\"2021-12-06T18:27:48.000Z\",\"text\":\"RT @patsajak: Due to supply chain issues, Wheel of Fortune players will be limited to three vowel purchases per show until further notice.\",\"possibly_sensitive\":false,\"lang\":\"en\"},{\"id\":\"1467923646291263493\",\"source\":\"Twitter for Android\",\"public_metrics\":{\"retweet_count\":1,\"reply_count\":0,\"like_count\":2,\"quote_count\":0},\"created_at\":\"2021-12-06T18:27:24.000Z\",\"text\":\"@TonyBrunoShow @patsajak You always had to buy the $50 Faberge Organics shampoo too.\\\\n\\\\nI\\'ll take the rest on a Van Cleef &amp; Arpels gift certificate,  Pat.\",\"possibly_sensitive\":false,\"lang\":\"en\"},{\"id\":\"1467923568918941698\",\"source\":\"Twitter for iPhone\",\"public_metrics\":{\"retweet_count\":830,\"reply_count\":0,\"like_count\":0,\"quote_count\":0},\"created_at\":\"2021-12-06T18:27:06.000Z\",\"text\":\"RT @patsajak: Due to supply chain issues, Wheel of Fortune players will be limited to three vowel purchases per show until further notice.\",\"possibly_sensitive\":false,\"lang\":\"en\"},{\"id\":\"1467923530733993986\",\"source\":\"Twitter Web App\",\"public_metrics\":{\"retweet_count\":830,\"reply_count\":0,\"like_count\":0,\"quote_count\":0},\"created_at\":\"2021-12-06T18:26:57.000Z\",\"text\":\"RT @patsajak: Due to supply chain issues, Wheel of Fortune players will be limited to three vowel purchases per show until further notice.\",\"possibly_sensitive\":false,\"lang\":\"en\"},{\"id\":\"1467923522022514699\",\"source\":\"Twitter for Android\",\"public_metrics\":{\"retweet_count\":830,\"reply_count\":0,\"like_count\":0,\"quote_count\":0},\"created_at\":\"2021-12-06T18:26:55.000Z\",\"text\":\"RT @patsajak: Due to supply chain issues, Wheel of Fortune players will be limited to three vowel purchases per show until further notice.\",\"possibly_sensitive\":false,\"lang\":\"en\"},{\"id\":\"1467923500107239425\",\"source\":\"Twitter for iPhone\",\"public_metrics\":{\"retweet_count\":29,\"reply_count\":0,\"like_count\":0,\"quote_count\":0},\"created_at\":\"2021-12-06T18:26:49.000Z\",\"text\":\"RT @bluegrass24: We definitely need to talk about the fact that Icicle is just a child raised without love and manipulated by Scarlet. She\\'…\",\"possibly_sensitive\":false,\"lang\":\"en\"},{\"id\":\"1467923476216524807\",\"source\":\"Twitter for iPhone\",\"public_metrics\":{\"retweet_count\":830,\"reply_count\":0,\"like_count\":0,\"quote_count\":0},\"created_at\":\"2021-12-06T18:26:44.000Z\",\"text\":\"RT @patsajak: Due to supply chain issues, Wheel of Fortune players will be limited to three vowel purchases per show until further notice.\",\"possibly_sensitive\":false,\"lang\":\"en\"},{\"id\":\"1467923247106772998\",\"source\":\"Twitter for iPhone\",\"public_metrics\":{\"retweet_count\":830,\"reply_count\":0,\"like_count\":0,\"quote_count\":0},\"created_at\":\"2021-12-06T18:25:49.000Z\",\"text\":\"RT @patsajak: Due to supply chain issues, Wheel of Fortune players will be limited to three vowel purchases per show until further notice.\",\"possibly_sensitive\":false,\"lang\":\"en\"},{\"id\":\"1467923206040338436\",\"source\":\"Twitter Web App\",\"public_metrics\":{\"retweet_count\":830,\"reply_count\":0,\"like_count\":0,\"quote_count\":0},\"created_at\":\"2021-12-06T18:25:39.000Z\",\"text\":\"RT @patsajak: Due to supply chain issues, Wheel of Fortune players will be limited to three vowel purchases per show until further notice.\",\"possibly_sensitive\":false,\"lang\":\"en\"},{\"id\":\"1467923087383433217\",\"source\":\"Twitter for iPhone\",\"public_metrics\":{\"retweet_count\":830,\"reply_count\":0,\"like_count\":0,\"quote_count\":0},\"created_at\":\"2021-12-06T18:25:11.000Z\",\"text\":\"RT @patsajak: Due to supply chain issues, Wheel of Fortune players will be limited to three vowel purchases per show until further notice.\",\"possibly_sensitive\":false,\"lang\":\"en\"},{\"id\":\"1467923080802496516\",\"source\":\"Twitter for iPhone\",\"public_metrics\":{\"retweet_count\":830,\"reply_count\":0,\"like_count\":0,\"quote_count\":0},\"created_at\":\"2021-12-06T18:25:09.000Z\",\"text\":\"RT @patsajak: Due to supply chain issues, Wheel of Fortune players will be limited to three vowel purchases per show until further notice.\",\"possibly_sensitive\":false,\"lang\":\"en\"},{\"id\":\"1467923000758620164\",\"source\":\"Twitter Web App\",\"public_metrics\":{\"retweet_count\":830,\"reply_count\":0,\"like_count\":0,\"quote_count\":0},\"created_at\":\"2021-12-06T18:24:50.000Z\",\"text\":\"RT @patsajak: Due to supply chain issues, Wheel of Fortune players will be limited to three vowel purchases per show until further notice.\",\"possibly_sensitive\":false,\"lang\":\"en\"},{\"id\":\"1467922929371467790\",\"source\":\"Twitter for iPhone\",\"public_metrics\":{\"retweet_count\":830,\"reply_count\":0,\"like_count\":0,\"quote_count\":0},\"created_at\":\"2021-12-06T18:24:33.000Z\",\"text\":\"RT @patsajak: Due to supply chain issues, Wheel of Fortune players will be limited to three vowel purchases per show until further notice.\",\"possibly_sensitive\":false,\"lang\":\"en\"},{\"id\":\"1467922911256322056\",\"source\":\"Twitter for iPhone\",\"public_metrics\":{\"retweet_count\":0,\"reply_count\":0,\"like_count\":0,\"quote_count\":0},\"created_at\":\"2021-12-06T18:24:29.000Z\",\"text\":\"@patsajak Now that’s comedy we can all enjoy\\\\uD83D\\\\uDC4D.  I pray one day @iamcolinquinn and @marknorm  can be brave enough to follow your lead.\",\"possibly_sensitive\":false,\"lang\":\"en\"},{\"id\":\"1467922812463628297\",\"source\":\"Twitter for Android\",\"public_metrics\":{\"retweet_count\":830,\"reply_count\":0,\"like_count\":0,\"quote_count\":0},\"created_at\":\"2021-12-06T18:24:05.000Z\",\"text\":\"RT @patsajak: Due to supply chain issues, Wheel of Fortune players will be limited to three vowel purchases per show until further notice.\",\"possibly_sensitive\":false,\"lang\":\"en\"},{\"id\":\"1467922454152634369\",\"source\":\"Twitter for Android\",\"public_metrics\":{\"retweet_count\":830,\"reply_count\":0,\"like_count\":0,\"quote_count\":0},\"created_at\":\"2021-12-06T18:22:40.000Z\",\"text\":\"RT @patsajak: Due to supply chain issues, Wheel of Fortune players will be limited to three vowel purchases per show until further notice.\",\"possibly_sensitive\":false,\"lang\":\"en\"},{\"id\":\"1467922352939884545\",\"source\":\"Twitter for Android\",\"public_metrics\":{\"retweet_count\":830,\"reply_count\":0,\"like_count\":0,\"quote_count\":0},\"created_at\":\"2021-12-06T18:22:16.000Z\",\"text\":\"RT @patsajak: Due to supply chain issues, Wheel of Fortune players will be limited to three vowel purchases per show until further notice.\",\"possibly_sensitive\":false,\"lang\":\"en\"},{\"id\":\"1467922151055446016\",\"source\":\"Twitter Web App\",\"public_metrics\":{\"retweet_count\":0,\"reply_count\":4,\"like_count\":21,\"quote_count\":0},\"created_at\":\"2021-12-06T18:21:28.000Z\",\"text\":\"@patsajak the whole world went to hell when the ceramic Dalmatians couldn\\'t meet California\\'s strict lead and asbestos regulations and were dumped into the LaBrae  Tar Pits.\",\"possibly_sensitive\":false,\"lang\":\"en\"},{\"id\":\"1467921884570341386\",\"source\":\"Twitter for iPhone\",\"public_metrics\":{\"retweet_count\":830,\"reply_count\":0,\"like_count\":0,\"quote_count\":0},\"created_at\":\"2021-12-06T18:20:24.000Z\",\"text\":\"RT @patsajak: Due to supply chain issues, Wheel of Fortune players will be limited to three vowel purchases per show until further notice.\",\"possibly_sensitive\":false,\"lang\":\"en\"},{\"id\":\"1467921869340770304\",\"source\":\"Twitter for Android\",\"public_metrics\":{\"retweet_count\":830,\"reply_count\":0,\"like_count\":0,\"quote_count\":0},\"created_at\":\"2021-12-06T18:20:20.000Z\",\"text\":\"RT @patsajak: Due to supply chain issues, Wheel of Fortune players will be limited to three vowel purchases per show until further notice.\",\"possibly_sensitive\":false,\"lang\":\"en\"},{\"id\":\"1467921833064239104\",\"source\":\"Twitter Web App\",\"public_metrics\":{\"retweet_count\":830,\"reply_count\":0,\"like_count\":0,\"quote_count\":0},\"created_at\":\"2021-12-06T18:20:12.000Z\",\"text\":\"RT @patsajak: Due to supply chain issues, Wheel of Fortune players will be limited to three vowel purchases per show until further notice.\",\"possibly_sensitive\":false,\"lang\":\"en\"},{\"id\":\"1467921654928252928\",\"source\":\"Twitter for iPhone\",\"public_metrics\":{\"retweet_count\":830,\"reply_count\":0,\"like_count\":0,\"quote_count\":0},\"created_at\":\"2021-12-06T18:19:29.000Z\",\"text\":\"RT @patsajak: Due to supply chain issues, Wheel of Fortune players will be limited to three vowel purchases per show until further notice.\",\"possibly_sensitive\":false,\"lang\":\"en\"},{\"id\":\"1467921459985195021\",\"source\":\"Twitter for Android\",\"public_metrics\":{\"retweet_count\":830,\"reply_count\":0,\"like_count\":0,\"quote_count\":0},\"created_at\":\"2021-12-06T18:18:43.000Z\",\"text\":\"RT @patsajak: Due to supply chain issues, Wheel of Fortune players will be limited to three vowel purchases per show until further notice.\",\"possibly_sensitive\":false,\"lang\":\"en\"},{\"id\":\"1467921456986263555\",\"source\":\"Twitter Web App\",\"public_metrics\":{\"retweet_count\":830,\"reply_count\":0,\"like_count\":0,\"quote_count\":0},\"created_at\":\"2021-12-06T18:18:42.000Z\",\"text\":\"RT @patsajak: Due to supply chain issues, Wheel of Fortune players will be limited to three vowel purchases per show until further notice.\",\"possibly_sensitive\":false,\"lang\":\"en\"},{\"id\":\"1467921384852525059\",\"source\":\"Twitter Web App\",\"public_metrics\":{\"retweet_count\":830,\"reply_count\":0,\"like_count\":0,\"quote_count\":0},\"created_at\":\"2021-12-06T18:18:25.000Z\",\"text\":\"RT @patsajak: Due to supply chain issues, Wheel of Fortune players will be limited to three vowel purchases per show until further notice.\",\"possibly_sensitive\":false,\"lang\":\"en\"},{\"id\":\"1467921324500819977\",\"source\":\"Twitter Web App\",\"public_metrics\":{\"retweet_count\":830,\"reply_count\":0,\"like_count\":0,\"quote_count\":0},\"created_at\":\"2021-12-06T18:18:11.000Z\",\"text\":\"RT @patsajak: Due to supply chain issues, Wheel of Fortune players will be limited to three vowel purchases per show until further notice.\",\"possibly_sensitive\":false,\"lang\":\"en\"},{\"id\":\"1467921216597938176\",\"source\":\"Twitter for Android\",\"public_metrics\":{\"retweet_count\":0,\"reply_count\":0,\"like_count\":1,\"quote_count\":0},\"created_at\":\"2021-12-06T18:17:45.000Z\",\"text\":\"@patsajak H grt! Nw thr wll b vwll shrtge!!!!!\",\"possibly_sensitive\":false,\"lang\":\"en\"},{\"id\":\"1467920865270513667\",\"source\":\"Twitter for iPhone\",\"public_metrics\":{\"retweet_count\":830,\"reply_count\":0,\"like_count\":0,\"quote_count\":0},\"created_at\":\"2021-12-06T18:16:21.000Z\",\"text\":\"RT @patsajak: Due to supply chain issues, Wheel of Fortune players will be limited to three vowel purchases per show until further notice.\",\"possibly_sensitive\":false,\"lang\":\"en\"}],\"meta\":{\"newest_id\":\"1467929823112835073\",\"oldest_id\":\"1467920865270513667\",\"result_count\":100,\"next_token\":\"b26v89c19zqg8o3fpdy8isea0rvpayln6ui8jrxaz8epp\"}}'"
      ]
     },
     "execution_count": 98,
     "metadata": {},
     "output_type": "execute_result"
    }
   ],
   "source": [
    "response_W4.text"
   ]
  },
  {
   "cell_type": "code",
   "execution_count": 99,
   "id": "34bd1e4c",
   "metadata": {},
   "outputs": [],
   "source": [
    "my_df2 = my_df2.append(pd.DataFrame(json.loads(response_W4.text)['data']), ignore_index= True)"
   ]
  },
  {
   "cell_type": "code",
   "execution_count": 100,
   "id": "bcdac4fa",
   "metadata": {},
   "outputs": [
    {
     "data": {
      "text/html": [
       "<div>\n",
       "<style scoped>\n",
       "    .dataframe tbody tr th:only-of-type {\n",
       "        vertical-align: middle;\n",
       "    }\n",
       "\n",
       "    .dataframe tbody tr th {\n",
       "        vertical-align: top;\n",
       "    }\n",
       "\n",
       "    .dataframe thead th {\n",
       "        text-align: right;\n",
       "    }\n",
       "</style>\n",
       "<table border=\"1\" class=\"dataframe\">\n",
       "  <thead>\n",
       "    <tr style=\"text-align: right;\">\n",
       "      <th></th>\n",
       "      <th>lang</th>\n",
       "      <th>public_metrics</th>\n",
       "      <th>id</th>\n",
       "      <th>possibly_sensitive</th>\n",
       "      <th>text</th>\n",
       "      <th>author_id</th>\n",
       "      <th>created_at</th>\n",
       "      <th>source</th>\n",
       "      <th>attachments</th>\n",
       "    </tr>\n",
       "  </thead>\n",
       "  <tbody>\n",
       "    <tr>\n",
       "      <th>0</th>\n",
       "      <td>en</td>\n",
       "      <td>{'retweet_count': 0, 'reply_count': 0, 'like_c...</td>\n",
       "      <td>1467979913923895298</td>\n",
       "      <td>False</td>\n",
       "      <td>@glaad @Jeopardamy @emilyvdw @Jeopardy Thanx f...</td>\n",
       "      <td>995446130967302144</td>\n",
       "      <td>2021-12-06T22:10:59.000Z</td>\n",
       "      <td>Twitter for iPhone</td>\n",
       "      <td>NaN</td>\n",
       "    </tr>\n",
       "    <tr>\n",
       "      <th>1</th>\n",
       "      <td>en</td>\n",
       "      <td>{'retweet_count': 0, 'reply_count': 0, 'like_c...</td>\n",
       "      <td>1467979782197592075</td>\n",
       "      <td>False</td>\n",
       "      <td>Format: 8-day first round, four profs per day,...</td>\n",
       "      <td>770293085771210752</td>\n",
       "      <td>2021-12-06T22:10:28.000Z</td>\n",
       "      <td>Twitter for iPhone</td>\n",
       "      <td>NaN</td>\n",
       "    </tr>\n",
       "    <tr>\n",
       "      <th>2</th>\n",
       "      <td>en</td>\n",
       "      <td>{'retweet_count': 0, 'reply_count': 0, 'like_c...</td>\n",
       "      <td>1467979250372431878</td>\n",
       "      <td>False</td>\n",
       "      <td>Y'all my professor is going to be a contestant...</td>\n",
       "      <td>2932977243</td>\n",
       "      <td>2021-12-06T22:08:21.000Z</td>\n",
       "      <td>Twitter for iPhone</td>\n",
       "      <td>NaN</td>\n",
       "    </tr>\n",
       "    <tr>\n",
       "      <th>3</th>\n",
       "      <td>en</td>\n",
       "      <td>{'retweet_count': 0, 'reply_count': 1, 'like_c...</td>\n",
       "      <td>1467978490758811657</td>\n",
       "      <td>False</td>\n",
       "      <td>The @Jeopardy Professors Tournament begins tod...</td>\n",
       "      <td>770293085771210752</td>\n",
       "      <td>2021-12-06T22:05:20.000Z</td>\n",
       "      <td>Twitter for iPhone</td>\n",
       "      <td>NaN</td>\n",
       "    </tr>\n",
       "    <tr>\n",
       "      <th>4</th>\n",
       "      <td>en</td>\n",
       "      <td>{'retweet_count': 0, 'reply_count': 0, 'like_c...</td>\n",
       "      <td>1467978245861691397</td>\n",
       "      <td>False</td>\n",
       "      <td>The lovely @missmayim is back hosting @jeopard...</td>\n",
       "      <td>355147215</td>\n",
       "      <td>2021-12-06T22:04:22.000Z</td>\n",
       "      <td>Twitter for Android</td>\n",
       "      <td>NaN</td>\n",
       "    </tr>\n",
       "    <tr>\n",
       "      <th>...</th>\n",
       "      <td>...</td>\n",
       "      <td>...</td>\n",
       "      <td>...</td>\n",
       "      <td>...</td>\n",
       "      <td>...</td>\n",
       "      <td>...</td>\n",
       "      <td>...</td>\n",
       "      <td>...</td>\n",
       "      <td>...</td>\n",
       "    </tr>\n",
       "    <tr>\n",
       "      <th>395</th>\n",
       "      <td>en</td>\n",
       "      <td>{'retweet_count': 830, 'reply_count': 0, 'like...</td>\n",
       "      <td>1467921456986263555</td>\n",
       "      <td>False</td>\n",
       "      <td>RT @patsajak: Due to supply chain issues, Whee...</td>\n",
       "      <td>NaN</td>\n",
       "      <td>2021-12-06T18:18:42.000Z</td>\n",
       "      <td>Twitter Web App</td>\n",
       "      <td>NaN</td>\n",
       "    </tr>\n",
       "    <tr>\n",
       "      <th>396</th>\n",
       "      <td>en</td>\n",
       "      <td>{'retweet_count': 830, 'reply_count': 0, 'like...</td>\n",
       "      <td>1467921384852525059</td>\n",
       "      <td>False</td>\n",
       "      <td>RT @patsajak: Due to supply chain issues, Whee...</td>\n",
       "      <td>NaN</td>\n",
       "      <td>2021-12-06T18:18:25.000Z</td>\n",
       "      <td>Twitter Web App</td>\n",
       "      <td>NaN</td>\n",
       "    </tr>\n",
       "    <tr>\n",
       "      <th>397</th>\n",
       "      <td>en</td>\n",
       "      <td>{'retweet_count': 830, 'reply_count': 0, 'like...</td>\n",
       "      <td>1467921324500819977</td>\n",
       "      <td>False</td>\n",
       "      <td>RT @patsajak: Due to supply chain issues, Whee...</td>\n",
       "      <td>NaN</td>\n",
       "      <td>2021-12-06T18:18:11.000Z</td>\n",
       "      <td>Twitter Web App</td>\n",
       "      <td>NaN</td>\n",
       "    </tr>\n",
       "    <tr>\n",
       "      <th>398</th>\n",
       "      <td>en</td>\n",
       "      <td>{'retweet_count': 0, 'reply_count': 0, 'like_c...</td>\n",
       "      <td>1467921216597938176</td>\n",
       "      <td>False</td>\n",
       "      <td>@patsajak H grt! Nw thr wll b vwll shrtge!!!!!</td>\n",
       "      <td>NaN</td>\n",
       "      <td>2021-12-06T18:17:45.000Z</td>\n",
       "      <td>Twitter for Android</td>\n",
       "      <td>NaN</td>\n",
       "    </tr>\n",
       "    <tr>\n",
       "      <th>399</th>\n",
       "      <td>en</td>\n",
       "      <td>{'retweet_count': 830, 'reply_count': 0, 'like...</td>\n",
       "      <td>1467920865270513667</td>\n",
       "      <td>False</td>\n",
       "      <td>RT @patsajak: Due to supply chain issues, Whee...</td>\n",
       "      <td>NaN</td>\n",
       "      <td>2021-12-06T18:16:21.000Z</td>\n",
       "      <td>Twitter for iPhone</td>\n",
       "      <td>NaN</td>\n",
       "    </tr>\n",
       "  </tbody>\n",
       "</table>\n",
       "<p>400 rows × 9 columns</p>\n",
       "</div>"
      ],
      "text/plain": [
       "    lang                                     public_metrics  \\\n",
       "0     en  {'retweet_count': 0, 'reply_count': 0, 'like_c...   \n",
       "1     en  {'retweet_count': 0, 'reply_count': 0, 'like_c...   \n",
       "2     en  {'retweet_count': 0, 'reply_count': 0, 'like_c...   \n",
       "3     en  {'retweet_count': 0, 'reply_count': 1, 'like_c...   \n",
       "4     en  {'retweet_count': 0, 'reply_count': 0, 'like_c...   \n",
       "..   ...                                                ...   \n",
       "395   en  {'retweet_count': 830, 'reply_count': 0, 'like...   \n",
       "396   en  {'retweet_count': 830, 'reply_count': 0, 'like...   \n",
       "397   en  {'retweet_count': 830, 'reply_count': 0, 'like...   \n",
       "398   en  {'retweet_count': 0, 'reply_count': 0, 'like_c...   \n",
       "399   en  {'retweet_count': 830, 'reply_count': 0, 'like...   \n",
       "\n",
       "                      id  possibly_sensitive  \\\n",
       "0    1467979913923895298               False   \n",
       "1    1467979782197592075               False   \n",
       "2    1467979250372431878               False   \n",
       "3    1467978490758811657               False   \n",
       "4    1467978245861691397               False   \n",
       "..                   ...                 ...   \n",
       "395  1467921456986263555               False   \n",
       "396  1467921384852525059               False   \n",
       "397  1467921324500819977               False   \n",
       "398  1467921216597938176               False   \n",
       "399  1467920865270513667               False   \n",
       "\n",
       "                                                  text           author_id  \\\n",
       "0    @glaad @Jeopardamy @emilyvdw @Jeopardy Thanx f...  995446130967302144   \n",
       "1    Format: 8-day first round, four profs per day,...  770293085771210752   \n",
       "2    Y'all my professor is going to be a contestant...          2932977243   \n",
       "3    The @Jeopardy Professors Tournament begins tod...  770293085771210752   \n",
       "4    The lovely @missmayim is back hosting @jeopard...           355147215   \n",
       "..                                                 ...                 ...   \n",
       "395  RT @patsajak: Due to supply chain issues, Whee...                 NaN   \n",
       "396  RT @patsajak: Due to supply chain issues, Whee...                 NaN   \n",
       "397  RT @patsajak: Due to supply chain issues, Whee...                 NaN   \n",
       "398     @patsajak H grt! Nw thr wll b vwll shrtge!!!!!                 NaN   \n",
       "399  RT @patsajak: Due to supply chain issues, Whee...                 NaN   \n",
       "\n",
       "                   created_at               source attachments  \n",
       "0    2021-12-06T22:10:59.000Z   Twitter for iPhone         NaN  \n",
       "1    2021-12-06T22:10:28.000Z   Twitter for iPhone         NaN  \n",
       "2    2021-12-06T22:08:21.000Z   Twitter for iPhone         NaN  \n",
       "3    2021-12-06T22:05:20.000Z   Twitter for iPhone         NaN  \n",
       "4    2021-12-06T22:04:22.000Z  Twitter for Android         NaN  \n",
       "..                        ...                  ...         ...  \n",
       "395  2021-12-06T18:18:42.000Z      Twitter Web App         NaN  \n",
       "396  2021-12-06T18:18:25.000Z      Twitter Web App         NaN  \n",
       "397  2021-12-06T18:18:11.000Z      Twitter Web App         NaN  \n",
       "398  2021-12-06T18:17:45.000Z  Twitter for Android         NaN  \n",
       "399  2021-12-06T18:16:21.000Z   Twitter for iPhone         NaN  \n",
       "\n",
       "[400 rows x 9 columns]"
      ]
     },
     "execution_count": 100,
     "metadata": {},
     "output_type": "execute_result"
    }
   ],
   "source": [
    "my_df2"
   ]
  },
  {
   "cell_type": "code",
   "execution_count": 101,
   "id": "074d5d78",
   "metadata": {},
   "outputs": [
    {
     "data": {
      "text/plain": [
       "{'newest_id': '1467979913923895298',\n",
       " 'oldest_id': '1467929873943609345',\n",
       " 'result_count': 100,\n",
       " 'next_token': 'b26v89c19zqg8o3fpdy8iseaefhfw53e8zwxxg4b94kfx'}"
      ]
     },
     "execution_count": 101,
     "metadata": {},
     "output_type": "execute_result"
    }
   ],
   "source": [
    "response_1_dict['meta']"
   ]
  },
  {
   "cell_type": "code",
   "execution_count": 102,
   "id": "c46362ff",
   "metadata": {},
   "outputs": [],
   "source": [
    "response_W5 = requests.request(\"GET\", my_api_W_url, headers = header)"
   ]
  },
  {
   "cell_type": "code",
   "execution_count": 103,
   "id": "b1a280cc",
   "metadata": {},
   "outputs": [
    {
     "data": {
      "text/plain": [
       "'{\"data\":[{\"source\":\"Twitter for iPhone\",\"possibly_sensitive\":false,\"id\":\"1467929823112835073\",\"text\":\"RT @patsajak: Due to supply chain issues, Wheel of Fortune players will be limited to three vowel purchases per show until further notice.\",\"created_at\":\"2021-12-06T18:51:57.000Z\",\"public_metrics\":{\"retweet_count\":830,\"reply_count\":0,\"like_count\":0,\"quote_count\":0},\"lang\":\"en\"},{\"source\":\"Twitter for iPhone\",\"possibly_sensitive\":false,\"id\":\"1467929721396776965\",\"text\":\"RT @patsajak: Due to supply chain issues, Wheel of Fortune players will be limited to three vowel purchases per show until further notice.\",\"created_at\":\"2021-12-06T18:51:33.000Z\",\"public_metrics\":{\"retweet_count\":830,\"reply_count\":0,\"like_count\":0,\"quote_count\":0},\"lang\":\"en\"},{\"source\":\"Twitter Web App\",\"possibly_sensitive\":false,\"id\":\"1467929575644704772\",\"text\":\"RT @patsajak: Due to supply chain issues, Wheel of Fortune players will be limited to three vowel purchases per show until further notice.\",\"created_at\":\"2021-12-06T18:50:58.000Z\",\"public_metrics\":{\"retweet_count\":830,\"reply_count\":0,\"like_count\":0,\"quote_count\":0},\"lang\":\"en\"},{\"source\":\"Twitter for iPhone\",\"possibly_sensitive\":false,\"id\":\"1467929563086962706\",\"text\":\"RT @patsajak: Due to supply chain issues, Wheel of Fortune players will be limited to three vowel purchases per show until further notice.\",\"created_at\":\"2021-12-06T18:50:55.000Z\",\"public_metrics\":{\"retweet_count\":830,\"reply_count\":0,\"like_count\":0,\"quote_count\":0},\"lang\":\"en\"},{\"source\":\"Twitter for iPhone\",\"possibly_sensitive\":false,\"id\":\"1467929489711771655\",\"text\":\"RT @patsajak: Due to supply chain issues, Wheel of Fortune players will be limited to three vowel purchases per show until further notice.\",\"created_at\":\"2021-12-06T18:50:37.000Z\",\"public_metrics\":{\"retweet_count\":830,\"reply_count\":0,\"like_count\":0,\"quote_count\":0},\"lang\":\"en\"},{\"source\":\"Twitter Web App\",\"possibly_sensitive\":false,\"id\":\"1467929383704965128\",\"text\":\"RT @patsajak: Due to supply chain issues, Wheel of Fortune players will be limited to three vowel purchases per show until further notice.\",\"created_at\":\"2021-12-06T18:50:12.000Z\",\"public_metrics\":{\"retweet_count\":830,\"reply_count\":0,\"like_count\":0,\"quote_count\":0},\"lang\":\"en\"},{\"source\":\"Twitter for iPhone\",\"possibly_sensitive\":false,\"id\":\"1467929350498570251\",\"text\":\"RT @patsajak: Due to supply chain issues, Wheel of Fortune players will be limited to three vowel purchases per show until further notice.\",\"created_at\":\"2021-12-06T18:50:04.000Z\",\"public_metrics\":{\"retweet_count\":830,\"reply_count\":0,\"like_count\":0,\"quote_count\":0},\"lang\":\"en\"},{\"source\":\"Twitter for iPhone\",\"possibly_sensitive\":false,\"id\":\"1467929255736655879\",\"text\":\"RT @patsajak: Due to supply chain issues, Wheel of Fortune players will be limited to three vowel purchases per show until further notice.\",\"created_at\":\"2021-12-06T18:49:42.000Z\",\"public_metrics\":{\"retweet_count\":830,\"reply_count\":0,\"like_count\":0,\"quote_count\":0},\"lang\":\"en\"},{\"source\":\"Twitter for Android\",\"possibly_sensitive\":false,\"id\":\"1467929229941612550\",\"text\":\"RT @patsajak: Due to supply chain issues, Wheel of Fortune players will be limited to three vowel purchases per show until further notice.\",\"created_at\":\"2021-12-06T18:49:35.000Z\",\"public_metrics\":{\"retweet_count\":830,\"reply_count\":0,\"like_count\":0,\"quote_count\":0},\"lang\":\"en\"},{\"source\":\"Twitter for iPad\",\"possibly_sensitive\":false,\"id\":\"1467929131648270344\",\"text\":\"@patsajak It may be all they need…\",\"created_at\":\"2021-12-06T18:49:12.000Z\",\"public_metrics\":{\"retweet_count\":0,\"reply_count\":0,\"like_count\":0,\"quote_count\":0},\"lang\":\"en\"},{\"source\":\"Twitter Web App\",\"possibly_sensitive\":false,\"id\":\"1467929009996587017\",\"text\":\"RT @patsajak: Due to supply chain issues, Wheel of Fortune players will be limited to three vowel purchases per show until further notice.\",\"created_at\":\"2021-12-06T18:48:43.000Z\",\"public_metrics\":{\"retweet_count\":830,\"reply_count\":0,\"like_count\":0,\"quote_count\":0},\"lang\":\"en\"},{\"source\":\"Twitter for Android\",\"possibly_sensitive\":false,\"id\":\"1467928738121793540\",\"text\":\"RT @patsajak: Due to supply chain issues, Wheel of Fortune players will be limited to three vowel purchases per show until further notice.\",\"created_at\":\"2021-12-06T18:47:38.000Z\",\"public_metrics\":{\"retweet_count\":830,\"reply_count\":0,\"like_count\":0,\"quote_count\":0},\"lang\":\"en\"},{\"source\":\"Twitter for iPhone\",\"possibly_sensitive\":false,\"id\":\"1467928654932058123\",\"text\":\"RT @bluegrass24: Seawing princesses!! I like headcanon that they all inherited from their father the light markings near their eyes\\\\n\\\\n#sketc…\",\"created_at\":\"2021-12-06T18:47:18.000Z\",\"public_metrics\":{\"retweet_count\":16,\"reply_count\":0,\"like_count\":0,\"quote_count\":0},\"lang\":\"en\"},{\"source\":\"Twitter for Android\",\"possibly_sensitive\":false,\"id\":\"1467928580789313540\",\"text\":\"RT @patsajak: Due to supply chain issues, Wheel of Fortune players will be limited to three vowel purchases per show until further notice.\",\"created_at\":\"2021-12-06T18:47:01.000Z\",\"public_metrics\":{\"retweet_count\":830,\"reply_count\":0,\"like_count\":0,\"quote_count\":0},\"lang\":\"en\"},{\"source\":\"Twitter Web App\",\"possibly_sensitive\":false,\"id\":\"1467928487784857608\",\"text\":\"RT @patsajak: Due to supply chain issues, Wheel of Fortune players will be limited to three vowel purchases per show until further notice.\",\"created_at\":\"2021-12-06T18:46:38.000Z\",\"public_metrics\":{\"retweet_count\":830,\"reply_count\":0,\"like_count\":0,\"quote_count\":0},\"lang\":\"en\"},{\"source\":\"Twitter for iPhone\",\"possibly_sensitive\":false,\"id\":\"1467928458135228420\",\"text\":\"RT @patsajak: Due to supply chain issues, Wheel of Fortune players will be limited to three vowel purchases per show until further notice.\",\"created_at\":\"2021-12-06T18:46:31.000Z\",\"public_metrics\":{\"retweet_count\":830,\"reply_count\":0,\"like_count\":0,\"quote_count\":0},\"lang\":\"en\"},{\"source\":\"Twitter Web App\",\"possibly_sensitive\":false,\"id\":\"1467928353671987206\",\"text\":\"RT @patsajak: Due to supply chain issues, Wheel of Fortune players will be limited to three vowel purchases per show until further notice.\",\"created_at\":\"2021-12-06T18:46:06.000Z\",\"public_metrics\":{\"retweet_count\":830,\"reply_count\":0,\"like_count\":0,\"quote_count\":0},\"lang\":\"en\"},{\"source\":\"Twitter for iPhone\",\"possibly_sensitive\":false,\"id\":\"1467928328095117312\",\"text\":\"RT @patsajak: Due to supply chain issues, Wheel of Fortune players will be limited to three vowel purchases per show until further notice.\",\"created_at\":\"2021-12-06T18:46:00.000Z\",\"public_metrics\":{\"retweet_count\":830,\"reply_count\":0,\"like_count\":0,\"quote_count\":0},\"lang\":\"en\"},{\"source\":\"Twitter for iPhone\",\"possibly_sensitive\":false,\"id\":\"1467928294481932302\",\"text\":\"RT @patsajak: Due to supply chain issues, Wheel of Fortune players will be limited to three vowel purchases per show until further notice.\",\"created_at\":\"2021-12-06T18:45:52.000Z\",\"public_metrics\":{\"retweet_count\":830,\"reply_count\":0,\"like_count\":0,\"quote_count\":0},\"lang\":\"en\"},{\"source\":\"Twitter for Android\",\"possibly_sensitive\":false,\"id\":\"1467928192942239744\",\"text\":\"RT @patsajak: Due to supply chain issues, Wheel of Fortune players will be limited to three vowel purchases per show until further notice.\",\"created_at\":\"2021-12-06T18:45:28.000Z\",\"public_metrics\":{\"retweet_count\":830,\"reply_count\":0,\"like_count\":0,\"quote_count\":0},\"lang\":\"en\"},{\"source\":\"Twitter for iPhone\",\"possibly_sensitive\":false,\"id\":\"1467928067578507266\",\"text\":\"RT @patsajak: Due to supply chain issues, Wheel of Fortune players will be limited to three vowel purchases per show until further notice.\",\"created_at\":\"2021-12-06T18:44:58.000Z\",\"public_metrics\":{\"retweet_count\":830,\"reply_count\":0,\"like_count\":0,\"quote_count\":0},\"lang\":\"en\"},{\"source\":\"Twitter for iPhone\",\"possibly_sensitive\":false,\"id\":\"1467928063849623555\",\"text\":\"RT @patsajak: Due to supply chain issues, Wheel of Fortune players will be limited to three vowel purchases per show until further notice.\",\"created_at\":\"2021-12-06T18:44:57.000Z\",\"public_metrics\":{\"retweet_count\":830,\"reply_count\":0,\"like_count\":0,\"quote_count\":0},\"lang\":\"en\"},{\"source\":\"Twitter Web App\",\"possibly_sensitive\":false,\"id\":\"1467928010103955460\",\"text\":\"RT @patsajak: Due to supply chain issues, Wheel of Fortune players will be limited to three vowel purchases per show until further notice.\",\"created_at\":\"2021-12-06T18:44:45.000Z\",\"public_metrics\":{\"retweet_count\":830,\"reply_count\":0,\"like_count\":0,\"quote_count\":0},\"lang\":\"en\"},{\"source\":\"Twitter for iPhone\",\"possibly_sensitive\":false,\"id\":\"1467927771632570376\",\"text\":\"RT @patsajak: Due to supply chain issues, Wheel of Fortune players will be limited to three vowel purchases per show until further notice.\",\"created_at\":\"2021-12-06T18:43:48.000Z\",\"public_metrics\":{\"retweet_count\":830,\"reply_count\":0,\"like_count\":0,\"quote_count\":0},\"lang\":\"en\"},{\"source\":\"Twitter for iPhone\",\"possibly_sensitive\":false,\"id\":\"1467927756499529728\",\"text\":\"RT @patsajak: Due to supply chain issues, Wheel of Fortune players will be limited to three vowel purchases per show until further notice.\",\"created_at\":\"2021-12-06T18:43:44.000Z\",\"public_metrics\":{\"retweet_count\":830,\"reply_count\":0,\"like_count\":0,\"quote_count\":0},\"lang\":\"en\"},{\"source\":\"Twitter for iPad\",\"possibly_sensitive\":false,\"id\":\"1467927730058502152\",\"text\":\"RT @patsajak: Due to supply chain issues, Wheel of Fortune players will be limited to three vowel purchases per show until further notice.\",\"created_at\":\"2021-12-06T18:43:38.000Z\",\"public_metrics\":{\"retweet_count\":830,\"reply_count\":0,\"like_count\":0,\"quote_count\":0},\"lang\":\"en\"},{\"source\":\"Twitter for iPhone\",\"possibly_sensitive\":false,\"id\":\"1467927700627243010\",\"text\":\"RT @patsajak: Due to supply chain issues, Wheel of Fortune players will be limited to three vowel purchases per show until further notice.\",\"created_at\":\"2021-12-06T18:43:31.000Z\",\"public_metrics\":{\"retweet_count\":830,\"reply_count\":0,\"like_count\":0,\"quote_count\":0},\"lang\":\"en\"},{\"source\":\"Twitter for iPhone\",\"possibly_sensitive\":false,\"attachments\":{\"media_keys\":[\"7_1241450574001983490\"]},\"id\":\"1467927652774424582\",\"text\":\"@patsajak That’s fine. Three was sufficient for me.  https://t.co/sfMnWh4jU6\",\"created_at\":\"2021-12-06T18:43:19.000Z\",\"public_metrics\":{\"retweet_count\":1,\"reply_count\":0,\"like_count\":17,\"quote_count\":0},\"lang\":\"en\"},{\"source\":\"Twitter for iPhone\",\"possibly_sensitive\":false,\"id\":\"1467927647619592200\",\"text\":\"RT @patsajak: Due to supply chain issues, Wheel of Fortune players will be limited to three vowel purchases per show until further notice.\",\"created_at\":\"2021-12-06T18:43:18.000Z\",\"public_metrics\":{\"retweet_count\":830,\"reply_count\":0,\"like_count\":0,\"quote_count\":0},\"lang\":\"en\"},{\"source\":\"Twitter Web App\",\"possibly_sensitive\":false,\"id\":\"1467927534008512531\",\"text\":\"RT @patsajak: Due to supply chain issues, Wheel of Fortune players will be limited to three vowel purchases per show until further notice.\",\"created_at\":\"2021-12-06T18:42:51.000Z\",\"public_metrics\":{\"retweet_count\":830,\"reply_count\":0,\"like_count\":0,\"quote_count\":0},\"lang\":\"en\"},{\"source\":\"Twitter for iPhone\",\"possibly_sensitive\":false,\"id\":\"1467927511514464259\",\"text\":\"RT @patsajak: Due to supply chain issues, Wheel of Fortune players will be limited to three vowel purchases per show until further notice.\",\"created_at\":\"2021-12-06T18:42:46.000Z\",\"public_metrics\":{\"retweet_count\":830,\"reply_count\":0,\"like_count\":0,\"quote_count\":0},\"lang\":\"en\"},{\"source\":\"Twitter for iPhone\",\"possibly_sensitive\":false,\"id\":\"1467927505105477633\",\"text\":\"RT @patsajak: Due to supply chain issues, Wheel of Fortune players will be limited to three vowel purchases per show until further notice.\",\"created_at\":\"2021-12-06T18:42:44.000Z\",\"public_metrics\":{\"retweet_count\":830,\"reply_count\":0,\"like_count\":0,\"quote_count\":0},\"lang\":\"en\"},{\"source\":\"Twitter Web App\",\"possibly_sensitive\":false,\"id\":\"1467927397622239238\",\"text\":\"RT @patsajak: Due to supply chain issues, Wheel of Fortune players will be limited to three vowel purchases per show until further notice.\",\"created_at\":\"2021-12-06T18:42:19.000Z\",\"public_metrics\":{\"retweet_count\":830,\"reply_count\":0,\"like_count\":0,\"quote_count\":0},\"lang\":\"en\"},{\"source\":\"Twitter for iPhone\",\"possibly_sensitive\":false,\"id\":\"1467927132257103874\",\"text\":\"RT @patsajak: Due to supply chain issues, Wheel of Fortune players will be limited to three vowel purchases per show until further notice.\",\"created_at\":\"2021-12-06T18:41:15.000Z\",\"public_metrics\":{\"retweet_count\":830,\"reply_count\":0,\"like_count\":0,\"quote_count\":0},\"lang\":\"en\"},{\"source\":\"Twitter for Android\",\"possibly_sensitive\":false,\"id\":\"1467927106445320199\",\"text\":\"RT @patsajak: Due to supply chain issues, Wheel of Fortune players will be limited to three vowel purchases per show until further notice.\",\"created_at\":\"2021-12-06T18:41:09.000Z\",\"public_metrics\":{\"retweet_count\":830,\"reply_count\":0,\"like_count\":0,\"quote_count\":0},\"lang\":\"en\"},{\"source\":\"Twitter for Android\",\"possibly_sensitive\":false,\"id\":\"1467927103119273985\",\"text\":\"RT @patsajak: Due to supply chain issues, Wheel of Fortune players will be limited to three vowel purchases per show until further notice.\",\"created_at\":\"2021-12-06T18:41:08.000Z\",\"public_metrics\":{\"retweet_count\":830,\"reply_count\":0,\"like_count\":0,\"quote_count\":0},\"lang\":\"en\"},{\"source\":\"Twitter for iPhone\",\"possibly_sensitive\":false,\"id\":\"1467927062698770434\",\"text\":\"RT @patsajak: Due to supply chain issues, Wheel of Fortune players will be limited to three vowel purchases per show until further notice.\",\"created_at\":\"2021-12-06T18:40:59.000Z\",\"public_metrics\":{\"retweet_count\":830,\"reply_count\":0,\"like_count\":0,\"quote_count\":0},\"lang\":\"en\"},{\"source\":\"Twitter for iPhone\",\"possibly_sensitive\":false,\"id\":\"1467927012128006144\",\"text\":\"RT @patsajak: Due to supply chain issues, Wheel of Fortune players will be limited to three vowel purchases per show until further notice.\",\"created_at\":\"2021-12-06T18:40:47.000Z\",\"public_metrics\":{\"retweet_count\":830,\"reply_count\":0,\"like_count\":0,\"quote_count\":0},\"lang\":\"en\"},{\"source\":\"Twitter for iPad\",\"possibly_sensitive\":false,\"id\":\"1467926977902432262\",\"text\":\"RT @patsajak: Due to supply chain issues, Wheel of Fortune players will be limited to three vowel purchases per show until further notice.\",\"created_at\":\"2021-12-06T18:40:38.000Z\",\"public_metrics\":{\"retweet_count\":830,\"reply_count\":0,\"like_count\":0,\"quote_count\":0},\"lang\":\"en\"},{\"source\":\"Twitter for iPhone\",\"possibly_sensitive\":false,\"id\":\"1467926898068135943\",\"text\":\"RT @patsajak: Due to supply chain issues, Wheel of Fortune players will be limited to three vowel purchases per show until further notice.\",\"created_at\":\"2021-12-06T18:40:19.000Z\",\"public_metrics\":{\"retweet_count\":830,\"reply_count\":0,\"like_count\":0,\"quote_count\":0},\"lang\":\"en\"},{\"source\":\"Twitter Web App\",\"possibly_sensitive\":false,\"id\":\"1467926868204658695\",\"text\":\"@patsajak thus begins the descent into the Fifth Circle of Hell\",\"created_at\":\"2021-12-06T18:40:12.000Z\",\"public_metrics\":{\"retweet_count\":0,\"reply_count\":0,\"like_count\":0,\"quote_count\":0},\"lang\":\"en\"},{\"source\":\"Twitter Web App\",\"possibly_sensitive\":false,\"id\":\"1467926845421236229\",\"text\":\"RT @patsajak: Due to supply chain issues, Wheel of Fortune players will be limited to three vowel purchases per show until further notice.\",\"created_at\":\"2021-12-06T18:40:07.000Z\",\"public_metrics\":{\"retweet_count\":830,\"reply_count\":0,\"like_count\":0,\"quote_count\":0},\"lang\":\"en\"},{\"source\":\"Talon Android\",\"possibly_sensitive\":false,\"id\":\"1467926784956116996\",\"text\":\"RT @patsajak: Due to supply chain issues, Wheel of Fortune players will be limited to three vowel purchases per show until further notice.\",\"created_at\":\"2021-12-06T18:39:52.000Z\",\"public_metrics\":{\"retweet_count\":830,\"reply_count\":0,\"like_count\":0,\"quote_count\":0},\"lang\":\"en\"},{\"source\":\"Twitter for iPhone\",\"possibly_sensitive\":false,\"id\":\"1467926782997196800\",\"text\":\"RT @patsajak: Due to supply chain issues, Wheel of Fortune players will be limited to three vowel purchases per show until further notice.\",\"created_at\":\"2021-12-06T18:39:52.000Z\",\"public_metrics\":{\"retweet_count\":830,\"reply_count\":0,\"like_count\":0,\"quote_count\":0},\"lang\":\"en\"},{\"source\":\"Twitter Web App\",\"possibly_sensitive\":false,\"id\":\"1467926688927399936\",\"text\":\"RT @patsajak: Due to supply chain issues, Wheel of Fortune players will be limited to three vowel purchases per show until further notice.\",\"created_at\":\"2021-12-06T18:39:30.000Z\",\"public_metrics\":{\"retweet_count\":830,\"reply_count\":0,\"like_count\":0,\"quote_count\":0},\"lang\":\"en\"},{\"source\":\"Twitter for Android\",\"possibly_sensitive\":false,\"id\":\"1467926586527604736\",\"text\":\"RT @patsajak: Due to supply chain issues, Wheel of Fortune players will be limited to three vowel purchases per show until further notice.\",\"created_at\":\"2021-12-06T18:39:05.000Z\",\"public_metrics\":{\"retweet_count\":830,\"reply_count\":0,\"like_count\":0,\"quote_count\":0},\"lang\":\"en\"},{\"source\":\"Twitter for Android\",\"possibly_sensitive\":false,\"id\":\"1467926527698685953\",\"text\":\"RT @patsajak: Due to supply chain issues, Wheel of Fortune players will be limited to three vowel purchases per show until further notice.\",\"created_at\":\"2021-12-06T18:38:51.000Z\",\"public_metrics\":{\"retweet_count\":830,\"reply_count\":0,\"like_count\":0,\"quote_count\":0},\"lang\":\"en\"},{\"source\":\"Twitter Web App\",\"possibly_sensitive\":false,\"id\":\"1467926525664235527\",\"text\":\"RT @patsajak: Due to supply chain issues, Wheel of Fortune players will be limited to three vowel purchases per show until further notice.\",\"created_at\":\"2021-12-06T18:38:51.000Z\",\"public_metrics\":{\"retweet_count\":830,\"reply_count\":0,\"like_count\":0,\"quote_count\":0},\"lang\":\"en\"},{\"source\":\"Twitter for Android\",\"possibly_sensitive\":false,\"id\":\"1467926348937236495\",\"text\":\"RT @patsajak: Due to supply chain issues, Wheel of Fortune players will be limited to three vowel purchases per show until further notice.\",\"created_at\":\"2021-12-06T18:38:08.000Z\",\"public_metrics\":{\"retweet_count\":830,\"reply_count\":0,\"like_count\":0,\"quote_count\":0},\"lang\":\"en\"},{\"source\":\"Twitter for iPhone\",\"possibly_sensitive\":false,\"id\":\"1467926234831015939\",\"text\":\"RT @patsajak: Due to supply chain issues, Wheel of Fortune players will be limited to three vowel purchases per show until further notice.\",\"created_at\":\"2021-12-06T18:37:41.000Z\",\"public_metrics\":{\"retweet_count\":830,\"reply_count\":0,\"like_count\":0,\"quote_count\":0},\"lang\":\"en\"},{\"source\":\"Twitter for Mac\",\"possibly_sensitive\":false,\"id\":\"1467926223368036354\",\"text\":\"RT @patsajak: Due to supply chain issues, Wheel of Fortune players will be limited to three vowel purchases per show until further notice.\",\"created_at\":\"2021-12-06T18:37:39.000Z\",\"public_metrics\":{\"retweet_count\":830,\"reply_count\":0,\"like_count\":0,\"quote_count\":0},\"lang\":\"en\"},{\"source\":\"Twitter for iPhone\",\"possibly_sensitive\":false,\"id\":\"1467926031638188038\",\"text\":\"RT @patsajak: Due to supply chain issues, Wheel of Fortune players will be limited to three vowel purchases per show until further notice.\",\"created_at\":\"2021-12-06T18:36:53.000Z\",\"public_metrics\":{\"retweet_count\":830,\"reply_count\":0,\"like_count\":0,\"quote_count\":0},\"lang\":\"en\"},{\"source\":\"Twitter Web App\",\"possibly_sensitive\":false,\"id\":\"1467925989883793410\",\"text\":\"RT @patsajak: Due to supply chain issues, Wheel of Fortune players will be limited to three vowel purchases per show until further notice.\",\"created_at\":\"2021-12-06T18:36:43.000Z\",\"public_metrics\":{\"retweet_count\":830,\"reply_count\":0,\"like_count\":0,\"quote_count\":0},\"lang\":\"en\"},{\"source\":\"Twitter for iPhone\",\"possibly_sensitive\":false,\"id\":\"1467925938465738755\",\"text\":\"RT @patsajak: Due to supply chain issues, Wheel of Fortune players will be limited to three vowel purchases per show until further notice.\",\"created_at\":\"2021-12-06T18:36:31.000Z\",\"public_metrics\":{\"retweet_count\":830,\"reply_count\":0,\"like_count\":0,\"quote_count\":0},\"lang\":\"en\"},{\"source\":\"Twitter for iPhone\",\"possibly_sensitive\":false,\"id\":\"1467925653148389380\",\"text\":\"RT @patsajak: Due to supply chain issues, Wheel of Fortune players will be limited to three vowel purchases per show until further notice.\",\"created_at\":\"2021-12-06T18:35:23.000Z\",\"public_metrics\":{\"retweet_count\":830,\"reply_count\":0,\"like_count\":0,\"quote_count\":0},\"lang\":\"en\"},{\"source\":\"Twitter for iPhone\",\"possibly_sensitive\":false,\"id\":\"1467925438907486209\",\"text\":\"@patsajak Love that we can blame all shortages on the supply chain!  \\\\uD83D\\\\uDE0A\",\"created_at\":\"2021-12-06T18:34:32.000Z\",\"public_metrics\":{\"retweet_count\":0,\"reply_count\":1,\"like_count\":0,\"quote_count\":0},\"lang\":\"en\"},{\"source\":\"Twitter for Android\",\"possibly_sensitive\":false,\"id\":\"1467925405168455680\",\"text\":\"RT @patsajak: Due to supply chain issues, Wheel of Fortune players will be limited to three vowel purchases per show until further notice.\",\"created_at\":\"2021-12-06T18:34:23.000Z\",\"public_metrics\":{\"retweet_count\":830,\"reply_count\":0,\"like_count\":0,\"quote_count\":0},\"lang\":\"en\"},{\"source\":\"Twitter Web App\",\"possibly_sensitive\":false,\"id\":\"1467925078335705095\",\"text\":\"@patsajak Maybe they\\'ll stop buying a vowel immediately before solving it (and when it\\'s clear that they already knew what the answer was but bought a vowel anyway).\",\"created_at\":\"2021-12-06T18:33:06.000Z\",\"public_metrics\":{\"retweet_count\":0,\"reply_count\":0,\"like_count\":0,\"quote_count\":0},\"lang\":\"en\"},{\"source\":\"Twitter for Android\",\"possibly_sensitive\":false,\"id\":\"1467925054193381377\",\"text\":\"RT @bluegrass24: Seawing princesses!! I like headcanon that they all inherited from their father the light markings near their eyes\\\\n\\\\n#sketc…\",\"created_at\":\"2021-12-06T18:33:00.000Z\",\"public_metrics\":{\"retweet_count\":16,\"reply_count\":0,\"like_count\":0,\"quote_count\":0},\"lang\":\"en\"},{\"source\":\"Twitter for iPhone\",\"possibly_sensitive\":false,\"id\":\"1467924922366578688\",\"text\":\"RT @bluegrass24: Seawing princesses!! I like headcanon that they all inherited from their father the light markings near their eyes\\\\n\\\\n#sketc…\",\"created_at\":\"2021-12-06T18:32:28.000Z\",\"public_metrics\":{\"retweet_count\":16,\"reply_count\":0,\"like_count\":0,\"quote_count\":0},\"lang\":\"en\"},{\"source\":\"Twitter for iPad\",\"possibly_sensitive\":false,\"id\":\"1467924864417861643\",\"text\":\"RT @patsajak: Due to supply chain issues, Wheel of Fortune players will be limited to three vowel purchases per show until further notice.\",\"created_at\":\"2021-12-06T18:32:15.000Z\",\"public_metrics\":{\"retweet_count\":830,\"reply_count\":0,\"like_count\":0,\"quote_count\":0},\"lang\":\"en\"},{\"source\":\"Twitter for iPhone\",\"possibly_sensitive\":false,\"id\":\"1467924850413088777\",\"text\":\"@patsajak @Richard_Harambe And please do not select X then buy an I as this may insult someone.\",\"created_at\":\"2021-12-06T18:32:11.000Z\",\"public_metrics\":{\"retweet_count\":0,\"reply_count\":0,\"like_count\":0,\"quote_count\":0},\"lang\":\"en\"},{\"source\":\"Twitter for Android\",\"possibly_sensitive\":false,\"id\":\"1467924623794880521\",\"text\":\"RT @patsajak: Due to supply chain issues, Wheel of Fortune players will be limited to three vowel purchases per show until further notice.\",\"created_at\":\"2021-12-06T18:31:17.000Z\",\"public_metrics\":{\"retweet_count\":830,\"reply_count\":0,\"like_count\":0,\"quote_count\":0},\"lang\":\"en\"},{\"source\":\"Twitter for Android\",\"possibly_sensitive\":false,\"id\":\"1467924459025846276\",\"text\":\"RT @patsajak: Due to supply chain issues, Wheel of Fortune players will be limited to three vowel purchases per show until further notice.\",\"created_at\":\"2021-12-06T18:30:38.000Z\",\"public_metrics\":{\"retweet_count\":830,\"reply_count\":0,\"like_count\":0,\"quote_count\":0},\"lang\":\"en\"},{\"source\":\"Twitter for iPad\",\"possibly_sensitive\":false,\"id\":\"1467924368110063628\",\"text\":\"@TonyBrunoShow @patsajak I forgot that they used to have to shop on Wheel of Fortune!\\\\uD83D\\\\uDE02\\\\uD83E\\\\uDD23\",\"created_at\":\"2021-12-06T18:30:16.000Z\",\"public_metrics\":{\"retweet_count\":0,\"reply_count\":0,\"like_count\":2,\"quote_count\":0},\"lang\":\"en\"},{\"source\":\"Twitter for iPad\",\"possibly_sensitive\":false,\"id\":\"1467924128623517703\",\"text\":\"RT @patsajak: Due to supply chain issues, Wheel of Fortune players will be limited to three vowel purchases per show until further notice.\",\"created_at\":\"2021-12-06T18:29:19.000Z\",\"public_metrics\":{\"retweet_count\":830,\"reply_count\":0,\"like_count\":0,\"quote_count\":0},\"lang\":\"en\"},{\"source\":\"Twitter for iPhone\",\"possibly_sensitive\":false,\"attachments\":{\"media_keys\":[\"3_1467924035145134082\"]},\"id\":\"1467924039058345987\",\"text\":\"4 bbs open for offers &lt;3 PayPal offers are preferred but willing to look at offers! (used albluu’s rad base :) )\\\\n#adoptable #adopts #adoptables #dragon #dragonoc #art #digitalart #furry #furryartist #furryadopt #wof #WingsofFire #wofadopt #fantasy #dragons #OC #ocadopt #hqdesign https://t.co/MRQrlTVxI6\",\"created_at\":\"2021-12-06T18:28:58.000Z\",\"public_metrics\":{\"retweet_count\":1,\"reply_count\":0,\"like_count\":2,\"quote_count\":0},\"lang\":\"en\"},{\"source\":\"Twitter for iPhone\",\"possibly_sensitive\":false,\"id\":\"1467923944359575561\",\"text\":\"RT @patsajak: Due to supply chain issues, Wheel of Fortune players will be limited to three vowel purchases per show until further notice.\",\"created_at\":\"2021-12-06T18:28:35.000Z\",\"public_metrics\":{\"retweet_count\":830,\"reply_count\":0,\"like_count\":0,\"quote_count\":0},\"lang\":\"en\"},{\"source\":\"Twitter for iPhone\",\"possibly_sensitive\":false,\"id\":\"1467923800704626689\",\"text\":\"@patsajak You\\'re so funny! \\\\uD83D\\\\uDE02\",\"created_at\":\"2021-12-06T18:28:01.000Z\",\"public_metrics\":{\"retweet_count\":0,\"reply_count\":0,\"like_count\":0,\"quote_count\":0},\"lang\":\"en\"},{\"source\":\"Twitter Web App\",\"possibly_sensitive\":false,\"id\":\"1467923799161344000\",\"text\":\"RT @patsajak: Due to supply chain issues, Wheel of Fortune players will be limited to three vowel purchases per show until further notice.\",\"created_at\":\"2021-12-06T18:28:01.000Z\",\"public_metrics\":{\"retweet_count\":830,\"reply_count\":0,\"like_count\":0,\"quote_count\":0},\"lang\":\"en\"},{\"source\":\"Twitter for iPhone\",\"possibly_sensitive\":false,\"id\":\"1467923797865123842\",\"text\":\"RT @patsajak: Due to supply chain issues, Wheel of Fortune players will be limited to three vowel purchases per show until further notice.\",\"created_at\":\"2021-12-06T18:28:00.000Z\",\"public_metrics\":{\"retweet_count\":830,\"reply_count\":0,\"like_count\":0,\"quote_count\":0},\"lang\":\"en\"},{\"source\":\"Twitter Web App\",\"possibly_sensitive\":false,\"id\":\"1467923786569818118\",\"text\":\"RT @mom2zwr: @TonyBrunoShow @patsajak You always had to buy the $50 Faberge Organics shampoo too.\\\\n\\\\nI\\'ll take the rest on a Van Cleef &amp; Arpe…\",\"created_at\":\"2021-12-06T18:27:58.000Z\",\"public_metrics\":{\"retweet_count\":1,\"reply_count\":0,\"like_count\":0,\"quote_count\":0},\"lang\":\"en\"},{\"source\":\"Twitter for iPhone\",\"possibly_sensitive\":false,\"id\":\"1467923745406922758\",\"text\":\"RT @patsajak: Due to supply chain issues, Wheel of Fortune players will be limited to three vowel purchases per show until further notice.\",\"created_at\":\"2021-12-06T18:27:48.000Z\",\"public_metrics\":{\"retweet_count\":830,\"reply_count\":0,\"like_count\":0,\"quote_count\":0},\"lang\":\"en\"},{\"source\":\"Twitter for Android\",\"possibly_sensitive\":false,\"id\":\"1467923646291263493\",\"text\":\"@TonyBrunoShow @patsajak You always had to buy the $50 Faberge Organics shampoo too.\\\\n\\\\nI\\'ll take the rest on a Van Cleef &amp; Arpels gift certificate,  Pat.\",\"created_at\":\"2021-12-06T18:27:24.000Z\",\"public_metrics\":{\"retweet_count\":1,\"reply_count\":0,\"like_count\":2,\"quote_count\":0},\"lang\":\"en\"},{\"source\":\"Twitter for iPhone\",\"possibly_sensitive\":false,\"id\":\"1467923568918941698\",\"text\":\"RT @patsajak: Due to supply chain issues, Wheel of Fortune players will be limited to three vowel purchases per show until further notice.\",\"created_at\":\"2021-12-06T18:27:06.000Z\",\"public_metrics\":{\"retweet_count\":830,\"reply_count\":0,\"like_count\":0,\"quote_count\":0},\"lang\":\"en\"},{\"source\":\"Twitter Web App\",\"possibly_sensitive\":false,\"id\":\"1467923530733993986\",\"text\":\"RT @patsajak: Due to supply chain issues, Wheel of Fortune players will be limited to three vowel purchases per show until further notice.\",\"created_at\":\"2021-12-06T18:26:57.000Z\",\"public_metrics\":{\"retweet_count\":830,\"reply_count\":0,\"like_count\":0,\"quote_count\":0},\"lang\":\"en\"},{\"source\":\"Twitter for Android\",\"possibly_sensitive\":false,\"id\":\"1467923522022514699\",\"text\":\"RT @patsajak: Due to supply chain issues, Wheel of Fortune players will be limited to three vowel purchases per show until further notice.\",\"created_at\":\"2021-12-06T18:26:55.000Z\",\"public_metrics\":{\"retweet_count\":830,\"reply_count\":0,\"like_count\":0,\"quote_count\":0},\"lang\":\"en\"},{\"source\":\"Twitter for iPhone\",\"possibly_sensitive\":false,\"id\":\"1467923500107239425\",\"text\":\"RT @bluegrass24: We definitely need to talk about the fact that Icicle is just a child raised without love and manipulated by Scarlet. She\\'…\",\"created_at\":\"2021-12-06T18:26:49.000Z\",\"public_metrics\":{\"retweet_count\":29,\"reply_count\":0,\"like_count\":0,\"quote_count\":0},\"lang\":\"en\"},{\"source\":\"Twitter for iPhone\",\"possibly_sensitive\":false,\"id\":\"1467923476216524807\",\"text\":\"RT @patsajak: Due to supply chain issues, Wheel of Fortune players will be limited to three vowel purchases per show until further notice.\",\"created_at\":\"2021-12-06T18:26:44.000Z\",\"public_metrics\":{\"retweet_count\":830,\"reply_count\":0,\"like_count\":0,\"quote_count\":0},\"lang\":\"en\"},{\"source\":\"Twitter for iPhone\",\"possibly_sensitive\":false,\"id\":\"1467923247106772998\",\"text\":\"RT @patsajak: Due to supply chain issues, Wheel of Fortune players will be limited to three vowel purchases per show until further notice.\",\"created_at\":\"2021-12-06T18:25:49.000Z\",\"public_metrics\":{\"retweet_count\":830,\"reply_count\":0,\"like_count\":0,\"quote_count\":0},\"lang\":\"en\"},{\"source\":\"Twitter Web App\",\"possibly_sensitive\":false,\"id\":\"1467923206040338436\",\"text\":\"RT @patsajak: Due to supply chain issues, Wheel of Fortune players will be limited to three vowel purchases per show until further notice.\",\"created_at\":\"2021-12-06T18:25:39.000Z\",\"public_metrics\":{\"retweet_count\":830,\"reply_count\":0,\"like_count\":0,\"quote_count\":0},\"lang\":\"en\"},{\"source\":\"Twitter for iPhone\",\"possibly_sensitive\":false,\"id\":\"1467923087383433217\",\"text\":\"RT @patsajak: Due to supply chain issues, Wheel of Fortune players will be limited to three vowel purchases per show until further notice.\",\"created_at\":\"2021-12-06T18:25:11.000Z\",\"public_metrics\":{\"retweet_count\":830,\"reply_count\":0,\"like_count\":0,\"quote_count\":0},\"lang\":\"en\"},{\"source\":\"Twitter for iPhone\",\"possibly_sensitive\":false,\"id\":\"1467923080802496516\",\"text\":\"RT @patsajak: Due to supply chain issues, Wheel of Fortune players will be limited to three vowel purchases per show until further notice.\",\"created_at\":\"2021-12-06T18:25:09.000Z\",\"public_metrics\":{\"retweet_count\":830,\"reply_count\":0,\"like_count\":0,\"quote_count\":0},\"lang\":\"en\"},{\"source\":\"Twitter Web App\",\"possibly_sensitive\":false,\"id\":\"1467923000758620164\",\"text\":\"RT @patsajak: Due to supply chain issues, Wheel of Fortune players will be limited to three vowel purchases per show until further notice.\",\"created_at\":\"2021-12-06T18:24:50.000Z\",\"public_metrics\":{\"retweet_count\":830,\"reply_count\":0,\"like_count\":0,\"quote_count\":0},\"lang\":\"en\"},{\"source\":\"Twitter for iPhone\",\"possibly_sensitive\":false,\"id\":\"1467922929371467790\",\"text\":\"RT @patsajak: Due to supply chain issues, Wheel of Fortune players will be limited to three vowel purchases per show until further notice.\",\"created_at\":\"2021-12-06T18:24:33.000Z\",\"public_metrics\":{\"retweet_count\":830,\"reply_count\":0,\"like_count\":0,\"quote_count\":0},\"lang\":\"en\"},{\"source\":\"Twitter for iPhone\",\"possibly_sensitive\":false,\"id\":\"1467922911256322056\",\"text\":\"@patsajak Now that’s comedy we can all enjoy\\\\uD83D\\\\uDC4D.  I pray one day @iamcolinquinn and @marknorm  can be brave enough to follow your lead.\",\"created_at\":\"2021-12-06T18:24:29.000Z\",\"public_metrics\":{\"retweet_count\":0,\"reply_count\":0,\"like_count\":0,\"quote_count\":0},\"lang\":\"en\"},{\"source\":\"Twitter for Android\",\"possibly_sensitive\":false,\"id\":\"1467922812463628297\",\"text\":\"RT @patsajak: Due to supply chain issues, Wheel of Fortune players will be limited to three vowel purchases per show until further notice.\",\"created_at\":\"2021-12-06T18:24:05.000Z\",\"public_metrics\":{\"retweet_count\":830,\"reply_count\":0,\"like_count\":0,\"quote_count\":0},\"lang\":\"en\"},{\"source\":\"Twitter for Android\",\"possibly_sensitive\":false,\"id\":\"1467922454152634369\",\"text\":\"RT @patsajak: Due to supply chain issues, Wheel of Fortune players will be limited to three vowel purchases per show until further notice.\",\"created_at\":\"2021-12-06T18:22:40.000Z\",\"public_metrics\":{\"retweet_count\":830,\"reply_count\":0,\"like_count\":0,\"quote_count\":0},\"lang\":\"en\"},{\"source\":\"Twitter for Android\",\"possibly_sensitive\":false,\"id\":\"1467922352939884545\",\"text\":\"RT @patsajak: Due to supply chain issues, Wheel of Fortune players will be limited to three vowel purchases per show until further notice.\",\"created_at\":\"2021-12-06T18:22:16.000Z\",\"public_metrics\":{\"retweet_count\":830,\"reply_count\":0,\"like_count\":0,\"quote_count\":0},\"lang\":\"en\"},{\"source\":\"Twitter Web App\",\"possibly_sensitive\":false,\"id\":\"1467922151055446016\",\"text\":\"@patsajak the whole world went to hell when the ceramic Dalmatians couldn\\'t meet California\\'s strict lead and asbestos regulations and were dumped into the LaBrae  Tar Pits.\",\"created_at\":\"2021-12-06T18:21:28.000Z\",\"public_metrics\":{\"retweet_count\":0,\"reply_count\":4,\"like_count\":21,\"quote_count\":0},\"lang\":\"en\"},{\"source\":\"Twitter for iPhone\",\"possibly_sensitive\":false,\"id\":\"1467921884570341386\",\"text\":\"RT @patsajak: Due to supply chain issues, Wheel of Fortune players will be limited to three vowel purchases per show until further notice.\",\"created_at\":\"2021-12-06T18:20:24.000Z\",\"public_metrics\":{\"retweet_count\":830,\"reply_count\":0,\"like_count\":0,\"quote_count\":0},\"lang\":\"en\"},{\"source\":\"Twitter for Android\",\"possibly_sensitive\":false,\"id\":\"1467921869340770304\",\"text\":\"RT @patsajak: Due to supply chain issues, Wheel of Fortune players will be limited to three vowel purchases per show until further notice.\",\"created_at\":\"2021-12-06T18:20:20.000Z\",\"public_metrics\":{\"retweet_count\":830,\"reply_count\":0,\"like_count\":0,\"quote_count\":0},\"lang\":\"en\"},{\"source\":\"Twitter Web App\",\"possibly_sensitive\":false,\"id\":\"1467921833064239104\",\"text\":\"RT @patsajak: Due to supply chain issues, Wheel of Fortune players will be limited to three vowel purchases per show until further notice.\",\"created_at\":\"2021-12-06T18:20:12.000Z\",\"public_metrics\":{\"retweet_count\":830,\"reply_count\":0,\"like_count\":0,\"quote_count\":0},\"lang\":\"en\"},{\"source\":\"Twitter for iPhone\",\"possibly_sensitive\":false,\"id\":\"1467921654928252928\",\"text\":\"RT @patsajak: Due to supply chain issues, Wheel of Fortune players will be limited to three vowel purchases per show until further notice.\",\"created_at\":\"2021-12-06T18:19:29.000Z\",\"public_metrics\":{\"retweet_count\":830,\"reply_count\":0,\"like_count\":0,\"quote_count\":0},\"lang\":\"en\"},{\"source\":\"Twitter for Android\",\"possibly_sensitive\":false,\"id\":\"1467921459985195021\",\"text\":\"RT @patsajak: Due to supply chain issues, Wheel of Fortune players will be limited to three vowel purchases per show until further notice.\",\"created_at\":\"2021-12-06T18:18:43.000Z\",\"public_metrics\":{\"retweet_count\":830,\"reply_count\":0,\"like_count\":0,\"quote_count\":0},\"lang\":\"en\"},{\"source\":\"Twitter Web App\",\"possibly_sensitive\":false,\"id\":\"1467921456986263555\",\"text\":\"RT @patsajak: Due to supply chain issues, Wheel of Fortune players will be limited to three vowel purchases per show until further notice.\",\"created_at\":\"2021-12-06T18:18:42.000Z\",\"public_metrics\":{\"retweet_count\":830,\"reply_count\":0,\"like_count\":0,\"quote_count\":0},\"lang\":\"en\"},{\"source\":\"Twitter Web App\",\"possibly_sensitive\":false,\"id\":\"1467921384852525059\",\"text\":\"RT @patsajak: Due to supply chain issues, Wheel of Fortune players will be limited to three vowel purchases per show until further notice.\",\"created_at\":\"2021-12-06T18:18:25.000Z\",\"public_metrics\":{\"retweet_count\":830,\"reply_count\":0,\"like_count\":0,\"quote_count\":0},\"lang\":\"en\"},{\"source\":\"Twitter Web App\",\"possibly_sensitive\":false,\"id\":\"1467921324500819977\",\"text\":\"RT @patsajak: Due to supply chain issues, Wheel of Fortune players will be limited to three vowel purchases per show until further notice.\",\"created_at\":\"2021-12-06T18:18:11.000Z\",\"public_metrics\":{\"retweet_count\":830,\"reply_count\":0,\"like_count\":0,\"quote_count\":0},\"lang\":\"en\"},{\"source\":\"Twitter for Android\",\"possibly_sensitive\":false,\"id\":\"1467921216597938176\",\"text\":\"@patsajak H grt! Nw thr wll b vwll shrtge!!!!!\",\"created_at\":\"2021-12-06T18:17:45.000Z\",\"public_metrics\":{\"retweet_count\":0,\"reply_count\":0,\"like_count\":1,\"quote_count\":0},\"lang\":\"en\"},{\"source\":\"Twitter for iPhone\",\"possibly_sensitive\":false,\"id\":\"1467920865270513667\",\"text\":\"RT @patsajak: Due to supply chain issues, Wheel of Fortune players will be limited to three vowel purchases per show until further notice.\",\"created_at\":\"2021-12-06T18:16:21.000Z\",\"public_metrics\":{\"retweet_count\":830,\"reply_count\":0,\"like_count\":0,\"quote_count\":0},\"lang\":\"en\"}],\"meta\":{\"newest_id\":\"1467929823112835073\",\"oldest_id\":\"1467920865270513667\",\"result_count\":100,\"next_token\":\"b26v89c19zqg8o3fpdy8isea0rvpayln6ui8jrxaz8epp\"}}'"
      ]
     },
     "execution_count": 103,
     "metadata": {},
     "output_type": "execute_result"
    }
   ],
   "source": [
    "response_W5.text"
   ]
  },
  {
   "cell_type": "code",
   "execution_count": 104,
   "id": "7782052d",
   "metadata": {},
   "outputs": [],
   "source": [
    "my_df2 = my_df2.append(pd.DataFrame(json.loads(response_W5.text)['data']), ignore_index= True)"
   ]
  },
  {
   "cell_type": "code",
   "execution_count": 105,
   "id": "4d216181",
   "metadata": {},
   "outputs": [
    {
     "data": {
      "text/html": [
       "<div>\n",
       "<style scoped>\n",
       "    .dataframe tbody tr th:only-of-type {\n",
       "        vertical-align: middle;\n",
       "    }\n",
       "\n",
       "    .dataframe tbody tr th {\n",
       "        vertical-align: top;\n",
       "    }\n",
       "\n",
       "    .dataframe thead th {\n",
       "        text-align: right;\n",
       "    }\n",
       "</style>\n",
       "<table border=\"1\" class=\"dataframe\">\n",
       "  <thead>\n",
       "    <tr style=\"text-align: right;\">\n",
       "      <th></th>\n",
       "      <th>lang</th>\n",
       "      <th>public_metrics</th>\n",
       "      <th>id</th>\n",
       "      <th>possibly_sensitive</th>\n",
       "      <th>text</th>\n",
       "      <th>author_id</th>\n",
       "      <th>created_at</th>\n",
       "      <th>source</th>\n",
       "      <th>attachments</th>\n",
       "    </tr>\n",
       "  </thead>\n",
       "  <tbody>\n",
       "    <tr>\n",
       "      <th>0</th>\n",
       "      <td>en</td>\n",
       "      <td>{'retweet_count': 0, 'reply_count': 0, 'like_c...</td>\n",
       "      <td>1467979913923895298</td>\n",
       "      <td>False</td>\n",
       "      <td>@glaad @Jeopardamy @emilyvdw @Jeopardy Thanx f...</td>\n",
       "      <td>995446130967302144</td>\n",
       "      <td>2021-12-06T22:10:59.000Z</td>\n",
       "      <td>Twitter for iPhone</td>\n",
       "      <td>NaN</td>\n",
       "    </tr>\n",
       "    <tr>\n",
       "      <th>1</th>\n",
       "      <td>en</td>\n",
       "      <td>{'retweet_count': 0, 'reply_count': 0, 'like_c...</td>\n",
       "      <td>1467979782197592075</td>\n",
       "      <td>False</td>\n",
       "      <td>Format: 8-day first round, four profs per day,...</td>\n",
       "      <td>770293085771210752</td>\n",
       "      <td>2021-12-06T22:10:28.000Z</td>\n",
       "      <td>Twitter for iPhone</td>\n",
       "      <td>NaN</td>\n",
       "    </tr>\n",
       "    <tr>\n",
       "      <th>2</th>\n",
       "      <td>en</td>\n",
       "      <td>{'retweet_count': 0, 'reply_count': 0, 'like_c...</td>\n",
       "      <td>1467979250372431878</td>\n",
       "      <td>False</td>\n",
       "      <td>Y'all my professor is going to be a contestant...</td>\n",
       "      <td>2932977243</td>\n",
       "      <td>2021-12-06T22:08:21.000Z</td>\n",
       "      <td>Twitter for iPhone</td>\n",
       "      <td>NaN</td>\n",
       "    </tr>\n",
       "    <tr>\n",
       "      <th>3</th>\n",
       "      <td>en</td>\n",
       "      <td>{'retweet_count': 0, 'reply_count': 1, 'like_c...</td>\n",
       "      <td>1467978490758811657</td>\n",
       "      <td>False</td>\n",
       "      <td>The @Jeopardy Professors Tournament begins tod...</td>\n",
       "      <td>770293085771210752</td>\n",
       "      <td>2021-12-06T22:05:20.000Z</td>\n",
       "      <td>Twitter for iPhone</td>\n",
       "      <td>NaN</td>\n",
       "    </tr>\n",
       "    <tr>\n",
       "      <th>4</th>\n",
       "      <td>en</td>\n",
       "      <td>{'retweet_count': 0, 'reply_count': 0, 'like_c...</td>\n",
       "      <td>1467978245861691397</td>\n",
       "      <td>False</td>\n",
       "      <td>The lovely @missmayim is back hosting @jeopard...</td>\n",
       "      <td>355147215</td>\n",
       "      <td>2021-12-06T22:04:22.000Z</td>\n",
       "      <td>Twitter for Android</td>\n",
       "      <td>NaN</td>\n",
       "    </tr>\n",
       "    <tr>\n",
       "      <th>...</th>\n",
       "      <td>...</td>\n",
       "      <td>...</td>\n",
       "      <td>...</td>\n",
       "      <td>...</td>\n",
       "      <td>...</td>\n",
       "      <td>...</td>\n",
       "      <td>...</td>\n",
       "      <td>...</td>\n",
       "      <td>...</td>\n",
       "    </tr>\n",
       "    <tr>\n",
       "      <th>495</th>\n",
       "      <td>en</td>\n",
       "      <td>{'retweet_count': 830, 'reply_count': 0, 'like...</td>\n",
       "      <td>1467921456986263555</td>\n",
       "      <td>False</td>\n",
       "      <td>RT @patsajak: Due to supply chain issues, Whee...</td>\n",
       "      <td>NaN</td>\n",
       "      <td>2021-12-06T18:18:42.000Z</td>\n",
       "      <td>Twitter Web App</td>\n",
       "      <td>NaN</td>\n",
       "    </tr>\n",
       "    <tr>\n",
       "      <th>496</th>\n",
       "      <td>en</td>\n",
       "      <td>{'retweet_count': 830, 'reply_count': 0, 'like...</td>\n",
       "      <td>1467921384852525059</td>\n",
       "      <td>False</td>\n",
       "      <td>RT @patsajak: Due to supply chain issues, Whee...</td>\n",
       "      <td>NaN</td>\n",
       "      <td>2021-12-06T18:18:25.000Z</td>\n",
       "      <td>Twitter Web App</td>\n",
       "      <td>NaN</td>\n",
       "    </tr>\n",
       "    <tr>\n",
       "      <th>497</th>\n",
       "      <td>en</td>\n",
       "      <td>{'retweet_count': 830, 'reply_count': 0, 'like...</td>\n",
       "      <td>1467921324500819977</td>\n",
       "      <td>False</td>\n",
       "      <td>RT @patsajak: Due to supply chain issues, Whee...</td>\n",
       "      <td>NaN</td>\n",
       "      <td>2021-12-06T18:18:11.000Z</td>\n",
       "      <td>Twitter Web App</td>\n",
       "      <td>NaN</td>\n",
       "    </tr>\n",
       "    <tr>\n",
       "      <th>498</th>\n",
       "      <td>en</td>\n",
       "      <td>{'retweet_count': 0, 'reply_count': 0, 'like_c...</td>\n",
       "      <td>1467921216597938176</td>\n",
       "      <td>False</td>\n",
       "      <td>@patsajak H grt! Nw thr wll b vwll shrtge!!!!!</td>\n",
       "      <td>NaN</td>\n",
       "      <td>2021-12-06T18:17:45.000Z</td>\n",
       "      <td>Twitter for Android</td>\n",
       "      <td>NaN</td>\n",
       "    </tr>\n",
       "    <tr>\n",
       "      <th>499</th>\n",
       "      <td>en</td>\n",
       "      <td>{'retweet_count': 830, 'reply_count': 0, 'like...</td>\n",
       "      <td>1467920865270513667</td>\n",
       "      <td>False</td>\n",
       "      <td>RT @patsajak: Due to supply chain issues, Whee...</td>\n",
       "      <td>NaN</td>\n",
       "      <td>2021-12-06T18:16:21.000Z</td>\n",
       "      <td>Twitter for iPhone</td>\n",
       "      <td>NaN</td>\n",
       "    </tr>\n",
       "  </tbody>\n",
       "</table>\n",
       "<p>500 rows × 9 columns</p>\n",
       "</div>"
      ],
      "text/plain": [
       "    lang                                     public_metrics  \\\n",
       "0     en  {'retweet_count': 0, 'reply_count': 0, 'like_c...   \n",
       "1     en  {'retweet_count': 0, 'reply_count': 0, 'like_c...   \n",
       "2     en  {'retweet_count': 0, 'reply_count': 0, 'like_c...   \n",
       "3     en  {'retweet_count': 0, 'reply_count': 1, 'like_c...   \n",
       "4     en  {'retweet_count': 0, 'reply_count': 0, 'like_c...   \n",
       "..   ...                                                ...   \n",
       "495   en  {'retweet_count': 830, 'reply_count': 0, 'like...   \n",
       "496   en  {'retweet_count': 830, 'reply_count': 0, 'like...   \n",
       "497   en  {'retweet_count': 830, 'reply_count': 0, 'like...   \n",
       "498   en  {'retweet_count': 0, 'reply_count': 0, 'like_c...   \n",
       "499   en  {'retweet_count': 830, 'reply_count': 0, 'like...   \n",
       "\n",
       "                      id  possibly_sensitive  \\\n",
       "0    1467979913923895298               False   \n",
       "1    1467979782197592075               False   \n",
       "2    1467979250372431878               False   \n",
       "3    1467978490758811657               False   \n",
       "4    1467978245861691397               False   \n",
       "..                   ...                 ...   \n",
       "495  1467921456986263555               False   \n",
       "496  1467921384852525059               False   \n",
       "497  1467921324500819977               False   \n",
       "498  1467921216597938176               False   \n",
       "499  1467920865270513667               False   \n",
       "\n",
       "                                                  text           author_id  \\\n",
       "0    @glaad @Jeopardamy @emilyvdw @Jeopardy Thanx f...  995446130967302144   \n",
       "1    Format: 8-day first round, four profs per day,...  770293085771210752   \n",
       "2    Y'all my professor is going to be a contestant...          2932977243   \n",
       "3    The @Jeopardy Professors Tournament begins tod...  770293085771210752   \n",
       "4    The lovely @missmayim is back hosting @jeopard...           355147215   \n",
       "..                                                 ...                 ...   \n",
       "495  RT @patsajak: Due to supply chain issues, Whee...                 NaN   \n",
       "496  RT @patsajak: Due to supply chain issues, Whee...                 NaN   \n",
       "497  RT @patsajak: Due to supply chain issues, Whee...                 NaN   \n",
       "498     @patsajak H grt! Nw thr wll b vwll shrtge!!!!!                 NaN   \n",
       "499  RT @patsajak: Due to supply chain issues, Whee...                 NaN   \n",
       "\n",
       "                   created_at               source attachments  \n",
       "0    2021-12-06T22:10:59.000Z   Twitter for iPhone         NaN  \n",
       "1    2021-12-06T22:10:28.000Z   Twitter for iPhone         NaN  \n",
       "2    2021-12-06T22:08:21.000Z   Twitter for iPhone         NaN  \n",
       "3    2021-12-06T22:05:20.000Z   Twitter for iPhone         NaN  \n",
       "4    2021-12-06T22:04:22.000Z  Twitter for Android         NaN  \n",
       "..                        ...                  ...         ...  \n",
       "495  2021-12-06T18:18:42.000Z      Twitter Web App         NaN  \n",
       "496  2021-12-06T18:18:25.000Z      Twitter Web App         NaN  \n",
       "497  2021-12-06T18:18:11.000Z      Twitter Web App         NaN  \n",
       "498  2021-12-06T18:17:45.000Z  Twitter for Android         NaN  \n",
       "499  2021-12-06T18:16:21.000Z   Twitter for iPhone         NaN  \n",
       "\n",
       "[500 rows x 9 columns]"
      ]
     },
     "execution_count": 105,
     "metadata": {},
     "output_type": "execute_result"
    }
   ],
   "source": [
    "my_df2"
   ]
  },
  {
   "cell_type": "code",
   "execution_count": 106,
   "id": "87d32743",
   "metadata": {},
   "outputs": [],
   "source": [
    "my_df.to_csv('WOF_data.csv')"
   ]
  },
  {
   "cell_type": "markdown",
   "id": "6433c812",
   "metadata": {},
   "source": [
    "Beginning to analyze data I've collected in each csv. "
   ]
  },
  {
   "cell_type": "code",
   "execution_count": 107,
   "id": "84ca61df",
   "metadata": {},
   "outputs": [],
   "source": [
    "oly = pd.read_csv('jeopardy_data.csv', encoding = 'utf-8')"
   ]
  },
  {
   "cell_type": "code",
   "execution_count": 108,
   "id": "950a7601",
   "metadata": {},
   "outputs": [
    {
     "data": {
      "text/plain": [
       "Index(['Unnamed: 0', 'lang', 'public_metrics', 'id', 'possibly_sensitive',\n",
       "       'text', 'author_id', 'created_at', 'source', 'attachments'],\n",
       "      dtype='object')"
      ]
     },
     "execution_count": 108,
     "metadata": {},
     "output_type": "execute_result"
    }
   ],
   "source": [
    "oly.keys()"
   ]
  },
  {
   "cell_type": "markdown",
   "id": "cbfaab21",
   "metadata": {},
   "source": [
    "Determining the keys in my CSV"
   ]
  },
  {
   "cell_type": "code",
   "execution_count": 118,
   "id": "7670fa66",
   "metadata": {},
   "outputs": [
    {
     "data": {
      "text/plain": [
       "0      @glaad @Jeopardamy @emilyvdw @Jeopardy Thanx f...\n",
       "1      Format: 8-day first round, four profs per day,...\n",
       "2      Y'all my professor is going to be a contestant...\n",
       "3      The @Jeopardy Professors Tournament begins tod...\n",
       "4      The lovely @missmayim is back hosting @jeopard...\n",
       "                             ...                        \n",
       "495    RT @missmayim: Hi everyone!\\n\\nTODAY IS THE DA...\n",
       "496    RT @missmayim: Hi everyone!\\n\\nTODAY IS THE DA...\n",
       "497    RT @missmayim: Hi everyone!\\n\\nTODAY IS THE DA...\n",
       "498         @missmayim @BialikBreakdown Congratulations.\n",
       "499    @missmayim @BialikBreakdown Amy Farrah Fowler ...\n",
       "Name: text, Length: 500, dtype: object"
      ]
     },
     "execution_count": 118,
     "metadata": {},
     "output_type": "execute_result"
    }
   ],
   "source": [
    "oly['text']"
   ]
  },
  {
   "cell_type": "code",
   "execution_count": 121,
   "id": "033a57d0",
   "metadata": {},
   "outputs": [
    {
     "data": {
      "text/plain": [
       "'@glaad @Jeopardamy @emilyvdw @Jeopardy Thanx for the article! My bestie &amp; I watch every day &amp; loudly root for Amy.'"
      ]
     },
     "execution_count": 121,
     "metadata": {},
     "output_type": "execute_result"
    }
   ],
   "source": [
    "oly['text'].iloc[0]"
   ]
  },
  {
   "cell_type": "markdown",
   "id": "664b0a44",
   "metadata": {},
   "source": [
    "Getting the first tweet"
   ]
  },
  {
   "cell_type": "markdown",
   "id": "6b81c631",
   "metadata": {},
   "source": [
    "### Analysis Plan:"
   ]
  },
  {
   "cell_type": "markdown",
   "id": "968cc0a0",
   "metadata": {},
   "source": [
    "I have collected 500 samples of tweets regarding Jeopardy and 500 tweets regarding Wheel of Fortune. \n",
    "\n",
    "The audience of my analysis would be Jeopardy! and Wheel of Fortune fans, and viewers of both shows.  \n",
    "\n",
    "I believe my conclusions will give me insight as to whether Twitter users are more positively talking about either WOF or Jeopardy, and also specifics about what people have to say about the hosts. So first, understanding which show is better received based on the tweets collected. I have done this by pulling data about each game and the hosts into 2 csvs. Then I will compare the comments about the hosts if applicable. Lastly, analyzing these and making conclusions based on the data presented. \n",
    "\n",
    "Weaknesses of my analysis: \n",
    "- It is a little broad\n",
    "- Jeopardy! and WOF's main audience might not be on Twitter maybe a different social media platform\n",
    "    - meaning I might only receive data from a younger or older audience\n",
    "\n",
    "Strengths of my analysis:\n",
    "- A new tournament has begun which means possibly an influx of tweets\n",
    "\n",
    "If you have any feedback on what specific tools I should use for my analysis, that would be appreciated :)\n"
   ]
  },
  {
   "cell_type": "markdown",
   "id": "87fa6304",
   "metadata": {},
   "source": []
  }
 ],
 "metadata": {
  "kernelspec": {
   "display_name": "Python 3 (ipykernel)",
   "language": "python",
   "name": "python3"
  },
  "language_info": {
   "codemirror_mode": {
    "name": "ipython",
    "version": 3
   },
   "file_extension": ".py",
   "mimetype": "text/x-python",
   "name": "python",
   "nbconvert_exporter": "python",
   "pygments_lexer": "ipython3",
   "version": "3.9.6"
  }
 },
 "nbformat": 4,
 "nbformat_minor": 5
}
